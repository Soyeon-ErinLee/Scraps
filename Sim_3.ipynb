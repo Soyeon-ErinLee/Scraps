{
  "nbformat": 4,
  "nbformat_minor": 0,
  "metadata": {
    "kernelspec": {
      "display_name": "Python 3",
      "language": "python",
      "name": "python3"
    },
    "language_info": {
      "codemirror_mode": {
        "name": "ipython",
        "version": 3
      },
      "file_extension": ".py",
      "mimetype": "text/x-python",
      "name": "python",
      "nbconvert_exporter": "python",
      "pygments_lexer": "ipython3",
      "version": "3.8.5"
    },
    "colab": {
      "name": "Sim_1.ipynb",
      "provenance": [],
      "collapsed_sections": []
    },
    "accelerator": "GPU"
  },
  "cells": [
    {
      "cell_type": "code",
      "metadata": {
        "colab": {
          "base_uri": "https://localhost:8080/"
        },
        "id": "q7EmlnM3rxvd",
        "outputId": "d20a3af5-7e74-4925-aca6-982249f503d5"
      },
      "source": [
        "from google.colab import drive\n",
        "drive.mount('/content/drive')"
      ],
      "execution_count": 1,
      "outputs": [
        {
          "output_type": "stream",
          "text": [
            "Mounted at /content/drive\n"
          ],
          "name": "stdout"
        }
      ]
    },
    {
      "cell_type": "code",
      "metadata": {
        "id": "Tu11ZWycrskS"
      },
      "source": [
        "import numpy as np\n",
        "import pandas as pd\n",
        "import matplotlib.pyplot as plt\n",
        "%matplotlib inline \n",
        "import tensorflow as tf\n",
        "import os\n",
        "from os import chdir as cd\n",
        "import warnings\n",
        "import cv2\n",
        "from matplotlib import gridspec   \n",
        "from matplotlib import cm\n",
        "from scipy import interpolate\n",
        "from scipy import stats\n",
        "from sklearn.svm import LinearSVC\n",
        "from sklearn.multiclass import OneVsOneClassifier\n",
        "from sklearn.model_selection import train_test_split\n",
        "from sklearn.preprocessing import OneHotEncoder, LabelEncoder\n",
        "import itertools\n",
        "from sklearn.metrics import confusion_matrix, f1_score, classification_report\n",
        "from tqdm import tqdm\n",
        "from tensorflow.keras.layers import Dense, Input\n",
        "import functools\n",
        "from functools import partial\n",
        "from tensorflow.keras.initializers import glorot_uniform\n",
        "from tensorflow.keras.metrics import top_k_categorical_accuracy as tCA\n",
        "from tensorflow.keras.metrics import Recall\n",
        "from tensorflow.keras.regularizers import l1,l2,l1_l2\n",
        "from tensorflow.keras.layers import Conv2D, MaxPool2D, Conv2DTranspose, UpSampling2D, BatchNormalization, MaxPooling2D, Flatten, GlobalAveragePooling2D, Activation, AveragePooling2D , ZeroPadding2D, SeparableConv2D, Dropout, add, Add\n",
        "from tensorflow.keras.models import Model, load_model , Sequential\n",
        "from tensorflow.keras.utils import plot_model, to_categorical\n",
        "from tensorflow.keras.callbacks import EarlyStopping , LearningRateScheduler, ModelCheckpoint, CSVLogger, Callback, ReduceLROnPlateau\n",
        "from tensorflow.keras.metrics import CategoricalCrossentropy\n",
        "warnings.filterwarnings(\"ignore\")"
      ],
      "execution_count": 3,
      "outputs": []
    },
    {
      "cell_type": "code",
      "metadata": {
        "id": "Vtfyxmyafgwo"
      },
      "source": [
        "cd(\"/content/drive/Shareddrives/Labs/2020_1_이소연/code\")\n",
        "from lrn import LRN\n",
        "from f1score import macro_f1score"
      ],
      "execution_count": 4,
      "outputs": []
    },
    {
      "cell_type": "code",
      "metadata": {
        "id": "LvtDfWgo4LzI"
      },
      "source": [
        "sub_df = pd.read_pickle(\"main.pkl\")"
      ],
      "execution_count": 5,
      "outputs": []
    },
    {
      "cell_type": "code",
      "metadata": {
        "colab": {
          "base_uri": "https://localhost:8080/"
        },
        "id": "8hNO4pUirskb",
        "outputId": "e962a894-ed94-4b49-d69c-805a98f3cf92"
      },
      "source": [
        "# Plotting\n",
        "sw = np.ones((1, 32, 32))\n",
        "label = list()\n",
        "\n",
        "for i in tqdm(range(len(sub_df))):\n",
        "    if len(sub_df.iloc[i,:]['failureType']) == 0:\n",
        "        continue\n",
        "    sw = np.concatenate((sw, sub_df.iloc[i,:]['waferMap'].reshape(1, 32, 32)))\n",
        "    label.append(sub_df.iloc[i,:]['failureType'][0][0])\n",
        "x = sw[1:]\n",
        "y = np.array(label).reshape((-1,1))"
      ],
      "execution_count": 6,
      "outputs": [
        {
          "output_type": "stream",
          "text": [
            "100%|██████████| 8125/8125 [01:20<00:00, 101.40it/s]\n"
          ],
          "name": "stderr"
        }
      ]
    },
    {
      "cell_type": "code",
      "metadata": {
        "colab": {
          "base_uri": "https://localhost:8080/",
          "height": 283
        },
        "id": "VZ83dNrBrskb",
        "outputId": "308b9086-6eaf-4e01-c9ce-09be23d581d8"
      },
      "source": [
        "plt.imshow(x[0])\n",
        "print('Failure type : {} '.format(y[0]))"
      ],
      "execution_count": null,
      "outputs": [
        {
          "output_type": "stream",
          "text": [
            "Failure type : ['Edge-Loc'] \n"
          ],
          "name": "stdout"
        },
        {
          "output_type": "display_data",
          "data": {
            "image/png": "[encoded data removed]",
            "text/plain": [
              "<Figure size 432x288 with 1 Axes>"
            ]
          },
          "metadata": {
            "tags": [],
            "needs_background": "light"
          }
        }
      ]
    },
    {
      "cell_type": "code",
      "metadata": {
        "colab": {
          "base_uri": "https://localhost:8080/"
        },
        "id": "ifKCsp7Vrskc",
        "outputId": "83a4fcb9-1a9c-4386-a9dc-cefa633909f7"
      },
      "source": [
        "labels = ['none','Center','Donut','Edge-Loc','Edge-Ring','Loc','Near-full','Random','Scratch']\n",
        "for f in labels :\n",
        "    print('{} : {}'.format(f, len(y[y==f])))"
      ],
      "execution_count": 7,
      "outputs": [
        {
          "output_type": "stream",
          "text": [
            "none : 7724\n",
            "Center : 20\n",
            "Donut : 2\n",
            "Edge-Loc : 130\n",
            "Edge-Ring : 55\n",
            "Loc : 107\n",
            "Random : 12\n",
            "Scratch : 47\n",
            "Near-full : 28\n"
          ],
          "name": "stdout"
        }
      ]
    },
    {
      "cell_type": "code",
      "metadata": {
        "colab": {
          "base_uri": "https://localhost:8080/"
        },
        "id": "JBXnpuejrskd",
        "outputId": "092c7ed4-190e-430c-fded-8390a516becb"
      },
      "source": [
        "# For CNN models\n",
        "new_x = np.zeros((len(x), 32, 32, 3))\n",
        "for w in range(len(x)):\n",
        "    for i in range(32):\n",
        "        for j in range(32):\n",
        "            new_x[w, i, j, int(x[w, i, j])] = 1\n",
        "new_x.shape"
      ],
      "execution_count": 8,
      "outputs": [
        {
          "output_type": "execute_result",
          "data": {
            "text/plain": [
              "(8125, 32, 32, 3)"
            ]
          },
          "metadata": {
            "tags": []
          },
          "execution_count": 8
        }
      ]
    },
    {
      "cell_type": "code",
      "metadata": {
        "id": "ZNYxPN38rske"
      },
      "source": [
        "# train/test\n",
        "x_train, x_test, y_train, y_test = train_test_split(new_x, y, test_size=0.4, random_state=123)"
      ],
      "execution_count": 9,
      "outputs": []
    },
    {
      "cell_type": "code",
      "metadata": {
        "colab": {
          "base_uri": "https://localhost:8080/"
        },
        "id": "NNeQvMjnBe9t",
        "outputId": "2ed41b11-b8e8-41e2-e4e9-1feac9739f3c"
      },
      "source": [
        "for f in labels :\n",
        "    print('{} : {}'.format(f, len(y_test[y_test==f])))"
      ],
      "execution_count": null,
      "outputs": [
        {
          "output_type": "stream",
          "text": [
            "none : 3086\n",
            "Center : 7\n",
            "Donut : 1\n",
            "Edge-Loc : 47\n",
            "Edge-Ring : 23\n",
            "Loc : 43\n",
            "Random : 3\n",
            "Scratch : 25\n",
            "Near-full : 15\n"
          ],
          "name": "stdout"
        }
      ]
    },
    {
      "cell_type": "code",
      "metadata": {
        "colab": {
          "base_uri": "https://localhost:8080/"
        },
        "id": "eMGLehWmD6kg",
        "outputId": "fc7736b3-f387-4265-f01e-023234ede04f"
      },
      "source": [
        "print('{},{}'.format(x_train.shape, y_train.shape))"
      ],
      "execution_count": null,
      "outputs": [
        {
          "output_type": "stream",
          "text": [
            "(4875, 32, 32, 3),(4875, 1)\n"
          ],
          "name": "stdout"
        }
      ]
    },
    {
      "cell_type": "code",
      "metadata": {
        "id": "zQuODoZeZ1BG"
      },
      "source": [
        "# Convolutional Autoencoder"
      ],
      "execution_count": null,
      "outputs": []
    },
    {
      "cell_type": "code",
      "metadata": {
        "id": "coIkyKMmgdyB"
      },
      "source": [
        "def encoder(input_img):\n",
        "    #encoder\n",
        "    #input = 32 x 32 x 3 (wide and thin)\n",
        "    conv1 = Conv2D(32, (3, 3), activation='relu', padding='same')(input_img)\n",
        "    pool1 = MaxPooling2D(padding='same')(conv1)\n",
        "    conv2 = Conv2D(64, (3, 3), activation='relu', padding='same')(pool1)\n",
        "    conv2 = BatchNormalization()(conv2)\n",
        "    pool2 = MaxPooling2D(padding='same')(conv2) # 8 x 8 x 64\n",
        "    return pool2\n",
        "\n",
        "def decoder(conv4):\n",
        "    #decoder\n",
        "    conv5 = Conv2D(64, (3, 3), activation='relu', padding='same')(conv4) # 8 x 8 x 64\n",
        "    up1 = UpSampling2D()(conv5) # 16 x 16 x 64\n",
        "    conv6 = Conv2D(32, (3, 3), activation='relu', padding='same')(up1)\n",
        "    conv6 = BatchNormalization()(conv6)\n",
        "    up2 = UpSampling2D()(conv6)\n",
        "    decoded = Conv2D(3, (3, 3), activation='sigmoid', padding='same')(up2) # 32 x 32 x 1\n",
        "    return decoded"
      ],
      "execution_count": 8,
      "outputs": []
    },
    {
      "cell_type": "code",
      "metadata": {
        "id": "9UvWhykHW7UP"
      },
      "source": [
        "input_shape = Input(shape=(32, 32, 3))"
      ],
      "execution_count": 9,
      "outputs": []
    },
    {
      "cell_type": "code",
      "metadata": {
        "colab": {
          "base_uri": "https://localhost:8080/"
        },
        "id": "kbj3Vaupik_L",
        "outputId": "7439db05-093d-4243-bf0a-f106eae12163"
      },
      "source": [
        "AEncoder = Model(input_shape, decoder(encoder(input_shape)))\n",
        "AEncoder.summary()\n",
        "AEncoder.compile(loss='mse', optimizer='adam')\n",
        "AEncoder.fit(x_train, x_train, epochs=10, batch_size=64, verbose=2)"
      ],
      "execution_count": 10,
      "outputs": [
        {
          "output_type": "stream",
          "text": [
            "Model: \"model\"\n",
            "_________________________________________________________________\n",
            "Layer (type)                 Output Shape              Param #   \n",
            "=================================================================\n",
            "input_1 (InputLayer)         [(None, 32, 32, 3)]       0         \n",
            "_________________________________________________________________\n",
            "conv2d (Conv2D)              (None, 32, 32, 32)        896       \n",
            "_________________________________________________________________\n",
            "max_pooling2d (MaxPooling2D) (None, 16, 16, 32)        0         \n",
            "_________________________________________________________________\n",
            "conv2d_1 (Conv2D)            (None, 16, 16, 64)        18496     \n",
            "_________________________________________________________________\n",
            "batch_normalization (BatchNo (None, 16, 16, 64)        256       \n",
            "_________________________________________________________________\n",
            "max_pooling2d_1 (MaxPooling2 (None, 8, 8, 64)          0         \n",
            "_________________________________________________________________\n",
            "conv2d_2 (Conv2D)            (None, 8, 8, 64)          36928     \n",
            "_________________________________________________________________\n",
            "up_sampling2d (UpSampling2D) (None, 16, 16, 64)        0         \n",
            "_________________________________________________________________\n",
            "conv2d_3 (Conv2D)            (None, 16, 16, 32)        18464     \n",
            "_________________________________________________________________\n",
            "batch_normalization_1 (Batch (None, 16, 16, 32)        128       \n",
            "_________________________________________________________________\n",
            "up_sampling2d_1 (UpSampling2 (None, 32, 32, 32)        0         \n",
            "_________________________________________________________________\n",
            "conv2d_4 (Conv2D)            (None, 32, 32, 3)         867       \n",
            "=================================================================\n",
            "Total params: 76,035\n",
            "Trainable params: 75,843\n",
            "Non-trainable params: 192\n",
            "_________________________________________________________________\n",
            "Epoch 1/10\n",
            "77/77 - 32s - loss: 0.0910\n",
            "Epoch 2/10\n",
            "77/77 - 0s - loss: 0.0579\n",
            "Epoch 3/10\n",
            "77/77 - 0s - loss: 0.0496\n",
            "Epoch 4/10\n",
            "77/77 - 0s - loss: 0.0399\n",
            "Epoch 5/10\n",
            "77/77 - 0s - loss: 0.0321\n",
            "Epoch 6/10\n",
            "77/77 - 0s - loss: 0.0269\n",
            "Epoch 7/10\n",
            "77/77 - 0s - loss: 0.0213\n",
            "Epoch 8/10\n",
            "77/77 - 0s - loss: 0.0175\n",
            "Epoch 9/10\n",
            "77/77 - 0s - loss: 0.0152\n",
            "Epoch 10/10\n",
            "77/77 - 0s - loss: 0.0138\n"
          ],
          "name": "stdout"
        },
        {
          "output_type": "execute_result",
          "data": {
            "text/plain": [
              "<tensorflow.python.keras.callbacks.History at 0x7f16aec17c90>"
            ]
          },
          "metadata": {
            "tags": []
          },
          "execution_count": 10
        }
      ]
    },
    {
      "cell_type": "code",
      "metadata": {
        "colab": {
          "base_uri": "https://localhost:8080/"
        },
        "id": "79HukY1PmBPL",
        "outputId": "f27ca017-ec46-4dd7-81b1-2c817b042f16"
      },
      "source": [
        "np.where(y_test=='Edge-Loc')"
      ],
      "execution_count": null,
      "outputs": [
        {
          "output_type": "execute_result",
          "data": {
            "text/plain": [
              "(array([  17,  118,  159,  195,  339,  476,  579,  609,  642,  666,  785,\n",
              "         878, 1026, 1068, 1119, 1208, 1255, 1256, 1341, 1490, 1520, 1616,\n",
              "        1720, 1766, 1767, 1780, 1897, 2148, 2189, 2190, 2197, 2200, 2323,\n",
              "        2333, 2336, 2383, 2442, 2445, 2619, 2627, 2637, 2646, 2699, 2739,\n",
              "        2913, 2954, 3011]),\n",
              " array([0, 0, 0, 0, 0, 0, 0, 0, 0, 0, 0, 0, 0, 0, 0, 0, 0, 0, 0, 0, 0, 0,\n",
              "        0, 0, 0, 0, 0, 0, 0, 0, 0, 0, 0, 0, 0, 0, 0, 0, 0, 0, 0, 0, 0, 0,\n",
              "        0, 0, 0]))"
            ]
          },
          "metadata": {
            "tags": []
          },
          "execution_count": 71
        }
      ]
    },
    {
      "cell_type": "code",
      "metadata": {
        "colab": {
          "base_uri": "https://localhost:8080/",
          "height": 283
        },
        "id": "IDjuof5DZOn6",
        "outputId": "baa449b9-7dc2-4796-fd67-d62e6eaca149"
      },
      "source": [
        "plt.imshow(np.argmax(x_test[195], axis=2))"
      ],
      "execution_count": null,
      "outputs": [
        {
          "output_type": "execute_result",
          "data": {
            "text/plain": [
              "<matplotlib.image.AxesImage at 0x7f14d431af90>"
            ]
          },
          "metadata": {
            "tags": []
          },
          "execution_count": 80
        },
        {
          "output_type": "display_data",
          "data": {
            "image/png": "[encoded data removed]",
            "text/plain": [
              "<Figure size 432x288 with 1 Axes>"
            ]
          },
          "metadata": {
            "tags": [],
            "needs_background": "light"
          }
        }
      ]
    },
    {
      "cell_type": "code",
      "metadata": {
        "colab": {
          "base_uri": "https://localhost:8080/",
          "height": 283
        },
        "id": "F4Nz58qtj-k9",
        "outputId": "01e79df1-c2dc-461a-9a97-062099bc3970"
      },
      "source": [
        "gen_x = np.argmax(AEncoder.predict(x_test), axis=3)\n",
        "plt.imshow(gen_x[195])"
      ],
      "execution_count": null,
      "outputs": [
        {
          "output_type": "execute_result",
          "data": {
            "text/plain": [
              "<matplotlib.image.AxesImage at 0x7f14d42baa10>"
            ]
          },
          "metadata": {
            "tags": []
          },
          "execution_count": 81
        },
        {
          "output_type": "display_data",
          "data": {
            "image/png": "[encoded data removed]",
            "text/plain": [
              "<Figure size 432x288 with 1 Axes>"
            ]
          },
          "metadata": {
            "tags": [],
            "needs_background": "light"
          }
        }
      ]
    },
    {
      "cell_type": "code",
      "metadata": {
        "colab": {
          "base_uri": "https://localhost:8080/"
        },
        "id": "oaxu1HSE8bUL",
        "outputId": "d91f9b3a-1ef5-414c-c441-4f814ba3ce43"
      },
      "source": [
        "x_train[0].shape (4875, 32, 32, 3)"
      ],
      "execution_count": null,
      "outputs": [
        {
          "output_type": "execute_result",
          "data": {
            "text/plain": [
              "(32, 32, 3)"
            ]
          },
          "metadata": {
            "tags": []
          },
          "execution_count": 95
        }
      ]
    },
    {
      "cell_type": "code",
      "metadata": {
        "colab": {
          "base_uri": "https://localhost:8080/"
        },
        "id": "4Q4Yt22_9wqM",
        "outputId": "d9d1c9dc-e048-4b95-d7d8-2f8f7a2add8f"
      },
      "source": [
        "np.where(y_train=='Edge-Loc')"
      ],
      "execution_count": null,
      "outputs": [
        {
          "output_type": "execute_result",
          "data": {
            "text/plain": [
              "(array([ 180,  224,  242,  308,  329,  335,  523,  542,  554,  565,  574,\n",
              "         633,  766,  816,  899,  901,  927, 1083, 1220, 1421, 1461, 1485,\n",
              "        1540, 1575, 1627, 1908, 1979, 2027, 2057, 2187, 2289, 2311, 2314,\n",
              "        2343, 2503, 2518, 2566, 2624, 2667, 2715, 2763, 2784, 2953, 2963,\n",
              "        3010, 3022, 3046, 3047, 3085, 3397, 3406, 3480, 3558, 3608, 3664,\n",
              "        3703, 3719, 3750, 3776, 3782, 3789, 3799, 3889, 3891, 3936, 3952,\n",
              "        3974, 4009, 4048, 4158, 4183, 4334, 4358, 4366, 4505, 4619, 4648,\n",
              "        4698, 4780, 4785, 4804, 4837, 4858]),\n",
              " array([0, 0, 0, 0, 0, 0, 0, 0, 0, 0, 0, 0, 0, 0, 0, 0, 0, 0, 0, 0, 0, 0,\n",
              "        0, 0, 0, 0, 0, 0, 0, 0, 0, 0, 0, 0, 0, 0, 0, 0, 0, 0, 0, 0, 0, 0,\n",
              "        0, 0, 0, 0, 0, 0, 0, 0, 0, 0, 0, 0, 0, 0, 0, 0, 0, 0, 0, 0, 0, 0,\n",
              "        0, 0, 0, 0, 0, 0, 0, 0, 0, 0, 0, 0, 0, 0, 0, 0, 0]))"
            ]
          },
          "metadata": {
            "tags": []
          },
          "execution_count": 99
        }
      ]
    },
    {
      "cell_type": "code",
      "metadata": {
        "colab": {
          "base_uri": "https://localhost:8080/",
          "height": 283
        },
        "id": "WZ_laKW19nS9",
        "outputId": "d703bff6-022f-4003-8363-7933d683ec0f"
      },
      "source": [
        "plt.imshow(np.argmax(x_train[180], axis=2))"
      ],
      "execution_count": null,
      "outputs": [
        {
          "output_type": "execute_result",
          "data": {
            "text/plain": [
              "<matplotlib.image.AxesImage at 0x7f14d0778ad0>"
            ]
          },
          "metadata": {
            "tags": []
          },
          "execution_count": 100
        },
        {
          "output_type": "display_data",
          "data": {
            "image/png": "[encoded data removed]",
            "text/plain": [
              "<Figure size 432x288 with 1 Axes>"
            ]
          },
          "metadata": {
            "tags": [],
            "needs_background": "light"
          }
        }
      ]
    },
    {
      "cell_type": "code",
      "metadata": {
        "colab": {
          "base_uri": "https://localhost:8080/",
          "height": 283
        },
        "id": "az6sIdFR8VUz",
        "outputId": "9e5bb205-b2bf-4ea0-9ac4-f9a272442a87"
      },
      "source": [
        "gen_x = np.argmax(AEncoder.predict(x_train + np.random.normal(loc=0, scale=0.1, size = (4875, 32, 32, 3))), axis=3)\n",
        "plt.imshow(gen_x[180])"
      ],
      "execution_count": null,
      "outputs": [
        {
          "output_type": "execute_result",
          "data": {
            "text/plain": [
              "<matplotlib.image.AxesImage at 0x7f14c0464fd0>"
            ]
          },
          "metadata": {
            "tags": []
          },
          "execution_count": 101
        },
        {
          "output_type": "display_data",
          "data": {
            "image/png": "[encoded data removed]",
            "text/plain": [
              "<Figure size 432x288 with 1 Axes>"
            ]
          },
          "metadata": {
            "tags": [],
            "needs_background": "light"
          }
        }
      ]
    },
    {
      "cell_type": "code",
      "metadata": {
        "id": "0dpCKfwHtQ2w"
      },
      "source": [
        "# Generate data\n",
        "def gen_data(wafer, label):\n",
        "    gen_x = np.zeros((1, 32, 32, 3))\n",
        "    \n",
        "    for i in range((1000//len(wafer)) + 1):\n",
        "        noised_encoded_x = wafer + np.random.normal(loc=0, scale=0.1, size = (len(wafer), 32, 32, 3))  \n",
        "        noised_gen_x = AEncoder.predict(noised_encoded_x)\n",
        "        gen_x = np.concatenate((gen_x, noised_gen_x), axis=0)\n",
        "\n",
        "    gen_y = np.full((len(gen_x), 1), label)\n",
        "    \n",
        "    return gen_x[1:], gen_y[1:]"
      ],
      "execution_count": 11,
      "outputs": []
    },
    {
      "cell_type": "code",
      "metadata": {
        "id": "uqnVi_MaDRIv"
      },
      "source": [
        "labels = ['Center','Donut','Edge-Loc','Edge-Ring','Loc','Near-full','Random','Scratch', 'none']\n",
        "for f in labels :  \n",
        "    if f == 'none' : \n",
        "        continue    \n",
        "    gen_x, gen_y = gen_data(x_train[np.where(y_train==f)[0]], f)\n",
        "    x_train = np.concatenate((x_train, gen_x), axis=0)\n",
        "    y_train = np.concatenate((y_train, gen_y))"
      ],
      "execution_count": 12,
      "outputs": []
    },
    {
      "cell_type": "code",
      "metadata": {
        "colab": {
          "base_uri": "https://localhost:8080/",
          "height": 283
        },
        "id": "xm2tESErx2xe",
        "outputId": "43150314-6307-4831-e123-a719a71b21d4"
      },
      "source": [
        "plt.imshow(np.argmax(x_train[5000], axis=2))"
      ],
      "execution_count": null,
      "outputs": [
        {
          "output_type": "execute_result",
          "data": {
            "text/plain": [
              "<matplotlib.image.AxesImage at 0x7f14d1ca6810>"
            ]
          },
          "metadata": {
            "tags": []
          },
          "execution_count": 124
        },
        {
          "output_type": "display_data",
          "data": {
            "image/png": "[encoded data removed]",
            "text/plain": [
              "<Figure size 432x288 with 1 Axes>"
            ]
          },
          "metadata": {
            "tags": [],
            "needs_background": "light"
          }
        }
      ]
    },
    {
      "cell_type": "code",
      "metadata": {
        "colab": {
          "base_uri": "https://localhost:8080/"
        },
        "id": "Rni7-pynDRMg",
        "outputId": "08d7b559-4323-48f5-f1fe-4a546623cc91"
      },
      "source": [
        "print('After Generate new x shape : {}, new y shape : {}'.format(x_train.shape, y_train.shape))"
      ],
      "execution_count": null,
      "outputs": [
        {
          "output_type": "stream",
          "text": [
            "After Generate new x shape : (9005, 32, 32, 3), new y shape : (9005, 1)\n"
          ],
          "name": "stdout"
        }
      ]
    },
    {
      "cell_type": "code",
      "metadata": {
        "colab": {
          "base_uri": "https://localhost:8080/"
        },
        "id": "ps4cryjhDROG",
        "outputId": "6ef4f975-d383-4aa9-f4ec-8169fdb33e78"
      },
      "source": [
        "for f in labels :\n",
        "    print('{} : {}'.format(f, len(y_train[y_train==f]))) "
      ],
      "execution_count": null,
      "outputs": [
        {
          "output_type": "stream",
          "text": [
            "none : 4638\n",
            "Center : 520\n",
            "Donut : 502\n",
            "Edge-Loc : 664\n",
            "Edge-Ring : 544\n",
            "Loc : 576\n",
            "Random : 513\n",
            "Scratch : 528\n",
            "Near-full : 520\n"
          ],
          "name": "stdout"
        }
      ]
    },
    {
      "cell_type": "code",
      "metadata": {
        "colab": {
          "base_uri": "https://localhost:8080/"
        },
        "id": "0-irbpONQmC4",
        "outputId": "6626f217-8cd2-406e-ac9f-418743b9d054"
      },
      "source": [
        "np.unique(y)"
      ],
      "execution_count": null,
      "outputs": [
        {
          "output_type": "execute_result",
          "data": {
            "text/plain": [
              "array(['Center', 'Donut', 'Edge-Loc', 'Edge-Ring', 'Loc', 'Near-full',\n",
              "       'Random', 'Scratch', 'none'], dtype='<U9')"
            ]
          },
          "metadata": {
            "tags": []
          },
          "execution_count": 8
        }
      ]
    },
    {
      "cell_type": "code",
      "metadata": {
        "colab": {
          "base_uri": "https://localhost:8080/"
        },
        "id": "RtMpv2GDKSCy",
        "outputId": "eb934ae6-7255-4337-ef04-2181281acaf3"
      },
      "source": [
        "np.where(y_test=='Center')"
      ],
      "execution_count": null,
      "outputs": [
        {
          "output_type": "execute_result",
          "data": {
            "text/plain": [
              "(array([ 133,  409, 1484, 1529, 1790, 2111, 2853]),\n",
              " array([0, 0, 0, 0, 0, 0, 0]))"
            ]
          },
          "metadata": {
            "tags": []
          },
          "execution_count": 139
        }
      ]
    },
    {
      "cell_type": "code",
      "metadata": {
        "colab": {
          "base_uri": "https://localhost:8080/"
        },
        "id": "Wyj-hqCIQh9Y",
        "outputId": "7b31daf6-0e58-478e-84c8-e5e1247cb127"
      },
      "source": [
        "y_OH = OneHotEncoder()\n",
        "y_ = y_OH.fit_transform(y_train)\n",
        "print(y_OH.get_feature_names())\n",
        "y_ = y_.toarray()\n",
        "print(y_[291])"
      ],
      "execution_count": 13,
      "outputs": [
        {
          "output_type": "stream",
          "text": [
            "['x0_Center' 'x0_Donut' 'x0_Edge-Loc' 'x0_Edge-Ring' 'x0_Loc'\n",
            " 'x0_Near-full' 'x0_Random' 'x0_Scratch' 'x0_none']\n",
            "[1. 0. 0. 0. 0. 0. 0. 0. 0.]\n"
          ],
          "name": "stdout"
        }
      ]
    },
    {
      "cell_type": "code",
      "metadata": {
        "colab": {
          "base_uri": "https://localhost:8080/"
        },
        "id": "SSTwQa8kFb9P",
        "outputId": "79ac1105-6be9-44e3-bce6-c05871a0f23c"
      },
      "source": [
        "y_OH2 = OneHotEncoder()\n",
        "y_2 = y_OH2.fit_transform(y_test)\n",
        "print(y_OH2.get_feature_names())\n",
        "y_2 = y_2.toarray()\n",
        "print(y_2[133])"
      ],
      "execution_count": 14,
      "outputs": [
        {
          "output_type": "stream",
          "text": [
            "['x0_Center' 'x0_Donut' 'x0_Edge-Loc' 'x0_Edge-Ring' 'x0_Loc'\n",
            " 'x0_Near-full' 'x0_Random' 'x0_Scratch' 'x0_none']\n",
            "[1. 0. 0. 0. 0. 0. 0. 0. 0.]\n"
          ],
          "name": "stdout"
        }
      ]
    },
    {
      "cell_type": "code",
      "metadata": {
        "colab": {
          "base_uri": "https://localhost:8080/"
        },
        "id": "OBse9eM41qPT",
        "outputId": "6178f226-b248-4aea-e9ff-d14b7f088146"
      },
      "source": [
        "print(x_train.shape, y_.shape)"
      ],
      "execution_count": null,
      "outputs": [
        {
          "output_type": "stream",
          "text": [
            "(9005, 32, 32, 3) (9005, 9)\n"
          ],
          "name": "stdout"
        }
      ]
    },
    {
      "cell_type": "code",
      "metadata": {
        "id": "cXTy0HHr8rbk"
      },
      "source": [
        "data_name = 'wm811k'\n",
        "number = '1'\n",
        "batch_sizes = 128\n",
        "weight_decay = 1e-4\n",
        "epochs = 70\n",
        "model = \"AlexNet\"\n",
        "dir = os.path.join(os.getcwd(),data_name)\n",
        "os.makedirs(os.path.join(dir,'model_output',number,model), exist_ok=True)\n",
        "os.makedirs(os.path.join(dir,'train_valid_output',number), exist_ok=True)"
      ],
      "execution_count": 15,
      "outputs": []
    },
    {
      "cell_type": "code",
      "metadata": {
        "id": "vsoPTiehYt1X"
      },
      "source": [
        "def lr_schedule(epoch):\n",
        "    lr = 3e-4\n",
        "    if epoch < 30:\n",
        "        lr = lr\n",
        "    elif epoch < 60 :\n",
        "        lr = lr * 0.1\n",
        "    else:\n",
        "        lr = lr * 0.01\n",
        "    print('Learning rate: ', lr)\n",
        "    return lr"
      ],
      "execution_count": 16,
      "outputs": []
    },
    {
      "cell_type": "code",
      "metadata": {
        "id": "kMXszN2s7nCI"
      },
      "source": [
        "# 참고 : https://github.com/eweill/keras-deepcv/blob/master/models/classification/alexnet.py\n",
        "\n",
        "def Alexnet(img_shape=(224, 224, 3), n_classes=10, l2_reg=0., weights=None):\n",
        "\n",
        "\t# Initialize model\n",
        "\talexnet = Sequential()\n",
        "\n",
        "\t# Layer 1\n",
        "\talexnet.add(Conv2D(96, (11, 11), input_shape=img_shape,\n",
        "\t\tpadding='same', kernel_regularizer=l2(l2_reg)))\n",
        "\talexnet.add(BatchNormalization())\n",
        "\talexnet.add(Activation('relu'))\n",
        "\talexnet.add(MaxPooling2D(pool_size=(2, 2)))\n",
        "\n",
        "\t# Layer 2\n",
        "\talexnet.add(Conv2D(256, (5, 5), padding='same'))\n",
        "\talexnet.add(BatchNormalization())\n",
        "\talexnet.add(Activation('relu'))\n",
        "\talexnet.add(MaxPooling2D(pool_size=(2, 2)))\n",
        "\n",
        "\t# Layer 3\n",
        "\talexnet.add(ZeroPadding2D((1, 1)))\n",
        "\talexnet.add(Conv2D(512, (3, 3), padding='same'))\n",
        "\talexnet.add(BatchNormalization())\n",
        "\talexnet.add(Activation('relu'))\n",
        "\talexnet.add(MaxPooling2D(pool_size=(2, 2)))\n",
        "\n",
        "\t# Layer 4\n",
        "\talexnet.add(ZeroPadding2D((1, 1)))\n",
        "\talexnet.add(Conv2D(1024, (3, 3), padding='same'))\n",
        "\talexnet.add(BatchNormalization())\n",
        "\talexnet.add(Activation('relu'))\n",
        "\n",
        "\t# Layer 5\n",
        "\talexnet.add(ZeroPadding2D((1, 1)))\n",
        "\talexnet.add(Conv2D(1024, (3, 3), padding='same'))\n",
        "\talexnet.add(BatchNormalization())\n",
        "\talexnet.add(Activation('relu'))\n",
        "\talexnet.add(MaxPooling2D(pool_size=(2, 2)))\n",
        "\n",
        "\t# Layer 6\n",
        "\talexnet.add(Flatten())\n",
        "\talexnet.add(Dense(3072))\n",
        "\talexnet.add(BatchNormalization())\n",
        "\talexnet.add(Activation('relu'))\n",
        "\talexnet.add(Dropout(0.5))\n",
        "\n",
        "\t# Layer 7\n",
        "\talexnet.add(Dense(4096))\n",
        "\talexnet.add(BatchNormalization())\n",
        "\talexnet.add(Activation('relu'))\n",
        "\talexnet.add(Dropout(0.5))\n",
        "\n",
        "\t# Layer 8\n",
        "\talexnet.add(Dense(n_classes))\n",
        "\talexnet.add(BatchNormalization())\n",
        "\talexnet.add(Activation('softmax'))\n",
        "\n",
        "\tif weights is not None:\n",
        "\t\talexnet.load_weights(weights)\n",
        "\n",
        "\treturn alexnet"
      ],
      "execution_count": null,
      "outputs": []
    },
    {
      "cell_type": "code",
      "metadata": {
        "id": "sH2dUUNw9gVP"
      },
      "source": [
        "top5_acc = partial(tCA, k=5)\n",
        "top5_acc.__name__ = 'top5_acc'"
      ],
      "execution_count": null,
      "outputs": []
    },
    {
      "cell_type": "code",
      "metadata": {
        "colab": {
          "base_uri": "https://localhost:8080/"
        },
        "id": "fYxFf8lrNfIl",
        "outputId": "462a02d1-6058-436f-ed49-17b7789e7cd4"
      },
      "source": [
        "print(x_train.shape, y_.shape)"
      ],
      "execution_count": null,
      "outputs": [
        {
          "output_type": "stream",
          "text": [
            "(9005, 32, 32, 3) (9005, 9)\n"
          ],
          "name": "stdout"
        }
      ]
    },
    {
      "cell_type": "code",
      "metadata": {
        "colab": {
          "base_uri": "https://localhost:8080/"
        },
        "id": "86dL_Nr1hiPa",
        "outputId": "41dbb599-d864-4c17-e64d-66bf5ee1906f"
      },
      "source": [
        "print(x_test.shape, y_2.shape)"
      ],
      "execution_count": null,
      "outputs": [
        {
          "output_type": "stream",
          "text": [
            "(3250, 32, 32, 3) (3250, 9)\n"
          ],
          "name": "stdout"
        }
      ]
    },
    {
      "cell_type": "code",
      "metadata": {
        "id": "JAQyKZIw7nE0",
        "colab": {
          "base_uri": "https://localhost:8080/"
        },
        "outputId": "7e89b83f-999b-4717-a7bf-663265b7035a"
      },
      "source": [
        "model = Alexnet(img_shape=(32, 32, 3), n_classes=9)\n",
        "model.summary()\n",
        "plot_model(model, show_shapes=True)\n",
        "\n",
        "filepath =  os.path.join(dir,'model_output',number,model.name,'{epoch:03d}.h5')\n",
        "callbacks_list = [ModelCheckpoint(filepath, monitor='val_loss', verbose=1, save_weights_only=False, save_best_only=True, mode='min'),\n",
        "                  ModelCheckpoint(filepath, monitor='val_accuracy', verbose=1, save_weights_only=False, save_best_only=True, mode='max'),\n",
        "                  EarlyStopping(monitor='val_auc', patience=4),\n",
        "                  LearningRateScheduler(lr_schedule,verbose=1)]\n",
        "model.compile(optimizer = 'rmsprop', loss = 'categorical_crossentropy', metrics=[['AUC', 'Precision','Recall']])\n",
        "auto = model.fit(x_train, y_, validation_data=(x_test, y_2), epochs=50, batch_size=128, callbacks=callbacks_list)"
      ],
      "execution_count": null,
      "outputs": [
        {
          "output_type": "stream",
          "text": [
            "Model: \"sequential\"\n",
            "_________________________________________________________________\n",
            "Layer (type)                 Output Shape              Param #   \n",
            "=================================================================\n",
            "conv2d_112 (Conv2D)          (None, 32, 32, 96)        34944     \n",
            "_________________________________________________________________\n",
            "batch_normalization_36 (Batc (None, 32, 32, 96)        384       \n",
            "_________________________________________________________________\n",
            "activation (Activation)      (None, 32, 32, 96)        0         \n",
            "_________________________________________________________________\n",
            "max_pooling2d_22 (MaxPooling (None, 16, 16, 96)        0         \n",
            "_________________________________________________________________\n",
            "conv2d_113 (Conv2D)          (None, 16, 16, 256)       614656    \n",
            "_________________________________________________________________\n",
            "batch_normalization_37 (Batc (None, 16, 16, 256)       1024      \n",
            "_________________________________________________________________\n",
            "activation_1 (Activation)    (None, 16, 16, 256)       0         \n",
            "_________________________________________________________________\n",
            "max_pooling2d_23 (MaxPooling (None, 8, 8, 256)         0         \n",
            "_________________________________________________________________\n",
            "zero_padding2d (ZeroPadding2 (None, 10, 10, 256)       0         \n",
            "_________________________________________________________________\n",
            "conv2d_114 (Conv2D)          (None, 10, 10, 512)       1180160   \n",
            "_________________________________________________________________\n",
            "batch_normalization_38 (Batc (None, 10, 10, 512)       2048      \n",
            "_________________________________________________________________\n",
            "activation_2 (Activation)    (None, 10, 10, 512)       0         \n",
            "_________________________________________________________________\n",
            "max_pooling2d_24 (MaxPooling (None, 5, 5, 512)         0         \n",
            "_________________________________________________________________\n",
            "zero_padding2d_1 (ZeroPaddin (None, 7, 7, 512)         0         \n",
            "_________________________________________________________________\n",
            "conv2d_115 (Conv2D)          (None, 7, 7, 1024)        4719616   \n",
            "_________________________________________________________________\n",
            "batch_normalization_39 (Batc (None, 7, 7, 1024)        4096      \n",
            "_________________________________________________________________\n",
            "activation_3 (Activation)    (None, 7, 7, 1024)        0         \n",
            "_________________________________________________________________\n",
            "zero_padding2d_2 (ZeroPaddin (None, 9, 9, 1024)        0         \n",
            "_________________________________________________________________\n",
            "conv2d_116 (Conv2D)          (None, 9, 9, 1024)        9438208   \n",
            "_________________________________________________________________\n",
            "batch_normalization_40 (Batc (None, 9, 9, 1024)        4096      \n",
            "_________________________________________________________________\n",
            "activation_4 (Activation)    (None, 9, 9, 1024)        0         \n",
            "_________________________________________________________________\n",
            "max_pooling2d_25 (MaxPooling (None, 4, 4, 1024)        0         \n",
            "_________________________________________________________________\n",
            "flatten (Flatten)            (None, 16384)             0         \n",
            "_________________________________________________________________\n",
            "dense (Dense)                (None, 3072)              50334720  \n",
            "_________________________________________________________________\n",
            "batch_normalization_41 (Batc (None, 3072)              12288     \n",
            "_________________________________________________________________\n",
            "activation_5 (Activation)    (None, 3072)              0         \n",
            "_________________________________________________________________\n",
            "dropout (Dropout)            (None, 3072)              0         \n",
            "_________________________________________________________________\n",
            "dense_1 (Dense)              (None, 4096)              12587008  \n",
            "_________________________________________________________________\n",
            "batch_normalization_42 (Batc (None, 4096)              16384     \n",
            "_________________________________________________________________\n",
            "activation_6 (Activation)    (None, 4096)              0         \n",
            "_________________________________________________________________\n",
            "dropout_1 (Dropout)          (None, 4096)              0         \n",
            "_________________________________________________________________\n",
            "dense_2 (Dense)              (None, 9)                 36873     \n",
            "_________________________________________________________________\n",
            "batch_normalization_43 (Batc (None, 9)                 36        \n",
            "_________________________________________________________________\n",
            "activation_7 (Activation)    (None, 9)                 0         \n",
            "=================================================================\n",
            "Total params: 78,986,541\n",
            "Trainable params: 78,966,363\n",
            "Non-trainable params: 20,178\n",
            "_________________________________________________________________\n",
            "Epoch 1/50\n",
            "Learning rate:  0.0003\n",
            "\n",
            "Epoch 00001: LearningRateScheduler reducing learning rate to 0.0003.\n",
            "71/71 [==============================] - 21s 218ms/step - loss: 0.8273 - auc: 0.9876 - val_loss: 4.0248 - val_auc: 0.0237\n",
            "\n",
            "Epoch 00001: val_loss improved from inf to 4.02482, saving model to /content/drive/Shareddrives/Labs/2020_1_이소연/code/wm811k/model_output/1/sequential/001.h5\n",
            "WARNING:tensorflow:Can save best model only with val_accuracy available, skipping.\n",
            "Epoch 2/50\n",
            "Learning rate:  0.0003\n",
            "\n",
            "Epoch 00002: LearningRateScheduler reducing learning rate to 0.0003.\n",
            "71/71 [==============================] - 13s 186ms/step - loss: 0.6428 - auc: 0.9987 - val_loss: 6.1907 - val_auc: 0.0488\n",
            "\n",
            "Epoch 00002: val_loss did not improve from 4.02482\n",
            "WARNING:tensorflow:Can save best model only with val_accuracy available, skipping.\n",
            "Epoch 3/50\n",
            "Learning rate:  0.0003\n",
            "\n",
            "Epoch 00003: LearningRateScheduler reducing learning rate to 0.0003.\n",
            "71/71 [==============================] - 13s 187ms/step - loss: 0.5863 - auc: 0.9995 - val_loss: 3.7064 - val_auc: 0.0298\n",
            "\n",
            "Epoch 00003: val_loss improved from 4.02482 to 3.70644, saving model to /content/drive/Shareddrives/Labs/2020_1_이소연/code/wm811k/model_output/1/sequential/003.h5\n",
            "WARNING:tensorflow:Can save best model only with val_accuracy available, skipping.\n",
            "Epoch 4/50\n",
            "Learning rate:  0.0003\n",
            "\n",
            "Epoch 00004: LearningRateScheduler reducing learning rate to 0.0003.\n",
            "71/71 [==============================] - 13s 188ms/step - loss: 0.5489 - auc: 0.9997 - val_loss: 3.0589 - val_auc: 0.0441\n",
            "\n",
            "Epoch 00004: val_loss improved from 3.70644 to 3.05890, saving model to /content/drive/Shareddrives/Labs/2020_1_이소연/code/wm811k/model_output/1/sequential/004.h5\n",
            "WARNING:tensorflow:Can save best model only with val_accuracy available, skipping.\n",
            "Epoch 5/50\n",
            "Learning rate:  0.0003\n",
            "\n",
            "Epoch 00005: LearningRateScheduler reducing learning rate to 0.0003.\n",
            "71/71 [==============================] - 13s 189ms/step - loss: 0.5169 - auc: 0.9998 - val_loss: 3.2429 - val_auc: 0.0396\n",
            "\n",
            "Epoch 00005: val_loss did not improve from 3.05890\n",
            "WARNING:tensorflow:Can save best model only with val_accuracy available, skipping.\n"
          ],
          "name": "stdout"
        }
      ]
    },
    {
      "cell_type": "code",
      "metadata": {
        "id": "bRA-cZvt-LTJ"
      },
      "source": [
        "model.predict_classes(y_2)"
      ],
      "execution_count": null,
      "outputs": []
    },
    {
      "cell_type": "code",
      "metadata": {
        "id": "ybLygBSp7nNE"
      },
      "source": [
        "def simple_vgg16():\n",
        "    input_shape = (32, 32, 3)\n",
        "    input_tensor = Input(input_shape)\n",
        "    \n",
        "    #initializer: glorot_normal, glorot_uniform, he_normal, he_uniform\n",
        "\n",
        "    conv_1 = Conv2D(32, (3,3), kernel_initializer='glorot_uniform', kernel_regularizer=l2(0.001), activation='relu',padding='same')(input_tensor)\n",
        "    conv_2 = Conv2D(64, (3,3), kernel_initializer='glorot_uniform', kernel_regularizer=l2(0.001), activation='relu',padding='same')(conv_1)\n",
        "    pool_1 = MaxPool2D((2,2), name = 'max_pool1')(conv_2)\n",
        "\n",
        "    conv_3 = Conv2D(128, (3,3), kernel_initializer='glorot_uniform',activation='relu', kernel_regularizer=l2(0.001), padding='same')(pool_1)\n",
        "    conv_4 = Conv2D(256, (3,3), kernel_initializer='glorot_uniform',activation='relu', kernel_regularizer=l2(0.001), padding='same')(conv_3)\n",
        "    pool_2 = MaxPool2D((2,2), name = 'max_pool2')(conv_4)\n",
        "\n",
        "    flat = Flatten()(pool_2)\n",
        "\n",
        "    dense_1 = Dense(512, activation='relu')(flat)\n",
        "    drop_1 = Dropout(0.4)(dense_1)\n",
        "    dense_2 = Dense(256, activation='relu')(drop_1)\n",
        "    output_tensor = Dense(9, activation='softmax')(dense_2)\n",
        "\n",
        "    model = Model(input_tensor, output_tensor)\n",
        " \n",
        "    return model"
      ],
      "execution_count": 31,
      "outputs": []
    },
    {
      "cell_type": "code",
      "metadata": {
        "colab": {
          "base_uri": "https://localhost:8080/"
        },
        "id": "u16sHIokYuZ2",
        "outputId": "9b3af8c3-f10f-4226-99c8-c085e49ef089"
      },
      "source": [
        "\n",
        "model = simple_vgg16()\n",
        "model.compile(optimizer = 'rmsprop', loss = 'categorical_crossentropy', metrics=[['AUC', 'Precision','Recall']])\n",
        "filepath =  os.path.join(dir,'model_output',number,model.name,'{epoch:03d}.h5')\n",
        "callbacks_list = [ModelCheckpoint(filepath, monitor='val_loss', verbose=1, save_weights_only=False, save_best_only=True, mode='min'),\n",
        "                  ModelCheckpoint(filepath, monitor='val_accuracy', verbose=1, save_weights_only=False, save_best_only=True, mode='max'),\n",
        "                  EarlyStopping(monitor='val_auc', patience=3),\n",
        "                  LearningRateScheduler(lr_schedule,verbose=1)]\n",
        "auto = model.fit(x_train, y_, validation_data=(x_test, y_2), epochs=50, batch_size=128, callbacks=callbacks_list)"
      ],
      "execution_count": 32,
      "outputs": [
        {
          "output_type": "stream",
          "text": [
            "Epoch 1/50\n",
            "Learning rate:  0.0003\n",
            "\n",
            "Epoch 00001: LearningRateScheduler reducing learning rate to 0.0003.\n",
            "102/102 [==============================] - 6s 40ms/step - loss: 1.2059 - auc: 0.9421 - precision: 0.8124 - recall: 0.5621 - val_loss: 0.4812 - val_auc: 0.9963 - val_precision: 0.9726 - val_recall: 0.9406\n",
            "\n",
            "Epoch 00001: val_loss improved from inf to 0.48120, saving model to /content/drive/Shareddrives/Labs/2020_1_이소연/code/wm811k/model_output/1/model_4/001.h5\n",
            "WARNING:tensorflow:Can save best model only with val_accuracy available, skipping.\n",
            "Epoch 2/50\n",
            "Learning rate:  0.0003\n",
            "\n",
            "Epoch 00002: LearningRateScheduler reducing learning rate to 0.0003.\n",
            "102/102 [==============================] - 3s 29ms/step - loss: 0.4764 - auc: 0.9950 - precision: 0.9406 - recall: 0.9023 - val_loss: 0.3402 - val_auc: 0.9959 - val_precision: 0.9734 - val_recall: 0.9695\n",
            "\n",
            "Epoch 00002: val_loss improved from 0.48120 to 0.34019, saving model to /content/drive/Shareddrives/Labs/2020_1_이소연/code/wm811k/model_output/1/model_4/002.h5\n",
            "WARNING:tensorflow:Can save best model only with val_accuracy available, skipping.\n",
            "Epoch 3/50\n",
            "Learning rate:  0.0003\n",
            "\n",
            "Epoch 00003: LearningRateScheduler reducing learning rate to 0.0003.\n",
            "102/102 [==============================] - 3s 30ms/step - loss: 0.3099 - auc: 0.9986 - precision: 0.9758 - recall: 0.9678 - val_loss: 0.4461 - val_auc: 0.9921 - val_precision: 0.9361 - val_recall: 0.9234\n",
            "\n",
            "Epoch 00003: val_loss did not improve from 0.34019\n",
            "WARNING:tensorflow:Can save best model only with val_accuracy available, skipping.\n",
            "Epoch 4/50\n",
            "Learning rate:  0.0003\n",
            "\n",
            "Epoch 00004: LearningRateScheduler reducing learning rate to 0.0003.\n",
            "102/102 [==============================] - 3s 29ms/step - loss: 0.2449 - auc: 0.9988 - precision: 0.9857 - recall: 0.9830 - val_loss: 0.3034 - val_auc: 0.9939 - val_precision: 0.9747 - val_recall: 0.9732\n",
            "\n",
            "Epoch 00004: val_loss improved from 0.34019 to 0.30340, saving model to /content/drive/Shareddrives/Labs/2020_1_이소연/code/wm811k/model_output/1/model_4/004.h5\n",
            "WARNING:tensorflow:Can save best model only with val_accuracy available, skipping.\n",
            "Epoch 5/50\n",
            "Learning rate:  0.0003\n",
            "\n",
            "Epoch 00005: LearningRateScheduler reducing learning rate to 0.0003.\n",
            "102/102 [==============================] - 3s 30ms/step - loss: 0.1963 - auc: 0.9995 - precision: 0.9913 - recall: 0.9896 - val_loss: 0.2920 - val_auc: 0.9940 - val_precision: 0.9757 - val_recall: 0.9745\n",
            "\n",
            "Epoch 00005: val_loss improved from 0.30340 to 0.29200, saving model to /content/drive/Shareddrives/Labs/2020_1_이소연/code/wm811k/model_output/1/model_4/005.h5\n",
            "WARNING:tensorflow:Can save best model only with val_accuracy available, skipping.\n",
            "Epoch 6/50\n",
            "Learning rate:  0.0003\n",
            "\n",
            "Epoch 00006: LearningRateScheduler reducing learning rate to 0.0003.\n",
            "102/102 [==============================] - 3s 30ms/step - loss: 0.1714 - auc: 0.9992 - precision: 0.9919 - recall: 0.9910 - val_loss: 0.2724 - val_auc: 0.9934 - val_precision: 0.9757 - val_recall: 0.9745\n",
            "\n",
            "Epoch 00006: val_loss improved from 0.29200 to 0.27239, saving model to /content/drive/Shareddrives/Labs/2020_1_이소연/code/wm811k/model_output/1/model_4/006.h5\n",
            "WARNING:tensorflow:Can save best model only with val_accuracy available, skipping.\n",
            "Epoch 7/50\n",
            "Learning rate:  0.0003\n",
            "\n",
            "Epoch 00007: LearningRateScheduler reducing learning rate to 0.0003.\n",
            "102/102 [==============================] - 3s 30ms/step - loss: 0.1451 - auc: 0.9995 - precision: 0.9921 - recall: 0.9909 - val_loss: 0.2313 - val_auc: 0.9959 - val_precision: 0.9734 - val_recall: 0.9668\n",
            "\n",
            "Epoch 00007: val_loss improved from 0.27239 to 0.23129, saving model to /content/drive/Shareddrives/Labs/2020_1_이소연/code/wm811k/model_output/1/model_4/007.h5\n",
            "WARNING:tensorflow:Can save best model only with val_accuracy available, skipping.\n"
          ],
          "name": "stdout"
        }
      ]
    },
    {
      "cell_type": "code",
      "metadata": {
        "id": "X7603LVwYudW"
      },
      "source": [
        "y_predict = model.predict(x_test)"
      ],
      "execution_count": 39,
      "outputs": []
    },
    {
      "cell_type": "code",
      "metadata": {
        "id": "z8PrXroWansT"
      },
      "source": [
        "y_pred_ = np.ones(len(y_predict))\n",
        "y_test_ = np.ones(len(y_test))\n",
        "for i in range(len(y_pred)):\n",
        "    y_pred_[i] = np.argmax(y_predict[i])\n",
        "    y_test_[i] = np.argmax(y_test[i])"
      ],
      "execution_count": 40,
      "outputs": []
    },
    {
      "cell_type": "code",
      "metadata": {
        "colab": {
          "base_uri": "https://localhost:8080/"
        },
        "id": "m5lVoQsZanum",
        "outputId": "f9a68467-1d5b-4f7b-fc05-f181c6230b3b"
      },
      "source": [
        "print(classification_report(y_test_, y_pred_, target_names=labels))"
      ],
      "execution_count": 43,
      "outputs": [
        {
          "output_type": "stream",
          "text": [
            "              precision    recall  f1-score   support\n",
            "\n",
            "        none       1.00      0.00      0.01      3250\n",
            "      Center       0.00      0.00      0.00         0\n",
            "       Donut       0.00      0.00      0.00         0\n",
            "    Edge-Loc       0.00      0.00      0.00         0\n",
            "   Edge-Ring       0.00      0.00      0.00         0\n",
            "         Loc       0.00      0.00      0.00         0\n",
            "      Random       0.00      0.00      0.00         0\n",
            "     Scratch       0.00      0.00      0.00         0\n",
            "   Near-full       0.00      0.00      0.00         0\n",
            "\n",
            "    accuracy                           0.00      3250\n",
            "   macro avg       0.11      0.00      0.00      3250\n",
            "weighted avg       1.00      0.00      0.01      3250\n",
            "\n"
          ],
          "name": "stdout"
        }
      ]
    },
    {
      "cell_type": "code",
      "metadata": {
        "id": "a-53yXWManyi"
      },
      "source": [
        ""
      ],
      "execution_count": null,
      "outputs": []
    },
    {
      "cell_type": "code",
      "metadata": {
        "id": "6LZl9EA4DRRL"
      },
      "source": [
        "def vgg16_model(img_shape=(224, 224, 3), n_classes=1000, l2_reg=0.,\n",
        "\tweights=None):\n",
        "\n",
        "\t# Initialize model\n",
        "\tvgg16 = Sequential()\n",
        "\n",
        "\t# Layer 1 & 2\n",
        "\tvgg16.add(Conv2D(64, (3, 3), padding='same',\n",
        "\t\tinput_shape=img_shape, kernel_regularizer=l2(l2_reg)))\n",
        "\tvgg16.add(Activation('relu'))\n",
        "\tvgg16.add(ZeroPadding2D((1, 1)))\n",
        "\tvgg16.add(Conv2D(64, (3, 3), padding='same'))\n",
        "\tvgg16.add(Activation('relu'))\n",
        "\tvgg16.add(MaxPooling2D(pool_size=(2, 2)))\n",
        "\n",
        "\t# Layer 3 & 4\n",
        "\tvgg16.add(ZeroPadding2D((1, 1)))\n",
        "\tvgg16.add(Conv2D(128, (3, 3), padding='same'))\n",
        "\tvgg16.add(Activation('relu'))\n",
        "\tvgg16.add(ZeroPadding2D((1, 1)))\n",
        "\tvgg16.add(Conv2D(128, (3, 3), padding='same'))\n",
        "\tvgg16.add(Activation('relu'))\n",
        "\tvgg16.add(MaxPooling2D(pool_size=(2, 2)))\n",
        "\n",
        "\t# Layer 5, 6, & 7\n",
        "\tvgg16.add(ZeroPadding2D((1, 1)))\n",
        "\tvgg16.add(Conv2D(256, (3, 3), padding='same'))\n",
        "\tvgg16.add(Activation('relu'))\n",
        "\tvgg16.add(ZeroPadding2D((1, 1)))\n",
        "\tvgg16.add(Conv2D(256, (3, 3), padding='same'))\n",
        "\tvgg16.add(Activation('relu'))\n",
        "\tvgg16.add(ZeroPadding2D((1, 1)))\n",
        "\tvgg16.add(Conv2D(256, (3, 3), padding='same'))\n",
        "\tvgg16.add(Activation('relu'))\n",
        "\tvgg16.add(MaxPooling2D(pool_size=(2, 2)))\n",
        "\n",
        "\t# Layers 8, 9, & 10\n",
        "\tvgg16.add(ZeroPadding2D((1, 1)))\n",
        "\tvgg16.add(Conv2D(512, (3, 3), padding='same'))\n",
        "\tvgg16.add(Activation('relu'))\n",
        "\tvgg16.add(ZeroPadding2D((1, 1)))\n",
        "\tvgg16.add(Conv2D(512, (3, 3), padding='same'))\n",
        "\tvgg16.add(Activation('relu'))\n",
        "\tvgg16.add(ZeroPadding2D((1, 1)))\n",
        "\tvgg16.add(Conv2D(512, (3, 3), padding='same'))\n",
        "\tvgg16.add(Activation('relu'))\n",
        "\tvgg16.add(MaxPooling2D(pool_size=(2, 2)))\n",
        "\n",
        "\t# Layers 11, 12, & 13\n",
        "\tvgg16.add(ZeroPadding2D((1, 1)))\n",
        "\tvgg16.add(Conv2D(512, (3, 3), padding='same'))\n",
        "\tvgg16.add(Activation('relu'))\n",
        "\tvgg16.add(ZeroPadding2D((1, 1)))\n",
        "\tvgg16.add(Conv2D(512, (3, 3), padding='same'))\n",
        "\tvgg16.add(Activation('relu'))\n",
        "\tvgg16.add(ZeroPadding2D((1, 1)))\n",
        "\tvgg16.add(Conv2D(512, (3, 3), padding='same'))\n",
        "\tvgg16.add(Activation('relu'))\n",
        "\tvgg16.add(MaxPooling2D(pool_size=(2, 2)))\n",
        "\n",
        "\t# Layers 14, 15, & 16\n",
        "\tvgg16.add(Flatten())\n",
        "\tvgg16.add(Dense(4096))\n",
        "\tvgg16.add(Activation('relu'))\n",
        "\tvgg16.add(Dropout(0.5))\n",
        "\tvgg16.add(Dense(4096))\n",
        "\tvgg16.add(Activation('relu'))\n",
        "\tvgg16.add(Dropout(0.5))\n",
        "\tvgg16.add(Dense(n_classes))\n",
        "\tvgg16.add(Activation('softmax'))\n",
        "\n",
        "\tif weights is not None:\n",
        "\t\tvgg16.load_weights(weights)\n",
        "\n",
        "\treturn vgg16\n",
        "\n",
        "def vgg19_model(img_shape=(224, 224, 3), n_classes=1000, l2_reg=0.,\n",
        "\tweights=None):\n",
        "\n",
        "\t# Initialize model\n",
        "\tvgg19 = Sequential()\n",
        "\n",
        "\t# Layer 1 & 2\n",
        "\tvgg19.add(Conv2D(64, (3, 3), padding='same',\n",
        "\t\tinput_shape=img_shape, kernel_regularizer=l2(l2_reg)))\n",
        "\tvgg19.add(Activation('relu'))\n",
        "\tvgg19.add(ZeroPadding2D((1, 1)))\n",
        "\tvgg19.add(Conv2D(64, (3, 3), padding='same'))\n",
        "\tvgg19.add(Activation('relu'))\n",
        "\tvgg19.add(MaxPooling2D(pool_size=(2, 2)))\n",
        "\n",
        "\t# Layer 3 & 4\n",
        "\tvgg19.add(ZeroPadding2D((1, 1)))\n",
        "\tvgg19.add(Conv2D(128, (3, 3), padding='same'))\n",
        "\tvgg19.add(Activation('relu'))\n",
        "\tvgg19.add(ZeroPadding2D((1, 1)))\n",
        "\tvgg19.add(Conv2D(128, (3, 3), padding='same'))\n",
        "\tvgg19.add(Activation('relu'))\n",
        "\tvgg19.add(MaxPooling2D(pool_size=(2, 2)))\n",
        "\n",
        "\t# Layer 5, 6, 7, & 8\n",
        "\tvgg19.add(ZeroPadding2D((1, 1)))\n",
        "\tvgg19.add(Conv2D(256, (3, 3), padding='same'))\n",
        "\tvgg19.add(Activation('relu'))\n",
        "\tvgg19.add(ZeroPadding2D((1, 1)))\n",
        "\tvgg19.add(Conv2D(256, (3, 3), padding='same'))\n",
        "\tvgg19.add(Activation('relu'))\n",
        "\tvgg19.add(ZeroPadding2D((1, 1)))\n",
        "\tvgg19.add(Conv2D(256, (3, 3), padding='same'))\n",
        "\tvgg19.add(Activation('relu'))\n",
        "\tvgg19.add(ZeroPadding2D((1, 1)))\n",
        "\tvgg19.add(Conv2D(256, (3, 3), padding='same'))\n",
        "\tvgg19.add(Activation('relu'))\n",
        "\tvgg19.add(MaxPooling2D(pool_size=(2, 2)))\n",
        "\n",
        "\t# Layers 9, 10, 11, & 12\n",
        "\tvgg19.add(ZeroPadding2D((1, 1)))\n",
        "\tvgg19.add(Conv2D(512, (3, 3), padding='same'))\n",
        "\tvgg19.add(Activation('relu'))\n",
        "\tvgg19.add(ZeroPadding2D((1, 1)))\n",
        "\tvgg19.add(Conv2D(512, (3, 3), padding='same'))\n",
        "\tvgg19.add(Activation('relu'))\n",
        "\tvgg19.add(ZeroPadding2D((1, 1)))\n",
        "\tvgg19.add(Conv2D(512, (3, 3), padding='same'))\n",
        "\tvgg19.add(Activation('relu'))\n",
        "\tvgg19.add(ZeroPadding2D((1, 1)))\n",
        "\tvgg19.add(Conv2D(512, (3, 3), padding='same'))\n",
        "\tvgg19.add(Activation('relu'))\n",
        "\tvgg19.add(MaxPooling2D(pool_size=(2, 2)))\n",
        "\n",
        "\t# Layers 13, 14, 15, & 16\n",
        "\tvgg19.add(ZeroPadding2D((1, 1)))\n",
        "\tvgg19.add(Conv2D(512, (3, 3), padding='same'))\n",
        "\tvgg19.add(Activation('relu'))\n",
        "\tvgg19.add(ZeroPadding2D((1, 1)))\n",
        "\tvgg19.add(Conv2D(512, (3, 3), padding='same'))\n",
        "\tvgg19.add(Activation('relu'))\n",
        "\tvgg19.add(ZeroPadding2D((1, 1)))\n",
        "\tvgg19.add(Conv2D(512, (3, 3), padding='same'))\n",
        "\tvgg19.add(Activation('relu'))\n",
        "\tvgg19.add(ZeroPadding2D((1, 1)))\n",
        "\tvgg19.add(Conv2D(512, (3, 3), padding='same'))\n",
        "\tvgg19.add(Activation('relu'))\n",
        "\tvgg19.add(MaxPooling2D(pool_size=(2, 2)))\n",
        "\n",
        "\t# Layers 17, 18, & 19\n",
        "\tvgg19.add(Flatten())\n",
        "\tvgg19.add(Dense(4096))\n",
        "\tvgg19.add(Activation('relu'))\n",
        "\tvgg19.add(Dropout(0.5))\n",
        "\tvgg19.add(Dense(4096))\n",
        "\tvgg19.add(Activation('relu'))\n",
        "\tvgg19.add(Dropout(0.5))\n",
        "\tvgg19.add(Dense(n_classes))\n",
        "\tvgg19.add(Activation('softmax'))\n",
        "\n",
        "\tif weights is not None:\n",
        "\t\tvgg19.load_weights(weights)\n",
        "\n",
        "\treturn vgg19"
      ],
      "execution_count": 19,
      "outputs": []
    },
    {
      "cell_type": "code",
      "metadata": {
        "id": "mTyT7rVXX_w2"
      },
      "source": [
        ""
      ],
      "execution_count": null,
      "outputs": []
    },
    {
      "cell_type": "code",
      "metadata": {
        "id": "ZGqF6c-3qHnj",
        "colab": {
          "base_uri": "https://localhost:8080/"
        },
        "outputId": "682b1470-896b-42fe-eee4-3e53645bf692"
      },
      "source": [
        "model = vgg16_model(img_shape=(32, 32, 3), n_classes=9)\n",
        "model.summary()\n",
        "plot_model(model, show_shapes=True)\n",
        "\n",
        "filepath =  os.path.join(dir,'model_output',number,model.name,'{epoch:03d}.h5')\n",
        "callbacks_list = [ModelCheckpoint(filepath, monitor='val_loss', verbose=1, save_weights_only=False, save_best_only=True, mode='min'),\n",
        "                  ModelCheckpoint(filepath, monitor='val_accuracy', verbose=1, save_weights_only=False, save_best_only=True, mode='max'),\n",
        "                  EarlyStopping(monitor='val_auc', patience=3),\n",
        "                  LearningRateScheduler(lr_schedule,verbose=1)] \n",
        "model.compile(optimizer = 'rmsprop', loss = 'categorical_crossentropy', metrics=['AUC', 'Precision','Recall'])\n",
        "auto = model.fit(x_train, y_, validation_data=(x_test, y_2), epochs=50, batch_size=128, callbacks=callbacks_list)"
      ],
      "execution_count": 47,
      "outputs": [
        {
          "output_type": "stream",
          "text": [
            "Model: \"sequential\"\n",
            "_________________________________________________________________\n",
            "Layer (type)                 Output Shape              Param #   \n",
            "=================================================================\n",
            "conv2d_25 (Conv2D)           (None, 32, 32, 64)        1792      \n",
            "_________________________________________________________________\n",
            "activation (Activation)      (None, 32, 32, 64)        0         \n",
            "_________________________________________________________________\n",
            "zero_padding2d (ZeroPadding2 (None, 34, 34, 64)        0         \n",
            "_________________________________________________________________\n",
            "conv2d_26 (Conv2D)           (None, 34, 34, 64)        36928     \n",
            "_________________________________________________________________\n",
            "activation_1 (Activation)    (None, 34, 34, 64)        0         \n",
            "_________________________________________________________________\n",
            "max_pooling2d_2 (MaxPooling2 (None, 17, 17, 64)        0         \n",
            "_________________________________________________________________\n",
            "zero_padding2d_1 (ZeroPaddin (None, 19, 19, 64)        0         \n",
            "_________________________________________________________________\n",
            "conv2d_27 (Conv2D)           (None, 19, 19, 128)       73856     \n",
            "_________________________________________________________________\n",
            "activation_2 (Activation)    (None, 19, 19, 128)       0         \n",
            "_________________________________________________________________\n",
            "zero_padding2d_2 (ZeroPaddin (None, 21, 21, 128)       0         \n",
            "_________________________________________________________________\n",
            "conv2d_28 (Conv2D)           (None, 21, 21, 128)       147584    \n",
            "_________________________________________________________________\n",
            "activation_3 (Activation)    (None, 21, 21, 128)       0         \n",
            "_________________________________________________________________\n",
            "max_pooling2d_3 (MaxPooling2 (None, 10, 10, 128)       0         \n",
            "_________________________________________________________________\n",
            "zero_padding2d_3 (ZeroPaddin (None, 12, 12, 128)       0         \n",
            "_________________________________________________________________\n",
            "conv2d_29 (Conv2D)           (None, 12, 12, 256)       295168    \n",
            "_________________________________________________________________\n",
            "activation_4 (Activation)    (None, 12, 12, 256)       0         \n",
            "_________________________________________________________________\n",
            "zero_padding2d_4 (ZeroPaddin (None, 14, 14, 256)       0         \n",
            "_________________________________________________________________\n",
            "conv2d_30 (Conv2D)           (None, 14, 14, 256)       590080    \n",
            "_________________________________________________________________\n",
            "activation_5 (Activation)    (None, 14, 14, 256)       0         \n",
            "_________________________________________________________________\n",
            "zero_padding2d_5 (ZeroPaddin (None, 16, 16, 256)       0         \n",
            "_________________________________________________________________\n",
            "conv2d_31 (Conv2D)           (None, 16, 16, 256)       590080    \n",
            "_________________________________________________________________\n",
            "activation_6 (Activation)    (None, 16, 16, 256)       0         \n",
            "_________________________________________________________________\n",
            "max_pooling2d_4 (MaxPooling2 (None, 8, 8, 256)         0         \n",
            "_________________________________________________________________\n",
            "zero_padding2d_6 (ZeroPaddin (None, 10, 10, 256)       0         \n",
            "_________________________________________________________________\n",
            "conv2d_32 (Conv2D)           (None, 10, 10, 512)       1180160   \n",
            "_________________________________________________________________\n",
            "activation_7 (Activation)    (None, 10, 10, 512)       0         \n",
            "_________________________________________________________________\n",
            "zero_padding2d_7 (ZeroPaddin (None, 12, 12, 512)       0         \n",
            "_________________________________________________________________\n",
            "conv2d_33 (Conv2D)           (None, 12, 12, 512)       2359808   \n",
            "_________________________________________________________________\n",
            "activation_8 (Activation)    (None, 12, 12, 512)       0         \n",
            "_________________________________________________________________\n",
            "zero_padding2d_8 (ZeroPaddin (None, 14, 14, 512)       0         \n",
            "_________________________________________________________________\n",
            "conv2d_34 (Conv2D)           (None, 14, 14, 512)       2359808   \n",
            "_________________________________________________________________\n",
            "activation_9 (Activation)    (None, 14, 14, 512)       0         \n",
            "_________________________________________________________________\n",
            "max_pooling2d_5 (MaxPooling2 (None, 7, 7, 512)         0         \n",
            "_________________________________________________________________\n",
            "zero_padding2d_9 (ZeroPaddin (None, 9, 9, 512)         0         \n",
            "_________________________________________________________________\n",
            "conv2d_35 (Conv2D)           (None, 9, 9, 512)         2359808   \n",
            "_________________________________________________________________\n",
            "activation_10 (Activation)   (None, 9, 9, 512)         0         \n",
            "_________________________________________________________________\n",
            "zero_padding2d_10 (ZeroPaddi (None, 11, 11, 512)       0         \n",
            "_________________________________________________________________\n",
            "conv2d_36 (Conv2D)           (None, 11, 11, 512)       2359808   \n",
            "_________________________________________________________________\n",
            "activation_11 (Activation)   (None, 11, 11, 512)       0         \n",
            "_________________________________________________________________\n",
            "zero_padding2d_11 (ZeroPaddi (None, 13, 13, 512)       0         \n",
            "_________________________________________________________________\n",
            "conv2d_37 (Conv2D)           (None, 13, 13, 512)       2359808   \n",
            "_________________________________________________________________\n",
            "activation_12 (Activation)   (None, 13, 13, 512)       0         \n",
            "_________________________________________________________________\n",
            "max_pooling2d_6 (MaxPooling2 (None, 6, 6, 512)         0         \n",
            "_________________________________________________________________\n",
            "flatten_5 (Flatten)          (None, 18432)             0         \n",
            "_________________________________________________________________\n",
            "dense_15 (Dense)             (None, 4096)              75501568  \n",
            "_________________________________________________________________\n",
            "activation_13 (Activation)   (None, 4096)              0         \n",
            "_________________________________________________________________\n",
            "dropout_5 (Dropout)          (None, 4096)              0         \n",
            "_________________________________________________________________\n",
            "dense_16 (Dense)             (None, 4096)              16781312  \n",
            "_________________________________________________________________\n",
            "activation_14 (Activation)   (None, 4096)              0         \n",
            "_________________________________________________________________\n",
            "dropout_6 (Dropout)          (None, 4096)              0         \n",
            "_________________________________________________________________\n",
            "dense_17 (Dense)             (None, 9)                 36873     \n",
            "_________________________________________________________________\n",
            "activation_15 (Activation)   (None, 9)                 0         \n",
            "=================================================================\n",
            "Total params: 107,034,441\n",
            "Trainable params: 107,034,441\n",
            "Non-trainable params: 0\n",
            "_________________________________________________________________\n",
            "Epoch 1/50\n",
            "Learning rate:  0.0003\n",
            "\n",
            "Epoch 00001: LearningRateScheduler reducing learning rate to 0.0003.\n",
            "102/102 [==============================] - 52s 400ms/step - loss: 2.0480 - auc: 0.6958 - precision: 0.5134 - recall: 0.0926 - val_loss: 0.5322 - val_auc: 0.9970 - val_precision: 0.9960 - val_recall: 0.9095\n",
            "\n",
            "Epoch 00001: val_loss improved from inf to 0.53217, saving model to /content/drive/Shareddrives/Labs/2020_1_이소연/code/wm811k/model_output/1/sequential/001.h5\n",
            "WARNING:tensorflow:Can save best model only with val_accuracy available, skipping.\n",
            "Epoch 2/50\n",
            "Learning rate:  0.0003\n",
            "\n",
            "Epoch 00002: LearningRateScheduler reducing learning rate to 0.0003.\n",
            "102/102 [==============================] - 30s 293ms/step - loss: 1.3189 - auc: 0.8840 - precision: 0.8111 - recall: 0.3808 - val_loss: 0.2228 - val_auc: 0.9967 - val_precision: 0.9925 - val_recall: 0.8942\n",
            "\n",
            "Epoch 00002: val_loss improved from 0.53217 to 0.22277, saving model to /content/drive/Shareddrives/Labs/2020_1_이소연/code/wm811k/model_output/1/sequential/002.h5\n",
            "WARNING:tensorflow:Can save best model only with val_accuracy available, skipping.\n",
            "Epoch 3/50\n",
            "Learning rate:  0.0003\n",
            "\n",
            "Epoch 00003: LearningRateScheduler reducing learning rate to 0.0003.\n",
            "102/102 [==============================] - 31s 303ms/step - loss: 0.6708 - auc: 0.9700 - precision: 0.8544 - recall: 0.6743 - val_loss: 0.2208 - val_auc: 0.9964 - val_precision: 0.9837 - val_recall: 0.9286\n",
            "\n",
            "Epoch 00003: val_loss improved from 0.22277 to 0.22080, saving model to /content/drive/Shareddrives/Labs/2020_1_이소연/code/wm811k/model_output/1/sequential/003.h5\n",
            "WARNING:tensorflow:Can save best model only with val_accuracy available, skipping.\n",
            "Epoch 4/50\n",
            "Learning rate:  0.0003\n",
            "\n",
            "Epoch 00004: LearningRateScheduler reducing learning rate to 0.0003.\n",
            "102/102 [==============================] - 31s 299ms/step - loss: 0.3928 - auc: 0.9878 - precision: 0.9041 - recall: 0.8369 - val_loss: 0.1471 - val_auc: 0.9940 - val_precision: 0.9720 - val_recall: 0.9625\n",
            "\n",
            "Epoch 00004: val_loss improved from 0.22080 to 0.14709, saving model to /content/drive/Shareddrives/Labs/2020_1_이소연/code/wm811k/model_output/1/sequential/004.h5\n",
            "WARNING:tensorflow:Can save best model only with val_accuracy available, skipping.\n",
            "Epoch 5/50\n",
            "Learning rate:  0.0003\n",
            "\n",
            "Epoch 00005: LearningRateScheduler reducing learning rate to 0.0003.\n",
            "102/102 [==============================] - 31s 303ms/step - loss: 0.2782 - auc: 0.9916 - precision: 0.9341 - recall: 0.9051 - val_loss: 0.1060 - val_auc: 0.9980 - val_precision: 0.9764 - val_recall: 0.9671\n",
            "\n",
            "Epoch 00005: val_loss improved from 0.14709 to 0.10601, saving model to /content/drive/Shareddrives/Labs/2020_1_이소연/code/wm811k/model_output/1/sequential/005.h5\n",
            "WARNING:tensorflow:Can save best model only with val_accuracy available, skipping.\n",
            "Epoch 6/50\n",
            "Learning rate:  0.0003\n",
            "\n",
            "Epoch 00006: LearningRateScheduler reducing learning rate to 0.0003.\n",
            "102/102 [==============================] - 30s 299ms/step - loss: 0.1460 - auc: 0.9965 - precision: 0.9637 - recall: 0.9545 - val_loss: 0.8965 - val_auc: 0.9442 - val_precision: 0.8376 - val_recall: 0.6825\n",
            "\n",
            "Epoch 00006: val_loss did not improve from 0.10601\n",
            "WARNING:tensorflow:Can save best model only with val_accuracy available, skipping.\n",
            "Epoch 7/50\n",
            "Learning rate:  0.0003\n",
            "\n",
            "Epoch 00007: LearningRateScheduler reducing learning rate to 0.0003.\n",
            "102/102 [==============================] - 30s 299ms/step - loss: 0.1402 - auc: 0.9962 - precision: 0.9723 - recall: 0.9616 - val_loss: 0.4610 - val_auc: 0.9799 - val_precision: 0.8867 - val_recall: 0.8720\n",
            "\n",
            "Epoch 00007: val_loss did not improve from 0.10601\n",
            "WARNING:tensorflow:Can save best model only with val_accuracy available, skipping.\n",
            "Epoch 8/50\n",
            "Learning rate:  0.0003\n",
            "\n",
            "Epoch 00008: LearningRateScheduler reducing learning rate to 0.0003.\n",
            "102/102 [==============================] - 30s 299ms/step - loss: 0.1263 - auc: 0.9962 - precision: 0.9742 - recall: 0.9678 - val_loss: 0.1120 - val_auc: 0.9955 - val_precision: 0.9815 - val_recall: 0.9772\n",
            "\n",
            "Epoch 00008: val_loss did not improve from 0.10601\n",
            "WARNING:tensorflow:Can save best model only with val_accuracy available, skipping.\n",
            "Epoch 9/50\n",
            "Learning rate:  0.0003\n",
            "\n",
            "Epoch 00009: LearningRateScheduler reducing learning rate to 0.0003.\n",
            "102/102 [==============================] - 30s 298ms/step - loss: 0.0785 - auc: 0.9980 - precision: 0.9823 - recall: 0.9780 - val_loss: 0.1548 - val_auc: 0.9935 - val_precision: 0.9743 - val_recall: 0.9698\n",
            "\n",
            "Epoch 00009: val_loss did not improve from 0.10601\n",
            "WARNING:tensorflow:Can save best model only with val_accuracy available, skipping.\n"
          ],
          "name": "stdout"
        }
      ]
    },
    {
      "cell_type": "code",
      "metadata": {
        "id": "auoKkBFeiqVt"
      },
      "source": [
        "loss=auto.history['loss']\n",
        "val_loss=auto.history['val_loss']\n",
        "auc=auto.history['auc']\n",
        "val_auc=auto.history['val_auc']\n",
        "precision=auto.history['precision']\n",
        "val_precision=auto.history['val_precision']\n",
        "recall=auto.history['recall']\n",
        "val_recall=auto.history['val_recall']\n",
        "epochs=range(1,len(loss)+1)\n",
        "\n",
        "data = np.array([epochs,loss,val_loss,auc,val_auc,precision,val_precision,recall, val_recall]).T"
      ],
      "execution_count": null,
      "outputs": []
    },
    {
      "cell_type": "code",
      "metadata": {
        "id": "ELLd_xL6PKIq"
      },
      "source": [
        "import itertools\n",
        "from sklearn.metrics import confusion_matrix\n",
        "\n",
        "def plot_confusion_matrix(cm, normalize=False, title='Confusion matrix', cmap=plt.cm.Blues):\n",
        "    \"\"\"\n",
        "    This function prints and plots the confusion matrix.\n",
        "    Normalization can be applied by setting `normalize=True`.\n",
        "    \"\"\"\n",
        "    if normalize:\n",
        "        cm = cm.astype('float') / cm.sum(axis=1)[:, np.newaxis]\n",
        "        print(\"Normalized confusion matrix\")\n",
        "    else:\n",
        "        print('Confusion matrix, without normalization')\n",
        "\n",
        "    #print(cm)\n",
        "\n",
        "    plt.imshow(cm, interpolation='nearest', cmap=cmap)\n",
        "    plt.title(title)\n",
        "    plt.colorbar()\n",
        "\n",
        "    fmt = '.2f' if normalize else 'd'\n",
        "    thresh = cm.max() / 2.\n",
        "    for i, j in itertools.product(range(cm.shape[0]), range(cm.shape[1])):\n",
        "        plt.text(j, i, format(cm[i, j], fmt),\n",
        "                 horizontalalignment=\"center\",\n",
        "                 color=\"white\" if cm[i, j] > thresh else \"black\")\n",
        "\n",
        "    plt.tight_layout()\n",
        "    plt.ylabel('True label')\n",
        "    plt.xlabel('Predicted label') "
      ],
      "execution_count": 48,
      "outputs": []
    },
    {
      "cell_type": "code",
      "metadata": {
        "id": "Ic6h4jVycJJv"
      },
      "source": [
        "def plot_confusion_matrix2(y_true, y_pred, classes,\n",
        "                          normalize=False,\n",
        "                          title=None,\n",
        "                          cmap=plt.cm.Blues):\n",
        "    \"\"\"\n",
        "    This function prints and plots the confusion matrix.\n",
        "    Normalization can be applied by setting `normalize=True`.\n",
        "    \"\"\"\n",
        "    if not title:\n",
        "        if normalize:\n",
        "            title = 'Normalized confusion matrix'\n",
        "        else:\n",
        "            title = 'Confusion matrix, without normalization'\n",
        "\n",
        "    # Compute confusion matrix\n",
        "    cm = confusion_matrix(y_true, y_pred)\n",
        "    # Only use the labels that appear in the data\n",
        "    #classes = classes[unique_labels(y_true, y_pred)]\n",
        "    if normalize:\n",
        "        cm = cm.astype('float') / cm.sum(axis=1)[:, np.newaxis]\n",
        "        print(\"Normalized confusion matrix\")\n",
        "    else:\n",
        "        print('Confusion matrix, without normalization')\n",
        "\n",
        "    # print(cm)\n",
        "\n",
        "    fig, ax = plt.subplots()\n",
        "    im = ax.imshow(cm, interpolation='nearest', cmap=cmap)\n",
        "    ax.figure.colorbar(im, ax=ax)\n",
        "    # We want to show all ticks...\n",
        "    ax.set(xticks=np.arange(cm.shape[1]),\n",
        "           yticks=np.arange(cm.shape[0]),\n",
        "           # ... and label them with the respective list entries\n",
        "           xticklabels=classes, yticklabels=classes,\n",
        "           title=title,\n",
        "           ylabel='True label',\n",
        "           xlabel='Predicted label')\n",
        "\n",
        "    # Rotate the tick labels and set their alignment.\n",
        "    plt.setp(ax.get_xticklabels(), rotation=45, ha=\"right\",\n",
        "             rotation_mode=\"anchor\")\n",
        "\n",
        "    # Loop over data dimensions and create text annotations.\n",
        "    fmt = '.2f' if normalize else 'd'\n",
        "    thresh = cm.max() / 2.\n",
        "    for i in range(cm.shape[0]):\n",
        "        for j in range(cm.shape[1]):\n",
        "            ax.text(j, i, format(cm[i, j], fmt),\n",
        "                    ha=\"center\", va=\"center\",\n",
        "                    color=\"white\" if cm[i, j] > thresh else \"black\")\n",
        "    fig.tight_layout()\n",
        "    return ax"
      ],
      "execution_count": 49,
      "outputs": []
    },
    {
      "cell_type": "code",
      "metadata": {
        "colab": {
          "base_uri": "https://localhost:8080/"
        },
        "id": "LKOBpZVLifVr",
        "outputId": "df30251f-40f5-4ac3-82fa-b3c56e13f4b6"
      },
      "source": [
        "y_test_pred = model.predict_classes(x_test)\n",
        "y_test_pred"
      ],
      "execution_count": 50,
      "outputs": [
        {
          "output_type": "execute_result",
          "data": {
            "text/plain": [
              "array([8, 8, 8, ..., 8, 8, 8])"
            ]
          },
          "metadata": {
            "tags": []
          },
          "execution_count": 50
        }
      ]
    },
    {
      "cell_type": "code",
      "metadata": {
        "colab": {
          "base_uri": "https://localhost:8080/"
        },
        "id": "8Mr7HM1boDca",
        "outputId": "7d757df9-f410-48e6-bfe0-82c6c2020128"
      },
      "source": [
        "le = LabelEncoder()\n",
        "y_test_ = le.fit_transform(y_test)\n",
        "y_test_"
      ],
      "execution_count": 51,
      "outputs": [
        {
          "output_type": "execute_result",
          "data": {
            "text/plain": [
              "array([8, 8, 8, ..., 8, 8, 8])"
            ]
          },
          "metadata": {
            "tags": []
          },
          "execution_count": 51
        }
      ]
    },
    {
      "cell_type": "code",
      "metadata": {
        "colab": {
          "base_uri": "https://localhost:8080/"
        },
        "id": "VZCRz1uRoyMm",
        "outputId": "cd820f05-462d-4d77-c5ae-d0971e6e0b45"
      },
      "source": [
        "print(len(y_test_pred),len(y_test_))"
      ],
      "execution_count": 52,
      "outputs": [
        {
          "output_type": "stream",
          "text": [
            "3250 3250\n"
          ],
          "name": "stdout"
        }
      ]
    },
    {
      "cell_type": "code",
      "metadata": {
        "colab": {
          "base_uri": "https://localhost:8080/"
        },
        "id": "d3R9gps9YH9a",
        "outputId": "a47bd16e-f117-4b0b-f8cd-875591f0cb0b"
      },
      "source": [
        "labels = ['Center','Donut','Edge-Loc','Edge-Ring','Loc','Near-full','Random','Scratch', 'none']\n",
        "print(classification_report(y_test_, y_test_pred, target_names=labels))"
      ],
      "execution_count": 58,
      "outputs": [
        {
          "output_type": "stream",
          "text": [
            "              precision    recall  f1-score   support\n",
            "\n",
            "      Center       0.55      0.86      0.67         7\n",
            "       Donut       0.00      0.00      0.00         1\n",
            "    Edge-Loc       0.54      0.64      0.58        47\n",
            "   Edge-Ring       0.75      0.78      0.77        23\n",
            "         Loc       0.53      0.56      0.55        43\n",
            "      Random       1.00      1.00      1.00        15\n",
            "     Scratch       0.67      0.67      0.67         3\n",
            "   Near-full       0.41      0.36      0.38        25\n",
            "        none       0.99      0.99      0.99      3086\n",
            "\n",
            "    accuracy                           0.97      3250\n",
            "   macro avg       0.60      0.65      0.62      3250\n",
            "weighted avg       0.97      0.97      0.97      3250\n",
            "\n"
          ],
          "name": "stdout"
        }
      ]
    },
    {
      "cell_type": "code",
      "metadata": {
        "colab": {
          "base_uri": "https://localhost:8080/",
          "height": 612
        },
        "id": "xESTPnsOUy9s",
        "outputId": "be10c78a-454f-40ff-f4ef-26a012c60762"
      },
      "source": [
        "np.set_printoptions(precision=2)\n",
        "\n",
        "# Plot non-normalized confusion matrix\n",
        "plot_confusion_matrix2(y_test_, y_test_pred, classes=labels, title='Confusion matrix, without normalization')\n",
        "\n",
        "# Plot normalized confusion matrix\n",
        "plot_confusion_matrix2(y_test_, y_test_pred, classes=labels, normalize=True, title='Normalized confusion matrix')\n",
        "\n",
        "plt.show()"
      ],
      "execution_count": 59,
      "outputs": [
        {
          "output_type": "stream",
          "text": [
            "Confusion matrix, without normalization\n",
            "Normalized confusion matrix\n"
          ],
          "name": "stdout"
        },
        {
          "output_type": "display_data",
          "data": {
            "image/png": "[encoded data removed]",
            "text/plain": [
              "<Figure size 432x288 with 2 Axes>"
            ]
          },
          "metadata": {
            "tags": [],
            "needs_background": "light"
          }
        },
        {
          "output_type": "display_data",
          "data": {
            "image/png": "[encoded data removed]",
            "text/plain": [
              "<Figure size 432x288 with 2 Axes>"
            ]
          },
          "metadata": {
            "tags": [],
            "needs_background": "light"
          }
        }
      ]
    },
    {
      "cell_type": "code",
      "metadata": {
        "id": "jwETRyV6cOkB"
      },
      "source": [
        ""
      ],
      "execution_count": null,
      "outputs": []
    },
    {
      "cell_type": "code",
      "metadata": {
        "colab": {
          "base_uri": "https://localhost:8080/"
        },
        "id": "qtNh_tFVU34W",
        "outputId": "81248337-c271-4b58-9f3c-8d1f8cbd9334"
      },
      "source": [
        "model = vgg19_model(img_shape=(32, 32, 3), n_classes=9)\n",
        "model.summary()\n",
        "plot_model(model, show_shapes=True)\n",
        "\n",
        "filepath =  os.path.join(dir,'model_output',number,model.name,'{epoch:03d}.h5')\n",
        "callbacks_list = [ModelCheckpoint(filepath, monitor='val_loss', verbose=1, save_weights_only=False, save_best_only=True, mode='min'),\n",
        "                  ModelCheckpoint(filepath, monitor='val_accuracy', verbose=1, save_weights_only=False, save_best_only=True, mode='max'),\n",
        "                  EarlyStopping(monitor='val_auc', patience=3),\n",
        "                  LearningRateScheduler(lr_schedule,verbose=1)] \n",
        "model.compile(optimizer = 'rmsprop', loss = 'categorical_crossentropy', metrics=['AUC', 'Precision','Recall'])\n",
        "auto = model.fit(x_train, y_, validation_data=(x_test, y_2), epochs=50, batch_size=128, callbacks=callbacks_list)"
      ],
      "execution_count": 60,
      "outputs": [
        {
          "output_type": "stream",
          "text": [
            "Model: \"sequential_1\"\n",
            "_________________________________________________________________\n",
            "Layer (type)                 Output Shape              Param #   \n",
            "=================================================================\n",
            "conv2d_38 (Conv2D)           (None, 32, 32, 64)        1792      \n",
            "_________________________________________________________________\n",
            "activation_16 (Activation)   (None, 32, 32, 64)        0         \n",
            "_________________________________________________________________\n",
            "zero_padding2d_12 (ZeroPaddi (None, 34, 34, 64)        0         \n",
            "_________________________________________________________________\n",
            "conv2d_39 (Conv2D)           (None, 34, 34, 64)        36928     \n",
            "_________________________________________________________________\n",
            "activation_17 (Activation)   (None, 34, 34, 64)        0         \n",
            "_________________________________________________________________\n",
            "max_pooling2d_7 (MaxPooling2 (None, 17, 17, 64)        0         \n",
            "_________________________________________________________________\n",
            "zero_padding2d_13 (ZeroPaddi (None, 19, 19, 64)        0         \n",
            "_________________________________________________________________\n",
            "conv2d_40 (Conv2D)           (None, 19, 19, 128)       73856     \n",
            "_________________________________________________________________\n",
            "activation_18 (Activation)   (None, 19, 19, 128)       0         \n",
            "_________________________________________________________________\n",
            "zero_padding2d_14 (ZeroPaddi (None, 21, 21, 128)       0         \n",
            "_________________________________________________________________\n",
            "conv2d_41 (Conv2D)           (None, 21, 21, 128)       147584    \n",
            "_________________________________________________________________\n",
            "activation_19 (Activation)   (None, 21, 21, 128)       0         \n",
            "_________________________________________________________________\n",
            "max_pooling2d_8 (MaxPooling2 (None, 10, 10, 128)       0         \n",
            "_________________________________________________________________\n",
            "zero_padding2d_15 (ZeroPaddi (None, 12, 12, 128)       0         \n",
            "_________________________________________________________________\n",
            "conv2d_42 (Conv2D)           (None, 12, 12, 256)       295168    \n",
            "_________________________________________________________________\n",
            "activation_20 (Activation)   (None, 12, 12, 256)       0         \n",
            "_________________________________________________________________\n",
            "zero_padding2d_16 (ZeroPaddi (None, 14, 14, 256)       0         \n",
            "_________________________________________________________________\n",
            "conv2d_43 (Conv2D)           (None, 14, 14, 256)       590080    \n",
            "_________________________________________________________________\n",
            "activation_21 (Activation)   (None, 14, 14, 256)       0         \n",
            "_________________________________________________________________\n",
            "zero_padding2d_17 (ZeroPaddi (None, 16, 16, 256)       0         \n",
            "_________________________________________________________________\n",
            "conv2d_44 (Conv2D)           (None, 16, 16, 256)       590080    \n",
            "_________________________________________________________________\n",
            "activation_22 (Activation)   (None, 16, 16, 256)       0         \n",
            "_________________________________________________________________\n",
            "zero_padding2d_18 (ZeroPaddi (None, 18, 18, 256)       0         \n",
            "_________________________________________________________________\n",
            "conv2d_45 (Conv2D)           (None, 18, 18, 256)       590080    \n",
            "_________________________________________________________________\n",
            "activation_23 (Activation)   (None, 18, 18, 256)       0         \n",
            "_________________________________________________________________\n",
            "max_pooling2d_9 (MaxPooling2 (None, 9, 9, 256)         0         \n",
            "_________________________________________________________________\n",
            "zero_padding2d_19 (ZeroPaddi (None, 11, 11, 256)       0         \n",
            "_________________________________________________________________\n",
            "conv2d_46 (Conv2D)           (None, 11, 11, 512)       1180160   \n",
            "_________________________________________________________________\n",
            "activation_24 (Activation)   (None, 11, 11, 512)       0         \n",
            "_________________________________________________________________\n",
            "zero_padding2d_20 (ZeroPaddi (None, 13, 13, 512)       0         \n",
            "_________________________________________________________________\n",
            "conv2d_47 (Conv2D)           (None, 13, 13, 512)       2359808   \n",
            "_________________________________________________________________\n",
            "activation_25 (Activation)   (None, 13, 13, 512)       0         \n",
            "_________________________________________________________________\n",
            "zero_padding2d_21 (ZeroPaddi (None, 15, 15, 512)       0         \n",
            "_________________________________________________________________\n",
            "conv2d_48 (Conv2D)           (None, 15, 15, 512)       2359808   \n",
            "_________________________________________________________________\n",
            "activation_26 (Activation)   (None, 15, 15, 512)       0         \n",
            "_________________________________________________________________\n",
            "zero_padding2d_22 (ZeroPaddi (None, 17, 17, 512)       0         \n",
            "_________________________________________________________________\n",
            "conv2d_49 (Conv2D)           (None, 17, 17, 512)       2359808   \n",
            "_________________________________________________________________\n",
            "activation_27 (Activation)   (None, 17, 17, 512)       0         \n",
            "_________________________________________________________________\n",
            "max_pooling2d_10 (MaxPooling (None, 8, 8, 512)         0         \n",
            "_________________________________________________________________\n",
            "zero_padding2d_23 (ZeroPaddi (None, 10, 10, 512)       0         \n",
            "_________________________________________________________________\n",
            "conv2d_50 (Conv2D)           (None, 10, 10, 512)       2359808   \n",
            "_________________________________________________________________\n",
            "activation_28 (Activation)   (None, 10, 10, 512)       0         \n",
            "_________________________________________________________________\n",
            "zero_padding2d_24 (ZeroPaddi (None, 12, 12, 512)       0         \n",
            "_________________________________________________________________\n",
            "conv2d_51 (Conv2D)           (None, 12, 12, 512)       2359808   \n",
            "_________________________________________________________________\n",
            "activation_29 (Activation)   (None, 12, 12, 512)       0         \n",
            "_________________________________________________________________\n",
            "zero_padding2d_25 (ZeroPaddi (None, 14, 14, 512)       0         \n",
            "_________________________________________________________________\n",
            "conv2d_52 (Conv2D)           (None, 14, 14, 512)       2359808   \n",
            "_________________________________________________________________\n",
            "activation_30 (Activation)   (None, 14, 14, 512)       0         \n",
            "_________________________________________________________________\n",
            "zero_padding2d_26 (ZeroPaddi (None, 16, 16, 512)       0         \n",
            "_________________________________________________________________\n",
            "conv2d_53 (Conv2D)           (None, 16, 16, 512)       2359808   \n",
            "_________________________________________________________________\n",
            "activation_31 (Activation)   (None, 16, 16, 512)       0         \n",
            "_________________________________________________________________\n",
            "max_pooling2d_11 (MaxPooling (None, 8, 8, 512)         0         \n",
            "_________________________________________________________________\n",
            "flatten_6 (Flatten)          (None, 32768)             0         \n",
            "_________________________________________________________________\n",
            "dense_18 (Dense)             (None, 4096)              134221824 \n",
            "_________________________________________________________________\n",
            "activation_32 (Activation)   (None, 4096)              0         \n",
            "_________________________________________________________________\n",
            "dropout_7 (Dropout)          (None, 4096)              0         \n",
            "_________________________________________________________________\n",
            "dense_19 (Dense)             (None, 4096)              16781312  \n",
            "_________________________________________________________________\n",
            "activation_33 (Activation)   (None, 4096)              0         \n",
            "_________________________________________________________________\n",
            "dropout_8 (Dropout)          (None, 4096)              0         \n",
            "_________________________________________________________________\n",
            "dense_20 (Dense)             (None, 9)                 36873     \n",
            "_________________________________________________________________\n",
            "activation_34 (Activation)   (None, 9)                 0         \n",
            "=================================================================\n",
            "Total params: 171,064,393\n",
            "Trainable params: 171,064,393\n",
            "Non-trainable params: 0\n",
            "_________________________________________________________________\n",
            "Epoch 1/50\n",
            "Learning rate:  0.0003\n",
            "\n",
            "Epoch 00001: LearningRateScheduler reducing learning rate to 0.0003.\n",
            "102/102 [==============================] - 71s 575ms/step - loss: 2.0588 - auc: 0.6387 - precision: 0.3593 - recall: 0.0127 - val_loss: 0.8267 - val_auc: 0.9777 - val_precision: 0.0000e+00 - val_recall: 0.0000e+00\n",
            "\n",
            "Epoch 00001: val_loss improved from inf to 0.82672, saving model to /content/drive/Shareddrives/Labs/2020_1_이소연/code/wm811k/model_output/1/sequential_1/001.h5\n",
            "WARNING:tensorflow:Can save best model only with val_accuracy available, skipping.\n",
            "Epoch 2/50\n",
            "Learning rate:  0.0003\n",
            "\n",
            "Epoch 00002: LearningRateScheduler reducing learning rate to 0.0003.\n",
            "102/102 [==============================] - 47s 461ms/step - loss: 2.0187 - auc: 0.6397 - precision: 0.3511 - recall: 0.0071 - val_loss: 2.8914 - val_auc: 0.6158 - val_precision: 0.0094 - val_recall: 0.0046\n",
            "\n",
            "Epoch 00002: val_loss did not improve from 0.82672\n",
            "WARNING:tensorflow:Can save best model only with val_accuracy available, skipping.\n",
            "Epoch 3/50\n",
            "Learning rate:  0.0003\n",
            "\n",
            "Epoch 00003: LearningRateScheduler reducing learning rate to 0.0003.\n",
            "102/102 [==============================] - 47s 458ms/step - loss: 2.0841 - auc: 0.6381 - precision: 0.3471 - recall: 0.0129 - val_loss: 1.1823 - val_auc: 0.9802 - val_precision: 0.0000e+00 - val_recall: 0.0000e+00\n",
            "\n",
            "Epoch 00003: val_loss did not improve from 0.82672\n",
            "WARNING:tensorflow:Can save best model only with val_accuracy available, skipping.\n",
            "Epoch 4/50\n",
            "Learning rate:  0.0003\n",
            "\n",
            "Epoch 00004: LearningRateScheduler reducing learning rate to 0.0003.\n",
            "102/102 [==============================] - 47s 459ms/step - loss: 1.8482 - auc: 0.7316 - precision: 0.5172 - recall: 0.0856 - val_loss: 0.6488 - val_auc: 0.9880 - val_precision: 0.9656 - val_recall: 0.9492\n",
            "\n",
            "Epoch 00004: val_loss improved from 0.82672 to 0.64882, saving model to /content/drive/Shareddrives/Labs/2020_1_이소연/code/wm811k/model_output/1/sequential_1/004.h5\n",
            "WARNING:tensorflow:Can save best model only with val_accuracy available, skipping.\n",
            "Epoch 5/50\n",
            "Learning rate:  0.0003\n",
            "\n",
            "Epoch 00005: LearningRateScheduler reducing learning rate to 0.0003.\n",
            "102/102 [==============================] - 48s 469ms/step - loss: 1.4264 - auc: 0.8614 - precision: 0.7416 - recall: 0.3605 - val_loss: 0.1280 - val_auc: 0.9986 - val_precision: 0.9900 - val_recall: 0.9452\n",
            "\n",
            "Epoch 00005: val_loss improved from 0.64882 to 0.12797, saving model to /content/drive/Shareddrives/Labs/2020_1_이소연/code/wm811k/model_output/1/sequential_1/005.h5\n",
            "WARNING:tensorflow:Can save best model only with val_accuracy available, skipping.\n"
          ],
          "name": "stdout"
        }
      ]
    },
    {
      "cell_type": "code",
      "metadata": {
        "colab": {
          "base_uri": "https://localhost:8080/"
        },
        "id": "qmns87y7fcaU",
        "outputId": "39a629d9-8ea7-4a56-e921-d957c75ff111"
      },
      "source": [
        "y_test_pred = model.predict_classes(x_test)\n",
        "y_test_pred"
      ],
      "execution_count": 61,
      "outputs": [
        {
          "output_type": "execute_result",
          "data": {
            "text/plain": [
              "array([8, 8, 8, ..., 8, 8, 8])"
            ]
          },
          "metadata": {
            "tags": []
          },
          "execution_count": 61
        }
      ]
    },
    {
      "cell_type": "code",
      "metadata": {
        "colab": {
          "base_uri": "https://localhost:8080/"
        },
        "id": "2CKKXylEfcaj",
        "outputId": "923f31c3-a2a4-41bf-ae77-2c3f2a920eca"
      },
      "source": [
        "le = LabelEncoder()\n",
        "y_test_ = le.fit_transform(y_test)\n",
        "y_test_"
      ],
      "execution_count": 62,
      "outputs": [
        {
          "output_type": "execute_result",
          "data": {
            "text/plain": [
              "array([8, 8, 8, ..., 8, 8, 8])"
            ]
          },
          "metadata": {
            "tags": []
          },
          "execution_count": 62
        }
      ]
    },
    {
      "cell_type": "code",
      "metadata": {
        "colab": {
          "base_uri": "https://localhost:8080/"
        },
        "id": "-LLBoSMdfcak",
        "outputId": "10af4aea-06c7-40a4-9e7c-fc0d674f197e"
      },
      "source": [
        "print(len(y_test_pred),len(y_test_))"
      ],
      "execution_count": 63,
      "outputs": [
        {
          "output_type": "stream",
          "text": [
            "3250 3250\n"
          ],
          "name": "stdout"
        }
      ]
    },
    {
      "cell_type": "code",
      "metadata": {
        "colab": {
          "base_uri": "https://localhost:8080/"
        },
        "id": "UkcqsRAyfcam",
        "outputId": "64a2c9e2-3908-44c5-c779-26c0cae3c5df"
      },
      "source": [
        "labels = ['Center','Donut','Edge-Loc','Edge-Ring','Loc','Near-full','Random','Scratch', 'none']\n",
        "print(classification_report(y_test_, y_test_pred, target_names=labels))"
      ],
      "execution_count": 64,
      "outputs": [
        {
          "output_type": "stream",
          "text": [
            "              precision    recall  f1-score   support\n",
            "\n",
            "      Center       0.17      0.14      0.15         7\n",
            "       Donut       0.00      0.00      0.00         1\n",
            "    Edge-Loc       0.83      0.21      0.34        47\n",
            "   Edge-Ring       0.42      0.35      0.38        23\n",
            "         Loc       0.40      0.05      0.08        43\n",
            "      Random       1.00      1.00      1.00        15\n",
            "     Scratch       0.33      0.33      0.33         3\n",
            "   Near-full       0.13      0.36      0.19        25\n",
            "        none       0.99      1.00      0.99      3086\n",
            "\n",
            "    accuracy                           0.96      3250\n",
            "   macro avg       0.47      0.38      0.39      3250\n",
            "weighted avg       0.96      0.96      0.96      3250\n",
            "\n"
          ],
          "name": "stdout"
        }
      ]
    },
    {
      "cell_type": "code",
      "metadata": {
        "colab": {
          "base_uri": "https://localhost:8080/",
          "height": 612
        },
        "id": "C5U52i4Sfcan",
        "outputId": "2ad45cfd-ff7b-4017-c56f-9191651a2e37"
      },
      "source": [
        "np.set_printoptions(precision=2)\n",
        "\n",
        "# Plot non-normalized confusion matrix]\n",
        "plot_confusion_matrix2(y_test_, y_test_pred, classes=labels, title='Confusion matrix, without normalization')\n",
        "\n",
        "# Plot normalized confusion matrix]\n",
        "plot_confusion_matrix2(y_test_, y_test_pred, classes=labels, normalize=True, title='Normalized confusion matrix')\n",
        "\n",
        "plt.show()"
      ],
      "execution_count": 66,
      "outputs": [
        {
          "output_type": "stream",
          "text": [
            "Confusion matrix, without normalization\n",
            "Normalized confusion matrix\n"
          ],
          "name": "stdout"
        },
        {
          "output_type": "display_data",
          "data": {
            "image/png": "[encoded data removed]",
            "text/plain": [
              "<Figure size 432x288 with 2 Axes>"
            ]
          },
          "metadata": {
            "tags": [],
            "needs_background": "light"
          }
        },
        {
          "output_type": "display_data",
          "data": {
            "image/png": "[encoded data removed]",
            "text/plain": [
              "<Figure size 432x288 with 2 Axes>"
            ]
          },
          "metadata": {
            "tags": [],
            "needs_background": "light"
          }
        }
      ]
    },
    {
      "cell_type": "code",
      "metadata": {
        "id": "wpwHx6UUU3-u"
      },
      "source": [
        ""
      ],
      "execution_count": null,
      "outputs": []
    },
    {
      "cell_type": "code",
      "metadata": {
        "id": "_6qIYeNrkekF"
      },
      "source": [
        ""
      ],
      "execution_count": null,
      "outputs": []
    },
    {
      "cell_type": "code",
      "metadata": {
        "colab": {
          "base_uri": "https://localhost:8080/",
          "height": 808
        },
        "id": "E6KQ_l7MhtPf",
        "outputId": "c0fd4323-3295-4b87-bacb-55d1e45d088f"
      },
      "source": [
        "plt.plot(epochs[1:],auc[1:],'b',label='Training 1-Auc')\n",
        "plt.plot(epochs[1:],val_auc[1:],'r',label='Validation 1-Auc')\n",
        "plt.title('Training and Validation Top-1 AUC')\n",
        "plt.legend()\n",
        "plt.figure()\n",
        "\n",
        "plt.plot(epochs,precision,'b',label='Training Precision')\n",
        "plt.plot(epochs,val_precision,'r',label='Validation Precision')\n",
        "plt.title('Training and Validation Precision')\n",
        "plt.legend()\n",
        "plt.figure()\n",
        "\n",
        "plt.plot(epochs,loss,'b',label='Training Loss')\n",
        "plt.plot(epochs,val_loss,'r',label='Validation Loss')\n",
        "plt.title('Training and Validation Loss')\n",
        "plt.legend()\n",
        "plt.show()"
      ],
      "execution_count": null,
      "outputs": [
        {
          "output_type": "display_data",
          "data": {
            "image/png": "[encoded data removed]",
            "text/plain": [
              "<Figure size 432x288 with 1 Axes>"
            ]
          },
          "metadata": {
            "tags": [],
            "needs_background": "light"
          }
        },
        {
          "output_type": "display_data",
          "data": {
            "image/png": "[encoded data removed]",
            "text/plain": [
              "<Figure size 432x288 with 1 Axes>"
            ]
          },
          "metadata": {
            "tags": [],
            "needs_background": "light"
          }
        },
        {
          "output_type": "display_data",
          "data": {
            "image/png": "[encoded data removed]",
            "text/plain": [
              "<Figure size 432x288 with 1 Axes>"
            ]
          },
          "metadata": {
            "tags": [],
            "needs_background": "light"
          }
        }
      ]
    },
    {
      "cell_type": "code",
      "metadata": {
        "id": "JFhGzKxYhtSh"
      },
      "source": [
        "def identity_block(X, f, filters, stage, block):\n",
        "    \"\"\"\n",
        "    Implementation of the identity block as defined in Figure 4\n",
        "    \n",
        "    Arguments:\n",
        "    X -- input tensor of shape (m, n_H_prev, n_W_prev, n_C_prev)\n",
        "    f -- integer, specifying the shape of the middle CONV's window for the main path\n",
        "    filters -- python list of integers, defining the number of filters in the CONV layers of the main path\n",
        "    stage -- integer, used to name the layers, depending on their position in the network\n",
        "    block -- string/character, used to name the layers, depending on their position in the network\n",
        "    \n",
        "    Returns:\n",
        "    X -- output of the identity block, tensor of shape (n_H, n_W, n_C)\n",
        "    \"\"\"\n",
        "    \n",
        "    # defining name basis\n",
        "    conv_name_base = 'res' + str(stage) + block + '_branch'\n",
        "    bn_name_base = 'bn' + str(stage) + block + '_branch'\n",
        "    \n",
        "    # Retrieve Filters\n",
        "    F1, F2, F3 = filters\n",
        "    \n",
        "    # Save the input value. You'll need this later to add back to the main path. \n",
        "    X_shortcut = X\n",
        "    \n",
        "    # First component of main path\n",
        "    X = Conv2D(filters = F1, kernel_size = (1, 1), strides = (1,1), padding = 'valid', name = conv_name_base + '2a', kernel_initializer = glorot_uniform(seed=0))(X)\n",
        "    X = BatchNormalization(axis = 3, name = bn_name_base + '2a')(X)\n",
        "    X = Activation('relu')(X)\n",
        "    \n",
        "    ### START CODE HERE ###\n",
        "    \n",
        "    # Second component of main path (≈3 lines)\n",
        "    X = Conv2D(filters = F2, kernel_size = (f,f), strides = (1,1), padding = 'same', name = conv_name_base + '2b', kernel_initializer = glorot_uniform(seed=0))(X)\n",
        "    X = BatchNormalization(axis = 3, name = bn_name_base + '2b')(X)\n",
        "    X = Activation('relu')(X)\n",
        "\n",
        "    # Third component of main path (≈2 lines)\n",
        "    X = Conv2D(filters = F3, kernel_size = (1,1), strides = (1,1), padding = 'valid', name = conv_name_base + '2c', kernel_initializer = glorot_uniform(seed=0))(X)\n",
        "    X = BatchNormalization(axis = 3, name = bn_name_base + '2c')(X)\n",
        "\n",
        "    # Final step: Add shortcut value to main path, and pass it through a RELU activation (≈2 lines)\n",
        "    X = Add()([X, X_shortcut])\n",
        "    X = Activation('relu')(X)\n",
        "    \n",
        "    ### END CODE HERE ###\n",
        "    \n",
        "    return X"
      ],
      "execution_count": 85,
      "outputs": []
    },
    {
      "cell_type": "code",
      "metadata": {
        "id": "hZqgbiaVhh3X"
      },
      "source": [
        "def convolutional_block(X, f, filters, stage, block, s = 2):\n",
        "    \"\"\"\n",
        "    Implementation of the convolutional block as defined in Figure 4\n",
        "    \n",
        "    Arguments:\n",
        "    X -- input tensor of shape (m, n_H_prev, n_W_prev, n_C_prev)\n",
        "    f -- integer, specifying the shape of the middle CONV's window for the main path\n",
        "    filters -- python list of integers, defining the number of filters in the CONV layers of the main path\n",
        "    stage -- integer, used to name the layers, depending on their position in the network\n",
        "    block -- string/character, used to name the layers, depending on their position in the network\n",
        "    s -- Integer, specifying the stride to be used\n",
        "    \n",
        "    Returns:\n",
        "    X -- output of the convolutional block, tensor of shape (n_H, n_W, n_C)\n",
        "    \"\"\"\n",
        "    \n",
        "    # defining name basis\n",
        "    conv_name_base = 'res' + str(stage) + block + '_branch'\n",
        "    bn_name_base = 'bn' + str(stage) + block + '_branch'\n",
        "    \n",
        "    # Retrieve Filters\n",
        "    F1, F2, F3 = filters\n",
        "    \n",
        "    # Save the input value\n",
        "    X_shortcut = X\n",
        "\n",
        "\n",
        "    ##### MAIN PATH #####\n",
        "    # First component of main path \n",
        "    X = Conv2D(F1, (1, 1), strides = (s,s), padding = 'valid', name = conv_name_base + '2a', kernel_initializer = glorot_uniform(seed=0))(X)\n",
        "    X = BatchNormalization(axis = 3, name = bn_name_base + '2a')(X)\n",
        "    X = Activation('relu')(X)\n",
        "    \n",
        "    ### START CODE HERE ###\n",
        "\n",
        "    # Second component of main path (≈3 lines)\n",
        "    X = Conv2D(F2, (f, f), strides = (1,1), padding = 'same', name = conv_name_base + '2b', kernel_initializer = glorot_uniform(seed=0))(X)\n",
        "    X = BatchNormalization(axis = 3, name = bn_name_base + '2b')(X)\n",
        "    X = Activation('relu')(X)\n",
        "\n",
        "    # Third component of main path (≈2 lines)\n",
        "    X = Conv2D(F3, (1, 1), strides = (1,1), padding = 'valid', name = conv_name_base + '2c', kernel_initializer = glorot_uniform(seed=0))(X)\n",
        "    X = BatchNormalization(axis = 3, name = bn_name_base + '2c')(X)\n",
        "\n",
        "    ##### SHORTCUT PATH #### (≈2 lines)\n",
        "    X_shortcut = Conv2D(F3, (1, 1), strides = (s,s), padding = 'valid', name = conv_name_base + '1', kernel_initializer = glorot_uniform(seed=0))(X_shortcut)\n",
        "    X_shortcut = BatchNormalization(axis = 3, name = bn_name_base + '1')(X_shortcut)\n",
        "\n",
        "    # Final step: Add shortcut value to main path, and pass it through a RELU activation (≈2 lines)\n",
        "    X = Add()([X, X_shortcut])\n",
        "    X = Activation('relu')(X)\n",
        "    \n",
        "    ### END CODE HERE ###\n",
        "    \n",
        "    return X"
      ],
      "execution_count": 86,
      "outputs": []
    },
    {
      "cell_type": "code",
      "metadata": {
        "colab": {
          "base_uri": "https://localhost:8080/"
        },
        "id": "TrRyEX3ahh5r",
        "outputId": "19407602-23b5-4370-f536-dd1c05464a29"
      },
      "source": [
        "# ResNet50\n",
        "model = ResNet50(input_shape = (32, 32, 3), classes = 9)\n",
        "model.summary()\n",
        "plot_model(model, show_shapes=True)\n",
        "\n",
        "filepath =  os.path.join(dir,'model_output',number,model.name,'{epoch:03d}.h5')\n",
        "callbacks_list = [ModelCheckpoint(filepath, monitor='val_loss', verbose=1, save_weights_only=False, save_best_only=True, mode='min'),\n",
        "                  ModelCheckpoint(filepath, monitor='val_accuracy', verbose=1, save_weights_only=False, save_best_only=True, mode='max'),\n",
        "                  EarlyStopping(monitor='val_auc', patience=3),\n",
        "                  LearningRateScheduler(lr_schedule,verbose=1)] \n",
        "model.compile(optimizer = 'rmsprop', loss = 'categorical_crossentropy', metrics=['AUC', 'Precision','Recall'])\n",
        "auto = model.fit(x_train, y_, validation_data=(x_test, y_2), epochs=30, batch_size=128, callbacks=callbacks_list)"
      ],
      "execution_count": 93,
      "outputs": [
        {
          "output_type": "stream",
          "text": [
            "Model: \"ResNet50\"\n",
            "__________________________________________________________________________________________________\n",
            "Layer (type)                    Output Shape         Param #     Connected to                     \n",
            "==================================================================================================\n",
            "input_15 (InputLayer)           [(None, 32, 32, 3)]  0                                            \n",
            "__________________________________________________________________________________________________\n",
            "zero_padding2d_30 (ZeroPadding2 (None, 34, 34, 3)    0           input_15[0][0]                   \n",
            "__________________________________________________________________________________________________\n",
            "conv1 (Conv2D)                  (None, 32, 32, 64)   1792        zero_padding2d_30[0][0]          \n",
            "__________________________________________________________________________________________________\n",
            "bn_conv1 (BatchNormalization)   (None, 32, 32, 64)   256         conv1[0][0]                      \n",
            "__________________________________________________________________________________________________\n",
            "activation_153 (Activation)     (None, 32, 32, 64)   0           bn_conv1[0][0]                   \n",
            "__________________________________________________________________________________________________\n",
            "max_pooling2d_17 (MaxPooling2D) (None, 16, 16, 64)   0           activation_153[0][0]             \n",
            "__________________________________________________________________________________________________\n",
            "res2a_branch2a (Conv2D)         (None, 16, 16, 32)   2080        max_pooling2d_17[0][0]           \n",
            "__________________________________________________________________________________________________\n",
            "bn2a_branch2a (BatchNormalizati (None, 16, 16, 32)   128         res2a_branch2a[0][0]             \n",
            "__________________________________________________________________________________________________\n",
            "activation_154 (Activation)     (None, 16, 16, 32)   0           bn2a_branch2a[0][0]              \n",
            "__________________________________________________________________________________________________\n",
            "res2a_branch2b (Conv2D)         (None, 16, 16, 32)   9248        activation_154[0][0]             \n",
            "__________________________________________________________________________________________________\n",
            "bn2a_branch2b (BatchNormalizati (None, 16, 16, 32)   128         res2a_branch2b[0][0]             \n",
            "__________________________________________________________________________________________________\n",
            "activation_155 (Activation)     (None, 16, 16, 32)   0           bn2a_branch2b[0][0]              \n",
            "__________________________________________________________________________________________________\n",
            "res2a_branch2c (Conv2D)         (None, 16, 16, 128)  4224        activation_155[0][0]             \n",
            "__________________________________________________________________________________________________\n",
            "res2a_branch1 (Conv2D)          (None, 16, 16, 128)  8320        max_pooling2d_17[0][0]           \n",
            "__________________________________________________________________________________________________\n",
            "bn2a_branch2c (BatchNormalizati (None, 16, 16, 128)  512         res2a_branch2c[0][0]             \n",
            "__________________________________________________________________________________________________\n",
            "bn2a_branch1 (BatchNormalizatio (None, 16, 16, 128)  512         res2a_branch1[0][0]              \n",
            "__________________________________________________________________________________________________\n",
            "add_40 (Add)                    (None, 16, 16, 128)  0           bn2a_branch2c[0][0]              \n",
            "                                                                 bn2a_branch1[0][0]               \n",
            "__________________________________________________________________________________________________\n",
            "activation_156 (Activation)     (None, 16, 16, 128)  0           add_40[0][0]                     \n",
            "__________________________________________________________________________________________________\n",
            "res2b_branch2a (Conv2D)         (None, 16, 16, 32)   4128        activation_156[0][0]             \n",
            "__________________________________________________________________________________________________\n",
            "bn2b_branch2a (BatchNormalizati (None, 16, 16, 32)   128         res2b_branch2a[0][0]             \n",
            "__________________________________________________________________________________________________\n",
            "activation_157 (Activation)     (None, 16, 16, 32)   0           bn2b_branch2a[0][0]              \n",
            "__________________________________________________________________________________________________\n",
            "res2b_branch2b (Conv2D)         (None, 16, 16, 32)   9248        activation_157[0][0]             \n",
            "__________________________________________________________________________________________________\n",
            "bn2b_branch2b (BatchNormalizati (None, 16, 16, 32)   128         res2b_branch2b[0][0]             \n",
            "__________________________________________________________________________________________________\n",
            "activation_158 (Activation)     (None, 16, 16, 32)   0           bn2b_branch2b[0][0]              \n",
            "__________________________________________________________________________________________________\n",
            "res2b_branch2c (Conv2D)         (None, 16, 16, 128)  4224        activation_158[0][0]             \n",
            "__________________________________________________________________________________________________\n",
            "bn2b_branch2c (BatchNormalizati (None, 16, 16, 128)  512         res2b_branch2c[0][0]             \n",
            "__________________________________________________________________________________________________\n",
            "add_41 (Add)                    (None, 16, 16, 128)  0           bn2b_branch2c[0][0]              \n",
            "                                                                 activation_156[0][0]             \n",
            "__________________________________________________________________________________________________\n",
            "activation_159 (Activation)     (None, 16, 16, 128)  0           add_41[0][0]                     \n",
            "__________________________________________________________________________________________________\n",
            "res2c_branch2a (Conv2D)         (None, 16, 16, 32)   4128        activation_159[0][0]             \n",
            "__________________________________________________________________________________________________\n",
            "bn2c_branch2a (BatchNormalizati (None, 16, 16, 32)   128         res2c_branch2a[0][0]             \n",
            "__________________________________________________________________________________________________\n",
            "activation_160 (Activation)     (None, 16, 16, 32)   0           bn2c_branch2a[0][0]              \n",
            "__________________________________________________________________________________________________\n",
            "res2c_branch2b (Conv2D)         (None, 16, 16, 32)   9248        activation_160[0][0]             \n",
            "__________________________________________________________________________________________________\n",
            "bn2c_branch2b (BatchNormalizati (None, 16, 16, 32)   128         res2c_branch2b[0][0]             \n",
            "__________________________________________________________________________________________________\n",
            "activation_161 (Activation)     (None, 16, 16, 32)   0           bn2c_branch2b[0][0]              \n",
            "__________________________________________________________________________________________________\n",
            "res2c_branch2c (Conv2D)         (None, 16, 16, 128)  4224        activation_161[0][0]             \n",
            "__________________________________________________________________________________________________\n",
            "bn2c_branch2c (BatchNormalizati (None, 16, 16, 128)  512         res2c_branch2c[0][0]             \n",
            "__________________________________________________________________________________________________\n",
            "add_42 (Add)                    (None, 16, 16, 128)  0           bn2c_branch2c[0][0]              \n",
            "                                                                 activation_159[0][0]             \n",
            "__________________________________________________________________________________________________\n",
            "activation_162 (Activation)     (None, 16, 16, 128)  0           add_42[0][0]                     \n",
            "__________________________________________________________________________________________________\n",
            "res3a_branch2a (Conv2D)         (None, 8, 8, 64)     8256        activation_162[0][0]             \n",
            "__________________________________________________________________________________________________\n",
            "bn3a_branch2a (BatchNormalizati (None, 8, 8, 64)     256         res3a_branch2a[0][0]             \n",
            "__________________________________________________________________________________________________\n",
            "activation_163 (Activation)     (None, 8, 8, 64)     0           bn3a_branch2a[0][0]              \n",
            "__________________________________________________________________________________________________\n",
            "res3a_branch2b (Conv2D)         (None, 8, 8, 64)     36928       activation_163[0][0]             \n",
            "__________________________________________________________________________________________________\n",
            "bn3a_branch2b (BatchNormalizati (None, 8, 8, 64)     256         res3a_branch2b[0][0]             \n",
            "__________________________________________________________________________________________________\n",
            "activation_164 (Activation)     (None, 8, 8, 64)     0           bn3a_branch2b[0][0]              \n",
            "__________________________________________________________________________________________________\n",
            "res3a_branch2c (Conv2D)         (None, 8, 8, 256)    16640       activation_164[0][0]             \n",
            "__________________________________________________________________________________________________\n",
            "res3a_branch1 (Conv2D)          (None, 8, 8, 256)    33024       activation_162[0][0]             \n",
            "__________________________________________________________________________________________________\n",
            "bn3a_branch2c (BatchNormalizati (None, 8, 8, 256)    1024        res3a_branch2c[0][0]             \n",
            "__________________________________________________________________________________________________\n",
            "bn3a_branch1 (BatchNormalizatio (None, 8, 8, 256)    1024        res3a_branch1[0][0]              \n",
            "__________________________________________________________________________________________________\n",
            "add_43 (Add)                    (None, 8, 8, 256)    0           bn3a_branch2c[0][0]              \n",
            "                                                                 bn3a_branch1[0][0]               \n",
            "__________________________________________________________________________________________________\n",
            "activation_165 (Activation)     (None, 8, 8, 256)    0           add_43[0][0]                     \n",
            "__________________________________________________________________________________________________\n",
            "res3b_branch2a (Conv2D)         (None, 8, 8, 64)     16448       activation_165[0][0]             \n",
            "__________________________________________________________________________________________________\n",
            "bn3b_branch2a (BatchNormalizati (None, 8, 8, 64)     256         res3b_branch2a[0][0]             \n",
            "__________________________________________________________________________________________________\n",
            "activation_166 (Activation)     (None, 8, 8, 64)     0           bn3b_branch2a[0][0]              \n",
            "__________________________________________________________________________________________________\n",
            "res3b_branch2b (Conv2D)         (None, 8, 8, 64)     36928       activation_166[0][0]             \n",
            "__________________________________________________________________________________________________\n",
            "bn3b_branch2b (BatchNormalizati (None, 8, 8, 64)     256         res3b_branch2b[0][0]             \n",
            "__________________________________________________________________________________________________\n",
            "activation_167 (Activation)     (None, 8, 8, 64)     0           bn3b_branch2b[0][0]              \n",
            "__________________________________________________________________________________________________\n",
            "res3b_branch2c (Conv2D)         (None, 8, 8, 256)    16640       activation_167[0][0]             \n",
            "__________________________________________________________________________________________________\n",
            "bn3b_branch2c (BatchNormalizati (None, 8, 8, 256)    1024        res3b_branch2c[0][0]             \n",
            "__________________________________________________________________________________________________\n",
            "add_44 (Add)                    (None, 8, 8, 256)    0           bn3b_branch2c[0][0]              \n",
            "                                                                 activation_165[0][0]             \n",
            "__________________________________________________________________________________________________\n",
            "activation_168 (Activation)     (None, 8, 8, 256)    0           add_44[0][0]                     \n",
            "__________________________________________________________________________________________________\n",
            "res3c_branch2a (Conv2D)         (None, 8, 8, 64)     16448       activation_168[0][0]             \n",
            "__________________________________________________________________________________________________\n",
            "bn3c_branch2a (BatchNormalizati (None, 8, 8, 64)     256         res3c_branch2a[0][0]             \n",
            "__________________________________________________________________________________________________\n",
            "activation_169 (Activation)     (None, 8, 8, 64)     0           bn3c_branch2a[0][0]              \n",
            "__________________________________________________________________________________________________\n",
            "res3c_branch2b (Conv2D)         (None, 8, 8, 64)     36928       activation_169[0][0]             \n",
            "__________________________________________________________________________________________________\n",
            "bn3c_branch2b (BatchNormalizati (None, 8, 8, 64)     256         res3c_branch2b[0][0]             \n",
            "__________________________________________________________________________________________________\n",
            "activation_170 (Activation)     (None, 8, 8, 64)     0           bn3c_branch2b[0][0]              \n",
            "__________________________________________________________________________________________________\n",
            "res3c_branch2c (Conv2D)         (None, 8, 8, 256)    16640       activation_170[0][0]             \n",
            "__________________________________________________________________________________________________\n",
            "bn3c_branch2c (BatchNormalizati (None, 8, 8, 256)    1024        res3c_branch2c[0][0]             \n",
            "__________________________________________________________________________________________________\n",
            "add_45 (Add)                    (None, 8, 8, 256)    0           bn3c_branch2c[0][0]              \n",
            "                                                                 activation_168[0][0]             \n",
            "__________________________________________________________________________________________________\n",
            "activation_171 (Activation)     (None, 8, 8, 256)    0           add_45[0][0]                     \n",
            "__________________________________________________________________________________________________\n",
            "res3d_branch2a (Conv2D)         (None, 8, 8, 64)     16448       activation_171[0][0]             \n",
            "__________________________________________________________________________________________________\n",
            "bn3d_branch2a (BatchNormalizati (None, 8, 8, 64)     256         res3d_branch2a[0][0]             \n",
            "__________________________________________________________________________________________________\n",
            "activation_172 (Activation)     (None, 8, 8, 64)     0           bn3d_branch2a[0][0]              \n",
            "__________________________________________________________________________________________________\n",
            "res3d_branch2b (Conv2D)         (None, 8, 8, 64)     36928       activation_172[0][0]             \n",
            "__________________________________________________________________________________________________\n",
            "bn3d_branch2b (BatchNormalizati (None, 8, 8, 64)     256         res3d_branch2b[0][0]             \n",
            "__________________________________________________________________________________________________\n",
            "activation_173 (Activation)     (None, 8, 8, 64)     0           bn3d_branch2b[0][0]              \n",
            "__________________________________________________________________________________________________\n",
            "res3d_branch2c (Conv2D)         (None, 8, 8, 256)    16640       activation_173[0][0]             \n",
            "__________________________________________________________________________________________________\n",
            "bn3d_branch2c (BatchNormalizati (None, 8, 8, 256)    1024        res3d_branch2c[0][0]             \n",
            "__________________________________________________________________________________________________\n",
            "add_46 (Add)                    (None, 8, 8, 256)    0           bn3d_branch2c[0][0]              \n",
            "                                                                 activation_171[0][0]             \n",
            "__________________________________________________________________________________________________\n",
            "activation_174 (Activation)     (None, 8, 8, 256)    0           add_46[0][0]                     \n",
            "__________________________________________________________________________________________________\n",
            "res4a_branch2a (Conv2D)         (None, 4, 4, 128)    32896       activation_174[0][0]             \n",
            "__________________________________________________________________________________________________\n",
            "bn4a_branch2a (BatchNormalizati (None, 4, 4, 128)    512         res4a_branch2a[0][0]             \n",
            "__________________________________________________________________________________________________\n",
            "activation_175 (Activation)     (None, 4, 4, 128)    0           bn4a_branch2a[0][0]              \n",
            "__________________________________________________________________________________________________\n",
            "res4a_branch2b (Conv2D)         (None, 4, 4, 128)    147584      activation_175[0][0]             \n",
            "__________________________________________________________________________________________________\n",
            "bn4a_branch2b (BatchNormalizati (None, 4, 4, 128)    512         res4a_branch2b[0][0]             \n",
            "__________________________________________________________________________________________________\n",
            "activation_176 (Activation)     (None, 4, 4, 128)    0           bn4a_branch2b[0][0]              \n",
            "__________________________________________________________________________________________________\n",
            "res4a_branch2c (Conv2D)         (None, 4, 4, 512)    66048       activation_176[0][0]             \n",
            "__________________________________________________________________________________________________\n",
            "res4a_branch1 (Conv2D)          (None, 4, 4, 512)    131584      activation_174[0][0]             \n",
            "__________________________________________________________________________________________________\n",
            "bn4a_branch2c (BatchNormalizati (None, 4, 4, 512)    2048        res4a_branch2c[0][0]             \n",
            "__________________________________________________________________________________________________\n",
            "bn4a_branch1 (BatchNormalizatio (None, 4, 4, 512)    2048        res4a_branch1[0][0]              \n",
            "__________________________________________________________________________________________________\n",
            "add_47 (Add)                    (None, 4, 4, 512)    0           bn4a_branch2c[0][0]              \n",
            "                                                                 bn4a_branch1[0][0]               \n",
            "__________________________________________________________________________________________________\n",
            "activation_177 (Activation)     (None, 4, 4, 512)    0           add_47[0][0]                     \n",
            "__________________________________________________________________________________________________\n",
            "res4b_branch2a (Conv2D)         (None, 4, 4, 128)    65664       activation_177[0][0]             \n",
            "__________________________________________________________________________________________________\n",
            "bn4b_branch2a (BatchNormalizati (None, 4, 4, 128)    512         res4b_branch2a[0][0]             \n",
            "__________________________________________________________________________________________________\n",
            "activation_178 (Activation)     (None, 4, 4, 128)    0           bn4b_branch2a[0][0]              \n",
            "__________________________________________________________________________________________________\n",
            "res4b_branch2b (Conv2D)         (None, 4, 4, 128)    147584      activation_178[0][0]             \n",
            "__________________________________________________________________________________________________\n",
            "bn4b_branch2b (BatchNormalizati (None, 4, 4, 128)    512         res4b_branch2b[0][0]             \n",
            "__________________________________________________________________________________________________\n",
            "activation_179 (Activation)     (None, 4, 4, 128)    0           bn4b_branch2b[0][0]              \n",
            "__________________________________________________________________________________________________\n",
            "res4b_branch2c (Conv2D)         (None, 4, 4, 512)    66048       activation_179[0][0]             \n",
            "__________________________________________________________________________________________________\n",
            "bn4b_branch2c (BatchNormalizati (None, 4, 4, 512)    2048        res4b_branch2c[0][0]             \n",
            "__________________________________________________________________________________________________\n",
            "add_48 (Add)                    (None, 4, 4, 512)    0           bn4b_branch2c[0][0]              \n",
            "                                                                 activation_177[0][0]             \n",
            "__________________________________________________________________________________________________\n",
            "activation_180 (Activation)     (None, 4, 4, 512)    0           add_48[0][0]                     \n",
            "__________________________________________________________________________________________________\n",
            "res4c_branch2a (Conv2D)         (None, 4, 4, 128)    65664       activation_180[0][0]             \n",
            "__________________________________________________________________________________________________\n",
            "bn4c_branch2a (BatchNormalizati (None, 4, 4, 128)    512         res4c_branch2a[0][0]             \n",
            "__________________________________________________________________________________________________\n",
            "activation_181 (Activation)     (None, 4, 4, 128)    0           bn4c_branch2a[0][0]              \n",
            "__________________________________________________________________________________________________\n",
            "res4c_branch2b (Conv2D)         (None, 4, 4, 128)    147584      activation_181[0][0]             \n",
            "__________________________________________________________________________________________________\n",
            "bn4c_branch2b (BatchNormalizati (None, 4, 4, 128)    512         res4c_branch2b[0][0]             \n",
            "__________________________________________________________________________________________________\n",
            "activation_182 (Activation)     (None, 4, 4, 128)    0           bn4c_branch2b[0][0]              \n",
            "__________________________________________________________________________________________________\n",
            "res4c_branch2c (Conv2D)         (None, 4, 4, 512)    66048       activation_182[0][0]             \n",
            "__________________________________________________________________________________________________\n",
            "bn4c_branch2c (BatchNormalizati (None, 4, 4, 512)    2048        res4c_branch2c[0][0]             \n",
            "__________________________________________________________________________________________________\n",
            "add_49 (Add)                    (None, 4, 4, 512)    0           bn4c_branch2c[0][0]              \n",
            "                                                                 activation_180[0][0]             \n",
            "__________________________________________________________________________________________________\n",
            "activation_183 (Activation)     (None, 4, 4, 512)    0           add_49[0][0]                     \n",
            "__________________________________________________________________________________________________\n",
            "res4d_branch2a (Conv2D)         (None, 4, 4, 128)    65664       activation_183[0][0]             \n",
            "__________________________________________________________________________________________________\n",
            "bn4d_branch2a (BatchNormalizati (None, 4, 4, 128)    512         res4d_branch2a[0][0]             \n",
            "__________________________________________________________________________________________________\n",
            "activation_184 (Activation)     (None, 4, 4, 128)    0           bn4d_branch2a[0][0]              \n",
            "__________________________________________________________________________________________________\n",
            "res4d_branch2b (Conv2D)         (None, 4, 4, 128)    147584      activation_184[0][0]             \n",
            "__________________________________________________________________________________________________\n",
            "bn4d_branch2b (BatchNormalizati (None, 4, 4, 128)    512         res4d_branch2b[0][0]             \n",
            "__________________________________________________________________________________________________\n",
            "activation_185 (Activation)     (None, 4, 4, 128)    0           bn4d_branch2b[0][0]              \n",
            "__________________________________________________________________________________________________\n",
            "res4d_branch2c (Conv2D)         (None, 4, 4, 512)    66048       activation_185[0][0]             \n",
            "__________________________________________________________________________________________________\n",
            "bn4d_branch2c (BatchNormalizati (None, 4, 4, 512)    2048        res4d_branch2c[0][0]             \n",
            "__________________________________________________________________________________________________\n",
            "add_50 (Add)                    (None, 4, 4, 512)    0           bn4d_branch2c[0][0]              \n",
            "                                                                 activation_183[0][0]             \n",
            "__________________________________________________________________________________________________\n",
            "activation_186 (Activation)     (None, 4, 4, 512)    0           add_50[0][0]                     \n",
            "__________________________________________________________________________________________________\n",
            "res4e_branch2a (Conv2D)         (None, 4, 4, 128)    65664       activation_186[0][0]             \n",
            "__________________________________________________________________________________________________\n",
            "bn4e_branch2a (BatchNormalizati (None, 4, 4, 128)    512         res4e_branch2a[0][0]             \n",
            "__________________________________________________________________________________________________\n",
            "activation_187 (Activation)     (None, 4, 4, 128)    0           bn4e_branch2a[0][0]              \n",
            "__________________________________________________________________________________________________\n",
            "res4e_branch2b (Conv2D)         (None, 4, 4, 128)    147584      activation_187[0][0]             \n",
            "__________________________________________________________________________________________________\n",
            "bn4e_branch2b (BatchNormalizati (None, 4, 4, 128)    512         res4e_branch2b[0][0]             \n",
            "__________________________________________________________________________________________________\n",
            "activation_188 (Activation)     (None, 4, 4, 128)    0           bn4e_branch2b[0][0]              \n",
            "__________________________________________________________________________________________________\n",
            "res4e_branch2c (Conv2D)         (None, 4, 4, 512)    66048       activation_188[0][0]             \n",
            "__________________________________________________________________________________________________\n",
            "bn4e_branch2c (BatchNormalizati (None, 4, 4, 512)    2048        res4e_branch2c[0][0]             \n",
            "__________________________________________________________________________________________________\n",
            "add_51 (Add)                    (None, 4, 4, 512)    0           bn4e_branch2c[0][0]              \n",
            "                                                                 activation_186[0][0]             \n",
            "__________________________________________________________________________________________________\n",
            "activation_189 (Activation)     (None, 4, 4, 512)    0           add_51[0][0]                     \n",
            "__________________________________________________________________________________________________\n",
            "res4f_branch2a (Conv2D)         (None, 4, 4, 128)    65664       activation_189[0][0]             \n",
            "__________________________________________________________________________________________________\n",
            "bn4f_branch2a (BatchNormalizati (None, 4, 4, 128)    512         res4f_branch2a[0][0]             \n",
            "__________________________________________________________________________________________________\n",
            "activation_190 (Activation)     (None, 4, 4, 128)    0           bn4f_branch2a[0][0]              \n",
            "__________________________________________________________________________________________________\n",
            "res4f_branch2b (Conv2D)         (None, 4, 4, 128)    147584      activation_190[0][0]             \n",
            "__________________________________________________________________________________________________\n",
            "bn4f_branch2b (BatchNormalizati (None, 4, 4, 128)    512         res4f_branch2b[0][0]             \n",
            "__________________________________________________________________________________________________\n",
            "activation_191 (Activation)     (None, 4, 4, 128)    0           bn4f_branch2b[0][0]              \n",
            "__________________________________________________________________________________________________\n",
            "res4f_branch2c (Conv2D)         (None, 4, 4, 512)    66048       activation_191[0][0]             \n",
            "__________________________________________________________________________________________________\n",
            "bn4f_branch2c (BatchNormalizati (None, 4, 4, 512)    2048        res4f_branch2c[0][0]             \n",
            "__________________________________________________________________________________________________\n",
            "add_52 (Add)                    (None, 4, 4, 512)    0           bn4f_branch2c[0][0]              \n",
            "                                                                 activation_189[0][0]             \n",
            "__________________________________________________________________________________________________\n",
            "activation_192 (Activation)     (None, 4, 4, 512)    0           add_52[0][0]                     \n",
            "__________________________________________________________________________________________________\n",
            "res5a_branch2a (Conv2D)         (None, 2, 2, 256)    131328      activation_192[0][0]             \n",
            "__________________________________________________________________________________________________\n",
            "bn5a_branch2a (BatchNormalizati (None, 2, 2, 256)    1024        res5a_branch2a[0][0]             \n",
            "__________________________________________________________________________________________________\n",
            "activation_193 (Activation)     (None, 2, 2, 256)    0           bn5a_branch2a[0][0]              \n",
            "__________________________________________________________________________________________________\n",
            "res5a_branch2b (Conv2D)         (None, 2, 2, 256)    590080      activation_193[0][0]             \n",
            "__________________________________________________________________________________________________\n",
            "bn5a_branch2b (BatchNormalizati (None, 2, 2, 256)    1024        res5a_branch2b[0][0]             \n",
            "__________________________________________________________________________________________________\n",
            "activation_194 (Activation)     (None, 2, 2, 256)    0           bn5a_branch2b[0][0]              \n",
            "__________________________________________________________________________________________________\n",
            "res5a_branch2c (Conv2D)         (None, 2, 2, 1024)   263168      activation_194[0][0]             \n",
            "__________________________________________________________________________________________________\n",
            "res5a_branch1 (Conv2D)          (None, 2, 2, 1024)   525312      activation_192[0][0]             \n",
            "__________________________________________________________________________________________________\n",
            "bn5a_branch2c (BatchNormalizati (None, 2, 2, 1024)   4096        res5a_branch2c[0][0]             \n",
            "__________________________________________________________________________________________________\n",
            "bn5a_branch1 (BatchNormalizatio (None, 2, 2, 1024)   4096        res5a_branch1[0][0]              \n",
            "__________________________________________________________________________________________________\n",
            "add_53 (Add)                    (None, 2, 2, 1024)   0           bn5a_branch2c[0][0]              \n",
            "                                                                 bn5a_branch1[0][0]               \n",
            "__________________________________________________________________________________________________\n",
            "activation_195 (Activation)     (None, 2, 2, 1024)   0           add_53[0][0]                     \n",
            "__________________________________________________________________________________________________\n",
            "res5b_branch2a (Conv2D)         (None, 2, 2, 256)    262400      activation_195[0][0]             \n",
            "__________________________________________________________________________________________________\n",
            "bn5b_branch2a (BatchNormalizati (None, 2, 2, 256)    1024        res5b_branch2a[0][0]             \n",
            "__________________________________________________________________________________________________\n",
            "activation_196 (Activation)     (None, 2, 2, 256)    0           bn5b_branch2a[0][0]              \n",
            "__________________________________________________________________________________________________\n",
            "res5b_branch2b (Conv2D)         (None, 2, 2, 256)    590080      activation_196[0][0]             \n",
            "__________________________________________________________________________________________________\n",
            "bn5b_branch2b (BatchNormalizati (None, 2, 2, 256)    1024        res5b_branch2b[0][0]             \n",
            "__________________________________________________________________________________________________\n",
            "activation_197 (Activation)     (None, 2, 2, 256)    0           bn5b_branch2b[0][0]              \n",
            "__________________________________________________________________________________________________\n",
            "res5b_branch2c (Conv2D)         (None, 2, 2, 1024)   263168      activation_197[0][0]             \n",
            "__________________________________________________________________________________________________\n",
            "bn5b_branch2c (BatchNormalizati (None, 2, 2, 1024)   4096        res5b_branch2c[0][0]             \n",
            "__________________________________________________________________________________________________\n",
            "add_54 (Add)                    (None, 2, 2, 1024)   0           bn5b_branch2c[0][0]              \n",
            "                                                                 activation_195[0][0]             \n",
            "__________________________________________________________________________________________________\n",
            "activation_198 (Activation)     (None, 2, 2, 1024)   0           add_54[0][0]                     \n",
            "__________________________________________________________________________________________________\n",
            "res5c_branch2a (Conv2D)         (None, 2, 2, 256)    262400      activation_198[0][0]             \n",
            "__________________________________________________________________________________________________\n",
            "bn5c_branch2a (BatchNormalizati (None, 2, 2, 256)    1024        res5c_branch2a[0][0]             \n",
            "__________________________________________________________________________________________________\n",
            "activation_199 (Activation)     (None, 2, 2, 256)    0           bn5c_branch2a[0][0]              \n",
            "__________________________________________________________________________________________________\n",
            "res5c_branch2b (Conv2D)         (None, 2, 2, 256)    590080      activation_199[0][0]             \n",
            "__________________________________________________________________________________________________\n",
            "bn5c_branch2b (BatchNormalizati (None, 2, 2, 256)    1024        res5c_branch2b[0][0]             \n",
            "__________________________________________________________________________________________________\n",
            "activation_200 (Activation)     (None, 2, 2, 256)    0           bn5c_branch2b[0][0]              \n",
            "__________________________________________________________________________________________________\n",
            "res5c_branch2c (Conv2D)         (None, 2, 2, 1024)   263168      activation_200[0][0]             \n",
            "__________________________________________________________________________________________________\n",
            "bn5c_branch2c (BatchNormalizati (None, 2, 2, 1024)   4096        res5c_branch2c[0][0]             \n",
            "__________________________________________________________________________________________________\n",
            "add_55 (Add)                    (None, 2, 2, 1024)   0           bn5c_branch2c[0][0]              \n",
            "                                                                 activation_198[0][0]             \n",
            "__________________________________________________________________________________________________\n",
            "activation_201 (Activation)     (None, 2, 2, 1024)   0           add_55[0][0]                     \n",
            "__________________________________________________________________________________________________\n",
            "avg_pool (AveragePooling2D)     (None, 1, 1, 1024)   0           activation_201[0][0]             \n",
            "__________________________________________________________________________________________________\n",
            "flatten_9 (Flatten)             (None, 1024)         0           avg_pool[0][0]                   \n",
            "__________________________________________________________________________________________________\n",
            "fc9 (Dense)                     (None, 9)            9225        flatten_9[0][0]                  \n",
            "==================================================================================================\n",
            "Total params: 5,944,009\n",
            "Trainable params: 5,917,385\n",
            "Non-trainable params: 26,624\n",
            "__________________________________________________________________________________________________\n",
            "Epoch 1/30\n",
            "Learning rate:  0.0003\n",
            "\n",
            "Epoch 00001: LearningRateScheduler reducing learning rate to 0.0003.\n",
            "102/102 [==============================] - 21s 104ms/step - loss: 0.5499 - auc: 0.9775 - precision: 0.8901 - recall: 0.8042 - val_loss: 4.4966 - val_auc: 0.0341 - val_precision: 0.0000e+00 - val_recall: 0.0000e+00\n",
            "\n",
            "Epoch 00001: val_loss improved from inf to 4.49664, saving model to /content/drive/Shareddrives/Labs/2020_1_이소연/code/wm811k/model_output/1/ResNet50/001.h5\n",
            "WARNING:tensorflow:Can save best model only with val_accuracy available, skipping.\n",
            "Epoch 2/30\n",
            "Learning rate:  0.0003\n",
            "\n",
            "Epoch 00002: LearningRateScheduler reducing learning rate to 0.0003.\n",
            "102/102 [==============================] - 8s 80ms/step - loss: 0.1571 - auc: 0.9953 - precision: 0.9595 - recall: 0.9539 - val_loss: 8.3520 - val_auc: 0.1468 - val_precision: 9.4847e-04 - val_recall: 9.2308e-04\n",
            "\n",
            "Epoch 00002: val_loss did not improve from 4.49664\n",
            "WARNING:tensorflow:Can save best model only with val_accuracy available, skipping.\n",
            "Epoch 3/30\n",
            "Learning rate:  0.0003\n",
            "\n",
            "Epoch 00003: LearningRateScheduler reducing learning rate to 0.0003.\n",
            "102/102 [==============================] - 8s 78ms/step - loss: 0.1076 - auc: 0.9964 - precision: 0.9730 - recall: 0.9701 - val_loss: 7.8952 - val_auc: 0.1987 - val_precision: 0.0038 - val_recall: 0.0028\n",
            "\n",
            "Epoch 00003: val_loss did not improve from 4.49664\n",
            "WARNING:tensorflow:Can save best model only with val_accuracy available, skipping.\n",
            "Epoch 4/30\n",
            "Learning rate:  0.0003\n",
            "\n",
            "Epoch 00004: LearningRateScheduler reducing learning rate to 0.0003.\n",
            "102/102 [==============================] - 8s 78ms/step - loss: 0.0674 - auc: 0.9981 - precision: 0.9828 - recall: 0.9807 - val_loss: 13.4487 - val_auc: 0.3790 - val_precision: 0.0181 - val_recall: 0.0175\n",
            "\n",
            "Epoch 00004: val_loss did not improve from 4.49664\n",
            "WARNING:tensorflow:Can save best model only with val_accuracy available, skipping.\n"
          ],
          "name": "stdout"
        }
      ]
    },
    {
      "cell_type": "code",
      "metadata": {
        "id": "1EcVmSJtktCK"
      },
      "source": [
        "y_predict = model.predict(x_test)"
      ],
      "execution_count": 94,
      "outputs": []
    },
    {
      "cell_type": "code",
      "metadata": {
        "id": "ScY-ldtuktCP"
      },
      "source": [
        "y_pred_ = np.ones(len(y_predict))\n",
        "y_test_ = np.ones(len(y_test))\n",
        "for i in range(len(y_pred)):\n",
        "    y_pred_[i] = np.argmax(y_predict[i])\n",
        "    y_test_[i] = np.argmax(y_test[i])"
      ],
      "execution_count": 95,
      "outputs": []
    },
    {
      "cell_type": "code",
      "metadata": {
        "colab": {
          "base_uri": "https://localhost:8080/",
          "height": 294
        },
        "id": "eRy-Ko3BktCP",
        "outputId": "e0f93906-3a14-4195-9101-e4d04eb78aea"
      },
      "source": [
        "resmis_index = np.where(pred_decode != resy_test_decode)\n",
        "print(classification_report(y_test_, y_pred_, target_names=labels))"
      ],
      "execution_count": 96,
      "outputs": [
        {
          "output_type": "error",
          "ename": "ValueError",
          "evalue": "ignored",
          "traceback": [
            "\u001b[0;31m---------------------------------------------------------------------------\u001b[0m",
            "\u001b[0;31mValueError\u001b[0m                                Traceback (most recent call last)",
            "\u001b[0;32m<ipython-input-96-0204c0f8755e>\u001b[0m in \u001b[0;36m<module>\u001b[0;34m()\u001b[0m\n\u001b[0;32m----> 1\u001b[0;31m \u001b[0mprint\u001b[0m\u001b[0;34m(\u001b[0m\u001b[0mclassification_report\u001b[0m\u001b[0;34m(\u001b[0m\u001b[0my_test_\u001b[0m\u001b[0;34m,\u001b[0m \u001b[0my_pred_\u001b[0m\u001b[0;34m,\u001b[0m \u001b[0mtarget_names\u001b[0m\u001b[0;34m=\u001b[0m\u001b[0mlabels\u001b[0m\u001b[0;34m)\u001b[0m\u001b[0;34m)\u001b[0m\u001b[0;34m\u001b[0m\u001b[0;34m\u001b[0m\u001b[0m\n\u001b[0m",
            "\u001b[0;32m/usr/local/lib/python3.7/dist-packages/sklearn/metrics/_classification.py\u001b[0m in \u001b[0;36mclassification_report\u001b[0;34m(y_true, y_pred, labels, target_names, sample_weight, digits, output_dict, zero_division)\u001b[0m\n\u001b[1;32m   1993\u001b[0m                 \u001b[0;34m\"Number of classes, {0}, does not match size of \"\u001b[0m\u001b[0;34m\u001b[0m\u001b[0;34m\u001b[0m\u001b[0m\n\u001b[1;32m   1994\u001b[0m                 \u001b[0;34m\"target_names, {1}. Try specifying the labels \"\u001b[0m\u001b[0;34m\u001b[0m\u001b[0;34m\u001b[0m\u001b[0m\n\u001b[0;32m-> 1995\u001b[0;31m                 \u001b[0;34m\"parameter\"\u001b[0m\u001b[0;34m.\u001b[0m\u001b[0mformat\u001b[0m\u001b[0;34m(\u001b[0m\u001b[0mlen\u001b[0m\u001b[0;34m(\u001b[0m\u001b[0mlabels\u001b[0m\u001b[0;34m)\u001b[0m\u001b[0;34m,\u001b[0m \u001b[0mlen\u001b[0m\u001b[0;34m(\u001b[0m\u001b[0mtarget_names\u001b[0m\u001b[0;34m)\u001b[0m\u001b[0;34m)\u001b[0m\u001b[0;34m\u001b[0m\u001b[0;34m\u001b[0m\u001b[0m\n\u001b[0m\u001b[1;32m   1996\u001b[0m             )\n\u001b[1;32m   1997\u001b[0m     \u001b[0;32mif\u001b[0m \u001b[0mtarget_names\u001b[0m \u001b[0;32mis\u001b[0m \u001b[0;32mNone\u001b[0m\u001b[0;34m:\u001b[0m\u001b[0;34m\u001b[0m\u001b[0;34m\u001b[0m\u001b[0m\n",
            "\u001b[0;31mValueError\u001b[0m: Number of classes, 6, does not match size of target_names, 9. Try specifying the labels parameter"
          ]
        }
      ]
    },
    {
      "cell_type": "code",
      "metadata": {
        "colab": {
          "base_uri": "https://localhost:8080/"
        },
        "id": "E8l0_-CPkSfF",
        "outputId": "64a2c9e2-3908-44c5-c779-26c0cae3c5df"
      },
      "source": [
        "labels = ['Center','Donut','Edge-Loc','Edge-Ring','Loc','Near-full','Random','Scratch', 'none']\n",
        "print(classification_report(y_test_, y_test_pred, target_names=labels))"
      ],
      "execution_count": null,
      "outputs": [
        {
          "output_type": "stream",
          "text": [
            "              precision    recall  f1-score   support\n",
            "\n",
            "      Center       0.17      0.14      0.15         7\n",
            "       Donut       0.00      0.00      0.00         1\n",
            "    Edge-Loc       0.83      0.21      0.34        47\n",
            "   Edge-Ring       0.42      0.35      0.38        23\n",
            "         Loc       0.40      0.05      0.08        43\n",
            "      Random       1.00      1.00      1.00        15\n",
            "     Scratch       0.33      0.33      0.33         3\n",
            "   Near-full       0.13      0.36      0.19        25\n",
            "        none       0.99      1.00      0.99      3086\n",
            "\n",
            "    accuracy                           0.96      3250\n",
            "   macro avg       0.47      0.38      0.39      3250\n",
            "weighted avg       0.96      0.96      0.96      3250\n",
            "\n"
          ],
          "name": "stdout"
        }
      ]
    },
    {
      "cell_type": "code",
      "metadata": {
        "colab": {
          "base_uri": "https://localhost:8080/",
          "height": 612
        },
        "id": "XWNlSmJKkSfF",
        "outputId": "2ad45cfd-ff7b-4017-c56f-9191651a2e37"
      },
      "source": [
        "np.set_printoptions(precision=2)\n",
        "\n",
        "# Plot non-normalized confusion matrix]\n",
        "plot_confusion_matrix2(y_test_, y_test_pred, classes=labels, title='Confusion matrix, without normalization')\n",
        "\n",
        "# Plot normalized confusion matrix]\n",
        "plot_confusion_matrix2(y_test_, y_test_pred, classes=labels, normalize=True, title='Normalized confusion matrix')\n",
        "\n",
        "plt.show()"
      ],
      "execution_count": null,
      "outputs": [
        {
          "output_type": "stream",
          "text": [
            "Confusion matrix, without normalization\n",
            "Normalized confusion matrix\n"
          ],
          "name": "stdout"
        },
        {
          "output_type": "display_data",
          "data": {
            "image/png": "[encoded data removed]",
            "text/plain": [
              "<Figure size 432x288 with 2 Axes>"
            ]
          },
          "metadata": {
            "tags": [],
            "needs_background": "light"
          }
        },
        {
          "output_type": "display_data",
          "data": {
            "image/png": "[encoded data removed]",
            "text/plain": [
              "<Figure size 432x288 with 2 Axes>"
            ]
          },
          "metadata": {
            "tags": [],
            "needs_background": "light"
          }
        }
      ]
    },
    {
      "cell_type": "code",
      "metadata": {
        "id": "QAwcfDClPKMQ"
      },
      "source": [
        ""
      ],
      "execution_count": null,
      "outputs": []
    },
    {
      "cell_type": "code",
      "metadata": {
        "colab": {
          "base_uri": "https://localhost:8080/"
        },
        "id": "3_zLLSvoFSFX",
        "outputId": "47df9a47-ef58-4b92-e539-1e549cb67823"
      },
      "source": [
        "# denoising autoencoder\n",
        "noise = np.random.normal(loc=0.5, scale=0.5, size=x_train.shape)\n",
        "x_train_noise = x_train + noise\n",
        "noise = np.random.normal(loc=0.5, scale=0.5, size=x_test.shape)\n",
        "x_test_noise = x_test + noise\n",
        "\n",
        "encoder = Model(input_tensor, latent_vector)\n",
        "decoder_input = Input((16, 16, 64))\n",
        "decode = Conv2DTranspose(64, (3,3), padding='same', activation='relu')(decoder_input)\n",
        "decode = UpSampling2D()(decode)\n",
        "decoder = Model(decoder_input, output_tensor(decode))\n",
        "\n",
        "noise = Model(input_tensor, decoder(encoder(input_tensor)))\n",
        "noise.summary()\n",
        "noise.compile(loss='mse', optimizer='adam', metrics=['AUC'])\n",
        "noise.fit(x_train_noise,x_train, validation_data=(x_test_noise, x_test), epochs=10, batch_size=64, callbacks=callback_list)"
      ],
      "execution_count": null,
      "outputs": [
        {
          "output_type": "stream",
          "text": [
            "Model: \"model_3\"\n",
            "_________________________________________________________________\n",
            "Layer (type)                 Output Shape              Param #   \n",
            "=================================================================\n",
            "input_1 (InputLayer)         [(None, 32, 32, 3)]       0         \n",
            "_________________________________________________________________\n",
            "model_1 (Functional)         (None, 16, 16, 64)        1792      \n",
            "_________________________________________________________________\n",
            "model_2 (Functional)         (None, 32, 32, 3)         38659     \n",
            "=================================================================\n",
            "Total params: 40,451\n",
            "Trainable params: 40,451\n",
            "Non-trainable params: 0\n",
            "_________________________________________________________________\n",
            "Epoch 1/10\n",
            "89/89 [==============================] - 4s 35ms/step - loss: 0.0818 - auc: 0.9319 - val_loss: 0.0527 - val_auc: 0.9781\n",
            "Epoch 2/10\n",
            "89/89 [==============================] - 3s 31ms/step - loss: 0.0474 - auc: 0.9824 - val_loss: 0.0438 - val_auc: 0.9848\n",
            "Epoch 3/10\n",
            "89/89 [==============================] - 3s 31ms/step - loss: 0.0414 - auc: 0.9864 - val_loss: 0.0393 - val_auc: 0.9875\n"
          ],
          "name": "stdout"
        },
        {
          "output_type": "execute_result",
          "data": {
            "text/plain": [
              "<tensorflow.python.keras.callbacks.History at 0x7fa436d7cf90>"
            ]
          },
          "metadata": {
            "tags": []
          },
          "execution_count": 21
        }
      ]
    },
    {
      "cell_type": "code",
      "metadata": {
        "colab": {
          "base_uri": "https://localhost:8080/"
        },
        "id": "3L9qFoAIVDpH",
        "outputId": "2197c007-6d14-4b3d-a008-3cfe7d79f451"
      },
      "source": [
        "np.where(y_test=='Scratch')"
      ],
      "execution_count": null,
      "outputs": [
        {
          "output_type": "execute_result",
          "data": {
            "text/plain": [
              "(array([ 291,  299,  516,  656,  836, 1657, 1843, 2286, 2341, 2353, 2376]),\n",
              " array([0, 0, 0, 0, 0, 0, 0, 0, 0, 0, 0]))"
            ]
          },
          "metadata": {
            "tags": []
          },
          "execution_count": 16
        }
      ]
    },
    {
      "cell_type": "code",
      "metadata": {
        "colab": {
          "base_uri": "https://localhost:8080/",
          "height": 283
        },
        "id": "lYEZILS0JEZ3",
        "outputId": "bfa0de1d-618d-4708-9367-7a09eb605239"
      },
      "source": [
        "plt.imshow(np.argmax(x_test[291], axis=2))"
      ],
      "execution_count": null,
      "outputs": [
        {
          "output_type": "execute_result",
          "data": {
            "text/plain": [
              "<matplotlib.image.AxesImage at 0x7fa435e68d10>"
            ]
          },
          "metadata": {
            "tags": []
          },
          "execution_count": 17
        },
        {
          "output_type": "display_data",
          "data": {
            "image/png": "[encoded data removed]",
            "text/plain": [
              "<Figure size 432x288 with 1 Axes>"
            ]
          },
          "metadata": {
            "tags": [],
            "needs_background": "light"
          }
        }
      ]
    },
    {
      "cell_type": "code",
      "metadata": {
        "colab": {
          "base_uri": "https://localhost:8080/",
          "height": 283
        },
        "id": "f5ZDwRz3IE5M",
        "outputId": "fc187731-972b-4def-ef77-8c797e1f0e0c"
      },
      "source": [
        "plt.imshow(np.argmax(x_test_noise[291], axis=2)) "
      ],
      "execution_count": null,
      "outputs": [
        {
          "output_type": "execute_result",
          "data": {
            "text/plain": [
              "<matplotlib.image.AxesImage at 0x7fa435a5b850>"
            ]
          },
          "metadata": {
            "tags": []
          },
          "execution_count": 22
        },
        {
          "output_type": "display_data",
          "data": {
            "image/png": "[encoded data removed]",
            "text/plain": [
              "<Figure size 432x288 with 1 Axes>"
            ]
          },
          "metadata": {
            "tags": [],
            "needs_background": "light"
          }
        }
      ]
    },
    {
      "cell_type": "code",
      "metadata": {
        "colab": {
          "base_uri": "https://localhost:8080/",
          "height": 283
        },
        "id": "AhFqyrrFrskf",
        "outputId": "cc386191-3e01-4702-8738-001ace4ae921"
      },
      "source": [
        "x_noise = noise.predict(x_test_noise) \n",
        "plt.imshow(np.argmax(x_noise[291], axis=2))"
      ],
      "execution_count": null,
      "outputs": [
        {
          "output_type": "execute_result",
          "data": {
            "text/plain": [
              "<matplotlib.image.AxesImage at 0x7fa4368b0cd0>"
            ]
          },
          "metadata": {
            "tags": []
          },
          "execution_count": 23
        },
        {
          "output_type": "display_data",
          "data": {
            "image/png": "[encoded data removed]",
            "text/plain": [
              "<Figure size 432x288 with 1 Axes>"
            ]
          },
          "metadata": {
            "tags": [],
            "needs_background": "light"
          }
        }
      ]
    },
    {
      "cell_type": "code",
      "metadata": {
        "id": "eWA1w-WEG9nx"
      },
      "source": [
        "# Generate data\n",
        "def gen_data(wafer, label):\n",
        "    encoded_x = encoder.predict(wafer)\n",
        "    \n",
        "    gen_x = np.zeros((1, 26, 26, 3))\n",
        "    \n",
        "    for i in range((2000//len(wafer)) + 1):\n",
        "        noised_encoded_x = encoded_x + np.random.normal(loc=0, scale=0.1, size = (len(encoded_x), 13, 13, 64)) \n",
        "        noised_gen_x = decoder.predict(noised_encoded_x)\n",
        "        gen_x = np.concatenate((gen_x, noised_gen_x), axis=0)\n",
        "    gen_y = np.full((len(gen_x), 1), label)\n",
        "    \n",
        "    return gen_x[1:], gen_y[1:]"
      ],
      "execution_count": null,
      "outputs": []
    },
    {
      "cell_type": "code",
      "metadata": {
        "id": "FjZfWyxhHFXA"
      },
      "source": [
        "for f in faulty_case : \n",
        "    # skip none case\n",
        "    if f == 'none' : \n",
        "        continue\n",
        "    \n",
        "    gen_x, gen_y = gen_data(new_x[np.where(y==f)[0]], f)\n",
        "    new_x = np.concatenate((new_x, gen_x), axis=0)\n",
        "    y = np.concatenate((y, gen_y))"
      ],
      "execution_count": null,
      "outputs": []
    },
    {
      "cell_type": "code",
      "metadata": {
        "id": "Pf7ovyEzHFg9"
      },
      "source": [
        "for f in faulty_case :\n",
        "    print('{} : {}'.format(f, len(y[y==f])))"
      ],
      "execution_count": null,
      "outputs": []
    },
    {
      "cell_type": "code",
      "metadata": {
        "id": "08lzbQaaEFxv"
      },
      "source": [
        "# Simple CNN \n",
        "def create_model():\n",
        "    input_shape = (26, 26, 3)\n",
        "    input_tensor = Input(input_shape)\n",
        "\n",
        "    conv_1 = layers.Conv2D(16, (3,3), activation='relu', padding='same')(input_tensor)\n",
        "    conv_2 = layers.Conv2D(64, (3,3), activation='relu', padding='same')(conv_1)\n",
        "    conv_3 = layers.Conv2D(128, (3,3), activation='relu', padding='same')(conv_2)\n",
        "  \n",
        "    flat = layers.Flatten()(conv_3)\n",
        "\n",
        "    dense_1 = layers.Dense(512, activation='relu')(flat)\n",
        "    dense_2 = layers.Dense(128, activation='relu')(dense_1)\n",
        "    output_tensor = layers.Dense(9, activation='softmax')(dense_2)\n",
        "\n",
        "    model = models.Model(input_tensor, output_tensor)\n",
        "    model.compile(optimizer='Adam',\n",
        "                 loss='categorical_crossentropy',\n",
        "                 metrics=['accuracy'])\n",
        "\n",
        "    return model"
      ],
      "execution_count": null,
      "outputs": []
    },
    {
      "cell_type": "code",
      "metadata": {
        "id": "XuTfmcfQD_6b"
      },
      "source": [
        "model = KerasClassifier(build_fn=create_model, epochs=30, batch_size=1024, verbose=2) \n",
        "# 3-Fold Crossvalidation\n",
        "kfold = KFold(n_splits=3, shuffle=True, random_state=2019) \n",
        "results = cross_val_score(model, x_train, y_train, cv=kfold)\n",
        "# Check 3-fold model's mean accuracy\n",
        "print('Simple CNN Cross validation score : {:.4f}'.format(np.mean(results)))"
      ],
      "execution_count": null,
      "outputs": []
    },
    {
      "cell_type": "code",
      "metadata": {
        "id": "3kKbSASjBSJs"
      },
      "source": [
        "predicted_classes = simple.predict(x_test)\n",
        "predicted_classes = np.argmax(np.round(predicted_classes),axis=1)"
      ],
      "execution_count": null,
      "outputs": []
    },
    {
      "cell_type": "code",
      "metadata": {
        "colab": {
          "base_uri": "https://localhost:8080/"
        },
        "id": "DJELWuZsCk1R",
        "outputId": "5ebb1cb0-af33-45a6-9e9f-a48e89f4a369"
      },
      "source": [
        "predicted_classes.shape"
      ],
      "execution_count": null,
      "outputs": [
        {
          "output_type": "execute_result",
          "data": {
            "text/plain": [
              "(2438, 32, 3)"
            ]
          },
          "metadata": {
            "tags": []
          },
          "execution_count": 60
        }
      ]
    },
    {
      "cell_type": "code",
      "metadata": {
        "id": "ROSlqCoHrske"
      },
      "source": [
        "def plot_confusion_matrix(cm, normalize=False, title='Confusion matrix', cmap=plt.cm.Blues):\n",
        "\n",
        "    if normalize:\n",
        "        cm = cm.astype('float') / cm.sum(axis=1)[:, np.newaxis]\n",
        "        print(\"Normalized confusion matrix\")\n",
        "    else:\n",
        "        print('Confusion matrix, without normalization')\n",
        "\n",
        "    plt.imshow(cm, interpolation='nearest', cmap=cmap)\n",
        "    plt.title(title)\n",
        "    plt.colorbar()\n",
        "\n",
        "    fmt = '.2f' if normalize else 'd'\n",
        "    thresh = cm.max() / 2.\n",
        "    for i, j in itertools.product(range(cm.shape[0]), range(cm.shape[1])):\n",
        "        plt.text(j, i, format(cm[i, j], fmt),\n",
        "                 horizontalalignment=\"center\",\n",
        "                 color=\"white\" if cm[i, j] > thresh else \"black\")\n",
        "\n",
        "    plt.tight_layout()\n",
        "    plt.ylabel('True label')\n",
        "    plt.xlabel('Predicted label')  "
      ],
      "execution_count": null,
      "outputs": []
    },
    {
      "cell_type": "code",
      "metadata": {
        "id": "xMypFBdp7k7E"
      },
      "source": [
        "# mapping_type = {'Center':0,'Donut':1,'Edge-Loc':2,'Edge-Ring':3,'Loc':4,'Random':5,'Scratch':6,'Near-full':7,'none':8}\n",
        "\n",
        "y_train_pred = simple.predict(x_train)\n",
        "y_test_pred = simple.predict(x_test)\n",
        "\n",
        "cnf_matrix = confusion_matrix(y_test, y_test_pred)\n",
        "np.set_printoptions(precision=2)\n",
        "\n",
        "fig = plt.figure(figsize=(15, 8)) \n",
        "gs = gridspec.GridSpec(1, 2, width_ratios=[1, 1]) \n",
        "\n",
        "plt.subplot(gs[0])\n",
        "plot_confusion_matrix(cnf_matrix, title='Confusion matrix')\n",
        "\n",
        "plt.subplot(gs[1])\n",
        "plot_confusion_matrix(cnf_matrix, normalize=True, title='Normalized confusion matrix')\n",
        "\n",
        "plt.show()"
      ],
      "execution_count": null,
      "outputs": []
    },
    {
      "cell_type": "code",
      "metadata": {
        "id": "CDvaF2RErske"
      },
      "source": [
        "# variational autoencoder\n",
        "batch_size = 100\n",
        "original_dim = 128*128\n",
        "latent_dim = 3\n",
        "epochs = 50\n",
        "epsilon_std = 1.0\n",
        "\n",
        "\n",
        "x = Input(shape=(original_dim,))\n",
        "h = Dense(128)(x)\n",
        "#h = BatchNormalization()(h)\n",
        "h = Activation('relu')(h)\n",
        "h = Dense(64)(h)\n",
        "#h = BatchNormalization()(h)\n",
        "h = Activation('relu')(h)\n",
        "h = Dense(32)(h)\n",
        "#h = BatchNormalization()(h)\n",
        "h = Activation('relu')(h)\n",
        "z_mean = Dense(latent_dim)(h)\n",
        "z_log_var = Dense(latent_dim)(h)\n",
        "def sampling(args):\n",
        "    z_mean, z_log_var = args\n",
        "    epsilon = K.random_normal(shape=(K.shape(z_mean)[0], latent_dim), mean=0., stddev=epsilon_std)\n",
        "    return z_mean + K.exp(z_log_var / 2) * epsilon\n",
        "\n",
        "z = Lambda(sampling, output_shape=(latent_dim,))([z_mean, z_log_var])\n",
        "\n",
        "decoder_h = Dense(32, activation='relu')\n",
        "decoder_h2 = Dense(64, activation='relu')\n",
        "decoder_h3 = Dense(128, activation='relu')\n",
        "decoder_mean = Dense(original_dim, activation='sigmoid')\n",
        "h_decoded = decoder_h(z)\n",
        "h_decoded = decoder_h2(h_decoded)\n",
        "h_decoded = decoder_h3(h_decoded)\n",
        "x_decoded_mean = decoder_mean(h_decoded)\n",
        "\n",
        "loss_log = []\n",
        "\n",
        "class CustomVariationalLayer(Layer):\n",
        "    def __init__(self, **kwargs):\n",
        "        self.is_placeholder = True\n",
        "        super(CustomVariationalLayer, self).__init__(**kwargs)\n",
        "\n",
        "    def vae_loss(self, x, x_decoded_mean):\n",
        "        xent_loss = original_dim * metrics.binary_crossentropy(x, x_decoded_mean)\n",
        "        kl_loss = - 0.5 * K.sum(1 + z_log_var - K.square(z_mean) - K.exp(z_log_var), axis=-1)\n",
        "        return K.mean(xent_loss + kl_loss)\n",
        "\n",
        "    def call(self, inputs):\n",
        "        x = inputs[0]\n",
        "        x_decoded_mean = inputs[1]\n",
        "        loss = self.vae_loss(x, x_decoded_mean)\n",
        "        self.add_loss(loss, inputs=inputs)\n",
        "        # We won't actually use the output.\n",
        "        return x\n",
        "\n",
        "y = CustomVariationalLayer()([x, x_decoded_mean])\n",
        "vae = Model(x, y)\n",
        "vae.compile(optimizer='rmsprop', loss=None)\n",
        "\n",
        "x_train = load_wafers('clean2_train')\n",
        "x_train = (x_train + 1) / 2\n",
        "#x_train = x_train.reshape(x_train.shape[0], 128, 128)\n",
        "x_train = x_train.reshape((len(x_train), np.prod(x_train.shape[1:])))"
      ],
      "execution_count": null,
      "outputs": []
    },
    {
      "cell_type": "code",
      "metadata": {
        "id": "YDno_JQ0rskf"
      },
      "source": [
        "vae.fit(x_train,\n",
        "        shuffle=True,\n",
        "        epochs=100,\n",
        "        batch_size=batch_size)"
      ],
      "execution_count": null,
      "outputs": []
    },
    {
      "cell_type": "code",
      "metadata": {
        "id": "TX2KIkwOHx4G"
      },
      "source": [
        "# VGG-16 (Simplified)\n",
        "ddef VGG16(include_top=True,  pooling=None, classes=9):\n",
        "\n",
        "    input_shape = (27, 27, 3)\n",
        "    input_tensor = Input(input_shape)\n",
        "    \n",
        "    # Block 1\n",
        "    x = layers.Conv2D(64, (3, 3),\n",
        "                      activation='relu',\n",
        "                      padding='same',\n",
        "                      name='block1_conv1')(input_tensor)\n",
        "    x = layers.Conv2D(64, (3, 3),\n",
        "                      activation='relu',\n",
        "                      padding='same',\n",
        "                      name='block1_conv2')(x)\n",
        "    x = layers.MaxPooling2D((2, 2), name='block1_pool')(x)\n",
        "\n",
        "    # Block 2\n",
        "    x = layers.Conv2D(128, (3, 3),\n",
        "                      activation='relu',\n",
        "                      padding='same',\n",
        "                      name='block2_conv1')(x)\n",
        "    x = layers.Conv2D(128, (3, 3),\n",
        "                      activation='relu',\n",
        "                      padding='same',\n",
        "                      name='block2_conv2')(x)\n",
        "    x = layers.MaxPooling2D((2, 2), name='block2_pool')(x)\n",
        "\n",
        "    # Block 3\n",
        "    x = layers.Conv2D(256, (3, 3),\n",
        "                      activation='relu',\n",
        "                      padding='same',\n",
        "                      name='block3_conv1')(x)\n",
        "    x = layers.Conv2D(256, (3, 3),\n",
        "                      activation='relu',\n",
        "                      padding='same',\n",
        "                      name='block3_conv2')(x)\n",
        "    x = layers.Conv2D(256, (3, 3),\n",
        "                      activation='relu',\n",
        "                      padding='same',\n",
        "                      name='block3_conv3')(x)\n",
        "    x = layers.MaxPooling2D((2, 2), name='block3_pool')(x)\n",
        "    \n",
        "    # Block 4\n",
        "    x = layers.Conv2D(512, (3, 3),\n",
        "                      activation='relu',\n",
        "                      padding='same',\n",
        "                      name='block4_conv1')(x)\n",
        "    x = layers.Conv2D(512, (3, 3),\n",
        "                      activation='relu',\n",
        "                      padding='same',\n",
        "                      name='block4_conv2')(x)\n",
        "    x = layers.Conv2D(512, (3, 3),\n",
        "                      activation='relu',\n",
        "                      padding='same',\n",
        "                      name='block4_conv3')(x)\n",
        "    x = layers.MaxPooling2D((2, 2), name='block4_pool')(x)\n",
        "\n",
        "    if include_top:\n",
        "        # Classification block\n",
        "        x = layers.Flatten(name='flatten')(x)\n",
        "        x = layers.Dense(1028, activation='relu', name='fc1')(x)\n",
        "        x = layers.Dense(1028, activation='relu', name='fc2')(x)\n",
        "        x = layers.Dense(classes, activation='softmax', name='predictions')(x)\n",
        "    else:\n",
        "        if pooling == 'avg':\n",
        "            x = layers.GlobalAveragePooling2D()(x)\n",
        "        elif pooling == 'max':\n",
        "            x = layers.GlobalMaxPooling2D()(x)\n",
        "\n",
        "    # Create model.\n",
        "    model = models.Model(input_tensor, x, name='vgg16') \n",
        "\n",
        "    return model"
      ],
      "execution_count": null,
      "outputs": []
    },
    {
      "cell_type": "code",
      "metadata": {
        "id": "sCqP8fsDHx7c"
      },
      "source": [
        "VGG_model = VGG16(include_top=True,  pooling=None, classes=9)\n",
        "W0_model.summary()\n",
        "VGG_model.compile(optimizer= optimizers.Adam(learning_rate=0.001), loss='categorical_crossentropy', metrics=['accuracy'])\n",
        "VGG_Hist = VGG_model.fit(nsx_train, y_train, epochs=50, validation_data=[nx_test, y_test], batch_size=900, shuffle=True)"
      ],
      "execution_count": null,
      "outputs": []
    },
    {
      "cell_type": "code",
      "metadata": {
        "id": "fvs9GszdIhFu"
      },
      "source": [
        "# ResNet50\n",
        "from keras.layers import Input, Add, Dense, Activation, ZeroPadding2D, BatchNormalization, Flatten, Conv2D, AveragePooling2D, MaxPooling2D, GlobalMaxPooling2D\n",
        "from keras.initializers import glorot_uniform\n",
        "\n",
        "def identity_block(X, f, filters, stage, block):\n",
        "    \n",
        "    # defining name basis\n",
        "    conv_name_base = 'res' + str(stage) + block + '_branch'\n",
        "    bn_name_base = 'bn' + str(stage) + block + '_branch'\n",
        "    \n",
        "    # Retrieve Filters\n",
        "    F1, F2, F3 = filters\n",
        "    \n",
        "    # Save the input value. You'll need this later to add back to the main path. \n",
        "    X_shortcut = X\n",
        "    \n",
        "    # First component of main path\n",
        "    X = Conv2D(filters = F1, kernel_size = (1, 1), strides = (1,1), padding = 'valid', name = conv_name_base + '2a', kernel_initializer = glorot_uniform(seed=0))(X)\n",
        "    X = BatchNormalization(axis = 3, name = bn_name_base + '2a')(X)\n",
        "    X = Activation('relu')(X)\n",
        "    \n",
        "    ### START CODE HERE ###\n",
        "    \n",
        "    # Second component of main path (≈3 lines)\n",
        "    X = Conv2D(filters = F2, kernel_size = (f,f), strides = (1,1), padding = 'same', name = conv_name_base + '2b', kernel_initializer = glorot_uniform(seed=0))(X)\n",
        "    X = BatchNormalization(axis = 3, name = bn_name_base + '2b')(X)\n",
        "    X = Activation('relu')(X)\n",
        "\n",
        "    # Third component of main path (≈2 lines)\n",
        "    X = Conv2D(filters = F3, kernel_size = (1,1), strides = (1,1), padding = 'valid', name = conv_name_base + '2c', kernel_initializer = glorot_uniform(seed=0))(X)\n",
        "    X = BatchNormalization(axis = 3, name = bn_name_base + '2c')(X)\n",
        "\n",
        "    # Final step: Add shortcut value to main path, and pass it through a RELU activation (≈2 lines)\n",
        "    X = Add()([X, X_shortcut])\n",
        "    X = Activation('relu')(X)\n",
        "    \n",
        "    return X\n",
        "\n",
        "\n",
        "def convolutional_block(X, f, filters, stage, block, s = 2):\n",
        "   \n",
        "    # defining name basis\n",
        "    conv_name_base = 'res' + str(stage) + block + '_branch'\n",
        "    bn_name_base = 'bn' + str(stage) + block + '_branch'\n",
        "    \n",
        "    # Retrieve Filters\n",
        "    F1, F2, F3 = filters\n",
        "    \n",
        "    # Save the input value\n",
        "    X_shortcut = X\n",
        "\n",
        "\n",
        "    ##### MAIN PATH #####\n",
        "    # First component of main path \n",
        "    X = Conv2D(F1, (1, 1), strides = (s,s), padding = 'valid', name = conv_name_base + '2a', kernel_initializer = glorot_uniform(seed=0))(X)\n",
        "    X = BatchNormalization(axis = 3, name = bn_name_base + '2a')(X)\n",
        "    X = Activation('relu')(X)\n",
        "    \n",
        "    ### START CODE HERE ###\n",
        "\n",
        "    # Second component of main path (≈3 lines)\n",
        "    X = Conv2D(F2, (f, f), strides = (1,1), padding = 'same', name = conv_name_base + '2b', kernel_initializer = glorot_uniform(seed=0))(X)\n",
        "    X = BatchNormalization(axis = 3, name = bn_name_base + '2b')(X)\n",
        "    X = Activation('relu')(X)\n",
        "\n",
        "    # Third component of main path (≈2 lines)\n",
        "    X = Conv2D(F3, (1, 1), strides = (1,1), padding = 'valid', name = conv_name_base + '2c', kernel_initializer = glorot_uniform(seed=0))(X)\n",
        "    X = BatchNormalization(axis = 3, name = bn_name_base + '2c')(X)\n",
        "\n",
        "    ##### SHORTCUT PATH #### (≈2 lines)\n",
        "    X_shortcut = Conv2D(F3, (1, 1), strides = (s,s), padding = 'valid', name = conv_name_base + '1', kernel_initializer = glorot_uniform(seed=0))(X_shortcut)\n",
        "    X_shortcut = BatchNormalization(axis = 3, name = bn_name_base + '1')(X_shortcut)\n",
        "\n",
        "    # Final step: Add shortcut value to main path, and pass it through a RELU activation (≈2 lines)\n",
        "    X = Add()([X, X_shortcut])\n",
        "    X = Activation('relu')(X)\n",
        "    \n",
        "    return X\n",
        "\n",
        "def ResNet50(input_shape = (27, 27, 3), classes = 9):\n",
        "    \n",
        "    # Define the input as a tensor with shape input_shape\n",
        "    X_input = Input(input_shape)\n",
        "\n",
        "    \n",
        "    # Zero-Padding\n",
        "    X = ZeroPadding2D((1, 1))(X_input)\n",
        "    \n",
        "    # Stage 1\n",
        "    X = Conv2D(64, (3, 3), name = 'conv1', kernel_initializer = glorot_uniform(seed=0))(X)\n",
        "    X = BatchNormalization(axis = 3, name = 'bn_conv1')(X)\n",
        "    X = Activation('relu')(X)\n",
        "    X = MaxPooling2D((2, 2))(X)\n",
        "\n",
        "    # Stage 2\n",
        "    X = convolutional_block(X, f = 3, filters = [32,32,128], stage = 2, block='a', s = 1)\n",
        "    X = identity_block(X, 3, [32,32,128], stage=2, block='b')\n",
        "    X = identity_block(X, 3, [32,32,128], stage=2, block='c')\n",
        "\n",
        "    # Stage 3 (≈4 lines)\n",
        "    X = convolutional_block(X, f = 3, filters = [64,64,256], stage = 3, block='a', s = 2)\n",
        "    X = identity_block(X, 3, [64,64,256], stage=3, block='b')\n",
        "    X = identity_block(X, 3, [64,64,256], stage=3, block='c')\n",
        "    X = identity_block(X, 3, [64,64,256], stage=3, block='d')\n",
        "\n",
        "       # Stage 4 (≈6 lines)\n",
        "    X = convolutional_block(X, f = 3, filters = [128,128,512], stage = 4, block='a', s = 2)\n",
        "    X = identity_block(X, 3, [128,128,512], stage=4, block='b')\n",
        "    X = identity_block(X, 3, [128,128,512], stage=4, block='c')\n",
        "    X = identity_block(X, 3, [128,128,512], stage=4, block='d')\n",
        "    X = identity_block(X, 3, [128,128,512], stage=4, block='e')\n",
        "    X = identity_block(X, 3, [128,128,512], stage=4, block='f')\n",
        "\n",
        "    # Stage 5 (≈3 lines)\n",
        "    X = convolutional_block(X, f = 3, filters = [256, 256, 1024], stage = 5, block='a', s = 2)\n",
        "    X = identity_block(X, 3, [256, 256, 1024], stage=5, block='b')\n",
        "    X = identity_block(X, 3, [256, 256, 1024], stage=5, block='c')\n",
        "\n",
        "    # AVGPOOL (≈1 line). Use \"X = AveragePooling2D(...)(X)\"\n",
        "    X = AveragePooling2D(pool_size=(2,2), name = \"avg_pool\")(X)\n",
        "\n",
        "    # output layer\n",
        "    X = Flatten()(X)\n",
        "    X = Dense(classes, activation='softmax', name='fc' + str(classes), kernel_initializer = glorot_uniform(seed=0))(X)\n",
        "    \n",
        "    \n",
        "    # Create model\n",
        "    model = models.Model(inputs = X_input, outputs = X, name='ResNet50')\n",
        "\n",
        "    return model"
      ],
      "execution_count": null,
      "outputs": []
    },
    {
      "cell_type": "code",
      "metadata": {
        "id": "-4awfCsiI8Iw"
      },
      "source": [
        "Rmodel0 = ResNet50(input_shape = (27, 27, 3), classes = 9)\n",
        "Rmodel0.compile(optimizer= optimizers.Adam(learning_rate=0.001), loss='categorical_crossentropy', metrics=['accuracy'])\n",
        "Resnet_hist = Rmodel0.fit(nsx_train, y_train, epochs=30, validation_data=[nx_test, y_test], batch_size = 700, shuffle=True)"
      ],
      "execution_count": null,
      "outputs": []
    },
    {
      "cell_type": "code",
      "metadata": {
        "id": "N5yURLFPJDXS"
      },
      "source": [
        ""
      ],
      "execution_count": null,
      "outputs": []
    }
  ]
}