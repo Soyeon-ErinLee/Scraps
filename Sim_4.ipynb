{
  "nbformat": 4,
  "nbformat_minor": 0,
  "metadata": {
    "kernelspec": {
      "display_name": "Python 3",
      "language": "python",
      "name": "python3"
    },
    "language_info": {
      "codemirror_mode": {
        "name": "ipython",
        "version": 3
      },
      "file_extension": ".py",
      "mimetype": "text/x-python",
      "name": "python",
      "nbconvert_exporter": "python",
      "pygments_lexer": "ipython3",
      "version": "3.8.5"
    },
    "colab": {
      "name": "Sim_2.ipynb",
      "provenance": [],
      "collapsed_sections": [],
      "include_colab_link": true
    },
    "accelerator": "GPU"
  },
  "cells": [
    {
      "cell_type": "markdown",
      "metadata": {
        "id": "view-in-github",
        "colab_type": "text"
      },
      "source": [
        "<a href=\"https://colab.research.google.com/github/Soyeon-ErinLee/Scraps/blob/master/Sim_4.ipynb\" target=\"_parent\"><img src=\"https://colab.research.google.com/assets/colab-badge.svg\" alt=\"Open In Colab\"/></a>"
      ]
    },
    {
      "cell_type": "code",
      "metadata": {
        "colab": {
          "base_uri": "https://localhost:8080/"
        },
        "id": "q7EmlnM3rxvd",
        "outputId": "cda7e1d8-0d0a-4328-e0ca-af1f8d17434d"
      },
      "source": [
        "from google.colab import drive\n",
        "drive.mount('/content/drive')"
      ],
      "execution_count": 1,
      "outputs": [
        {
          "output_type": "stream",
          "text": [
            "Mounted at /content/drive\n"
          ],
          "name": "stdout"
        }
      ]
    },
    {
      "cell_type": "code",
      "metadata": {
        "id": "Tu11ZWycrskS"
      },
      "source": [
        "import numpy as np\n",
        "import pandas as pd\n",
        "import matplotlib.pyplot as plt\n",
        "%matplotlib inline \n",
        "import tensorflow as tf\n",
        "import os\n",
        "from os import chdir as cd\n",
        "import warnings\n",
        "import cv2\n",
        "from matplotlib import gridspec   \n",
        "from matplotlib import cm\n",
        "from scipy import interpolate\n",
        "from scipy import stats\n",
        "from sklearn.svm import LinearSVC\n",
        "from sklearn.multiclass import OneVsOneClassifier\n",
        "from sklearn.model_selection import train_test_split\n",
        "from sklearn.preprocessing import OneHotEncoder, LabelEncoder\n",
        "import itertools\n",
        "from sklearn.metrics import confusion_matrix, f1_score, classification_report\n",
        "from tqdm import tqdm\n",
        "from tensorflow.keras.layers import Dense, Input\n",
        "import functools\n",
        "from functools import partial\n",
        "from tensorflow.keras.initializers import glorot_uniform\n",
        "from tensorflow.keras.metrics import top_k_categorical_accuracy as tCA\n",
        "from tensorflow.keras.metrics import Recall\n",
        "from tensorflow.keras.regularizers import l1,l2,l1_l2\n",
        "from tensorflow.keras.layers import Conv2D, MaxPool2D, Conv2DTranspose, UpSampling2D, BatchNormalization, MaxPooling2D, Flatten, GlobalAveragePooling2D, Activation, AveragePooling2D , ZeroPadding2D, SeparableConv2D, Dropout, add, Add\n",
        "from tensorflow.keras.models import Model, load_model , Sequential\n",
        "from tensorflow.keras.utils import plot_model, to_categorical\n",
        "from tensorflow.keras.callbacks import EarlyStopping , LearningRateScheduler, ModelCheckpoint, CSVLogger, Callback, ReduceLROnPlateau\n",
        "from tensorflow.keras.metrics import CategoricalCrossentropy\n",
        "warnings.filterwarnings(\"ignore\")"
      ],
      "execution_count": 2,
      "outputs": []
    },
    {
      "cell_type": "code",
      "metadata": {
        "id": "Vtfyxmyafgwo"
      },
      "source": [
        "cd(\"/content/drive/Shareddrives/Labs/2020_1_이소연/code\")\n",
        "from lrn import LRN\n",
        "from f1score import macro_f1score"
      ],
      "execution_count": 3,
      "outputs": []
    },
    {
      "cell_type": "code",
      "metadata": {
        "id": "LvtDfWgo4LzI"
      },
      "source": [
        "sub_df = pd.read_pickle(\"main.pkl\")"
      ],
      "execution_count": 4,
      "outputs": []
    },
    {
      "cell_type": "code",
      "metadata": {
        "colab": {
          "base_uri": "https://localhost:8080/",
          "height": 202
        },
        "id": "__mMYfEFHUVb",
        "outputId": "e4da8370-ace5-4c1b-9a17-531c6b3e0d39"
      },
      "source": [
        "sub_df.head()"
      ],
      "execution_count": 5,
      "outputs": [
        {
          "output_type": "execute_result",
          "data": {
            "text/html": [
              "<div>\n",
              "<style scoped>\n",
              "    .dataframe tbody tr th:only-of-type {\n",
              "        vertical-align: middle;\n",
              "    }\n",
              "\n",
              "    .dataframe tbody tr th {\n",
              "        vertical-align: top;\n",
              "    }\n",
              "\n",
              "    .dataframe thead th {\n",
              "        text-align: right;\n",
              "    }\n",
              "</style>\n",
              "<table border=\"1\" class=\"dataframe\">\n",
              "  <thead>\n",
              "    <tr style=\"text-align: right;\">\n",
              "      <th></th>\n",
              "      <th>index</th>\n",
              "      <th>waferMap</th>\n",
              "      <th>dieSize</th>\n",
              "      <th>lotName</th>\n",
              "      <th>trianTestLabel</th>\n",
              "      <th>failureType</th>\n",
              "      <th>waferMapDim</th>\n",
              "      <th>failureNum</th>\n",
              "      <th>trainTestNum</th>\n",
              "    </tr>\n",
              "  </thead>\n",
              "  <tbody>\n",
              "    <tr>\n",
              "      <th>0</th>\n",
              "      <td>9637</td>\n",
              "      <td>[[0, 0, 0, 0, 0, 0, 0, 0, 0, 0, 0, 0, 0, 0, 2,...</td>\n",
              "      <td>741.0</td>\n",
              "      <td>lot1847</td>\n",
              "      <td>[[Training]]</td>\n",
              "      <td>[[Edge-Loc]]</td>\n",
              "      <td>(33, 29)</td>\n",
              "      <td>2</td>\n",
              "      <td>0</td>\n",
              "    </tr>\n",
              "    <tr>\n",
              "      <th>1</th>\n",
              "      <td>13741</td>\n",
              "      <td>[[0, 0, 0, 0, 0, 0, 0, 0, 0, 0, 0, 0, 0, 0, 1,...</td>\n",
              "      <td>741.0</td>\n",
              "      <td>lot2137</td>\n",
              "      <td>[[Training]]</td>\n",
              "      <td>[[Scratch]]</td>\n",
              "      <td>(33, 29)</td>\n",
              "      <td>6</td>\n",
              "      <td>0</td>\n",
              "    </tr>\n",
              "    <tr>\n",
              "      <th>2</th>\n",
              "      <td>13765</td>\n",
              "      <td>[[0, 0, 0, 0, 0, 0, 0, 0, 0, 0, 0, 0, 0, 0, 1,...</td>\n",
              "      <td>741.0</td>\n",
              "      <td>lot2138</td>\n",
              "      <td>[[Training]]</td>\n",
              "      <td>[[Scratch]]</td>\n",
              "      <td>(33, 29)</td>\n",
              "      <td>6</td>\n",
              "      <td>0</td>\n",
              "    </tr>\n",
              "    <tr>\n",
              "      <th>3</th>\n",
              "      <td>14503</td>\n",
              "      <td>[[0, 0, 0, 0, 0, 0, 0, 0, 0, 0, 0, 0, 0, 0, 2,...</td>\n",
              "      <td>741.0</td>\n",
              "      <td>lot2172</td>\n",
              "      <td>[[Training]]</td>\n",
              "      <td>[[Edge-Loc]]</td>\n",
              "      <td>(33, 29)</td>\n",
              "      <td>2</td>\n",
              "      <td>0</td>\n",
              "    </tr>\n",
              "    <tr>\n",
              "      <th>4</th>\n",
              "      <td>14528</td>\n",
              "      <td>[[0, 0, 0, 0, 0, 0, 0, 0, 0, 0, 0, 0, 0, 0, 2,...</td>\n",
              "      <td>741.0</td>\n",
              "      <td>lot2173</td>\n",
              "      <td>[[Training]]</td>\n",
              "      <td>[[Edge-Loc]]</td>\n",
              "      <td>(33, 29)</td>\n",
              "      <td>2</td>\n",
              "      <td>0</td>\n",
              "    </tr>\n",
              "  </tbody>\n",
              "</table>\n",
              "</div>"
            ],
            "text/plain": [
              "   index  ... trainTestNum\n",
              "0   9637  ...            0\n",
              "1  13741  ...            0\n",
              "2  13765  ...            0\n",
              "3  14503  ...            0\n",
              "4  14528  ...            0\n",
              "\n",
              "[5 rows x 9 columns]"
            ]
          },
          "metadata": {
            "tags": []
          },
          "execution_count": 5
        }
      ]
    },
    {
      "cell_type": "code",
      "metadata": {
        "colab": {
          "base_uri": "https://localhost:8080/"
        },
        "id": "ANG19eXEJa3E",
        "outputId": "b1c689fd-4f70-48d8-c339-cdf20e26ac05"
      },
      "source": [
        "sub_df.shape"
      ],
      "execution_count": 12,
      "outputs": [
        {
          "output_type": "execute_result",
          "data": {
            "text/plain": [
              "(8125, 9)"
            ]
          },
          "metadata": {
            "tags": []
          },
          "execution_count": 12
        }
      ]
    },
    {
      "cell_type": "code",
      "metadata": {
        "colab": {
          "base_uri": "https://localhost:8080/"
        },
        "id": "JIqhGrCTHM4d",
        "outputId": "dbcf4dfe-681d-43bf-ae8b-0c2a701a1776"
      },
      "source": [
        "sub_df = sub_df.loc[(sub_df['failureType'] != 'Donut') & (sub_df['failureType'] != 'Random')]\n",
        "sub_df.shape"
      ],
      "execution_count": 14,
      "outputs": [
        {
          "output_type": "execute_result",
          "data": {
            "text/plain": [
              "(8111, 9)"
            ]
          },
          "metadata": {
            "tags": []
          },
          "execution_count": 14
        }
      ]
    },
    {
      "cell_type": "code",
      "metadata": {
        "colab": {
          "base_uri": "https://localhost:8080/"
        },
        "id": "8hNO4pUirskb",
        "outputId": "ce900985-a6a4-4e97-9229-32450929ca53"
      },
      "source": [
        "# Plotting\n",
        "sw = np.ones((1, 32, 32))\n",
        "label = list()\n",
        "\n",
        "for i in tqdm(range(len(sub_df))):\n",
        "    if len(sub_df.iloc[i,:]['failureType']) == 0:\n",
        "        continue\n",
        "    sw = np.concatenate((sw, sub_df.iloc[i,:]['waferMap'].reshape(1, 32, 32)))\n",
        "    label.append(sub_df.iloc[i,:]['failureType'][0][0])\n",
        "x = sw[1:]\n",
        "y = np.array(label).reshape((-1,1))"
      ],
      "execution_count": 15,
      "outputs": [
        {
          "output_type": "stream",
          "text": [
            "100%|██████████| 8111/8111 [01:17<00:00, 105.05it/s]\n"
          ],
          "name": "stderr"
        }
      ]
    },
    {
      "cell_type": "code",
      "metadata": {
        "colab": {
          "base_uri": "https://localhost:8080/",
          "height": 283
        },
        "id": "VZ83dNrBrskb",
        "outputId": "e964caaa-ff8e-44b3-bc14-c0207d60e778"
      },
      "source": [
        "plt.imshow(x[0])\n",
        "print('Failure type : {} '.format(y[0]))"
      ],
      "execution_count": 16,
      "outputs": [
        {
          "output_type": "stream",
          "text": [
            "Failure type : ['Edge-Loc'] \n"
          ],
          "name": "stdout"
        },
        {
          "output_type": "display_data",
          "data": {
            "image/png": "[encoded data removed]",
            "text/plain": [
              "<Figure size 432x288 with 1 Axes>"
            ]
          },
          "metadata": {
            "tags": [],
            "needs_background": "light"
          }
        }
      ]
    },
    {
      "cell_type": "code",
      "metadata": {
        "colab": {
          "base_uri": "https://localhost:8080/"
        },
        "id": "ifKCsp7Vrskc",
        "outputId": "70937106-212e-4646-c832-c24e0b2a9919"
      },
      "source": [
        "labels = ['Center','Edge-Loc','Edge-Ring','Loc','Near-full','Scratch','none']\n",
        "for f in labels :\n",
        "    print('{} : {}'.format(f, len(y[y==f])))"
      ],
      "execution_count": 17,
      "outputs": [
        {
          "output_type": "stream",
          "text": [
            "Center : 20\n",
            "Edge-Loc : 130\n",
            "Edge-Ring : 55\n",
            "Loc : 107\n",
            "Near-full : 28\n",
            "Scratch : 47\n",
            "none : 7724\n"
          ],
          "name": "stdout"
        }
      ]
    },
    {
      "cell_type": "code",
      "metadata": {
        "colab": {
          "base_uri": "https://localhost:8080/"
        },
        "id": "JBXnpuejrskd",
        "outputId": "ecc450ee-4854-4d63-d94f-b32e16697feb"
      },
      "source": [
        "# For CNN models\n",
        "new_x = np.zeros((len(x), 32, 32, 3))\n",
        "for w in range(len(x)):\n",
        "    for i in range(32):\n",
        "        for j in range(32):\n",
        "            new_x[w, i, j, int(x[w, i, j])] = 1\n",
        "new_x.shape"
      ],
      "execution_count": 18,
      "outputs": [
        {
          "output_type": "execute_result",
          "data": {
            "text/plain": [
              "(8111, 32, 32, 3)"
            ]
          },
          "metadata": {
            "tags": []
          },
          "execution_count": 18
        }
      ]
    },
    {
      "cell_type": "code",
      "metadata": {
        "id": "ZNYxPN38rske"
      },
      "source": [
        "# train/test\n",
        "x_train, x_test, y_train, y_test = train_test_split(new_x, y, test_size=0.4, random_state=123)"
      ],
      "execution_count": 30,
      "outputs": []
    },
    {
      "cell_type": "code",
      "metadata": {
        "colab": {
          "base_uri": "https://localhost:8080/"
        },
        "id": "NNeQvMjnBe9t",
        "outputId": "0d3cbf53-6e40-48a4-e814-080e6241ce92"
      },
      "source": [
        "for f in labels :\n",
        "    print('{} : {}'.format(f, len(y_test[y_test==f])))"
      ],
      "execution_count": 20,
      "outputs": [
        {
          "output_type": "stream",
          "text": [
            "Center : 7\n",
            "Edge-Loc : 50\n",
            "Edge-Ring : 23\n",
            "Loc : 41\n",
            "Near-full : 7\n",
            "Scratch : 23\n",
            "none : 3094\n"
          ],
          "name": "stdout"
        }
      ]
    },
    {
      "cell_type": "code",
      "metadata": {
        "colab": {
          "base_uri": "https://localhost:8080/"
        },
        "id": "eMGLehWmD6kg",
        "outputId": "afe343ea-65ba-407b-f12f-c0e4ffa056bd"
      },
      "source": [
        "print('{},{}'.format(x_train.shape, y_train.shape))"
      ],
      "execution_count": 21,
      "outputs": [
        {
          "output_type": "stream",
          "text": [
            "(4866, 32, 32, 3),(4866, 1)\n"
          ],
          "name": "stdout"
        }
      ]
    },
    {
      "cell_type": "code",
      "metadata": {
        "id": "zQuODoZeZ1BG"
      },
      "source": [
        "# Convolutional Autoencoder"
      ],
      "execution_count": null,
      "outputs": []
    },
    {
      "cell_type": "code",
      "metadata": {
        "id": "coIkyKMmgdyB"
      },
      "source": [
        "def encoder(input_img):\n",
        "    #encoder\n",
        "    #input = 32 x 32 x 3 (wide and thin)\n",
        "    conv1 = Conv2D(32, (3, 3), activation='relu', padding='same')(input_img)\n",
        "    pool1 = MaxPooling2D(padding='same')(conv1)\n",
        "    conv2 = Conv2D(64, (3, 3), activation='relu', padding='same')(pool1)\n",
        "    conv2 = BatchNormalization()(conv2)\n",
        "    pool2 = MaxPooling2D(padding='same')(conv2) # 8 x 8 x 64\n",
        "    return pool2\n",
        "\n",
        "def decoder(conv4):\n",
        "    #decoder\n",
        "    conv5 = Conv2D(64, (3, 3), activation='relu', padding='same')(conv4) # 8 x 8 x 64\n",
        "    up1 = UpSampling2D()(conv5) # 16 x 16 x 64\n",
        "    conv6 = Conv2D(32, (3, 3), activation='relu', padding='same')(up1)\n",
        "    conv6 = BatchNormalization()(conv6)\n",
        "    up2 = UpSampling2D()(conv6)\n",
        "    decoded = Conv2D(3, (3, 3), activation='sigmoid', padding='same')(up2) # 32 x 32 x 1\n",
        "    return decoded"
      ],
      "execution_count": 22,
      "outputs": []
    },
    {
      "cell_type": "code",
      "metadata": {
        "id": "9UvWhykHW7UP"
      },
      "source": [
        "input_shape = Input(shape=(32, 32, 3))"
      ],
      "execution_count": 23,
      "outputs": []
    },
    {
      "cell_type": "code",
      "metadata": {
        "colab": {
          "base_uri": "https://localhost:8080/"
        },
        "id": "kbj3Vaupik_L",
        "outputId": "e7a2c73f-b4bb-4264-a322-e2983a51934e"
      },
      "source": [
        "AEncoder = Model(input_shape, decoder(encoder(input_shape)))\n",
        "AEncoder.summary()\n",
        "AEncoder.compile(loss='mse', optimizer='adam')\n",
        "AEncoder.fit(x_train, x_train, epochs=10, batch_size=64, verbose=2)"
      ],
      "execution_count": 24,
      "outputs": [
        {
          "output_type": "stream",
          "text": [
            "Model: \"model\"\n",
            "_________________________________________________________________\n",
            "Layer (type)                 Output Shape              Param #   \n",
            "=================================================================\n",
            "input_1 (InputLayer)         [(None, 32, 32, 3)]       0         \n",
            "_________________________________________________________________\n",
            "conv2d (Conv2D)              (None, 32, 32, 32)        896       \n",
            "_________________________________________________________________\n",
            "max_pooling2d (MaxPooling2D) (None, 16, 16, 32)        0         \n",
            "_________________________________________________________________\n",
            "conv2d_1 (Conv2D)            (None, 16, 16, 64)        18496     \n",
            "_________________________________________________________________\n",
            "batch_normalization (BatchNo (None, 16, 16, 64)        256       \n",
            "_________________________________________________________________\n",
            "max_pooling2d_1 (MaxPooling2 (None, 8, 8, 64)          0         \n",
            "_________________________________________________________________\n",
            "conv2d_2 (Conv2D)            (None, 8, 8, 64)          36928     \n",
            "_________________________________________________________________\n",
            "up_sampling2d (UpSampling2D) (None, 16, 16, 64)        0         \n",
            "_________________________________________________________________\n",
            "conv2d_3 (Conv2D)            (None, 16, 16, 32)        18464     \n",
            "_________________________________________________________________\n",
            "batch_normalization_1 (Batch (None, 16, 16, 32)        128       \n",
            "_________________________________________________________________\n",
            "up_sampling2d_1 (UpSampling2 (None, 32, 32, 32)        0         \n",
            "_________________________________________________________________\n",
            "conv2d_4 (Conv2D)            (None, 32, 32, 3)         867       \n",
            "=================================================================\n",
            "Total params: 76,035\n",
            "Trainable params: 75,843\n",
            "Non-trainable params: 192\n",
            "_________________________________________________________________\n",
            "Epoch 1/10\n",
            "77/77 - 32s - loss: 0.0952\n",
            "Epoch 2/10\n",
            "77/77 - 0s - loss: 0.0527\n",
            "Epoch 3/10\n",
            "77/77 - 0s - loss: 0.0434\n",
            "Epoch 4/10\n",
            "77/77 - 0s - loss: 0.0381\n",
            "Epoch 5/10\n",
            "77/77 - 0s - loss: 0.0322\n",
            "Epoch 6/10\n",
            "77/77 - 0s - loss: 0.0316\n",
            "Epoch 7/10\n",
            "77/77 - 0s - loss: 0.0252\n",
            "Epoch 8/10\n",
            "77/77 - 0s - loss: 0.0220\n",
            "Epoch 9/10\n",
            "77/77 - 0s - loss: 0.0193\n",
            "Epoch 10/10\n",
            "77/77 - 0s - loss: 0.0173\n"
          ],
          "name": "stdout"
        },
        {
          "output_type": "execute_result",
          "data": {
            "text/plain": [
              "<tensorflow.python.keras.callbacks.History at 0x7f8458cae710>"
            ]
          },
          "metadata": {
            "tags": []
          },
          "execution_count": 24
        }
      ]
    },
    {
      "cell_type": "code",
      "metadata": {
        "colab": {
          "base_uri": "https://localhost:8080/"
        },
        "id": "79HukY1PmBPL",
        "outputId": "f27ca017-ec46-4dd7-81b1-2c817b042f16"
      },
      "source": [
        "np.where(y_test=='Edge-Loc')"
      ],
      "execution_count": null,
      "outputs": [
        {
          "output_type": "execute_result",
          "data": {
            "text/plain": [
              "(array([  17,  118,  159,  195,  339,  476,  579,  609,  642,  666,  785,\n",
              "         878, 1026, 1068, 1119, 1208, 1255, 1256, 1341, 1490, 1520, 1616,\n",
              "        1720, 1766, 1767, 1780, 1897, 2148, 2189, 2190, 2197, 2200, 2323,\n",
              "        2333, 2336, 2383, 2442, 2445, 2619, 2627, 2637, 2646, 2699, 2739,\n",
              "        2913, 2954, 3011]),\n",
              " array([0, 0, 0, 0, 0, 0, 0, 0, 0, 0, 0, 0, 0, 0, 0, 0, 0, 0, 0, 0, 0, 0,\n",
              "        0, 0, 0, 0, 0, 0, 0, 0, 0, 0, 0, 0, 0, 0, 0, 0, 0, 0, 0, 0, 0, 0,\n",
              "        0, 0, 0]))"
            ]
          },
          "metadata": {
            "tags": []
          },
          "execution_count": 71
        }
      ]
    },
    {
      "cell_type": "code",
      "metadata": {
        "colab": {
          "base_uri": "https://localhost:8080/",
          "height": 283
        },
        "id": "IDjuof5DZOn6",
        "outputId": "baa449b9-7dc2-4796-fd67-d62e6eaca149"
      },
      "source": [
        "plt.imshow(np.argmax(x_test[195], axis=2))"
      ],
      "execution_count": null,
      "outputs": [
        {
          "output_type": "execute_result",
          "data": {
            "text/plain": [
              "<matplotlib.image.AxesImage at 0x7f14d431af90>"
            ]
          },
          "metadata": {
            "tags": []
          },
          "execution_count": 80
        },
        {
          "output_type": "display_data",
          "data": {
            "image/png": "[encoded data removed]",
            "text/plain": [
              "<Figure size 432x288 with 1 Axes>"
            ]
          },
          "metadata": {
            "tags": [],
            "needs_background": "light"
          }
        }
      ]
    },
    {
      "cell_type": "code",
      "metadata": {
        "colab": {
          "base_uri": "https://localhost:8080/",
          "height": 283
        },
        "id": "F4Nz58qtj-k9",
        "outputId": "01e79df1-c2dc-461a-9a97-062099bc3970"
      },
      "source": [
        "gen_x = np.argmax(AEncoder.predict(x_test), axis=3)\n",
        "plt.imshow(gen_x[195])"
      ],
      "execution_count": null,
      "outputs": [
        {
          "output_type": "execute_result",
          "data": {
            "text/plain": [
              "<matplotlib.image.AxesImage at 0x7f14d42baa10>"
            ]
          },
          "metadata": {
            "tags": []
          },
          "execution_count": 81
        },
        {
          "output_type": "display_data",
          "data": {
            "image/png": "[encoded data removed]",
            "text/plain": [
              "<Figure size 432x288 with 1 Axes>"
            ]
          },
          "metadata": {
            "tags": [],
            "needs_background": "light"
          }
        }
      ]
    },
    {
      "cell_type": "code",
      "metadata": {
        "colab": {
          "base_uri": "https://localhost:8080/"
        },
        "id": "oaxu1HSE8bUL",
        "outputId": "d91f9b3a-1ef5-414c-c441-4f814ba3ce43"
      },
      "source": [
        "x_train[0].shape (4875, 32, 32, 3)"
      ],
      "execution_count": null,
      "outputs": [
        {
          "output_type": "execute_result",
          "data": {
            "text/plain": [
              "(32, 32, 3)"
            ]
          },
          "metadata": {
            "tags": []
          },
          "execution_count": 95
        }
      ]
    },
    {
      "cell_type": "code",
      "metadata": {
        "colab": {
          "base_uri": "https://localhost:8080/"
        },
        "id": "4Q4Yt22_9wqM",
        "outputId": "d9d1c9dc-e048-4b95-d7d8-2f8f7a2add8f"
      },
      "source": [
        "np.where(y_train=='Edge-Loc')"
      ],
      "execution_count": null,
      "outputs": [
        {
          "output_type": "execute_result",
          "data": {
            "text/plain": [
              "(array([ 180,  224,  242,  308,  329,  335,  523,  542,  554,  565,  574,\n",
              "         633,  766,  816,  899,  901,  927, 1083, 1220, 1421, 1461, 1485,\n",
              "        1540, 1575, 1627, 1908, 1979, 2027, 2057, 2187, 2289, 2311, 2314,\n",
              "        2343, 2503, 2518, 2566, 2624, 2667, 2715, 2763, 2784, 2953, 2963,\n",
              "        3010, 3022, 3046, 3047, 3085, 3397, 3406, 3480, 3558, 3608, 3664,\n",
              "        3703, 3719, 3750, 3776, 3782, 3789, 3799, 3889, 3891, 3936, 3952,\n",
              "        3974, 4009, 4048, 4158, 4183, 4334, 4358, 4366, 4505, 4619, 4648,\n",
              "        4698, 4780, 4785, 4804, 4837, 4858]),\n",
              " array([0, 0, 0, 0, 0, 0, 0, 0, 0, 0, 0, 0, 0, 0, 0, 0, 0, 0, 0, 0, 0, 0,\n",
              "        0, 0, 0, 0, 0, 0, 0, 0, 0, 0, 0, 0, 0, 0, 0, 0, 0, 0, 0, 0, 0, 0,\n",
              "        0, 0, 0, 0, 0, 0, 0, 0, 0, 0, 0, 0, 0, 0, 0, 0, 0, 0, 0, 0, 0, 0,\n",
              "        0, 0, 0, 0, 0, 0, 0, 0, 0, 0, 0, 0, 0, 0, 0, 0, 0]))"
            ]
          },
          "metadata": {
            "tags": []
          },
          "execution_count": 99
        }
      ]
    },
    {
      "cell_type": "code",
      "metadata": {
        "colab": {
          "base_uri": "https://localhost:8080/",
          "height": 283
        },
        "id": "WZ_laKW19nS9",
        "outputId": "d703bff6-022f-4003-8363-7933d683ec0f"
      },
      "source": [
        "plt.imshow(np.argmax(x_train[180], axis=2))"
      ],
      "execution_count": null,
      "outputs": [
        {
          "output_type": "execute_result",
          "data": {
            "text/plain": [
              "<matplotlib.image.AxesImage at 0x7f14d0778ad0>"
            ]
          },
          "metadata": {
            "tags": []
          },
          "execution_count": 100
        },
        {
          "output_type": "display_data",
          "data": {
            "image/png": "[encoded data removed]",
            "text/plain": [
              "<Figure size 432x288 with 1 Axes>"
            ]
          },
          "metadata": {
            "tags": [],
            "needs_background": "light"
          }
        }
      ]
    },
    {
      "cell_type": "code",
      "metadata": {
        "colab": {
          "base_uri": "https://localhost:8080/",
          "height": 283
        },
        "id": "az6sIdFR8VUz",
        "outputId": "9e5bb205-b2bf-4ea0-9ac4-f9a272442a87"
      },
      "source": [
        "gen_x = np.argmax(AEncoder.predict(x_train + np.random.normal(loc=0, scale=0.1, size = (4875, 32, 32, 3))), axis=3)\n",
        "plt.imshow(gen_x[180])"
      ],
      "execution_count": null,
      "outputs": [
        {
          "output_type": "execute_result",
          "data": {
            "text/plain": [
              "<matplotlib.image.AxesImage at 0x7f14c0464fd0>"
            ]
          },
          "metadata": {
            "tags": []
          },
          "execution_count": 101
        },
        {
          "output_type": "display_data",
          "data": {
            "image/png": "[encoded data removed]",
            "text/plain": [
              "<Figure size 432x288 with 1 Axes>"
            ]
          },
          "metadata": {
            "tags": [],
            "needs_background": "light"
          }
        }
      ]
    },
    {
      "cell_type": "code",
      "metadata": {
        "id": "0dpCKfwHtQ2w"
      },
      "source": [
        "# Generate data\n",
        "def gen_data(wafer, label):\n",
        "    gen_x = np.zeros((1, 32, 32, 3))\n",
        "    \n",
        "    for i in range((2000//len(wafer)) + 1):\n",
        "        noised_encoded_x = wafer + np.random.normal(loc=0, scale=0.1, size = (len(wafer), 32, 32, 3))  \n",
        "        noised_gen_x = AEncoder.predict(noised_encoded_x)\n",
        "        gen_x = np.concatenate((gen_x, noised_gen_x), axis=0)\n",
        "\n",
        "    gen_y = np.full((len(gen_x), 1), label)\n",
        "    \n",
        "    return gen_x[1:], gen_y[1:]"
      ],
      "execution_count": 31,
      "outputs": []
    },
    {
      "cell_type": "code",
      "metadata": {
        "id": "uqnVi_MaDRIv"
      },
      "source": [
        "# labels = ['Center','Edge-Loc','Edge-Ring','Loc','Near-full','Scratch', 'none']\n",
        "for f in labels :  \n",
        "    if f == 'none' : \n",
        "        continue    \n",
        "    gen_x, gen_y = gen_data(x_train[np.where(y_train==f)[0]], f)\n",
        "    x_train = np.concatenate((x_train, gen_x), axis=0)\n",
        "    y_train = np.concatenate((y_train, gen_y))"
      ],
      "execution_count": 32,
      "outputs": []
    },
    {
      "cell_type": "code",
      "metadata": {
        "colab": {
          "base_uri": "https://localhost:8080/",
          "height": 283
        },
        "id": "xm2tESErx2xe",
        "outputId": "43150314-6307-4831-e123-a719a71b21d4"
      },
      "source": [
        "plt.imshow(np.argmax(x_train[5000], axis=2))"
      ],
      "execution_count": null,
      "outputs": [
        {
          "output_type": "execute_result",
          "data": {
            "text/plain": [
              "<matplotlib.image.AxesImage at 0x7f14d1ca6810>"
            ]
          },
          "metadata": {
            "tags": []
          },
          "execution_count": 124
        },
        {
          "output_type": "display_data",
          "data": {
            "image/png": "[encoded data removed]",
            "text/plain": [
              "<Figure size 432x288 with 1 Axes>"
            ]
          },
          "metadata": {
            "tags": [],
            "needs_background": "light"
          }
        }
      ]
    },
    {
      "cell_type": "code",
      "metadata": {
        "colab": {
          "base_uri": "https://localhost:8080/"
        },
        "id": "Rni7-pynDRMg",
        "outputId": "48299170-89a1-4b7d-f367-9e8589a50920"
      },
      "source": [
        "print('After Generate new x shape : {}, new y shape : {}'.format(x_train.shape, y_train.shape))"
      ],
      "execution_count": 33,
      "outputs": [
        {
          "output_type": "stream",
          "text": [
            "After Generate new x shape : (17042, 32, 32, 3), new y shape : (17042, 1)\n"
          ],
          "name": "stdout"
        }
      ]
    },
    {
      "cell_type": "code",
      "metadata": {
        "colab": {
          "base_uri": "https://localhost:8080/"
        },
        "id": "ps4cryjhDROG",
        "outputId": "3ad0daab-4879-4de3-c2e1-afb88440b08e"
      },
      "source": [
        "for f in labels :\n",
        "    print('{} : {}'.format(f, len(y_train[y_train==f]))) "
      ],
      "execution_count": 34,
      "outputs": [
        {
          "output_type": "stream",
          "text": [
            "Center : 2015\n",
            "Edge-Loc : 2160\n",
            "Edge-Ring : 2048\n",
            "Loc : 2112\n",
            "Near-full : 2037\n",
            "Scratch : 2040\n",
            "none : 4630\n"
          ],
          "name": "stdout"
        }
      ]
    },
    {
      "cell_type": "code",
      "metadata": {
        "colab": {
          "base_uri": "https://localhost:8080/"
        },
        "id": "0-irbpONQmC4",
        "outputId": "ea3dd37d-fc1b-4439-e883-f8fd368b2430"
      },
      "source": [
        "np.unique(y)"
      ],
      "execution_count": 35,
      "outputs": [
        {
          "output_type": "execute_result",
          "data": {
            "text/plain": [
              "array(['Center', 'Edge-Loc', 'Edge-Ring', 'Loc', 'Near-full', 'Scratch',\n",
              "       'none'], dtype='<U9')"
            ]
          },
          "metadata": {
            "tags": []
          },
          "execution_count": 35
        }
      ]
    },
    {
      "cell_type": "code",
      "metadata": {
        "colab": {
          "base_uri": "https://localhost:8080/"
        },
        "id": "RtMpv2GDKSCy",
        "outputId": "eb934ae6-7255-4337-ef04-2181281acaf3"
      },
      "source": [
        "np.where(y_test=='Center')"
      ],
      "execution_count": null,
      "outputs": [
        {
          "output_type": "execute_result",
          "data": {
            "text/plain": [
              "(array([ 133,  409, 1484, 1529, 1790, 2111, 2853]),\n",
              " array([0, 0, 0, 0, 0, 0, 0]))"
            ]
          },
          "metadata": {
            "tags": []
          },
          "execution_count": 139
        }
      ]
    },
    {
      "cell_type": "code",
      "metadata": {
        "colab": {
          "base_uri": "https://localhost:8080/"
        },
        "id": "Wyj-hqCIQh9Y",
        "outputId": "e284788b-ac87-4e03-bd80-71f17f86d02a"
      },
      "source": [
        "y_OH = OneHotEncoder()\n",
        "y_ = y_OH.fit_transform(y_train)\n",
        "print(y_OH.get_feature_names())\n",
        "y_ = y_.toarray()\n",
        "print(y_[291])"
      ],
      "execution_count": 36,
      "outputs": [
        {
          "output_type": "stream",
          "text": [
            "['x0_Center' 'x0_Edge-Loc' 'x0_Edge-Ring' 'x0_Loc' 'x0_Near-full'\n",
            " 'x0_Scratch' 'x0_none']\n",
            "[0. 0. 0. 0. 0. 0. 1.]\n"
          ],
          "name": "stdout"
        }
      ]
    },
    {
      "cell_type": "code",
      "metadata": {
        "colab": {
          "base_uri": "https://localhost:8080/"
        },
        "id": "SSTwQa8kFb9P",
        "outputId": "d2d29014-88c9-4b06-8be6-726385dabb5c"
      },
      "source": [
        "y_OH2 = OneHotEncoder()\n",
        "y_2 = y_OH2.fit_transform(y_test)\n",
        "print(y_OH2.get_feature_names())\n",
        "y_2 = y_2.toarray()\n",
        "print(y_2[133])"
      ],
      "execution_count": 37,
      "outputs": [
        {
          "output_type": "stream",
          "text": [
            "['x0_Center' 'x0_Edge-Loc' 'x0_Edge-Ring' 'x0_Loc' 'x0_Near-full'\n",
            " 'x0_Scratch' 'x0_none']\n",
            "[0. 0. 0. 0. 0. 0. 1.]\n"
          ],
          "name": "stdout"
        }
      ]
    },
    {
      "cell_type": "code",
      "metadata": {
        "colab": {
          "base_uri": "https://localhost:8080/"
        },
        "id": "OBse9eM41qPT",
        "outputId": "05943f2b-74a9-4826-f9c7-204b8a98d46b"
      },
      "source": [
        "print(x_train.shape, y_.shape)"
      ],
      "execution_count": 38,
      "outputs": [
        {
          "output_type": "stream",
          "text": [
            "(17042, 32, 32, 3) (17042, 7)\n"
          ],
          "name": "stdout"
        }
      ]
    },
    {
      "cell_type": "code",
      "metadata": {
        "id": "cXTy0HHr8rbk"
      },
      "source": [
        "data_name = 'wm811k'\n",
        "number = '1'\n",
        "batch_sizes = 128\n",
        "weight_decay = 1e-4\n",
        "epochs = 70\n",
        "model = \"AlexNet\"\n",
        "dir = os.path.join(os.getcwd(),data_name)\n",
        "os.makedirs(os.path.join(dir,'model_output',number,model), exist_ok=True)\n",
        "os.makedirs(os.path.join(dir,'train_valid_output',number), exist_ok=True)"
      ],
      "execution_count": 39,
      "outputs": []
    },
    {
      "cell_type": "code",
      "metadata": {
        "id": "vsoPTiehYt1X"
      },
      "source": [
        "def lr_schedule(epoch):\n",
        "    lr = 3e-4\n",
        "    if epoch < 30:\n",
        "        lr = lr\n",
        "    elif epoch < 60 :\n",
        "        lr = lr * 0.1\n",
        "    else:\n",
        "        lr = lr * 0.01\n",
        "    print('Learning rate: ', lr)\n",
        "    return lr"
      ],
      "execution_count": 40,
      "outputs": []
    },
    {
      "cell_type": "code",
      "metadata": {
        "id": "ELLd_xL6PKIq"
      },
      "source": [
        "import itertools\n",
        "from sklearn.metrics import confusion_matrix\n",
        "\n",
        "def plot_confusion_matrix(cm, normalize=False, title='Confusion matrix', cmap=plt.cm.Blues):\n",
        "    \"\"\"\n",
        "    This function prints and plots the confusion matrix.\n",
        "    Normalization can be applied by setting `normalize=True`.\n",
        "    \"\"\"\n",
        "    if normalize:\n",
        "        cm = cm.astype('float') / cm.sum(axis=1)[:, np.newaxis]\n",
        "        print(\"Normalized confusion matrix\")\n",
        "    else:\n",
        "        print('Confusion matrix, without normalization')\n",
        "\n",
        "    #print(cm)\n",
        "\n",
        "    plt.imshow(cm, interpolation='nearest', cmap=cmap)\n",
        "    plt.title(title)\n",
        "    plt.colorbar()\n",
        "\n",
        "    fmt = '.2f' if normalize else 'd'\n",
        "    thresh = cm.max() / 2.\n",
        "    for i, j in itertools.product(range(cm.shape[0]), range(cm.shape[1])):\n",
        "        plt.text(j, i, format(cm[i, j], fmt),\n",
        "                 horizontalalignment=\"center\",\n",
        "                 color=\"white\" if cm[i, j] > thresh else \"black\")\n",
        "\n",
        "    plt.tight_layout()\n",
        "    plt.ylabel('True label')\n",
        "    plt.xlabel('Predicted label') "
      ],
      "execution_count": 78,
      "outputs": []
    },
    {
      "cell_type": "code",
      "metadata": {
        "id": "Ic6h4jVycJJv"
      },
      "source": [
        "def plot_confusion_matrix2(y_true, y_pred, classes,\n",
        "                          normalize=False,\n",
        "                          title=None,\n",
        "                          cmap=plt.cm.Blues):\n",
        "    \"\"\"\n",
        "    This function prints and plots the confusion matrix.\n",
        "    Normalization can be applied by setting `normalize=True`.\n",
        "    \"\"\"\n",
        "    if not title:\n",
        "        if normalize:\n",
        "            title = 'Normalized confusion matrix'\n",
        "        else:\n",
        "            title = 'Confusion matrix, without normalization'\n",
        "\n",
        "    # Compute confusion matrix\n",
        "    cm = confusion_matrix(y_true, y_pred)\n",
        "    # Only use the labels that appear in the data\n",
        "    #classes = classes[unique_labels(y_true, y_pred)]\n",
        "    if normalize:\n",
        "        cm = cm.astype('float') / cm.sum(axis=1)[:, np.newaxis]\n",
        "        print(\"Normalized confusion matrix\")\n",
        "    else:\n",
        "        print('Confusion matrix, without normalization')\n",
        "\n",
        "    # print(cm)\n",
        "\n",
        "    fig, ax = plt.subplots()\n",
        "    im = ax.imshow(cm, interpolation='nearest', cmap=cmap)\n",
        "    ax.figure.colorbar(im, ax=ax)\n",
        "    # We want to show all ticks...\n",
        "    ax.set(xticks=np.arange(cm.shape[1]),\n",
        "           yticks=np.arange(cm.shape[0]),\n",
        "           # ... and label them with the respective list entries\n",
        "           xticklabels=classes, yticklabels=classes,\n",
        "           title=title,\n",
        "           ylabel='True label',\n",
        "           xlabel='Predicted label')\n",
        "\n",
        "    # Rotate the tick labels and set their alignment.\n",
        "    plt.setp(ax.get_xticklabels(), rotation=45, ha=\"right\",\n",
        "             rotation_mode=\"anchor\")\n",
        "\n",
        "    # Loop over data dimensions and create text annotations.\n",
        "    fmt = '.2f' if normalize else 'd'\n",
        "    thresh = cm.max() / 2.\n",
        "    for i in range(cm.shape[0]):\n",
        "        for j in range(cm.shape[1]):\n",
        "            ax.text(j, i, format(cm[i, j], fmt),\n",
        "                    ha=\"center\", va=\"center\",\n",
        "                    color=\"white\" if cm[i, j] > thresh else \"black\")\n",
        "    fig.tight_layout()\n",
        "    return ax"
      ],
      "execution_count": 79,
      "outputs": []
    },
    {
      "cell_type": "code",
      "metadata": {
        "id": "kMXszN2s7nCI"
      },
      "source": [
        "# 참고 : https://github.com/eweill/keras-deepcv/blob/master/models/classification/alexnet.py\n",
        "\n",
        "def Alexnet(img_shape=(224, 224, 3), n_classes=10, l2_reg=0., weights=None):\n",
        "\n",
        "\t# Initialize model\n",
        "\talexnet = Sequential()\n",
        "\n",
        "\t# Layer 1\n",
        "\talexnet.add(Conv2D(96, (11, 11), input_shape=img_shape,\n",
        "\t\tpadding='same', kernel_regularizer=l2(l2_reg)))\n",
        "\talexnet.add(BatchNormalization())\n",
        "\talexnet.add(Activation('relu'))\n",
        "\talexnet.add(MaxPooling2D(pool_size=(2, 2)))\n",
        "\n",
        "\t# Layer 2\n",
        "\talexnet.add(Conv2D(256, (5, 5), padding='same'))\n",
        "\talexnet.add(BatchNormalization())\n",
        "\talexnet.add(Activation('relu'))\n",
        "\talexnet.add(MaxPooling2D(pool_size=(2, 2)))\n",
        "\n",
        "\t# Layer 3\n",
        "\talexnet.add(ZeroPadding2D((1, 1)))\n",
        "\talexnet.add(Conv2D(512, (3, 3), padding='same'))\n",
        "\talexnet.add(BatchNormalization())\n",
        "\talexnet.add(Activation('relu'))\n",
        "\talexnet.add(MaxPooling2D(pool_size=(2, 2)))\n",
        "\n",
        "\t# Layer 4\n",
        "\talexnet.add(ZeroPadding2D((1, 1)))\n",
        "\talexnet.add(Conv2D(1024, (3, 3), padding='same'))\n",
        "\talexnet.add(BatchNormalization())\n",
        "\talexnet.add(Activation('relu'))\n",
        "\n",
        "\t# Layer 5\n",
        "\talexnet.add(ZeroPadding2D((1, 1)))\n",
        "\talexnet.add(Conv2D(1024, (3, 3), padding='same'))\n",
        "\talexnet.add(BatchNormalization())\n",
        "\talexnet.add(Activation('relu'))\n",
        "\talexnet.add(MaxPooling2D(pool_size=(2, 2)))\n",
        "\n",
        "\t# Layer 6\n",
        "\talexnet.add(Flatten())\n",
        "\talexnet.add(Dense(3072))\n",
        "\talexnet.add(BatchNormalization())\n",
        "\talexnet.add(Activation('relu'))\n",
        "\talexnet.add(Dropout(0.5))\n",
        "\n",
        "\t# Layer 7\n",
        "\talexnet.add(Dense(4096))\n",
        "\talexnet.add(BatchNormalization())\n",
        "\talexnet.add(Activation('relu'))\n",
        "\talexnet.add(Dropout(0.5))\n",
        "\n",
        "\t# Layer 8\n",
        "\talexnet.add(Dense(n_classes))\n",
        "\talexnet.add(BatchNormalization())\n",
        "\talexnet.add(Activation('softmax'))\n",
        "\n",
        "\tif weights is not None:\n",
        "\t\talexnet.load_weights(weights)\n",
        "\n",
        "\treturn alexnet"
      ],
      "execution_count": 41,
      "outputs": []
    },
    {
      "cell_type": "code",
      "metadata": {
        "id": "sH2dUUNw9gVP"
      },
      "source": [
        "top5_acc = partial(tCA, k=5)\n",
        "top5_acc.__name__ = 'top5_acc'"
      ],
      "execution_count": null,
      "outputs": []
    },
    {
      "cell_type": "code",
      "metadata": {
        "colab": {
          "base_uri": "https://localhost:8080/"
        },
        "id": "fYxFf8lrNfIl",
        "outputId": "462a02d1-6058-436f-ed49-17b7789e7cd4"
      },
      "source": [
        "print(x_train.shape, y_.shape)"
      ],
      "execution_count": null,
      "outputs": [
        {
          "output_type": "stream",
          "text": [
            "(9005, 32, 32, 3) (9005, 9)\n"
          ],
          "name": "stdout"
        }
      ]
    },
    {
      "cell_type": "code",
      "metadata": {
        "colab": {
          "base_uri": "https://localhost:8080/"
        },
        "id": "86dL_Nr1hiPa",
        "outputId": "41dbb599-d864-4c17-e64d-66bf5ee1906f"
      },
      "source": [
        "print(x_test.shape, y_2.shape)"
      ],
      "execution_count": null,
      "outputs": [
        {
          "output_type": "stream",
          "text": [
            "(3250, 32, 32, 3) (3250, 9)\n"
          ],
          "name": "stdout"
        }
      ]
    },
    {
      "cell_type": "code",
      "metadata": {
        "id": "JAQyKZIw7nE0",
        "colab": {
          "base_uri": "https://localhost:8080/"
        },
        "outputId": "a37e4d6a-86de-476d-85a2-7edc77ac37ca"
      },
      "source": [
        "model1 = Alexnet(img_shape=(32, 32, 3), n_classes=7)\n",
        "model1.summary()\n",
        "plot_model(model1, show_shapes=True)\n",
        "\n",
        "filepath =  os.path.join(dir,'model_output',number,model1.name,'{epoch:03d}.h5')\n",
        "callbacks_list = [ModelCheckpoint(filepath, monitor='val_loss', verbose=1, save_weights_only=False, save_best_only=True, mode='min'),\n",
        "                  ModelCheckpoint(filepath, monitor='val_accuracy', verbose=1, save_weights_only=False, save_best_only=True, mode='max'),\n",
        "                  EarlyStopping(monitor='val_auc', patience=3),\n",
        "                  LearningRateScheduler(lr_schedule,verbose=1)]\n",
        "model1.compile(optimizer = 'rmsprop', loss = 'categorical_crossentropy', metrics=[['AUC', 'Precision','Recall']])\n",
        "auto = model1.fit(x_train, y_, validation_data=(x_test, y_2), epochs=50, batch_size=64, callbacks=callbacks_list, shuffle=True)"
      ],
      "execution_count": 147,
      "outputs": [
        {
          "output_type": "stream",
          "text": [
            "Model: \"sequential_8\"\n",
            "_________________________________________________________________\n",
            "Layer (type)                 Output Shape              Param #   \n",
            "=================================================================\n",
            "conv2d_103 (Conv2D)          (None, 32, 32, 96)        34944     \n",
            "_________________________________________________________________\n",
            "batch_normalization_26 (Batc (None, 32, 32, 96)        384       \n",
            "_________________________________________________________________\n",
            "activation_355 (Activation)  (None, 32, 32, 96)        0         \n",
            "_________________________________________________________________\n",
            "max_pooling2d_44 (MaxPooling (None, 16, 16, 96)        0         \n",
            "_________________________________________________________________\n",
            "conv2d_104 (Conv2D)          (None, 16, 16, 256)       614656    \n",
            "_________________________________________________________________\n",
            "batch_normalization_27 (Batc (None, 16, 16, 256)       1024      \n",
            "_________________________________________________________________\n",
            "activation_356 (Activation)  (None, 16, 16, 256)       0         \n",
            "_________________________________________________________________\n",
            "max_pooling2d_45 (MaxPooling (None, 8, 8, 256)         0         \n",
            "_________________________________________________________________\n",
            "zero_padding2d_80 (ZeroPaddi (None, 10, 10, 256)       0         \n",
            "_________________________________________________________________\n",
            "conv2d_105 (Conv2D)          (None, 10, 10, 512)       1180160   \n",
            "_________________________________________________________________\n",
            "batch_normalization_28 (Batc (None, 10, 10, 512)       2048      \n",
            "_________________________________________________________________\n",
            "activation_357 (Activation)  (None, 10, 10, 512)       0         \n",
            "_________________________________________________________________\n",
            "max_pooling2d_46 (MaxPooling (None, 5, 5, 512)         0         \n",
            "_________________________________________________________________\n",
            "zero_padding2d_81 (ZeroPaddi (None, 7, 7, 512)         0         \n",
            "_________________________________________________________________\n",
            "conv2d_106 (Conv2D)          (None, 7, 7, 1024)        4719616   \n",
            "_________________________________________________________________\n",
            "batch_normalization_29 (Batc (None, 7, 7, 1024)        4096      \n",
            "_________________________________________________________________\n",
            "activation_358 (Activation)  (None, 7, 7, 1024)        0         \n",
            "_________________________________________________________________\n",
            "zero_padding2d_82 (ZeroPaddi (None, 9, 9, 1024)        0         \n",
            "_________________________________________________________________\n",
            "conv2d_107 (Conv2D)          (None, 9, 9, 1024)        9438208   \n",
            "_________________________________________________________________\n",
            "batch_normalization_30 (Batc (None, 9, 9, 1024)        4096      \n",
            "_________________________________________________________________\n",
            "activation_359 (Activation)  (None, 9, 9, 1024)        0         \n",
            "_________________________________________________________________\n",
            "max_pooling2d_47 (MaxPooling (None, 4, 4, 1024)        0         \n",
            "_________________________________________________________________\n",
            "flatten_16 (Flatten)         (None, 16384)             0         \n",
            "_________________________________________________________________\n",
            "dense_33 (Dense)             (None, 3072)              50334720  \n",
            "_________________________________________________________________\n",
            "batch_normalization_31 (Batc (None, 3072)              12288     \n",
            "_________________________________________________________________\n",
            "activation_360 (Activation)  (None, 3072)              0         \n",
            "_________________________________________________________________\n",
            "dropout_19 (Dropout)         (None, 3072)              0         \n",
            "_________________________________________________________________\n",
            "dense_34 (Dense)             (None, 4096)              12587008  \n",
            "_________________________________________________________________\n",
            "batch_normalization_32 (Batc (None, 4096)              16384     \n",
            "_________________________________________________________________\n",
            "activation_361 (Activation)  (None, 4096)              0         \n",
            "_________________________________________________________________\n",
            "dropout_20 (Dropout)         (None, 4096)              0         \n",
            "_________________________________________________________________\n",
            "dense_35 (Dense)             (None, 7)                 28679     \n",
            "_________________________________________________________________\n",
            "batch_normalization_33 (Batc (None, 7)                 28        \n",
            "_________________________________________________________________\n",
            "activation_362 (Activation)  (None, 7)                 0         \n",
            "=================================================================\n",
            "Total params: 78,978,339\n",
            "Trainable params: 78,958,165\n",
            "Non-trainable params: 20,174\n",
            "_________________________________________________________________\n",
            "Epoch 1/50\n",
            "Learning rate:  0.0003\n",
            "\n",
            "Epoch 00001: LearningRateScheduler reducing learning rate to 0.0003.\n",
            "267/267 [==============================] - 39s 128ms/step - loss: 0.4379 - auc: 0.9973 - precision: 0.9925 - recall: 0.8821 - val_loss: 2.0397 - val_auc: 0.7781 - val_precision: 0.0000e+00 - val_recall: 0.0000e+00\n",
            "\n",
            "Epoch 00001: val_loss improved from inf to 2.03974, saving model to /content/drive/Shareddrives/Labs/2020_1_이소연/code/wm811k/model_output/1/sequential_8/001.h5\n",
            "WARNING:tensorflow:Can save best model only with val_accuracy available, skipping.\n",
            "Epoch 2/50\n",
            "Learning rate:  0.0003\n",
            "\n",
            "Epoch 00002: LearningRateScheduler reducing learning rate to 0.0003.\n",
            "267/267 [==============================] - 33s 122ms/step - loss: 0.2972 - auc: 0.9999 - precision: 0.9984 - recall: 0.9809 - val_loss: 0.8604 - val_auc: 0.9830 - val_precision: 1.0000 - val_recall: 0.0025\n",
            "\n",
            "Epoch 00002: val_loss improved from 2.03974 to 0.86042, saving model to /content/drive/Shareddrives/Labs/2020_1_이소연/code/wm811k/model_output/1/sequential_8/002.h5\n",
            "WARNING:tensorflow:Can save best model only with val_accuracy available, skipping.\n",
            "Epoch 3/50\n",
            "Learning rate:  0.0003\n",
            "\n",
            "Epoch 00003: LearningRateScheduler reducing learning rate to 0.0003.\n",
            "267/267 [==============================] - 33s 122ms/step - loss: 0.2379 - auc: 0.9999 - precision: 0.9988 - recall: 0.9931 - val_loss: 0.8526 - val_auc: 0.9870 - val_precision: 1.0000 - val_recall: 0.0037\n",
            "\n",
            "Epoch 00003: val_loss improved from 0.86042 to 0.85257, saving model to /content/drive/Shareddrives/Labs/2020_1_이소연/code/wm811k/model_output/1/sequential_8/003.h5\n",
            "WARNING:tensorflow:Can save best model only with val_accuracy available, skipping.\n",
            "Epoch 4/50\n",
            "Learning rate:  0.0003\n",
            "\n",
            "Epoch 00004: LearningRateScheduler reducing learning rate to 0.0003.\n",
            "267/267 [==============================] - 33s 122ms/step - loss: 0.1950 - auc: 1.0000 - precision: 0.9992 - recall: 0.9972 - val_loss: 0.5266 - val_auc: 0.9875 - val_precision: 0.9607 - val_recall: 0.9562\n",
            "\n",
            "Epoch 00004: val_loss improved from 0.85257 to 0.52660, saving model to /content/drive/Shareddrives/Labs/2020_1_이소연/code/wm811k/model_output/1/sequential_8/004.h5\n",
            "WARNING:tensorflow:Can save best model only with val_accuracy available, skipping.\n"
          ],
          "name": "stdout"
        }
      ]
    },
    {
      "cell_type": "code",
      "metadata": {
        "id": "K_dh8fIKN0jf"
      },
      "source": [
        "y_predict = model1.predict(x_test)"
      ],
      "execution_count": 148,
      "outputs": []
    },
    {
      "cell_type": "code",
      "metadata": {
        "id": "qtOJeC2pN0jg"
      },
      "source": [
        "y_pred_ = np.ones(len(y_predict))\n",
        "y_test_ = np.ones(len(y_test))\n",
        "for i in range(len(y_pred_)):\n",
        "    y_pred_[i] = np.argmax(y_predict[i])\n",
        "    y_test_[i] = np.argmax(y_2[i])"
      ],
      "execution_count": 149,
      "outputs": []
    },
    {
      "cell_type": "code",
      "metadata": {
        "colab": {
          "base_uri": "https://localhost:8080/"
        },
        "id": "aIOj2xEON0jg",
        "outputId": "6aee3160-c8c5-484f-979a-abb041f7fb77"
      },
      "source": [
        "print(classification_report(y_test_, y_pred_, target_names=labels))"
      ],
      "execution_count": 150,
      "outputs": [
        {
          "output_type": "stream",
          "text": [
            "              precision    recall  f1-score   support\n",
            "\n",
            "      Center       0.00      0.00      0.00         7\n",
            "    Edge-Loc       1.00      0.04      0.08        50\n",
            "   Edge-Ring       0.00      0.00      0.00        23\n",
            "         Loc       1.00      0.10      0.18        41\n",
            "   Near-full       1.00      1.00      1.00         7\n",
            "     Scratch       0.00      0.00      0.00        23\n",
            "        none       0.96      1.00      0.98      3094\n",
            "\n",
            "    accuracy                           0.96      3245\n",
            "   macro avg       0.57      0.31      0.32      3245\n",
            "weighted avg       0.94      0.96      0.94      3245\n",
            "\n"
          ],
          "name": "stdout"
        }
      ]
    },
    {
      "cell_type": "code",
      "metadata": {
        "id": "ybLygBSp7nNE"
      },
      "source": [
        "def simple_vgg16():\n",
        "    input_shape = (32, 32, 3)\n",
        "    input_tensor = Input(input_shape)\n",
        "    \n",
        "    #initializer: glorot_normal, glorot_uniform, he_normal, he_uniform\n",
        "\n",
        "    conv_1 = Conv2D(32, (3,3), kernel_initializer='glorot_uniform', kernel_regularizer=l2(0.001), activation='relu',padding='same')(input_tensor)\n",
        "    conv_2 = Conv2D(64, (3,3), kernel_initializer='glorot_uniform', kernel_regularizer=l2(0.001), activation='relu',padding='same')(conv_1)\n",
        "    pool_1 = MaxPool2D((2,2), name = 'max_pool1')(conv_2)\n",
        "\n",
        "    conv_3 = Conv2D(128, (3,3), kernel_initializer='glorot_uniform',activation='relu', kernel_regularizer=l2(0.001), padding='same')(pool_1)\n",
        "    conv_4 = Conv2D(256, (3,3), kernel_initializer='glorot_uniform',activation='relu', kernel_regularizer=l2(0.001), padding='same')(conv_3)\n",
        "    pool_2 = MaxPool2D((2,2), name = 'max_pool2')(conv_4)\n",
        "\n",
        "    flat = Flatten()(pool_2)\n",
        "\n",
        "    dense_1 = Dense(512, activation='relu')(flat)\n",
        "    drop_1 = Dropout(0.4)(dense_1)\n",
        "    dense_2 = Dense(256, activation='relu')(drop_1)\n",
        "    output_tensor = Dense(7, activation='softmax')(dense_2)\n",
        "\n",
        "    model = Model(input_tensor, output_tensor)\n",
        " \n",
        "    return model"
      ],
      "execution_count": 46,
      "outputs": []
    },
    {
      "cell_type": "code",
      "metadata": {
        "colab": {
          "base_uri": "https://localhost:8080/"
        },
        "id": "u16sHIokYuZ2",
        "outputId": "bffa9b57-d57d-4cc0-efa6-b5f387b10c48"
      },
      "source": [
        "model2 = simple_vgg16()\n",
        "model2.compile(optimizer = 'rmsprop', loss = 'categorical_crossentropy', metrics=[['AUC', 'Precision','Recall']])\n",
        "filepath =  os.path.join(dir,'model_output',number,model2.name,'{epoch:03d}.h5')\n",
        "callbacks_list = [ModelCheckpoint(filepath, monitor='val_loss', verbose=1, save_weights_only=False, save_best_only=True, mode='min'),\n",
        "                  ModelCheckpoint(filepath, monitor='val_accuracy', verbose=1, save_weights_only=False, save_best_only=True, mode='max'),\n",
        "                  EarlyStopping(monitor='val_auc', patience=3),\n",
        "                  LearningRateScheduler(lr_schedule,verbose=1)]\n",
        "auto = model2.fit(x_train, y_, validation_data=(x_test, y_2), epochs=50, batch_size=64, callbacks=callbacks_list, shuffle=True)"
      ],
      "execution_count": 137,
      "outputs": [
        {
          "output_type": "stream",
          "text": [
            "Epoch 1/50\n",
            "Learning rate:  0.0003\n",
            "\n",
            "Epoch 00001: LearningRateScheduler reducing learning rate to 0.0003.\n",
            "267/267 [==============================] - 7s 20ms/step - loss: 0.7427 - auc: 0.9779 - precision: 0.9157 - recall: 0.7494 - val_loss: 0.3874 - val_auc: 0.9927 - val_precision: 0.9611 - val_recall: 0.9587\n",
            "\n",
            "Epoch 00001: val_loss improved from inf to 0.38738, saving model to /content/drive/Shareddrives/Labs/2020_1_이소연/code/wm811k/model_output/1/model_3/001.h5\n",
            "WARNING:tensorflow:Can save best model only with val_accuracy available, skipping.\n",
            "Epoch 2/50\n",
            "Learning rate:  0.0003\n",
            "\n",
            "Epoch 00002: LearningRateScheduler reducing learning rate to 0.0003.\n",
            "267/267 [==============================] - 5s 19ms/step - loss: 0.2465 - auc: 0.9987 - precision: 0.9816 - recall: 0.9786 - val_loss: 0.3110 - val_auc: 0.9921 - val_precision: 0.9769 - val_recall: 0.9757\n",
            "\n",
            "Epoch 00002: val_loss improved from 0.38738 to 0.31104, saving model to /content/drive/Shareddrives/Labs/2020_1_이소연/code/wm811k/model_output/1/model_3/002.h5\n",
            "WARNING:tensorflow:Can save best model only with val_accuracy available, skipping.\n",
            "Epoch 3/50\n",
            "Learning rate:  0.0003\n",
            "\n",
            "Epoch 00003: LearningRateScheduler reducing learning rate to 0.0003.\n",
            "267/267 [==============================] - 5s 19ms/step - loss: 0.1607 - auc: 0.9993 - precision: 0.9905 - recall: 0.9895 - val_loss: 0.2648 - val_auc: 0.9926 - val_precision: 0.9747 - val_recall: 0.9735\n",
            "\n",
            "Epoch 00003: val_loss improved from 0.31104 to 0.26481, saving model to /content/drive/Shareddrives/Labs/2020_1_이소연/code/wm811k/model_output/1/model_3/003.h5\n",
            "WARNING:tensorflow:Can save best model only with val_accuracy available, skipping.\n",
            "Epoch 4/50\n",
            "Learning rate:  0.0003\n",
            "\n",
            "Epoch 00004: LearningRateScheduler reducing learning rate to 0.0003.\n",
            "267/267 [==============================] - 5s 19ms/step - loss: 0.1165 - auc: 0.9995 - precision: 0.9934 - recall: 0.9928 - val_loss: 0.2360 - val_auc: 0.9940 - val_precision: 0.9713 - val_recall: 0.9710\n",
            "\n",
            "Epoch 00004: val_loss improved from 0.26481 to 0.23601, saving model to /content/drive/Shareddrives/Labs/2020_1_이소연/code/wm811k/model_output/1/model_3/004.h5\n",
            "WARNING:tensorflow:Can save best model only with val_accuracy available, skipping.\n",
            "Epoch 5/50\n",
            "Learning rate:  0.0003\n",
            "\n",
            "Epoch 00005: LearningRateScheduler reducing learning rate to 0.0003.\n",
            "267/267 [==============================] - 5s 19ms/step - loss: 0.0888 - auc: 0.9997 - precision: 0.9945 - recall: 0.9940 - val_loss: 0.2249 - val_auc: 0.9930 - val_precision: 0.9747 - val_recall: 0.9744\n",
            "\n",
            "Epoch 00005: val_loss improved from 0.23601 to 0.22491, saving model to /content/drive/Shareddrives/Labs/2020_1_이소연/code/wm811k/model_output/1/model_3/005.h5\n",
            "WARNING:tensorflow:Can save best model only with val_accuracy available, skipping.\n"
          ],
          "name": "stdout"
        }
      ]
    },
    {
      "cell_type": "code",
      "metadata": {
        "id": "X7603LVwYudW"
      },
      "source": [
        "y_predict = model2.predict(x_test)"
      ],
      "execution_count": 138,
      "outputs": []
    },
    {
      "cell_type": "code",
      "metadata": {
        "colab": {
          "base_uri": "https://localhost:8080/"
        },
        "id": "FX-PBzR0iHjY",
        "outputId": "c9165e34-62dd-42fd-e358-c024eca28753"
      },
      "source": [
        "y_pred_ = np.ones(len(y_predict))\n",
        "y_test_ = np.ones(len(y_test))\n",
        "for i in range(len(y_pred_)):\n",
        "    y_pred_[i] = np.argmax(y_predict[i])\n",
        "    y_test_[i] = np.argmax(y_2[i])\n",
        "print(classification_report(y_test_, y_pred_, target_names=labels))"
      ],
      "execution_count": 139,
      "outputs": [
        {
          "output_type": "stream",
          "text": [
            "              precision    recall  f1-score   support\n",
            "\n",
            "      Center       0.50      0.43      0.46         7\n",
            "    Edge-Loc       0.72      0.72      0.72        50\n",
            "   Edge-Ring       0.77      0.87      0.82        23\n",
            "         Loc       0.52      0.63      0.57        41\n",
            "   Near-full       1.00      1.00      1.00         7\n",
            "     Scratch       0.50      0.26      0.34        23\n",
            "        none       0.99      0.99      0.99      3094\n",
            "\n",
            "    accuracy                           0.97      3245\n",
            "   macro avg       0.71      0.70      0.70      3245\n",
            "weighted avg       0.97      0.97      0.97      3245\n",
            "\n"
          ],
          "name": "stdout"
        }
      ]
    },
    {
      "cell_type": "code",
      "metadata": {
        "colab": {
          "base_uri": "https://localhost:8080/",
          "height": 612
        },
        "id": "YfkRnCmKhBU8",
        "outputId": "d285f46e-dedf-4964-dc29-c0be41439db3"
      },
      "source": [
        "np.set_printoptions(precision=2)\n",
        "\n",
        "# Plot non-normalized confusion matrix\n",
        "plot_confusion_matrix2(y_test_, y_pred_, classes=labels, title='Confusion matrix, without normalization')\n",
        "\n",
        "# Plot normalized confusion matrix\n",
        "plot_confusion_matrix2(y_test_, y_pred_, classes=labels, normalize=True, title='Normalized confusion matrix')\n",
        "\n",
        "plt.show()"
      ],
      "execution_count": 142,
      "outputs": [
        {
          "output_type": "stream",
          "text": [
            "Confusion matrix, without normalization\n",
            "Normalized confusion matrix\n"
          ],
          "name": "stdout"
        },
        {
          "output_type": "display_data",
          "data": {
            "image/png": "[encoded data removed]",
            "text/plain": [
              "<Figure size 432x288 with 2 Axes>"
            ]
          },
          "metadata": {
            "tags": [],
            "needs_background": "light"
          }
        },
        {
          "output_type": "display_data",
          "data": {
            "image/png": "[encoded data removed]",
            "text/plain": [
              "<Figure size 432x288 with 2 Axes>"
            ]
          },
          "metadata": {
            "tags": [],
            "needs_background": "light"
          }
        }
      ]
    },
    {
      "cell_type": "code",
      "metadata": {
        "id": "6LZl9EA4DRRL"
      },
      "source": [
        "def vgg16_model(img_shape=(224, 224, 3), n_classes=1000, l2_reg=0.,\n",
        "\tweights=None):\n",
        "\n",
        "\t# Initialize model\n",
        "\tvgg16 = Sequential()\n",
        "\n",
        "\t# Layer 1 & 2\n",
        "\tvgg16.add(Conv2D(64, (3, 3), padding='same',\n",
        "\t\tinput_shape=img_shape, kernel_regularizer=l2(l2_reg)))\n",
        "\tvgg16.add(Activation('relu'))\n",
        "\tvgg16.add(ZeroPadding2D((1, 1)))\n",
        "\tvgg16.add(Conv2D(64, (3, 3), padding='same'))\n",
        "\tvgg16.add(Activation('relu'))\n",
        "\tvgg16.add(MaxPooling2D(pool_size=(2, 2)))\n",
        "\n",
        "\t# Layer 3 & 4\n",
        "\tvgg16.add(ZeroPadding2D((1, 1)))\n",
        "\tvgg16.add(Conv2D(128, (3, 3), padding='same'))\n",
        "\tvgg16.add(Activation('relu'))\n",
        "\tvgg16.add(ZeroPadding2D((1, 1)))\n",
        "\tvgg16.add(Conv2D(128, (3, 3), padding='same'))\n",
        "\tvgg16.add(Activation('relu'))\n",
        "\tvgg16.add(MaxPooling2D(pool_size=(2, 2)))\n",
        "\n",
        "\t# Layer 5, 6, & 7\n",
        "\tvgg16.add(ZeroPadding2D((1, 1)))\n",
        "\tvgg16.add(Conv2D(256, (3, 3), padding='same'))\n",
        "\tvgg16.add(Activation('relu'))\n",
        "\tvgg16.add(ZeroPadding2D((1, 1)))\n",
        "\tvgg16.add(Conv2D(256, (3, 3), padding='same'))\n",
        "\tvgg16.add(Activation('relu'))\n",
        "\tvgg16.add(ZeroPadding2D((1, 1)))\n",
        "\tvgg16.add(Conv2D(256, (3, 3), padding='same'))\n",
        "\tvgg16.add(Activation('relu'))\n",
        "\tvgg16.add(MaxPooling2D(pool_size=(2, 2)))\n",
        "\n",
        "\t# Layers 8, 9, & 10\n",
        "\tvgg16.add(ZeroPadding2D((1, 1)))\n",
        "\tvgg16.add(Conv2D(512, (3, 3), padding='same'))\n",
        "\tvgg16.add(Activation('relu'))\n",
        "\tvgg16.add(ZeroPadding2D((1, 1)))\n",
        "\tvgg16.add(Conv2D(512, (3, 3), padding='same'))\n",
        "\tvgg16.add(Activation('relu'))\n",
        "\tvgg16.add(ZeroPadding2D((1, 1)))\n",
        "\tvgg16.add(Conv2D(512, (3, 3), padding='same'))\n",
        "\tvgg16.add(Activation('relu'))\n",
        "\tvgg16.add(MaxPooling2D(pool_size=(2, 2)))\n",
        "\n",
        "\t# Layers 11, 12, & 13\n",
        "\tvgg16.add(ZeroPadding2D((1, 1)))\n",
        "\tvgg16.add(Conv2D(512, (3, 3), padding='same'))\n",
        "\tvgg16.add(Activation('relu'))\n",
        "\tvgg16.add(ZeroPadding2D((1, 1)))\n",
        "\tvgg16.add(Conv2D(512, (3, 3), padding='same'))\n",
        "\tvgg16.add(Activation('relu'))\n",
        "\tvgg16.add(ZeroPadding2D((1, 1)))\n",
        "\tvgg16.add(Conv2D(512, (3, 3), padding='same'))\n",
        "\tvgg16.add(Activation('relu'))\n",
        "\tvgg16.add(MaxPooling2D(pool_size=(2, 2)))\n",
        "\n",
        "\t# Layers 14, 15, & 16\n",
        "\tvgg16.add(Flatten())\n",
        "\tvgg16.add(Dense(4096))\n",
        "\tvgg16.add(Activation('relu'))\n",
        "\tvgg16.add(Dropout(0.5))\n",
        "\tvgg16.add(Dense(4096))\n",
        "\tvgg16.add(Activation('relu'))\n",
        "\tvgg16.add(Dropout(0.5))\n",
        "\tvgg16.add(Dense(n_classes))\n",
        "\tvgg16.add(Activation('softmax'))\n",
        "\n",
        "\tif weights is not None:\n",
        "\t\tvgg16.load_weights(weights)\n",
        "\n",
        "\treturn vgg16\n",
        "\n",
        "def vgg19_model(img_shape=(224, 224, 3), n_classes=1000, l2_reg=0.,\n",
        "\tweights=None):\n",
        "\n",
        "\t# Initialize model\n",
        "\tvgg19 = Sequential()\n",
        "\n",
        "\t# Layer 1 & 2\n",
        "\tvgg19.add(Conv2D(64, (3, 3), padding='same',\n",
        "\t\tinput_shape=img_shape, kernel_regularizer=l2(l2_reg)))\n",
        "\tvgg19.add(Activation('relu'))\n",
        "\tvgg19.add(ZeroPadding2D((1, 1)))\n",
        "\tvgg19.add(Conv2D(64, (3, 3), padding='same'))\n",
        "\tvgg19.add(Activation('relu'))\n",
        "\tvgg19.add(MaxPooling2D(pool_size=(2, 2)))\n",
        "\n",
        "\t# Layer 3 & 4\n",
        "\tvgg19.add(ZeroPadding2D((1, 1)))\n",
        "\tvgg19.add(Conv2D(128, (3, 3), padding='same'))\n",
        "\tvgg19.add(Activation('relu'))\n",
        "\tvgg19.add(ZeroPadding2D((1, 1)))\n",
        "\tvgg19.add(Conv2D(128, (3, 3), padding='same'))\n",
        "\tvgg19.add(Activation('relu'))\n",
        "\tvgg19.add(MaxPooling2D(pool_size=(2, 2)))\n",
        "\n",
        "\t# Layer 5, 6, 7, & 8\n",
        "\tvgg19.add(ZeroPadding2D((1, 1)))\n",
        "\tvgg19.add(Conv2D(256, (3, 3), padding='same'))\n",
        "\tvgg19.add(Activation('relu'))\n",
        "\tvgg19.add(ZeroPadding2D((1, 1)))\n",
        "\tvgg19.add(Conv2D(256, (3, 3), padding='same'))\n",
        "\tvgg19.add(Activation('relu'))\n",
        "\tvgg19.add(ZeroPadding2D((1, 1)))\n",
        "\tvgg19.add(Conv2D(256, (3, 3), padding='same'))\n",
        "\tvgg19.add(Activation('relu'))\n",
        "\tvgg19.add(ZeroPadding2D((1, 1)))\n",
        "\tvgg19.add(Conv2D(256, (3, 3), padding='same'))\n",
        "\tvgg19.add(Activation('relu'))\n",
        "\tvgg19.add(MaxPooling2D(pool_size=(2, 2)))\n",
        "\n",
        "\t# Layers 9, 10, 11, & 12\n",
        "\tvgg19.add(ZeroPadding2D((1, 1)))\n",
        "\tvgg19.add(Conv2D(512, (3, 3), padding='same'))\n",
        "\tvgg19.add(Activation('relu'))\n",
        "\tvgg19.add(ZeroPadding2D((1, 1)))\n",
        "\tvgg19.add(Conv2D(512, (3, 3), padding='same'))\n",
        "\tvgg19.add(Activation('relu'))\n",
        "\tvgg19.add(ZeroPadding2D((1, 1)))\n",
        "\tvgg19.add(Conv2D(512, (3, 3), padding='same'))\n",
        "\tvgg19.add(Activation('relu'))\n",
        "\tvgg19.add(ZeroPadding2D((1, 1)))\n",
        "\tvgg19.add(Conv2D(512, (3, 3), padding='same'))\n",
        "\tvgg19.add(Activation('relu'))\n",
        "\tvgg19.add(MaxPooling2D(pool_size=(2, 2)))\n",
        "\n",
        "\t# Layers 13, 14, 15, & 16\n",
        "\tvgg19.add(ZeroPadding2D((1, 1)))\n",
        "\tvgg19.add(Conv2D(512, (3, 3), padding='same'))\n",
        "\tvgg19.add(Activation('relu'))\n",
        "\tvgg19.add(ZeroPadding2D((1, 1)))\n",
        "\tvgg19.add(Conv2D(512, (3, 3), padding='same'))\n",
        "\tvgg19.add(Activation('relu'))\n",
        "\tvgg19.add(ZeroPadding2D((1, 1)))\n",
        "\tvgg19.add(Conv2D(512, (3, 3), padding='same'))\n",
        "\tvgg19.add(Activation('relu'))\n",
        "\tvgg19.add(ZeroPadding2D((1, 1)))\n",
        "\tvgg19.add(Conv2D(512, (3, 3), padding='same'))\n",
        "\tvgg19.add(Activation('relu'))\n",
        "\tvgg19.add(MaxPooling2D(pool_size=(2, 2)))\n",
        "\n",
        "\t# Layers 17, 18, & 19\n",
        "\tvgg19.add(Flatten())\n",
        "\tvgg19.add(Dense(4096))\n",
        "\tvgg19.add(Activation('relu'))\n",
        "\tvgg19.add(Dropout(0.5))\n",
        "\tvgg19.add(Dense(4096))\n",
        "\tvgg19.add(Activation('relu'))\n",
        "\tvgg19.add(Dropout(0.5))\n",
        "\tvgg19.add(Dense(n_classes))\n",
        "\tvgg19.add(Activation('softmax'))\n",
        "\n",
        "\tif weights is not None:\n",
        "\t\tvgg19.load_weights(weights)\n",
        "\n",
        "\treturn vgg19"
      ],
      "execution_count": 74,
      "outputs": []
    },
    {
      "cell_type": "code",
      "metadata": {
        "id": "ZGqF6c-3qHnj",
        "colab": {
          "base_uri": "https://localhost:8080/"
        },
        "outputId": "756df6fb-b7ef-4ff7-d9d4-9b1daf53d3ba"
      },
      "source": [
        "model3 = vgg16_model(img_shape=(32, 32, 3), n_classes=7)\n",
        "model3.summary()\n",
        "plot_model(model3, show_shapes=True)\n",
        "\n",
        "filepath =  os.path.join(dir,'model_output',number,model3.name,'{epoch:03d}.h5')\n",
        "callbacks_list = [ModelCheckpoint(filepath, monitor='val_loss', verbose=1, save_weights_only=False, save_best_only=True, mode='min'),\n",
        "                  ModelCheckpoint(filepath, monitor='val_accuracy', verbose=1, save_weights_only=False, save_best_only=True, mode='max'),\n",
        "                  EarlyStopping(monitor='val_auc', patience=3),\n",
        "                  LearningRateScheduler(lr_schedule,verbose=1)] \n",
        "model3.compile(optimizer = 'rmsprop', loss = 'categorical_crossentropy', metrics=['AUC', 'Precision','Recall'])\n",
        "auto = model3.fit(x_train, y_, validation_data=(x_test, y_2), epochs=50, batch_size=64, callbacks=callbacks_list, shuffle=True)"
      ],
      "execution_count": 143,
      "outputs": [
        {
          "output_type": "stream",
          "text": [
            "Model: \"sequential_7\"\n",
            "_________________________________________________________________\n",
            "Layer (type)                 Output Shape              Param #   \n",
            "=================================================================\n",
            "conv2d_90 (Conv2D)           (None, 32, 32, 64)        1792      \n",
            "_________________________________________________________________\n",
            "activation_339 (Activation)  (None, 32, 32, 64)        0         \n",
            "_________________________________________________________________\n",
            "zero_padding2d_68 (ZeroPaddi (None, 34, 34, 64)        0         \n",
            "_________________________________________________________________\n",
            "conv2d_91 (Conv2D)           (None, 34, 34, 64)        36928     \n",
            "_________________________________________________________________\n",
            "activation_340 (Activation)  (None, 34, 34, 64)        0         \n",
            "_________________________________________________________________\n",
            "max_pooling2d_39 (MaxPooling (None, 17, 17, 64)        0         \n",
            "_________________________________________________________________\n",
            "zero_padding2d_69 (ZeroPaddi (None, 19, 19, 64)        0         \n",
            "_________________________________________________________________\n",
            "conv2d_92 (Conv2D)           (None, 19, 19, 128)       73856     \n",
            "_________________________________________________________________\n",
            "activation_341 (Activation)  (None, 19, 19, 128)       0         \n",
            "_________________________________________________________________\n",
            "zero_padding2d_70 (ZeroPaddi (None, 21, 21, 128)       0         \n",
            "_________________________________________________________________\n",
            "conv2d_93 (Conv2D)           (None, 21, 21, 128)       147584    \n",
            "_________________________________________________________________\n",
            "activation_342 (Activation)  (None, 21, 21, 128)       0         \n",
            "_________________________________________________________________\n",
            "max_pooling2d_40 (MaxPooling (None, 10, 10, 128)       0         \n",
            "_________________________________________________________________\n",
            "zero_padding2d_71 (ZeroPaddi (None, 12, 12, 128)       0         \n",
            "_________________________________________________________________\n",
            "conv2d_94 (Conv2D)           (None, 12, 12, 256)       295168    \n",
            "_________________________________________________________________\n",
            "activation_343 (Activation)  (None, 12, 12, 256)       0         \n",
            "_________________________________________________________________\n",
            "zero_padding2d_72 (ZeroPaddi (None, 14, 14, 256)       0         \n",
            "_________________________________________________________________\n",
            "conv2d_95 (Conv2D)           (None, 14, 14, 256)       590080    \n",
            "_________________________________________________________________\n",
            "activation_344 (Activation)  (None, 14, 14, 256)       0         \n",
            "_________________________________________________________________\n",
            "zero_padding2d_73 (ZeroPaddi (None, 16, 16, 256)       0         \n",
            "_________________________________________________________________\n",
            "conv2d_96 (Conv2D)           (None, 16, 16, 256)       590080    \n",
            "_________________________________________________________________\n",
            "activation_345 (Activation)  (None, 16, 16, 256)       0         \n",
            "_________________________________________________________________\n",
            "max_pooling2d_41 (MaxPooling (None, 8, 8, 256)         0         \n",
            "_________________________________________________________________\n",
            "zero_padding2d_74 (ZeroPaddi (None, 10, 10, 256)       0         \n",
            "_________________________________________________________________\n",
            "conv2d_97 (Conv2D)           (None, 10, 10, 512)       1180160   \n",
            "_________________________________________________________________\n",
            "activation_346 (Activation)  (None, 10, 10, 512)       0         \n",
            "_________________________________________________________________\n",
            "zero_padding2d_75 (ZeroPaddi (None, 12, 12, 512)       0         \n",
            "_________________________________________________________________\n",
            "conv2d_98 (Conv2D)           (None, 12, 12, 512)       2359808   \n",
            "_________________________________________________________________\n",
            "activation_347 (Activation)  (None, 12, 12, 512)       0         \n",
            "_________________________________________________________________\n",
            "zero_padding2d_76 (ZeroPaddi (None, 14, 14, 512)       0         \n",
            "_________________________________________________________________\n",
            "conv2d_99 (Conv2D)           (None, 14, 14, 512)       2359808   \n",
            "_________________________________________________________________\n",
            "activation_348 (Activation)  (None, 14, 14, 512)       0         \n",
            "_________________________________________________________________\n",
            "max_pooling2d_42 (MaxPooling (None, 7, 7, 512)         0         \n",
            "_________________________________________________________________\n",
            "zero_padding2d_77 (ZeroPaddi (None, 9, 9, 512)         0         \n",
            "_________________________________________________________________\n",
            "conv2d_100 (Conv2D)          (None, 9, 9, 512)         2359808   \n",
            "_________________________________________________________________\n",
            "activation_349 (Activation)  (None, 9, 9, 512)         0         \n",
            "_________________________________________________________________\n",
            "zero_padding2d_78 (ZeroPaddi (None, 11, 11, 512)       0         \n",
            "_________________________________________________________________\n",
            "conv2d_101 (Conv2D)          (None, 11, 11, 512)       2359808   \n",
            "_________________________________________________________________\n",
            "activation_350 (Activation)  (None, 11, 11, 512)       0         \n",
            "_________________________________________________________________\n",
            "zero_padding2d_79 (ZeroPaddi (None, 13, 13, 512)       0         \n",
            "_________________________________________________________________\n",
            "conv2d_102 (Conv2D)          (None, 13, 13, 512)       2359808   \n",
            "_________________________________________________________________\n",
            "activation_351 (Activation)  (None, 13, 13, 512)       0         \n",
            "_________________________________________________________________\n",
            "max_pooling2d_43 (MaxPooling (None, 6, 6, 512)         0         \n",
            "_________________________________________________________________\n",
            "flatten_15 (Flatten)         (None, 18432)             0         \n",
            "_________________________________________________________________\n",
            "dense_30 (Dense)             (None, 4096)              75501568  \n",
            "_________________________________________________________________\n",
            "activation_352 (Activation)  (None, 4096)              0         \n",
            "_________________________________________________________________\n",
            "dropout_17 (Dropout)         (None, 4096)              0         \n",
            "_________________________________________________________________\n",
            "dense_31 (Dense)             (None, 4096)              16781312  \n",
            "_________________________________________________________________\n",
            "activation_353 (Activation)  (None, 4096)              0         \n",
            "_________________________________________________________________\n",
            "dropout_18 (Dropout)         (None, 4096)              0         \n",
            "_________________________________________________________________\n",
            "dense_32 (Dense)             (None, 7)                 28679     \n",
            "_________________________________________________________________\n",
            "activation_354 (Activation)  (None, 7)                 0         \n",
            "=================================================================\n",
            "Total params: 107,026,247\n",
            "Trainable params: 107,026,247\n",
            "Non-trainable params: 0\n",
            "_________________________________________________________________\n",
            "Epoch 1/50\n",
            "Learning rate:  0.0003\n",
            "\n",
            "Epoch 00001: LearningRateScheduler reducing learning rate to 0.0003.\n",
            "267/267 [==============================] - 48s 167ms/step - loss: 1.5843 - auc: 0.7473 - precision: 0.7259 - recall: 0.1363 - val_loss: 1.4565 - val_auc: 0.8255 - val_precision: 0.2849 - val_recall: 0.0157\n",
            "\n",
            "Epoch 00001: val_loss improved from inf to 1.45650, saving model to /content/drive/Shareddrives/Labs/2020_1_이소연/code/wm811k/model_output/1/sequential_7/001.h5\n",
            "WARNING:tensorflow:Can save best model only with val_accuracy available, skipping.\n",
            "Epoch 2/50\n",
            "Learning rate:  0.0003\n",
            "\n",
            "Epoch 00002: LearningRateScheduler reducing learning rate to 0.0003.\n",
            "267/267 [==============================] - 44s 164ms/step - loss: 0.6985 - auc: 0.9611 - precision: 0.8405 - recall: 0.6844 - val_loss: 0.1720 - val_auc: 0.9905 - val_precision: 0.9706 - val_recall: 0.9649\n",
            "\n",
            "Epoch 00002: val_loss improved from 1.45650 to 0.17200, saving model to /content/drive/Shareddrives/Labs/2020_1_이소연/code/wm811k/model_output/1/sequential_7/002.h5\n",
            "WARNING:tensorflow:Can save best model only with val_accuracy available, skipping.\n",
            "Epoch 3/50\n",
            "Learning rate:  0.0003\n",
            "\n",
            "Epoch 00003: LearningRateScheduler reducing learning rate to 0.0003.\n",
            "267/267 [==============================] - 44s 165ms/step - loss: 0.2179 - auc: 0.9933 - precision: 0.9451 - recall: 0.9291 - val_loss: 0.1286 - val_auc: 0.9940 - val_precision: 0.9762 - val_recall: 0.9723\n",
            "\n",
            "Epoch 00003: val_loss improved from 0.17200 to 0.12855, saving model to /content/drive/Shareddrives/Labs/2020_1_이소연/code/wm811k/model_output/1/sequential_7/003.h5\n",
            "WARNING:tensorflow:Can save best model only with val_accuracy available, skipping.\n",
            "Epoch 4/50\n",
            "Learning rate:  0.0003\n",
            "\n",
            "Epoch 00004: LearningRateScheduler reducing learning rate to 0.0003.\n",
            "267/267 [==============================] - 44s 164ms/step - loss: 0.1171 - auc: 0.9961 - precision: 0.9777 - recall: 0.9717 - val_loss: 0.1500 - val_auc: 0.9933 - val_precision: 0.9725 - val_recall: 0.9683\n",
            "\n",
            "Epoch 00004: val_loss did not improve from 0.12855\n",
            "WARNING:tensorflow:Can save best model only with val_accuracy available, skipping.\n"
          ],
          "name": "stdout"
        }
      ]
    },
    {
      "cell_type": "code",
      "metadata": {
        "id": "auoKkBFeiqVt"
      },
      "source": [
        "loss=auto.history['loss']\n",
        "val_loss=auto.history['val_loss']\n",
        "auc=auto.history['auc']\n",
        "val_auc=auto.history['val_auc']\n",
        "precision=auto.history['precision']\n",
        "val_precision=auto.history['val_precision']\n",
        "recall=auto.history['recall']\n",
        "val_recall=auto.history['val_recall']\n",
        "epochs=range(1,len(loss)+1)\n",
        "\n",
        "data = np.array([epochs,loss,val_loss,auc,val_auc,precision,val_precision,recall, val_recall]).T"
      ],
      "execution_count": 77,
      "outputs": []
    },
    {
      "cell_type": "code",
      "metadata": {
        "id": "LKOBpZVLifVr"
      },
      "source": [
        "y_test_pred = model3.predict_classes(x_test)"
      ],
      "execution_count": 144,
      "outputs": []
    },
    {
      "cell_type": "code",
      "metadata": {
        "id": "8Mr7HM1boDca"
      },
      "source": [
        "le = LabelEncoder()\n",
        "y_test_ = le.fit_transform(y_test)"
      ],
      "execution_count": 145,
      "outputs": []
    },
    {
      "cell_type": "code",
      "metadata": {
        "colab": {
          "base_uri": "https://localhost:8080/"
        },
        "id": "VZCRz1uRoyMm",
        "outputId": "02be96de-58d1-478b-e421-9e4133446758"
      },
      "source": [
        "print(len(y_test_pred),len(y_test_))"
      ],
      "execution_count": 83,
      "outputs": [
        {
          "output_type": "stream",
          "text": [
            "3245 3245\n"
          ],
          "name": "stdout"
        }
      ]
    },
    {
      "cell_type": "code",
      "metadata": {
        "colab": {
          "base_uri": "https://localhost:8080/"
        },
        "id": "d3R9gps9YH9a",
        "outputId": "a8647727-b6c9-4c10-b9df-68b144bb8f2d"
      },
      "source": [
        "# labels = ['Center','Edge-Loc','Edge-Ring','Loc','Near-full','Scratch', 'none']\n",
        "print(classification_report(y_test_, y_test_pred, target_names=labels))"
      ],
      "execution_count": 146,
      "outputs": [
        {
          "output_type": "stream",
          "text": [
            "              precision    recall  f1-score   support\n",
            "\n",
            "      Center       0.57      0.57      0.57         7\n",
            "    Edge-Loc       0.55      0.72      0.63        50\n",
            "   Edge-Ring       0.73      0.48      0.58        23\n",
            "         Loc       0.65      0.41      0.51        41\n",
            "   Near-full       0.88      1.00      0.93         7\n",
            "     Scratch       0.25      0.30      0.27        23\n",
            "        none       0.99      0.99      0.99      3094\n",
            "\n",
            "    accuracy                           0.97      3245\n",
            "   macro avg       0.66      0.64      0.64      3245\n",
            "weighted avg       0.97      0.97      0.97      3245\n",
            "\n"
          ],
          "name": "stdout"
        }
      ]
    },
    {
      "cell_type": "code",
      "metadata": {
        "colab": {
          "base_uri": "https://localhost:8080/",
          "height": 612
        },
        "id": "xESTPnsOUy9s",
        "outputId": "740d45c9-3f4c-4f74-bfa3-0107c8ca312a"
      },
      "source": [
        "np.set_printoptions(precision=2)\n",
        "\n",
        "# Plot non-normalized confusion matrix\n",
        "plot_confusion_matrix2(y_test_, y_test_pred, classes=labels, title='Confusion matrix, without normalization')\n",
        "\n",
        "# Plot normalized confusion matrix\n",
        "plot_confusion_matrix2(y_test_, y_test_pred, classes=labels, normalize=True, title='Normalized confusion matrix')\n",
        "\n",
        "plt.show()"
      ],
      "execution_count": 151,
      "outputs": [
        {
          "output_type": "stream",
          "text": [
            "Confusion matrix, without normalization\n",
            "Normalized confusion matrix\n"
          ],
          "name": "stdout"
        },
        {
          "output_type": "display_data",
          "data": {
            "image/png": "[encoded data removed]",
            "text/plain": [
              "<Figure size 432x288 with 2 Axes>"
            ]
          },
          "metadata": {
            "tags": [],
            "needs_background": "light"
          }
        },
        {
          "output_type": "display_data",
          "data": {
            "image/png": "[encoded data removed]",
            "text/plain": [
              "<Figure size 432x288 with 2 Axes>"
            ]
          },
          "metadata": {
            "tags": [],
            "needs_background": "light"
          }
        }
      ]
    },
    {
      "cell_type": "code",
      "metadata": {
        "id": "jwETRyV6cOkB"
      },
      "source": [
        "# 망한 모델"
      ],
      "execution_count": null,
      "outputs": []
    },
    {
      "cell_type": "code",
      "metadata": {
        "colab": {
          "base_uri": "https://localhost:8080/"
        },
        "id": "qtNh_tFVU34W",
        "outputId": "b73c040d-75c4-4475-857e-c250966db2a7"
      },
      "source": [
        "model4 = vgg19_model(img_shape=(32, 32, 3), n_classes=7)\n",
        "model4.summary()\n",
        "plot_model(model4, show_shapes=True)\n",
        "\n",
        "filepath =  os.path.join(dir,'model_output',number,model4.name,'{epoch:03d}.h5')\n",
        "callbacks_list = [ModelCheckpoint(filepath, monitor='val_loss', verbose=1, save_weights_only=False, save_best_only=True, mode='min'),\n",
        "                  ModelCheckpoint(filepath, monitor='val_accuracy', verbose=1, save_weights_only=False, save_best_only=True, mode='max'),\n",
        "                  EarlyStopping(monitor='val_auc', patience=3),\n",
        "                  LearningRateScheduler(lr_schedule,verbose=1)] \n",
        "model4.compile(optimizer = 'rmsprop', loss = 'categorical_crossentropy', metrics=['AUC', 'Precision','Recall'])\n",
        "auto = model4.fit(x_train, y_, validation_data=(x_test, y_2), epochs=50, batch_size=64, callbacks=callbacks_list, shuffle=True)"
      ],
      "execution_count": 127,
      "outputs": [
        {
          "output_type": "stream",
          "text": [
            "Model: \"sequential_6\"\n",
            "_________________________________________________________________\n",
            "Layer (type)                 Output Shape              Param #   \n",
            "=================================================================\n",
            "conv2d_70 (Conv2D)           (None, 32, 32, 64)        1792      \n",
            "_________________________________________________________________\n",
            "activation_320 (Activation)  (None, 32, 32, 64)        0         \n",
            "_________________________________________________________________\n",
            "zero_padding2d_53 (ZeroPaddi (None, 34, 34, 64)        0         \n",
            "_________________________________________________________________\n",
            "conv2d_71 (Conv2D)           (None, 34, 34, 64)        36928     \n",
            "_________________________________________________________________\n",
            "activation_321 (Activation)  (None, 34, 34, 64)        0         \n",
            "_________________________________________________________________\n",
            "max_pooling2d_34 (MaxPooling (None, 17, 17, 64)        0         \n",
            "_________________________________________________________________\n",
            "zero_padding2d_54 (ZeroPaddi (None, 19, 19, 64)        0         \n",
            "_________________________________________________________________\n",
            "conv2d_72 (Conv2D)           (None, 19, 19, 128)       73856     \n",
            "_________________________________________________________________\n",
            "activation_322 (Activation)  (None, 19, 19, 128)       0         \n",
            "_________________________________________________________________\n",
            "zero_padding2d_55 (ZeroPaddi (None, 21, 21, 128)       0         \n",
            "_________________________________________________________________\n",
            "conv2d_73 (Conv2D)           (None, 21, 21, 128)       147584    \n",
            "_________________________________________________________________\n",
            "activation_323 (Activation)  (None, 21, 21, 128)       0         \n",
            "_________________________________________________________________\n",
            "max_pooling2d_35 (MaxPooling (None, 10, 10, 128)       0         \n",
            "_________________________________________________________________\n",
            "zero_padding2d_56 (ZeroPaddi (None, 12, 12, 128)       0         \n",
            "_________________________________________________________________\n",
            "conv2d_74 (Conv2D)           (None, 12, 12, 256)       295168    \n",
            "_________________________________________________________________\n",
            "activation_324 (Activation)  (None, 12, 12, 256)       0         \n",
            "_________________________________________________________________\n",
            "zero_padding2d_57 (ZeroPaddi (None, 14, 14, 256)       0         \n",
            "_________________________________________________________________\n",
            "conv2d_75 (Conv2D)           (None, 14, 14, 256)       590080    \n",
            "_________________________________________________________________\n",
            "activation_325 (Activation)  (None, 14, 14, 256)       0         \n",
            "_________________________________________________________________\n",
            "zero_padding2d_58 (ZeroPaddi (None, 16, 16, 256)       0         \n",
            "_________________________________________________________________\n",
            "conv2d_76 (Conv2D)           (None, 16, 16, 256)       590080    \n",
            "_________________________________________________________________\n",
            "activation_326 (Activation)  (None, 16, 16, 256)       0         \n",
            "_________________________________________________________________\n",
            "zero_padding2d_59 (ZeroPaddi (None, 18, 18, 256)       0         \n",
            "_________________________________________________________________\n",
            "conv2d_77 (Conv2D)           (None, 18, 18, 256)       590080    \n",
            "_________________________________________________________________\n",
            "activation_327 (Activation)  (None, 18, 18, 256)       0         \n",
            "_________________________________________________________________\n",
            "max_pooling2d_36 (MaxPooling (None, 9, 9, 256)         0         \n",
            "_________________________________________________________________\n",
            "zero_padding2d_60 (ZeroPaddi (None, 11, 11, 256)       0         \n",
            "_________________________________________________________________\n",
            "conv2d_78 (Conv2D)           (None, 11, 11, 512)       1180160   \n",
            "_________________________________________________________________\n",
            "activation_328 (Activation)  (None, 11, 11, 512)       0         \n",
            "_________________________________________________________________\n",
            "zero_padding2d_61 (ZeroPaddi (None, 13, 13, 512)       0         \n",
            "_________________________________________________________________\n",
            "conv2d_79 (Conv2D)           (None, 13, 13, 512)       2359808   \n",
            "_________________________________________________________________\n",
            "activation_329 (Activation)  (None, 13, 13, 512)       0         \n",
            "_________________________________________________________________\n",
            "zero_padding2d_62 (ZeroPaddi (None, 15, 15, 512)       0         \n",
            "_________________________________________________________________\n",
            "conv2d_80 (Conv2D)           (None, 15, 15, 512)       2359808   \n",
            "_________________________________________________________________\n",
            "activation_330 (Activation)  (None, 15, 15, 512)       0         \n",
            "_________________________________________________________________\n",
            "zero_padding2d_63 (ZeroPaddi (None, 17, 17, 512)       0         \n",
            "_________________________________________________________________\n",
            "conv2d_81 (Conv2D)           (None, 17, 17, 512)       2359808   \n",
            "_________________________________________________________________\n",
            "activation_331 (Activation)  (None, 17, 17, 512)       0         \n",
            "_________________________________________________________________\n",
            "max_pooling2d_37 (MaxPooling (None, 8, 8, 512)         0         \n",
            "_________________________________________________________________\n",
            "zero_padding2d_64 (ZeroPaddi (None, 10, 10, 512)       0         \n",
            "_________________________________________________________________\n",
            "conv2d_82 (Conv2D)           (None, 10, 10, 512)       2359808   \n",
            "_________________________________________________________________\n",
            "activation_332 (Activation)  (None, 10, 10, 512)       0         \n",
            "_________________________________________________________________\n",
            "zero_padding2d_65 (ZeroPaddi (None, 12, 12, 512)       0         \n",
            "_________________________________________________________________\n",
            "conv2d_83 (Conv2D)           (None, 12, 12, 512)       2359808   \n",
            "_________________________________________________________________\n",
            "activation_333 (Activation)  (None, 12, 12, 512)       0         \n",
            "_________________________________________________________________\n",
            "zero_padding2d_66 (ZeroPaddi (None, 14, 14, 512)       0         \n",
            "_________________________________________________________________\n",
            "conv2d_84 (Conv2D)           (None, 14, 14, 512)       2359808   \n",
            "_________________________________________________________________\n",
            "activation_334 (Activation)  (None, 14, 14, 512)       0         \n",
            "_________________________________________________________________\n",
            "zero_padding2d_67 (ZeroPaddi (None, 16, 16, 512)       0         \n",
            "_________________________________________________________________\n",
            "conv2d_85 (Conv2D)           (None, 16, 16, 512)       2359808   \n",
            "_________________________________________________________________\n",
            "activation_335 (Activation)  (None, 16, 16, 512)       0         \n",
            "_________________________________________________________________\n",
            "max_pooling2d_38 (MaxPooling (None, 8, 8, 512)         0         \n",
            "_________________________________________________________________\n",
            "flatten_13 (Flatten)         (None, 32768)             0         \n",
            "_________________________________________________________________\n",
            "dense_24 (Dense)             (None, 4096)              134221824 \n",
            "_________________________________________________________________\n",
            "activation_336 (Activation)  (None, 4096)              0         \n",
            "_________________________________________________________________\n",
            "dropout_14 (Dropout)         (None, 4096)              0         \n",
            "_________________________________________________________________\n",
            "dense_25 (Dense)             (None, 4096)              16781312  \n",
            "_________________________________________________________________\n",
            "activation_337 (Activation)  (None, 4096)              0         \n",
            "_________________________________________________________________\n",
            "dropout_15 (Dropout)         (None, 4096)              0         \n",
            "_________________________________________________________________\n",
            "dense_26 (Dense)             (None, 7)                 28679     \n",
            "_________________________________________________________________\n",
            "activation_338 (Activation)  (None, 7)                 0         \n",
            "=================================================================\n",
            "Total params: 171,056,199\n",
            "Trainable params: 171,056,199\n",
            "Non-trainable params: 0\n",
            "_________________________________________________________________\n",
            "Epoch 1/50\n",
            "Learning rate:  0.0003\n",
            "\n",
            "Epoch 00001: LearningRateScheduler reducing learning rate to 0.0003.\n",
            "267/267 [==============================] - 76s 245ms/step - loss: 2.0050 - auc: 0.5768 - precision: 0.3059 - recall: 0.0046 - val_loss: 1.4747 - val_auc: 0.9746 - val_precision: 0.0000e+00 - val_recall: 0.0000e+00\n",
            "\n",
            "Epoch 00001: val_loss improved from inf to 1.47465, saving model to /content/drive/Shareddrives/Labs/2020_1_이소연/code/wm811k/model_output/1/sequential_6/001.h5\n",
            "WARNING:tensorflow:Can save best model only with val_accuracy available, skipping.\n",
            "Epoch 2/50\n",
            "Learning rate:  0.0003\n",
            "\n",
            "Epoch 00002: LearningRateScheduler reducing learning rate to 0.0003.\n",
            "267/267 [==============================] - 66s 249ms/step - loss: 1.9654 - auc: 0.6311 - precision: 0.7222 - recall: 0.0412 - val_loss: 1.2960 - val_auc: 0.9747 - val_precision: 0.0000e+00 - val_recall: 0.0000e+00\n",
            "\n",
            "Epoch 00002: val_loss improved from 1.47465 to 1.29596, saving model to /content/drive/Shareddrives/Labs/2020_1_이소연/code/wm811k/model_output/1/sequential_6/002.h5\n",
            "WARNING:tensorflow:Can save best model only with val_accuracy available, skipping.\n",
            "Epoch 3/50\n",
            "Learning rate:  0.0003\n",
            "\n",
            "Epoch 00003: LearningRateScheduler reducing learning rate to 0.0003.\n",
            "267/267 [==============================] - 68s 256ms/step - loss: 1.5095 - auc: 0.7874 - precision: 0.7161 - recall: 0.1730 - val_loss: 0.6823 - val_auc: 0.9844 - val_precision: 0.9649 - val_recall: 0.9575\n",
            "\n",
            "Epoch 00003: val_loss improved from 1.29596 to 0.68233, saving model to /content/drive/Shareddrives/Labs/2020_1_이소연/code/wm811k/model_output/1/sequential_6/003.h5\n",
            "WARNING:tensorflow:Can save best model only with val_accuracy available, skipping.\n",
            "Epoch 4/50\n",
            "Learning rate:  0.0003\n",
            "\n",
            "Epoch 00004: LearningRateScheduler reducing learning rate to 0.0003.\n",
            "267/267 [==============================] - 69s 258ms/step - loss: 0.7294 - auc: 0.9544 - precision: 0.8402 - recall: 0.6557 - val_loss: 0.1775 - val_auc: 0.9872 - val_precision: 0.9688 - val_recall: 0.9652\n",
            "\n",
            "Epoch 00004: val_loss improved from 0.68233 to 0.17751, saving model to /content/drive/Shareddrives/Labs/2020_1_이소연/code/wm811k/model_output/1/sequential_6/004.h5\n",
            "WARNING:tensorflow:Can save best model only with val_accuracy available, skipping.\n"
          ],
          "name": "stdout"
        }
      ]
    },
    {
      "cell_type": "code",
      "metadata": {
        "id": "qmns87y7fcaU"
      },
      "source": [
        "y_test_pred = model4.predict_classes(x_test)"
      ],
      "execution_count": 134,
      "outputs": []
    },
    {
      "cell_type": "code",
      "metadata": {
        "id": "2CKKXylEfcaj"
      },
      "source": [
        "le = LabelEncoder()\n",
        "y_test_ = le.fit_transform(y_test)"
      ],
      "execution_count": 135,
      "outputs": []
    },
    {
      "cell_type": "code",
      "metadata": {
        "colab": {
          "base_uri": "https://localhost:8080/"
        },
        "id": "-LLBoSMdfcak",
        "outputId": "81602a67-54d9-4ab6-e58c-c1b0916c7055"
      },
      "source": [
        "print(len(y_test_pred),len(y_test_))"
      ],
      "execution_count": 130,
      "outputs": [
        {
          "output_type": "stream",
          "text": [
            "3245 3245\n"
          ],
          "name": "stdout"
        }
      ]
    },
    {
      "cell_type": "code",
      "metadata": {
        "colab": {
          "base_uri": "https://localhost:8080/"
        },
        "id": "UkcqsRAyfcam",
        "outputId": "f0cc985d-9deb-44ca-8032-f254f544c3b1"
      },
      "source": [
        "print(classification_report(y_test_, y_test_pred, target_names=labels))"
      ],
      "execution_count": 131,
      "outputs": [
        {
          "output_type": "stream",
          "text": [
            "              precision    recall  f1-score   support\n",
            "\n",
            "      Center       0.00      0.00      0.00         7\n",
            "    Edge-Loc       0.80      0.40      0.53        50\n",
            "   Edge-Ring       0.75      0.52      0.62        23\n",
            "         Loc       0.67      0.10      0.17        41\n",
            "   Near-full       0.88      1.00      0.93         7\n",
            "     Scratch       0.00      0.00      0.00        23\n",
            "        none       0.97      1.00      0.99      3094\n",
            "\n",
            "    accuracy                           0.97      3245\n",
            "   macro avg       0.58      0.43      0.46      3245\n",
            "weighted avg       0.96      0.97      0.96      3245\n",
            "\n"
          ],
          "name": "stdout"
        }
      ]
    },
    {
      "cell_type": "code",
      "metadata": {
        "colab": {
          "base_uri": "https://localhost:8080/",
          "height": 612
        },
        "id": "C5U52i4Sfcan",
        "outputId": "12cf89c0-5516-49d1-b3f8-8c8987d3a952"
      },
      "source": [
        "np.set_printoptions(precision=2)\n",
        "\n",
        "# Plot non-normalized confusion matrix]\n",
        "plot_confusion_matrix2(y_test_, y_test_pred, classes=labels, title='Confusion matrix, without normalization')\n",
        "\n",
        "# Plot normalized confusion matrix]\n",
        "plot_confusion_matrix2(y_test_, y_test_pred, classes=labels, normalize=True, title='Normalized confusion matrix')\n",
        "\n",
        "plt.show()"
      ],
      "execution_count": 136,
      "outputs": [
        {
          "output_type": "stream",
          "text": [
            "Confusion matrix, without normalization\n",
            "Normalized confusion matrix\n"
          ],
          "name": "stdout"
        },
        {
          "output_type": "display_data",
          "data": {
            "image/png": "[encoded data removed]",
            "text/plain": [
              "<Figure size 432x288 with 2 Axes>"
            ]
          },
          "metadata": {
            "tags": [],
            "needs_background": "light"
          }
        },
        {
          "output_type": "display_data",
          "data": {
            "image/png": "[encoded data removed]",
            "text/plain": [
              "<Figure size 432x288 with 2 Axes>"
            ]
          },
          "metadata": {
            "tags": [],
            "needs_background": "light"
          }
        }
      ]
    },
    {
      "cell_type": "code",
      "metadata": {
        "id": "wpwHx6UUU3-u"
      },
      "source": [
        ""
      ],
      "execution_count": null,
      "outputs": []
    },
    {
      "cell_type": "code",
      "metadata": {
        "id": "_6qIYeNrkekF"
      },
      "source": [
        ""
      ],
      "execution_count": null,
      "outputs": []
    },
    {
      "cell_type": "code",
      "metadata": {
        "colab": {
          "base_uri": "https://localhost:8080/",
          "height": 808
        },
        "id": "E6KQ_l7MhtPf",
        "outputId": "954da1e5-bfdd-40f8-95cf-d4a5c127af44"
      },
      "source": [
        "plt.plot(epochs[1:],auc[1:],'b',label='Training 1-Auc')\n",
        "plt.plot(epochs[1:],val_auc[1:],'r',label='Validation 1-Auc')\n",
        "plt.title('Training and Validation Top-1 AUC')\n",
        "plt.legend()\n",
        "plt.figure()\n",
        "\n",
        "plt.plot(epochs,precision,'b',label='Training Precision')\n",
        "plt.plot(epochs,val_precision,'r',label='Validation Precision')\n",
        "plt.title('Training and Validation Precision')\n",
        "plt.legend()\n",
        "plt.figure()\n",
        "\n",
        "plt.plot(epochs,loss,'b',label='Training Loss')\n",
        "plt.plot(epochs,val_loss,'r',label='Validation Loss')\n",
        "plt.title('Training and Validation Loss')\n",
        "plt.legend()\n",
        "plt.show()"
      ],
      "execution_count": 91,
      "outputs": [
        {
          "output_type": "display_data",
          "data": {
            "image/png": "[encoded data removed]",
            "text/plain": [
              "<Figure size 432x288 with 1 Axes>"
            ]
          },
          "metadata": {
            "tags": [],
            "needs_background": "light"
          }
        },
        {
          "output_type": "display_data",
          "data": {
            "image/png": "[encoded data removed]",
            "text/plain": [
              "<Figure size 432x288 with 1 Axes>"
            ]
          },
          "metadata": {
            "tags": [],
            "needs_background": "light"
          }
        },
        {
          "output_type": "display_data",
          "data": {
            "image/png": "[encoded data removed]",
            "text/plain": [
              "<Figure size 432x288 with 1 Axes>"
            ]
          },
          "metadata": {
            "tags": [],
            "needs_background": "light"
          }
        }
      ]
    },
    {
      "cell_type": "code",
      "metadata": {
        "id": "JFhGzKxYhtSh"
      },
      "source": [
        "def identity_block(X, f, filters, stage, block):\n",
        "    \"\"\"\n",
        "    Implementation of the identity block as defined in Figure 4\n",
        "    \n",
        "    Arguments:\n",
        "    X -- input tensor of shape (m, n_H_prev, n_W_prev, n_C_prev)\n",
        "    f -- integer, specifying the shape of the middle CONV's window for the main path\n",
        "    filters -- python list of integers, defining the number of filters in the CONV layers of the main path\n",
        "    stage -- integer, used to name the layers, depending on their position in the network\n",
        "    block -- string/character, used to name the layers, depending on their position in the network\n",
        "    \n",
        "    Returns:\n",
        "    X -- output of the identity block, tensor of shape (n_H, n_W, n_C)\n",
        "    \"\"\"\n",
        "    \n",
        "    # defining name basis\n",
        "    conv_name_base = 'res' + str(stage) + block + '_branch'\n",
        "    bn_name_base = 'bn' + str(stage) + block + '_branch'\n",
        "    \n",
        "    # Retrieve Filters\n",
        "    F1, F2, F3 = filters\n",
        "    \n",
        "    # Save the input value. You'll need this later to add back to the main path. \n",
        "    X_shortcut = X\n",
        "    \n",
        "    # First component of main path\n",
        "    X = Conv2D(filters = F1, kernel_size = (1, 1), strides = (1,1), padding = 'valid', name = conv_name_base + '2a', kernel_initializer = glorot_uniform(seed=0))(X)\n",
        "    X = BatchNormalization(axis = 3, name = bn_name_base + '2a')(X)\n",
        "    X = Activation('relu')(X)\n",
        "    \n",
        "    ### START CODE HERE ###\n",
        "    \n",
        "    # Second component of main path (≈3 lines)\n",
        "    X = Conv2D(filters = F2, kernel_size = (f,f), strides = (1,1), padding = 'same', name = conv_name_base + '2b', kernel_initializer = glorot_uniform(seed=0))(X)\n",
        "    X = BatchNormalization(axis = 3, name = bn_name_base + '2b')(X)\n",
        "    X = Activation('relu')(X)\n",
        "\n",
        "    # Third component of main path (≈2 lines)\n",
        "    X = Conv2D(filters = F3, kernel_size = (1,1), strides = (1,1), padding = 'valid', name = conv_name_base + '2c', kernel_initializer = glorot_uniform(seed=0))(X)\n",
        "    X = BatchNormalization(axis = 3, name = bn_name_base + '2c')(X)\n",
        "\n",
        "    # Final step: Add shortcut value to main path, and pass it through a RELU activation (≈2 lines)\n",
        "    X = Add()([X, X_shortcut])\n",
        "    X = Activation('relu')(X)\n",
        "    \n",
        "    ### END CODE HERE ###\n",
        "    \n",
        "    return X"
      ],
      "execution_count": 92,
      "outputs": []
    },
    {
      "cell_type": "code",
      "metadata": {
        "id": "hZqgbiaVhh3X"
      },
      "source": [
        "def convolutional_block(X, f, filters, stage, block, s = 2):\n",
        "    \"\"\"\n",
        "    Implementation of the convolutional block as defined in Figure 4\n",
        "    \n",
        "    Arguments:\n",
        "    X -- input tensor of shape (m, n_H_prev, n_W_prev, n_C_prev)\n",
        "    f -- integer, specifying the shape of the middle CONV's window for the main path\n",
        "    filters -- python list of integers, defining the number of filters in the CONV layers of the main path\n",
        "    stage -- integer, used to name the layers, depending on their position in the network\n",
        "    block -- string/character, used to name the layers, depending on their position in the network\n",
        "    s -- Integer, specifying the stride to be used\n",
        "    \n",
        "    Returns:\n",
        "    X -- output of the convolutional block, tensor of shape (n_H, n_W, n_C)\n",
        "    \"\"\"\n",
        "    \n",
        "    # defining name basis\n",
        "    conv_name_base = 'res' + str(stage) + block + '_branch'\n",
        "    bn_name_base = 'bn' + str(stage) + block + '_branch'\n",
        "    \n",
        "    # Retrieve Filters\n",
        "    F1, F2, F3 = filters\n",
        "    \n",
        "    # Save the input value\n",
        "    X_shortcut = X\n",
        "\n",
        "\n",
        "    ##### MAIN PATH #####\n",
        "    # First component of main path \n",
        "    X = Conv2D(F1, (1, 1), strides = (s,s), padding = 'valid', name = conv_name_base + '2a', kernel_initializer = glorot_uniform(seed=0))(X)\n",
        "    X = BatchNormalization(axis = 3, name = bn_name_base + '2a')(X)\n",
        "    X = Activation('relu')(X)\n",
        "    \n",
        "    ### START CODE HERE ###\n",
        "\n",
        "    # Second component of main path (≈3 lines)\n",
        "    X = Conv2D(F2, (f, f), strides = (1,1), padding = 'same', name = conv_name_base + '2b', kernel_initializer = glorot_uniform(seed=0))(X)\n",
        "    X = BatchNormalization(axis = 3, name = bn_name_base + '2b')(X)\n",
        "    X = Activation('relu')(X)\n",
        "\n",
        "    # Third component of main path (≈2 lines)\n",
        "    X = Conv2D(F3, (1, 1), strides = (1,1), padding = 'valid', name = conv_name_base + '2c', kernel_initializer = glorot_uniform(seed=0))(X)\n",
        "    X = BatchNormalization(axis = 3, name = bn_name_base + '2c')(X)\n",
        "\n",
        "    ##### SHORTCUT PATH #### (≈2 lines)\n",
        "    X_shortcut = Conv2D(F3, (1, 1), strides = (s,s), padding = 'valid', name = conv_name_base + '1', kernel_initializer = glorot_uniform(seed=0))(X_shortcut)\n",
        "    X_shortcut = BatchNormalization(axis = 3, name = bn_name_base + '1')(X_shortcut)\n",
        "\n",
        "    # Final step: Add shortcut value to main path, and pass it through a RELU activation (≈2 lines)\n",
        "    X = Add()([X, X_shortcut])\n",
        "    X = Activation('relu')(X)\n",
        "    \n",
        "    ### END CODE HERE ###\n",
        "    \n",
        "    return X"
      ],
      "execution_count": 93,
      "outputs": []
    },
    {
      "cell_type": "code",
      "metadata": {
        "id": "ZhLhFys5S_2P"
      },
      "source": [
        "\n",
        "def ResNet50(input_shape = (27, 27, 3), classes = 9):\n",
        "    \"\"\"\n",
        "    Implementation of the popular ResNet50 the following architecture:\n",
        "    CONV2D -> BATCHNORM -> RELU -> MAXPOOL -> CONVBLOCK -> IDBLOCK*2 -> CONVBLOCK -> IDBLOCK*3\n",
        "    -> CONVBLOCK -> IDBLOCK*5 -> CONVBLOCK -> IDBLOCK*2 -> AVGPOOL -> TOPLAYER\n",
        "\n",
        "    Arguments:\n",
        "    input_shape -- shape of the images of the dataset\n",
        "    classes -- integer, number of classes\n",
        "\n",
        "    Returns:\n",
        "    model -- a Model() instance in Keras\n",
        "    \"\"\"\n",
        "    \n",
        "    # Define the input as a tensor with shape input_shape\n",
        "    X_input = Input(input_shape)\n",
        "\n",
        "    \n",
        "    # Zero-Padding\n",
        "    X = ZeroPadding2D((1, 1))(X_input)\n",
        "    \n",
        "    # Stage 1\n",
        "    X = Conv2D(64, (3, 3), name = 'conv1', kernel_initializer = glorot_uniform(seed=0))(X)\n",
        "    X = BatchNormalization(axis = 3, name = 'bn_conv1')(X)\n",
        "    X = Activation('relu')(X)\n",
        "    X = MaxPooling2D((2, 2))(X)\n",
        "\n",
        "    # Stage 2\n",
        "    X = convolutional_block(X, f = 3, filters = [32,32,128], stage = 2, block='a', s = 1)\n",
        "    X = identity_block(X, 3, [32,32,128], stage=2, block='b')\n",
        "    X = identity_block(X, 3, [32,32,128], stage=2, block='c')\n",
        "\n",
        "    ### START CODE HERE ###\n",
        "\n",
        "    # Stage 3 (≈4 lines)\n",
        "    X = convolutional_block(X, f = 3, filters = [64,64,256], stage = 3, block='a', s = 2)\n",
        "    X = identity_block(X, 3, [64,64,256], stage=3, block='b')\n",
        "    X = identity_block(X, 3, [64,64,256], stage=3, block='c')\n",
        "    X = identity_block(X, 3, [64,64,256], stage=3, block='d')\n",
        "\n",
        "    # Stage 4 (≈6 lines)\n",
        "    X = convolutional_block(X, f = 3, filters = [128,128,512], stage = 4, block='a', s = 2)\n",
        "    X = identity_block(X, 3, [128,128,512], stage=4, block='b')\n",
        "    X = identity_block(X, 3, [128,128,512], stage=4, block='c')\n",
        "    X = identity_block(X, 3, [128,128,512], stage=4, block='d')\n",
        "    X = identity_block(X, 3, [128,128,512], stage=4, block='e')\n",
        "    X = identity_block(X, 3, [128,128,512], stage=4, block='f')\n",
        "\n",
        "    # Stage 5 (≈3 lines)\n",
        "    X = convolutional_block(X, f = 3, filters = [256, 256, 1024], stage = 5, block='a', s = 2)\n",
        "    X = identity_block(X, 3, [256, 256, 1024], stage=5, block='b')\n",
        "    X = identity_block(X, 3, [256, 256, 1024], stage=5, block='c')\n",
        "\n",
        "    # AVGPOOL (≈1 line). Use \"X = AveragePooling2D(...)(X)\"\n",
        "    X = AveragePooling2D(pool_size=(2,2), name = \"avg_pool\")(X)\n",
        "    \n",
        "    ### END CODE HERE ###\n",
        "\n",
        "    # output layer\n",
        "    X = Flatten()(X)\n",
        "    X = Dense(classes, activation='softmax', name='fc' + str(classes), kernel_initializer = glorot_uniform(seed=0))(X)\n",
        "    \n",
        "    \n",
        "    # Create model\n",
        "    model = Model(inputs = X_input, outputs = X, name='ResNet50')\n",
        "\n",
        "    return model"
      ],
      "execution_count": 97,
      "outputs": []
    },
    {
      "cell_type": "code",
      "metadata": {
        "colab": {
          "base_uri": "https://localhost:8080/"
        },
        "id": "TrRyEX3ahh5r",
        "outputId": "074aba04-498c-4c05-c372-9dbedebf34a6"
      },
      "source": [
        "# ResNet50\n",
        "model5 = ResNet50(input_shape = (32, 32, 3), classes = 7)\n",
        "model5.summary()\n",
        "plot_model(model5, show_shapes=True)\n",
        "\n",
        "filepath =  os.path.join(dir,'model_output',number,model.name,'{epoch:03d}.h5')\n",
        "callbacks_list = [ModelCheckpoint(filepath, monitor='val_loss', verbose=1, save_weights_only=False, save_best_only=True, mode='min'),\n",
        "                  ModelCheckpoint(filepath, monitor='val_accuracy', verbose=1, save_weights_only=False, save_best_only=True, mode='max'),\n",
        "                  EarlyStopping(monitor='val_auc', patience=3),\n",
        "                  LearningRateScheduler(lr_schedule,verbose=1)] \n",
        "model5.compile(optimizer = 'rmsprop', loss = 'categorical_crossentropy', metrics=['AUC', 'Precision','Recall'])\n",
        "auto = model5.fit(x_train, y_, validation_data=(x_test, y_2), epochs=30, batch_size=64, callbacks=callbacks_list, shuffle=True)"
      ],
      "execution_count": 120,
      "outputs": [
        {
          "output_type": "stream",
          "text": [
            "Model: \"ResNet50\"\n",
            "__________________________________________________________________________________________________\n",
            "Layer (type)                    Output Shape         Param #     Connected to                     \n",
            "==================================================================================================\n",
            "input_8 (InputLayer)            [(None, 32, 32, 3)]  0                                            \n",
            "__________________________________________________________________________________________________\n",
            "zero_padding2d_52 (ZeroPadding2 (None, 34, 34, 3)    0           input_8[0][0]                    \n",
            "__________________________________________________________________________________________________\n",
            "conv1 (Conv2D)                  (None, 32, 32, 64)   1792        zero_padding2d_52[0][0]          \n",
            "__________________________________________________________________________________________________\n",
            "bn_conv1 (BatchNormalization)   (None, 32, 32, 64)   256         conv1[0][0]                      \n",
            "__________________________________________________________________________________________________\n",
            "activation_271 (Activation)     (None, 32, 32, 64)   0           bn_conv1[0][0]                   \n",
            "__________________________________________________________________________________________________\n",
            "max_pooling2d_33 (MaxPooling2D) (None, 16, 16, 64)   0           activation_271[0][0]             \n",
            "__________________________________________________________________________________________________\n",
            "res2a_branch2a (Conv2D)         (None, 16, 16, 32)   2080        max_pooling2d_33[0][0]           \n",
            "__________________________________________________________________________________________________\n",
            "bn2a_branch2a (BatchNormalizati (None, 16, 16, 32)   128         res2a_branch2a[0][0]             \n",
            "__________________________________________________________________________________________________\n",
            "activation_272 (Activation)     (None, 16, 16, 32)   0           bn2a_branch2a[0][0]              \n",
            "__________________________________________________________________________________________________\n",
            "res2a_branch2b (Conv2D)         (None, 16, 16, 32)   9248        activation_272[0][0]             \n",
            "__________________________________________________________________________________________________\n",
            "bn2a_branch2b (BatchNormalizati (None, 16, 16, 32)   128         res2a_branch2b[0][0]             \n",
            "__________________________________________________________________________________________________\n",
            "activation_273 (Activation)     (None, 16, 16, 32)   0           bn2a_branch2b[0][0]              \n",
            "__________________________________________________________________________________________________\n",
            "res2a_branch2c (Conv2D)         (None, 16, 16, 128)  4224        activation_273[0][0]             \n",
            "__________________________________________________________________________________________________\n",
            "res2a_branch1 (Conv2D)          (None, 16, 16, 128)  8320        max_pooling2d_33[0][0]           \n",
            "__________________________________________________________________________________________________\n",
            "bn2a_branch2c (BatchNormalizati (None, 16, 16, 128)  512         res2a_branch2c[0][0]             \n",
            "__________________________________________________________________________________________________\n",
            "bn2a_branch1 (BatchNormalizatio (None, 16, 16, 128)  512         res2a_branch1[0][0]              \n",
            "__________________________________________________________________________________________________\n",
            "add_64 (Add)                    (None, 16, 16, 128)  0           bn2a_branch2c[0][0]              \n",
            "                                                                 bn2a_branch1[0][0]               \n",
            "__________________________________________________________________________________________________\n",
            "activation_274 (Activation)     (None, 16, 16, 128)  0           add_64[0][0]                     \n",
            "__________________________________________________________________________________________________\n",
            "res2b_branch2a (Conv2D)         (None, 16, 16, 32)   4128        activation_274[0][0]             \n",
            "__________________________________________________________________________________________________\n",
            "bn2b_branch2a (BatchNormalizati (None, 16, 16, 32)   128         res2b_branch2a[0][0]             \n",
            "__________________________________________________________________________________________________\n",
            "activation_275 (Activation)     (None, 16, 16, 32)   0           bn2b_branch2a[0][0]              \n",
            "__________________________________________________________________________________________________\n",
            "res2b_branch2b (Conv2D)         (None, 16, 16, 32)   9248        activation_275[0][0]             \n",
            "__________________________________________________________________________________________________\n",
            "bn2b_branch2b (BatchNormalizati (None, 16, 16, 32)   128         res2b_branch2b[0][0]             \n",
            "__________________________________________________________________________________________________\n",
            "activation_276 (Activation)     (None, 16, 16, 32)   0           bn2b_branch2b[0][0]              \n",
            "__________________________________________________________________________________________________\n",
            "res2b_branch2c (Conv2D)         (None, 16, 16, 128)  4224        activation_276[0][0]             \n",
            "__________________________________________________________________________________________________\n",
            "bn2b_branch2c (BatchNormalizati (None, 16, 16, 128)  512         res2b_branch2c[0][0]             \n",
            "__________________________________________________________________________________________________\n",
            "add_65 (Add)                    (None, 16, 16, 128)  0           bn2b_branch2c[0][0]              \n",
            "                                                                 activation_274[0][0]             \n",
            "__________________________________________________________________________________________________\n",
            "activation_277 (Activation)     (None, 16, 16, 128)  0           add_65[0][0]                     \n",
            "__________________________________________________________________________________________________\n",
            "res2c_branch2a (Conv2D)         (None, 16, 16, 32)   4128        activation_277[0][0]             \n",
            "__________________________________________________________________________________________________\n",
            "bn2c_branch2a (BatchNormalizati (None, 16, 16, 32)   128         res2c_branch2a[0][0]             \n",
            "__________________________________________________________________________________________________\n",
            "activation_278 (Activation)     (None, 16, 16, 32)   0           bn2c_branch2a[0][0]              \n",
            "__________________________________________________________________________________________________\n",
            "res2c_branch2b (Conv2D)         (None, 16, 16, 32)   9248        activation_278[0][0]             \n",
            "__________________________________________________________________________________________________\n",
            "bn2c_branch2b (BatchNormalizati (None, 16, 16, 32)   128         res2c_branch2b[0][0]             \n",
            "__________________________________________________________________________________________________\n",
            "activation_279 (Activation)     (None, 16, 16, 32)   0           bn2c_branch2b[0][0]              \n",
            "__________________________________________________________________________________________________\n",
            "res2c_branch2c (Conv2D)         (None, 16, 16, 128)  4224        activation_279[0][0]             \n",
            "__________________________________________________________________________________________________\n",
            "bn2c_branch2c (BatchNormalizati (None, 16, 16, 128)  512         res2c_branch2c[0][0]             \n",
            "__________________________________________________________________________________________________\n",
            "add_66 (Add)                    (None, 16, 16, 128)  0           bn2c_branch2c[0][0]              \n",
            "                                                                 activation_277[0][0]             \n",
            "__________________________________________________________________________________________________\n",
            "activation_280 (Activation)     (None, 16, 16, 128)  0           add_66[0][0]                     \n",
            "__________________________________________________________________________________________________\n",
            "res3a_branch2a (Conv2D)         (None, 8, 8, 64)     8256        activation_280[0][0]             \n",
            "__________________________________________________________________________________________________\n",
            "bn3a_branch2a (BatchNormalizati (None, 8, 8, 64)     256         res3a_branch2a[0][0]             \n",
            "__________________________________________________________________________________________________\n",
            "activation_281 (Activation)     (None, 8, 8, 64)     0           bn3a_branch2a[0][0]              \n",
            "__________________________________________________________________________________________________\n",
            "res3a_branch2b (Conv2D)         (None, 8, 8, 64)     36928       activation_281[0][0]             \n",
            "__________________________________________________________________________________________________\n",
            "bn3a_branch2b (BatchNormalizati (None, 8, 8, 64)     256         res3a_branch2b[0][0]             \n",
            "__________________________________________________________________________________________________\n",
            "activation_282 (Activation)     (None, 8, 8, 64)     0           bn3a_branch2b[0][0]              \n",
            "__________________________________________________________________________________________________\n",
            "res3a_branch2c (Conv2D)         (None, 8, 8, 256)    16640       activation_282[0][0]             \n",
            "__________________________________________________________________________________________________\n",
            "res3a_branch1 (Conv2D)          (None, 8, 8, 256)    33024       activation_280[0][0]             \n",
            "__________________________________________________________________________________________________\n",
            "bn3a_branch2c (BatchNormalizati (None, 8, 8, 256)    1024        res3a_branch2c[0][0]             \n",
            "__________________________________________________________________________________________________\n",
            "bn3a_branch1 (BatchNormalizatio (None, 8, 8, 256)    1024        res3a_branch1[0][0]              \n",
            "__________________________________________________________________________________________________\n",
            "add_67 (Add)                    (None, 8, 8, 256)    0           bn3a_branch2c[0][0]              \n",
            "                                                                 bn3a_branch1[0][0]               \n",
            "__________________________________________________________________________________________________\n",
            "activation_283 (Activation)     (None, 8, 8, 256)    0           add_67[0][0]                     \n",
            "__________________________________________________________________________________________________\n",
            "res3b_branch2a (Conv2D)         (None, 8, 8, 64)     16448       activation_283[0][0]             \n",
            "__________________________________________________________________________________________________\n",
            "bn3b_branch2a (BatchNormalizati (None, 8, 8, 64)     256         res3b_branch2a[0][0]             \n",
            "__________________________________________________________________________________________________\n",
            "activation_284 (Activation)     (None, 8, 8, 64)     0           bn3b_branch2a[0][0]              \n",
            "__________________________________________________________________________________________________\n",
            "res3b_branch2b (Conv2D)         (None, 8, 8, 64)     36928       activation_284[0][0]             \n",
            "__________________________________________________________________________________________________\n",
            "bn3b_branch2b (BatchNormalizati (None, 8, 8, 64)     256         res3b_branch2b[0][0]             \n",
            "__________________________________________________________________________________________________\n",
            "activation_285 (Activation)     (None, 8, 8, 64)     0           bn3b_branch2b[0][0]              \n",
            "__________________________________________________________________________________________________\n",
            "res3b_branch2c (Conv2D)         (None, 8, 8, 256)    16640       activation_285[0][0]             \n",
            "__________________________________________________________________________________________________\n",
            "bn3b_branch2c (BatchNormalizati (None, 8, 8, 256)    1024        res3b_branch2c[0][0]             \n",
            "__________________________________________________________________________________________________\n",
            "add_68 (Add)                    (None, 8, 8, 256)    0           bn3b_branch2c[0][0]              \n",
            "                                                                 activation_283[0][0]             \n",
            "__________________________________________________________________________________________________\n",
            "activation_286 (Activation)     (None, 8, 8, 256)    0           add_68[0][0]                     \n",
            "__________________________________________________________________________________________________\n",
            "res3c_branch2a (Conv2D)         (None, 8, 8, 64)     16448       activation_286[0][0]             \n",
            "__________________________________________________________________________________________________\n",
            "bn3c_branch2a (BatchNormalizati (None, 8, 8, 64)     256         res3c_branch2a[0][0]             \n",
            "__________________________________________________________________________________________________\n",
            "activation_287 (Activation)     (None, 8, 8, 64)     0           bn3c_branch2a[0][0]              \n",
            "__________________________________________________________________________________________________\n",
            "res3c_branch2b (Conv2D)         (None, 8, 8, 64)     36928       activation_287[0][0]             \n",
            "__________________________________________________________________________________________________\n",
            "bn3c_branch2b (BatchNormalizati (None, 8, 8, 64)     256         res3c_branch2b[0][0]             \n",
            "__________________________________________________________________________________________________\n",
            "activation_288 (Activation)     (None, 8, 8, 64)     0           bn3c_branch2b[0][0]              \n",
            "__________________________________________________________________________________________________\n",
            "res3c_branch2c (Conv2D)         (None, 8, 8, 256)    16640       activation_288[0][0]             \n",
            "__________________________________________________________________________________________________\n",
            "bn3c_branch2c (BatchNormalizati (None, 8, 8, 256)    1024        res3c_branch2c[0][0]             \n",
            "__________________________________________________________________________________________________\n",
            "add_69 (Add)                    (None, 8, 8, 256)    0           bn3c_branch2c[0][0]              \n",
            "                                                                 activation_286[0][0]             \n",
            "__________________________________________________________________________________________________\n",
            "activation_289 (Activation)     (None, 8, 8, 256)    0           add_69[0][0]                     \n",
            "__________________________________________________________________________________________________\n",
            "res3d_branch2a (Conv2D)         (None, 8, 8, 64)     16448       activation_289[0][0]             \n",
            "__________________________________________________________________________________________________\n",
            "bn3d_branch2a (BatchNormalizati (None, 8, 8, 64)     256         res3d_branch2a[0][0]             \n",
            "__________________________________________________________________________________________________\n",
            "activation_290 (Activation)     (None, 8, 8, 64)     0           bn3d_branch2a[0][0]              \n",
            "__________________________________________________________________________________________________\n",
            "res3d_branch2b (Conv2D)         (None, 8, 8, 64)     36928       activation_290[0][0]             \n",
            "__________________________________________________________________________________________________\n",
            "bn3d_branch2b (BatchNormalizati (None, 8, 8, 64)     256         res3d_branch2b[0][0]             \n",
            "__________________________________________________________________________________________________\n",
            "activation_291 (Activation)     (None, 8, 8, 64)     0           bn3d_branch2b[0][0]              \n",
            "__________________________________________________________________________________________________\n",
            "res3d_branch2c (Conv2D)         (None, 8, 8, 256)    16640       activation_291[0][0]             \n",
            "__________________________________________________________________________________________________\n",
            "bn3d_branch2c (BatchNormalizati (None, 8, 8, 256)    1024        res3d_branch2c[0][0]             \n",
            "__________________________________________________________________________________________________\n",
            "add_70 (Add)                    (None, 8, 8, 256)    0           bn3d_branch2c[0][0]              \n",
            "                                                                 activation_289[0][0]             \n",
            "__________________________________________________________________________________________________\n",
            "activation_292 (Activation)     (None, 8, 8, 256)    0           add_70[0][0]                     \n",
            "__________________________________________________________________________________________________\n",
            "res4a_branch2a (Conv2D)         (None, 4, 4, 128)    32896       activation_292[0][0]             \n",
            "__________________________________________________________________________________________________\n",
            "bn4a_branch2a (BatchNormalizati (None, 4, 4, 128)    512         res4a_branch2a[0][0]             \n",
            "__________________________________________________________________________________________________\n",
            "activation_293 (Activation)     (None, 4, 4, 128)    0           bn4a_branch2a[0][0]              \n",
            "__________________________________________________________________________________________________\n",
            "res4a_branch2b (Conv2D)         (None, 4, 4, 128)    147584      activation_293[0][0]             \n",
            "__________________________________________________________________________________________________\n",
            "bn4a_branch2b (BatchNormalizati (None, 4, 4, 128)    512         res4a_branch2b[0][0]             \n",
            "__________________________________________________________________________________________________\n",
            "activation_294 (Activation)     (None, 4, 4, 128)    0           bn4a_branch2b[0][0]              \n",
            "__________________________________________________________________________________________________\n",
            "res4a_branch2c (Conv2D)         (None, 4, 4, 512)    66048       activation_294[0][0]             \n",
            "__________________________________________________________________________________________________\n",
            "res4a_branch1 (Conv2D)          (None, 4, 4, 512)    131584      activation_292[0][0]             \n",
            "__________________________________________________________________________________________________\n",
            "bn4a_branch2c (BatchNormalizati (None, 4, 4, 512)    2048        res4a_branch2c[0][0]             \n",
            "__________________________________________________________________________________________________\n",
            "bn4a_branch1 (BatchNormalizatio (None, 4, 4, 512)    2048        res4a_branch1[0][0]              \n",
            "__________________________________________________________________________________________________\n",
            "add_71 (Add)                    (None, 4, 4, 512)    0           bn4a_branch2c[0][0]              \n",
            "                                                                 bn4a_branch1[0][0]               \n",
            "__________________________________________________________________________________________________\n",
            "activation_295 (Activation)     (None, 4, 4, 512)    0           add_71[0][0]                     \n",
            "__________________________________________________________________________________________________\n",
            "res4b_branch2a (Conv2D)         (None, 4, 4, 128)    65664       activation_295[0][0]             \n",
            "__________________________________________________________________________________________________\n",
            "bn4b_branch2a (BatchNormalizati (None, 4, 4, 128)    512         res4b_branch2a[0][0]             \n",
            "__________________________________________________________________________________________________\n",
            "activation_296 (Activation)     (None, 4, 4, 128)    0           bn4b_branch2a[0][0]              \n",
            "__________________________________________________________________________________________________\n",
            "res4b_branch2b (Conv2D)         (None, 4, 4, 128)    147584      activation_296[0][0]             \n",
            "__________________________________________________________________________________________________\n",
            "bn4b_branch2b (BatchNormalizati (None, 4, 4, 128)    512         res4b_branch2b[0][0]             \n",
            "__________________________________________________________________________________________________\n",
            "activation_297 (Activation)     (None, 4, 4, 128)    0           bn4b_branch2b[0][0]              \n",
            "__________________________________________________________________________________________________\n",
            "res4b_branch2c (Conv2D)         (None, 4, 4, 512)    66048       activation_297[0][0]             \n",
            "__________________________________________________________________________________________________\n",
            "bn4b_branch2c (BatchNormalizati (None, 4, 4, 512)    2048        res4b_branch2c[0][0]             \n",
            "__________________________________________________________________________________________________\n",
            "add_72 (Add)                    (None, 4, 4, 512)    0           bn4b_branch2c[0][0]              \n",
            "                                                                 activation_295[0][0]             \n",
            "__________________________________________________________________________________________________\n",
            "activation_298 (Activation)     (None, 4, 4, 512)    0           add_72[0][0]                     \n",
            "__________________________________________________________________________________________________\n",
            "res4c_branch2a (Conv2D)         (None, 4, 4, 128)    65664       activation_298[0][0]             \n",
            "__________________________________________________________________________________________________\n",
            "bn4c_branch2a (BatchNormalizati (None, 4, 4, 128)    512         res4c_branch2a[0][0]             \n",
            "__________________________________________________________________________________________________\n",
            "activation_299 (Activation)     (None, 4, 4, 128)    0           bn4c_branch2a[0][0]              \n",
            "__________________________________________________________________________________________________\n",
            "res4c_branch2b (Conv2D)         (None, 4, 4, 128)    147584      activation_299[0][0]             \n",
            "__________________________________________________________________________________________________\n",
            "bn4c_branch2b (BatchNormalizati (None, 4, 4, 128)    512         res4c_branch2b[0][0]             \n",
            "__________________________________________________________________________________________________\n",
            "activation_300 (Activation)     (None, 4, 4, 128)    0           bn4c_branch2b[0][0]              \n",
            "__________________________________________________________________________________________________\n",
            "res4c_branch2c (Conv2D)         (None, 4, 4, 512)    66048       activation_300[0][0]             \n",
            "__________________________________________________________________________________________________\n",
            "bn4c_branch2c (BatchNormalizati (None, 4, 4, 512)    2048        res4c_branch2c[0][0]             \n",
            "__________________________________________________________________________________________________\n",
            "add_73 (Add)                    (None, 4, 4, 512)    0           bn4c_branch2c[0][0]              \n",
            "                                                                 activation_298[0][0]             \n",
            "__________________________________________________________________________________________________\n",
            "activation_301 (Activation)     (None, 4, 4, 512)    0           add_73[0][0]                     \n",
            "__________________________________________________________________________________________________\n",
            "res4d_branch2a (Conv2D)         (None, 4, 4, 128)    65664       activation_301[0][0]             \n",
            "__________________________________________________________________________________________________\n",
            "bn4d_branch2a (BatchNormalizati (None, 4, 4, 128)    512         res4d_branch2a[0][0]             \n",
            "__________________________________________________________________________________________________\n",
            "activation_302 (Activation)     (None, 4, 4, 128)    0           bn4d_branch2a[0][0]              \n",
            "__________________________________________________________________________________________________\n",
            "res4d_branch2b (Conv2D)         (None, 4, 4, 128)    147584      activation_302[0][0]             \n",
            "__________________________________________________________________________________________________\n",
            "bn4d_branch2b (BatchNormalizati (None, 4, 4, 128)    512         res4d_branch2b[0][0]             \n",
            "__________________________________________________________________________________________________\n",
            "activation_303 (Activation)     (None, 4, 4, 128)    0           bn4d_branch2b[0][0]              \n",
            "__________________________________________________________________________________________________\n",
            "res4d_branch2c (Conv2D)         (None, 4, 4, 512)    66048       activation_303[0][0]             \n",
            "__________________________________________________________________________________________________\n",
            "bn4d_branch2c (BatchNormalizati (None, 4, 4, 512)    2048        res4d_branch2c[0][0]             \n",
            "__________________________________________________________________________________________________\n",
            "add_74 (Add)                    (None, 4, 4, 512)    0           bn4d_branch2c[0][0]              \n",
            "                                                                 activation_301[0][0]             \n",
            "__________________________________________________________________________________________________\n",
            "activation_304 (Activation)     (None, 4, 4, 512)    0           add_74[0][0]                     \n",
            "__________________________________________________________________________________________________\n",
            "res4e_branch2a (Conv2D)         (None, 4, 4, 128)    65664       activation_304[0][0]             \n",
            "__________________________________________________________________________________________________\n",
            "bn4e_branch2a (BatchNormalizati (None, 4, 4, 128)    512         res4e_branch2a[0][0]             \n",
            "__________________________________________________________________________________________________\n",
            "activation_305 (Activation)     (None, 4, 4, 128)    0           bn4e_branch2a[0][0]              \n",
            "__________________________________________________________________________________________________\n",
            "res4e_branch2b (Conv2D)         (None, 4, 4, 128)    147584      activation_305[0][0]             \n",
            "__________________________________________________________________________________________________\n",
            "bn4e_branch2b (BatchNormalizati (None, 4, 4, 128)    512         res4e_branch2b[0][0]             \n",
            "__________________________________________________________________________________________________\n",
            "activation_306 (Activation)     (None, 4, 4, 128)    0           bn4e_branch2b[0][0]              \n",
            "__________________________________________________________________________________________________\n",
            "res4e_branch2c (Conv2D)         (None, 4, 4, 512)    66048       activation_306[0][0]             \n",
            "__________________________________________________________________________________________________\n",
            "bn4e_branch2c (BatchNormalizati (None, 4, 4, 512)    2048        res4e_branch2c[0][0]             \n",
            "__________________________________________________________________________________________________\n",
            "add_75 (Add)                    (None, 4, 4, 512)    0           bn4e_branch2c[0][0]              \n",
            "                                                                 activation_304[0][0]             \n",
            "__________________________________________________________________________________________________\n",
            "activation_307 (Activation)     (None, 4, 4, 512)    0           add_75[0][0]                     \n",
            "__________________________________________________________________________________________________\n",
            "res4f_branch2a (Conv2D)         (None, 4, 4, 128)    65664       activation_307[0][0]             \n",
            "__________________________________________________________________________________________________\n",
            "bn4f_branch2a (BatchNormalizati (None, 4, 4, 128)    512         res4f_branch2a[0][0]             \n",
            "__________________________________________________________________________________________________\n",
            "activation_308 (Activation)     (None, 4, 4, 128)    0           bn4f_branch2a[0][0]              \n",
            "__________________________________________________________________________________________________\n",
            "res4f_branch2b (Conv2D)         (None, 4, 4, 128)    147584      activation_308[0][0]             \n",
            "__________________________________________________________________________________________________\n",
            "bn4f_branch2b (BatchNormalizati (None, 4, 4, 128)    512         res4f_branch2b[0][0]             \n",
            "__________________________________________________________________________________________________\n",
            "activation_309 (Activation)     (None, 4, 4, 128)    0           bn4f_branch2b[0][0]              \n",
            "__________________________________________________________________________________________________\n",
            "res4f_branch2c (Conv2D)         (None, 4, 4, 512)    66048       activation_309[0][0]             \n",
            "__________________________________________________________________________________________________\n",
            "bn4f_branch2c (BatchNormalizati (None, 4, 4, 512)    2048        res4f_branch2c[0][0]             \n",
            "__________________________________________________________________________________________________\n",
            "add_76 (Add)                    (None, 4, 4, 512)    0           bn4f_branch2c[0][0]              \n",
            "                                                                 activation_307[0][0]             \n",
            "__________________________________________________________________________________________________\n",
            "activation_310 (Activation)     (None, 4, 4, 512)    0           add_76[0][0]                     \n",
            "__________________________________________________________________________________________________\n",
            "res5a_branch2a (Conv2D)         (None, 2, 2, 256)    131328      activation_310[0][0]             \n",
            "__________________________________________________________________________________________________\n",
            "bn5a_branch2a (BatchNormalizati (None, 2, 2, 256)    1024        res5a_branch2a[0][0]             \n",
            "__________________________________________________________________________________________________\n",
            "activation_311 (Activation)     (None, 2, 2, 256)    0           bn5a_branch2a[0][0]              \n",
            "__________________________________________________________________________________________________\n",
            "res5a_branch2b (Conv2D)         (None, 2, 2, 256)    590080      activation_311[0][0]             \n",
            "__________________________________________________________________________________________________\n",
            "bn5a_branch2b (BatchNormalizati (None, 2, 2, 256)    1024        res5a_branch2b[0][0]             \n",
            "__________________________________________________________________________________________________\n",
            "activation_312 (Activation)     (None, 2, 2, 256)    0           bn5a_branch2b[0][0]              \n",
            "__________________________________________________________________________________________________\n",
            "res5a_branch2c (Conv2D)         (None, 2, 2, 1024)   263168      activation_312[0][0]             \n",
            "__________________________________________________________________________________________________\n",
            "res5a_branch1 (Conv2D)          (None, 2, 2, 1024)   525312      activation_310[0][0]             \n",
            "__________________________________________________________________________________________________\n",
            "bn5a_branch2c (BatchNormalizati (None, 2, 2, 1024)   4096        res5a_branch2c[0][0]             \n",
            "__________________________________________________________________________________________________\n",
            "bn5a_branch1 (BatchNormalizatio (None, 2, 2, 1024)   4096        res5a_branch1[0][0]              \n",
            "__________________________________________________________________________________________________\n",
            "add_77 (Add)                    (None, 2, 2, 1024)   0           bn5a_branch2c[0][0]              \n",
            "                                                                 bn5a_branch1[0][0]               \n",
            "__________________________________________________________________________________________________\n",
            "activation_313 (Activation)     (None, 2, 2, 1024)   0           add_77[0][0]                     \n",
            "__________________________________________________________________________________________________\n",
            "res5b_branch2a (Conv2D)         (None, 2, 2, 256)    262400      activation_313[0][0]             \n",
            "__________________________________________________________________________________________________\n",
            "bn5b_branch2a (BatchNormalizati (None, 2, 2, 256)    1024        res5b_branch2a[0][0]             \n",
            "__________________________________________________________________________________________________\n",
            "activation_314 (Activation)     (None, 2, 2, 256)    0           bn5b_branch2a[0][0]              \n",
            "__________________________________________________________________________________________________\n",
            "res5b_branch2b (Conv2D)         (None, 2, 2, 256)    590080      activation_314[0][0]             \n",
            "__________________________________________________________________________________________________\n",
            "bn5b_branch2b (BatchNormalizati (None, 2, 2, 256)    1024        res5b_branch2b[0][0]             \n",
            "__________________________________________________________________________________________________\n",
            "activation_315 (Activation)     (None, 2, 2, 256)    0           bn5b_branch2b[0][0]              \n",
            "__________________________________________________________________________________________________\n",
            "res5b_branch2c (Conv2D)         (None, 2, 2, 1024)   263168      activation_315[0][0]             \n",
            "__________________________________________________________________________________________________\n",
            "bn5b_branch2c (BatchNormalizati (None, 2, 2, 1024)   4096        res5b_branch2c[0][0]             \n",
            "__________________________________________________________________________________________________\n",
            "add_78 (Add)                    (None, 2, 2, 1024)   0           bn5b_branch2c[0][0]              \n",
            "                                                                 activation_313[0][0]             \n",
            "__________________________________________________________________________________________________\n",
            "activation_316 (Activation)     (None, 2, 2, 1024)   0           add_78[0][0]                     \n",
            "__________________________________________________________________________________________________\n",
            "res5c_branch2a (Conv2D)         (None, 2, 2, 256)    262400      activation_316[0][0]             \n",
            "__________________________________________________________________________________________________\n",
            "bn5c_branch2a (BatchNormalizati (None, 2, 2, 256)    1024        res5c_branch2a[0][0]             \n",
            "__________________________________________________________________________________________________\n",
            "activation_317 (Activation)     (None, 2, 2, 256)    0           bn5c_branch2a[0][0]              \n",
            "__________________________________________________________________________________________________\n",
            "res5c_branch2b (Conv2D)         (None, 2, 2, 256)    590080      activation_317[0][0]             \n",
            "__________________________________________________________________________________________________\n",
            "bn5c_branch2b (BatchNormalizati (None, 2, 2, 256)    1024        res5c_branch2b[0][0]             \n",
            "__________________________________________________________________________________________________\n",
            "activation_318 (Activation)     (None, 2, 2, 256)    0           bn5c_branch2b[0][0]              \n",
            "__________________________________________________________________________________________________\n",
            "res5c_branch2c (Conv2D)         (None, 2, 2, 1024)   263168      activation_318[0][0]             \n",
            "__________________________________________________________________________________________________\n",
            "bn5c_branch2c (BatchNormalizati (None, 2, 2, 1024)   4096        res5c_branch2c[0][0]             \n",
            "__________________________________________________________________________________________________\n",
            "add_79 (Add)                    (None, 2, 2, 1024)   0           bn5c_branch2c[0][0]              \n",
            "                                                                 activation_316[0][0]             \n",
            "__________________________________________________________________________________________________\n",
            "activation_319 (Activation)     (None, 2, 2, 1024)   0           add_79[0][0]                     \n",
            "__________________________________________________________________________________________________\n",
            "avg_pool (AveragePooling2D)     (None, 1, 1, 1024)   0           activation_319[0][0]             \n",
            "__________________________________________________________________________________________________\n",
            "flatten_12 (Flatten)            (None, 1024)         0           avg_pool[0][0]                   \n",
            "__________________________________________________________________________________________________\n",
            "fc7 (Dense)                     (None, 7)            7175        flatten_12[0][0]                 \n",
            "==================================================================================================\n",
            "Total params: 5,941,959\n",
            "Trainable params: 5,915,335\n",
            "Non-trainable params: 26,624\n",
            "__________________________________________________________________________________________________\n",
            "Epoch 1/30\n",
            "Learning rate:  0.0003\n",
            "\n",
            "Epoch 00001: LearningRateScheduler reducing learning rate to 0.0003.\n",
            "267/267 [==============================] - 28s 63ms/step - loss: 0.3998 - auc: 0.9843 - precision: 0.9044 - recall: 0.8633 - val_loss: 10.6154 - val_auc: 0.1188 - val_precision: 0.0177 - val_recall: 0.0176\n",
            "\n",
            "Epoch 00001: val_loss improved from inf to 10.61544, saving model to /content/drive/Shareddrives/Labs/2020_1_이소연/code/wm811k/model_output/1/sequential_5/001.h5\n",
            "WARNING:tensorflow:Can save best model only with val_accuracy available, skipping.\n",
            "Epoch 2/30\n",
            "Learning rate:  0.0003\n",
            "\n",
            "Epoch 00002: LearningRateScheduler reducing learning rate to 0.0003.\n",
            "267/267 [==============================] - 15s 57ms/step - loss: 0.1248 - auc: 0.9955 - precision: 0.9706 - recall: 0.9675 - val_loss: 13.9503 - val_auc: 0.3837 - val_precision: 0.0255 - val_recall: 0.0253\n",
            "\n",
            "Epoch 00002: val_loss did not improve from 10.61544\n",
            "WARNING:tensorflow:Can save best model only with val_accuracy available, skipping.\n",
            "Epoch 3/30\n",
            "Learning rate:  0.0003\n",
            "\n",
            "Epoch 00003: LearningRateScheduler reducing learning rate to 0.0003.\n",
            "267/267 [==============================] - 15s 55ms/step - loss: 0.0716 - auc: 0.9977 - precision: 0.9818 - recall: 0.9803 - val_loss: 0.3124 - val_auc: 0.9847 - val_precision: 0.9648 - val_recall: 0.9643\n",
            "\n",
            "Epoch 00003: val_loss improved from 10.61544 to 0.31243, saving model to /content/drive/Shareddrives/Labs/2020_1_이소연/code/wm811k/model_output/1/sequential_5/003.h5\n",
            "WARNING:tensorflow:Can save best model only with val_accuracy available, skipping.\n",
            "Epoch 4/30\n",
            "Learning rate:  0.0003\n",
            "\n",
            "Epoch 00004: LearningRateScheduler reducing learning rate to 0.0003.\n",
            "267/267 [==============================] - 16s 60ms/step - loss: 0.0484 - auc: 0.9989 - precision: 0.9876 - recall: 0.9859 - val_loss: 0.3366 - val_auc: 0.9850 - val_precision: 0.9636 - val_recall: 0.9621\n",
            "\n",
            "Epoch 00004: val_loss did not improve from 0.31243\n",
            "WARNING:tensorflow:Can save best model only with val_accuracy available, skipping.\n"
          ],
          "name": "stdout"
        }
      ]
    },
    {
      "cell_type": "code",
      "metadata": {
        "id": "1EcVmSJtktCK"
      },
      "source": [
        "y_predict = model5.predict(x_test)"
      ],
      "execution_count": 121,
      "outputs": []
    },
    {
      "cell_type": "code",
      "metadata": {
        "id": "ScY-ldtuktCP"
      },
      "source": [
        "y_pred_ = np.ones(len(y_predict))\n",
        "y_test_ = np.ones(len(y_2))\n",
        "for i in range(len(y_pred_)):\n",
        "    y_pred_[i] = np.argmax(y_predict[i])\n",
        "    y_test_[i] = np.argmax(y_2[i])"
      ],
      "execution_count": 122,
      "outputs": []
    },
    {
      "cell_type": "code",
      "metadata": {
        "colab": {
          "base_uri": "https://localhost:8080/"
        },
        "id": "eRy-Ko3BktCP",
        "outputId": "66cddf65-bd85-4601-acbf-382daf98d288"
      },
      "source": [
        "# resmis_index = np.where(pred_decode != resy_test_decode)\n",
        "print(classification_report(y_test_, y_pred_, target_names=labels))"
      ],
      "execution_count": 123,
      "outputs": [
        {
          "output_type": "stream",
          "text": [
            "              precision    recall  f1-score   support\n",
            "\n",
            "      Center       0.00      0.00      0.00         7\n",
            "    Edge-Loc       0.72      0.26      0.38        50\n",
            "   Edge-Ring       0.71      0.43      0.54        23\n",
            "         Loc       0.43      0.22      0.29        41\n",
            "   Near-full       0.50      1.00      0.67         7\n",
            "     Scratch       0.00      0.00      0.00        23\n",
            "        none       0.97      1.00      0.98      3094\n",
            "\n",
            "    accuracy                           0.96      3245\n",
            "   macro avg       0.48      0.42      0.41      3245\n",
            "weighted avg       0.95      0.96      0.95      3245\n",
            "\n"
          ],
          "name": "stdout"
        }
      ]
    },
    {
      "cell_type": "code",
      "metadata": {
        "colab": {
          "base_uri": "https://localhost:8080/",
          "height": 612
        },
        "id": "XWNlSmJKkSfF",
        "outputId": "8d31d4b3-b56f-4a22-825e-77980684b070"
      },
      "source": [
        "np.set_printoptions(precision=2)\n",
        "\n",
        "# Plot non-normalized confusion matrix]\n",
        "plot_confusion_matrix2(y_test_, y_pred_, classes=labels, title='Confusion matrix, without normalization')\n",
        "\n",
        "# Plot normalized confusion matrix]\n",
        "plot_confusion_matrix2(y_test_, y_pred_, classes=labels, normalize=True, title='Normalized confusion matrix')\n",
        "\n",
        "plt.show()"
      ],
      "execution_count": 126,
      "outputs": [
        {
          "output_type": "stream",
          "text": [
            "Confusion matrix, without normalization\n",
            "Normalized confusion matrix\n"
          ],
          "name": "stdout"
        },
        {
          "output_type": "display_data",
          "data": {
            "image/png": "[encoded data removed]",
            "text/plain": [
              "<Figure size 432x288 with 2 Axes>"
            ]
          },
          "metadata": {
            "tags": [],
            "needs_background": "light"
          }
        },
        {
          "output_type": "display_data",
          "data": {
            "image/png": "[encoded data removed]",
            "text/plain": [
              "<Figure size 432x288 with 2 Axes>"
            ]
          },
          "metadata": {
            "tags": [],
            "needs_background": "light"
          }
        }
      ]
    },
    {
      "cell_type": "code",
      "metadata": {
        "id": "QAwcfDClPKMQ"
      },
      "source": [
        ""
      ],
      "execution_count": null,
      "outputs": []
    },
    {
      "cell_type": "code",
      "metadata": {
        "colab": {
          "base_uri": "https://localhost:8080/"
        },
        "id": "3_zLLSvoFSFX",
        "outputId": "47df9a47-ef58-4b92-e539-1e549cb67823"
      },
      "source": [
        "# denoising autoencoder\n",
        "noise = np.random.normal(loc=0.5, scale=0.5, size=x_train.shape)\n",
        "x_train_noise = x_train + noise\n",
        "noise = np.random.normal(loc=0.5, scale=0.5, size=x_test.shape)\n",
        "x_test_noise = x_test + noise\n",
        "\n",
        "encoder = Model(input_tensor, latent_vector)\n",
        "decoder_input = Input((16, 16, 64))\n",
        "decode = Conv2DTranspose(64, (3,3), padding='same', activation='relu')(decoder_input)\n",
        "decode = UpSampling2D()(decode)\n",
        "decoder = Model(decoder_input, output_tensor(decode))\n",
        "\n",
        "noise = Model(input_tensor, decoder(encoder(input_tensor)))\n",
        "noise.summary()\n",
        "noise.compile(loss='mse', optimizer='adam', metrics=['AUC'])\n",
        "noise.fit(x_train_noise,x_train, validation_data=(x_test_noise, x_test), epochs=10, batch_size=64, callbacks=callback_list)"
      ],
      "execution_count": null,
      "outputs": [
        {
          "output_type": "stream",
          "text": [
            "Model: \"model_3\"\n",
            "_________________________________________________________________\n",
            "Layer (type)                 Output Shape              Param #   \n",
            "=================================================================\n",
            "input_1 (InputLayer)         [(None, 32, 32, 3)]       0         \n",
            "_________________________________________________________________\n",
            "model_1 (Functional)         (None, 16, 16, 64)        1792      \n",
            "_________________________________________________________________\n",
            "model_2 (Functional)         (None, 32, 32, 3)         38659     \n",
            "=================================================================\n",
            "Total params: 40,451\n",
            "Trainable params: 40,451\n",
            "Non-trainable params: 0\n",
            "_________________________________________________________________\n",
            "Epoch 1/10\n",
            "89/89 [==============================] - 4s 35ms/step - loss: 0.0818 - auc: 0.9319 - val_loss: 0.0527 - val_auc: 0.9781\n",
            "Epoch 2/10\n",
            "89/89 [==============================] - 3s 31ms/step - loss: 0.0474 - auc: 0.9824 - val_loss: 0.0438 - val_auc: 0.9848\n",
            "Epoch 3/10\n",
            "89/89 [==============================] - 3s 31ms/step - loss: 0.0414 - auc: 0.9864 - val_loss: 0.0393 - val_auc: 0.9875\n"
          ],
          "name": "stdout"
        },
        {
          "output_type": "execute_result",
          "data": {
            "text/plain": [
              "<tensorflow.python.keras.callbacks.History at 0x7fa436d7cf90>"
            ]
          },
          "metadata": {
            "tags": []
          },
          "execution_count": 21
        }
      ]
    },
    {
      "cell_type": "code",
      "metadata": {
        "colab": {
          "base_uri": "https://localhost:8080/"
        },
        "id": "3L9qFoAIVDpH",
        "outputId": "2197c007-6d14-4b3d-a008-3cfe7d79f451"
      },
      "source": [
        "np.where(y_test=='Scratch')"
      ],
      "execution_count": null,
      "outputs": [
        {
          "output_type": "execute_result",
          "data": {
            "text/plain": [
              "(array([ 291,  299,  516,  656,  836, 1657, 1843, 2286, 2341, 2353, 2376]),\n",
              " array([0, 0, 0, 0, 0, 0, 0, 0, 0, 0, 0]))"
            ]
          },
          "metadata": {
            "tags": []
          },
          "execution_count": 16
        }
      ]
    },
    {
      "cell_type": "code",
      "metadata": {
        "colab": {
          "base_uri": "https://localhost:8080/",
          "height": 283
        },
        "id": "lYEZILS0JEZ3",
        "outputId": "bfa0de1d-618d-4708-9367-7a09eb605239"
      },
      "source": [
        "plt.imshow(np.argmax(x_test[291], axis=2))"
      ],
      "execution_count": null,
      "outputs": [
        {
          "output_type": "execute_result",
          "data": {
            "text/plain": [
              "<matplotlib.image.AxesImage at 0x7fa435e68d10>"
            ]
          },
          "metadata": {
            "tags": []
          },
          "execution_count": 17
        },
        {
          "output_type": "display_data",
          "data": {
            "image/png": "[encoded data removed]",
            "text/plain": [
              "<Figure size 432x288 with 1 Axes>"
            ]
          },
          "metadata": {
            "tags": [],
            "needs_background": "light"
          }
        }
      ]
    },
    {
      "cell_type": "code",
      "metadata": {
        "colab": {
          "base_uri": "https://localhost:8080/",
          "height": 283
        },
        "id": "f5ZDwRz3IE5M",
        "outputId": "fc187731-972b-4def-ef77-8c797e1f0e0c"
      },
      "source": [
        "plt.imshow(np.argmax(x_test_noise[291], axis=2)) "
      ],
      "execution_count": null,
      "outputs": [
        {
          "output_type": "execute_result",
          "data": {
            "text/plain": [
              "<matplotlib.image.AxesImage at 0x7fa435a5b850>"
            ]
          },
          "metadata": {
            "tags": []
          },
          "execution_count": 22
        },
        {
          "output_type": "display_data",
          "data": {
            "image/png": "[encoded data removed]",
            "text/plain": [
              "<Figure size 432x288 with 1 Axes>"
            ]
          },
          "metadata": {
            "tags": [],
            "needs_background": "light"
          }
        }
      ]
    },
    {
      "cell_type": "code",
      "metadata": {
        "colab": {
          "base_uri": "https://localhost:8080/",
          "height": 283
        },
        "id": "AhFqyrrFrskf",
        "outputId": "cc386191-3e01-4702-8738-001ace4ae921"
      },
      "source": [
        "x_noise = noise.predict(x_test_noise) \n",
        "plt.imshow(np.argmax(x_noise[291], axis=2))"
      ],
      "execution_count": null,
      "outputs": [
        {
          "output_type": "execute_result",
          "data": {
            "text/plain": [
              "<matplotlib.image.AxesImage at 0x7fa4368b0cd0>"
            ]
          },
          "metadata": {
            "tags": []
          },
          "execution_count": 23
        },
        {
          "output_type": "display_data",
          "data": {
            "image/png": "[encoded data removed]",
            "text/plain": [
              "<Figure size 432x288 with 1 Axes>"
            ]
          },
          "metadata": {
            "tags": [],
            "needs_background": "light"
          }
        }
      ]
    },
    {
      "cell_type": "code",
      "metadata": {
        "id": "eWA1w-WEG9nx"
      },
      "source": [
        "# Generate data\n",
        "def gen_data(wafer, label):\n",
        "    encoded_x = encoder.predict(wafer)\n",
        "    \n",
        "    gen_x = np.zeros((1, 26, 26, 3))\n",
        "    \n",
        "    for i in range((2000//len(wafer)) + 1):\n",
        "        noised_encoded_x = encoded_x + np.random.normal(loc=0, scale=0.1, size = (len(encoded_x), 13, 13, 64)) \n",
        "        noised_gen_x = decoder.predict(noised_encoded_x)\n",
        "        gen_x = np.concatenate((gen_x, noised_gen_x), axis=0)\n",
        "    gen_y = np.full((len(gen_x), 1), label)\n",
        "    \n",
        "    return gen_x[1:], gen_y[1:]"
      ],
      "execution_count": null,
      "outputs": []
    },
    {
      "cell_type": "code",
      "metadata": {
        "id": "FjZfWyxhHFXA"
      },
      "source": [
        "for f in faulty_case : \n",
        "    # skip none case\n",
        "    if f == 'none' : \n",
        "        continue\n",
        "    \n",
        "    gen_x, gen_y = gen_data(new_x[np.where(y==f)[0]], f)\n",
        "    new_x = np.concatenate((new_x, gen_x), axis=0)\n",
        "    y = np.concatenate((y, gen_y))"
      ],
      "execution_count": null,
      "outputs": []
    },
    {
      "cell_type": "code",
      "metadata": {
        "id": "Pf7ovyEzHFg9"
      },
      "source": [
        "for f in faulty_case :\n",
        "    print('{} : {}'.format(f, len(y[y==f])))"
      ],
      "execution_count": null,
      "outputs": []
    },
    {
      "cell_type": "code",
      "metadata": {
        "id": "08lzbQaaEFxv"
      },
      "source": [
        "# Simple CNN \n",
        "def create_model():\n",
        "    input_shape = (26, 26, 3)\n",
        "    input_tensor = Input(input_shape)\n",
        "\n",
        "    conv_1 = layers.Conv2D(16, (3,3), activation='relu', padding='same')(input_tensor)\n",
        "    conv_2 = layers.Conv2D(64, (3,3), activation='relu', padding='same')(conv_1)\n",
        "    conv_3 = layers.Conv2D(128, (3,3), activation='relu', padding='same')(conv_2)\n",
        "  \n",
        "    flat = layers.Flatten()(conv_3)\n",
        "\n",
        "    dense_1 = layers.Dense(512, activation='relu')(flat)\n",
        "    dense_2 = layers.Dense(128, activation='relu')(dense_1)\n",
        "    output_tensor = layers.Dense(9, activation='softmax')(dense_2)\n",
        "\n",
        "    model = models.Model(input_tensor, output_tensor)\n",
        "    model.compile(optimizer='Adam',\n",
        "                 loss='categorical_crossentropy',\n",
        "                 metrics=['accuracy'])\n",
        "\n",
        "    return model"
      ],
      "execution_count": null,
      "outputs": []
    },
    {
      "cell_type": "code",
      "metadata": {
        "id": "XuTfmcfQD_6b"
      },
      "source": [
        "model = KerasClassifier(build_fn=create_model, epochs=30, batch_size=1024, verbose=2) \n",
        "# 3-Fold Crossvalidation\n",
        "kfold = KFold(n_splits=3, shuffle=True, random_state=2019) \n",
        "results = cross_val_score(model, x_train, y_train, cv=kfold)\n",
        "# Check 3-fold model's mean accuracy\n",
        "print('Simple CNN Cross validation score : {:.4f}'.format(np.mean(results)))"
      ],
      "execution_count": null,
      "outputs": []
    },
    {
      "cell_type": "code",
      "metadata": {
        "id": "3kKbSASjBSJs"
      },
      "source": [
        "predicted_classes = simple.predict(x_test)\n",
        "predicted_classes = np.argmax(np.round(predicted_classes),axis=1)"
      ],
      "execution_count": null,
      "outputs": []
    },
    {
      "cell_type": "code",
      "metadata": {
        "colab": {
          "base_uri": "https://localhost:8080/"
        },
        "id": "DJELWuZsCk1R",
        "outputId": "5ebb1cb0-af33-45a6-9e9f-a48e89f4a369"
      },
      "source": [
        "predicted_classes.shape"
      ],
      "execution_count": null,
      "outputs": [
        {
          "output_type": "execute_result",
          "data": {
            "text/plain": [
              "(2438, 32, 3)"
            ]
          },
          "metadata": {
            "tags": []
          },
          "execution_count": 60
        }
      ]
    },
    {
      "cell_type": "code",
      "metadata": {
        "id": "ROSlqCoHrske"
      },
      "source": [
        "def plot_confusion_matrix(cm, normalize=False, title='Confusion matrix', cmap=plt.cm.Blues):\n",
        "\n",
        "    if normalize:\n",
        "        cm = cm.astype('float') / cm.sum(axis=1)[:, np.newaxis]\n",
        "        print(\"Normalized confusion matrix\")\n",
        "    else:\n",
        "        print('Confusion matrix, without normalization')\n",
        "\n",
        "    plt.imshow(cm, interpolation='nearest', cmap=cmap)\n",
        "    plt.title(title)\n",
        "    plt.colorbar()\n",
        "\n",
        "    fmt = '.2f' if normalize else 'd'\n",
        "    thresh = cm.max() / 2.\n",
        "    for i, j in itertools.product(range(cm.shape[0]), range(cm.shape[1])):\n",
        "        plt.text(j, i, format(cm[i, j], fmt),\n",
        "                 horizontalalignment=\"center\",\n",
        "                 color=\"white\" if cm[i, j] > thresh else \"black\")\n",
        "\n",
        "    plt.tight_layout()\n",
        "    plt.ylabel('True label')\n",
        "    plt.xlabel('Predicted label')  "
      ],
      "execution_count": null,
      "outputs": []
    },
    {
      "cell_type": "code",
      "metadata": {
        "id": "xMypFBdp7k7E"
      },
      "source": [
        "# mapping_type = {'Center':0,'Donut':1,'Edge-Loc':2,'Edge-Ring':3,'Loc':4,'Random':5,'Scratch':6,'Near-full':7,'none':8}\n",
        "\n",
        "y_train_pred = simple.predict(x_train)\n",
        "y_test_pred = simple.predict(x_test)\n",
        "\n",
        "cnf_matrix = confusion_matrix(y_test, y_test_pred)\n",
        "np.set_printoptions(precision=2)\n",
        "\n",
        "fig = plt.figure(figsize=(15, 8)) \n",
        "gs = gridspec.GridSpec(1, 2, width_ratios=[1, 1]) \n",
        "\n",
        "plt.subplot(gs[0])\n",
        "plot_confusion_matrix(cnf_matrix, title='Confusion matrix')\n",
        "\n",
        "plt.subplot(gs[1])\n",
        "plot_confusion_matrix(cnf_matrix, normalize=True, title='Normalized confusion matrix')\n",
        "\n",
        "plt.show()"
      ],
      "execution_count": null,
      "outputs": []
    },
    {
      "cell_type": "code",
      "metadata": {
        "id": "CDvaF2RErske"
      },
      "source": [
        "# variational autoencoder\n",
        "batch_size = 100\n",
        "original_dim = 128*128\n",
        "latent_dim = 3\n",
        "epochs = 50\n",
        "epsilon_std = 1.0\n",
        "\n",
        "\n",
        "x = Input(shape=(original_dim,))\n",
        "h = Dense(128)(x)\n",
        "#h = BatchNormalization()(h)\n",
        "h = Activation('relu')(h)\n",
        "h = Dense(64)(h)\n",
        "#h = BatchNormalization()(h)\n",
        "h = Activation('relu')(h)\n",
        "h = Dense(32)(h)\n",
        "#h = BatchNormalization()(h)\n",
        "h = Activation('relu')(h)\n",
        "z_mean = Dense(latent_dim)(h)\n",
        "z_log_var = Dense(latent_dim)(h)\n",
        "def sampling(args):\n",
        "    z_mean, z_log_var = args\n",
        "    epsilon = K.random_normal(shape=(K.shape(z_mean)[0], latent_dim), mean=0., stddev=epsilon_std)\n",
        "    return z_mean + K.exp(z_log_var / 2) * epsilon\n",
        "\n",
        "z = Lambda(sampling, output_shape=(latent_dim,))([z_mean, z_log_var])\n",
        "\n",
        "decoder_h = Dense(32, activation='relu')\n",
        "decoder_h2 = Dense(64, activation='relu')\n",
        "decoder_h3 = Dense(128, activation='relu')\n",
        "decoder_mean = Dense(original_dim, activation='sigmoid')\n",
        "h_decoded = decoder_h(z)\n",
        "h_decoded = decoder_h2(h_decoded)\n",
        "h_decoded = decoder_h3(h_decoded)\n",
        "x_decoded_mean = decoder_mean(h_decoded)\n",
        "\n",
        "loss_log = []\n",
        "\n",
        "class CustomVariationalLayer(Layer):\n",
        "    def __init__(self, **kwargs):\n",
        "        self.is_placeholder = True\n",
        "        super(CustomVariationalLayer, self).__init__(**kwargs)\n",
        "\n",
        "    def vae_loss(self, x, x_decoded_mean):\n",
        "        xent_loss = original_dim * metrics.binary_crossentropy(x, x_decoded_mean)\n",
        "        kl_loss = - 0.5 * K.sum(1 + z_log_var - K.square(z_mean) - K.exp(z_log_var), axis=-1)\n",
        "        return K.mean(xent_loss + kl_loss)\n",
        "\n",
        "    def call(self, inputs):\n",
        "        x = inputs[0]\n",
        "        x_decoded_mean = inputs[1]\n",
        "        loss = self.vae_loss(x, x_decoded_mean)\n",
        "        self.add_loss(loss, inputs=inputs)\n",
        "        # We won't actually use the output.\n",
        "        return x\n",
        "\n",
        "y = CustomVariationalLayer()([x, x_decoded_mean])\n",
        "vae = Model(x, y)\n",
        "vae.compile(optimizer='rmsprop', loss=None)\n",
        "\n",
        "x_train = load_wafers('clean2_train')\n",
        "x_train = (x_train + 1) / 2\n",
        "#x_train = x_train.reshape(x_train.shape[0], 128, 128)\n",
        "x_train = x_train.reshape((len(x_train), np.prod(x_train.shape[1:])))"
      ],
      "execution_count": null,
      "outputs": []
    },
    {
      "cell_type": "code",
      "metadata": {
        "id": "YDno_JQ0rskf"
      },
      "source": [
        "vae.fit(x_train,\n",
        "        shuffle=True,\n",
        "        epochs=100,\n",
        "        batch_size=batch_size)"
      ],
      "execution_count": null,
      "outputs": []
    },
    {
      "cell_type": "code",
      "metadata": {
        "id": "TX2KIkwOHx4G"
      },
      "source": [
        "# VGG-16 (Simplified)\n",
        "ddef VGG16(include_top=True,  pooling=None, classes=9):\n",
        "\n",
        "    input_shape = (27, 27, 3)\n",
        "    input_tensor = Input(input_shape)\n",
        "    \n",
        "    # Block 1\n",
        "    x = layers.Conv2D(64, (3, 3),\n",
        "                      activation='relu',\n",
        "                      padding='same',\n",
        "                      name='block1_conv1')(input_tensor)\n",
        "    x = layers.Conv2D(64, (3, 3),\n",
        "                      activation='relu',\n",
        "                      padding='same',\n",
        "                      name='block1_conv2')(x)\n",
        "    x = layers.MaxPooling2D((2, 2), name='block1_pool')(x)\n",
        "\n",
        "    # Block 2\n",
        "    x = layers.Conv2D(128, (3, 3),\n",
        "                      activation='relu',\n",
        "                      padding='same',\n",
        "                      name='block2_conv1')(x)\n",
        "    x = layers.Conv2D(128, (3, 3),\n",
        "                      activation='relu',\n",
        "                      padding='same',\n",
        "                      name='block2_conv2')(x)\n",
        "    x = layers.MaxPooling2D((2, 2), name='block2_pool')(x)\n",
        "\n",
        "    # Block 3\n",
        "    x = layers.Conv2D(256, (3, 3),\n",
        "                      activation='relu',\n",
        "                      padding='same',\n",
        "                      name='block3_conv1')(x)\n",
        "    x = layers.Conv2D(256, (3, 3),\n",
        "                      activation='relu',\n",
        "                      padding='same',\n",
        "                      name='block3_conv2')(x)\n",
        "    x = layers.Conv2D(256, (3, 3),\n",
        "                      activation='relu',\n",
        "                      padding='same',\n",
        "                      name='block3_conv3')(x)\n",
        "    x = layers.MaxPooling2D((2, 2), name='block3_pool')(x)\n",
        "    \n",
        "    # Block 4\n",
        "    x = layers.Conv2D(512, (3, 3),\n",
        "                      activation='relu',\n",
        "                      padding='same',\n",
        "                      name='block4_conv1')(x)\n",
        "    x = layers.Conv2D(512, (3, 3),\n",
        "                      activation='relu',\n",
        "                      padding='same',\n",
        "                      name='block4_conv2')(x)\n",
        "    x = layers.Conv2D(512, (3, 3),\n",
        "                      activation='relu',\n",
        "                      padding='same',\n",
        "                      name='block4_conv3')(x)\n",
        "    x = layers.MaxPooling2D((2, 2), name='block4_pool')(x)\n",
        "\n",
        "    if include_top:\n",
        "        # Classification block\n",
        "        x = layers.Flatten(name='flatten')(x)\n",
        "        x = layers.Dense(1028, activation='relu', name='fc1')(x)\n",
        "        x = layers.Dense(1028, activation='relu', name='fc2')(x)\n",
        "        x = layers.Dense(classes, activation='softmax', name='predictions')(x)\n",
        "    else:\n",
        "        if pooling == 'avg':\n",
        "            x = layers.GlobalAveragePooling2D()(x)\n",
        "        elif pooling == 'max':\n",
        "            x = layers.GlobalMaxPooling2D()(x)\n",
        "\n",
        "    # Create model.\n",
        "    model = models.Model(input_tensor, x, name='vgg16') \n",
        "\n",
        "    return model"
      ],
      "execution_count": null,
      "outputs": []
    },
    {
      "cell_type": "code",
      "metadata": {
        "id": "sCqP8fsDHx7c"
      },
      "source": [
        "VGG_model = VGG16(include_top=True,  pooling=None, classes=9)\n",
        "W0_model.summary()\n",
        "VGG_model.compile(optimizer= optimizers.Adam(learning_rate=0.001), loss='categorical_crossentropy', metrics=['accuracy'])\n",
        "VGG_Hist = VGG_model.fit(nsx_train, y_train, epochs=50, validation_data=[nx_test, y_test], batch_size=900, shuffle=True)"
      ],
      "execution_count": null,
      "outputs": []
    },
    {
      "cell_type": "code",
      "metadata": {
        "id": "fvs9GszdIhFu"
      },
      "source": [
        "# ResNet50\n",
        "from keras.layers import Input, Add, Dense, Activation, ZeroPadding2D, BatchNormalization, Flatten, Conv2D, AveragePooling2D, MaxPooling2D, GlobalMaxPooling2D\n",
        "from keras.initializers import glorot_uniform\n",
        "\n",
        "def identity_block(X, f, filters, stage, block):\n",
        "    \n",
        "    # defining name basis\n",
        "    conv_name_base = 'res' + str(stage) + block + '_branch'\n",
        "    bn_name_base = 'bn' + str(stage) + block + '_branch'\n",
        "    \n",
        "    # Retrieve Filters\n",
        "    F1, F2, F3 = filters\n",
        "    \n",
        "    # Save the input value. You'll need this later to add back to the main path. \n",
        "    X_shortcut = X\n",
        "    \n",
        "    # First component of main path\n",
        "    X = Conv2D(filters = F1, kernel_size = (1, 1), strides = (1,1), padding = 'valid', name = conv_name_base + '2a', kernel_initializer = glorot_uniform(seed=0))(X)\n",
        "    X = BatchNormalization(axis = 3, name = bn_name_base + '2a')(X)\n",
        "    X = Activation('relu')(X)\n",
        "    \n",
        "    ### START CODE HERE ###\n",
        "    \n",
        "    # Second component of main path (≈3 lines)\n",
        "    X = Conv2D(filters = F2, kernel_size = (f,f), strides = (1,1), padding = 'same', name = conv_name_base + '2b', kernel_initializer = glorot_uniform(seed=0))(X)\n",
        "    X = BatchNormalization(axis = 3, name = bn_name_base + '2b')(X)\n",
        "    X = Activation('relu')(X)\n",
        "\n",
        "    # Third component of main path (≈2 lines)\n",
        "    X = Conv2D(filters = F3, kernel_size = (1,1), strides = (1,1), padding = 'valid', name = conv_name_base + '2c', kernel_initializer = glorot_uniform(seed=0))(X)\n",
        "    X = BatchNormalization(axis = 3, name = bn_name_base + '2c')(X)\n",
        "\n",
        "    # Final step: Add shortcut value to main path, and pass it through a RELU activation (≈2 lines)\n",
        "    X = Add()([X, X_shortcut])\n",
        "    X = Activation('relu')(X)\n",
        "    \n",
        "    return X\n",
        "\n",
        "\n",
        "def convolutional_block(X, f, filters, stage, block, s = 2):\n",
        "   \n",
        "    # defining name basis\n",
        "    conv_name_base = 'res' + str(stage) + block + '_branch'\n",
        "    bn_name_base = 'bn' + str(stage) + block + '_branch'\n",
        "    \n",
        "    # Retrieve Filters\n",
        "    F1, F2, F3 = filters\n",
        "    \n",
        "    # Save the input value\n",
        "    X_shortcut = X\n",
        "\n",
        "\n",
        "    ##### MAIN PATH #####\n",
        "    # First component of main path \n",
        "    X = Conv2D(F1, (1, 1), strides = (s,s), padding = 'valid', name = conv_name_base + '2a', kernel_initializer = glorot_uniform(seed=0))(X)\n",
        "    X = BatchNormalization(axis = 3, name = bn_name_base + '2a')(X)\n",
        "    X = Activation('relu')(X)\n",
        "    \n",
        "    ### START CODE HERE ###\n",
        "\n",
        "    # Second component of main path (≈3 lines)\n",
        "    X = Conv2D(F2, (f, f), strides = (1,1), padding = 'same', name = conv_name_base + '2b', kernel_initializer = glorot_uniform(seed=0))(X)\n",
        "    X = BatchNormalization(axis = 3, name = bn_name_base + '2b')(X)\n",
        "    X = Activation('relu')(X)\n",
        "\n",
        "    # Third component of main path (≈2 lines)\n",
        "    X = Conv2D(F3, (1, 1), strides = (1,1), padding = 'valid', name = conv_name_base + '2c', kernel_initializer = glorot_uniform(seed=0))(X)\n",
        "    X = BatchNormalization(axis = 3, name = bn_name_base + '2c')(X)\n",
        "\n",
        "    ##### SHORTCUT PATH #### (≈2 lines)\n",
        "    X_shortcut = Conv2D(F3, (1, 1), strides = (s,s), padding = 'valid', name = conv_name_base + '1', kernel_initializer = glorot_uniform(seed=0))(X_shortcut)\n",
        "    X_shortcut = BatchNormalization(axis = 3, name = bn_name_base + '1')(X_shortcut)\n",
        "\n",
        "    # Final step: Add shortcut value to main path, and pass it through a RELU activation (≈2 lines)\n",
        "    X = Add()([X, X_shortcut])\n",
        "    X = Activation('relu')(X)\n",
        "    \n",
        "    return X\n",
        "\n",
        "def ResNet50(input_shape = (27, 27, 3), classes = 9):\n",
        "    \n",
        "    # Define the input as a tensor with shape input_shape\n",
        "    X_input = Input(input_shape)\n",
        "\n",
        "    \n",
        "    # Zero-Padding\n",
        "    X = ZeroPadding2D((1, 1))(X_input)\n",
        "    \n",
        "    # Stage 1\n",
        "    X = Conv2D(64, (3, 3), name = 'conv1', kernel_initializer = glorot_uniform(seed=0))(X)\n",
        "    X = BatchNormalization(axis = 3, name = 'bn_conv1')(X)\n",
        "    X = Activation('relu')(X)\n",
        "    X = MaxPooling2D((2, 2))(X)\n",
        "\n",
        "    # Stage 2\n",
        "    X = convolutional_block(X, f = 3, filters = [32,32,128], stage = 2, block='a', s = 1)\n",
        "    X = identity_block(X, 3, [32,32,128], stage=2, block='b')\n",
        "    X = identity_block(X, 3, [32,32,128], stage=2, block='c')\n",
        "\n",
        "    # Stage 3 (≈4 lines)\n",
        "    X = convolutional_block(X, f = 3, filters = [64,64,256], stage = 3, block='a', s = 2)\n",
        "    X = identity_block(X, 3, [64,64,256], stage=3, block='b')\n",
        "    X = identity_block(X, 3, [64,64,256], stage=3, block='c')\n",
        "    X = identity_block(X, 3, [64,64,256], stage=3, block='d')\n",
        "\n",
        "       # Stage 4 (≈6 lines)\n",
        "    X = convolutional_block(X, f = 3, filters = [128,128,512], stage = 4, block='a', s = 2)\n",
        "    X = identity_block(X, 3, [128,128,512], stage=4, block='b')\n",
        "    X = identity_block(X, 3, [128,128,512], stage=4, block='c')\n",
        "    X = identity_block(X, 3, [128,128,512], stage=4, block='d')\n",
        "    X = identity_block(X, 3, [128,128,512], stage=4, block='e')\n",
        "    X = identity_block(X, 3, [128,128,512], stage=4, block='f')\n",
        "\n",
        "    # Stage 5 (≈3 lines)\n",
        "    X = convolutional_block(X, f = 3, filters = [256, 256, 1024], stage = 5, block='a', s = 2)\n",
        "    X = identity_block(X, 3, [256, 256, 1024], stage=5, block='b')\n",
        "    X = identity_block(X, 3, [256, 256, 1024], stage=5, block='c')\n",
        "\n",
        "    # AVGPOOL (≈1 line). Use \"X = AveragePooling2D(...)(X)\"\n",
        "    X = AveragePooling2D(pool_size=(2,2), name = \"avg_pool\")(X)\n",
        "\n",
        "    # output layer\n",
        "    X = Flatten()(X)\n",
        "    X = Dense(classes, activation='softmax', name='fc' + str(classes), kernel_initializer = glorot_uniform(seed=0))(X)\n",
        "    \n",
        "    \n",
        "    # Create model\n",
        "    model = models.Model(inputs = X_input, outputs = X, name='ResNet50')\n",
        "\n",
        "    return model"
      ],
      "execution_count": null,
      "outputs": []
    },
    {
      "cell_type": "code",
      "metadata": {
        "id": "-4awfCsiI8Iw"
      },
      "source": [
        "Rmodel0 = ResNet50(input_shape = (27, 27, 3), classes = 9)\n",
        "Rmodel0.compile(optimizer= optimizers.Adam(learning_rate=0.001), loss='categorical_crossentropy', metrics=['accuracy'])\n",
        "Resnet_hist = Rmodel0.fit(nsx_train, y_train, epochs=30, validation_data=[nx_test, y_test], batch_size = 700, shuffle=True)"
      ],
      "execution_count": null,
      "outputs": []
    },
    {
      "cell_type": "code",
      "metadata": {
        "id": "N5yURLFPJDXS"
      },
      "source": [
        ""
      ],
      "execution_count": null,
      "outputs": []
    }
  ]
}