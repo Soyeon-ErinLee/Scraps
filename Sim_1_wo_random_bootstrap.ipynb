{
  "nbformat": 4,
  "nbformat_minor": 0,
  "metadata": {
    "accelerator": "GPU",
    "colab": {
      "name": "Sim_1_wo  random_bootstrap.ipynb",
      "provenance": [],
      "collapsed_sections": [
        "Ecq_PDJhreNC",
        "XV4CLW_JJ0bM",
        "zQuODoZeZ1BG",
        "wPf8gMFCDhOU",
        "EZBFW51bDo2h",
        "iIaUw-ktj6Q2",
        "Ipi_Hry4sHxX",
        "pBZE9QvMv0Vs",
        "58E3wKUUv5Er"
      ]
    },
    "kernelspec": {
      "display_name": "Python 3",
      "language": "python",
      "name": "python3"
    },
    "language_info": {
      "codemirror_mode": {
        "name": "ipython",
        "version": 3
      },
      "file_extension": ".py",
      "mimetype": "text/x-python",
      "name": "python",
      "nbconvert_exporter": "python",
      "pygments_lexer": "ipython3",
      "version": "3.8.8"
    }
  },
  "cells": [
    {
      "cell_type": "code",
      "metadata": {
        "colab": {
          "base_uri": "https://localhost:8080/"
        },
        "id": "q7EmlnM3rxvd",
        "outputId": "707f815d-95eb-46cc-b544-1a39a4bcc83f"
      },
      "source": [
        " from google.colab import drive\n",
        "drive.mount('/content/drive')"
      ],
      "execution_count": 1,
      "outputs": [
        {
          "output_type": "stream",
          "name": "stdout",
          "text": [
            "Mounted at /content/drive\n"
          ]
        }
      ]
    },
    {
      "cell_type": "code",
      "metadata": {
        "id": "Tu11ZWycrskS"
      },
      "source": [
        "import numpy as np\n",
        "import pandas as pd\n",
        "import matplotlib.pyplot as plt\n",
        "%matplotlib inline \n",
        "import tensorflow as tf\n",
        "import os\n",
        "from os import chdir as cd\n",
        "import warnings\n",
        "import cv2\n",
        "import pickle\n",
        "import random\n",
        "from matplotlib import gridspec   \n",
        "from matplotlib import cm\n",
        "from scipy import interpolate\n",
        "from scipy import stats\n",
        "from sklearn.svm import LinearSVC\n",
        "from sklearn.multiclass import OneVsOneClassifier\n",
        "from sklearn.model_selection import train_test_split\n",
        "from sklearn.preprocessing import OneHotEncoder, LabelEncoder\n",
        "from sklearn.metrics import confusion_matrix, f1_score, classification_report\n",
        "from tqdm import tqdm\n",
        "import itertools\n",
        "import functools\n",
        "from functools import partial\n",
        "from tensorflow.keras import backend as K \n",
        "from tensorflow.keras.initializers import glorot_uniform\n",
        "from tensorflow.keras.metrics import top_k_categorical_accuracy as tCA\n",
        "from tensorflow.keras.metrics import Recall\n",
        "from tensorflow.keras.metrics import CategoricalCrossentropy\n",
        "from tensorflow.keras.regularizers import l1,l2,l1_l2\n",
        "from tensorflow.keras.optimizers import Adam, RMSprop , SGD\n",
        "from tensorflow.keras.layers import add, concatenate, multiply\n",
        "from tensorflow.keras.layers import Dense, Dropout, Activation, Flatten, Input, Concatenate, GlobalMaxPooling2D, Reshape , Lambda , Add, Multiply, LeakyReLU\n",
        "from tensorflow.keras.layers import Conv2D, MaxPool2D, Conv2DTranspose, UpSampling2D, BatchNormalization, MaxPooling2D, Flatten, GlobalAveragePooling2D, Activation, AveragePooling2D , ZeroPadding2D, SeparableConv2D, Dropout\n",
        "from tensorflow.keras.models import Model, load_model , Sequential\n",
        "from tensorflow.keras.utils import plot_model, to_categorical\n",
        "from tensorflow.keras.callbacks import EarlyStopping , LearningRateScheduler, ModelCheckpoint, CSVLogger, Callback, ReduceLROnPlateau\n",
        "warnings.filterwarnings(\"ignore\")"
      ],
      "execution_count": 56,
      "outputs": []
    },
    {
      "cell_type": "code",
      "metadata": {
        "id": "Vtfyxmyafgwo"
      },
      "source": [
        "cd(\"/content/drive/Shareddrives/Labs/2020_1_이소연/code\")\n",
        "from lrn import LRN\n",
        "from f1score import macro_f1score\n",
        "labels = ['Center','Edge-Loc','Edge-Ring','Loc','Near-full','Scratch','none']"
      ],
      "execution_count": 3,
      "outputs": []
    },
    {
      "cell_type": "code",
      "metadata": {
        "id": "WtKJewc529Sd"
      },
      "source": [
        "!cat /proc/cpuinfo"
      ],
      "execution_count": null,
      "outputs": []
    },
    {
      "cell_type": "markdown",
      "metadata": {
        "id": "Ecq_PDJhreNC"
      },
      "source": [
        "# **Preprocessing**"
      ]
    },
    {
      "cell_type": "code",
      "metadata": {
        "id": "Tr_WVJQ5iUV5"
      },
      "source": [
        "os.chdir(\"/content/drive/Shareddrives/Labs/2020_1_이소연/code\")\n",
        "df=pd.read_pickle(\"LSWMD.pkl\")\n",
        "df = df.drop(['waferIndex'], axis = 1)\n",
        "def find_dim(x):\n",
        "    dim0=np.size(x,axis=0)\n",
        "    dim1=np.size(x,axis=1)\n",
        "    return dim0,dim1\n",
        "df['waferMapDim']=df.waferMap.apply(find_dim)\n",
        "# Mapping\n",
        "df['failureNum'] = df.failureType\n",
        "df['trainTestNum'] = df.trianTestLabel\n",
        "mapping_type = {'Center':0,'Donut':1,'Edge-Loc':2,'Edge-Ring':3,'Loc':4,'Random':5,'Scratch':6,'Near-full':7,'none':8}\n",
        "mapping_traintest = {'Training':0,'Test':1}\n",
        "df=df.replace({'failureNum':mapping_type, 'trainTestNum':mapping_traintest})\n",
        "# label, pattern\n",
        "tol_wafers = df.shape[0]\n",
        "df_withlabel = df[(df['failureNum']>=0) & (df['failureNum']<=8)]\n",
        "df_withlabel =df_withlabel.reset_index()\n",
        "df_withpattern = df[(df['failureNum']>=0) & (df['failureNum']<=7)]\n",
        "df_withpattern = df_withpattern.reset_index() \n",
        "df_nonpattern = df[(df['failureNum']==8)]\n",
        "sub_df = df_withlabel.loc[(df_withlabel['waferMapDim'] == (33, 29)) | (df_withlabel['waferMapDim'] == (41, 33))].reset_index(drop=True)\n",
        "sub_df['waferMap']=sub_df.waferMap.apply(lambda x: cv2.resize(x, dsize=(32,32), interpolation = cv2.INTER_NEAREST))\n",
        "sub_df.to_pickle(\"main2.pkl\")"
      ],
      "execution_count": null,
      "outputs": []
    },
    {
      "cell_type": "code",
      "metadata": {
        "id": "LvtDfWgo4LzI"
      },
      "source": [
        "sub_df = pd.read_pickle(\"main2.pkl\")"
      ],
      "execution_count": 4,
      "outputs": []
    },
    {
      "cell_type": "code",
      "metadata": {
        "colab": {
          "base_uri": "https://localhost:8080/",
          "height": 202
        },
        "id": "__mMYfEFHUVb",
        "outputId": "f5f4418c-36b8-42bd-bcf7-a81057427e58"
      },
      "source": [
        "sub_df.head()"
      ],
      "execution_count": 5,
      "outputs": [
        {
          "output_type": "execute_result",
          "data": {
            "text/html": [
              "<div>\n",
              "<style scoped>\n",
              "    .dataframe tbody tr th:only-of-type {\n",
              "        vertical-align: middle;\n",
              "    }\n",
              "\n",
              "    .dataframe tbody tr th {\n",
              "        vertical-align: top;\n",
              "    }\n",
              "\n",
              "    .dataframe thead th {\n",
              "        text-align: right;\n",
              "    }\n",
              "</style>\n",
              "<table border=\"1\" class=\"dataframe\">\n",
              "  <thead>\n",
              "    <tr style=\"text-align: right;\">\n",
              "      <th></th>\n",
              "      <th>index</th>\n",
              "      <th>waferMap</th>\n",
              "      <th>dieSize</th>\n",
              "      <th>lotName</th>\n",
              "      <th>trianTestLabel</th>\n",
              "      <th>failureType</th>\n",
              "      <th>waferMapDim</th>\n",
              "      <th>failureNum</th>\n",
              "      <th>trainTestNum</th>\n",
              "    </tr>\n",
              "  </thead>\n",
              "  <tbody>\n",
              "    <tr>\n",
              "      <th>0</th>\n",
              "      <td>9637</td>\n",
              "      <td>[[0, 0, 0, 0, 0, 0, 0, 0, 0, 0, 0, 0, 0, 0, 2,...</td>\n",
              "      <td>741.0</td>\n",
              "      <td>lot1847</td>\n",
              "      <td>[[Training]]</td>\n",
              "      <td>[[Edge-Loc]]</td>\n",
              "      <td>(33, 29)</td>\n",
              "      <td>2</td>\n",
              "      <td>0</td>\n",
              "    </tr>\n",
              "    <tr>\n",
              "      <th>1</th>\n",
              "      <td>13741</td>\n",
              "      <td>[[0, 0, 0, 0, 0, 0, 0, 0, 0, 0, 0, 0, 0, 0, 1,...</td>\n",
              "      <td>741.0</td>\n",
              "      <td>lot2137</td>\n",
              "      <td>[[Training]]</td>\n",
              "      <td>[[Scratch]]</td>\n",
              "      <td>(33, 29)</td>\n",
              "      <td>6</td>\n",
              "      <td>0</td>\n",
              "    </tr>\n",
              "    <tr>\n",
              "      <th>2</th>\n",
              "      <td>13765</td>\n",
              "      <td>[[0, 0, 0, 0, 0, 0, 0, 0, 0, 0, 0, 0, 0, 0, 1,...</td>\n",
              "      <td>741.0</td>\n",
              "      <td>lot2138</td>\n",
              "      <td>[[Training]]</td>\n",
              "      <td>[[Scratch]]</td>\n",
              "      <td>(33, 29)</td>\n",
              "      <td>6</td>\n",
              "      <td>0</td>\n",
              "    </tr>\n",
              "    <tr>\n",
              "      <th>3</th>\n",
              "      <td>14503</td>\n",
              "      <td>[[0, 0, 0, 0, 0, 0, 0, 0, 0, 0, 0, 0, 0, 0, 2,...</td>\n",
              "      <td>741.0</td>\n",
              "      <td>lot2172</td>\n",
              "      <td>[[Training]]</td>\n",
              "      <td>[[Edge-Loc]]</td>\n",
              "      <td>(33, 29)</td>\n",
              "      <td>2</td>\n",
              "      <td>0</td>\n",
              "    </tr>\n",
              "    <tr>\n",
              "      <th>4</th>\n",
              "      <td>14528</td>\n",
              "      <td>[[0, 0, 0, 0, 0, 0, 0, 0, 0, 0, 0, 0, 0, 0, 2,...</td>\n",
              "      <td>741.0</td>\n",
              "      <td>lot2173</td>\n",
              "      <td>[[Training]]</td>\n",
              "      <td>[[Edge-Loc]]</td>\n",
              "      <td>(33, 29)</td>\n",
              "      <td>2</td>\n",
              "      <td>0</td>\n",
              "    </tr>\n",
              "  </tbody>\n",
              "</table>\n",
              "</div>"
            ],
            "text/plain": [
              "   index  ... trainTestNum\n",
              "0   9637  ...            0\n",
              "1  13741  ...            0\n",
              "2  13765  ...            0\n",
              "3  14503  ...            0\n",
              "4  14528  ...            0\n",
              "\n",
              "[5 rows x 9 columns]"
            ]
          },
          "metadata": {},
          "execution_count": 5
        }
      ]
    },
    {
      "cell_type": "code",
      "metadata": {
        "colab": {
          "base_uri": "https://localhost:8080/"
        },
        "id": "ANG19eXEJa3E",
        "outputId": "932f6d0a-04b2-49f2-ba60-34c0f0acf762"
      },
      "source": [
        "sub_df.shape"
      ],
      "execution_count": 6,
      "outputs": [
        {
          "output_type": "execute_result",
          "data": {
            "text/plain": [
              "(13216, 9)"
            ]
          },
          "metadata": {},
          "execution_count": 6
        }
      ]
    },
    {
      "cell_type": "code",
      "metadata": {
        "colab": {
          "base_uri": "https://localhost:8080/"
        },
        "id": "JIqhGrCTHM4d",
        "outputId": "3078d29f-4cb1-41ab-df6f-48c440d085f9"
      },
      "source": [
        "sub_df = sub_df.loc[(sub_df['failureType'] != 'Donut') & (sub_df['failureType'] != 'Random')]\n",
        "sub_df.shape"
      ],
      "execution_count": 7,
      "outputs": [
        {
          "output_type": "execute_result",
          "data": {
            "text/plain": [
              "(13197, 9)"
            ]
          },
          "metadata": {},
          "execution_count": 7
        }
      ]
    },
    {
      "cell_type": "code",
      "metadata": {
        "colab": {
          "base_uri": "https://localhost:8080/"
        },
        "id": "8hNO4pUirskb",
        "outputId": "d6004623-6603-4d7d-f2a4-9504c050045b"
      },
      "source": [
        "# Plotting\n",
        "sw = np.ones((1, 32, 32))\n",
        "label = list()\n",
        "\n",
        "for i in tqdm(range(len(sub_df))):\n",
        "    if len(sub_df.iloc[i,:]['failureType']) == 0:\n",
        "        continue\n",
        "    sw = np.concatenate((sw, sub_df.iloc[i,:]['waferMap'].reshape(1, 32, 32)))\n",
        "    label.append(sub_df.iloc[i,:]['failureType'][0][0])\n",
        "x = sw[1:]\n",
        "y = np.array(label).reshape((-1,1))"
      ],
      "execution_count": 8,
      "outputs": [
        {
          "output_type": "stream",
          "name": "stderr",
          "text": [
            "100%|██████████| 13197/13197 [02:38<00:00, 83.12it/s]\n"
          ]
        }
      ]
    },
    {
      "cell_type": "code",
      "metadata": {
        "colab": {
          "base_uri": "https://localhost:8080/"
        },
        "id": "ifKCsp7Vrskc",
        "outputId": "b8b81a39-49df-424b-cc12-963db9774ebf"
      },
      "source": [
        "for f in labels :\n",
        "    print('{} : {}'.format(f, len(y[y==f])))"
      ],
      "execution_count": 9,
      "outputs": [
        {
          "output_type": "stream",
          "name": "stdout",
          "text": [
            "Center : 61\n",
            "Edge-Loc : 260\n",
            "Edge-Ring : 68\n",
            "Loc : 177\n",
            "Near-full : 32\n",
            "Scratch : 91\n",
            "none : 12508\n"
          ]
        }
      ]
    },
    {
      "cell_type": "code",
      "metadata": {
        "id": "ZNYxPN38rske"
      },
      "source": [
        "# Stratified train/test\n",
        "x_train, x_test, y_train, y_test = train_test_split(x, y, test_size=0.4, random_state=123, stratify=y)"
      ],
      "execution_count": 10,
      "outputs": []
    },
    {
      "cell_type": "code",
      "metadata": {
        "colab": {
          "base_uri": "https://localhost:8080/"
        },
        "id": "NNeQvMjnBe9t",
        "outputId": "4e66f353-671c-4285-e3cd-61cf5e4a2527"
      },
      "source": [
        "for f in labels :\n",
        "    print('{} : {}'.format(f, len(y_test[y_test==f])))"
      ],
      "execution_count": 11,
      "outputs": [
        {
          "output_type": "stream",
          "name": "stdout",
          "text": [
            "Center : 24\n",
            "Edge-Loc : 104\n",
            "Edge-Ring : 27\n",
            "Loc : 71\n",
            "Near-full : 13\n",
            "Scratch : 37\n",
            "none : 5003\n"
          ]
        }
      ]
    },
    {
      "cell_type": "code",
      "metadata": {
        "colab": {
          "base_uri": "https://localhost:8080/"
        },
        "id": "eMGLehWmD6kg",
        "outputId": "2f3eff6b-fc39-49c3-b99d-d44d9ef29b91"
      },
      "source": [
        "print('{},{}'.format(x_train.shape, y_train.shape))"
      ],
      "execution_count": 12,
      "outputs": [
        {
          "output_type": "stream",
          "name": "stdout",
          "text": [
            "(7918, 32, 32),(7918, 1)\n"
          ]
        }
      ]
    },
    {
      "cell_type": "markdown",
      "metadata": {
        "id": "XV4CLW_JJ0bM"
      },
      "source": [
        "# **Bernoulli Bootstrap with p=0.05**"
      ]
    },
    {
      "cell_type": "code",
      "metadata": {
        "colab": {
          "base_uri": "https://localhost:8080/",
          "height": 283
        },
        "id": "MSVfOPcmncaP",
        "outputId": "ca0a472b-93ea-4918-b821-0679dda67700"
      },
      "source": [
        "plt.imshow(x[0])\n",
        "print('Failure type : {} '.format(y[0]))"
      ],
      "execution_count": null,
      "outputs": [
        {
          "output_type": "stream",
          "name": "stdout",
          "text": [
            "Failure type : ['Edge-Loc'] \n"
          ]
        },
        {
          "output_type": "display_data",
          "data": {
            "image/png": "[encoded data removed]",
            "text/plain": [
              "<Figure size 432x288 with 1 Axes>"
            ]
          },
          "metadata": {
            "needs_background": "light"
          }
        }
      ]
    },
    {
      "cell_type": "code",
      "metadata": {
        "colab": {
          "base_uri": "https://localhost:8080/",
          "height": 283
        },
        "id": "N59xwVwpnCDH",
        "outputId": "fb0f538d-6049-42c9-ce62-7369b67f5729"
      },
      "source": [
        "plt.imshow(np.argmax(x_new[0],axis=2))\n",
        "print('Failure type : {} '.format(y[0]))"
      ],
      "execution_count": null,
      "outputs": [
        {
          "output_type": "stream",
          "name": "stdout",
          "text": [
            "Failure type : ['Edge-Loc'] \n"
          ]
        },
        {
          "output_type": "display_data",
          "data": {
            "image/png": "[encoded data removed]",
            "text/plain": [
              "<Figure size 432x288 with 1 Axes>"
            ]
          },
          "metadata": {
            "needs_background": "light"
          }
        }
      ]
    },
    {
      "cell_type": "code",
      "metadata": {
        "id": "N6p1UzUzOXWF"
      },
      "source": [
        "def aply(ary):\n",
        "  lst = [z+np.random.binomial(1,p=0.05) if z != 0 else z for z in ary]\n",
        "  lst = [1 if z == 3 else z for z in lst]\n",
        "  return lst"
      ],
      "execution_count": 13,
      "outputs": []
    },
    {
      "cell_type": "code",
      "metadata": {
        "id": "N9634OsSsqIa"
      },
      "source": [
        "# Generate data\n",
        "def gen_data(wafer, label):\n",
        "    gen_x = []\n",
        "    for i in tqdm(range((7000//len(wafer)) + 1)):\n",
        "      for lst in wafer:\n",
        "        gen_x.append(np.array(list(map(aply, lst))))\n",
        "    # gen_x = np.concatenate((wafer, temp))   \n",
        "    gen_y = np.full((len(gen_x), 1), label)\n",
        "    \n",
        "    return gen_x, gen_y"
      ],
      "execution_count": 14,
      "outputs": []
    },
    {
      "cell_type": "code",
      "metadata": {
        "id": "hfFIUKDPunY-"
      },
      "source": [
        "x_train_org = x_train.copy()\n",
        "y_train_org = y_train.copy()"
      ],
      "execution_count": 15,
      "outputs": []
    },
    {
      "cell_type": "code",
      "metadata": {
        "colab": {
          "base_uri": "https://localhost:8080/"
        },
        "id": "hkrNLQhGsqIb",
        "outputId": "0e45e755-e36b-48c5-d5a3-68328ac28246"
      },
      "source": [
        "for f in labels :  \n",
        "    if f == 'none' : \n",
        "        continue    \n",
        "    g_x, g_y = gen_data(x_train[np.where(y_train==f)[0]], f)\n",
        "    x_train = np.concatenate((x_train, g_x))\n",
        "    y_train = np.concatenate((y_train, g_y))"
      ],
      "execution_count": 25,
      "outputs": [
        {
          "output_type": "stream",
          "name": "stderr",
          "text": [
            "100%|██████████| 190/190 [00:27<00:00,  6.88it/s]\n",
            "100%|██████████| 45/45 [00:26<00:00,  1.73it/s]\n",
            "100%|██████████| 171/171 [00:26<00:00,  6.46it/s]\n",
            "100%|██████████| 67/67 [00:26<00:00,  2.57it/s]\n",
            "100%|██████████| 369/369 [00:26<00:00, 13.75it/s]\n",
            "100%|██████████| 130/130 [00:26<00:00,  4.83it/s]\n"
          ]
        }
      ]
    },
    {
      "cell_type": "code",
      "metadata": {
        "colab": {
          "base_uri": "https://localhost:8080/"
        },
        "id": "cmNdCn1-_axY",
        "outputId": "801c56ed-b644-4547-8d9a-dccd8bdffccb"
      },
      "source": [
        "print('After Generate new x shape : {}, new y shape : {}'.format(x_train.shape, y_train.shape))"
      ],
      "execution_count": 26,
      "outputs": [
        {
          "output_type": "stream",
          "name": "stdout",
          "text": [
            "After Generate new x shape : (50112, 32, 32), new y shape : (50112, 1)\n"
          ]
        }
      ]
    },
    {
      "cell_type": "code",
      "metadata": {
        "colab": {
          "base_uri": "https://localhost:8080/"
        },
        "id": "N4KkWP_h_axY",
        "outputId": "707ec426-d2e2-4d53-9f70-d7f7ae664a7b"
      },
      "source": [
        "for f in labels :\n",
        "    print('{} : {}'.format(f, len(y_train[y_train==f]))) "
      ],
      "execution_count": 27,
      "outputs": [
        {
          "output_type": "stream",
          "name": "stdout",
          "text": [
            "Center : 7067\n",
            "Edge-Loc : 7176\n",
            "Edge-Ring : 7052\n",
            "Loc : 7208\n",
            "Near-full : 7030\n",
            "Scratch : 7074\n",
            "none : 7505\n"
          ]
        }
      ]
    },
    {
      "cell_type": "code",
      "metadata": {
        "id": "tFKIG9ugAKKY"
      },
      "source": [
        "def shuffle_two(a, b):\n",
        "    assert len(a) == len(b)\n",
        "    p = np.random.permutation(len(a))\n",
        "    return a[p], b[p]"
      ],
      "execution_count": 28,
      "outputs": []
    },
    {
      "cell_type": "code",
      "metadata": {
        "tags": [],
        "id": "vCr2KPxyAKKZ"
      },
      "source": [
        "x_train, y_train = shuffle_two(x_train, y_train)"
      ],
      "execution_count": 29,
      "outputs": []
    },
    {
      "cell_type": "code",
      "metadata": {
        "colab": {
          "base_uri": "https://localhost:8080/",
          "height": 283
        },
        "id": "81Al9DygAbll",
        "outputId": "5ee48533-973f-4838-da01-5537f325f915"
      },
      "source": [
        "plt.imshow(x_train[442])\n",
        "print('Failure type : {} '.format(y_train[442]))"
      ],
      "execution_count": 30,
      "outputs": [
        {
          "output_type": "stream",
          "name": "stdout",
          "text": [
            "Failure type : ['Scratch'] \n"
          ]
        },
        {
          "output_type": "display_data",
          "data": {
            "image/png": "[encoded data removed]",
            "text/plain": [
              "<Figure size 432x288 with 1 Axes>"
            ]
          },
          "metadata": {
            "needs_background": "light"
          }
        }
      ]
    },
    {
      "cell_type": "code",
      "metadata": {
        "colab": {
          "base_uri": "https://localhost:8080/"
        },
        "id": "JBXnpuejrskd",
        "outputId": "64e0b4bf-c4c2-4945-c77c-257c1a22b30f"
      },
      "source": [
        "# For CNN models\n",
        "new_x_train = np.zeros((len(x_train), 32, 32, 3))\n",
        "for w in tqdm(range(len(x_train))):\n",
        "    for i in range(32):\n",
        "        for j in range(32):\n",
        "            new_x_train[w, i, j, int(x_train[w, i, j])] = 1\n",
        "\n",
        "new_x_test = np.zeros((len(x_test), 32, 32, 3))\n",
        "for w in tqdm(range(len(x_test))):\n",
        "    for i in range(32):\n",
        "        for j in range(32):\n",
        "            new_x_test[w, i, j, int(x_test[w, i, j])] = 1\n",
        "\n",
        "new_x_train.shape, new_x_test.shape"
      ],
      "execution_count": 32,
      "outputs": [
        {
          "output_type": "stream",
          "name": "stderr",
          "text": [
            "100%|██████████| 5279/5279 [00:04<00:00, 1254.72it/s]\n"
          ]
        },
        {
          "output_type": "execute_result",
          "data": {
            "text/plain": [
              "((50112, 32, 32, 3), (5279, 32, 32, 3))"
            ]
          },
          "metadata": {},
          "execution_count": 32
        }
      ]
    },
    {
      "cell_type": "markdown",
      "metadata": {
        "id": "_42FLV83MzuW"
      },
      "source": [
        "# **Saving dataset as pickle**"
      ]
    },
    {
      "cell_type": "code",
      "metadata": {
        "id": "sgbcWSI4IXut"
      },
      "source": [
        "# # saving augmented x and y\n",
        "# dataset_boot = {\"new_x_train\": new_x_train, \"new_x_test\": new_x_test, \"y_train\": y_train, \"y_test\": y_test, \"x_train\": x_train, \"x_test\": x_test}\n",
        "# with open('dataset_boot.pickle', 'wb') as file:\n",
        "#     pickle.dump(dataset_boot, file)"
      ],
      "execution_count": 38,
      "outputs": []
    },
    {
      "cell_type": "code",
      "metadata": {
        "id": "Dd9NnIL9IBlG"
      },
      "source": [
        "with open('dataset_boot.pickle', 'rb') as file:\n",
        "    dataset_boot = pickle.load(file)"
      ],
      "execution_count": 4,
      "outputs": []
    },
    {
      "cell_type": "code",
      "metadata": {
        "id": "71VTMBxWL-U1"
      },
      "source": [
        "x_test = dataset_boot.get(\"new_x_test\")\n",
        "x_train = dataset_boot.get(\"new_x_train\")\n",
        "y_train = dataset_boot.get(\"y_train\")\n",
        "y_test = dataset_boot.get(\"y_test\")"
      ],
      "execution_count": 7,
      "outputs": []
    },
    {
      "cell_type": "markdown",
      "metadata": {
        "id": "zQuODoZeZ1BG"
      },
      "source": [
        "# **Convolutional Autoencoder**"
      ]
    },
    {
      "cell_type": "code",
      "metadata": {
        "id": "coIkyKMmgdyB"
      },
      "source": [
        "def encoder(input_img):\n",
        "    #encoder\n",
        "    #input = 32 x 32 x 3 (wide and thin)\n",
        "    conv1 = Conv2D(32, (3, 3), activation='relu', padding='same')(input_img)\n",
        "    pool1 = MaxPooling2D(padding='same')(conv1)\n",
        "    conv2 = Conv2D(64, (3, 3), activation='relu', padding='same')(pool1)\n",
        "    conv2 = BatchNormalization()(conv2)\n",
        "    pool2 = MaxPooling2D(padding='same')(conv2) # 8 x 8 x 64\n",
        "    return pool2\n",
        "\n",
        "def decoder(conv4):\n",
        "    #decoder\n",
        "    conv5 = Conv2D(64, (3, 3), activation='relu', padding='same')(conv4) # 8 x 8 x 64\n",
        "    up1 = UpSampling2D()(conv5) # 16 x 16 x 64\n",
        "    conv6 = Conv2D(32, (3, 3), activation='relu', padding='same')(up1)\n",
        "    conv6 = BatchNormalization()(conv6)\n",
        "    up2 = UpSampling2D()(conv6)\n",
        "    decoded = Conv2D(3, (3, 3), activation='sigmoid', padding='same')(up2) # 32 x 32 x 1\n",
        "    return decoded"
      ],
      "execution_count": null,
      "outputs": []
    },
    {
      "cell_type": "code",
      "metadata": {
        "id": "9UvWhykHW7UP"
      },
      "source": [
        "input_shape = Input(shape=(32, 32, 3))"
      ],
      "execution_count": null,
      "outputs": []
    },
    {
      "cell_type": "code",
      "metadata": {
        "colab": {
          "base_uri": "https://localhost:8080/"
        },
        "id": "kbj3Vaupik_L",
        "outputId": "c62bdb80-4c75-4601-e8f3-5cd52cf7fa92"
      },
      "source": [
        "AEncoder = Model(input_shape, decoder(encoder(input_shape)))\n",
        "AEncoder.summary()\n",
        "AEncoder.compile(loss='mse', optimizer='adam')\n",
        "AEncoder.fit(x_train, x_train, epochs=10, batch_size=64, verbose=2)"
      ],
      "execution_count": null,
      "outputs": [
        {
          "output_type": "stream",
          "name": "stdout",
          "text": [
            "Model: \"model_2\"\n",
            "_________________________________________________________________\n",
            "Layer (type)                 Output Shape              Param #   \n",
            "=================================================================\n",
            "input_3 (InputLayer)         [(None, 32, 32, 3)]       0         \n",
            "_________________________________________________________________\n",
            "conv2d_27 (Conv2D)           (None, 32, 32, 32)        896       \n",
            "_________________________________________________________________\n",
            "max_pooling2d_11 (MaxPooling (None, 16, 16, 32)        0         \n",
            "_________________________________________________________________\n",
            "conv2d_28 (Conv2D)           (None, 16, 16, 64)        18496     \n",
            "_________________________________________________________________\n",
            "batch_normalization_10 (Batc (None, 16, 16, 64)        256       \n",
            "_________________________________________________________________\n",
            "max_pooling2d_12 (MaxPooling (None, 8, 8, 64)          0         \n",
            "_________________________________________________________________\n",
            "conv2d_29 (Conv2D)           (None, 8, 8, 64)          36928     \n",
            "_________________________________________________________________\n",
            "up_sampling2d_2 (UpSampling2 (None, 16, 16, 64)        0         \n",
            "_________________________________________________________________\n",
            "conv2d_30 (Conv2D)           (None, 16, 16, 32)        18464     \n",
            "_________________________________________________________________\n",
            "batch_normalization_11 (Batc (None, 16, 16, 32)        128       \n",
            "_________________________________________________________________\n",
            "up_sampling2d_3 (UpSampling2 (None, 32, 32, 32)        0         \n",
            "_________________________________________________________________\n",
            "conv2d_31 (Conv2D)           (None, 32, 32, 3)         867       \n",
            "=================================================================\n",
            "Total params: 76,035\n",
            "Trainable params: 75,843\n",
            "Non-trainable params: 192\n",
            "_________________________________________________________________\n",
            "Epoch 1/10\n",
            "77/77 - 2s - loss: 0.0937\n",
            "Epoch 2/10\n",
            "77/77 - 1s - loss: 0.0548\n",
            "Epoch 3/10\n",
            "77/77 - 1s - loss: 0.0484\n",
            "Epoch 4/10\n",
            "77/77 - 1s - loss: 0.0432\n",
            "Epoch 5/10\n",
            "77/77 - 1s - loss: 0.0367\n",
            "Epoch 6/10\n",
            "77/77 - 1s - loss: 0.0307\n",
            "Epoch 7/10\n",
            "77/77 - 1s - loss: 0.0271\n",
            "Epoch 8/10\n",
            "77/77 - 1s - loss: 0.0241\n",
            "Epoch 9/10\n",
            "77/77 - 1s - loss: 0.0216\n",
            "Epoch 10/10\n",
            "77/77 - 1s - loss: 0.0197\n"
          ]
        },
        {
          "output_type": "execute_result",
          "data": {
            "text/plain": [
              "<keras.callbacks.History at 0x7efe0382ef10>"
            ]
          },
          "metadata": {},
          "execution_count": 73
        }
      ]
    },
    {
      "cell_type": "code",
      "metadata": {
        "colab": {
          "base_uri": "https://localhost:8080/"
        },
        "id": "79HukY1PmBPL",
        "outputId": "0a0186c4-0b52-477a-b353-57d132ec337a"
      },
      "source": [
        "np.where(y_test=='Edge-Loc')"
      ],
      "execution_count": null,
      "outputs": [
        {
          "output_type": "execute_result",
          "data": {
            "text/plain": [
              "(array([ 210,  275,  399,  535,  748,  752,  851,  883,  887,  997, 1007,\n",
              "        1068, 1084, 1111, 1190, 1272, 1353, 1364, 1460, 1585, 1622, 1643,\n",
              "        1775, 1794, 1845, 1855, 1936, 2043, 2081, 2089, 2100, 2120, 2219,\n",
              "        2225, 2305, 2533, 2619, 2636, 2680, 2805, 2817, 2820, 2862, 2872,\n",
              "        2913, 2929, 2977, 3064, 3077, 3104, 3111, 3153]),\n",
              " array([0, 0, 0, 0, 0, 0, 0, 0, 0, 0, 0, 0, 0, 0, 0, 0, 0, 0, 0, 0, 0, 0,\n",
              "        0, 0, 0, 0, 0, 0, 0, 0, 0, 0, 0, 0, 0, 0, 0, 0, 0, 0, 0, 0, 0, 0,\n",
              "        0, 0, 0, 0, 0, 0, 0, 0]))"
            ]
          },
          "metadata": {},
          "execution_count": 74
        }
      ]
    },
    {
      "cell_type": "code",
      "metadata": {
        "colab": {
          "base_uri": "https://localhost:8080/",
          "height": 284
        },
        "id": "IDjuof5DZOn6",
        "outputId": "03a7fda1-3668-4b26-a6fb-41ee11cf04bd"
      },
      "source": [
        "plt.imshow(np.argmax(x_test[228], axis=2))"
      ],
      "execution_count": null,
      "outputs": [
        {
          "output_type": "execute_result",
          "data": {
            "text/plain": [
              "<matplotlib.image.AxesImage at 0x7efdfaf2c590>"
            ]
          },
          "metadata": {},
          "execution_count": 75
        },
        {
          "output_type": "display_data",
          "data": {
            "image/png": "[encoded data removed]",
            "text/plain": [
              "<Figure size 432x288 with 1 Axes>"
            ]
          },
          "metadata": {
            "needs_background": "light"
          }
        }
      ]
    },
    {
      "cell_type": "code",
      "metadata": {
        "colab": {
          "base_uri": "https://localhost:8080/",
          "height": 284
        },
        "id": "F4Nz58qtj-k9",
        "outputId": "0d8274ae-95e3-4fdf-ff57-823c32731ba6"
      },
      "source": [
        "gen_x = np.argmax(AEncoder.predict(x_test), axis=3)\n",
        "plt.imshow(gen_x[228])"
      ],
      "execution_count": null,
      "outputs": [
        {
          "output_type": "execute_result",
          "data": {
            "text/plain": [
              "<matplotlib.image.AxesImage at 0x7efe6133f590>"
            ]
          },
          "metadata": {},
          "execution_count": 76
        },
        {
          "output_type": "display_data",
          "data": {
            "image/png": "[encoded data removed]",
            "text/plain": [
              "<Figure size 432x288 with 1 Axes>"
            ]
          },
          "metadata": {
            "needs_background": "light"
          }
        }
      ]
    },
    {
      "cell_type": "code",
      "metadata": {
        "colab": {
          "base_uri": "https://localhost:8080/"
        },
        "id": "oaxu1HSE8bUL",
        "outputId": "d7a0a638-f8db-4b0f-f9b7-9e2ec6a6135d"
      },
      "source": [
        "x_train[0].shape"
      ],
      "execution_count": null,
      "outputs": [
        {
          "output_type": "execute_result",
          "data": {
            "text/plain": [
              "(32, 32, 3)"
            ]
          },
          "metadata": {},
          "execution_count": 77
        }
      ]
    },
    {
      "cell_type": "code",
      "metadata": {
        "colab": {
          "base_uri": "https://localhost:8080/"
        },
        "id": "4Q4Yt22_9wqM",
        "outputId": "952e3b9f-6ff1-43d2-b634-df02b33d1b0e"
      },
      "source": [
        "np.where(y_train=='Edge-Loc')"
      ],
      "execution_count": null,
      "outputs": [
        {
          "output_type": "execute_result",
          "data": {
            "text/plain": [
              "(array([   5,   18,   29,   56,  107,  143,  264,  328,  766,  768,  778,\n",
              "         856,  908,  983, 1027, 1032, 1065, 1087, 1089, 1225, 1242, 1391,\n",
              "        1505, 1554, 1592, 1661, 1852, 1856, 1876, 1967, 2017, 2131, 2133,\n",
              "        2264, 2360, 2440, 2541, 2645, 2780, 2883, 2927, 2954, 2955, 2972,\n",
              "        3117, 3183, 3314, 3324, 3474, 3479, 3525, 3536, 3556, 3566, 3591,\n",
              "        3627, 3697, 3836, 3845, 3854, 4029, 4034, 4094, 4176, 4246, 4266,\n",
              "        4311, 4326, 4334, 4343, 4349, 4371, 4474, 4490, 4589, 4601, 4769,\n",
              "        4800]),\n",
              " array([0, 0, 0, 0, 0, 0, 0, 0, 0, 0, 0, 0, 0, 0, 0, 0, 0, 0, 0, 0, 0, 0,\n",
              "        0, 0, 0, 0, 0, 0, 0, 0, 0, 0, 0, 0, 0, 0, 0, 0, 0, 0, 0, 0, 0, 0,\n",
              "        0, 0, 0, 0, 0, 0, 0, 0, 0, 0, 0, 0, 0, 0, 0, 0, 0, 0, 0, 0, 0, 0,\n",
              "        0, 0, 0, 0, 0, 0, 0, 0, 0, 0, 0, 0]))"
            ]
          },
          "metadata": {},
          "execution_count": 78
        }
      ]
    },
    {
      "cell_type": "code",
      "metadata": {
        "colab": {
          "base_uri": "https://localhost:8080/",
          "height": 284
        },
        "id": "WZ_laKW19nS9",
        "outputId": "6b06f7a9-4470-44de-8b06-2d420e4f0a93"
      },
      "source": [
        "plt.imshow(np.argmax(x_train[7], axis=2))"
      ],
      "execution_count": null,
      "outputs": [
        {
          "output_type": "execute_result",
          "data": {
            "text/plain": [
              "<matplotlib.image.AxesImage at 0x7efe0603cad0>"
            ]
          },
          "metadata": {},
          "execution_count": 79
        },
        {
          "output_type": "display_data",
          "data": {
            "image/png": "[encoded data removed]",
            "text/plain": [
              "<Figure size 432x288 with 1 Axes>"
            ]
          },
          "metadata": {
            "needs_background": "light"
          }
        }
      ]
    },
    {
      "cell_type": "code",
      "metadata": {
        "colab": {
          "base_uri": "https://localhost:8080/",
          "height": 284
        },
        "id": "az6sIdFR8VUz",
        "outputId": "2e980719-9222-41af-d515-7778cd475ed0"
      },
      "source": [
        "gen_x = np.argmax(AEncoder.predict(x_train + np.random.normal(loc=0, scale=0.1, size = (4873, 32, 32, 3))), axis=3)\n",
        "plt.imshow(gen_x[7])"
      ],
      "execution_count": null,
      "outputs": [
        {
          "output_type": "execute_result",
          "data": {
            "text/plain": [
              "<matplotlib.image.AxesImage at 0x7efead633f90>"
            ]
          },
          "metadata": {},
          "execution_count": 25
        },
        {
          "output_type": "display_data",
          "data": {
            "image/png": "[encoded data removed]",
            "text/plain": [
              "<Figure size 432x288 with 1 Axes>"
            ]
          },
          "metadata": {
            "needs_background": "light"
          }
        }
      ]
    },
    {
      "cell_type": "code",
      "metadata": {
        "id": "0dpCKfwHtQ2w"
      },
      "source": [
        "# Generate data\n",
        "def gen_data(wafer, label):\n",
        "    gen_x = np.zeros((1, 32, 32, 3))\n",
        "    \n",
        "    for i in tqdm(range((4000//len(wafer)) + 1)):\n",
        "        noised_encoded_x = wafer + np.random.normal(loc=0, scale=0.1, size = (len(wafer), 32, 32, 3))  \n",
        "        noised_gen_x = AEncoder.predict(noised_encoded_x)\n",
        "        gen_x = np.concatenate((gen_x, noised_gen_x), axis=0)\n",
        "\n",
        "    gen_y = np.full((len(gen_x), 1), label)\n",
        "    \n",
        "    return gen_x[1:], gen_y[1:]"
      ],
      "execution_count": null,
      "outputs": []
    },
    {
      "cell_type": "code",
      "metadata": {
        "id": "uqnVi_MaDRIv",
        "colab": {
          "base_uri": "https://localhost:8080/"
        },
        "outputId": "2a538e58-b77a-4610-e50c-bc12b86409b5"
      },
      "source": [
        "x_train_org = x_train.copy()\n",
        "y_train_org = y_train.copy()\n",
        "for f in labels :  \n",
        "    if f == 'none' : \n",
        "        continue    \n",
        "    gen_x, gen_y = gen_data(x_train[np.where(y_train==f)[0]], f)\n",
        "    x_train = np.concatenate((x_train, gen_x), axis=0)\n",
        "    y_train = np.concatenate((y_train, gen_y))"
      ],
      "execution_count": null,
      "outputs": [
        {
          "output_type": "stream",
          "name": "stderr",
          "text": [
            "100%|██████████| 334/334 [00:22<00:00, 15.04it/s]\n",
            "100%|██████████| 52/52 [00:04<00:00, 11.85it/s]\n",
            "100%|██████████| 122/122 [00:08<00:00, 13.93it/s]\n",
            "100%|██████████| 63/63 [00:04<00:00, 13.25it/s]\n",
            "100%|██████████| 236/236 [00:16<00:00, 14.48it/s]\n",
            "100%|██████████| 143/143 [00:10<00:00, 13.69it/s]\n"
          ]
        }
      ]
    },
    {
      "cell_type": "code",
      "metadata": {
        "colab": {
          "base_uri": "https://localhost:8080/"
        },
        "id": "rIumeWXntC54",
        "outputId": "8c668d63-4202-471d-f964-5639eda586b3"
      },
      "source": [
        "np.where(y_train=='Edge-Ring')"
      ],
      "execution_count": null,
      "outputs": [
        {
          "output_type": "execute_result",
          "data": {
            "text/plain": [
              "(array([   24,   182,   278, ..., 16960, 16961, 16962]),\n",
              " array([0, 0, 0, ..., 0, 0, 0]))"
            ]
          },
          "metadata": {},
          "execution_count": 29
        }
      ]
    },
    {
      "cell_type": "code",
      "metadata": {
        "colab": {
          "base_uri": "https://localhost:8080/",
          "height": 284
        },
        "id": "m1Gy5wGrtC55",
        "outputId": "058c5933-2a1c-4285-d8ea-c01ba0529288"
      },
      "source": [
        "plt.imshow(np.argmax(x_train[16962], axis=2))"
      ],
      "execution_count": null,
      "outputs": [
        {
          "output_type": "execute_result",
          "data": {
            "text/plain": [
              "<matplotlib.image.AxesImage at 0x7efead8cf050>"
            ]
          },
          "metadata": {},
          "execution_count": 30
        },
        {
          "output_type": "display_data",
          "data": {
            "image/png": "[encoded data removed]",
            "text/plain": [
              "<Figure size 432x288 with 1 Axes>"
            ]
          },
          "metadata": {
            "needs_background": "light"
          }
        }
      ]
    },
    {
      "cell_type": "code",
      "metadata": {
        "colab": {
          "base_uri": "https://localhost:8080/"
        },
        "id": "Rni7-pynDRMg",
        "outputId": "384614f7-b641-48e2-9d26-643cb6ca9f2c"
      },
      "source": [
        "print('After Generate new x shape : {}, new y shape : {}'.format(x_train.shape, y_train.shape))"
      ],
      "execution_count": null,
      "outputs": [
        {
          "output_type": "stream",
          "name": "stdout",
          "text": [
            "After Generate new x shape : (29004, 32, 32, 3), new y shape : (29004, 1)\n"
          ]
        }
      ]
    },
    {
      "cell_type": "code",
      "metadata": {
        "colab": {
          "base_uri": "https://localhost:8080/"
        },
        "id": "ps4cryjhDROG",
        "outputId": "f0ff64f0-07b0-4935-8c7a-828f5de8bde6"
      },
      "source": [
        "for f in labels :\n",
        "    print('{} : {}'.format(f, len(y_train[y_train==f]))) "
      ],
      "execution_count": null,
      "outputs": [
        {
          "output_type": "stream",
          "name": "stdout",
          "text": [
            "Center : 4020\n",
            "Edge-Loc : 4134\n",
            "Edge-Ring : 4059\n",
            "Loc : 4096\n",
            "Near-full : 4029\n",
            "Scratch : 4032\n",
            "none : 4634\n"
          ]
        }
      ]
    },
    {
      "cell_type": "code",
      "metadata": {
        "id": "_euE-5uXtC55"
      },
      "source": [
        "def shuffle_two(a, b):\n",
        "    assert len(a) == len(b)\n",
        "    p = np.random.permutation(len(a))\n",
        "    return a[p], b[p]"
      ],
      "execution_count": null,
      "outputs": []
    },
    {
      "cell_type": "code",
      "metadata": {
        "tags": [],
        "id": "Y8rnLfgZtC56"
      },
      "source": [
        "x_train, y_train = shuffle_two(x_train, y_train)"
      ],
      "execution_count": null,
      "outputs": []
    },
    {
      "cell_type": "code",
      "metadata": {
        "id": "2ZvLlu4qtC56"
      },
      "source": [
        "x_test, y_test = shuffle_two(x_test, y_test)"
      ],
      "execution_count": null,
      "outputs": []
    },
    {
      "cell_type": "code",
      "metadata": {
        "colab": {
          "base_uri": "https://localhost:8080/"
        },
        "id": "BVbzK4dMtC56",
        "outputId": "49d3dafb-ab01-4b94-f4b4-05ba999cccdb"
      },
      "source": [
        "np.where(y_train=='Edge-Ring')"
      ],
      "execution_count": null,
      "outputs": [
        {
          "output_type": "execute_result",
          "data": {
            "text/plain": [
              "(array([    7,    14,    16, ..., 32998, 33011, 33013]),\n",
              " array([0, 0, 0, ..., 0, 0, 0]))"
            ]
          },
          "metadata": {},
          "execution_count": 36
        }
      ]
    },
    {
      "cell_type": "code",
      "metadata": {
        "colab": {
          "base_uri": "https://localhost:8080/",
          "height": 284
        },
        "id": "BVCjFbRXtC56",
        "outputId": "f66647af-35e8-412a-cd82-9756b2936e75"
      },
      "source": [
        "plt.imshow(np.argmax(x_train[7], axis=2))"
      ],
      "execution_count": null,
      "outputs": [
        {
          "output_type": "execute_result",
          "data": {
            "text/plain": [
              "<matplotlib.image.AxesImage at 0x7efead9adcd0>"
            ]
          },
          "metadata": {},
          "execution_count": 38
        },
        {
          "output_type": "display_data",
          "data": {
            "image/png": "[encoded data removed]",
            "text/plain": [
              "<Figure size 432x288 with 1 Axes>"
            ]
          },
          "metadata": {
            "needs_background": "light"
          }
        }
      ]
    },
    {
      "cell_type": "markdown",
      "metadata": {
        "id": "wPf8gMFCDhOU"
      },
      "source": [
        "# **Apply CNN**"
      ]
    },
    {
      "cell_type": "code",
      "metadata": {
        "colab": {
          "base_uri": "https://localhost:8080/"
        },
        "id": "Wyj-hqCIQh9Y",
        "outputId": "0cf26e71-64ea-482f-efb7-45295cc8862f"
      },
      "source": [
        "y_OH = OneHotEncoder()\n",
        "y_train_ohe = y_OH.fit_transform(y_train)\n",
        "print(y_OH.get_feature_names())\n",
        "y_train_ohe = y_train_ohe.toarray()\n",
        "print(y_train_ohe[291])"
      ],
      "execution_count": 8,
      "outputs": [
        {
          "output_type": "stream",
          "name": "stdout",
          "text": [
            "['x0_Center' 'x0_Edge-Loc' 'x0_Edge-Ring' 'x0_Loc' 'x0_Near-full'\n",
            " 'x0_Scratch' 'x0_none']\n",
            "[0. 0. 0. 0. 0. 0. 1.]\n"
          ]
        }
      ]
    },
    {
      "cell_type": "code",
      "metadata": {
        "colab": {
          "base_uri": "https://localhost:8080/"
        },
        "id": "SSTwQa8kFb9P",
        "outputId": "0d864513-974a-44e5-8678-b3553560629f"
      },
      "source": [
        "y_OH2 = OneHotEncoder()\n",
        "y_test_ohe = y_OH2.fit_transform(y_test)\n",
        "print(y_OH2.get_feature_names())\n",
        "y_test_ohe = y_test_ohe.toarray()\n",
        "print(y_test_ohe[133])"
      ],
      "execution_count": 9,
      "outputs": [
        {
          "output_type": "stream",
          "name": "stdout",
          "text": [
            "['x0_Center' 'x0_Edge-Loc' 'x0_Edge-Ring' 'x0_Loc' 'x0_Near-full'\n",
            " 'x0_Scratch' 'x0_none']\n",
            "[0. 0. 0. 0. 0. 0. 1.]\n"
          ]
        }
      ]
    },
    {
      "cell_type": "code",
      "metadata": {
        "colab": {
          "base_uri": "https://localhost:8080/"
        },
        "id": "OBse9eM41qPT",
        "outputId": "a2adaa8f-9e60-471e-8141-70de2d2e58ae"
      },
      "source": [
        "print(x_train.shape, y_train_ohe.shape)"
      ],
      "execution_count": 10,
      "outputs": [
        {
          "output_type": "stream",
          "name": "stdout",
          "text": [
            "(50112, 32, 32, 3) (50112, 7)\n"
          ]
        }
      ]
    },
    {
      "cell_type": "code",
      "metadata": {
        "id": "vsoPTiehYt1X"
      },
      "source": [
        "def lr_schedule(epoch):\n",
        "    lr = 3e-4\n",
        "    if epoch < 10:\n",
        "        lr = lr\n",
        "    elif epoch < 20 :\n",
        "        lr = lr * 0.1\n",
        "    else:\n",
        "        lr = lr * 0.01\n",
        "    print('Learning rate: ', lr)\n",
        "    return lr"
      ],
      "execution_count": 12,
      "outputs": []
    },
    {
      "cell_type": "code",
      "metadata": {
        "id": "ELLd_xL6PKIq"
      },
      "source": [
        "import itertools\n",
        "from sklearn.metrics import confusion_matrix\n",
        "\n",
        "def plot_confusion_matrix(cm, normalize=False, title='Confusion matrix', cmap=plt.cm.Blues):\n",
        "    \"\"\"\n",
        "    This function prints and plots the confusion matrix.\n",
        "    Normalization can be applied by setting `normalize=True`.\n",
        "    \"\"\"\n",
        "    if normalize:\n",
        "        cm = cm.astype('float') / cm.sum(axis=1)[:, np.newaxis]\n",
        "        print(\"Normalized confusion matrix\")\n",
        "    else:\n",
        "        print('Confusion matrix, without normalization')\n",
        "\n",
        "    #print(cm)\n",
        "\n",
        "    plt.imshow(cm, interpolation='nearest', cmap=cmap)\n",
        "    plt.title(title)\n",
        "    plt.colorbar()\n",
        "\n",
        "    fmt = '.2f' if normalize else 'd'\n",
        "    thresh = cm.max() / 2.\n",
        "    for i, j in itertools.product(range(cm.shape[0]), range(cm.shape[1])):\n",
        "        plt.text(j, i, format(cm[i, j], fmt),\n",
        "                 horizontalalignment=\"center\",\n",
        "                 color=\"white\" if cm[i, j] > thresh else \"black\")\n",
        "\n",
        "    plt.tight_layout()\n",
        "    plt.ylabel('True label')\n",
        "    plt.xlabel('Predicted label') "
      ],
      "execution_count": 13,
      "outputs": []
    },
    {
      "cell_type": "code",
      "metadata": {
        "id": "Ic6h4jVycJJv"
      },
      "source": [
        "def plot_confusion_matrix2(y_true, y_pred, classes,\n",
        "                          normalize=False,\n",
        "                          title=None,\n",
        "                          cmap=plt.cm.Blues):\n",
        "    \"\"\"\n",
        "    This function prints and plots the confusion matrix.\n",
        "    Normalization can be applied by setting `normalize=True`.\n",
        "    \"\"\"\n",
        "    if not title:\n",
        "        if normalize:\n",
        "            title = 'Normalized confusion matrix'\n",
        "        else:\n",
        "            title = 'Confusion matrix, without normalization'\n",
        "\n",
        "    # Compute confusion matrix\n",
        "    cm = confusion_matrix(y_true, y_pred)\n",
        "    # Only use the labels that appear in the data\n",
        "    #classes = classes[unique_labels(y_true, y_pred)]\n",
        "    if normalize:\n",
        "        cm = cm.astype('float') / cm.sum(axis=1)[:, np.newaxis]\n",
        "        print(\"Normalized confusion matrix\")\n",
        "    else:\n",
        "        print('Confusion matrix, without normalization')\n",
        "\n",
        "    # print(cm)\n",
        "\n",
        "    fig, ax = plt.subplots()\n",
        "    im = ax.imshow(cm, interpolation='nearest', cmap=cmap)\n",
        "    ax.figure.colorbar(im, ax=ax)\n",
        "    # We want to show all ticks...\n",
        "    ax.set(xticks=np.arange(cm.shape[1]),\n",
        "           yticks=np.arange(cm.shape[0]),\n",
        "           # ... and label them with the respective list entries\n",
        "           xticklabels=classes, yticklabels=classes,\n",
        "           title=title,\n",
        "           ylabel='True label',\n",
        "           xlabel='Predicted label')\n",
        "\n",
        "    # Rotate the tick labels and set their alignment.\n",
        "    plt.setp(ax.get_xticklabels(), rotation=45, ha=\"right\",\n",
        "             rotation_mode=\"anchor\")\n",
        "\n",
        "    # Loop over data dimensions and create text annotations.\n",
        "    fmt = '.2f' if normalize else 'd'\n",
        "    thresh = cm.max() / 2.\n",
        "    for i in range(cm.shape[0]):\n",
        "        for j in range(cm.shape[1]):\n",
        "            ax.text(j, i, format(cm[i, j], fmt),\n",
        "                    ha=\"center\", va=\"center\",\n",
        "                    color=\"white\" if cm[i, j] > thresh else \"black\")\n",
        "    fig.tight_layout()\n",
        "    return ax"
      ],
      "execution_count": 14,
      "outputs": []
    },
    {
      "cell_type": "markdown",
      "metadata": {
        "id": "EZBFW51bDo2h"
      },
      "source": [
        "# **AlexNet**"
      ]
    },
    {
      "cell_type": "code",
      "metadata": {
        "id": "cXTy0HHr8rbk"
      },
      "source": [
        "data_name = 'Bootstrap'\n",
        "number = '3'\n",
        "batch_sizes = 64\n",
        "weight_decay = 1e-4\n",
        "epochs = 50\n",
        "model = \"AlexNet\"\n",
        "dir = os.path.join(os.getcwd(),data_name)\n",
        "os.makedirs(os.path.join(dir,'model_output',number,model), exist_ok=True)\n",
        "os.makedirs(os.path.join(dir,'train_valid_output',number), exist_ok=True)"
      ],
      "execution_count": 11,
      "outputs": []
    },
    {
      "cell_type": "code",
      "metadata": {
        "id": "kMXszN2s7nCI"
      },
      "source": [
        "# 참고 : https://github.com/eweill/keras-deepcv/blob/master/models/classification/alexnet.py\n",
        "\n",
        "def Alexnet(img_shape=(224, 224, 3), n_classes=10, l2_reg=0., weights=None):\n",
        "\n",
        "\t# Initialize model\n",
        "\talexnet = Sequential()\n",
        "\n",
        "\t# Layer 1\n",
        "\talexnet.add(Conv2D(96, (11, 11), input_shape=img_shape,\n",
        "\t\tpadding='same', kernel_regularizer=l2(l2_reg)))\n",
        "\talexnet.add(BatchNormalization())\n",
        "\talexnet.add(Activation('relu'))\n",
        "\talexnet.add(MaxPooling2D(pool_size=(2, 2)))\n",
        "\n",
        "\t# Layer 2\n",
        "\talexnet.add(Conv2D(256, (5, 5), padding='same'))\n",
        "\talexnet.add(BatchNormalization())\n",
        "\talexnet.add(Activation('relu'))\n",
        "\talexnet.add(MaxPooling2D(pool_size=(2, 2)))\n",
        "\n",
        "\t# Layer 3\n",
        "\talexnet.add(ZeroPadding2D((1, 1)))\n",
        "\talexnet.add(Conv2D(512, (3, 3), padding='same'))\n",
        "\talexnet.add(BatchNormalization())\n",
        "\talexnet.add(Activation('relu'))\n",
        "\talexnet.add(MaxPooling2D(pool_size=(2, 2)))\n",
        "\n",
        "\t# Layer 4\n",
        "\talexnet.add(ZeroPadding2D((1, 1)))\n",
        "\talexnet.add(Conv2D(1024, (3, 3), padding='same'))\n",
        "\talexnet.add(BatchNormalization())\n",
        "\talexnet.add(Activation('relu'))\n",
        "\n",
        "\t# Layer 5\n",
        "\talexnet.add(ZeroPadding2D((1, 1)))\n",
        "\talexnet.add(Conv2D(1024, (3, 3), padding='same'))\n",
        "\talexnet.add(BatchNormalization())\n",
        "\talexnet.add(Activation('relu'))\n",
        "\talexnet.add(MaxPooling2D(pool_size=(2, 2)))\n",
        "\n",
        "\t# Layer 6\n",
        "\talexnet.add(Flatten())\n",
        "\talexnet.add(Dense(3072))\n",
        "\talexnet.add(BatchNormalization())\n",
        "\talexnet.add(Activation('relu'))\n",
        "\talexnet.add(Dropout(0.5))\n",
        "\n",
        "\t# Layer 7\n",
        "\talexnet.add(Dense(4096))\n",
        "\talexnet.add(BatchNormalization())\n",
        "\talexnet.add(Activation('relu'))\n",
        "\talexnet.add(Dropout(0.5))\n",
        "\n",
        "\t# Layer 8\n",
        "\talexnet.add(Dense(n_classes))\n",
        "\talexnet.add(BatchNormalization())\n",
        "\talexnet.add(Activation('softmax'))\n",
        "\n",
        "\tif weights is not None:\n",
        "\t\talexnet.load_weights(weights)\n",
        "\n",
        "\treturn alexnet"
      ],
      "execution_count": 15,
      "outputs": []
    },
    {
      "cell_type": "code",
      "metadata": {
        "id": "sH2dUUNw9gVP"
      },
      "source": [
        "top5_acc = partial(tCA, k=5)\n",
        "top5_acc.__name__ = 'top5_acc'"
      ],
      "execution_count": null,
      "outputs": []
    },
    {
      "cell_type": "code",
      "metadata": {
        "colab": {
          "base_uri": "https://localhost:8080/"
        },
        "collapsed": true,
        "id": "JAQyKZIw7nE0",
        "jupyter": {
          "outputs_hidden": true
        },
        "tags": [],
        "outputId": "bc1832c8-4ed4-40de-b459-f512dd47bf7d"
      },
      "source": [
        "model1 = Alexnet(img_shape=(32, 32, 3), n_classes=7)\n",
        "model1.summary()\n",
        "plot_model(model1, show_shapes=True)\n",
        "\n",
        "filepath =  os.path.join(dir,'model_output',number,model,'{epoch:03d}.h5')\n",
        "callbacks_list = [ModelCheckpoint(filepath, monitor='val_loss', verbose=1, save_weights_only=False, save_best_only=True, mode='min'),\n",
        "                  ModelCheckpoint(filepath, monitor='val_accuracy', verbose=1, save_weights_only=False, save_best_only=True, mode='max'),\n",
        "                  EarlyStopping(monitor='val_auc', patience=3),\n",
        "                  LearningRateScheduler(lr_schedule,verbose=1)]\n",
        "model1.compile(optimizer = 'rmsprop', loss = 'categorical_crossentropy', metrics=[['AUC', 'Precision','Recall']])\n",
        "auto = model1.fit(x_train, y_train_ohe, validation_data=(x_test, y_test_ohe), epochs=50, batch_size=64, callbacks=callbacks_list, shuffle=True)"
      ],
      "execution_count": 56,
      "outputs": [
        {
          "output_type": "stream",
          "name": "stdout",
          "text": [
            "Model: \"sequential_1\"\n",
            "_________________________________________________________________\n",
            "Layer (type)                 Output Shape              Param #   \n",
            "=================================================================\n",
            "conv2d_5 (Conv2D)            (None, 32, 32, 96)        34944     \n",
            "_________________________________________________________________\n",
            "batch_normalization_8 (Batch (None, 32, 32, 96)        384       \n",
            "_________________________________________________________________\n",
            "activation_8 (Activation)    (None, 32, 32, 96)        0         \n",
            "_________________________________________________________________\n",
            "max_pooling2d_4 (MaxPooling2 (None, 16, 16, 96)        0         \n",
            "_________________________________________________________________\n",
            "conv2d_6 (Conv2D)            (None, 16, 16, 256)       614656    \n",
            "_________________________________________________________________\n",
            "batch_normalization_9 (Batch (None, 16, 16, 256)       1024      \n",
            "_________________________________________________________________\n",
            "activation_9 (Activation)    (None, 16, 16, 256)       0         \n",
            "_________________________________________________________________\n",
            "max_pooling2d_5 (MaxPooling2 (None, 8, 8, 256)         0         \n",
            "_________________________________________________________________\n",
            "zero_padding2d_3 (ZeroPaddin (None, 10, 10, 256)       0         \n",
            "_________________________________________________________________\n",
            "conv2d_7 (Conv2D)            (None, 10, 10, 512)       1180160   \n",
            "_________________________________________________________________\n",
            "batch_normalization_10 (Batc (None, 10, 10, 512)       2048      \n",
            "_________________________________________________________________\n",
            "activation_10 (Activation)   (None, 10, 10, 512)       0         \n",
            "_________________________________________________________________\n",
            "max_pooling2d_6 (MaxPooling2 (None, 5, 5, 512)         0         \n",
            "_________________________________________________________________\n",
            "zero_padding2d_4 (ZeroPaddin (None, 7, 7, 512)         0         \n",
            "_________________________________________________________________\n",
            "conv2d_8 (Conv2D)            (None, 7, 7, 1024)        4719616   \n",
            "_________________________________________________________________\n",
            "batch_normalization_11 (Batc (None, 7, 7, 1024)        4096      \n",
            "_________________________________________________________________\n",
            "activation_11 (Activation)   (None, 7, 7, 1024)        0         \n",
            "_________________________________________________________________\n",
            "zero_padding2d_5 (ZeroPaddin (None, 9, 9, 1024)        0         \n",
            "_________________________________________________________________\n",
            "conv2d_9 (Conv2D)            (None, 9, 9, 1024)        9438208   \n",
            "_________________________________________________________________\n",
            "batch_normalization_12 (Batc (None, 9, 9, 1024)        4096      \n",
            "_________________________________________________________________\n",
            "activation_12 (Activation)   (None, 9, 9, 1024)        0         \n",
            "_________________________________________________________________\n",
            "max_pooling2d_7 (MaxPooling2 (None, 4, 4, 1024)        0         \n",
            "_________________________________________________________________\n",
            "flatten_1 (Flatten)          (None, 16384)             0         \n",
            "_________________________________________________________________\n",
            "dense_3 (Dense)              (None, 3072)              50334720  \n",
            "_________________________________________________________________\n",
            "batch_normalization_13 (Batc (None, 3072)              12288     \n",
            "_________________________________________________________________\n",
            "activation_13 (Activation)   (None, 3072)              0         \n",
            "_________________________________________________________________\n",
            "dropout_2 (Dropout)          (None, 3072)              0         \n",
            "_________________________________________________________________\n",
            "dense_4 (Dense)              (None, 4096)              12587008  \n",
            "_________________________________________________________________\n",
            "batch_normalization_14 (Batc (None, 4096)              16384     \n",
            "_________________________________________________________________\n",
            "activation_14 (Activation)   (None, 4096)              0         \n",
            "_________________________________________________________________\n",
            "dropout_3 (Dropout)          (None, 4096)              0         \n",
            "_________________________________________________________________\n",
            "dense_5 (Dense)              (None, 7)                 28679     \n",
            "_________________________________________________________________\n",
            "batch_normalization_15 (Batc (None, 7)                 28        \n",
            "_________________________________________________________________\n",
            "activation_15 (Activation)   (None, 7)                 0         \n",
            "=================================================================\n",
            "Total params: 78,978,339\n",
            "Trainable params: 78,958,165\n",
            "Non-trainable params: 20,174\n",
            "_________________________________________________________________\n",
            "Epoch 1/50\n",
            "Learning rate:  0.0003\n",
            "\n",
            "Epoch 00001: LearningRateScheduler setting learning rate to 0.0003.\n",
            "783/783 [==============================] - 216s 230ms/step - loss: 0.3682 - auc: 0.9979 - precision: 0.9923 - recall: 0.9040 - val_loss: 1.8017 - val_auc: 0.7883 - val_precision: 0.1241 - val_recall: 0.0068\n",
            "\n",
            "Epoch 00001: val_loss improved from inf to 1.80170, saving model to /content/drive/Shareddrives/Labs/2020_1_이소연/code/wm811k/model_output/3/sequential_1/001.h5\n",
            "WARNING:tensorflow:Can save best model only with val_accuracy available, skipping.\n",
            "Epoch 2/50\n",
            "Learning rate:  0.0003\n",
            "\n",
            "Epoch 00002: LearningRateScheduler setting learning rate to 0.0003.\n",
            "783/783 [==============================] - 181s 231ms/step - loss: 0.1791 - auc: 0.9997 - precision: 0.9974 - recall: 0.9897 - val_loss: 2.9606 - val_auc: 0.4814 - val_precision: 0.0075 - val_recall: 0.0074\n",
            "\n",
            "Epoch 00002: val_loss did not improve from 1.80170\n",
            "WARNING:tensorflow:Can save best model only with val_accuracy available, skipping.\n",
            "Epoch 3/50\n",
            "Learning rate:  0.0003\n",
            "\n",
            "Epoch 00003: LearningRateScheduler setting learning rate to 0.0003.\n",
            "783/783 [==============================] - 180s 230ms/step - loss: 0.1071 - auc: 0.9998 - precision: 0.9985 - recall: 0.9960 - val_loss: 1.8676 - val_auc: 0.7164 - val_precision: 0.2931 - val_recall: 0.1523\n",
            "\n",
            "Epoch 00003: val_loss did not improve from 1.80170\n",
            "WARNING:tensorflow:Can save best model only with val_accuracy available, skipping.\n",
            "Epoch 4/50\n",
            "Learning rate:  0.0003\n",
            "\n",
            "Epoch 00004: LearningRateScheduler setting learning rate to 0.0003.\n",
            "783/783 [==============================] - 180s 230ms/step - loss: 0.0651 - auc: 1.0000 - precision: 0.9986 - recall: 0.9975 - val_loss: 0.9918 - val_auc: 0.9176 - val_precision: 0.7532 - val_recall: 0.5700\n",
            "\n",
            "Epoch 00004: val_loss improved from 1.80170 to 0.99185, saving model to /content/drive/Shareddrives/Labs/2020_1_이소연/code/wm811k/model_output/3/sequential_1/004.h5\n",
            "WARNING:tensorflow:Can save best model only with val_accuracy available, skipping.\n",
            "Epoch 5/50\n",
            "Learning rate:  0.0003\n",
            "\n",
            "Epoch 00005: LearningRateScheduler setting learning rate to 0.0003.\n",
            "783/783 [==============================] - 180s 230ms/step - loss: 0.0406 - auc: 0.9999 - precision: 0.9987 - recall: 0.9982 - val_loss: 0.4619 - val_auc: 0.9796 - val_precision: 0.8943 - val_recall: 0.8238\n",
            "\n",
            "Epoch 00005: val_loss improved from 0.99185 to 0.46191, saving model to /content/drive/Shareddrives/Labs/2020_1_이소연/code/wm811k/model_output/3/sequential_1/005.h5\n",
            "WARNING:tensorflow:Can save best model only with val_accuracy available, skipping.\n"
          ]
        }
      ]
    },
    {
      "cell_type": "code",
      "metadata": {
        "id": "GZrpNfaviNhg"
      },
      "source": [
        "filename =  os.path.join(dir,'model_output',number,'sequential_1','005.h5')\n",
        "alex = load_model(filename)"
      ],
      "execution_count": 17,
      "outputs": []
    },
    {
      "cell_type": "code",
      "metadata": {
        "id": "qtOJeC2pN0jg"
      },
      "source": [
        "y_predict = alex.predict(x_test)\n",
        "y_pred_ = np.ones(len(y_predict))\n",
        "y_test_ = np.ones(len(y_test))\n",
        "for i in range(len(y_pred_)):\n",
        "    y_pred_[i] = np.argmax(y_predict[i])\n",
        "    y_test_[i] = np.argmax(y_test_ohe[i])"
      ],
      "execution_count": 18,
      "outputs": []
    },
    {
      "cell_type": "code",
      "metadata": {
        "colab": {
          "base_uri": "https://localhost:8080/"
        },
        "id": "aIOj2xEON0jg",
        "outputId": "d15b7736-5122-4a26-e445-2cd5be71c126"
      },
      "source": [
        "print(classification_report(y_test_, y_pred_, target_names=labels))"
      ],
      "execution_count": 21,
      "outputs": [
        {
          "output_type": "stream",
          "name": "stdout",
          "text": [
            "              precision    recall  f1-score   support\n",
            "\n",
            "      Center       0.20      0.08      0.12        24\n",
            "    Edge-Loc       0.21      0.39      0.28       104\n",
            "   Edge-Ring       0.25      0.89      0.39        27\n",
            "         Loc       0.07      0.45      0.12        71\n",
            "   Near-full       1.00      1.00      1.00        13\n",
            "     Scratch       1.00      0.14      0.24        37\n",
            "        none       0.98      0.88      0.93      5003\n",
            "\n",
            "    accuracy                           0.86      5279\n",
            "   macro avg       0.53      0.55      0.44      5279\n",
            "weighted avg       0.94      0.86      0.89      5279\n",
            "\n"
          ]
        }
      ]
    },
    {
      "cell_type": "code",
      "metadata": {
        "colab": {
          "base_uri": "https://localhost:8080/"
        },
        "id": "ZPtr9FnT3oU1",
        "outputId": "ea59e69d-0b24-4b9c-d4fb-0a5e6d1997dc"
      },
      "source": [
        "for f in labels :\n",
        "    print('{} : {}'.format(f, len(y_test[y_test==f])))"
      ],
      "execution_count": null,
      "outputs": [
        {
          "output_type": "stream",
          "name": "stdout",
          "text": [
            "Center : 8\n",
            "Edge-Loc : 52\n",
            "Edge-Ring : 22\n",
            "Loc : 43\n",
            "Near-full : 11\n",
            "Scratch : 19\n",
            "none : 3090\n"
          ]
        }
      ]
    },
    {
      "cell_type": "code",
      "metadata": {
        "colab": {
          "base_uri": "https://localhost:8080/",
          "height": 612
        },
        "id": "tSZUnYCNwTb_",
        "outputId": "13a5410b-e437-4336-9ba8-c6aafb485849"
      },
      "source": [
        "np.set_printoptions(precision=2)\n",
        "\n",
        "# Plot non-normalized confusion matrix\n",
        "plot_confusion_matrix2(y_test_, y_pred_, classes=labels, title='Confusion matrix, without normalization')\n",
        "\n",
        "# Plot normalized confusion matrix\n",
        "plot_confusion_matrix2(y_test_, y_pred_, classes=labels, normalize=True, title='Normalized confusion matrix')\n",
        "\n",
        "plt.show()"
      ],
      "execution_count": 22,
      "outputs": [
        {
          "output_type": "stream",
          "name": "stdout",
          "text": [
            "Confusion matrix, without normalization\n",
            "Normalized confusion matrix\n"
          ]
        },
        {
          "output_type": "display_data",
          "data": {
            "image/png": "[encoded data removed]",
            "text/plain": [
              "<Figure size 432x288 with 2 Axes>"
            ]
          },
          "metadata": {
            "needs_background": "light"
          }
        },
        {
          "output_type": "display_data",
          "data": {
            "image/png": "[encoded data removed]",
            "text/plain": [
              "<Figure size 432x288 with 2 Axes>"
            ]
          },
          "metadata": {
            "needs_background": "light"
          }
        }
      ]
    },
    {
      "cell_type": "markdown",
      "metadata": {
        "id": "iIaUw-ktj6Q2"
      },
      "source": [
        "# **VGGNet**"
      ]
    },
    {
      "cell_type": "code",
      "metadata": {
        "id": "t3eqsP_sj3Ds"
      },
      "source": [
        "data_name = 'Bootstrap'\n",
        "number = '3'\n",
        "batch_sizes = 64\n",
        "weight_decay = 1e-4\n",
        "epochs = 50\n",
        "model = \"VGG\"\n",
        "dir = os.path.join(os.getcwd(),data_name)\n",
        "os.makedirs(os.path.join(dir,'model_output',number,model), exist_ok=True)\n",
        "os.makedirs(os.path.join(dir,'train_valid_output',number), exist_ok=True)"
      ],
      "execution_count": 23,
      "outputs": []
    },
    {
      "cell_type": "code",
      "metadata": {
        "id": "ybLygBSp7nNE"
      },
      "source": [
        "def simple_vgg16():\n",
        "    input_shape = (32, 32, 3)\n",
        "    input_tensor = Input(input_shape)\n",
        "    \n",
        "    #initializer: glorot_normal, glorot_uniform, he_normal, he_uniform\n",
        "\n",
        "    conv_1 = Conv2D(32, (3,3), kernel_initializer='glorot_uniform', kernel_regularizer=l2(0.001), activation='relu',padding='same')(input_tensor)\n",
        "    conv_2 = Conv2D(64, (3,3), kernel_initializer='glorot_uniform', kernel_regularizer=l2(0.001), activation='relu',padding='same')(conv_1)\n",
        "    pool_1 = MaxPool2D((2,2), name = 'max_pool1')(conv_2)\n",
        "\n",
        "    conv_3 = Conv2D(128, (3,3), kernel_initializer='glorot_uniform',activation='relu', kernel_regularizer=l2(0.001), padding='same')(pool_1)\n",
        "    conv_4 = Conv2D(256, (3,3), kernel_initializer='glorot_uniform',activation='relu', kernel_regularizer=l2(0.001), padding='same')(conv_3)\n",
        "    pool_2 = MaxPool2D((2,2), name = 'max_pool2')(conv_4)\n",
        "\n",
        "    flat = Flatten()(pool_2)\n",
        "\n",
        "    dense_1 = Dense(512, activation='relu')(flat)\n",
        "    drop_1 = Dropout(0.4)(dense_1)\n",
        "    dense_2 = Dense(256, activation='relu')(drop_1)\n",
        "    output_tensor = Dense(7, activation='softmax')(dense_2)\n",
        "\n",
        "    model = Model(input_tensor, output_tensor)\n",
        " \n",
        "    return model"
      ],
      "execution_count": 26,
      "outputs": []
    },
    {
      "cell_type": "code",
      "metadata": {
        "colab": {
          "base_uri": "https://localhost:8080/"
        },
        "id": "u16sHIokYuZ2",
        "outputId": "d6b0cdc2-5c67-4ba6-8905-41a75793d62a"
      },
      "source": [
        "model2 = simple_vgg16()\n",
        "model2.compile(optimizer = 'rmsprop', loss = 'categorical_crossentropy', metrics=[['AUC', 'Precision','Recall']])\n",
        "filepath =  os.path.join(dir,'model_output',number,model,'{epoch:03d}.h5')\n",
        "callbacks_list = [ModelCheckpoint(filepath, monitor='val_loss', verbose=1, save_weights_only=False, save_best_only=True, mode='min'),\n",
        "                  ModelCheckpoint(filepath, monitor='val_accuracy', verbose=1, save_weights_only=False, save_best_only=True, mode='max'),\n",
        "                  EarlyStopping(monitor='val_auc', patience=3),\n",
        "                  LearningRateScheduler(lr_schedule,verbose=1)]\n",
        "auto = model2.fit(x_train, y_train_ohe, validation_data=(x_test, y_test_ohe), epochs=50, batch_size=64, callbacks=callbacks_list, shuffle=True)"
      ],
      "execution_count": 27,
      "outputs": [
        {
          "output_type": "stream",
          "name": "stdout",
          "text": [
            "Epoch 1/50\n",
            "Learning rate:  0.0003\n",
            "\n",
            "Epoch 00001: LearningRateScheduler setting learning rate to 0.0003.\n",
            "783/783 [==============================] - 35s 39ms/step - loss: 0.5753 - auc: 0.9870 - precision: 0.9290 - recall: 0.8163 - val_loss: 0.4783 - val_auc: 0.9875 - val_precision: 0.9093 - val_recall: 0.8960\n",
            "\n",
            "Epoch 00001: val_loss improved from inf to 0.47832, saving model to /content/drive/Shareddrives/Labs/2020_1_이소연/code/wm811k/model_output/3/VGG/001.h5\n",
            "WARNING:tensorflow:Can save best model only with val_accuracy available, skipping.\n",
            "Epoch 2/50\n",
            "Learning rate:  0.0003\n",
            "\n",
            "Epoch 00002: LearningRateScheduler setting learning rate to 0.0003.\n",
            "783/783 [==============================] - 30s 38ms/step - loss: 0.1724 - auc: 0.9991 - precision: 0.9831 - recall: 0.9796 - val_loss: 0.3510 - val_auc: 0.9894 - val_precision: 0.9432 - val_recall: 0.9382\n",
            "\n",
            "Epoch 00002: val_loss improved from 0.47832 to 0.35096, saving model to /content/drive/Shareddrives/Labs/2020_1_이소연/code/wm811k/model_output/3/VGG/002.h5\n",
            "WARNING:tensorflow:Can save best model only with val_accuracy available, skipping.\n",
            "Epoch 3/50\n",
            "Learning rate:  0.0003\n",
            "\n",
            "Epoch 00003: LearningRateScheduler setting learning rate to 0.0003.\n",
            "783/783 [==============================] - 30s 38ms/step - loss: 0.1069 - auc: 0.9995 - precision: 0.9898 - recall: 0.9881 - val_loss: 0.2532 - val_auc: 0.9922 - val_precision: 0.9658 - val_recall: 0.9638\n",
            "\n",
            "Epoch 00003: val_loss improved from 0.35096 to 0.25321, saving model to /content/drive/Shareddrives/Labs/2020_1_이소연/code/wm811k/model_output/3/VGG/003.h5\n",
            "WARNING:tensorflow:Can save best model only with val_accuracy available, skipping.\n",
            "Epoch 4/50\n",
            "Learning rate:  0.0003\n",
            "\n",
            "Epoch 00004: LearningRateScheduler setting learning rate to 0.0003.\n",
            "783/783 [==============================] - 29s 38ms/step - loss: 0.0747 - auc: 0.9997 - precision: 0.9928 - recall: 0.9917 - val_loss: 0.2810 - val_auc: 0.9901 - val_precision: 0.9626 - val_recall: 0.9614\n",
            "\n",
            "Epoch 00004: val_loss did not improve from 0.25321\n",
            "WARNING:tensorflow:Can save best model only with val_accuracy available, skipping.\n"
          ]
        }
      ]
    },
    {
      "cell_type": "code",
      "metadata": {
        "colab": {
          "base_uri": "https://localhost:8080/"
        },
        "id": "FX-PBzR0iHjY",
        "outputId": "9953b8f3-a269-4bc9-a21f-9c40a055e67d"
      },
      "source": [
        "y_predict = model2.predict(x_test)\n",
        "y_pred_2 = np.ones(len(y_predict))\n",
        "for i in range(len(y_pred_)):\n",
        "    y_pred_2[i] = np.argmax(y_predict[i])\n",
        "print(classification_report(y_test_, y_pred_2, target_names=labels))"
      ],
      "execution_count": 29,
      "outputs": [
        {
          "output_type": "stream",
          "name": "stdout",
          "text": [
            "              precision    recall  f1-score   support\n",
            "\n",
            "      Center       0.40      0.50      0.44        24\n",
            "    Edge-Loc       0.56      0.62      0.59       104\n",
            "   Edge-Ring       0.63      0.81      0.71        27\n",
            "         Loc       0.56      0.54      0.55        71\n",
            "   Near-full       1.00      1.00      1.00        13\n",
            "     Scratch       0.47      0.24      0.32        37\n",
            "        none       0.98      0.98      0.98      5003\n",
            "\n",
            "    accuracy                           0.96      5279\n",
            "   macro avg       0.66      0.67      0.66      5279\n",
            "weighted avg       0.96      0.96      0.96      5279\n",
            "\n"
          ]
        }
      ]
    },
    {
      "cell_type": "code",
      "metadata": {
        "colab": {
          "base_uri": "https://localhost:8080/",
          "height": 612
        },
        "id": "YfkRnCmKhBU8",
        "outputId": "616bef53-0ff6-4977-9302-7efe11fd4376"
      },
      "source": [
        "np.set_printoptions(precision=2)\n",
        "\n",
        "# Plot non-normalized confusion matrix\n",
        "plot_confusion_matrix2(y_test_, y_pred_2, classes=labels, title='Confusion matrix, without normalization')\n",
        "\n",
        "# Plot normalized confusion matrix\n",
        "plot_confusion_matrix2(y_test_, y_pred_2, classes=labels, normalize=True, title='Normalized confusion matrix')\n",
        "\n",
        "plt.show()"
      ],
      "execution_count": 32,
      "outputs": [
        {
          "output_type": "stream",
          "name": "stdout",
          "text": [
            "Confusion matrix, without normalization\n",
            "Normalized confusion matrix\n"
          ]
        },
        {
          "output_type": "display_data",
          "data": {
            "image/png": "[encoded data removed]",
            "text/plain": [
              "<Figure size 432x288 with 2 Axes>"
            ]
          },
          "metadata": {
            "needs_background": "light"
          }
        },
        {
          "output_type": "display_data",
          "data": {
            "image/png": "[encoded data removed]",
            "text/plain": [
              "<Figure size 432x288 with 2 Axes>"
            ]
          },
          "metadata": {
            "needs_background": "light"
          }
        }
      ]
    },
    {
      "cell_type": "code",
      "metadata": {
        "id": "6LZl9EA4DRRL"
      },
      "source": [
        "def vgg16_model(img_shape=(224, 224, 3), n_classes=1000, l2_reg=0.,\n",
        "\tweights=None):\n",
        "\n",
        "\t# Initialize model\n",
        "\tvgg16 = Sequential()\n",
        "\n",
        "\t# Layer 1 & 2\n",
        "\tvgg16.add(Conv2D(64, (3, 3), padding='same',\n",
        "\t\tinput_shape=img_shape, kernel_regularizer=l2(l2_reg)))\n",
        "\tvgg16.add(Activation('relu'))\n",
        "\tvgg16.add(ZeroPadding2D((1, 1)))\n",
        "\tvgg16.add(Conv2D(64, (3, 3), padding='same'))\n",
        "\tvgg16.add(Activation('relu'))\n",
        "\tvgg16.add(MaxPooling2D(pool_size=(2, 2)))\n",
        "\n",
        "\t# Layer 3 & 4\n",
        "\tvgg16.add(ZeroPadding2D((1, 1)))\n",
        "\tvgg16.add(Conv2D(128, (3, 3), padding='same'))\n",
        "\tvgg16.add(Activation('relu'))\n",
        "\tvgg16.add(ZeroPadding2D((1, 1)))\n",
        "\tvgg16.add(Conv2D(128, (3, 3), padding='same'))\n",
        "\tvgg16.add(Activation('relu'))\n",
        "\tvgg16.add(MaxPooling2D(pool_size=(2, 2)))\n",
        "\n",
        "\t# Layer 5, 6, & 7\n",
        "\tvgg16.add(ZeroPadding2D((1, 1)))\n",
        "\tvgg16.add(Conv2D(256, (3, 3), padding='same'))\n",
        "\tvgg16.add(Activation('relu'))\n",
        "\tvgg16.add(ZeroPadding2D((1, 1)))\n",
        "\tvgg16.add(Conv2D(256, (3, 3), padding='same'))\n",
        "\tvgg16.add(Activation('relu'))\n",
        "\tvgg16.add(ZeroPadding2D((1, 1)))\n",
        "\tvgg16.add(Conv2D(256, (3, 3), padding='same'))\n",
        "\tvgg16.add(Activation('relu'))\n",
        "\tvgg16.add(MaxPooling2D(pool_size=(2, 2)))\n",
        "\n",
        "\t# Layers 8, 9, & 10\n",
        "\tvgg16.add(ZeroPadding2D((1, 1)))\n",
        "\tvgg16.add(Conv2D(512, (3, 3), padding='same'))\n",
        "\tvgg16.add(Activation('relu'))\n",
        "\tvgg16.add(ZeroPadding2D((1, 1)))\n",
        "\tvgg16.add(Conv2D(512, (3, 3), padding='same'))\n",
        "\tvgg16.add(Activation('relu'))\n",
        "\tvgg16.add(ZeroPadding2D((1, 1)))\n",
        "\tvgg16.add(Conv2D(512, (3, 3), padding='same'))\n",
        "\tvgg16.add(Activation('relu'))\n",
        "\tvgg16.add(MaxPooling2D(pool_size=(2, 2)))\n",
        "\n",
        "\t# Layers 11, 12, & 13\n",
        "\tvgg16.add(ZeroPadding2D((1, 1)))\n",
        "\tvgg16.add(Conv2D(512, (3, 3), padding='same'))\n",
        "\tvgg16.add(Activation('relu'))\n",
        "\tvgg16.add(ZeroPadding2D((1, 1)))\n",
        "\tvgg16.add(Conv2D(512, (3, 3), padding='same'))\n",
        "\tvgg16.add(Activation('relu'))\n",
        "\tvgg16.add(ZeroPadding2D((1, 1)))\n",
        "\tvgg16.add(Conv2D(512, (3, 3), padding='same'))\n",
        "\tvgg16.add(Activation('relu'))\n",
        "\tvgg16.add(MaxPooling2D(pool_size=(2, 2)))\n",
        "\n",
        "\t# Layers 14, 15, & 16\n",
        "\tvgg16.add(Flatten())\n",
        "\tvgg16.add(Dense(4096))\n",
        "\tvgg16.add(Activation('relu'))\n",
        "\tvgg16.add(Dropout(0.5))\n",
        "\tvgg16.add(Dense(4096))\n",
        "\tvgg16.add(Activation('relu'))\n",
        "\tvgg16.add(Dropout(0.5))\n",
        "\tvgg16.add(Dense(n_classes))\n",
        "\tvgg16.add(Activation('softmax'))\n",
        "\n",
        "\tif weights is not None:\n",
        "\t\tvgg16.load_weights(weights)\n",
        "\n",
        "\treturn vgg16"
      ],
      "execution_count": 33,
      "outputs": []
    },
    {
      "cell_type": "code",
      "metadata": {
        "colab": {
          "base_uri": "https://localhost:8080/"
        },
        "id": "ZGqF6c-3qHnj",
        "outputId": "b37df73b-6c28-4613-a782-7c60d5ca1983"
      },
      "source": [
        "model3 = vgg16_model(img_shape=(32, 32, 3), n_classes=7)\n",
        "model3.summary()\n",
        "plot_model(model3, show_shapes=True)\n",
        "\n",
        "filepath =  os.path.join(dir,'model_output',number,'VGG16','{epoch:03d}.h5')\n",
        "callbacks_list = [ModelCheckpoint(filepath, monitor='val_loss', verbose=1, save_weights_only=False, save_best_only=True, mode='min'),\n",
        "                  ModelCheckpoint(filepath, monitor='val_accuracy', verbose=1, save_weights_only=False, save_best_only=True, mode='max'),\n",
        "                  EarlyStopping(monitor='val_auc', patience=3),\n",
        "                  LearningRateScheduler(lr_schedule,verbose=1)] \n",
        "model3.compile(optimizer = 'rmsprop', loss = 'categorical_crossentropy', metrics=['AUC', 'Precision','Recall'])\n",
        "auto = model3.fit(x_train, y_train_ohe, validation_data=(x_test, y_test_ohe), epochs=50, batch_size=64, callbacks=callbacks_list, shuffle=True)"
      ],
      "execution_count": 34,
      "outputs": [
        {
          "output_type": "stream",
          "name": "stdout",
          "text": [
            "Model: \"sequential\"\n",
            "_________________________________________________________________\n",
            "Layer (type)                 Output Shape              Param #   \n",
            "=================================================================\n",
            "conv2d_8 (Conv2D)            (None, 32, 32, 64)        1792      \n",
            "_________________________________________________________________\n",
            "activation (Activation)      (None, 32, 32, 64)        0         \n",
            "_________________________________________________________________\n",
            "zero_padding2d (ZeroPadding2 (None, 34, 34, 64)        0         \n",
            "_________________________________________________________________\n",
            "conv2d_9 (Conv2D)            (None, 34, 34, 64)        36928     \n",
            "_________________________________________________________________\n",
            "activation_1 (Activation)    (None, 34, 34, 64)        0         \n",
            "_________________________________________________________________\n",
            "max_pooling2d (MaxPooling2D) (None, 17, 17, 64)        0         \n",
            "_________________________________________________________________\n",
            "zero_padding2d_1 (ZeroPaddin (None, 19, 19, 64)        0         \n",
            "_________________________________________________________________\n",
            "conv2d_10 (Conv2D)           (None, 19, 19, 128)       73856     \n",
            "_________________________________________________________________\n",
            "activation_2 (Activation)    (None, 19, 19, 128)       0         \n",
            "_________________________________________________________________\n",
            "zero_padding2d_2 (ZeroPaddin (None, 21, 21, 128)       0         \n",
            "_________________________________________________________________\n",
            "conv2d_11 (Conv2D)           (None, 21, 21, 128)       147584    \n",
            "_________________________________________________________________\n",
            "activation_3 (Activation)    (None, 21, 21, 128)       0         \n",
            "_________________________________________________________________\n",
            "max_pooling2d_1 (MaxPooling2 (None, 10, 10, 128)       0         \n",
            "_________________________________________________________________\n",
            "zero_padding2d_3 (ZeroPaddin (None, 12, 12, 128)       0         \n",
            "_________________________________________________________________\n",
            "conv2d_12 (Conv2D)           (None, 12, 12, 256)       295168    \n",
            "_________________________________________________________________\n",
            "activation_4 (Activation)    (None, 12, 12, 256)       0         \n",
            "_________________________________________________________________\n",
            "zero_padding2d_4 (ZeroPaddin (None, 14, 14, 256)       0         \n",
            "_________________________________________________________________\n",
            "conv2d_13 (Conv2D)           (None, 14, 14, 256)       590080    \n",
            "_________________________________________________________________\n",
            "activation_5 (Activation)    (None, 14, 14, 256)       0         \n",
            "_________________________________________________________________\n",
            "zero_padding2d_5 (ZeroPaddin (None, 16, 16, 256)       0         \n",
            "_________________________________________________________________\n",
            "conv2d_14 (Conv2D)           (None, 16, 16, 256)       590080    \n",
            "_________________________________________________________________\n",
            "activation_6 (Activation)    (None, 16, 16, 256)       0         \n",
            "_________________________________________________________________\n",
            "max_pooling2d_2 (MaxPooling2 (None, 8, 8, 256)         0         \n",
            "_________________________________________________________________\n",
            "zero_padding2d_6 (ZeroPaddin (None, 10, 10, 256)       0         \n",
            "_________________________________________________________________\n",
            "conv2d_15 (Conv2D)           (None, 10, 10, 512)       1180160   \n",
            "_________________________________________________________________\n",
            "activation_7 (Activation)    (None, 10, 10, 512)       0         \n",
            "_________________________________________________________________\n",
            "zero_padding2d_7 (ZeroPaddin (None, 12, 12, 512)       0         \n",
            "_________________________________________________________________\n",
            "conv2d_16 (Conv2D)           (None, 12, 12, 512)       2359808   \n",
            "_________________________________________________________________\n",
            "activation_8 (Activation)    (None, 12, 12, 512)       0         \n",
            "_________________________________________________________________\n",
            "zero_padding2d_8 (ZeroPaddin (None, 14, 14, 512)       0         \n",
            "_________________________________________________________________\n",
            "conv2d_17 (Conv2D)           (None, 14, 14, 512)       2359808   \n",
            "_________________________________________________________________\n",
            "activation_9 (Activation)    (None, 14, 14, 512)       0         \n",
            "_________________________________________________________________\n",
            "max_pooling2d_3 (MaxPooling2 (None, 7, 7, 512)         0         \n",
            "_________________________________________________________________\n",
            "zero_padding2d_9 (ZeroPaddin (None, 9, 9, 512)         0         \n",
            "_________________________________________________________________\n",
            "conv2d_18 (Conv2D)           (None, 9, 9, 512)         2359808   \n",
            "_________________________________________________________________\n",
            "activation_10 (Activation)   (None, 9, 9, 512)         0         \n",
            "_________________________________________________________________\n",
            "zero_padding2d_10 (ZeroPaddi (None, 11, 11, 512)       0         \n",
            "_________________________________________________________________\n",
            "conv2d_19 (Conv2D)           (None, 11, 11, 512)       2359808   \n",
            "_________________________________________________________________\n",
            "activation_11 (Activation)   (None, 11, 11, 512)       0         \n",
            "_________________________________________________________________\n",
            "zero_padding2d_11 (ZeroPaddi (None, 13, 13, 512)       0         \n",
            "_________________________________________________________________\n",
            "conv2d_20 (Conv2D)           (None, 13, 13, 512)       2359808   \n",
            "_________________________________________________________________\n",
            "activation_12 (Activation)   (None, 13, 13, 512)       0         \n",
            "_________________________________________________________________\n",
            "max_pooling2d_4 (MaxPooling2 (None, 6, 6, 512)         0         \n",
            "_________________________________________________________________\n",
            "flatten_2 (Flatten)          (None, 18432)             0         \n",
            "_________________________________________________________________\n",
            "dense_6 (Dense)              (None, 4096)              75501568  \n",
            "_________________________________________________________________\n",
            "activation_13 (Activation)   (None, 4096)              0         \n",
            "_________________________________________________________________\n",
            "dropout_2 (Dropout)          (None, 4096)              0         \n",
            "_________________________________________________________________\n",
            "dense_7 (Dense)              (None, 4096)              16781312  \n",
            "_________________________________________________________________\n",
            "activation_14 (Activation)   (None, 4096)              0         \n",
            "_________________________________________________________________\n",
            "dropout_3 (Dropout)          (None, 4096)              0         \n",
            "_________________________________________________________________\n",
            "dense_8 (Dense)              (None, 7)                 28679     \n",
            "_________________________________________________________________\n",
            "activation_15 (Activation)   (None, 7)                 0         \n",
            "=================================================================\n",
            "Total params: 107,026,247\n",
            "Trainable params: 107,026,247\n",
            "Non-trainable params: 0\n",
            "_________________________________________________________________\n",
            "Epoch 1/50\n",
            "Learning rate:  0.0003\n",
            "\n",
            "Epoch 00001: LearningRateScheduler setting learning rate to 0.0003.\n",
            "783/783 [==============================] - 253s 312ms/step - loss: 1.5564 - auc: 0.7689 - precision: 0.8437 - recall: 0.1795 - val_loss: 1.2660 - val_auc: 0.8877 - val_precision: 0.5033 - val_recall: 0.0144\n",
            "\n",
            "Epoch 00001: val_loss improved from inf to 1.26603, saving model to /content/drive/Shareddrives/Labs/2020_1_이소연/code/wm811k/model_output/3/VGG16/001.h5\n",
            "WARNING:tensorflow:Can save best model only with val_accuracy available, skipping.\n",
            "Epoch 2/50\n",
            "Learning rate:  0.0003\n",
            "\n",
            "Epoch 00002: LearningRateScheduler setting learning rate to 0.0003.\n",
            "783/783 [==============================] - 243s 310ms/step - loss: 0.5570 - auc: 0.9735 - precision: 0.8689 - recall: 0.7291 - val_loss: 0.3642 - val_auc: 0.9855 - val_precision: 0.9043 - val_recall: 0.8915\n",
            "\n",
            "Epoch 00002: val_loss improved from 1.26603 to 0.36416, saving model to /content/drive/Shareddrives/Labs/2020_1_이소연/code/wm811k/model_output/3/VGG16/002.h5\n",
            "WARNING:tensorflow:Can save best model only with val_accuracy available, skipping.\n",
            "Epoch 3/50\n",
            "Learning rate:  0.0003\n",
            "\n",
            "Epoch 00003: LearningRateScheduler setting learning rate to 0.0003.\n",
            "783/783 [==============================] - 242s 308ms/step - loss: 0.2014 - auc: 0.9944 - precision: 0.9530 - recall: 0.9357 - val_loss: 0.4690 - val_auc: 0.9819 - val_precision: 0.9148 - val_recall: 0.9028\n",
            "\n",
            "Epoch 00003: val_loss did not improve from 0.36416\n",
            "WARNING:tensorflow:Can save best model only with val_accuracy available, skipping.\n",
            "Epoch 4/50\n",
            "Learning rate:  0.0003\n",
            "\n",
            "Epoch 00004: LearningRateScheduler setting learning rate to 0.0003.\n",
            "783/783 [==============================] - 242s 309ms/step - loss: 0.2083 - auc: 0.9963 - precision: 0.9712 - recall: 0.9621 - val_loss: 0.2634 - val_auc: 0.9910 - val_precision: 0.9426 - val_recall: 0.9174\n",
            "\n",
            "Epoch 00004: val_loss improved from 0.36416 to 0.26338, saving model to /content/drive/Shareddrives/Labs/2020_1_이소연/code/wm811k/model_output/3/VGG16/004.h5\n",
            "WARNING:tensorflow:Can save best model only with val_accuracy available, skipping.\n"
          ]
        }
      ]
    },
    {
      "cell_type": "code",
      "metadata": {
        "id": "auoKkBFeiqVt"
      },
      "source": [
        "loss=auto.history['loss']\n",
        "val_loss=auto.history['val_loss']\n",
        "auc=auto.history['auc']\n",
        "val_auc=auto.history['val_auc']\n",
        "precision=auto.history['precision']\n",
        "val_precision=auto.history['val_precision']\n",
        "recall=auto.history['recall']\n",
        "val_recall=auto.history['val_recall']\n",
        "epochs=range(1,len(loss)+1)\n",
        "\n",
        "data = np.array([epochs,loss,val_loss,auc,val_auc,precision,val_precision,recall, val_recall]).T"
      ],
      "execution_count": 35,
      "outputs": []
    },
    {
      "cell_type": "code",
      "metadata": {
        "colab": {
          "base_uri": "https://localhost:8080/",
          "height": 808
        },
        "id": "E6KQ_l7MhtPf",
        "outputId": "90c6d0b8-c8eb-49e2-b5dd-0a9d4c921a4d"
      },
      "source": [
        "plt.plot(epochs[1:],auc[1:],'b',label='Training 1-Auc')\n",
        "plt.plot(epochs[1:],val_auc[1:],'r',label='Validation 1-Auc')\n",
        "plt.title('Training and Validation Top-1 AUC')\n",
        "plt.legend()\n",
        "plt.figure()\n",
        "\n",
        "plt.plot(epochs,precision,'b',label='Training Precision')\n",
        "plt.plot(epochs,val_precision,'r',label='Validation Precision')\n",
        "plt.title('Training and Validation Precision')\n",
        "plt.legend()\n",
        "plt.figure()\n",
        "\n",
        "plt.plot(epochs,loss,'b',label='Training Loss')\n",
        "plt.plot(epochs,val_loss,'r',label='Validation Loss')\n",
        "plt.title('Training and Validation Loss')\n",
        "plt.legend()\n",
        "plt.show()"
      ],
      "execution_count": 36,
      "outputs": [
        {
          "output_type": "display_data",
          "data": {
            "image/png": "[encoded data removed]",
            "text/plain": [
              "<Figure size 432x288 with 1 Axes>"
            ]
          },
          "metadata": {
            "needs_background": "light"
          }
        },
        {
          "output_type": "display_data",
          "data": {
            "image/png": "[encoded data removed]",
            "text/plain": [
              "<Figure size 432x288 with 1 Axes>"
            ]
          },
          "metadata": {
            "needs_background": "light"
          }
        },
        {
          "output_type": "display_data",
          "data": {
            "image/png": "[encoded data removed]",
            "text/plain": [
              "<Figure size 432x288 with 1 Axes>"
            ]
          },
          "metadata": {
            "needs_background": "light"
          }
        }
      ]
    },
    {
      "cell_type": "code",
      "metadata": {
        "id": "LKOBpZVLifVr",
        "colab": {
          "base_uri": "https://localhost:8080/"
        },
        "outputId": "d0a6b444-972c-4aa6-a184-cc691930f60e"
      },
      "source": [
        "y_predict = model3.predict(x_test)\n",
        "y_pred_3 = np.ones(len(y_predict))\n",
        "for i in range(len(y_pred_3)):\n",
        "    y_pred_3[i] = np.argmax(y_predict[i])\n",
        "print(classification_report(y_test_, y_pred_3, target_names=labels))"
      ],
      "execution_count": 37,
      "outputs": [
        {
          "output_type": "stream",
          "name": "stdout",
          "text": [
            "              precision    recall  f1-score   support\n",
            "\n",
            "      Center       0.28      0.62      0.38        24\n",
            "    Edge-Loc       0.35      0.70      0.47       104\n",
            "   Edge-Ring       0.56      0.74      0.63        27\n",
            "         Loc       0.48      0.42      0.45        71\n",
            "   Near-full       0.81      1.00      0.90        13\n",
            "     Scratch       0.14      0.46      0.22        37\n",
            "        none       0.99      0.95      0.97      5003\n",
            "\n",
            "    accuracy                           0.93      5279\n",
            "   macro avg       0.52      0.70      0.57      5279\n",
            "weighted avg       0.96      0.93      0.94      5279\n",
            "\n"
          ]
        }
      ]
    },
    {
      "cell_type": "code",
      "metadata": {
        "colab": {
          "base_uri": "https://localhost:8080/",
          "height": 612
        },
        "id": "xESTPnsOUy9s",
        "outputId": "6940856a-36fb-4e38-e4a1-a6bfa86fd9da"
      },
      "source": [
        "np.set_printoptions(precision=2)\n",
        "\n",
        "# Plot non-normalized confusion matrix\n",
        "plot_confusion_matrix2(y_test_, y_pred_3, classes=labels, title='Confusion matrix, without normalization')\n",
        "\n",
        "# Plot normalized confusion matrix\n",
        "plot_confusion_matrix2(y_test_, y_pred_3, classes=labels, normalize=True, title='Normalized confusion matrix')\n",
        "\n",
        "plt.show()"
      ],
      "execution_count": 38,
      "outputs": [
        {
          "output_type": "stream",
          "name": "stdout",
          "text": [
            "Confusion matrix, without normalization\n",
            "Normalized confusion matrix\n"
          ]
        },
        {
          "output_type": "display_data",
          "data": {
            "image/png": "[encoded data removed]",
            "text/plain": [
              "<Figure size 432x288 with 2 Axes>"
            ]
          },
          "metadata": {
            "needs_background": "light"
          }
        },
        {
          "output_type": "display_data",
          "data": {
            "image/png": "[encoded data removed]",
            "text/plain": [
              "<Figure size 432x288 with 2 Axes>"
            ]
          },
          "metadata": {
            "needs_background": "light"
          }
        }
      ]
    },
    {
      "cell_type": "markdown",
      "metadata": {
        "id": "Ipi_Hry4sHxX"
      },
      "source": [
        "# **ResNet**"
      ]
    },
    {
      "cell_type": "markdown",
      "metadata": {
        "id": "kD-oo9RTsC9p"
      },
      "source": [
        "ResNet50 / ResNet18\n",
        "\n",
        "VGG + Class Activation Mapping(CAM) technique"
      ]
    },
    {
      "cell_type": "code",
      "metadata": {
        "id": "WtkOu91LvDaO"
      },
      "source": [
        "data_name = 'Bootstrap'\n",
        "number = '0'\n",
        "batch_sizes = 64\n",
        "weight_decay = 1e-4\n",
        "epochs = 50\n",
        "model = \"ResNet\"\n",
        "dir = os.path.join(os.getcwd(),data_name)\n",
        "os.makedirs(os.path.join(dir,'model_output',number,model), exist_ok=True)\n",
        "os.makedirs(os.path.join(dir,'train_valid_output',number), exist_ok=True)"
      ],
      "execution_count": 44,
      "outputs": []
    },
    {
      "cell_type": "code",
      "metadata": {
        "id": "JFhGzKxYhtSh"
      },
      "source": [
        "def identity_block(X, f, filters, stage, block):\n",
        "    \"\"\"\n",
        "    Implementation of the identity block as defined in Figure 4\n",
        "    \n",
        "    Arguments:\n",
        "    X -- input tensor of shape (m, n_H_prev, n_W_prev, n_C_prev)\n",
        "    f -- integer, specifying the shape of the middle CONV's window for the main path\n",
        "    filters -- python list of integers, defining the number of filters in the CONV layers of the main path\n",
        "    stage -- integer, used to name the layers, depending on their position in the network\n",
        "    block -- string/character, used to name the layers, depending on their position in the network\n",
        "    \n",
        "    Returns:\n",
        "    X -- output of the identity block, tensor of shape (n_H, n_W, n_C)\n",
        "    \"\"\"\n",
        "    \n",
        "    # defining name basis\n",
        "    conv_name_base = 'res' + str(stage) + block + '_branch'\n",
        "    bn_name_base = 'bn' + str(stage) + block + '_branch'\n",
        "    \n",
        "    # Retrieve Filters\n",
        "    F1, F2, F3 = filters\n",
        "    \n",
        "    # Save the input value. You'll need this later to add back to the main path. \n",
        "    X_shortcut = X\n",
        "    \n",
        "    # First component of main path\n",
        "    X = Conv2D(filters = F1, kernel_size = (1, 1), strides = (1,1), padding = 'valid', name = conv_name_base + '2a', kernel_initializer = glorot_uniform(seed=0))(X)\n",
        "    X = BatchNormalization(axis = 3, name = bn_name_base + '2a')(X)\n",
        "    X = Activation('relu')(X)\n",
        "    \n",
        "    ### START CODE HERE ###\n",
        "    \n",
        "    # Second component of main path (≈3 lines)\n",
        "    X = Conv2D(filters = F2, kernel_size = (f,f), strides = (1,1), padding = 'same', name = conv_name_base + '2b', kernel_initializer = glorot_uniform(seed=0))(X)\n",
        "    X = BatchNormalization(axis = 3, name = bn_name_base + '2b')(X)\n",
        "    X = Activation('relu')(X)\n",
        "\n",
        "    # Third component of main path (≈2 lines)\n",
        "    X = Conv2D(filters = F3, kernel_size = (1,1), strides = (1,1), padding = 'valid', name = conv_name_base + '2c', kernel_initializer = glorot_uniform(seed=0))(X)\n",
        "    X = BatchNormalization(axis = 3, name = bn_name_base + '2c')(X)\n",
        "\n",
        "    # Final step: Add shortcut value to main path, and pass it through a RELU activation (≈2 lines)\n",
        "    X = Add()([X, X_shortcut])\n",
        "    X = Activation('relu')(X)\n",
        "    \n",
        "    ### END CODE HERE ###\n",
        "    \n",
        "    return X"
      ],
      "execution_count": 41,
      "outputs": []
    },
    {
      "cell_type": "code",
      "metadata": {
        "id": "hZqgbiaVhh3X"
      },
      "source": [
        "def convolutional_block(X, f, filters, stage, block, s = 2):\n",
        "    \"\"\"\n",
        "    Implementation of the convolutional block as defined in Figure 4\n",
        "    \n",
        "    Arguments:\n",
        "    X -- input tensor of shape (m, n_H_prev, n_W_prev, n_C_prev)\n",
        "    f -- integer, specifying the shape of the middle CONV's window for the main path\n",
        "    filters -- python list of integers, defining the number of filters in the CONV layers of the main path\n",
        "    stage -- integer, used to name the layers, depending on their position in the network\n",
        "    block -- string/character, used to name the layers, depending on their position in the network\n",
        "    s -- Integer, specifying the stride to be used\n",
        "    \n",
        "    Returns:\n",
        "    X -- output of the convolutional block, tensor of shape (n_H, n_W, n_C)\n",
        "    \"\"\"\n",
        "    \n",
        "    # defining name basis\n",
        "    conv_name_base = 'res' + str(stage) + block + '_branch'\n",
        "    bn_name_base = 'bn' + str(stage) + block + '_branch'\n",
        "    \n",
        "    # Retrieve Filters\n",
        "    F1, F2, F3 = filters\n",
        "    \n",
        "    # Save the input value\n",
        "    X_shortcut = X\n",
        "\n",
        "\n",
        "    ##### MAIN PATH #####\n",
        "    # First component of main path \n",
        "    X = Conv2D(F1, (1, 1), strides = (s,s), padding = 'valid', name = conv_name_base + '2a', kernel_initializer = glorot_uniform(seed=0))(X)\n",
        "    X = BatchNormalization(axis = 3, name = bn_name_base + '2a')(X)\n",
        "    X = Activation('relu')(X)\n",
        "    \n",
        "    ### START CODE HERE ###\n",
        "\n",
        "    # Second component of main path (≈3 lines)\n",
        "    X = Conv2D(F2, (f, f), strides = (1,1), padding = 'same', name = conv_name_base + '2b', kernel_initializer = glorot_uniform(seed=0))(X)\n",
        "    X = BatchNormalization(axis = 3, name = bn_name_base + '2b')(X)\n",
        "    X = Activation('relu')(X)\n",
        "\n",
        "    # Third component of main path (≈2 lines)\n",
        "    X = Conv2D(F3, (1, 1), strides = (1,1), padding = 'valid', name = conv_name_base + '2c', kernel_initializer = glorot_uniform(seed=0))(X)\n",
        "    X = BatchNormalization(axis = 3, name = bn_name_base + '2c')(X)\n",
        "\n",
        "    ##### SHORTCUT PATH #### (≈2 lines)\n",
        "    X_shortcut = Conv2D(F3, (1, 1), strides = (s,s), padding = 'valid', name = conv_name_base + '1', kernel_initializer = glorot_uniform(seed=0))(X_shortcut)\n",
        "    X_shortcut = BatchNormalization(axis = 3, name = bn_name_base + '1')(X_shortcut)\n",
        "\n",
        "    # Final step: Add shortcut value to main path, and pass it through a RELU activation (≈2 lines)\n",
        "    X = Add()([X, X_shortcut])\n",
        "    X = Activation('relu')(X)\n",
        "    \n",
        "    ### END CODE HERE ###\n",
        "    \n",
        "    return X"
      ],
      "execution_count": 42,
      "outputs": []
    },
    {
      "cell_type": "code",
      "metadata": {
        "id": "ZhLhFys5S_2P"
      },
      "source": [
        "def ResNet50(input_shape = (27, 27, 3), classes = 9):\n",
        "    \"\"\"\n",
        "    Implementation of the popular ResNet50 the following architecture:\n",
        "    CONV2D -> BATCHNORM -> RELU -> MAXPOOL -> CONVBLOCK -> IDBLOCK*2 -> CONVBLOCK -> IDBLOCK*3\n",
        "    -> CONVBLOCK -> IDBLOCK*5 -> CONVBLOCK -> IDBLOCK*2 -> AVGPOOL -> TOPLAYER\n",
        "\n",
        "    Arguments:\n",
        "    input_shape -- shape of the images of the dataset\n",
        "    classes -- integer, number of classes\n",
        "\n",
        "    Returns:\n",
        "    model -- a Model() instance in Keras\n",
        "    \"\"\"\n",
        "    \n",
        "    # Define the input as a tensor with shape input_shape\n",
        "    X_input = Input(input_shape)\n",
        "\n",
        "    \n",
        "    # Zero-Padding\n",
        "    X = ZeroPadding2D((1, 1))(X_input)\n",
        "    \n",
        "    # Stage 1\n",
        "    X = Conv2D(64, (3, 3), name = 'conv1', kernel_initializer = glorot_uniform(seed=0))(X)\n",
        "    X = BatchNormalization(axis = 3, name = 'bn_conv1')(X)\n",
        "    X = Activation('relu')(X)\n",
        "    X = MaxPooling2D((2, 2))(X)\n",
        "\n",
        "    # Stage 2\n",
        "    X = convolutional_block(X, f = 3, filters = [32,32,128], stage = 2, block='a', s = 1)\n",
        "    X = identity_block(X, 3, [32,32,128], stage=2, block='b')\n",
        "    X = identity_block(X, 3, [32,32,128], stage=2, block='c')\n",
        "\n",
        "    ### START CODE HERE ###\n",
        "\n",
        "    # Stage 3 (≈4 lines)\n",
        "    X = convolutional_block(X, f = 3, filters = [64,64,256], stage = 3, block='a', s = 2)\n",
        "    X = identity_block(X, 3, [64,64,256], stage=3, block='b')\n",
        "    X = identity_block(X, 3, [64,64,256], stage=3, block='c')\n",
        "    X = identity_block(X, 3, [64,64,256], stage=3, block='d')\n",
        "\n",
        "    # Stage 4 (≈6 lines)\n",
        "    X = convolutional_block(X, f = 3, filters = [128,128,512], stage = 4, block='a', s = 2)\n",
        "    X = identity_block(X, 3, [128,128,512], stage=4, block='b')\n",
        "    X = identity_block(X, 3, [128,128,512], stage=4, block='c')\n",
        "    X = identity_block(X, 3, [128,128,512], stage=4, block='d')\n",
        "    X = identity_block(X, 3, [128,128,512], stage=4, block='e')\n",
        "    X = identity_block(X, 3, [128,128,512], stage=4, block='f')\n",
        "\n",
        "    # Stage 5 (≈3 lines)\n",
        "    X = convolutional_block(X, f = 3, filters = [256, 256, 1024], stage = 5, block='a', s = 2)\n",
        "    X = identity_block(X, 3, [256, 256, 1024], stage=5, block='b')\n",
        "    X = identity_block(X, 3, [256, 256, 1024], stage=5, block='c')\n",
        "\n",
        "    # AVGPOOL (≈1 line). Use \"X = AveragePooling2D(...)(X)\"\n",
        "    X = AveragePooling2D(pool_size=(2,2), name = \"avg_pool\")(X)\n",
        "    \n",
        "    ### END CODE HERE ###\n",
        "\n",
        "    # output layer\n",
        "    X = Flatten()(X)\n",
        "    X = Dense(classes, activation='softmax', name='fc' + str(classes), kernel_initializer = glorot_uniform(seed=0))(X)\n",
        "    \n",
        "    \n",
        "    # Create model\n",
        "    model = Model(inputs = X_input, outputs = X, name='ResNet50')\n",
        "\n",
        "    return model"
      ],
      "execution_count": 43,
      "outputs": []
    },
    {
      "cell_type": "code",
      "metadata": {
        "colab": {
          "base_uri": "https://localhost:8080/"
        },
        "id": "TrRyEX3ahh5r",
        "outputId": "7808cdf2-4b6a-4d2a-8e7d-b1480ad4052d"
      },
      "source": [
        "# ResNet50\n",
        "model5 = ResNet50(input_shape = (32, 32, 3), classes = 7)\n",
        "model5.summary()\n",
        "plot_model(model5, show_shapes=True)\n",
        "\n",
        "filepath =  os.path.join(dir,'model_output',number, model,'{epoch:03d}.h5')\n",
        "callbacks_list = [ModelCheckpoint(filepath, monitor='val_loss', verbose=1, save_weights_only=False, save_best_only=True, mode='min'),\n",
        "                  ModelCheckpoint(filepath, monitor='val_accuracy', verbose=1, save_weights_only=False, save_best_only=True, mode='max'),\n",
        "                  EarlyStopping(monitor='val_auc', patience=3),\n",
        "                  LearningRateScheduler(lr_schedule,verbose=1)] \n",
        "model5.compile(optimizer = 'rmsprop', loss = 'categorical_crossentropy', metrics=['AUC', 'Precision','Recall'])\n",
        "auto = model5.fit(x_train, y_train_ohe, validation_data=(x_test, y_test_ohe), epochs=50, batch_size=64, callbacks=callbacks_list, shuffle=True)"
      ],
      "execution_count": 45,
      "outputs": [
        {
          "output_type": "stream",
          "name": "stdout",
          "text": [
            "Model: \"ResNet50\"\n",
            "__________________________________________________________________________________________________\n",
            "Layer (type)                    Output Shape         Param #     Connected to                     \n",
            "==================================================================================================\n",
            "input_3 (InputLayer)            [(None, 32, 32, 3)]  0                                            \n",
            "__________________________________________________________________________________________________\n",
            "zero_padding2d_42 (ZeroPadding2 (None, 34, 34, 3)    0           input_3[0][0]                    \n",
            "__________________________________________________________________________________________________\n",
            "conv1 (Conv2D)                  (None, 32, 32, 64)   1792        zero_padding2d_42[0][0]          \n",
            "__________________________________________________________________________________________________\n",
            "bn_conv1 (BatchNormalization)   (None, 32, 32, 64)   256         conv1[0][0]                      \n",
            "__________________________________________________________________________________________________\n",
            "activation_54 (Activation)      (None, 32, 32, 64)   0           bn_conv1[0][0]                   \n",
            "__________________________________________________________________________________________________\n",
            "max_pooling2d_15 (MaxPooling2D) (None, 16, 16, 64)   0           activation_54[0][0]              \n",
            "__________________________________________________________________________________________________\n",
            "res2a_branch2a (Conv2D)         (None, 16, 16, 32)   2080        max_pooling2d_15[0][0]           \n",
            "__________________________________________________________________________________________________\n",
            "bn2a_branch2a (BatchNormalizati (None, 16, 16, 32)   128         res2a_branch2a[0][0]             \n",
            "__________________________________________________________________________________________________\n",
            "activation_55 (Activation)      (None, 16, 16, 32)   0           bn2a_branch2a[0][0]              \n",
            "__________________________________________________________________________________________________\n",
            "res2a_branch2b (Conv2D)         (None, 16, 16, 32)   9248        activation_55[0][0]              \n",
            "__________________________________________________________________________________________________\n",
            "bn2a_branch2b (BatchNormalizati (None, 16, 16, 32)   128         res2a_branch2b[0][0]             \n",
            "__________________________________________________________________________________________________\n",
            "activation_56 (Activation)      (None, 16, 16, 32)   0           bn2a_branch2b[0][0]              \n",
            "__________________________________________________________________________________________________\n",
            "res2a_branch2c (Conv2D)         (None, 16, 16, 128)  4224        activation_56[0][0]              \n",
            "__________________________________________________________________________________________________\n",
            "res2a_branch1 (Conv2D)          (None, 16, 16, 128)  8320        max_pooling2d_15[0][0]           \n",
            "__________________________________________________________________________________________________\n",
            "bn2a_branch2c (BatchNormalizati (None, 16, 16, 128)  512         res2a_branch2c[0][0]             \n",
            "__________________________________________________________________________________________________\n",
            "bn2a_branch1 (BatchNormalizatio (None, 16, 16, 128)  512         res2a_branch1[0][0]              \n",
            "__________________________________________________________________________________________________\n",
            "add (Add)                       (None, 16, 16, 128)  0           bn2a_branch2c[0][0]              \n",
            "                                                                 bn2a_branch1[0][0]               \n",
            "__________________________________________________________________________________________________\n",
            "activation_57 (Activation)      (None, 16, 16, 128)  0           add[0][0]                        \n",
            "__________________________________________________________________________________________________\n",
            "res2b_branch2a (Conv2D)         (None, 16, 16, 32)   4128        activation_57[0][0]              \n",
            "__________________________________________________________________________________________________\n",
            "bn2b_branch2a (BatchNormalizati (None, 16, 16, 32)   128         res2b_branch2a[0][0]             \n",
            "__________________________________________________________________________________________________\n",
            "activation_58 (Activation)      (None, 16, 16, 32)   0           bn2b_branch2a[0][0]              \n",
            "__________________________________________________________________________________________________\n",
            "res2b_branch2b (Conv2D)         (None, 16, 16, 32)   9248        activation_58[0][0]              \n",
            "__________________________________________________________________________________________________\n",
            "bn2b_branch2b (BatchNormalizati (None, 16, 16, 32)   128         res2b_branch2b[0][0]             \n",
            "__________________________________________________________________________________________________\n",
            "activation_59 (Activation)      (None, 16, 16, 32)   0           bn2b_branch2b[0][0]              \n",
            "__________________________________________________________________________________________________\n",
            "res2b_branch2c (Conv2D)         (None, 16, 16, 128)  4224        activation_59[0][0]              \n",
            "__________________________________________________________________________________________________\n",
            "bn2b_branch2c (BatchNormalizati (None, 16, 16, 128)  512         res2b_branch2c[0][0]             \n",
            "__________________________________________________________________________________________________\n",
            "add_1 (Add)                     (None, 16, 16, 128)  0           bn2b_branch2c[0][0]              \n",
            "                                                                 activation_57[0][0]              \n",
            "__________________________________________________________________________________________________\n",
            "activation_60 (Activation)      (None, 16, 16, 128)  0           add_1[0][0]                      \n",
            "__________________________________________________________________________________________________\n",
            "res2c_branch2a (Conv2D)         (None, 16, 16, 32)   4128        activation_60[0][0]              \n",
            "__________________________________________________________________________________________________\n",
            "bn2c_branch2a (BatchNormalizati (None, 16, 16, 32)   128         res2c_branch2a[0][0]             \n",
            "__________________________________________________________________________________________________\n",
            "activation_61 (Activation)      (None, 16, 16, 32)   0           bn2c_branch2a[0][0]              \n",
            "__________________________________________________________________________________________________\n",
            "res2c_branch2b (Conv2D)         (None, 16, 16, 32)   9248        activation_61[0][0]              \n",
            "__________________________________________________________________________________________________\n",
            "bn2c_branch2b (BatchNormalizati (None, 16, 16, 32)   128         res2c_branch2b[0][0]             \n",
            "__________________________________________________________________________________________________\n",
            "activation_62 (Activation)      (None, 16, 16, 32)   0           bn2c_branch2b[0][0]              \n",
            "__________________________________________________________________________________________________\n",
            "res2c_branch2c (Conv2D)         (None, 16, 16, 128)  4224        activation_62[0][0]              \n",
            "__________________________________________________________________________________________________\n",
            "bn2c_branch2c (BatchNormalizati (None, 16, 16, 128)  512         res2c_branch2c[0][0]             \n",
            "__________________________________________________________________________________________________\n",
            "add_2 (Add)                     (None, 16, 16, 128)  0           bn2c_branch2c[0][0]              \n",
            "                                                                 activation_60[0][0]              \n",
            "__________________________________________________________________________________________________\n",
            "activation_63 (Activation)      (None, 16, 16, 128)  0           add_2[0][0]                      \n",
            "__________________________________________________________________________________________________\n",
            "res3a_branch2a (Conv2D)         (None, 8, 8, 64)     8256        activation_63[0][0]              \n",
            "__________________________________________________________________________________________________\n",
            "bn3a_branch2a (BatchNormalizati (None, 8, 8, 64)     256         res3a_branch2a[0][0]             \n",
            "__________________________________________________________________________________________________\n",
            "activation_64 (Activation)      (None, 8, 8, 64)     0           bn3a_branch2a[0][0]              \n",
            "__________________________________________________________________________________________________\n",
            "res3a_branch2b (Conv2D)         (None, 8, 8, 64)     36928       activation_64[0][0]              \n",
            "__________________________________________________________________________________________________\n",
            "bn3a_branch2b (BatchNormalizati (None, 8, 8, 64)     256         res3a_branch2b[0][0]             \n",
            "__________________________________________________________________________________________________\n",
            "activation_65 (Activation)      (None, 8, 8, 64)     0           bn3a_branch2b[0][0]              \n",
            "__________________________________________________________________________________________________\n",
            "res3a_branch2c (Conv2D)         (None, 8, 8, 256)    16640       activation_65[0][0]              \n",
            "__________________________________________________________________________________________________\n",
            "res3a_branch1 (Conv2D)          (None, 8, 8, 256)    33024       activation_63[0][0]              \n",
            "__________________________________________________________________________________________________\n",
            "bn3a_branch2c (BatchNormalizati (None, 8, 8, 256)    1024        res3a_branch2c[0][0]             \n",
            "__________________________________________________________________________________________________\n",
            "bn3a_branch1 (BatchNormalizatio (None, 8, 8, 256)    1024        res3a_branch1[0][0]              \n",
            "__________________________________________________________________________________________________\n",
            "add_3 (Add)                     (None, 8, 8, 256)    0           bn3a_branch2c[0][0]              \n",
            "                                                                 bn3a_branch1[0][0]               \n",
            "__________________________________________________________________________________________________\n",
            "activation_66 (Activation)      (None, 8, 8, 256)    0           add_3[0][0]                      \n",
            "__________________________________________________________________________________________________\n",
            "res3b_branch2a (Conv2D)         (None, 8, 8, 64)     16448       activation_66[0][0]              \n",
            "__________________________________________________________________________________________________\n",
            "bn3b_branch2a (BatchNormalizati (None, 8, 8, 64)     256         res3b_branch2a[0][0]             \n",
            "__________________________________________________________________________________________________\n",
            "activation_67 (Activation)      (None, 8, 8, 64)     0           bn3b_branch2a[0][0]              \n",
            "__________________________________________________________________________________________________\n",
            "res3b_branch2b (Conv2D)         (None, 8, 8, 64)     36928       activation_67[0][0]              \n",
            "__________________________________________________________________________________________________\n",
            "bn3b_branch2b (BatchNormalizati (None, 8, 8, 64)     256         res3b_branch2b[0][0]             \n",
            "__________________________________________________________________________________________________\n",
            "activation_68 (Activation)      (None, 8, 8, 64)     0           bn3b_branch2b[0][0]              \n",
            "__________________________________________________________________________________________________\n",
            "res3b_branch2c (Conv2D)         (None, 8, 8, 256)    16640       activation_68[0][0]              \n",
            "__________________________________________________________________________________________________\n",
            "bn3b_branch2c (BatchNormalizati (None, 8, 8, 256)    1024        res3b_branch2c[0][0]             \n",
            "__________________________________________________________________________________________________\n",
            "add_4 (Add)                     (None, 8, 8, 256)    0           bn3b_branch2c[0][0]              \n",
            "                                                                 activation_66[0][0]              \n",
            "__________________________________________________________________________________________________\n",
            "activation_69 (Activation)      (None, 8, 8, 256)    0           add_4[0][0]                      \n",
            "__________________________________________________________________________________________________\n",
            "res3c_branch2a (Conv2D)         (None, 8, 8, 64)     16448       activation_69[0][0]              \n",
            "__________________________________________________________________________________________________\n",
            "bn3c_branch2a (BatchNormalizati (None, 8, 8, 64)     256         res3c_branch2a[0][0]             \n",
            "__________________________________________________________________________________________________\n",
            "activation_70 (Activation)      (None, 8, 8, 64)     0           bn3c_branch2a[0][0]              \n",
            "__________________________________________________________________________________________________\n",
            "res3c_branch2b (Conv2D)         (None, 8, 8, 64)     36928       activation_70[0][0]              \n",
            "__________________________________________________________________________________________________\n",
            "bn3c_branch2b (BatchNormalizati (None, 8, 8, 64)     256         res3c_branch2b[0][0]             \n",
            "__________________________________________________________________________________________________\n",
            "activation_71 (Activation)      (None, 8, 8, 64)     0           bn3c_branch2b[0][0]              \n",
            "__________________________________________________________________________________________________\n",
            "res3c_branch2c (Conv2D)         (None, 8, 8, 256)    16640       activation_71[0][0]              \n",
            "__________________________________________________________________________________________________\n",
            "bn3c_branch2c (BatchNormalizati (None, 8, 8, 256)    1024        res3c_branch2c[0][0]             \n",
            "__________________________________________________________________________________________________\n",
            "add_5 (Add)                     (None, 8, 8, 256)    0           bn3c_branch2c[0][0]              \n",
            "                                                                 activation_69[0][0]              \n",
            "__________________________________________________________________________________________________\n",
            "activation_72 (Activation)      (None, 8, 8, 256)    0           add_5[0][0]                      \n",
            "__________________________________________________________________________________________________\n",
            "res3d_branch2a (Conv2D)         (None, 8, 8, 64)     16448       activation_72[0][0]              \n",
            "__________________________________________________________________________________________________\n",
            "bn3d_branch2a (BatchNormalizati (None, 8, 8, 64)     256         res3d_branch2a[0][0]             \n",
            "__________________________________________________________________________________________________\n",
            "activation_73 (Activation)      (None, 8, 8, 64)     0           bn3d_branch2a[0][0]              \n",
            "__________________________________________________________________________________________________\n",
            "res3d_branch2b (Conv2D)         (None, 8, 8, 64)     36928       activation_73[0][0]              \n",
            "__________________________________________________________________________________________________\n",
            "bn3d_branch2b (BatchNormalizati (None, 8, 8, 64)     256         res3d_branch2b[0][0]             \n",
            "__________________________________________________________________________________________________\n",
            "activation_74 (Activation)      (None, 8, 8, 64)     0           bn3d_branch2b[0][0]              \n",
            "__________________________________________________________________________________________________\n",
            "res3d_branch2c (Conv2D)         (None, 8, 8, 256)    16640       activation_74[0][0]              \n",
            "__________________________________________________________________________________________________\n",
            "bn3d_branch2c (BatchNormalizati (None, 8, 8, 256)    1024        res3d_branch2c[0][0]             \n",
            "__________________________________________________________________________________________________\n",
            "add_6 (Add)                     (None, 8, 8, 256)    0           bn3d_branch2c[0][0]              \n",
            "                                                                 activation_72[0][0]              \n",
            "__________________________________________________________________________________________________\n",
            "activation_75 (Activation)      (None, 8, 8, 256)    0           add_6[0][0]                      \n",
            "__________________________________________________________________________________________________\n",
            "res4a_branch2a (Conv2D)         (None, 4, 4, 128)    32896       activation_75[0][0]              \n",
            "__________________________________________________________________________________________________\n",
            "bn4a_branch2a (BatchNormalizati (None, 4, 4, 128)    512         res4a_branch2a[0][0]             \n",
            "__________________________________________________________________________________________________\n",
            "activation_76 (Activation)      (None, 4, 4, 128)    0           bn4a_branch2a[0][0]              \n",
            "__________________________________________________________________________________________________\n",
            "res4a_branch2b (Conv2D)         (None, 4, 4, 128)    147584      activation_76[0][0]              \n",
            "__________________________________________________________________________________________________\n",
            "bn4a_branch2b (BatchNormalizati (None, 4, 4, 128)    512         res4a_branch2b[0][0]             \n",
            "__________________________________________________________________________________________________\n",
            "activation_77 (Activation)      (None, 4, 4, 128)    0           bn4a_branch2b[0][0]              \n",
            "__________________________________________________________________________________________________\n",
            "res4a_branch2c (Conv2D)         (None, 4, 4, 512)    66048       activation_77[0][0]              \n",
            "__________________________________________________________________________________________________\n",
            "res4a_branch1 (Conv2D)          (None, 4, 4, 512)    131584      activation_75[0][0]              \n",
            "__________________________________________________________________________________________________\n",
            "bn4a_branch2c (BatchNormalizati (None, 4, 4, 512)    2048        res4a_branch2c[0][0]             \n",
            "__________________________________________________________________________________________________\n",
            "bn4a_branch1 (BatchNormalizatio (None, 4, 4, 512)    2048        res4a_branch1[0][0]              \n",
            "__________________________________________________________________________________________________\n",
            "add_7 (Add)                     (None, 4, 4, 512)    0           bn4a_branch2c[0][0]              \n",
            "                                                                 bn4a_branch1[0][0]               \n",
            "__________________________________________________________________________________________________\n",
            "activation_78 (Activation)      (None, 4, 4, 512)    0           add_7[0][0]                      \n",
            "__________________________________________________________________________________________________\n",
            "res4b_branch2a (Conv2D)         (None, 4, 4, 128)    65664       activation_78[0][0]              \n",
            "__________________________________________________________________________________________________\n",
            "bn4b_branch2a (BatchNormalizati (None, 4, 4, 128)    512         res4b_branch2a[0][0]             \n",
            "__________________________________________________________________________________________________\n",
            "activation_79 (Activation)      (None, 4, 4, 128)    0           bn4b_branch2a[0][0]              \n",
            "__________________________________________________________________________________________________\n",
            "res4b_branch2b (Conv2D)         (None, 4, 4, 128)    147584      activation_79[0][0]              \n",
            "__________________________________________________________________________________________________\n",
            "bn4b_branch2b (BatchNormalizati (None, 4, 4, 128)    512         res4b_branch2b[0][0]             \n",
            "__________________________________________________________________________________________________\n",
            "activation_80 (Activation)      (None, 4, 4, 128)    0           bn4b_branch2b[0][0]              \n",
            "__________________________________________________________________________________________________\n",
            "res4b_branch2c (Conv2D)         (None, 4, 4, 512)    66048       activation_80[0][0]              \n",
            "__________________________________________________________________________________________________\n",
            "bn4b_branch2c (BatchNormalizati (None, 4, 4, 512)    2048        res4b_branch2c[0][0]             \n",
            "__________________________________________________________________________________________________\n",
            "add_8 (Add)                     (None, 4, 4, 512)    0           bn4b_branch2c[0][0]              \n",
            "                                                                 activation_78[0][0]              \n",
            "__________________________________________________________________________________________________\n",
            "activation_81 (Activation)      (None, 4, 4, 512)    0           add_8[0][0]                      \n",
            "__________________________________________________________________________________________________\n",
            "res4c_branch2a (Conv2D)         (None, 4, 4, 128)    65664       activation_81[0][0]              \n",
            "__________________________________________________________________________________________________\n",
            "bn4c_branch2a (BatchNormalizati (None, 4, 4, 128)    512         res4c_branch2a[0][0]             \n",
            "__________________________________________________________________________________________________\n",
            "activation_82 (Activation)      (None, 4, 4, 128)    0           bn4c_branch2a[0][0]              \n",
            "__________________________________________________________________________________________________\n",
            "res4c_branch2b (Conv2D)         (None, 4, 4, 128)    147584      activation_82[0][0]              \n",
            "__________________________________________________________________________________________________\n",
            "bn4c_branch2b (BatchNormalizati (None, 4, 4, 128)    512         res4c_branch2b[0][0]             \n",
            "__________________________________________________________________________________________________\n",
            "activation_83 (Activation)      (None, 4, 4, 128)    0           bn4c_branch2b[0][0]              \n",
            "__________________________________________________________________________________________________\n",
            "res4c_branch2c (Conv2D)         (None, 4, 4, 512)    66048       activation_83[0][0]              \n",
            "__________________________________________________________________________________________________\n",
            "bn4c_branch2c (BatchNormalizati (None, 4, 4, 512)    2048        res4c_branch2c[0][0]             \n",
            "__________________________________________________________________________________________________\n",
            "add_9 (Add)                     (None, 4, 4, 512)    0           bn4c_branch2c[0][0]              \n",
            "                                                                 activation_81[0][0]              \n",
            "__________________________________________________________________________________________________\n",
            "activation_84 (Activation)      (None, 4, 4, 512)    0           add_9[0][0]                      \n",
            "__________________________________________________________________________________________________\n",
            "res4d_branch2a (Conv2D)         (None, 4, 4, 128)    65664       activation_84[0][0]              \n",
            "__________________________________________________________________________________________________\n",
            "bn4d_branch2a (BatchNormalizati (None, 4, 4, 128)    512         res4d_branch2a[0][0]             \n",
            "__________________________________________________________________________________________________\n",
            "activation_85 (Activation)      (None, 4, 4, 128)    0           bn4d_branch2a[0][0]              \n",
            "__________________________________________________________________________________________________\n",
            "res4d_branch2b (Conv2D)         (None, 4, 4, 128)    147584      activation_85[0][0]              \n",
            "__________________________________________________________________________________________________\n",
            "bn4d_branch2b (BatchNormalizati (None, 4, 4, 128)    512         res4d_branch2b[0][0]             \n",
            "__________________________________________________________________________________________________\n",
            "activation_86 (Activation)      (None, 4, 4, 128)    0           bn4d_branch2b[0][0]              \n",
            "__________________________________________________________________________________________________\n",
            "res4d_branch2c (Conv2D)         (None, 4, 4, 512)    66048       activation_86[0][0]              \n",
            "__________________________________________________________________________________________________\n",
            "bn4d_branch2c (BatchNormalizati (None, 4, 4, 512)    2048        res4d_branch2c[0][0]             \n",
            "__________________________________________________________________________________________________\n",
            "add_10 (Add)                    (None, 4, 4, 512)    0           bn4d_branch2c[0][0]              \n",
            "                                                                 activation_84[0][0]              \n",
            "__________________________________________________________________________________________________\n",
            "activation_87 (Activation)      (None, 4, 4, 512)    0           add_10[0][0]                     \n",
            "__________________________________________________________________________________________________\n",
            "res4e_branch2a (Conv2D)         (None, 4, 4, 128)    65664       activation_87[0][0]              \n",
            "__________________________________________________________________________________________________\n",
            "bn4e_branch2a (BatchNormalizati (None, 4, 4, 128)    512         res4e_branch2a[0][0]             \n",
            "__________________________________________________________________________________________________\n",
            "activation_88 (Activation)      (None, 4, 4, 128)    0           bn4e_branch2a[0][0]              \n",
            "__________________________________________________________________________________________________\n",
            "res4e_branch2b (Conv2D)         (None, 4, 4, 128)    147584      activation_88[0][0]              \n",
            "__________________________________________________________________________________________________\n",
            "bn4e_branch2b (BatchNormalizati (None, 4, 4, 128)    512         res4e_branch2b[0][0]             \n",
            "__________________________________________________________________________________________________\n",
            "activation_89 (Activation)      (None, 4, 4, 128)    0           bn4e_branch2b[0][0]              \n",
            "__________________________________________________________________________________________________\n",
            "res4e_branch2c (Conv2D)         (None, 4, 4, 512)    66048       activation_89[0][0]              \n",
            "__________________________________________________________________________________________________\n",
            "bn4e_branch2c (BatchNormalizati (None, 4, 4, 512)    2048        res4e_branch2c[0][0]             \n",
            "__________________________________________________________________________________________________\n",
            "add_11 (Add)                    (None, 4, 4, 512)    0           bn4e_branch2c[0][0]              \n",
            "                                                                 activation_87[0][0]              \n",
            "__________________________________________________________________________________________________\n",
            "activation_90 (Activation)      (None, 4, 4, 512)    0           add_11[0][0]                     \n",
            "__________________________________________________________________________________________________\n",
            "res4f_branch2a (Conv2D)         (None, 4, 4, 128)    65664       activation_90[0][0]              \n",
            "__________________________________________________________________________________________________\n",
            "bn4f_branch2a (BatchNormalizati (None, 4, 4, 128)    512         res4f_branch2a[0][0]             \n",
            "__________________________________________________________________________________________________\n",
            "activation_91 (Activation)      (None, 4, 4, 128)    0           bn4f_branch2a[0][0]              \n",
            "__________________________________________________________________________________________________\n",
            "res4f_branch2b (Conv2D)         (None, 4, 4, 128)    147584      activation_91[0][0]              \n",
            "__________________________________________________________________________________________________\n",
            "bn4f_branch2b (BatchNormalizati (None, 4, 4, 128)    512         res4f_branch2b[0][0]             \n",
            "__________________________________________________________________________________________________\n",
            "activation_92 (Activation)      (None, 4, 4, 128)    0           bn4f_branch2b[0][0]              \n",
            "__________________________________________________________________________________________________\n",
            "res4f_branch2c (Conv2D)         (None, 4, 4, 512)    66048       activation_92[0][0]              \n",
            "__________________________________________________________________________________________________\n",
            "bn4f_branch2c (BatchNormalizati (None, 4, 4, 512)    2048        res4f_branch2c[0][0]             \n",
            "__________________________________________________________________________________________________\n",
            "add_12 (Add)                    (None, 4, 4, 512)    0           bn4f_branch2c[0][0]              \n",
            "                                                                 activation_90[0][0]              \n",
            "__________________________________________________________________________________________________\n",
            "activation_93 (Activation)      (None, 4, 4, 512)    0           add_12[0][0]                     \n",
            "__________________________________________________________________________________________________\n",
            "res5a_branch2a (Conv2D)         (None, 2, 2, 256)    131328      activation_93[0][0]              \n",
            "__________________________________________________________________________________________________\n",
            "bn5a_branch2a (BatchNormalizati (None, 2, 2, 256)    1024        res5a_branch2a[0][0]             \n",
            "__________________________________________________________________________________________________\n",
            "activation_94 (Activation)      (None, 2, 2, 256)    0           bn5a_branch2a[0][0]              \n",
            "__________________________________________________________________________________________________\n",
            "res5a_branch2b (Conv2D)         (None, 2, 2, 256)    590080      activation_94[0][0]              \n",
            "__________________________________________________________________________________________________\n",
            "bn5a_branch2b (BatchNormalizati (None, 2, 2, 256)    1024        res5a_branch2b[0][0]             \n",
            "__________________________________________________________________________________________________\n",
            "activation_95 (Activation)      (None, 2, 2, 256)    0           bn5a_branch2b[0][0]              \n",
            "__________________________________________________________________________________________________\n",
            "res5a_branch2c (Conv2D)         (None, 2, 2, 1024)   263168      activation_95[0][0]              \n",
            "__________________________________________________________________________________________________\n",
            "res5a_branch1 (Conv2D)          (None, 2, 2, 1024)   525312      activation_93[0][0]              \n",
            "__________________________________________________________________________________________________\n",
            "bn5a_branch2c (BatchNormalizati (None, 2, 2, 1024)   4096        res5a_branch2c[0][0]             \n",
            "__________________________________________________________________________________________________\n",
            "bn5a_branch1 (BatchNormalizatio (None, 2, 2, 1024)   4096        res5a_branch1[0][0]              \n",
            "__________________________________________________________________________________________________\n",
            "add_13 (Add)                    (None, 2, 2, 1024)   0           bn5a_branch2c[0][0]              \n",
            "                                                                 bn5a_branch1[0][0]               \n",
            "__________________________________________________________________________________________________\n",
            "activation_96 (Activation)      (None, 2, 2, 1024)   0           add_13[0][0]                     \n",
            "__________________________________________________________________________________________________\n",
            "res5b_branch2a (Conv2D)         (None, 2, 2, 256)    262400      activation_96[0][0]              \n",
            "__________________________________________________________________________________________________\n",
            "bn5b_branch2a (BatchNormalizati (None, 2, 2, 256)    1024        res5b_branch2a[0][0]             \n",
            "__________________________________________________________________________________________________\n",
            "activation_97 (Activation)      (None, 2, 2, 256)    0           bn5b_branch2a[0][0]              \n",
            "__________________________________________________________________________________________________\n",
            "res5b_branch2b (Conv2D)         (None, 2, 2, 256)    590080      activation_97[0][0]              \n",
            "__________________________________________________________________________________________________\n",
            "bn5b_branch2b (BatchNormalizati (None, 2, 2, 256)    1024        res5b_branch2b[0][0]             \n",
            "__________________________________________________________________________________________________\n",
            "activation_98 (Activation)      (None, 2, 2, 256)    0           bn5b_branch2b[0][0]              \n",
            "__________________________________________________________________________________________________\n",
            "res5b_branch2c (Conv2D)         (None, 2, 2, 1024)   263168      activation_98[0][0]              \n",
            "__________________________________________________________________________________________________\n",
            "bn5b_branch2c (BatchNormalizati (None, 2, 2, 1024)   4096        res5b_branch2c[0][0]             \n",
            "__________________________________________________________________________________________________\n",
            "add_14 (Add)                    (None, 2, 2, 1024)   0           bn5b_branch2c[0][0]              \n",
            "                                                                 activation_96[0][0]              \n",
            "__________________________________________________________________________________________________\n",
            "activation_99 (Activation)      (None, 2, 2, 1024)   0           add_14[0][0]                     \n",
            "__________________________________________________________________________________________________\n",
            "res5c_branch2a (Conv2D)         (None, 2, 2, 256)    262400      activation_99[0][0]              \n",
            "__________________________________________________________________________________________________\n",
            "bn5c_branch2a (BatchNormalizati (None, 2, 2, 256)    1024        res5c_branch2a[0][0]             \n",
            "__________________________________________________________________________________________________\n",
            "activation_100 (Activation)     (None, 2, 2, 256)    0           bn5c_branch2a[0][0]              \n",
            "__________________________________________________________________________________________________\n",
            "res5c_branch2b (Conv2D)         (None, 2, 2, 256)    590080      activation_100[0][0]             \n",
            "__________________________________________________________________________________________________\n",
            "bn5c_branch2b (BatchNormalizati (None, 2, 2, 256)    1024        res5c_branch2b[0][0]             \n",
            "__________________________________________________________________________________________________\n",
            "activation_101 (Activation)     (None, 2, 2, 256)    0           bn5c_branch2b[0][0]              \n",
            "__________________________________________________________________________________________________\n",
            "res5c_branch2c (Conv2D)         (None, 2, 2, 1024)   263168      activation_101[0][0]             \n",
            "__________________________________________________________________________________________________\n",
            "bn5c_branch2c (BatchNormalizati (None, 2, 2, 1024)   4096        res5c_branch2c[0][0]             \n",
            "__________________________________________________________________________________________________\n",
            "add_15 (Add)                    (None, 2, 2, 1024)   0           bn5c_branch2c[0][0]              \n",
            "                                                                 activation_99[0][0]              \n",
            "__________________________________________________________________________________________________\n",
            "activation_102 (Activation)     (None, 2, 2, 1024)   0           add_15[0][0]                     \n",
            "__________________________________________________________________________________________________\n",
            "avg_pool (AveragePooling2D)     (None, 1, 1, 1024)   0           activation_102[0][0]             \n",
            "__________________________________________________________________________________________________\n",
            "flatten_5 (Flatten)             (None, 1024)         0           avg_pool[0][0]                   \n",
            "__________________________________________________________________________________________________\n",
            "fc7 (Dense)                     (None, 7)            7175        flatten_5[0][0]                  \n",
            "==================================================================================================\n",
            "Total params: 5,941,959\n",
            "Trainable params: 5,915,335\n",
            "Non-trainable params: 26,624\n",
            "__________________________________________________________________________________________________\n",
            "Epoch 1/50\n",
            "Learning rate:  0.0003\n",
            "\n",
            "Epoch 00001: LearningRateScheduler setting learning rate to 0.0003.\n",
            "783/783 [==============================] - 181s 213ms/step - loss: 0.4129 - auc: 0.9849 - precision: 0.9054 - recall: 0.8203 - val_loss: 0.3376 - val_auc: 0.9856 - val_precision: 0.9326 - val_recall: 0.9303\n",
            "\n",
            "Epoch 00001: val_loss improved from inf to 0.33765, saving model to /content/drive/Shareddrives/Labs/2020_1_이소연/code/Bootstrap/model_output/0/ResNet/001.h5\n",
            "WARNING:tensorflow:Can save best model only with val_accuracy available, skipping.\n",
            "Epoch 2/50\n",
            "Learning rate:  0.0003\n",
            "\n",
            "Epoch 00002: LearningRateScheduler setting learning rate to 0.0003.\n",
            "783/783 [==============================] - 163s 208ms/step - loss: 0.0663 - auc: 0.9987 - precision: 0.9812 - recall: 0.9782 - val_loss: 0.4343 - val_auc: 0.9795 - val_precision: 0.8981 - val_recall: 0.8915\n",
            "\n",
            "Epoch 00002: val_loss did not improve from 0.33765\n",
            "WARNING:tensorflow:Can save best model only with val_accuracy available, skipping.\n",
            "Epoch 3/50\n",
            "Learning rate:  0.0003\n",
            "\n",
            "Epoch 00003: LearningRateScheduler setting learning rate to 0.0003.\n",
            "783/783 [==============================] - 157s 200ms/step - loss: 0.0382 - auc: 0.9992 - precision: 0.9891 - recall: 0.9878 - val_loss: 0.6264 - val_auc: 0.9693 - val_precision: 0.8703 - val_recall: 0.8630\n",
            "\n",
            "Epoch 00003: val_loss did not improve from 0.33765\n",
            "WARNING:tensorflow:Can save best model only with val_accuracy available, skipping.\n",
            "Epoch 4/50\n",
            "Learning rate:  0.0003\n",
            "\n",
            "Epoch 00004: LearningRateScheduler setting learning rate to 0.0003.\n",
            "783/783 [==============================] - 166s 212ms/step - loss: 0.0261 - auc: 0.9996 - precision: 0.9921 - recall: 0.9913 - val_loss: 0.2766 - val_auc: 0.9880 - val_precision: 0.9518 - val_recall: 0.9496\n",
            "\n",
            "Epoch 00004: val_loss improved from 0.33765 to 0.27656, saving model to /content/drive/Shareddrives/Labs/2020_1_이소연/code/Bootstrap/model_output/0/ResNet/004.h5\n",
            "WARNING:tensorflow:Can save best model only with val_accuracy available, skipping.\n",
            "Epoch 5/50\n",
            "Learning rate:  0.0003\n",
            "\n",
            "Epoch 00005: LearningRateScheduler setting learning rate to 0.0003.\n",
            "783/783 [==============================] - 161s 205ms/step - loss: 0.0243 - auc: 0.9996 - precision: 0.9937 - recall: 0.9931 - val_loss: 0.3135 - val_auc: 0.9869 - val_precision: 0.9451 - val_recall: 0.9430\n",
            "\n",
            "Epoch 00005: val_loss did not improve from 0.27656\n",
            "WARNING:tensorflow:Can save best model only with val_accuracy available, skipping.\n",
            "Epoch 6/50\n",
            "Learning rate:  0.0003\n",
            "\n",
            "Epoch 00006: LearningRateScheduler setting learning rate to 0.0003.\n",
            "783/783 [==============================] - 162s 207ms/step - loss: 0.0182 - auc: 0.9996 - precision: 0.9947 - recall: 0.9942 - val_loss: 0.2909 - val_auc: 0.9869 - val_precision: 0.9585 - val_recall: 0.9570\n",
            "\n",
            "Epoch 00006: val_loss did not improve from 0.27656\n",
            "WARNING:tensorflow:Can save best model only with val_accuracy available, skipping.\n"
          ]
        }
      ]
    },
    {
      "cell_type": "code",
      "metadata": {
        "id": "ScY-ldtuktCP",
        "colab": {
          "base_uri": "https://localhost:8080/"
        },
        "outputId": "84f807e7-f1ee-496b-a1eb-de8e1fb24935"
      },
      "source": [
        "y_predict = model5.predict(x_test)\n",
        "y_pred_5 = np.ones(len(y_predict))\n",
        "for i in range(len(y_pred_5)):\n",
        "    y_pred_5[i] = np.argmax(y_predict[i])\n",
        "print(classification_report(y_test_, y_pred_5, target_names=labels))"
      ],
      "execution_count": 46,
      "outputs": [
        {
          "output_type": "stream",
          "name": "stdout",
          "text": [
            "              precision    recall  f1-score   support\n",
            "\n",
            "      Center       0.27      0.29      0.28        24\n",
            "    Edge-Loc       0.47      0.64      0.54       104\n",
            "   Edge-Ring       0.72      0.78      0.75        27\n",
            "         Loc       0.60      0.37      0.46        71\n",
            "   Near-full       0.93      1.00      0.96        13\n",
            "     Scratch       0.30      0.22      0.25        37\n",
            "        none       0.98      0.98      0.98      5003\n",
            "\n",
            "    accuracy                           0.96      5279\n",
            "   macro avg       0.61      0.61      0.60      5279\n",
            "weighted avg       0.96      0.96      0.96      5279\n",
            "\n"
          ]
        }
      ]
    },
    {
      "cell_type": "code",
      "metadata": {
        "colab": {
          "base_uri": "https://localhost:8080/",
          "height": 612
        },
        "id": "XWNlSmJKkSfF",
        "outputId": "d0e8607d-6542-477a-a4c7-e43bdea6875f"
      },
      "source": [
        "np.set_printoptions(precision=2)\n",
        "\n",
        "# Plot non-normalized confusion matrix]\n",
        "plot_confusion_matrix2(y_test_, y_pred_5, classes=labels, title='Confusion matrix, without normalization')\n",
        "\n",
        "# Plot normalized confusion matrix]\n",
        "plot_confusion_matrix2(y_test_, y_pred_5, classes=labels, normalize=True, title='Normalized confusion matrix')\n",
        "\n",
        "plt.show()"
      ],
      "execution_count": 47,
      "outputs": [
        {
          "output_type": "stream",
          "name": "stdout",
          "text": [
            "Confusion matrix, without normalization\n",
            "Normalized confusion matrix\n"
          ]
        },
        {
          "output_type": "display_data",
          "data": {
            "image/png": "[encoded data removed]",
            "text/plain": [
              "<Figure size 432x288 with 2 Axes>"
            ]
          },
          "metadata": {
            "needs_background": "light"
          }
        },
        {
          "output_type": "display_data",
          "data": {
            "image/png": "[encoded data removed]",
            "text/plain": [
              "<Figure size 432x288 with 2 Axes>"
            ]
          },
          "metadata": {
            "needs_background": "light"
          }
        }
      ]
    },
    {
      "cell_type": "code",
      "metadata": {
        "id": "QAwcfDClPKMQ"
      },
      "source": [
        ""
      ],
      "execution_count": null,
      "outputs": []
    },
    {
      "cell_type": "code",
      "metadata": {
        "id": "B6FJd_HKv0BS"
      },
      "source": [
        ""
      ],
      "execution_count": null,
      "outputs": []
    },
    {
      "cell_type": "markdown",
      "metadata": {
        "id": "wgwEhTEnz0-S"
      },
      "source": [
        "# **Inception-resnet-v2**"
      ]
    },
    {
      "cell_type": "code",
      "metadata": {
        "id": "EQoDkg7wz17_"
      },
      "source": [
        "data_name = 'Bootstrap'\n",
        "number = '0'\n",
        "batch_sizes = 32\n",
        "weight_decay = 1e-4\n",
        "epochs = 50\n",
        "model = \"Inception\"\n",
        "dir = os.path.join(os.getcwd(),data_name)\n",
        "os.makedirs(os.path.join(dir,'model_output',number,model), exist_ok=True)\n",
        "os.makedirs(os.path.join(dir,'train_valid_output',number), exist_ok=True)"
      ],
      "execution_count": 48,
      "outputs": []
    },
    {
      "cell_type": "code",
      "metadata": {
        "id": "Co8fOEVa0BSe"
      },
      "source": [
        "def conv2d_bn(x, filters, kernel_size,  strides=1, padding='same', activation='relu', use_bias=False, name=None, weight_decay=weight_decay):\n",
        "    \"\"\"Utility function to apply conv + BN.\n",
        "    # Arguments\n",
        "        x: input tensor.\n",
        "        filters: filters in `Conv2D`.\n",
        "        kernel_size: kernel size as in `Conv2D`.\n",
        "        padding: padding mode in `Conv2D`.\n",
        "        activation: activation in `Conv2D`.\n",
        "        strides: strides in `Conv2D`.\n",
        "        name: name of the ops; will become `name + '_Activation'`\n",
        "            for the activation and `name + '_BatchNorm'` for the\n",
        "            batch norm layer.\n",
        "    # Returns\n",
        "        Output tensor after applying `Conv2D` and `BatchNormalization`.\n",
        "    \"\"\"\n",
        "    x = Conv2D(filters,\n",
        "               kernel_size,\n",
        "               strides=strides,\n",
        "               padding=padding,\n",
        "               use_bias=use_bias,\n",
        "               name=name)(x)\n",
        "    if not use_bias:\n",
        "        bn_axis = 1 if K.image_data_format() == 'channels_first' else 3\n",
        "        x = BatchNormalization(axis=bn_axis, scale=False)(x)\n",
        "    if activation is not None:\n",
        "        x = Activation(activation)(x)\n",
        "    return x"
      ],
      "execution_count": 84,
      "outputs": []
    },
    {
      "cell_type": "code",
      "metadata": {
        "id": "2ucMDS200BWu"
      },
      "source": [
        "def inception_resnet_block(x, scale, block_type, block_idx, activation='relu'):\n",
        " \n",
        "    if block_type == 'block35':\n",
        "        branch_0 = conv2d_bn(x, 32, 1)\n",
        "        branch_1 = conv2d_bn(x, 32, 1)\n",
        "        branch_1 = conv2d_bn(branch_1, 32, 3)\n",
        "        branch_2 = conv2d_bn(x, 32, 1)\n",
        "        branch_2 = conv2d_bn(branch_2, 48, 3)\n",
        "        branch_2 = conv2d_bn(branch_2, 64, 3)\n",
        "        branches = [branch_0, branch_1, branch_2]\n",
        "    elif block_type == 'block17':\n",
        "        branch_0 = conv2d_bn(x, 192, 1)\n",
        "        branch_1 = conv2d_bn(x, 128, 1)\n",
        "        branch_1 = conv2d_bn(branch_1, 160, [1, 7])\n",
        "        branch_1 = conv2d_bn(branch_1, 192, [7, 1])\n",
        "        branches = [branch_0, branch_1]\n",
        "    elif block_type == 'block8':\n",
        "        branch_0 = conv2d_bn(x, 192, 1)\n",
        "        branch_1 = conv2d_bn(x, 192, 1)\n",
        "        branch_1 = conv2d_bn(branch_1, 224, [1, 3])\n",
        "        branch_1 = conv2d_bn(branch_1, 256, [3, 1])\n",
        "        branches = [branch_0, branch_1]\n",
        "    else:\n",
        "        raise ValueError('Unknown Inception-ResNet block type. '\n",
        "                         'Expects \"block35\", \"block17\" or \"block8\", '\n",
        "                         'but got: {block_type}'.format(block_type=block_type))\n",
        "\n",
        "    block_name = '{block_type}_{block_idx}'.format(block_type=block_type, block_idx=block_idx)\n",
        "    channel_axis = 3\n",
        "    mixed = Concatenate(axis=channel_axis, name='{block_name}_mixed'.format(block_name=block_name))(branches)\n",
        "    up = conv2d_bn(mixed,\n",
        "                   K.int_shape(x)[channel_axis],\n",
        "                   1,\n",
        "                   activation=None,\n",
        "                   use_bias=True,\n",
        "                   name='{block_name}_conv'.format(block_name=block_name))\n",
        "\n",
        "    x = Lambda(lambda inputs, scale_: inputs[0] + inputs[1] * scale_,\n",
        "               output_shape=K.int_shape(x)[1:],\n",
        "               arguments={'scale_': scale},\n",
        "               name=block_name)([x, up])\n",
        "    if activation is not None:\n",
        "        x = Activation(activation, name='{block_name}_ac'.format(block_name=block_name))(x)\n",
        "\n",
        "    return x"
      ],
      "execution_count": 85,
      "outputs": []
    },
    {
      "cell_type": "code",
      "metadata": {
        "id": "0KYJBHU50BZH"
      },
      "source": [
        "def Inception_ResNet_v2(input_shape=None, weight_decay=weight_decay, classes=8, name=None):\n",
        " \n",
        "    img_input = Input(shape=input_shape)\n",
        "\n",
        "\n",
        "    # Stem block: 35 x 35 x 192\n",
        "    x = conv2d_bn(img_input, 32, 3, strides=2, padding='valid')\n",
        "    x = conv2d_bn(x, 32, 3, padding='valid')\n",
        "    x = conv2d_bn(x, 64, 3)\n",
        "    x = MaxPooling2D(3, strides=2)(x)\n",
        "    x = conv2d_bn(x, 80, 1, padding='valid')\n",
        "    x = conv2d_bn(x, 192, 3, padding='valid')\n",
        "    x = MaxPooling2D(3, strides=2)(x)\n",
        "\n",
        "    # Mixed 5b (Inception-A block): 35 x 35 x 320\n",
        "    branch_0 = conv2d_bn(x, 96, 1)\n",
        "    branch_1 = conv2d_bn(x, 48, 1)\n",
        "    branch_1 = conv2d_bn(branch_1, 64, 5)\n",
        "    branch_2 = conv2d_bn(x, 64, 1)\n",
        "    branch_2 = conv2d_bn(branch_2, 96, 3)\n",
        "    branch_2 = conv2d_bn(branch_2, 96, 3)\n",
        "    branch_pool = AveragePooling2D(3, strides=1, padding='same')(x)\n",
        "    branch_pool = conv2d_bn(branch_pool, 64, 1)\n",
        "    branches = [branch_0, branch_1, branch_2, branch_pool]\n",
        "    channel_axis = 3\n",
        "    x = Concatenate(axis=channel_axis, name='mixed_5b')(branches)\n",
        "\n",
        "\n",
        "    # 10x block35 (Inception-ResNet-A block): 35 x 35 x 320\n",
        "    for block_idx in range(1, 11):\n",
        "        x = inception_resnet_block(x,\n",
        "                                   scale=0.17,\n",
        "                                   block_type='block35',\n",
        "                                   block_idx=block_idx)\n",
        "\n",
        "    # Mixed 6a (Reduction-A block): 17 x 17 x 1088\n",
        "    branch_0 = conv2d_bn(x, 384, 3, strides=2, padding='same')\n",
        "    branch_1 = conv2d_bn(x, 256, 1)\n",
        "    branch_1 = conv2d_bn(branch_1, 256, 3)\n",
        "    branch_1 = conv2d_bn(branch_1, 384, 3, strides=2, padding='same')\n",
        "    branch_pool = MaxPooling2D(3, strides=2, padding='same')(x)\n",
        "    branches = [branch_0, branch_1, branch_pool]\n",
        "    x = Concatenate(axis=channel_axis, name='mixed_6a')(branches)\n",
        "\n",
        "\n",
        "    # 20x block17 (Inception-ResNet-B block): 17 x 17 x 1088\n",
        "    for block_idx in range(1, 21):\n",
        "        x = inception_resnet_block(x,\n",
        "                                   scale=0.1,\n",
        "                                   block_type='block17',\n",
        "                                   block_idx=block_idx)\n",
        "\n",
        "    # Mixed 7a (Reduction-B block): 8 x 8 x 2080\n",
        "    branch_0 = conv2d_bn(x, 256, 1)\n",
        "    branch_0 = conv2d_bn(branch_0, 384, 3, strides=2, padding='same')\n",
        "    branch_1 = conv2d_bn(x, 256, 1)\n",
        "    branch_1 = conv2d_bn(branch_1, 288, 3, strides=2, padding='same')\n",
        "    branch_2 = conv2d_bn(x, 256, 1)\n",
        "    branch_2 = conv2d_bn(branch_2, 288, 3)\n",
        "    branch_2 = conv2d_bn(branch_2, 320, 3, strides=2, padding='same')\n",
        "    branch_pool = MaxPooling2D(3, strides=2, padding='same')(x)\n",
        "    branches = [branch_0, branch_1, branch_2, branch_pool]\n",
        "    x = Concatenate(axis=channel_axis, name='mixed_7a')(branches)\n",
        "\n",
        "\n",
        "    # 10x block8 (Inception-ResNet-C block): 8 x 8 x 2080\n",
        "    for block_idx in range(1, 10):\n",
        "        x = inception_resnet_block(x,\n",
        "                                   scale=0.2,\n",
        "                                   block_type='block8',\n",
        "                                   block_idx=block_idx)\n",
        "    x = inception_resnet_block(x,\n",
        "                               scale=1.,\n",
        "                               activation=None,\n",
        "                               block_type='block8',\n",
        "                               block_idx=10)\n",
        "\n",
        "    # Final convolution block: 8 x 8 x 1536\n",
        "    x = conv2d_bn(x, 1536, 1, name='conv_7b')\n",
        "\n",
        "    x = GlobalAveragePooling2D(name='avg_pool')(x)\n",
        "    x = Dense(classes, use_bias=False, kernel_regularizer=l2(weight_decay), activation='softmax', name='predictions')(x)\n",
        "\n",
        "    # Ensure that the model takes into account\n",
        "    # any potential predecessors of `input_tensor`\n",
        "    inputs = img_input\n",
        "\n",
        "    # Create model\n",
        "    model = Model(inputs, x, name=name)\n",
        "\n",
        "    return model"
      ],
      "execution_count": 90,
      "outputs": []
    },
    {
      "cell_type": "code",
      "metadata": {
        "colab": {
          "base_uri": "https://localhost:8080/"
        },
        "id": "vzoVrUyw0Ba7",
        "outputId": "eabd07d3-6529-4fc0-dff1-880349dfcb5c"
      },
      "source": [
        "model6 = Inception_ResNet_v2(input_shape = (32, 32, 3), weight_decay=weight_decay, classes=7, name='Inception_ResNet_v2')\n",
        "model6.summary()\n",
        "plot_model(model6, show_shapes=True)\n",
        "filepath =  os.path.join(dir,'model_output',number, model,'{epoch:03d}.h5')\n",
        "callbacks_list = [ModelCheckpoint(filepath, monitor='val_loss', verbose=1, save_weights_only=False, save_best_only=True, mode='min'),\n",
        "                  ModelCheckpoint(filepath, monitor='val_accuracy', verbose=1, save_weights_only=False, save_best_only=True, mode='max'),\n",
        "                  EarlyStopping(monitor='val_auc', patience=3),\n",
        "                  LearningRateScheduler(lr_schedule,verbose=1)] \n",
        "model6.compile(optimizer = 'rmsprop', loss = 'categorical_crossentropy', metrics=['AUC', 'Precision','Recall'])\n",
        "auto = model6.fit(x_train, y_train_ohe, validation_data=(x_test, y_test_ohe), epochs=50, batch_size=32, callbacks=callbacks_list, shuffle=True, steps_per_epoch=int(len(x_train)/batch_sizes),  validation_steps=int(len(x_test)/batch_sizes)))"
      ],
      "execution_count": 91,
      "outputs": [
        {
          "output_type": "stream",
          "name": "stdout",
          "text": [
            "Model: \"Inception_ResNet_v2\"\n",
            "__________________________________________________________________________________________________\n",
            "Layer (type)                    Output Shape         Param #     Connected to                     \n",
            "==================================================================================================\n",
            "input_18 (InputLayer)           [(None, 32, 32, 3)]  0                                            \n",
            "__________________________________________________________________________________________________\n",
            "conv2d_784 (Conv2D)             (None, 15, 15, 32)   864         input_18[0][0]                   \n",
            "__________________________________________________________________________________________________\n",
            "batch_normalization_721 (BatchN (None, 15, 15, 32)   96          conv2d_784[0][0]                 \n",
            "__________________________________________________________________________________________________\n",
            "activation_824 (Activation)     (None, 15, 15, 32)   0           batch_normalization_721[0][0]    \n",
            "__________________________________________________________________________________________________\n",
            "conv2d_785 (Conv2D)             (None, 13, 13, 32)   9216        activation_824[0][0]             \n",
            "__________________________________________________________________________________________________\n",
            "batch_normalization_722 (BatchN (None, 13, 13, 32)   96          conv2d_785[0][0]                 \n",
            "__________________________________________________________________________________________________\n",
            "activation_825 (Activation)     (None, 13, 13, 32)   0           batch_normalization_722[0][0]    \n",
            "__________________________________________________________________________________________________\n",
            "conv2d_786 (Conv2D)             (None, 13, 13, 64)   18432       activation_825[0][0]             \n",
            "__________________________________________________________________________________________________\n",
            "batch_normalization_723 (BatchN (None, 13, 13, 64)   192         conv2d_786[0][0]                 \n",
            "__________________________________________________________________________________________________\n",
            "activation_826 (Activation)     (None, 13, 13, 64)   0           batch_normalization_723[0][0]    \n",
            "__________________________________________________________________________________________________\n",
            "max_pooling2d_38 (MaxPooling2D) (None, 6, 6, 64)     0           activation_826[0][0]             \n",
            "__________________________________________________________________________________________________\n",
            "conv2d_787 (Conv2D)             (None, 6, 6, 80)     5120        max_pooling2d_38[0][0]           \n",
            "__________________________________________________________________________________________________\n",
            "batch_normalization_724 (BatchN (None, 6, 6, 80)     240         conv2d_787[0][0]                 \n",
            "__________________________________________________________________________________________________\n",
            "activation_827 (Activation)     (None, 6, 6, 80)     0           batch_normalization_724[0][0]    \n",
            "__________________________________________________________________________________________________\n",
            "conv2d_788 (Conv2D)             (None, 4, 4, 192)    138240      activation_827[0][0]             \n",
            "__________________________________________________________________________________________________\n",
            "batch_normalization_725 (BatchN (None, 4, 4, 192)    576         conv2d_788[0][0]                 \n",
            "__________________________________________________________________________________________________\n",
            "activation_828 (Activation)     (None, 4, 4, 192)    0           batch_normalization_725[0][0]    \n",
            "__________________________________________________________________________________________________\n",
            "max_pooling2d_39 (MaxPooling2D) (None, 1, 1, 192)    0           activation_828[0][0]             \n",
            "__________________________________________________________________________________________________\n",
            "conv2d_792 (Conv2D)             (None, 1, 1, 64)     12288       max_pooling2d_39[0][0]           \n",
            "__________________________________________________________________________________________________\n",
            "batch_normalization_729 (BatchN (None, 1, 1, 64)     192         conv2d_792[0][0]                 \n",
            "__________________________________________________________________________________________________\n",
            "activation_832 (Activation)     (None, 1, 1, 64)     0           batch_normalization_729[0][0]    \n",
            "__________________________________________________________________________________________________\n",
            "conv2d_790 (Conv2D)             (None, 1, 1, 48)     9216        max_pooling2d_39[0][0]           \n",
            "__________________________________________________________________________________________________\n",
            "conv2d_793 (Conv2D)             (None, 1, 1, 96)     55296       activation_832[0][0]             \n",
            "__________________________________________________________________________________________________\n",
            "batch_normalization_727 (BatchN (None, 1, 1, 48)     144         conv2d_790[0][0]                 \n",
            "__________________________________________________________________________________________________\n",
            "batch_normalization_730 (BatchN (None, 1, 1, 96)     288         conv2d_793[0][0]                 \n",
            "__________________________________________________________________________________________________\n",
            "activation_830 (Activation)     (None, 1, 1, 48)     0           batch_normalization_727[0][0]    \n",
            "__________________________________________________________________________________________________\n",
            "activation_833 (Activation)     (None, 1, 1, 96)     0           batch_normalization_730[0][0]    \n",
            "__________________________________________________________________________________________________\n",
            "average_pooling2d_9 (AveragePoo (None, 1, 1, 192)    0           max_pooling2d_39[0][0]           \n",
            "__________________________________________________________________________________________________\n",
            "conv2d_789 (Conv2D)             (None, 1, 1, 96)     18432       max_pooling2d_39[0][0]           \n",
            "__________________________________________________________________________________________________\n",
            "conv2d_791 (Conv2D)             (None, 1, 1, 64)     76800       activation_830[0][0]             \n",
            "__________________________________________________________________________________________________\n",
            "conv2d_794 (Conv2D)             (None, 1, 1, 96)     82944       activation_833[0][0]             \n",
            "__________________________________________________________________________________________________\n",
            "conv2d_795 (Conv2D)             (None, 1, 1, 64)     12288       average_pooling2d_9[0][0]        \n",
            "__________________________________________________________________________________________________\n",
            "batch_normalization_726 (BatchN (None, 1, 1, 96)     288         conv2d_789[0][0]                 \n",
            "__________________________________________________________________________________________________\n",
            "batch_normalization_728 (BatchN (None, 1, 1, 64)     192         conv2d_791[0][0]                 \n",
            "__________________________________________________________________________________________________\n",
            "batch_normalization_731 (BatchN (None, 1, 1, 96)     288         conv2d_794[0][0]                 \n",
            "__________________________________________________________________________________________________\n",
            "batch_normalization_732 (BatchN (None, 1, 1, 64)     192         conv2d_795[0][0]                 \n",
            "__________________________________________________________________________________________________\n",
            "activation_829 (Activation)     (None, 1, 1, 96)     0           batch_normalization_726[0][0]    \n",
            "__________________________________________________________________________________________________\n",
            "activation_831 (Activation)     (None, 1, 1, 64)     0           batch_normalization_728[0][0]    \n",
            "__________________________________________________________________________________________________\n",
            "activation_834 (Activation)     (None, 1, 1, 96)     0           batch_normalization_731[0][0]    \n",
            "__________________________________________________________________________________________________\n",
            "activation_835 (Activation)     (None, 1, 1, 64)     0           batch_normalization_732[0][0]    \n",
            "__________________________________________________________________________________________________\n",
            "mixed_5b (Concatenate)          (None, 1, 1, 320)    0           activation_829[0][0]             \n",
            "                                                                 activation_831[0][0]             \n",
            "                                                                 activation_834[0][0]             \n",
            "                                                                 activation_835[0][0]             \n",
            "__________________________________________________________________________________________________\n",
            "conv2d_799 (Conv2D)             (None, 1, 1, 32)     10240       mixed_5b[0][0]                   \n",
            "__________________________________________________________________________________________________\n",
            "batch_normalization_736 (BatchN (None, 1, 1, 32)     96          conv2d_799[0][0]                 \n",
            "__________________________________________________________________________________________________\n",
            "activation_839 (Activation)     (None, 1, 1, 32)     0           batch_normalization_736[0][0]    \n",
            "__________________________________________________________________________________________________\n",
            "conv2d_797 (Conv2D)             (None, 1, 1, 32)     10240       mixed_5b[0][0]                   \n",
            "__________________________________________________________________________________________________\n",
            "conv2d_800 (Conv2D)             (None, 1, 1, 48)     13824       activation_839[0][0]             \n",
            "__________________________________________________________________________________________________\n",
            "batch_normalization_734 (BatchN (None, 1, 1, 32)     96          conv2d_797[0][0]                 \n",
            "__________________________________________________________________________________________________\n",
            "batch_normalization_737 (BatchN (None, 1, 1, 48)     144         conv2d_800[0][0]                 \n",
            "__________________________________________________________________________________________________\n",
            "activation_837 (Activation)     (None, 1, 1, 32)     0           batch_normalization_734[0][0]    \n",
            "__________________________________________________________________________________________________\n",
            "activation_840 (Activation)     (None, 1, 1, 48)     0           batch_normalization_737[0][0]    \n",
            "__________________________________________________________________________________________________\n",
            "conv2d_796 (Conv2D)             (None, 1, 1, 32)     10240       mixed_5b[0][0]                   \n",
            "__________________________________________________________________________________________________\n",
            "conv2d_798 (Conv2D)             (None, 1, 1, 32)     9216        activation_837[0][0]             \n",
            "__________________________________________________________________________________________________\n",
            "conv2d_801 (Conv2D)             (None, 1, 1, 64)     27648       activation_840[0][0]             \n",
            "__________________________________________________________________________________________________\n",
            "batch_normalization_733 (BatchN (None, 1, 1, 32)     96          conv2d_796[0][0]                 \n",
            "__________________________________________________________________________________________________\n",
            "batch_normalization_735 (BatchN (None, 1, 1, 32)     96          conv2d_798[0][0]                 \n",
            "__________________________________________________________________________________________________\n",
            "batch_normalization_738 (BatchN (None, 1, 1, 64)     192         conv2d_801[0][0]                 \n",
            "__________________________________________________________________________________________________\n",
            "activation_836 (Activation)     (None, 1, 1, 32)     0           batch_normalization_733[0][0]    \n",
            "__________________________________________________________________________________________________\n",
            "activation_838 (Activation)     (None, 1, 1, 32)     0           batch_normalization_735[0][0]    \n",
            "__________________________________________________________________________________________________\n",
            "activation_841 (Activation)     (None, 1, 1, 64)     0           batch_normalization_738[0][0]    \n",
            "__________________________________________________________________________________________________\n",
            "block35_1_mixed (Concatenate)   (None, 1, 1, 128)    0           activation_836[0][0]             \n",
            "                                                                 activation_838[0][0]             \n",
            "                                                                 activation_841[0][0]             \n",
            "__________________________________________________________________________________________________\n",
            "block35_1_conv (Conv2D)         (None, 1, 1, 320)    41280       block35_1_mixed[0][0]            \n",
            "__________________________________________________________________________________________________\n",
            "block35_1 (Lambda)              (None, 1, 1, 320)    0           mixed_5b[0][0]                   \n",
            "                                                                 block35_1_conv[0][0]             \n",
            "__________________________________________________________________________________________________\n",
            "block35_1_ac (Activation)       (None, 1, 1, 320)    0           block35_1[0][0]                  \n",
            "__________________________________________________________________________________________________\n",
            "conv2d_805 (Conv2D)             (None, 1, 1, 32)     10240       block35_1_ac[0][0]               \n",
            "__________________________________________________________________________________________________\n",
            "batch_normalization_742 (BatchN (None, 1, 1, 32)     96          conv2d_805[0][0]                 \n",
            "__________________________________________________________________________________________________\n",
            "activation_845 (Activation)     (None, 1, 1, 32)     0           batch_normalization_742[0][0]    \n",
            "__________________________________________________________________________________________________\n",
            "conv2d_803 (Conv2D)             (None, 1, 1, 32)     10240       block35_1_ac[0][0]               \n",
            "__________________________________________________________________________________________________\n",
            "conv2d_806 (Conv2D)             (None, 1, 1, 48)     13824       activation_845[0][0]             \n",
            "__________________________________________________________________________________________________\n",
            "batch_normalization_740 (BatchN (None, 1, 1, 32)     96          conv2d_803[0][0]                 \n",
            "__________________________________________________________________________________________________\n",
            "batch_normalization_743 (BatchN (None, 1, 1, 48)     144         conv2d_806[0][0]                 \n",
            "__________________________________________________________________________________________________\n",
            "activation_843 (Activation)     (None, 1, 1, 32)     0           batch_normalization_740[0][0]    \n",
            "__________________________________________________________________________________________________\n",
            "activation_846 (Activation)     (None, 1, 1, 48)     0           batch_normalization_743[0][0]    \n",
            "__________________________________________________________________________________________________\n",
            "conv2d_802 (Conv2D)             (None, 1, 1, 32)     10240       block35_1_ac[0][0]               \n",
            "__________________________________________________________________________________________________\n",
            "conv2d_804 (Conv2D)             (None, 1, 1, 32)     9216        activation_843[0][0]             \n",
            "__________________________________________________________________________________________________\n",
            "conv2d_807 (Conv2D)             (None, 1, 1, 64)     27648       activation_846[0][0]             \n",
            "__________________________________________________________________________________________________\n",
            "batch_normalization_739 (BatchN (None, 1, 1, 32)     96          conv2d_802[0][0]                 \n",
            "__________________________________________________________________________________________________\n",
            "batch_normalization_741 (BatchN (None, 1, 1, 32)     96          conv2d_804[0][0]                 \n",
            "__________________________________________________________________________________________________\n",
            "batch_normalization_744 (BatchN (None, 1, 1, 64)     192         conv2d_807[0][0]                 \n",
            "__________________________________________________________________________________________________\n",
            "activation_842 (Activation)     (None, 1, 1, 32)     0           batch_normalization_739[0][0]    \n",
            "__________________________________________________________________________________________________\n",
            "activation_844 (Activation)     (None, 1, 1, 32)     0           batch_normalization_741[0][0]    \n",
            "__________________________________________________________________________________________________\n",
            "activation_847 (Activation)     (None, 1, 1, 64)     0           batch_normalization_744[0][0]    \n",
            "__________________________________________________________________________________________________\n",
            "block35_2_mixed (Concatenate)   (None, 1, 1, 128)    0           activation_842[0][0]             \n",
            "                                                                 activation_844[0][0]             \n",
            "                                                                 activation_847[0][0]             \n",
            "__________________________________________________________________________________________________\n",
            "block35_2_conv (Conv2D)         (None, 1, 1, 320)    41280       block35_2_mixed[0][0]            \n",
            "__________________________________________________________________________________________________\n",
            "block35_2 (Lambda)              (None, 1, 1, 320)    0           block35_1_ac[0][0]               \n",
            "                                                                 block35_2_conv[0][0]             \n",
            "__________________________________________________________________________________________________\n",
            "block35_2_ac (Activation)       (None, 1, 1, 320)    0           block35_2[0][0]                  \n",
            "__________________________________________________________________________________________________\n",
            "conv2d_811 (Conv2D)             (None, 1, 1, 32)     10240       block35_2_ac[0][0]               \n",
            "__________________________________________________________________________________________________\n",
            "batch_normalization_748 (BatchN (None, 1, 1, 32)     96          conv2d_811[0][0]                 \n",
            "__________________________________________________________________________________________________\n",
            "activation_851 (Activation)     (None, 1, 1, 32)     0           batch_normalization_748[0][0]    \n",
            "__________________________________________________________________________________________________\n",
            "conv2d_809 (Conv2D)             (None, 1, 1, 32)     10240       block35_2_ac[0][0]               \n",
            "__________________________________________________________________________________________________\n",
            "conv2d_812 (Conv2D)             (None, 1, 1, 48)     13824       activation_851[0][0]             \n",
            "__________________________________________________________________________________________________\n",
            "batch_normalization_746 (BatchN (None, 1, 1, 32)     96          conv2d_809[0][0]                 \n",
            "__________________________________________________________________________________________________\n",
            "batch_normalization_749 (BatchN (None, 1, 1, 48)     144         conv2d_812[0][0]                 \n",
            "__________________________________________________________________________________________________\n",
            "activation_849 (Activation)     (None, 1, 1, 32)     0           batch_normalization_746[0][0]    \n",
            "__________________________________________________________________________________________________\n",
            "activation_852 (Activation)     (None, 1, 1, 48)     0           batch_normalization_749[0][0]    \n",
            "__________________________________________________________________________________________________\n",
            "conv2d_808 (Conv2D)             (None, 1, 1, 32)     10240       block35_2_ac[0][0]               \n",
            "__________________________________________________________________________________________________\n",
            "conv2d_810 (Conv2D)             (None, 1, 1, 32)     9216        activation_849[0][0]             \n",
            "__________________________________________________________________________________________________\n",
            "conv2d_813 (Conv2D)             (None, 1, 1, 64)     27648       activation_852[0][0]             \n",
            "__________________________________________________________________________________________________\n",
            "batch_normalization_745 (BatchN (None, 1, 1, 32)     96          conv2d_808[0][0]                 \n",
            "__________________________________________________________________________________________________\n",
            "batch_normalization_747 (BatchN (None, 1, 1, 32)     96          conv2d_810[0][0]                 \n",
            "__________________________________________________________________________________________________\n",
            "batch_normalization_750 (BatchN (None, 1, 1, 64)     192         conv2d_813[0][0]                 \n",
            "__________________________________________________________________________________________________\n",
            "activation_848 (Activation)     (None, 1, 1, 32)     0           batch_normalization_745[0][0]    \n",
            "__________________________________________________________________________________________________\n",
            "activation_850 (Activation)     (None, 1, 1, 32)     0           batch_normalization_747[0][0]    \n",
            "__________________________________________________________________________________________________\n",
            "activation_853 (Activation)     (None, 1, 1, 64)     0           batch_normalization_750[0][0]    \n",
            "__________________________________________________________________________________________________\n",
            "block35_3_mixed (Concatenate)   (None, 1, 1, 128)    0           activation_848[0][0]             \n",
            "                                                                 activation_850[0][0]             \n",
            "                                                                 activation_853[0][0]             \n",
            "__________________________________________________________________________________________________\n",
            "block35_3_conv (Conv2D)         (None, 1, 1, 320)    41280       block35_3_mixed[0][0]            \n",
            "__________________________________________________________________________________________________\n",
            "block35_3 (Lambda)              (None, 1, 1, 320)    0           block35_2_ac[0][0]               \n",
            "                                                                 block35_3_conv[0][0]             \n",
            "__________________________________________________________________________________________________\n",
            "block35_3_ac (Activation)       (None, 1, 1, 320)    0           block35_3[0][0]                  \n",
            "__________________________________________________________________________________________________\n",
            "conv2d_817 (Conv2D)             (None, 1, 1, 32)     10240       block35_3_ac[0][0]               \n",
            "__________________________________________________________________________________________________\n",
            "batch_normalization_754 (BatchN (None, 1, 1, 32)     96          conv2d_817[0][0]                 \n",
            "__________________________________________________________________________________________________\n",
            "activation_857 (Activation)     (None, 1, 1, 32)     0           batch_normalization_754[0][0]    \n",
            "__________________________________________________________________________________________________\n",
            "conv2d_815 (Conv2D)             (None, 1, 1, 32)     10240       block35_3_ac[0][0]               \n",
            "__________________________________________________________________________________________________\n",
            "conv2d_818 (Conv2D)             (None, 1, 1, 48)     13824       activation_857[0][0]             \n",
            "__________________________________________________________________________________________________\n",
            "batch_normalization_752 (BatchN (None, 1, 1, 32)     96          conv2d_815[0][0]                 \n",
            "__________________________________________________________________________________________________\n",
            "batch_normalization_755 (BatchN (None, 1, 1, 48)     144         conv2d_818[0][0]                 \n",
            "__________________________________________________________________________________________________\n",
            "activation_855 (Activation)     (None, 1, 1, 32)     0           batch_normalization_752[0][0]    \n",
            "__________________________________________________________________________________________________\n",
            "activation_858 (Activation)     (None, 1, 1, 48)     0           batch_normalization_755[0][0]    \n",
            "__________________________________________________________________________________________________\n",
            "conv2d_814 (Conv2D)             (None, 1, 1, 32)     10240       block35_3_ac[0][0]               \n",
            "__________________________________________________________________________________________________\n",
            "conv2d_816 (Conv2D)             (None, 1, 1, 32)     9216        activation_855[0][0]             \n",
            "__________________________________________________________________________________________________\n",
            "conv2d_819 (Conv2D)             (None, 1, 1, 64)     27648       activation_858[0][0]             \n",
            "__________________________________________________________________________________________________\n",
            "batch_normalization_751 (BatchN (None, 1, 1, 32)     96          conv2d_814[0][0]                 \n",
            "__________________________________________________________________________________________________\n",
            "batch_normalization_753 (BatchN (None, 1, 1, 32)     96          conv2d_816[0][0]                 \n",
            "__________________________________________________________________________________________________\n",
            "batch_normalization_756 (BatchN (None, 1, 1, 64)     192         conv2d_819[0][0]                 \n",
            "__________________________________________________________________________________________________\n",
            "activation_854 (Activation)     (None, 1, 1, 32)     0           batch_normalization_751[0][0]    \n",
            "__________________________________________________________________________________________________\n",
            "activation_856 (Activation)     (None, 1, 1, 32)     0           batch_normalization_753[0][0]    \n",
            "__________________________________________________________________________________________________\n",
            "activation_859 (Activation)     (None, 1, 1, 64)     0           batch_normalization_756[0][0]    \n",
            "__________________________________________________________________________________________________\n",
            "block35_4_mixed (Concatenate)   (None, 1, 1, 128)    0           activation_854[0][0]             \n",
            "                                                                 activation_856[0][0]             \n",
            "                                                                 activation_859[0][0]             \n",
            "__________________________________________________________________________________________________\n",
            "block35_4_conv (Conv2D)         (None, 1, 1, 320)    41280       block35_4_mixed[0][0]            \n",
            "__________________________________________________________________________________________________\n",
            "block35_4 (Lambda)              (None, 1, 1, 320)    0           block35_3_ac[0][0]               \n",
            "                                                                 block35_4_conv[0][0]             \n",
            "__________________________________________________________________________________________________\n",
            "block35_4_ac (Activation)       (None, 1, 1, 320)    0           block35_4[0][0]                  \n",
            "__________________________________________________________________________________________________\n",
            "conv2d_823 (Conv2D)             (None, 1, 1, 32)     10240       block35_4_ac[0][0]               \n",
            "__________________________________________________________________________________________________\n",
            "batch_normalization_760 (BatchN (None, 1, 1, 32)     96          conv2d_823[0][0]                 \n",
            "__________________________________________________________________________________________________\n",
            "activation_863 (Activation)     (None, 1, 1, 32)     0           batch_normalization_760[0][0]    \n",
            "__________________________________________________________________________________________________\n",
            "conv2d_821 (Conv2D)             (None, 1, 1, 32)     10240       block35_4_ac[0][0]               \n",
            "__________________________________________________________________________________________________\n",
            "conv2d_824 (Conv2D)             (None, 1, 1, 48)     13824       activation_863[0][0]             \n",
            "__________________________________________________________________________________________________\n",
            "batch_normalization_758 (BatchN (None, 1, 1, 32)     96          conv2d_821[0][0]                 \n",
            "__________________________________________________________________________________________________\n",
            "batch_normalization_761 (BatchN (None, 1, 1, 48)     144         conv2d_824[0][0]                 \n",
            "__________________________________________________________________________________________________\n",
            "activation_861 (Activation)     (None, 1, 1, 32)     0           batch_normalization_758[0][0]    \n",
            "__________________________________________________________________________________________________\n",
            "activation_864 (Activation)     (None, 1, 1, 48)     0           batch_normalization_761[0][0]    \n",
            "__________________________________________________________________________________________________\n",
            "conv2d_820 (Conv2D)             (None, 1, 1, 32)     10240       block35_4_ac[0][0]               \n",
            "__________________________________________________________________________________________________\n",
            "conv2d_822 (Conv2D)             (None, 1, 1, 32)     9216        activation_861[0][0]             \n",
            "__________________________________________________________________________________________________\n",
            "conv2d_825 (Conv2D)             (None, 1, 1, 64)     27648       activation_864[0][0]             \n",
            "__________________________________________________________________________________________________\n",
            "batch_normalization_757 (BatchN (None, 1, 1, 32)     96          conv2d_820[0][0]                 \n",
            "__________________________________________________________________________________________________\n",
            "batch_normalization_759 (BatchN (None, 1, 1, 32)     96          conv2d_822[0][0]                 \n",
            "__________________________________________________________________________________________________\n",
            "batch_normalization_762 (BatchN (None, 1, 1, 64)     192         conv2d_825[0][0]                 \n",
            "__________________________________________________________________________________________________\n",
            "activation_860 (Activation)     (None, 1, 1, 32)     0           batch_normalization_757[0][0]    \n",
            "__________________________________________________________________________________________________\n",
            "activation_862 (Activation)     (None, 1, 1, 32)     0           batch_normalization_759[0][0]    \n",
            "__________________________________________________________________________________________________\n",
            "activation_865 (Activation)     (None, 1, 1, 64)     0           batch_normalization_762[0][0]    \n",
            "__________________________________________________________________________________________________\n",
            "block35_5_mixed (Concatenate)   (None, 1, 1, 128)    0           activation_860[0][0]             \n",
            "                                                                 activation_862[0][0]             \n",
            "                                                                 activation_865[0][0]             \n",
            "__________________________________________________________________________________________________\n",
            "block35_5_conv (Conv2D)         (None, 1, 1, 320)    41280       block35_5_mixed[0][0]            \n",
            "__________________________________________________________________________________________________\n",
            "block35_5 (Lambda)              (None, 1, 1, 320)    0           block35_4_ac[0][0]               \n",
            "                                                                 block35_5_conv[0][0]             \n",
            "__________________________________________________________________________________________________\n",
            "block35_5_ac (Activation)       (None, 1, 1, 320)    0           block35_5[0][0]                  \n",
            "__________________________________________________________________________________________________\n",
            "conv2d_829 (Conv2D)             (None, 1, 1, 32)     10240       block35_5_ac[0][0]               \n",
            "__________________________________________________________________________________________________\n",
            "batch_normalization_766 (BatchN (None, 1, 1, 32)     96          conv2d_829[0][0]                 \n",
            "__________________________________________________________________________________________________\n",
            "activation_869 (Activation)     (None, 1, 1, 32)     0           batch_normalization_766[0][0]    \n",
            "__________________________________________________________________________________________________\n",
            "conv2d_827 (Conv2D)             (None, 1, 1, 32)     10240       block35_5_ac[0][0]               \n",
            "__________________________________________________________________________________________________\n",
            "conv2d_830 (Conv2D)             (None, 1, 1, 48)     13824       activation_869[0][0]             \n",
            "__________________________________________________________________________________________________\n",
            "batch_normalization_764 (BatchN (None, 1, 1, 32)     96          conv2d_827[0][0]                 \n",
            "__________________________________________________________________________________________________\n",
            "batch_normalization_767 (BatchN (None, 1, 1, 48)     144         conv2d_830[0][0]                 \n",
            "__________________________________________________________________________________________________\n",
            "activation_867 (Activation)     (None, 1, 1, 32)     0           batch_normalization_764[0][0]    \n",
            "__________________________________________________________________________________________________\n",
            "activation_870 (Activation)     (None, 1, 1, 48)     0           batch_normalization_767[0][0]    \n",
            "__________________________________________________________________________________________________\n",
            "conv2d_826 (Conv2D)             (None, 1, 1, 32)     10240       block35_5_ac[0][0]               \n",
            "__________________________________________________________________________________________________\n",
            "conv2d_828 (Conv2D)             (None, 1, 1, 32)     9216        activation_867[0][0]             \n",
            "__________________________________________________________________________________________________\n",
            "conv2d_831 (Conv2D)             (None, 1, 1, 64)     27648       activation_870[0][0]             \n",
            "__________________________________________________________________________________________________\n",
            "batch_normalization_763 (BatchN (None, 1, 1, 32)     96          conv2d_826[0][0]                 \n",
            "__________________________________________________________________________________________________\n",
            "batch_normalization_765 (BatchN (None, 1, 1, 32)     96          conv2d_828[0][0]                 \n",
            "__________________________________________________________________________________________________\n",
            "batch_normalization_768 (BatchN (None, 1, 1, 64)     192         conv2d_831[0][0]                 \n",
            "__________________________________________________________________________________________________\n",
            "activation_866 (Activation)     (None, 1, 1, 32)     0           batch_normalization_763[0][0]    \n",
            "__________________________________________________________________________________________________\n",
            "activation_868 (Activation)     (None, 1, 1, 32)     0           batch_normalization_765[0][0]    \n",
            "__________________________________________________________________________________________________\n",
            "activation_871 (Activation)     (None, 1, 1, 64)     0           batch_normalization_768[0][0]    \n",
            "__________________________________________________________________________________________________\n",
            "block35_6_mixed (Concatenate)   (None, 1, 1, 128)    0           activation_866[0][0]             \n",
            "                                                                 activation_868[0][0]             \n",
            "                                                                 activation_871[0][0]             \n",
            "__________________________________________________________________________________________________\n",
            "block35_6_conv (Conv2D)         (None, 1, 1, 320)    41280       block35_6_mixed[0][0]            \n",
            "__________________________________________________________________________________________________\n",
            "block35_6 (Lambda)              (None, 1, 1, 320)    0           block35_5_ac[0][0]               \n",
            "                                                                 block35_6_conv[0][0]             \n",
            "__________________________________________________________________________________________________\n",
            "block35_6_ac (Activation)       (None, 1, 1, 320)    0           block35_6[0][0]                  \n",
            "__________________________________________________________________________________________________\n",
            "conv2d_835 (Conv2D)             (None, 1, 1, 32)     10240       block35_6_ac[0][0]               \n",
            "__________________________________________________________________________________________________\n",
            "batch_normalization_772 (BatchN (None, 1, 1, 32)     96          conv2d_835[0][0]                 \n",
            "__________________________________________________________________________________________________\n",
            "activation_875 (Activation)     (None, 1, 1, 32)     0           batch_normalization_772[0][0]    \n",
            "__________________________________________________________________________________________________\n",
            "conv2d_833 (Conv2D)             (None, 1, 1, 32)     10240       block35_6_ac[0][0]               \n",
            "__________________________________________________________________________________________________\n",
            "conv2d_836 (Conv2D)             (None, 1, 1, 48)     13824       activation_875[0][0]             \n",
            "__________________________________________________________________________________________________\n",
            "batch_normalization_770 (BatchN (None, 1, 1, 32)     96          conv2d_833[0][0]                 \n",
            "__________________________________________________________________________________________________\n",
            "batch_normalization_773 (BatchN (None, 1, 1, 48)     144         conv2d_836[0][0]                 \n",
            "__________________________________________________________________________________________________\n",
            "activation_873 (Activation)     (None, 1, 1, 32)     0           batch_normalization_770[0][0]    \n",
            "__________________________________________________________________________________________________\n",
            "activation_876 (Activation)     (None, 1, 1, 48)     0           batch_normalization_773[0][0]    \n",
            "__________________________________________________________________________________________________\n",
            "conv2d_832 (Conv2D)             (None, 1, 1, 32)     10240       block35_6_ac[0][0]               \n",
            "__________________________________________________________________________________________________\n",
            "conv2d_834 (Conv2D)             (None, 1, 1, 32)     9216        activation_873[0][0]             \n",
            "__________________________________________________________________________________________________\n",
            "conv2d_837 (Conv2D)             (None, 1, 1, 64)     27648       activation_876[0][0]             \n",
            "__________________________________________________________________________________________________\n",
            "batch_normalization_769 (BatchN (None, 1, 1, 32)     96          conv2d_832[0][0]                 \n",
            "__________________________________________________________________________________________________\n",
            "batch_normalization_771 (BatchN (None, 1, 1, 32)     96          conv2d_834[0][0]                 \n",
            "__________________________________________________________________________________________________\n",
            "batch_normalization_774 (BatchN (None, 1, 1, 64)     192         conv2d_837[0][0]                 \n",
            "__________________________________________________________________________________________________\n",
            "activation_872 (Activation)     (None, 1, 1, 32)     0           batch_normalization_769[0][0]    \n",
            "__________________________________________________________________________________________________\n",
            "activation_874 (Activation)     (None, 1, 1, 32)     0           batch_normalization_771[0][0]    \n",
            "__________________________________________________________________________________________________\n",
            "activation_877 (Activation)     (None, 1, 1, 64)     0           batch_normalization_774[0][0]    \n",
            "__________________________________________________________________________________________________\n",
            "block35_7_mixed (Concatenate)   (None, 1, 1, 128)    0           activation_872[0][0]             \n",
            "                                                                 activation_874[0][0]             \n",
            "                                                                 activation_877[0][0]             \n",
            "__________________________________________________________________________________________________\n",
            "block35_7_conv (Conv2D)         (None, 1, 1, 320)    41280       block35_7_mixed[0][0]            \n",
            "__________________________________________________________________________________________________\n",
            "block35_7 (Lambda)              (None, 1, 1, 320)    0           block35_6_ac[0][0]               \n",
            "                                                                 block35_7_conv[0][0]             \n",
            "__________________________________________________________________________________________________\n",
            "block35_7_ac (Activation)       (None, 1, 1, 320)    0           block35_7[0][0]                  \n",
            "__________________________________________________________________________________________________\n",
            "conv2d_841 (Conv2D)             (None, 1, 1, 32)     10240       block35_7_ac[0][0]               \n",
            "__________________________________________________________________________________________________\n",
            "batch_normalization_778 (BatchN (None, 1, 1, 32)     96          conv2d_841[0][0]                 \n",
            "__________________________________________________________________________________________________\n",
            "activation_881 (Activation)     (None, 1, 1, 32)     0           batch_normalization_778[0][0]    \n",
            "__________________________________________________________________________________________________\n",
            "conv2d_839 (Conv2D)             (None, 1, 1, 32)     10240       block35_7_ac[0][0]               \n",
            "__________________________________________________________________________________________________\n",
            "conv2d_842 (Conv2D)             (None, 1, 1, 48)     13824       activation_881[0][0]             \n",
            "__________________________________________________________________________________________________\n",
            "batch_normalization_776 (BatchN (None, 1, 1, 32)     96          conv2d_839[0][0]                 \n",
            "__________________________________________________________________________________________________\n",
            "batch_normalization_779 (BatchN (None, 1, 1, 48)     144         conv2d_842[0][0]                 \n",
            "__________________________________________________________________________________________________\n",
            "activation_879 (Activation)     (None, 1, 1, 32)     0           batch_normalization_776[0][0]    \n",
            "__________________________________________________________________________________________________\n",
            "activation_882 (Activation)     (None, 1, 1, 48)     0           batch_normalization_779[0][0]    \n",
            "__________________________________________________________________________________________________\n",
            "conv2d_838 (Conv2D)             (None, 1, 1, 32)     10240       block35_7_ac[0][0]               \n",
            "__________________________________________________________________________________________________\n",
            "conv2d_840 (Conv2D)             (None, 1, 1, 32)     9216        activation_879[0][0]             \n",
            "__________________________________________________________________________________________________\n",
            "conv2d_843 (Conv2D)             (None, 1, 1, 64)     27648       activation_882[0][0]             \n",
            "__________________________________________________________________________________________________\n",
            "batch_normalization_775 (BatchN (None, 1, 1, 32)     96          conv2d_838[0][0]                 \n",
            "__________________________________________________________________________________________________\n",
            "batch_normalization_777 (BatchN (None, 1, 1, 32)     96          conv2d_840[0][0]                 \n",
            "__________________________________________________________________________________________________\n",
            "batch_normalization_780 (BatchN (None, 1, 1, 64)     192         conv2d_843[0][0]                 \n",
            "__________________________________________________________________________________________________\n",
            "activation_878 (Activation)     (None, 1, 1, 32)     0           batch_normalization_775[0][0]    \n",
            "__________________________________________________________________________________________________\n",
            "activation_880 (Activation)     (None, 1, 1, 32)     0           batch_normalization_777[0][0]    \n",
            "__________________________________________________________________________________________________\n",
            "activation_883 (Activation)     (None, 1, 1, 64)     0           batch_normalization_780[0][0]    \n",
            "__________________________________________________________________________________________________\n",
            "block35_8_mixed (Concatenate)   (None, 1, 1, 128)    0           activation_878[0][0]             \n",
            "                                                                 activation_880[0][0]             \n",
            "                                                                 activation_883[0][0]             \n",
            "__________________________________________________________________________________________________\n",
            "block35_8_conv (Conv2D)         (None, 1, 1, 320)    41280       block35_8_mixed[0][0]            \n",
            "__________________________________________________________________________________________________\n",
            "block35_8 (Lambda)              (None, 1, 1, 320)    0           block35_7_ac[0][0]               \n",
            "                                                                 block35_8_conv[0][0]             \n",
            "__________________________________________________________________________________________________\n",
            "block35_8_ac (Activation)       (None, 1, 1, 320)    0           block35_8[0][0]                  \n",
            "__________________________________________________________________________________________________\n",
            "conv2d_847 (Conv2D)             (None, 1, 1, 32)     10240       block35_8_ac[0][0]               \n",
            "__________________________________________________________________________________________________\n",
            "batch_normalization_784 (BatchN (None, 1, 1, 32)     96          conv2d_847[0][0]                 \n",
            "__________________________________________________________________________________________________\n",
            "activation_887 (Activation)     (None, 1, 1, 32)     0           batch_normalization_784[0][0]    \n",
            "__________________________________________________________________________________________________\n",
            "conv2d_845 (Conv2D)             (None, 1, 1, 32)     10240       block35_8_ac[0][0]               \n",
            "__________________________________________________________________________________________________\n",
            "conv2d_848 (Conv2D)             (None, 1, 1, 48)     13824       activation_887[0][0]             \n",
            "__________________________________________________________________________________________________\n",
            "batch_normalization_782 (BatchN (None, 1, 1, 32)     96          conv2d_845[0][0]                 \n",
            "__________________________________________________________________________________________________\n",
            "batch_normalization_785 (BatchN (None, 1, 1, 48)     144         conv2d_848[0][0]                 \n",
            "__________________________________________________________________________________________________\n",
            "activation_885 (Activation)     (None, 1, 1, 32)     0           batch_normalization_782[0][0]    \n",
            "__________________________________________________________________________________________________\n",
            "activation_888 (Activation)     (None, 1, 1, 48)     0           batch_normalization_785[0][0]    \n",
            "__________________________________________________________________________________________________\n",
            "conv2d_844 (Conv2D)             (None, 1, 1, 32)     10240       block35_8_ac[0][0]               \n",
            "__________________________________________________________________________________________________\n",
            "conv2d_846 (Conv2D)             (None, 1, 1, 32)     9216        activation_885[0][0]             \n",
            "__________________________________________________________________________________________________\n",
            "conv2d_849 (Conv2D)             (None, 1, 1, 64)     27648       activation_888[0][0]             \n",
            "__________________________________________________________________________________________________\n",
            "batch_normalization_781 (BatchN (None, 1, 1, 32)     96          conv2d_844[0][0]                 \n",
            "__________________________________________________________________________________________________\n",
            "batch_normalization_783 (BatchN (None, 1, 1, 32)     96          conv2d_846[0][0]                 \n",
            "__________________________________________________________________________________________________\n",
            "batch_normalization_786 (BatchN (None, 1, 1, 64)     192         conv2d_849[0][0]                 \n",
            "__________________________________________________________________________________________________\n",
            "activation_884 (Activation)     (None, 1, 1, 32)     0           batch_normalization_781[0][0]    \n",
            "__________________________________________________________________________________________________\n",
            "activation_886 (Activation)     (None, 1, 1, 32)     0           batch_normalization_783[0][0]    \n",
            "__________________________________________________________________________________________________\n",
            "activation_889 (Activation)     (None, 1, 1, 64)     0           batch_normalization_786[0][0]    \n",
            "__________________________________________________________________________________________________\n",
            "block35_9_mixed (Concatenate)   (None, 1, 1, 128)    0           activation_884[0][0]             \n",
            "                                                                 activation_886[0][0]             \n",
            "                                                                 activation_889[0][0]             \n",
            "__________________________________________________________________________________________________\n",
            "block35_9_conv (Conv2D)         (None, 1, 1, 320)    41280       block35_9_mixed[0][0]            \n",
            "__________________________________________________________________________________________________\n",
            "block35_9 (Lambda)              (None, 1, 1, 320)    0           block35_8_ac[0][0]               \n",
            "                                                                 block35_9_conv[0][0]             \n",
            "__________________________________________________________________________________________________\n",
            "block35_9_ac (Activation)       (None, 1, 1, 320)    0           block35_9[0][0]                  \n",
            "__________________________________________________________________________________________________\n",
            "conv2d_853 (Conv2D)             (None, 1, 1, 32)     10240       block35_9_ac[0][0]               \n",
            "__________________________________________________________________________________________________\n",
            "batch_normalization_790 (BatchN (None, 1, 1, 32)     96          conv2d_853[0][0]                 \n",
            "__________________________________________________________________________________________________\n",
            "activation_893 (Activation)     (None, 1, 1, 32)     0           batch_normalization_790[0][0]    \n",
            "__________________________________________________________________________________________________\n",
            "conv2d_851 (Conv2D)             (None, 1, 1, 32)     10240       block35_9_ac[0][0]               \n",
            "__________________________________________________________________________________________________\n",
            "conv2d_854 (Conv2D)             (None, 1, 1, 48)     13824       activation_893[0][0]             \n",
            "__________________________________________________________________________________________________\n",
            "batch_normalization_788 (BatchN (None, 1, 1, 32)     96          conv2d_851[0][0]                 \n",
            "__________________________________________________________________________________________________\n",
            "batch_normalization_791 (BatchN (None, 1, 1, 48)     144         conv2d_854[0][0]                 \n",
            "__________________________________________________________________________________________________\n",
            "activation_891 (Activation)     (None, 1, 1, 32)     0           batch_normalization_788[0][0]    \n",
            "__________________________________________________________________________________________________\n",
            "activation_894 (Activation)     (None, 1, 1, 48)     0           batch_normalization_791[0][0]    \n",
            "__________________________________________________________________________________________________\n",
            "conv2d_850 (Conv2D)             (None, 1, 1, 32)     10240       block35_9_ac[0][0]               \n",
            "__________________________________________________________________________________________________\n",
            "conv2d_852 (Conv2D)             (None, 1, 1, 32)     9216        activation_891[0][0]             \n",
            "__________________________________________________________________________________________________\n",
            "conv2d_855 (Conv2D)             (None, 1, 1, 64)     27648       activation_894[0][0]             \n",
            "__________________________________________________________________________________________________\n",
            "batch_normalization_787 (BatchN (None, 1, 1, 32)     96          conv2d_850[0][0]                 \n",
            "__________________________________________________________________________________________________\n",
            "batch_normalization_789 (BatchN (None, 1, 1, 32)     96          conv2d_852[0][0]                 \n",
            "__________________________________________________________________________________________________\n",
            "batch_normalization_792 (BatchN (None, 1, 1, 64)     192         conv2d_855[0][0]                 \n",
            "__________________________________________________________________________________________________\n",
            "activation_890 (Activation)     (None, 1, 1, 32)     0           batch_normalization_787[0][0]    \n",
            "__________________________________________________________________________________________________\n",
            "activation_892 (Activation)     (None, 1, 1, 32)     0           batch_normalization_789[0][0]    \n",
            "__________________________________________________________________________________________________\n",
            "activation_895 (Activation)     (None, 1, 1, 64)     0           batch_normalization_792[0][0]    \n",
            "__________________________________________________________________________________________________\n",
            "block35_10_mixed (Concatenate)  (None, 1, 1, 128)    0           activation_890[0][0]             \n",
            "                                                                 activation_892[0][0]             \n",
            "                                                                 activation_895[0][0]             \n",
            "__________________________________________________________________________________________________\n",
            "block35_10_conv (Conv2D)        (None, 1, 1, 320)    41280       block35_10_mixed[0][0]           \n",
            "__________________________________________________________________________________________________\n",
            "block35_10 (Lambda)             (None, 1, 1, 320)    0           block35_9_ac[0][0]               \n",
            "                                                                 block35_10_conv[0][0]            \n",
            "__________________________________________________________________________________________________\n",
            "block35_10_ac (Activation)      (None, 1, 1, 320)    0           block35_10[0][0]                 \n",
            "__________________________________________________________________________________________________\n",
            "conv2d_857 (Conv2D)             (None, 1, 1, 256)    81920       block35_10_ac[0][0]              \n",
            "__________________________________________________________________________________________________\n",
            "batch_normalization_794 (BatchN (None, 1, 1, 256)    768         conv2d_857[0][0]                 \n",
            "__________________________________________________________________________________________________\n",
            "activation_897 (Activation)     (None, 1, 1, 256)    0           batch_normalization_794[0][0]    \n",
            "__________________________________________________________________________________________________\n",
            "conv2d_858 (Conv2D)             (None, 1, 1, 256)    589824      activation_897[0][0]             \n",
            "__________________________________________________________________________________________________\n",
            "batch_normalization_795 (BatchN (None, 1, 1, 256)    768         conv2d_858[0][0]                 \n",
            "__________________________________________________________________________________________________\n",
            "activation_898 (Activation)     (None, 1, 1, 256)    0           batch_normalization_795[0][0]    \n",
            "__________________________________________________________________________________________________\n",
            "conv2d_856 (Conv2D)             (None, 1, 1, 384)    1105920     block35_10_ac[0][0]              \n",
            "__________________________________________________________________________________________________\n",
            "conv2d_859 (Conv2D)             (None, 1, 1, 384)    884736      activation_898[0][0]             \n",
            "__________________________________________________________________________________________________\n",
            "batch_normalization_793 (BatchN (None, 1, 1, 384)    1152        conv2d_856[0][0]                 \n",
            "__________________________________________________________________________________________________\n",
            "batch_normalization_796 (BatchN (None, 1, 1, 384)    1152        conv2d_859[0][0]                 \n",
            "__________________________________________________________________________________________________\n",
            "activation_896 (Activation)     (None, 1, 1, 384)    0           batch_normalization_793[0][0]    \n",
            "__________________________________________________________________________________________________\n",
            "activation_899 (Activation)     (None, 1, 1, 384)    0           batch_normalization_796[0][0]    \n",
            "__________________________________________________________________________________________________\n",
            "max_pooling2d_40 (MaxPooling2D) (None, 1, 1, 320)    0           block35_10_ac[0][0]              \n",
            "__________________________________________________________________________________________________\n",
            "mixed_6a (Concatenate)          (None, 1, 1, 1088)   0           activation_896[0][0]             \n",
            "                                                                 activation_899[0][0]             \n",
            "                                                                 max_pooling2d_40[0][0]           \n",
            "__________________________________________________________________________________________________\n",
            "conv2d_861 (Conv2D)             (None, 1, 1, 128)    139264      mixed_6a[0][0]                   \n",
            "__________________________________________________________________________________________________\n",
            "batch_normalization_798 (BatchN (None, 1, 1, 128)    384         conv2d_861[0][0]                 \n",
            "__________________________________________________________________________________________________\n",
            "activation_901 (Activation)     (None, 1, 1, 128)    0           batch_normalization_798[0][0]    \n",
            "__________________________________________________________________________________________________\n",
            "conv2d_862 (Conv2D)             (None, 1, 1, 160)    143360      activation_901[0][0]             \n",
            "__________________________________________________________________________________________________\n",
            "batch_normalization_799 (BatchN (None, 1, 1, 160)    480         conv2d_862[0][0]                 \n",
            "__________________________________________________________________________________________________\n",
            "activation_902 (Activation)     (None, 1, 1, 160)    0           batch_normalization_799[0][0]    \n",
            "__________________________________________________________________________________________________\n",
            "conv2d_860 (Conv2D)             (None, 1, 1, 192)    208896      mixed_6a[0][0]                   \n",
            "__________________________________________________________________________________________________\n",
            "conv2d_863 (Conv2D)             (None, 1, 1, 192)    215040      activation_902[0][0]             \n",
            "__________________________________________________________________________________________________\n",
            "batch_normalization_797 (BatchN (None, 1, 1, 192)    576         conv2d_860[0][0]                 \n",
            "__________________________________________________________________________________________________\n",
            "batch_normalization_800 (BatchN (None, 1, 1, 192)    576         conv2d_863[0][0]                 \n",
            "__________________________________________________________________________________________________\n",
            "activation_900 (Activation)     (None, 1, 1, 192)    0           batch_normalization_797[0][0]    \n",
            "__________________________________________________________________________________________________\n",
            "activation_903 (Activation)     (None, 1, 1, 192)    0           batch_normalization_800[0][0]    \n",
            "__________________________________________________________________________________________________\n",
            "block17_1_mixed (Concatenate)   (None, 1, 1, 384)    0           activation_900[0][0]             \n",
            "                                                                 activation_903[0][0]             \n",
            "__________________________________________________________________________________________________\n",
            "block17_1_conv (Conv2D)         (None, 1, 1, 1088)   418880      block17_1_mixed[0][0]            \n",
            "__________________________________________________________________________________________________\n",
            "block17_1 (Lambda)              (None, 1, 1, 1088)   0           mixed_6a[0][0]                   \n",
            "                                                                 block17_1_conv[0][0]             \n",
            "__________________________________________________________________________________________________\n",
            "block17_1_ac (Activation)       (None, 1, 1, 1088)   0           block17_1[0][0]                  \n",
            "__________________________________________________________________________________________________\n",
            "conv2d_865 (Conv2D)             (None, 1, 1, 128)    139264      block17_1_ac[0][0]               \n",
            "__________________________________________________________________________________________________\n",
            "batch_normalization_802 (BatchN (None, 1, 1, 128)    384         conv2d_865[0][0]                 \n",
            "__________________________________________________________________________________________________\n",
            "activation_905 (Activation)     (None, 1, 1, 128)    0           batch_normalization_802[0][0]    \n",
            "__________________________________________________________________________________________________\n",
            "conv2d_866 (Conv2D)             (None, 1, 1, 160)    143360      activation_905[0][0]             \n",
            "__________________________________________________________________________________________________\n",
            "batch_normalization_803 (BatchN (None, 1, 1, 160)    480         conv2d_866[0][0]                 \n",
            "__________________________________________________________________________________________________\n",
            "activation_906 (Activation)     (None, 1, 1, 160)    0           batch_normalization_803[0][0]    \n",
            "__________________________________________________________________________________________________\n",
            "conv2d_864 (Conv2D)             (None, 1, 1, 192)    208896      block17_1_ac[0][0]               \n",
            "__________________________________________________________________________________________________\n",
            "conv2d_867 (Conv2D)             (None, 1, 1, 192)    215040      activation_906[0][0]             \n",
            "__________________________________________________________________________________________________\n",
            "batch_normalization_801 (BatchN (None, 1, 1, 192)    576         conv2d_864[0][0]                 \n",
            "__________________________________________________________________________________________________\n",
            "batch_normalization_804 (BatchN (None, 1, 1, 192)    576         conv2d_867[0][0]                 \n",
            "__________________________________________________________________________________________________\n",
            "activation_904 (Activation)     (None, 1, 1, 192)    0           batch_normalization_801[0][0]    \n",
            "__________________________________________________________________________________________________\n",
            "activation_907 (Activation)     (None, 1, 1, 192)    0           batch_normalization_804[0][0]    \n",
            "__________________________________________________________________________________________________\n",
            "block17_2_mixed (Concatenate)   (None, 1, 1, 384)    0           activation_904[0][0]             \n",
            "                                                                 activation_907[0][0]             \n",
            "__________________________________________________________________________________________________\n",
            "block17_2_conv (Conv2D)         (None, 1, 1, 1088)   418880      block17_2_mixed[0][0]            \n",
            "__________________________________________________________________________________________________\n",
            "block17_2 (Lambda)              (None, 1, 1, 1088)   0           block17_1_ac[0][0]               \n",
            "                                                                 block17_2_conv[0][0]             \n",
            "__________________________________________________________________________________________________\n",
            "block17_2_ac (Activation)       (None, 1, 1, 1088)   0           block17_2[0][0]                  \n",
            "__________________________________________________________________________________________________\n",
            "conv2d_869 (Conv2D)             (None, 1, 1, 128)    139264      block17_2_ac[0][0]               \n",
            "__________________________________________________________________________________________________\n",
            "batch_normalization_806 (BatchN (None, 1, 1, 128)    384         conv2d_869[0][0]                 \n",
            "__________________________________________________________________________________________________\n",
            "activation_909 (Activation)     (None, 1, 1, 128)    0           batch_normalization_806[0][0]    \n",
            "__________________________________________________________________________________________________\n",
            "conv2d_870 (Conv2D)             (None, 1, 1, 160)    143360      activation_909[0][0]             \n",
            "__________________________________________________________________________________________________\n",
            "batch_normalization_807 (BatchN (None, 1, 1, 160)    480         conv2d_870[0][0]                 \n",
            "__________________________________________________________________________________________________\n",
            "activation_910 (Activation)     (None, 1, 1, 160)    0           batch_normalization_807[0][0]    \n",
            "__________________________________________________________________________________________________\n",
            "conv2d_868 (Conv2D)             (None, 1, 1, 192)    208896      block17_2_ac[0][0]               \n",
            "__________________________________________________________________________________________________\n",
            "conv2d_871 (Conv2D)             (None, 1, 1, 192)    215040      activation_910[0][0]             \n",
            "__________________________________________________________________________________________________\n",
            "batch_normalization_805 (BatchN (None, 1, 1, 192)    576         conv2d_868[0][0]                 \n",
            "__________________________________________________________________________________________________\n",
            "batch_normalization_808 (BatchN (None, 1, 1, 192)    576         conv2d_871[0][0]                 \n",
            "__________________________________________________________________________________________________\n",
            "activation_908 (Activation)     (None, 1, 1, 192)    0           batch_normalization_805[0][0]    \n",
            "__________________________________________________________________________________________________\n",
            "activation_911 (Activation)     (None, 1, 1, 192)    0           batch_normalization_808[0][0]    \n",
            "__________________________________________________________________________________________________\n",
            "block17_3_mixed (Concatenate)   (None, 1, 1, 384)    0           activation_908[0][0]             \n",
            "                                                                 activation_911[0][0]             \n",
            "__________________________________________________________________________________________________\n",
            "block17_3_conv (Conv2D)         (None, 1, 1, 1088)   418880      block17_3_mixed[0][0]            \n",
            "__________________________________________________________________________________________________\n",
            "block17_3 (Lambda)              (None, 1, 1, 1088)   0           block17_2_ac[0][0]               \n",
            "                                                                 block17_3_conv[0][0]             \n",
            "__________________________________________________________________________________________________\n",
            "block17_3_ac (Activation)       (None, 1, 1, 1088)   0           block17_3[0][0]                  \n",
            "__________________________________________________________________________________________________\n",
            "conv2d_873 (Conv2D)             (None, 1, 1, 128)    139264      block17_3_ac[0][0]               \n",
            "__________________________________________________________________________________________________\n",
            "batch_normalization_810 (BatchN (None, 1, 1, 128)    384         conv2d_873[0][0]                 \n",
            "__________________________________________________________________________________________________\n",
            "activation_913 (Activation)     (None, 1, 1, 128)    0           batch_normalization_810[0][0]    \n",
            "__________________________________________________________________________________________________\n",
            "conv2d_874 (Conv2D)             (None, 1, 1, 160)    143360      activation_913[0][0]             \n",
            "__________________________________________________________________________________________________\n",
            "batch_normalization_811 (BatchN (None, 1, 1, 160)    480         conv2d_874[0][0]                 \n",
            "__________________________________________________________________________________________________\n",
            "activation_914 (Activation)     (None, 1, 1, 160)    0           batch_normalization_811[0][0]    \n",
            "__________________________________________________________________________________________________\n",
            "conv2d_872 (Conv2D)             (None, 1, 1, 192)    208896      block17_3_ac[0][0]               \n",
            "__________________________________________________________________________________________________\n",
            "conv2d_875 (Conv2D)             (None, 1, 1, 192)    215040      activation_914[0][0]             \n",
            "__________________________________________________________________________________________________\n",
            "batch_normalization_809 (BatchN (None, 1, 1, 192)    576         conv2d_872[0][0]                 \n",
            "__________________________________________________________________________________________________\n",
            "batch_normalization_812 (BatchN (None, 1, 1, 192)    576         conv2d_875[0][0]                 \n",
            "__________________________________________________________________________________________________\n",
            "activation_912 (Activation)     (None, 1, 1, 192)    0           batch_normalization_809[0][0]    \n",
            "__________________________________________________________________________________________________\n",
            "activation_915 (Activation)     (None, 1, 1, 192)    0           batch_normalization_812[0][0]    \n",
            "__________________________________________________________________________________________________\n",
            "block17_4_mixed (Concatenate)   (None, 1, 1, 384)    0           activation_912[0][0]             \n",
            "                                                                 activation_915[0][0]             \n",
            "__________________________________________________________________________________________________\n",
            "block17_4_conv (Conv2D)         (None, 1, 1, 1088)   418880      block17_4_mixed[0][0]            \n",
            "__________________________________________________________________________________________________\n",
            "block17_4 (Lambda)              (None, 1, 1, 1088)   0           block17_3_ac[0][0]               \n",
            "                                                                 block17_4_conv[0][0]             \n",
            "__________________________________________________________________________________________________\n",
            "block17_4_ac (Activation)       (None, 1, 1, 1088)   0           block17_4[0][0]                  \n",
            "__________________________________________________________________________________________________\n",
            "conv2d_877 (Conv2D)             (None, 1, 1, 128)    139264      block17_4_ac[0][0]               \n",
            "__________________________________________________________________________________________________\n",
            "batch_normalization_814 (BatchN (None, 1, 1, 128)    384         conv2d_877[0][0]                 \n",
            "__________________________________________________________________________________________________\n",
            "activation_917 (Activation)     (None, 1, 1, 128)    0           batch_normalization_814[0][0]    \n",
            "__________________________________________________________________________________________________\n",
            "conv2d_878 (Conv2D)             (None, 1, 1, 160)    143360      activation_917[0][0]             \n",
            "__________________________________________________________________________________________________\n",
            "batch_normalization_815 (BatchN (None, 1, 1, 160)    480         conv2d_878[0][0]                 \n",
            "__________________________________________________________________________________________________\n",
            "activation_918 (Activation)     (None, 1, 1, 160)    0           batch_normalization_815[0][0]    \n",
            "__________________________________________________________________________________________________\n",
            "conv2d_876 (Conv2D)             (None, 1, 1, 192)    208896      block17_4_ac[0][0]               \n",
            "__________________________________________________________________________________________________\n",
            "conv2d_879 (Conv2D)             (None, 1, 1, 192)    215040      activation_918[0][0]             \n",
            "__________________________________________________________________________________________________\n",
            "batch_normalization_813 (BatchN (None, 1, 1, 192)    576         conv2d_876[0][0]                 \n",
            "__________________________________________________________________________________________________\n",
            "batch_normalization_816 (BatchN (None, 1, 1, 192)    576         conv2d_879[0][0]                 \n",
            "__________________________________________________________________________________________________\n",
            "activation_916 (Activation)     (None, 1, 1, 192)    0           batch_normalization_813[0][0]    \n",
            "__________________________________________________________________________________________________\n",
            "activation_919 (Activation)     (None, 1, 1, 192)    0           batch_normalization_816[0][0]    \n",
            "__________________________________________________________________________________________________\n",
            "block17_5_mixed (Concatenate)   (None, 1, 1, 384)    0           activation_916[0][0]             \n",
            "                                                                 activation_919[0][0]             \n",
            "__________________________________________________________________________________________________\n",
            "block17_5_conv (Conv2D)         (None, 1, 1, 1088)   418880      block17_5_mixed[0][0]            \n",
            "__________________________________________________________________________________________________\n",
            "block17_5 (Lambda)              (None, 1, 1, 1088)   0           block17_4_ac[0][0]               \n",
            "                                                                 block17_5_conv[0][0]             \n",
            "__________________________________________________________________________________________________\n",
            "block17_5_ac (Activation)       (None, 1, 1, 1088)   0           block17_5[0][0]                  \n",
            "__________________________________________________________________________________________________\n",
            "conv2d_881 (Conv2D)             (None, 1, 1, 128)    139264      block17_5_ac[0][0]               \n",
            "__________________________________________________________________________________________________\n",
            "batch_normalization_818 (BatchN (None, 1, 1, 128)    384         conv2d_881[0][0]                 \n",
            "__________________________________________________________________________________________________\n",
            "activation_921 (Activation)     (None, 1, 1, 128)    0           batch_normalization_818[0][0]    \n",
            "__________________________________________________________________________________________________\n",
            "conv2d_882 (Conv2D)             (None, 1, 1, 160)    143360      activation_921[0][0]             \n",
            "__________________________________________________________________________________________________\n",
            "batch_normalization_819 (BatchN (None, 1, 1, 160)    480         conv2d_882[0][0]                 \n",
            "__________________________________________________________________________________________________\n",
            "activation_922 (Activation)     (None, 1, 1, 160)    0           batch_normalization_819[0][0]    \n",
            "__________________________________________________________________________________________________\n",
            "conv2d_880 (Conv2D)             (None, 1, 1, 192)    208896      block17_5_ac[0][0]               \n",
            "__________________________________________________________________________________________________\n",
            "conv2d_883 (Conv2D)             (None, 1, 1, 192)    215040      activation_922[0][0]             \n",
            "__________________________________________________________________________________________________\n",
            "batch_normalization_817 (BatchN (None, 1, 1, 192)    576         conv2d_880[0][0]                 \n",
            "__________________________________________________________________________________________________\n",
            "batch_normalization_820 (BatchN (None, 1, 1, 192)    576         conv2d_883[0][0]                 \n",
            "__________________________________________________________________________________________________\n",
            "activation_920 (Activation)     (None, 1, 1, 192)    0           batch_normalization_817[0][0]    \n",
            "__________________________________________________________________________________________________\n",
            "activation_923 (Activation)     (None, 1, 1, 192)    0           batch_normalization_820[0][0]    \n",
            "__________________________________________________________________________________________________\n",
            "block17_6_mixed (Concatenate)   (None, 1, 1, 384)    0           activation_920[0][0]             \n",
            "                                                                 activation_923[0][0]             \n",
            "__________________________________________________________________________________________________\n",
            "block17_6_conv (Conv2D)         (None, 1, 1, 1088)   418880      block17_6_mixed[0][0]            \n",
            "__________________________________________________________________________________________________\n",
            "block17_6 (Lambda)              (None, 1, 1, 1088)   0           block17_5_ac[0][0]               \n",
            "                                                                 block17_6_conv[0][0]             \n",
            "__________________________________________________________________________________________________\n",
            "block17_6_ac (Activation)       (None, 1, 1, 1088)   0           block17_6[0][0]                  \n",
            "__________________________________________________________________________________________________\n",
            "conv2d_885 (Conv2D)             (None, 1, 1, 128)    139264      block17_6_ac[0][0]               \n",
            "__________________________________________________________________________________________________\n",
            "batch_normalization_822 (BatchN (None, 1, 1, 128)    384         conv2d_885[0][0]                 \n",
            "__________________________________________________________________________________________________\n",
            "activation_925 (Activation)     (None, 1, 1, 128)    0           batch_normalization_822[0][0]    \n",
            "__________________________________________________________________________________________________\n",
            "conv2d_886 (Conv2D)             (None, 1, 1, 160)    143360      activation_925[0][0]             \n",
            "__________________________________________________________________________________________________\n",
            "batch_normalization_823 (BatchN (None, 1, 1, 160)    480         conv2d_886[0][0]                 \n",
            "__________________________________________________________________________________________________\n",
            "activation_926 (Activation)     (None, 1, 1, 160)    0           batch_normalization_823[0][0]    \n",
            "__________________________________________________________________________________________________\n",
            "conv2d_884 (Conv2D)             (None, 1, 1, 192)    208896      block17_6_ac[0][0]               \n",
            "__________________________________________________________________________________________________\n",
            "conv2d_887 (Conv2D)             (None, 1, 1, 192)    215040      activation_926[0][0]             \n",
            "__________________________________________________________________________________________________\n",
            "batch_normalization_821 (BatchN (None, 1, 1, 192)    576         conv2d_884[0][0]                 \n",
            "__________________________________________________________________________________________________\n",
            "batch_normalization_824 (BatchN (None, 1, 1, 192)    576         conv2d_887[0][0]                 \n",
            "__________________________________________________________________________________________________\n",
            "activation_924 (Activation)     (None, 1, 1, 192)    0           batch_normalization_821[0][0]    \n",
            "__________________________________________________________________________________________________\n",
            "activation_927 (Activation)     (None, 1, 1, 192)    0           batch_normalization_824[0][0]    \n",
            "__________________________________________________________________________________________________\n",
            "block17_7_mixed (Concatenate)   (None, 1, 1, 384)    0           activation_924[0][0]             \n",
            "                                                                 activation_927[0][0]             \n",
            "__________________________________________________________________________________________________\n",
            "block17_7_conv (Conv2D)         (None, 1, 1, 1088)   418880      block17_7_mixed[0][0]            \n",
            "__________________________________________________________________________________________________\n",
            "block17_7 (Lambda)              (None, 1, 1, 1088)   0           block17_6_ac[0][0]               \n",
            "                                                                 block17_7_conv[0][0]             \n",
            "__________________________________________________________________________________________________\n",
            "block17_7_ac (Activation)       (None, 1, 1, 1088)   0           block17_7[0][0]                  \n",
            "__________________________________________________________________________________________________\n",
            "conv2d_889 (Conv2D)             (None, 1, 1, 128)    139264      block17_7_ac[0][0]               \n",
            "__________________________________________________________________________________________________\n",
            "batch_normalization_826 (BatchN (None, 1, 1, 128)    384         conv2d_889[0][0]                 \n",
            "__________________________________________________________________________________________________\n",
            "activation_929 (Activation)     (None, 1, 1, 128)    0           batch_normalization_826[0][0]    \n",
            "__________________________________________________________________________________________________\n",
            "conv2d_890 (Conv2D)             (None, 1, 1, 160)    143360      activation_929[0][0]             \n",
            "__________________________________________________________________________________________________\n",
            "batch_normalization_827 (BatchN (None, 1, 1, 160)    480         conv2d_890[0][0]                 \n",
            "__________________________________________________________________________________________________\n",
            "activation_930 (Activation)     (None, 1, 1, 160)    0           batch_normalization_827[0][0]    \n",
            "__________________________________________________________________________________________________\n",
            "conv2d_888 (Conv2D)             (None, 1, 1, 192)    208896      block17_7_ac[0][0]               \n",
            "__________________________________________________________________________________________________\n",
            "conv2d_891 (Conv2D)             (None, 1, 1, 192)    215040      activation_930[0][0]             \n",
            "__________________________________________________________________________________________________\n",
            "batch_normalization_825 (BatchN (None, 1, 1, 192)    576         conv2d_888[0][0]                 \n",
            "__________________________________________________________________________________________________\n",
            "batch_normalization_828 (BatchN (None, 1, 1, 192)    576         conv2d_891[0][0]                 \n",
            "__________________________________________________________________________________________________\n",
            "activation_928 (Activation)     (None, 1, 1, 192)    0           batch_normalization_825[0][0]    \n",
            "__________________________________________________________________________________________________\n",
            "activation_931 (Activation)     (None, 1, 1, 192)    0           batch_normalization_828[0][0]    \n",
            "__________________________________________________________________________________________________\n",
            "block17_8_mixed (Concatenate)   (None, 1, 1, 384)    0           activation_928[0][0]             \n",
            "                                                                 activation_931[0][0]             \n",
            "__________________________________________________________________________________________________\n",
            "block17_8_conv (Conv2D)         (None, 1, 1, 1088)   418880      block17_8_mixed[0][0]            \n",
            "__________________________________________________________________________________________________\n",
            "block17_8 (Lambda)              (None, 1, 1, 1088)   0           block17_7_ac[0][0]               \n",
            "                                                                 block17_8_conv[0][0]             \n",
            "__________________________________________________________________________________________________\n",
            "block17_8_ac (Activation)       (None, 1, 1, 1088)   0           block17_8[0][0]                  \n",
            "__________________________________________________________________________________________________\n",
            "conv2d_893 (Conv2D)             (None, 1, 1, 128)    139264      block17_8_ac[0][0]               \n",
            "__________________________________________________________________________________________________\n",
            "batch_normalization_830 (BatchN (None, 1, 1, 128)    384         conv2d_893[0][0]                 \n",
            "__________________________________________________________________________________________________\n",
            "activation_933 (Activation)     (None, 1, 1, 128)    0           batch_normalization_830[0][0]    \n",
            "__________________________________________________________________________________________________\n",
            "conv2d_894 (Conv2D)             (None, 1, 1, 160)    143360      activation_933[0][0]             \n",
            "__________________________________________________________________________________________________\n",
            "batch_normalization_831 (BatchN (None, 1, 1, 160)    480         conv2d_894[0][0]                 \n",
            "__________________________________________________________________________________________________\n",
            "activation_934 (Activation)     (None, 1, 1, 160)    0           batch_normalization_831[0][0]    \n",
            "__________________________________________________________________________________________________\n",
            "conv2d_892 (Conv2D)             (None, 1, 1, 192)    208896      block17_8_ac[0][0]               \n",
            "__________________________________________________________________________________________________\n",
            "conv2d_895 (Conv2D)             (None, 1, 1, 192)    215040      activation_934[0][0]             \n",
            "__________________________________________________________________________________________________\n",
            "batch_normalization_829 (BatchN (None, 1, 1, 192)    576         conv2d_892[0][0]                 \n",
            "__________________________________________________________________________________________________\n",
            "batch_normalization_832 (BatchN (None, 1, 1, 192)    576         conv2d_895[0][0]                 \n",
            "__________________________________________________________________________________________________\n",
            "activation_932 (Activation)     (None, 1, 1, 192)    0           batch_normalization_829[0][0]    \n",
            "__________________________________________________________________________________________________\n",
            "activation_935 (Activation)     (None, 1, 1, 192)    0           batch_normalization_832[0][0]    \n",
            "__________________________________________________________________________________________________\n",
            "block17_9_mixed (Concatenate)   (None, 1, 1, 384)    0           activation_932[0][0]             \n",
            "                                                                 activation_935[0][0]             \n",
            "__________________________________________________________________________________________________\n",
            "block17_9_conv (Conv2D)         (None, 1, 1, 1088)   418880      block17_9_mixed[0][0]            \n",
            "__________________________________________________________________________________________________\n",
            "block17_9 (Lambda)              (None, 1, 1, 1088)   0           block17_8_ac[0][0]               \n",
            "                                                                 block17_9_conv[0][0]             \n",
            "__________________________________________________________________________________________________\n",
            "block17_9_ac (Activation)       (None, 1, 1, 1088)   0           block17_9[0][0]                  \n",
            "__________________________________________________________________________________________________\n",
            "conv2d_897 (Conv2D)             (None, 1, 1, 128)    139264      block17_9_ac[0][0]               \n",
            "__________________________________________________________________________________________________\n",
            "batch_normalization_834 (BatchN (None, 1, 1, 128)    384         conv2d_897[0][0]                 \n",
            "__________________________________________________________________________________________________\n",
            "activation_937 (Activation)     (None, 1, 1, 128)    0           batch_normalization_834[0][0]    \n",
            "__________________________________________________________________________________________________\n",
            "conv2d_898 (Conv2D)             (None, 1, 1, 160)    143360      activation_937[0][0]             \n",
            "__________________________________________________________________________________________________\n",
            "batch_normalization_835 (BatchN (None, 1, 1, 160)    480         conv2d_898[0][0]                 \n",
            "__________________________________________________________________________________________________\n",
            "activation_938 (Activation)     (None, 1, 1, 160)    0           batch_normalization_835[0][0]    \n",
            "__________________________________________________________________________________________________\n",
            "conv2d_896 (Conv2D)             (None, 1, 1, 192)    208896      block17_9_ac[0][0]               \n",
            "__________________________________________________________________________________________________\n",
            "conv2d_899 (Conv2D)             (None, 1, 1, 192)    215040      activation_938[0][0]             \n",
            "__________________________________________________________________________________________________\n",
            "batch_normalization_833 (BatchN (None, 1, 1, 192)    576         conv2d_896[0][0]                 \n",
            "__________________________________________________________________________________________________\n",
            "batch_normalization_836 (BatchN (None, 1, 1, 192)    576         conv2d_899[0][0]                 \n",
            "__________________________________________________________________________________________________\n",
            "activation_936 (Activation)     (None, 1, 1, 192)    0           batch_normalization_833[0][0]    \n",
            "__________________________________________________________________________________________________\n",
            "activation_939 (Activation)     (None, 1, 1, 192)    0           batch_normalization_836[0][0]    \n",
            "__________________________________________________________________________________________________\n",
            "block17_10_mixed (Concatenate)  (None, 1, 1, 384)    0           activation_936[0][0]             \n",
            "                                                                 activation_939[0][0]             \n",
            "__________________________________________________________________________________________________\n",
            "block17_10_conv (Conv2D)        (None, 1, 1, 1088)   418880      block17_10_mixed[0][0]           \n",
            "__________________________________________________________________________________________________\n",
            "block17_10 (Lambda)             (None, 1, 1, 1088)   0           block17_9_ac[0][0]               \n",
            "                                                                 block17_10_conv[0][0]            \n",
            "__________________________________________________________________________________________________\n",
            "block17_10_ac (Activation)      (None, 1, 1, 1088)   0           block17_10[0][0]                 \n",
            "__________________________________________________________________________________________________\n",
            "conv2d_901 (Conv2D)             (None, 1, 1, 128)    139264      block17_10_ac[0][0]              \n",
            "__________________________________________________________________________________________________\n",
            "batch_normalization_838 (BatchN (None, 1, 1, 128)    384         conv2d_901[0][0]                 \n",
            "__________________________________________________________________________________________________\n",
            "activation_941 (Activation)     (None, 1, 1, 128)    0           batch_normalization_838[0][0]    \n",
            "__________________________________________________________________________________________________\n",
            "conv2d_902 (Conv2D)             (None, 1, 1, 160)    143360      activation_941[0][0]             \n",
            "__________________________________________________________________________________________________\n",
            "batch_normalization_839 (BatchN (None, 1, 1, 160)    480         conv2d_902[0][0]                 \n",
            "__________________________________________________________________________________________________\n",
            "activation_942 (Activation)     (None, 1, 1, 160)    0           batch_normalization_839[0][0]    \n",
            "__________________________________________________________________________________________________\n",
            "conv2d_900 (Conv2D)             (None, 1, 1, 192)    208896      block17_10_ac[0][0]              \n",
            "__________________________________________________________________________________________________\n",
            "conv2d_903 (Conv2D)             (None, 1, 1, 192)    215040      activation_942[0][0]             \n",
            "__________________________________________________________________________________________________\n",
            "batch_normalization_837 (BatchN (None, 1, 1, 192)    576         conv2d_900[0][0]                 \n",
            "__________________________________________________________________________________________________\n",
            "batch_normalization_840 (BatchN (None, 1, 1, 192)    576         conv2d_903[0][0]                 \n",
            "__________________________________________________________________________________________________\n",
            "activation_940 (Activation)     (None, 1, 1, 192)    0           batch_normalization_837[0][0]    \n",
            "__________________________________________________________________________________________________\n",
            "activation_943 (Activation)     (None, 1, 1, 192)    0           batch_normalization_840[0][0]    \n",
            "__________________________________________________________________________________________________\n",
            "block17_11_mixed (Concatenate)  (None, 1, 1, 384)    0           activation_940[0][0]             \n",
            "                                                                 activation_943[0][0]             \n",
            "__________________________________________________________________________________________________\n",
            "block17_11_conv (Conv2D)        (None, 1, 1, 1088)   418880      block17_11_mixed[0][0]           \n",
            "__________________________________________________________________________________________________\n",
            "block17_11 (Lambda)             (None, 1, 1, 1088)   0           block17_10_ac[0][0]              \n",
            "                                                                 block17_11_conv[0][0]            \n",
            "__________________________________________________________________________________________________\n",
            "block17_11_ac (Activation)      (None, 1, 1, 1088)   0           block17_11[0][0]                 \n",
            "__________________________________________________________________________________________________\n",
            "conv2d_905 (Conv2D)             (None, 1, 1, 128)    139264      block17_11_ac[0][0]              \n",
            "__________________________________________________________________________________________________\n",
            "batch_normalization_842 (BatchN (None, 1, 1, 128)    384         conv2d_905[0][0]                 \n",
            "__________________________________________________________________________________________________\n",
            "activation_945 (Activation)     (None, 1, 1, 128)    0           batch_normalization_842[0][0]    \n",
            "__________________________________________________________________________________________________\n",
            "conv2d_906 (Conv2D)             (None, 1, 1, 160)    143360      activation_945[0][0]             \n",
            "__________________________________________________________________________________________________\n",
            "batch_normalization_843 (BatchN (None, 1, 1, 160)    480         conv2d_906[0][0]                 \n",
            "__________________________________________________________________________________________________\n",
            "activation_946 (Activation)     (None, 1, 1, 160)    0           batch_normalization_843[0][0]    \n",
            "__________________________________________________________________________________________________\n",
            "conv2d_904 (Conv2D)             (None, 1, 1, 192)    208896      block17_11_ac[0][0]              \n",
            "__________________________________________________________________________________________________\n",
            "conv2d_907 (Conv2D)             (None, 1, 1, 192)    215040      activation_946[0][0]             \n",
            "__________________________________________________________________________________________________\n",
            "batch_normalization_841 (BatchN (None, 1, 1, 192)    576         conv2d_904[0][0]                 \n",
            "__________________________________________________________________________________________________\n",
            "batch_normalization_844 (BatchN (None, 1, 1, 192)    576         conv2d_907[0][0]                 \n",
            "__________________________________________________________________________________________________\n",
            "activation_944 (Activation)     (None, 1, 1, 192)    0           batch_normalization_841[0][0]    \n",
            "__________________________________________________________________________________________________\n",
            "activation_947 (Activation)     (None, 1, 1, 192)    0           batch_normalization_844[0][0]    \n",
            "__________________________________________________________________________________________________\n",
            "block17_12_mixed (Concatenate)  (None, 1, 1, 384)    0           activation_944[0][0]             \n",
            "                                                                 activation_947[0][0]             \n",
            "__________________________________________________________________________________________________\n",
            "block17_12_conv (Conv2D)        (None, 1, 1, 1088)   418880      block17_12_mixed[0][0]           \n",
            "__________________________________________________________________________________________________\n",
            "block17_12 (Lambda)             (None, 1, 1, 1088)   0           block17_11_ac[0][0]              \n",
            "                                                                 block17_12_conv[0][0]            \n",
            "__________________________________________________________________________________________________\n",
            "block17_12_ac (Activation)      (None, 1, 1, 1088)   0           block17_12[0][0]                 \n",
            "__________________________________________________________________________________________________\n",
            "conv2d_909 (Conv2D)             (None, 1, 1, 128)    139264      block17_12_ac[0][0]              \n",
            "__________________________________________________________________________________________________\n",
            "batch_normalization_846 (BatchN (None, 1, 1, 128)    384         conv2d_909[0][0]                 \n",
            "__________________________________________________________________________________________________\n",
            "activation_949 (Activation)     (None, 1, 1, 128)    0           batch_normalization_846[0][0]    \n",
            "__________________________________________________________________________________________________\n",
            "conv2d_910 (Conv2D)             (None, 1, 1, 160)    143360      activation_949[0][0]             \n",
            "__________________________________________________________________________________________________\n",
            "batch_normalization_847 (BatchN (None, 1, 1, 160)    480         conv2d_910[0][0]                 \n",
            "__________________________________________________________________________________________________\n",
            "activation_950 (Activation)     (None, 1, 1, 160)    0           batch_normalization_847[0][0]    \n",
            "__________________________________________________________________________________________________\n",
            "conv2d_908 (Conv2D)             (None, 1, 1, 192)    208896      block17_12_ac[0][0]              \n",
            "__________________________________________________________________________________________________\n",
            "conv2d_911 (Conv2D)             (None, 1, 1, 192)    215040      activation_950[0][0]             \n",
            "__________________________________________________________________________________________________\n",
            "batch_normalization_845 (BatchN (None, 1, 1, 192)    576         conv2d_908[0][0]                 \n",
            "__________________________________________________________________________________________________\n",
            "batch_normalization_848 (BatchN (None, 1, 1, 192)    576         conv2d_911[0][0]                 \n",
            "__________________________________________________________________________________________________\n",
            "activation_948 (Activation)     (None, 1, 1, 192)    0           batch_normalization_845[0][0]    \n",
            "__________________________________________________________________________________________________\n",
            "activation_951 (Activation)     (None, 1, 1, 192)    0           batch_normalization_848[0][0]    \n",
            "__________________________________________________________________________________________________\n",
            "block17_13_mixed (Concatenate)  (None, 1, 1, 384)    0           activation_948[0][0]             \n",
            "                                                                 activation_951[0][0]             \n",
            "__________________________________________________________________________________________________\n",
            "block17_13_conv (Conv2D)        (None, 1, 1, 1088)   418880      block17_13_mixed[0][0]           \n",
            "__________________________________________________________________________________________________\n",
            "block17_13 (Lambda)             (None, 1, 1, 1088)   0           block17_12_ac[0][0]              \n",
            "                                                                 block17_13_conv[0][0]            \n",
            "__________________________________________________________________________________________________\n",
            "block17_13_ac (Activation)      (None, 1, 1, 1088)   0           block17_13[0][0]                 \n",
            "__________________________________________________________________________________________________\n",
            "conv2d_913 (Conv2D)             (None, 1, 1, 128)    139264      block17_13_ac[0][0]              \n",
            "__________________________________________________________________________________________________\n",
            "batch_normalization_850 (BatchN (None, 1, 1, 128)    384         conv2d_913[0][0]                 \n",
            "__________________________________________________________________________________________________\n",
            "activation_953 (Activation)     (None, 1, 1, 128)    0           batch_normalization_850[0][0]    \n",
            "__________________________________________________________________________________________________\n",
            "conv2d_914 (Conv2D)             (None, 1, 1, 160)    143360      activation_953[0][0]             \n",
            "__________________________________________________________________________________________________\n",
            "batch_normalization_851 (BatchN (None, 1, 1, 160)    480         conv2d_914[0][0]                 \n",
            "__________________________________________________________________________________________________\n",
            "activation_954 (Activation)     (None, 1, 1, 160)    0           batch_normalization_851[0][0]    \n",
            "__________________________________________________________________________________________________\n",
            "conv2d_912 (Conv2D)             (None, 1, 1, 192)    208896      block17_13_ac[0][0]              \n",
            "__________________________________________________________________________________________________\n",
            "conv2d_915 (Conv2D)             (None, 1, 1, 192)    215040      activation_954[0][0]             \n",
            "__________________________________________________________________________________________________\n",
            "batch_normalization_849 (BatchN (None, 1, 1, 192)    576         conv2d_912[0][0]                 \n",
            "__________________________________________________________________________________________________\n",
            "batch_normalization_852 (BatchN (None, 1, 1, 192)    576         conv2d_915[0][0]                 \n",
            "__________________________________________________________________________________________________\n",
            "activation_952 (Activation)     (None, 1, 1, 192)    0           batch_normalization_849[0][0]    \n",
            "__________________________________________________________________________________________________\n",
            "activation_955 (Activation)     (None, 1, 1, 192)    0           batch_normalization_852[0][0]    \n",
            "__________________________________________________________________________________________________\n",
            "block17_14_mixed (Concatenate)  (None, 1, 1, 384)    0           activation_952[0][0]             \n",
            "                                                                 activation_955[0][0]             \n",
            "__________________________________________________________________________________________________\n",
            "block17_14_conv (Conv2D)        (None, 1, 1, 1088)   418880      block17_14_mixed[0][0]           \n",
            "__________________________________________________________________________________________________\n",
            "block17_14 (Lambda)             (None, 1, 1, 1088)   0           block17_13_ac[0][0]              \n",
            "                                                                 block17_14_conv[0][0]            \n",
            "__________________________________________________________________________________________________\n",
            "block17_14_ac (Activation)      (None, 1, 1, 1088)   0           block17_14[0][0]                 \n",
            "__________________________________________________________________________________________________\n",
            "conv2d_917 (Conv2D)             (None, 1, 1, 128)    139264      block17_14_ac[0][0]              \n",
            "__________________________________________________________________________________________________\n",
            "batch_normalization_854 (BatchN (None, 1, 1, 128)    384         conv2d_917[0][0]                 \n",
            "__________________________________________________________________________________________________\n",
            "activation_957 (Activation)     (None, 1, 1, 128)    0           batch_normalization_854[0][0]    \n",
            "__________________________________________________________________________________________________\n",
            "conv2d_918 (Conv2D)             (None, 1, 1, 160)    143360      activation_957[0][0]             \n",
            "__________________________________________________________________________________________________\n",
            "batch_normalization_855 (BatchN (None, 1, 1, 160)    480         conv2d_918[0][0]                 \n",
            "__________________________________________________________________________________________________\n",
            "activation_958 (Activation)     (None, 1, 1, 160)    0           batch_normalization_855[0][0]    \n",
            "__________________________________________________________________________________________________\n",
            "conv2d_916 (Conv2D)             (None, 1, 1, 192)    208896      block17_14_ac[0][0]              \n",
            "__________________________________________________________________________________________________\n",
            "conv2d_919 (Conv2D)             (None, 1, 1, 192)    215040      activation_958[0][0]             \n",
            "__________________________________________________________________________________________________\n",
            "batch_normalization_853 (BatchN (None, 1, 1, 192)    576         conv2d_916[0][0]                 \n",
            "__________________________________________________________________________________________________\n",
            "batch_normalization_856 (BatchN (None, 1, 1, 192)    576         conv2d_919[0][0]                 \n",
            "__________________________________________________________________________________________________\n",
            "activation_956 (Activation)     (None, 1, 1, 192)    0           batch_normalization_853[0][0]    \n",
            "__________________________________________________________________________________________________\n",
            "activation_959 (Activation)     (None, 1, 1, 192)    0           batch_normalization_856[0][0]    \n",
            "__________________________________________________________________________________________________\n",
            "block17_15_mixed (Concatenate)  (None, 1, 1, 384)    0           activation_956[0][0]             \n",
            "                                                                 activation_959[0][0]             \n",
            "__________________________________________________________________________________________________\n",
            "block17_15_conv (Conv2D)        (None, 1, 1, 1088)   418880      block17_15_mixed[0][0]           \n",
            "__________________________________________________________________________________________________\n",
            "block17_15 (Lambda)             (None, 1, 1, 1088)   0           block17_14_ac[0][0]              \n",
            "                                                                 block17_15_conv[0][0]            \n",
            "__________________________________________________________________________________________________\n",
            "block17_15_ac (Activation)      (None, 1, 1, 1088)   0           block17_15[0][0]                 \n",
            "__________________________________________________________________________________________________\n",
            "conv2d_921 (Conv2D)             (None, 1, 1, 128)    139264      block17_15_ac[0][0]              \n",
            "__________________________________________________________________________________________________\n",
            "batch_normalization_858 (BatchN (None, 1, 1, 128)    384         conv2d_921[0][0]                 \n",
            "__________________________________________________________________________________________________\n",
            "activation_961 (Activation)     (None, 1, 1, 128)    0           batch_normalization_858[0][0]    \n",
            "__________________________________________________________________________________________________\n",
            "conv2d_922 (Conv2D)             (None, 1, 1, 160)    143360      activation_961[0][0]             \n",
            "__________________________________________________________________________________________________\n",
            "batch_normalization_859 (BatchN (None, 1, 1, 160)    480         conv2d_922[0][0]                 \n",
            "__________________________________________________________________________________________________\n",
            "activation_962 (Activation)     (None, 1, 1, 160)    0           batch_normalization_859[0][0]    \n",
            "__________________________________________________________________________________________________\n",
            "conv2d_920 (Conv2D)             (None, 1, 1, 192)    208896      block17_15_ac[0][0]              \n",
            "__________________________________________________________________________________________________\n",
            "conv2d_923 (Conv2D)             (None, 1, 1, 192)    215040      activation_962[0][0]             \n",
            "__________________________________________________________________________________________________\n",
            "batch_normalization_857 (BatchN (None, 1, 1, 192)    576         conv2d_920[0][0]                 \n",
            "__________________________________________________________________________________________________\n",
            "batch_normalization_860 (BatchN (None, 1, 1, 192)    576         conv2d_923[0][0]                 \n",
            "__________________________________________________________________________________________________\n",
            "activation_960 (Activation)     (None, 1, 1, 192)    0           batch_normalization_857[0][0]    \n",
            "__________________________________________________________________________________________________\n",
            "activation_963 (Activation)     (None, 1, 1, 192)    0           batch_normalization_860[0][0]    \n",
            "__________________________________________________________________________________________________\n",
            "block17_16_mixed (Concatenate)  (None, 1, 1, 384)    0           activation_960[0][0]             \n",
            "                                                                 activation_963[0][0]             \n",
            "__________________________________________________________________________________________________\n",
            "block17_16_conv (Conv2D)        (None, 1, 1, 1088)   418880      block17_16_mixed[0][0]           \n",
            "__________________________________________________________________________________________________\n",
            "block17_16 (Lambda)             (None, 1, 1, 1088)   0           block17_15_ac[0][0]              \n",
            "                                                                 block17_16_conv[0][0]            \n",
            "__________________________________________________________________________________________________\n",
            "block17_16_ac (Activation)      (None, 1, 1, 1088)   0           block17_16[0][0]                 \n",
            "__________________________________________________________________________________________________\n",
            "conv2d_925 (Conv2D)             (None, 1, 1, 128)    139264      block17_16_ac[0][0]              \n",
            "__________________________________________________________________________________________________\n",
            "batch_normalization_862 (BatchN (None, 1, 1, 128)    384         conv2d_925[0][0]                 \n",
            "__________________________________________________________________________________________________\n",
            "activation_965 (Activation)     (None, 1, 1, 128)    0           batch_normalization_862[0][0]    \n",
            "__________________________________________________________________________________________________\n",
            "conv2d_926 (Conv2D)             (None, 1, 1, 160)    143360      activation_965[0][0]             \n",
            "__________________________________________________________________________________________________\n",
            "batch_normalization_863 (BatchN (None, 1, 1, 160)    480         conv2d_926[0][0]                 \n",
            "__________________________________________________________________________________________________\n",
            "activation_966 (Activation)     (None, 1, 1, 160)    0           batch_normalization_863[0][0]    \n",
            "__________________________________________________________________________________________________\n",
            "conv2d_924 (Conv2D)             (None, 1, 1, 192)    208896      block17_16_ac[0][0]              \n",
            "__________________________________________________________________________________________________\n",
            "conv2d_927 (Conv2D)             (None, 1, 1, 192)    215040      activation_966[0][0]             \n",
            "__________________________________________________________________________________________________\n",
            "batch_normalization_861 (BatchN (None, 1, 1, 192)    576         conv2d_924[0][0]                 \n",
            "__________________________________________________________________________________________________\n",
            "batch_normalization_864 (BatchN (None, 1, 1, 192)    576         conv2d_927[0][0]                 \n",
            "__________________________________________________________________________________________________\n",
            "activation_964 (Activation)     (None, 1, 1, 192)    0           batch_normalization_861[0][0]    \n",
            "__________________________________________________________________________________________________\n",
            "activation_967 (Activation)     (None, 1, 1, 192)    0           batch_normalization_864[0][0]    \n",
            "__________________________________________________________________________________________________\n",
            "block17_17_mixed (Concatenate)  (None, 1, 1, 384)    0           activation_964[0][0]             \n",
            "                                                                 activation_967[0][0]             \n",
            "__________________________________________________________________________________________________\n",
            "block17_17_conv (Conv2D)        (None, 1, 1, 1088)   418880      block17_17_mixed[0][0]           \n",
            "__________________________________________________________________________________________________\n",
            "block17_17 (Lambda)             (None, 1, 1, 1088)   0           block17_16_ac[0][0]              \n",
            "                                                                 block17_17_conv[0][0]            \n",
            "__________________________________________________________________________________________________\n",
            "block17_17_ac (Activation)      (None, 1, 1, 1088)   0           block17_17[0][0]                 \n",
            "__________________________________________________________________________________________________\n",
            "conv2d_929 (Conv2D)             (None, 1, 1, 128)    139264      block17_17_ac[0][0]              \n",
            "__________________________________________________________________________________________________\n",
            "batch_normalization_866 (BatchN (None, 1, 1, 128)    384         conv2d_929[0][0]                 \n",
            "__________________________________________________________________________________________________\n",
            "activation_969 (Activation)     (None, 1, 1, 128)    0           batch_normalization_866[0][0]    \n",
            "__________________________________________________________________________________________________\n",
            "conv2d_930 (Conv2D)             (None, 1, 1, 160)    143360      activation_969[0][0]             \n",
            "__________________________________________________________________________________________________\n",
            "batch_normalization_867 (BatchN (None, 1, 1, 160)    480         conv2d_930[0][0]                 \n",
            "__________________________________________________________________________________________________\n",
            "activation_970 (Activation)     (None, 1, 1, 160)    0           batch_normalization_867[0][0]    \n",
            "__________________________________________________________________________________________________\n",
            "conv2d_928 (Conv2D)             (None, 1, 1, 192)    208896      block17_17_ac[0][0]              \n",
            "__________________________________________________________________________________________________\n",
            "conv2d_931 (Conv2D)             (None, 1, 1, 192)    215040      activation_970[0][0]             \n",
            "__________________________________________________________________________________________________\n",
            "batch_normalization_865 (BatchN (None, 1, 1, 192)    576         conv2d_928[0][0]                 \n",
            "__________________________________________________________________________________________________\n",
            "batch_normalization_868 (BatchN (None, 1, 1, 192)    576         conv2d_931[0][0]                 \n",
            "__________________________________________________________________________________________________\n",
            "activation_968 (Activation)     (None, 1, 1, 192)    0           batch_normalization_865[0][0]    \n",
            "__________________________________________________________________________________________________\n",
            "activation_971 (Activation)     (None, 1, 1, 192)    0           batch_normalization_868[0][0]    \n",
            "__________________________________________________________________________________________________\n",
            "block17_18_mixed (Concatenate)  (None, 1, 1, 384)    0           activation_968[0][0]             \n",
            "                                                                 activation_971[0][0]             \n",
            "__________________________________________________________________________________________________\n",
            "block17_18_conv (Conv2D)        (None, 1, 1, 1088)   418880      block17_18_mixed[0][0]           \n",
            "__________________________________________________________________________________________________\n",
            "block17_18 (Lambda)             (None, 1, 1, 1088)   0           block17_17_ac[0][0]              \n",
            "                                                                 block17_18_conv[0][0]            \n",
            "__________________________________________________________________________________________________\n",
            "block17_18_ac (Activation)      (None, 1, 1, 1088)   0           block17_18[0][0]                 \n",
            "__________________________________________________________________________________________________\n",
            "conv2d_933 (Conv2D)             (None, 1, 1, 128)    139264      block17_18_ac[0][0]              \n",
            "__________________________________________________________________________________________________\n",
            "batch_normalization_870 (BatchN (None, 1, 1, 128)    384         conv2d_933[0][0]                 \n",
            "__________________________________________________________________________________________________\n",
            "activation_973 (Activation)     (None, 1, 1, 128)    0           batch_normalization_870[0][0]    \n",
            "__________________________________________________________________________________________________\n",
            "conv2d_934 (Conv2D)             (None, 1, 1, 160)    143360      activation_973[0][0]             \n",
            "__________________________________________________________________________________________________\n",
            "batch_normalization_871 (BatchN (None, 1, 1, 160)    480         conv2d_934[0][0]                 \n",
            "__________________________________________________________________________________________________\n",
            "activation_974 (Activation)     (None, 1, 1, 160)    0           batch_normalization_871[0][0]    \n",
            "__________________________________________________________________________________________________\n",
            "conv2d_932 (Conv2D)             (None, 1, 1, 192)    208896      block17_18_ac[0][0]              \n",
            "__________________________________________________________________________________________________\n",
            "conv2d_935 (Conv2D)             (None, 1, 1, 192)    215040      activation_974[0][0]             \n",
            "__________________________________________________________________________________________________\n",
            "batch_normalization_869 (BatchN (None, 1, 1, 192)    576         conv2d_932[0][0]                 \n",
            "__________________________________________________________________________________________________\n",
            "batch_normalization_872 (BatchN (None, 1, 1, 192)    576         conv2d_935[0][0]                 \n",
            "__________________________________________________________________________________________________\n",
            "activation_972 (Activation)     (None, 1, 1, 192)    0           batch_normalization_869[0][0]    \n",
            "__________________________________________________________________________________________________\n",
            "activation_975 (Activation)     (None, 1, 1, 192)    0           batch_normalization_872[0][0]    \n",
            "__________________________________________________________________________________________________\n",
            "block17_19_mixed (Concatenate)  (None, 1, 1, 384)    0           activation_972[0][0]             \n",
            "                                                                 activation_975[0][0]             \n",
            "__________________________________________________________________________________________________\n",
            "block17_19_conv (Conv2D)        (None, 1, 1, 1088)   418880      block17_19_mixed[0][0]           \n",
            "__________________________________________________________________________________________________\n",
            "block17_19 (Lambda)             (None, 1, 1, 1088)   0           block17_18_ac[0][0]              \n",
            "                                                                 block17_19_conv[0][0]            \n",
            "__________________________________________________________________________________________________\n",
            "block17_19_ac (Activation)      (None, 1, 1, 1088)   0           block17_19[0][0]                 \n",
            "__________________________________________________________________________________________________\n",
            "conv2d_937 (Conv2D)             (None, 1, 1, 128)    139264      block17_19_ac[0][0]              \n",
            "__________________________________________________________________________________________________\n",
            "batch_normalization_874 (BatchN (None, 1, 1, 128)    384         conv2d_937[0][0]                 \n",
            "__________________________________________________________________________________________________\n",
            "activation_977 (Activation)     (None, 1, 1, 128)    0           batch_normalization_874[0][0]    \n",
            "__________________________________________________________________________________________________\n",
            "conv2d_938 (Conv2D)             (None, 1, 1, 160)    143360      activation_977[0][0]             \n",
            "__________________________________________________________________________________________________\n",
            "batch_normalization_875 (BatchN (None, 1, 1, 160)    480         conv2d_938[0][0]                 \n",
            "__________________________________________________________________________________________________\n",
            "activation_978 (Activation)     (None, 1, 1, 160)    0           batch_normalization_875[0][0]    \n",
            "__________________________________________________________________________________________________\n",
            "conv2d_936 (Conv2D)             (None, 1, 1, 192)    208896      block17_19_ac[0][0]              \n",
            "__________________________________________________________________________________________________\n",
            "conv2d_939 (Conv2D)             (None, 1, 1, 192)    215040      activation_978[0][0]             \n",
            "__________________________________________________________________________________________________\n",
            "batch_normalization_873 (BatchN (None, 1, 1, 192)    576         conv2d_936[0][0]                 \n",
            "__________________________________________________________________________________________________\n",
            "batch_normalization_876 (BatchN (None, 1, 1, 192)    576         conv2d_939[0][0]                 \n",
            "__________________________________________________________________________________________________\n",
            "activation_976 (Activation)     (None, 1, 1, 192)    0           batch_normalization_873[0][0]    \n",
            "__________________________________________________________________________________________________\n",
            "activation_979 (Activation)     (None, 1, 1, 192)    0           batch_normalization_876[0][0]    \n",
            "__________________________________________________________________________________________________\n",
            "block17_20_mixed (Concatenate)  (None, 1, 1, 384)    0           activation_976[0][0]             \n",
            "                                                                 activation_979[0][0]             \n",
            "__________________________________________________________________________________________________\n",
            "block17_20_conv (Conv2D)        (None, 1, 1, 1088)   418880      block17_20_mixed[0][0]           \n",
            "__________________________________________________________________________________________________\n",
            "block17_20 (Lambda)             (None, 1, 1, 1088)   0           block17_19_ac[0][0]              \n",
            "                                                                 block17_20_conv[0][0]            \n",
            "__________________________________________________________________________________________________\n",
            "block17_20_ac (Activation)      (None, 1, 1, 1088)   0           block17_20[0][0]                 \n",
            "__________________________________________________________________________________________________\n",
            "conv2d_944 (Conv2D)             (None, 1, 1, 256)    278528      block17_20_ac[0][0]              \n",
            "__________________________________________________________________________________________________\n",
            "batch_normalization_881 (BatchN (None, 1, 1, 256)    768         conv2d_944[0][0]                 \n",
            "__________________________________________________________________________________________________\n",
            "activation_984 (Activation)     (None, 1, 1, 256)    0           batch_normalization_881[0][0]    \n",
            "__________________________________________________________________________________________________\n",
            "conv2d_940 (Conv2D)             (None, 1, 1, 256)    278528      block17_20_ac[0][0]              \n",
            "__________________________________________________________________________________________________\n",
            "conv2d_942 (Conv2D)             (None, 1, 1, 256)    278528      block17_20_ac[0][0]              \n",
            "__________________________________________________________________________________________________\n",
            "conv2d_945 (Conv2D)             (None, 1, 1, 288)    663552      activation_984[0][0]             \n",
            "__________________________________________________________________________________________________\n",
            "batch_normalization_877 (BatchN (None, 1, 1, 256)    768         conv2d_940[0][0]                 \n",
            "__________________________________________________________________________________________________\n",
            "batch_normalization_879 (BatchN (None, 1, 1, 256)    768         conv2d_942[0][0]                 \n",
            "__________________________________________________________________________________________________\n",
            "batch_normalization_882 (BatchN (None, 1, 1, 288)    864         conv2d_945[0][0]                 \n",
            "__________________________________________________________________________________________________\n",
            "activation_980 (Activation)     (None, 1, 1, 256)    0           batch_normalization_877[0][0]    \n",
            "__________________________________________________________________________________________________\n",
            "activation_982 (Activation)     (None, 1, 1, 256)    0           batch_normalization_879[0][0]    \n",
            "__________________________________________________________________________________________________\n",
            "activation_985 (Activation)     (None, 1, 1, 288)    0           batch_normalization_882[0][0]    \n",
            "__________________________________________________________________________________________________\n",
            "conv2d_941 (Conv2D)             (None, 1, 1, 384)    884736      activation_980[0][0]             \n",
            "__________________________________________________________________________________________________\n",
            "conv2d_943 (Conv2D)             (None, 1, 1, 288)    663552      activation_982[0][0]             \n",
            "__________________________________________________________________________________________________\n",
            "conv2d_946 (Conv2D)             (None, 1, 1, 320)    829440      activation_985[0][0]             \n",
            "__________________________________________________________________________________________________\n",
            "batch_normalization_878 (BatchN (None, 1, 1, 384)    1152        conv2d_941[0][0]                 \n",
            "__________________________________________________________________________________________________\n",
            "batch_normalization_880 (BatchN (None, 1, 1, 288)    864         conv2d_943[0][0]                 \n",
            "__________________________________________________________________________________________________\n",
            "batch_normalization_883 (BatchN (None, 1, 1, 320)    960         conv2d_946[0][0]                 \n",
            "__________________________________________________________________________________________________\n",
            "activation_981 (Activation)     (None, 1, 1, 384)    0           batch_normalization_878[0][0]    \n",
            "__________________________________________________________________________________________________\n",
            "activation_983 (Activation)     (None, 1, 1, 288)    0           batch_normalization_880[0][0]    \n",
            "__________________________________________________________________________________________________\n",
            "activation_986 (Activation)     (None, 1, 1, 320)    0           batch_normalization_883[0][0]    \n",
            "__________________________________________________________________________________________________\n",
            "max_pooling2d_41 (MaxPooling2D) (None, 1, 1, 1088)   0           block17_20_ac[0][0]              \n",
            "__________________________________________________________________________________________________\n",
            "mixed_7a (Concatenate)          (None, 1, 1, 2080)   0           activation_981[0][0]             \n",
            "                                                                 activation_983[0][0]             \n",
            "                                                                 activation_986[0][0]             \n",
            "                                                                 max_pooling2d_41[0][0]           \n",
            "__________________________________________________________________________________________________\n",
            "conv2d_948 (Conv2D)             (None, 1, 1, 192)    399360      mixed_7a[0][0]                   \n",
            "__________________________________________________________________________________________________\n",
            "batch_normalization_885 (BatchN (None, 1, 1, 192)    576         conv2d_948[0][0]                 \n",
            "__________________________________________________________________________________________________\n",
            "activation_988 (Activation)     (None, 1, 1, 192)    0           batch_normalization_885[0][0]    \n",
            "__________________________________________________________________________________________________\n",
            "conv2d_949 (Conv2D)             (None, 1, 1, 224)    129024      activation_988[0][0]             \n",
            "__________________________________________________________________________________________________\n",
            "batch_normalization_886 (BatchN (None, 1, 1, 224)    672         conv2d_949[0][0]                 \n",
            "__________________________________________________________________________________________________\n",
            "activation_989 (Activation)     (None, 1, 1, 224)    0           batch_normalization_886[0][0]    \n",
            "__________________________________________________________________________________________________\n",
            "conv2d_947 (Conv2D)             (None, 1, 1, 192)    399360      mixed_7a[0][0]                   \n",
            "__________________________________________________________________________________________________\n",
            "conv2d_950 (Conv2D)             (None, 1, 1, 256)    172032      activation_989[0][0]             \n",
            "__________________________________________________________________________________________________\n",
            "batch_normalization_884 (BatchN (None, 1, 1, 192)    576         conv2d_947[0][0]                 \n",
            "__________________________________________________________________________________________________\n",
            "batch_normalization_887 (BatchN (None, 1, 1, 256)    768         conv2d_950[0][0]                 \n",
            "__________________________________________________________________________________________________\n",
            "activation_987 (Activation)     (None, 1, 1, 192)    0           batch_normalization_884[0][0]    \n",
            "__________________________________________________________________________________________________\n",
            "activation_990 (Activation)     (None, 1, 1, 256)    0           batch_normalization_887[0][0]    \n",
            "__________________________________________________________________________________________________\n",
            "block8_1_mixed (Concatenate)    (None, 1, 1, 448)    0           activation_987[0][0]             \n",
            "                                                                 activation_990[0][0]             \n",
            "__________________________________________________________________________________________________\n",
            "block8_1_conv (Conv2D)          (None, 1, 1, 2080)   933920      block8_1_mixed[0][0]             \n",
            "__________________________________________________________________________________________________\n",
            "block8_1 (Lambda)               (None, 1, 1, 2080)   0           mixed_7a[0][0]                   \n",
            "                                                                 block8_1_conv[0][0]              \n",
            "__________________________________________________________________________________________________\n",
            "block8_1_ac (Activation)        (None, 1, 1, 2080)   0           block8_1[0][0]                   \n",
            "__________________________________________________________________________________________________\n",
            "conv2d_952 (Conv2D)             (None, 1, 1, 192)    399360      block8_1_ac[0][0]                \n",
            "__________________________________________________________________________________________________\n",
            "batch_normalization_889 (BatchN (None, 1, 1, 192)    576         conv2d_952[0][0]                 \n",
            "__________________________________________________________________________________________________\n",
            "activation_992 (Activation)     (None, 1, 1, 192)    0           batch_normalization_889[0][0]    \n",
            "__________________________________________________________________________________________________\n",
            "conv2d_953 (Conv2D)             (None, 1, 1, 224)    129024      activation_992[0][0]             \n",
            "__________________________________________________________________________________________________\n",
            "batch_normalization_890 (BatchN (None, 1, 1, 224)    672         conv2d_953[0][0]                 \n",
            "__________________________________________________________________________________________________\n",
            "activation_993 (Activation)     (None, 1, 1, 224)    0           batch_normalization_890[0][0]    \n",
            "__________________________________________________________________________________________________\n",
            "conv2d_951 (Conv2D)             (None, 1, 1, 192)    399360      block8_1_ac[0][0]                \n",
            "__________________________________________________________________________________________________\n",
            "conv2d_954 (Conv2D)             (None, 1, 1, 256)    172032      activation_993[0][0]             \n",
            "__________________________________________________________________________________________________\n",
            "batch_normalization_888 (BatchN (None, 1, 1, 192)    576         conv2d_951[0][0]                 \n",
            "__________________________________________________________________________________________________\n",
            "batch_normalization_891 (BatchN (None, 1, 1, 256)    768         conv2d_954[0][0]                 \n",
            "__________________________________________________________________________________________________\n",
            "activation_991 (Activation)     (None, 1, 1, 192)    0           batch_normalization_888[0][0]    \n",
            "__________________________________________________________________________________________________\n",
            "activation_994 (Activation)     (None, 1, 1, 256)    0           batch_normalization_891[0][0]    \n",
            "__________________________________________________________________________________________________\n",
            "block8_2_mixed (Concatenate)    (None, 1, 1, 448)    0           activation_991[0][0]             \n",
            "                                                                 activation_994[0][0]             \n",
            "__________________________________________________________________________________________________\n",
            "block8_2_conv (Conv2D)          (None, 1, 1, 2080)   933920      block8_2_mixed[0][0]             \n",
            "__________________________________________________________________________________________________\n",
            "block8_2 (Lambda)               (None, 1, 1, 2080)   0           block8_1_ac[0][0]                \n",
            "                                                                 block8_2_conv[0][0]              \n",
            "__________________________________________________________________________________________________\n",
            "block8_2_ac (Activation)        (None, 1, 1, 2080)   0           block8_2[0][0]                   \n",
            "__________________________________________________________________________________________________\n",
            "conv2d_956 (Conv2D)             (None, 1, 1, 192)    399360      block8_2_ac[0][0]                \n",
            "__________________________________________________________________________________________________\n",
            "batch_normalization_893 (BatchN (None, 1, 1, 192)    576         conv2d_956[0][0]                 \n",
            "__________________________________________________________________________________________________\n",
            "activation_996 (Activation)     (None, 1, 1, 192)    0           batch_normalization_893[0][0]    \n",
            "__________________________________________________________________________________________________\n",
            "conv2d_957 (Conv2D)             (None, 1, 1, 224)    129024      activation_996[0][0]             \n",
            "__________________________________________________________________________________________________\n",
            "batch_normalization_894 (BatchN (None, 1, 1, 224)    672         conv2d_957[0][0]                 \n",
            "__________________________________________________________________________________________________\n",
            "activation_997 (Activation)     (None, 1, 1, 224)    0           batch_normalization_894[0][0]    \n",
            "__________________________________________________________________________________________________\n",
            "conv2d_955 (Conv2D)             (None, 1, 1, 192)    399360      block8_2_ac[0][0]                \n",
            "__________________________________________________________________________________________________\n",
            "conv2d_958 (Conv2D)             (None, 1, 1, 256)    172032      activation_997[0][0]             \n",
            "__________________________________________________________________________________________________\n",
            "batch_normalization_892 (BatchN (None, 1, 1, 192)    576         conv2d_955[0][0]                 \n",
            "__________________________________________________________________________________________________\n",
            "batch_normalization_895 (BatchN (None, 1, 1, 256)    768         conv2d_958[0][0]                 \n",
            "__________________________________________________________________________________________________\n",
            "activation_995 (Activation)     (None, 1, 1, 192)    0           batch_normalization_892[0][0]    \n",
            "__________________________________________________________________________________________________\n",
            "activation_998 (Activation)     (None, 1, 1, 256)    0           batch_normalization_895[0][0]    \n",
            "__________________________________________________________________________________________________\n",
            "block8_3_mixed (Concatenate)    (None, 1, 1, 448)    0           activation_995[0][0]             \n",
            "                                                                 activation_998[0][0]             \n",
            "__________________________________________________________________________________________________\n",
            "block8_3_conv (Conv2D)          (None, 1, 1, 2080)   933920      block8_3_mixed[0][0]             \n",
            "__________________________________________________________________________________________________\n",
            "block8_3 (Lambda)               (None, 1, 1, 2080)   0           block8_2_ac[0][0]                \n",
            "                                                                 block8_3_conv[0][0]              \n",
            "__________________________________________________________________________________________________\n",
            "block8_3_ac (Activation)        (None, 1, 1, 2080)   0           block8_3[0][0]                   \n",
            "__________________________________________________________________________________________________\n",
            "conv2d_960 (Conv2D)             (None, 1, 1, 192)    399360      block8_3_ac[0][0]                \n",
            "__________________________________________________________________________________________________\n",
            "batch_normalization_897 (BatchN (None, 1, 1, 192)    576         conv2d_960[0][0]                 \n",
            "__________________________________________________________________________________________________\n",
            "activation_1000 (Activation)    (None, 1, 1, 192)    0           batch_normalization_897[0][0]    \n",
            "__________________________________________________________________________________________________\n",
            "conv2d_961 (Conv2D)             (None, 1, 1, 224)    129024      activation_1000[0][0]            \n",
            "__________________________________________________________________________________________________\n",
            "batch_normalization_898 (BatchN (None, 1, 1, 224)    672         conv2d_961[0][0]                 \n",
            "__________________________________________________________________________________________________\n",
            "activation_1001 (Activation)    (None, 1, 1, 224)    0           batch_normalization_898[0][0]    \n",
            "__________________________________________________________________________________________________\n",
            "conv2d_959 (Conv2D)             (None, 1, 1, 192)    399360      block8_3_ac[0][0]                \n",
            "__________________________________________________________________________________________________\n",
            "conv2d_962 (Conv2D)             (None, 1, 1, 256)    172032      activation_1001[0][0]            \n",
            "__________________________________________________________________________________________________\n",
            "batch_normalization_896 (BatchN (None, 1, 1, 192)    576         conv2d_959[0][0]                 \n",
            "__________________________________________________________________________________________________\n",
            "batch_normalization_899 (BatchN (None, 1, 1, 256)    768         conv2d_962[0][0]                 \n",
            "__________________________________________________________________________________________________\n",
            "activation_999 (Activation)     (None, 1, 1, 192)    0           batch_normalization_896[0][0]    \n",
            "__________________________________________________________________________________________________\n",
            "activation_1002 (Activation)    (None, 1, 1, 256)    0           batch_normalization_899[0][0]    \n",
            "__________________________________________________________________________________________________\n",
            "block8_4_mixed (Concatenate)    (None, 1, 1, 448)    0           activation_999[0][0]             \n",
            "                                                                 activation_1002[0][0]            \n",
            "__________________________________________________________________________________________________\n",
            "block8_4_conv (Conv2D)          (None, 1, 1, 2080)   933920      block8_4_mixed[0][0]             \n",
            "__________________________________________________________________________________________________\n",
            "block8_4 (Lambda)               (None, 1, 1, 2080)   0           block8_3_ac[0][0]                \n",
            "                                                                 block8_4_conv[0][0]              \n",
            "__________________________________________________________________________________________________\n",
            "block8_4_ac (Activation)        (None, 1, 1, 2080)   0           block8_4[0][0]                   \n",
            "__________________________________________________________________________________________________\n",
            "conv2d_964 (Conv2D)             (None, 1, 1, 192)    399360      block8_4_ac[0][0]                \n",
            "__________________________________________________________________________________________________\n",
            "batch_normalization_901 (BatchN (None, 1, 1, 192)    576         conv2d_964[0][0]                 \n",
            "__________________________________________________________________________________________________\n",
            "activation_1004 (Activation)    (None, 1, 1, 192)    0           batch_normalization_901[0][0]    \n",
            "__________________________________________________________________________________________________\n",
            "conv2d_965 (Conv2D)             (None, 1, 1, 224)    129024      activation_1004[0][0]            \n",
            "__________________________________________________________________________________________________\n",
            "batch_normalization_902 (BatchN (None, 1, 1, 224)    672         conv2d_965[0][0]                 \n",
            "__________________________________________________________________________________________________\n",
            "activation_1005 (Activation)    (None, 1, 1, 224)    0           batch_normalization_902[0][0]    \n",
            "__________________________________________________________________________________________________\n",
            "conv2d_963 (Conv2D)             (None, 1, 1, 192)    399360      block8_4_ac[0][0]                \n",
            "__________________________________________________________________________________________________\n",
            "conv2d_966 (Conv2D)             (None, 1, 1, 256)    172032      activation_1005[0][0]            \n",
            "__________________________________________________________________________________________________\n",
            "batch_normalization_900 (BatchN (None, 1, 1, 192)    576         conv2d_963[0][0]                 \n",
            "__________________________________________________________________________________________________\n",
            "batch_normalization_903 (BatchN (None, 1, 1, 256)    768         conv2d_966[0][0]                 \n",
            "__________________________________________________________________________________________________\n",
            "activation_1003 (Activation)    (None, 1, 1, 192)    0           batch_normalization_900[0][0]    \n",
            "__________________________________________________________________________________________________\n",
            "activation_1006 (Activation)    (None, 1, 1, 256)    0           batch_normalization_903[0][0]    \n",
            "__________________________________________________________________________________________________\n",
            "block8_5_mixed (Concatenate)    (None, 1, 1, 448)    0           activation_1003[0][0]            \n",
            "                                                                 activation_1006[0][0]            \n",
            "__________________________________________________________________________________________________\n",
            "block8_5_conv (Conv2D)          (None, 1, 1, 2080)   933920      block8_5_mixed[0][0]             \n",
            "__________________________________________________________________________________________________\n",
            "block8_5 (Lambda)               (None, 1, 1, 2080)   0           block8_4_ac[0][0]                \n",
            "                                                                 block8_5_conv[0][0]              \n",
            "__________________________________________________________________________________________________\n",
            "block8_5_ac (Activation)        (None, 1, 1, 2080)   0           block8_5[0][0]                   \n",
            "__________________________________________________________________________________________________\n",
            "conv2d_968 (Conv2D)             (None, 1, 1, 192)    399360      block8_5_ac[0][0]                \n",
            "__________________________________________________________________________________________________\n",
            "batch_normalization_905 (BatchN (None, 1, 1, 192)    576         conv2d_968[0][0]                 \n",
            "__________________________________________________________________________________________________\n",
            "activation_1008 (Activation)    (None, 1, 1, 192)    0           batch_normalization_905[0][0]    \n",
            "__________________________________________________________________________________________________\n",
            "conv2d_969 (Conv2D)             (None, 1, 1, 224)    129024      activation_1008[0][0]            \n",
            "__________________________________________________________________________________________________\n",
            "batch_normalization_906 (BatchN (None, 1, 1, 224)    672         conv2d_969[0][0]                 \n",
            "__________________________________________________________________________________________________\n",
            "activation_1009 (Activation)    (None, 1, 1, 224)    0           batch_normalization_906[0][0]    \n",
            "__________________________________________________________________________________________________\n",
            "conv2d_967 (Conv2D)             (None, 1, 1, 192)    399360      block8_5_ac[0][0]                \n",
            "__________________________________________________________________________________________________\n",
            "conv2d_970 (Conv2D)             (None, 1, 1, 256)    172032      activation_1009[0][0]            \n",
            "__________________________________________________________________________________________________\n",
            "batch_normalization_904 (BatchN (None, 1, 1, 192)    576         conv2d_967[0][0]                 \n",
            "__________________________________________________________________________________________________\n",
            "batch_normalization_907 (BatchN (None, 1, 1, 256)    768         conv2d_970[0][0]                 \n",
            "__________________________________________________________________________________________________\n",
            "activation_1007 (Activation)    (None, 1, 1, 192)    0           batch_normalization_904[0][0]    \n",
            "__________________________________________________________________________________________________\n",
            "activation_1010 (Activation)    (None, 1, 1, 256)    0           batch_normalization_907[0][0]    \n",
            "__________________________________________________________________________________________________\n",
            "block8_6_mixed (Concatenate)    (None, 1, 1, 448)    0           activation_1007[0][0]            \n",
            "                                                                 activation_1010[0][0]            \n",
            "__________________________________________________________________________________________________\n",
            "block8_6_conv (Conv2D)          (None, 1, 1, 2080)   933920      block8_6_mixed[0][0]             \n",
            "__________________________________________________________________________________________________\n",
            "block8_6 (Lambda)               (None, 1, 1, 2080)   0           block8_5_ac[0][0]                \n",
            "                                                                 block8_6_conv[0][0]              \n",
            "__________________________________________________________________________________________________\n",
            "block8_6_ac (Activation)        (None, 1, 1, 2080)   0           block8_6[0][0]                   \n",
            "__________________________________________________________________________________________________\n",
            "conv2d_972 (Conv2D)             (None, 1, 1, 192)    399360      block8_6_ac[0][0]                \n",
            "__________________________________________________________________________________________________\n",
            "batch_normalization_909 (BatchN (None, 1, 1, 192)    576         conv2d_972[0][0]                 \n",
            "__________________________________________________________________________________________________\n",
            "activation_1012 (Activation)    (None, 1, 1, 192)    0           batch_normalization_909[0][0]    \n",
            "__________________________________________________________________________________________________\n",
            "conv2d_973 (Conv2D)             (None, 1, 1, 224)    129024      activation_1012[0][0]            \n",
            "__________________________________________________________________________________________________\n",
            "batch_normalization_910 (BatchN (None, 1, 1, 224)    672         conv2d_973[0][0]                 \n",
            "__________________________________________________________________________________________________\n",
            "activation_1013 (Activation)    (None, 1, 1, 224)    0           batch_normalization_910[0][0]    \n",
            "__________________________________________________________________________________________________\n",
            "conv2d_971 (Conv2D)             (None, 1, 1, 192)    399360      block8_6_ac[0][0]                \n",
            "__________________________________________________________________________________________________\n",
            "conv2d_974 (Conv2D)             (None, 1, 1, 256)    172032      activation_1013[0][0]            \n",
            "__________________________________________________________________________________________________\n",
            "batch_normalization_908 (BatchN (None, 1, 1, 192)    576         conv2d_971[0][0]                 \n",
            "__________________________________________________________________________________________________\n",
            "batch_normalization_911 (BatchN (None, 1, 1, 256)    768         conv2d_974[0][0]                 \n",
            "__________________________________________________________________________________________________\n",
            "activation_1011 (Activation)    (None, 1, 1, 192)    0           batch_normalization_908[0][0]    \n",
            "__________________________________________________________________________________________________\n",
            "activation_1014 (Activation)    (None, 1, 1, 256)    0           batch_normalization_911[0][0]    \n",
            "__________________________________________________________________________________________________\n",
            "block8_7_mixed (Concatenate)    (None, 1, 1, 448)    0           activation_1011[0][0]            \n",
            "                                                                 activation_1014[0][0]            \n",
            "__________________________________________________________________________________________________\n",
            "block8_7_conv (Conv2D)          (None, 1, 1, 2080)   933920      block8_7_mixed[0][0]             \n",
            "__________________________________________________________________________________________________\n",
            "block8_7 (Lambda)               (None, 1, 1, 2080)   0           block8_6_ac[0][0]                \n",
            "                                                                 block8_7_conv[0][0]              \n",
            "__________________________________________________________________________________________________\n",
            "block8_7_ac (Activation)        (None, 1, 1, 2080)   0           block8_7[0][0]                   \n",
            "__________________________________________________________________________________________________\n",
            "conv2d_976 (Conv2D)             (None, 1, 1, 192)    399360      block8_7_ac[0][0]                \n",
            "__________________________________________________________________________________________________\n",
            "batch_normalization_913 (BatchN (None, 1, 1, 192)    576         conv2d_976[0][0]                 \n",
            "__________________________________________________________________________________________________\n",
            "activation_1016 (Activation)    (None, 1, 1, 192)    0           batch_normalization_913[0][0]    \n",
            "__________________________________________________________________________________________________\n",
            "conv2d_977 (Conv2D)             (None, 1, 1, 224)    129024      activation_1016[0][0]            \n",
            "__________________________________________________________________________________________________\n",
            "batch_normalization_914 (BatchN (None, 1, 1, 224)    672         conv2d_977[0][0]                 \n",
            "__________________________________________________________________________________________________\n",
            "activation_1017 (Activation)    (None, 1, 1, 224)    0           batch_normalization_914[0][0]    \n",
            "__________________________________________________________________________________________________\n",
            "conv2d_975 (Conv2D)             (None, 1, 1, 192)    399360      block8_7_ac[0][0]                \n",
            "__________________________________________________________________________________________________\n",
            "conv2d_978 (Conv2D)             (None, 1, 1, 256)    172032      activation_1017[0][0]            \n",
            "__________________________________________________________________________________________________\n",
            "batch_normalization_912 (BatchN (None, 1, 1, 192)    576         conv2d_975[0][0]                 \n",
            "__________________________________________________________________________________________________\n",
            "batch_normalization_915 (BatchN (None, 1, 1, 256)    768         conv2d_978[0][0]                 \n",
            "__________________________________________________________________________________________________\n",
            "activation_1015 (Activation)    (None, 1, 1, 192)    0           batch_normalization_912[0][0]    \n",
            "__________________________________________________________________________________________________\n",
            "activation_1018 (Activation)    (None, 1, 1, 256)    0           batch_normalization_915[0][0]    \n",
            "__________________________________________________________________________________________________\n",
            "block8_8_mixed (Concatenate)    (None, 1, 1, 448)    0           activation_1015[0][0]            \n",
            "                                                                 activation_1018[0][0]            \n",
            "__________________________________________________________________________________________________\n",
            "block8_8_conv (Conv2D)          (None, 1, 1, 2080)   933920      block8_8_mixed[0][0]             \n",
            "__________________________________________________________________________________________________\n",
            "block8_8 (Lambda)               (None, 1, 1, 2080)   0           block8_7_ac[0][0]                \n",
            "                                                                 block8_8_conv[0][0]              \n",
            "__________________________________________________________________________________________________\n",
            "block8_8_ac (Activation)        (None, 1, 1, 2080)   0           block8_8[0][0]                   \n",
            "__________________________________________________________________________________________________\n",
            "conv2d_980 (Conv2D)             (None, 1, 1, 192)    399360      block8_8_ac[0][0]                \n",
            "__________________________________________________________________________________________________\n",
            "batch_normalization_917 (BatchN (None, 1, 1, 192)    576         conv2d_980[0][0]                 \n",
            "__________________________________________________________________________________________________\n",
            "activation_1020 (Activation)    (None, 1, 1, 192)    0           batch_normalization_917[0][0]    \n",
            "__________________________________________________________________________________________________\n",
            "conv2d_981 (Conv2D)             (None, 1, 1, 224)    129024      activation_1020[0][0]            \n",
            "__________________________________________________________________________________________________\n",
            "batch_normalization_918 (BatchN (None, 1, 1, 224)    672         conv2d_981[0][0]                 \n",
            "__________________________________________________________________________________________________\n",
            "activation_1021 (Activation)    (None, 1, 1, 224)    0           batch_normalization_918[0][0]    \n",
            "__________________________________________________________________________________________________\n",
            "conv2d_979 (Conv2D)             (None, 1, 1, 192)    399360      block8_8_ac[0][0]                \n",
            "__________________________________________________________________________________________________\n",
            "conv2d_982 (Conv2D)             (None, 1, 1, 256)    172032      activation_1021[0][0]            \n",
            "__________________________________________________________________________________________________\n",
            "batch_normalization_916 (BatchN (None, 1, 1, 192)    576         conv2d_979[0][0]                 \n",
            "__________________________________________________________________________________________________\n",
            "batch_normalization_919 (BatchN (None, 1, 1, 256)    768         conv2d_982[0][0]                 \n",
            "__________________________________________________________________________________________________\n",
            "activation_1019 (Activation)    (None, 1, 1, 192)    0           batch_normalization_916[0][0]    \n",
            "__________________________________________________________________________________________________\n",
            "activation_1022 (Activation)    (None, 1, 1, 256)    0           batch_normalization_919[0][0]    \n",
            "__________________________________________________________________________________________________\n",
            "block8_9_mixed (Concatenate)    (None, 1, 1, 448)    0           activation_1019[0][0]            \n",
            "                                                                 activation_1022[0][0]            \n",
            "__________________________________________________________________________________________________\n",
            "block8_9_conv (Conv2D)          (None, 1, 1, 2080)   933920      block8_9_mixed[0][0]             \n",
            "__________________________________________________________________________________________________\n",
            "block8_9 (Lambda)               (None, 1, 1, 2080)   0           block8_8_ac[0][0]                \n",
            "                                                                 block8_9_conv[0][0]              \n",
            "__________________________________________________________________________________________________\n",
            "block8_9_ac (Activation)        (None, 1, 1, 2080)   0           block8_9[0][0]                   \n",
            "__________________________________________________________________________________________________\n",
            "conv2d_984 (Conv2D)             (None, 1, 1, 192)    399360      block8_9_ac[0][0]                \n",
            "__________________________________________________________________________________________________\n",
            "batch_normalization_921 (BatchN (None, 1, 1, 192)    576         conv2d_984[0][0]                 \n",
            "__________________________________________________________________________________________________\n",
            "activation_1024 (Activation)    (None, 1, 1, 192)    0           batch_normalization_921[0][0]    \n",
            "__________________________________________________________________________________________________\n",
            "conv2d_985 (Conv2D)             (None, 1, 1, 224)    129024      activation_1024[0][0]            \n",
            "__________________________________________________________________________________________________\n",
            "batch_normalization_922 (BatchN (None, 1, 1, 224)    672         conv2d_985[0][0]                 \n",
            "__________________________________________________________________________________________________\n",
            "activation_1025 (Activation)    (None, 1, 1, 224)    0           batch_normalization_922[0][0]    \n",
            "__________________________________________________________________________________________________\n",
            "conv2d_983 (Conv2D)             (None, 1, 1, 192)    399360      block8_9_ac[0][0]                \n",
            "__________________________________________________________________________________________________\n",
            "conv2d_986 (Conv2D)             (None, 1, 1, 256)    172032      activation_1025[0][0]            \n",
            "__________________________________________________________________________________________________\n",
            "batch_normalization_920 (BatchN (None, 1, 1, 192)    576         conv2d_983[0][0]                 \n",
            "__________________________________________________________________________________________________\n",
            "batch_normalization_923 (BatchN (None, 1, 1, 256)    768         conv2d_986[0][0]                 \n",
            "__________________________________________________________________________________________________\n",
            "activation_1023 (Activation)    (None, 1, 1, 192)    0           batch_normalization_920[0][0]    \n",
            "__________________________________________________________________________________________________\n",
            "activation_1026 (Activation)    (None, 1, 1, 256)    0           batch_normalization_923[0][0]    \n",
            "__________________________________________________________________________________________________\n",
            "block8_10_mixed (Concatenate)   (None, 1, 1, 448)    0           activation_1023[0][0]            \n",
            "                                                                 activation_1026[0][0]            \n",
            "__________________________________________________________________________________________________\n",
            "block8_10_conv (Conv2D)         (None, 1, 1, 2080)   933920      block8_10_mixed[0][0]            \n",
            "__________________________________________________________________________________________________\n",
            "block8_10 (Lambda)              (None, 1, 1, 2080)   0           block8_9_ac[0][0]                \n",
            "                                                                 block8_10_conv[0][0]             \n",
            "__________________________________________________________________________________________________\n",
            "conv_7b (Conv2D)                (None, 1, 1, 1536)   3194880     block8_10[0][0]                  \n",
            "__________________________________________________________________________________________________\n",
            "batch_normalization_924 (BatchN (None, 1, 1, 1536)   4608        conv_7b[0][0]                    \n",
            "__________________________________________________________________________________________________\n",
            "activation_1027 (Activation)    (None, 1, 1, 1536)   0           batch_normalization_924[0][0]    \n",
            "__________________________________________________________________________________________________\n",
            "avg_pool (GlobalAveragePooling2 (None, 1536)         0           activation_1027[0][0]            \n",
            "__________________________________________________________________________________________________\n",
            "predictions (Dense)             (None, 7)            10752       avg_pool[0][0]                   \n",
            "==================================================================================================\n",
            "Total params: 54,347,488\n",
            "Trainable params: 54,286,944\n",
            "Non-trainable params: 60,544\n",
            "__________________________________________________________________________________________________\n",
            "dot: graph is too large for cairo-renderer bitmaps. Scaling by 0.517941 to fit\n",
            "tcmalloc: large alloc 1169096704 bytes == 0x55f22abd8000 @  0x7f70fff16001 0x7f70fc1ad1fa 0x7f70fc1ad2ad 0x7f70fd3386df 0x7f70fd82f261 0x7f70ffcac468 0x7f70ffcaed53 0x55f2275a2092 0x7f70ff661bf7 0x55f2275a212a\n",
            "\n",
            "Epoch 1/50\n",
            "Learning rate:  0.0003\n",
            "\n",
            "Epoch 00001: LearningRateScheduler setting learning rate to 0.0003.\n",
            "1566/1566 [==============================] - 514s 302ms/step - loss: 0.5492 - auc: 0.9744 - precision: 0.8807 - recall: 0.7547 - val_loss: 10.2163 - val_auc: 0.6880 - val_precision: 0.4483 - val_recall: 0.4347\n",
            "\n",
            "Epoch 00001: val_loss improved from inf to 10.21633, saving model to /content/drive/Shareddrives/Labs/2020_1_이소연/code/Bootstrap/model_output/0/Inception/001.h5\n",
            "WARNING:tensorflow:Can save best model only with val_accuracy available, skipping.\n",
            "Epoch 2/50\n",
            "Learning rate:  0.0003\n",
            "\n",
            "Epoch 00002: LearningRateScheduler setting learning rate to 0.0003.\n",
            "1566/1566 [==============================] - 479s 306ms/step - loss: 0.1630 - auc: 0.9962 - precision: 0.9602 - recall: 0.9481 - val_loss: 74.4444 - val_auc: 0.5945 - val_precision: 0.3265 - val_recall: 0.3228\n",
            "\n",
            "Epoch 00002: val_loss did not improve from 10.21633\n",
            "WARNING:tensorflow:Can save best model only with val_accuracy available, skipping.\n",
            "Epoch 3/50\n",
            "Learning rate:  0.0003\n",
            "\n",
            "Epoch 00003: LearningRateScheduler setting learning rate to 0.0003.\n",
            "1566/1566 [==============================] - 467s 298ms/step - loss: 0.1194 - auc: 0.9973 - precision: 0.9723 - recall: 0.9662 - val_loss: 0.2743 - val_auc: 0.9879 - val_precision: 0.9445 - val_recall: 0.9354\n",
            "\n",
            "Epoch 00003: val_loss improved from 10.21633 to 0.27433, saving model to /content/drive/Shareddrives/Labs/2020_1_이소연/code/Bootstrap/model_output/0/Inception/003.h5\n",
            "WARNING:tensorflow:Can save best model only with val_accuracy available, skipping.\n",
            "Epoch 4/50\n",
            "Learning rate:  0.0003\n",
            "\n",
            "Epoch 00004: LearningRateScheduler setting learning rate to 0.0003.\n",
            "1566/1566 [==============================] - 467s 298ms/step - loss: 0.0946 - auc: 0.9980 - precision: 0.9791 - recall: 0.9754 - val_loss: 0.2797 - val_auc: 0.9869 - val_precision: 0.9434 - val_recall: 0.9379\n",
            "\n",
            "Epoch 00004: val_loss did not improve from 0.27433\n",
            "WARNING:tensorflow:Can save best model only with val_accuracy available, skipping.\n",
            "Epoch 5/50\n",
            "Learning rate:  0.0003\n",
            "\n",
            "Epoch 00005: LearningRateScheduler setting learning rate to 0.0003.\n",
            "1566/1566 [==============================] - 479s 306ms/step - loss: 0.0692 - auc: 0.9987 - precision: 0.9855 - recall: 0.9830 - val_loss: 0.2689 - val_auc: 0.9874 - val_precision: 0.9516 - val_recall: 0.9468\n",
            "\n",
            "Epoch 00005: val_loss improved from 0.27433 to 0.26887, saving model to /content/drive/Shareddrives/Labs/2020_1_이소연/code/Bootstrap/model_output/0/Inception/005.h5\n",
            "WARNING:tensorflow:Can save best model only with val_accuracy available, skipping.\n"
          ]
        }
      ]
    },
    {
      "cell_type": "code",
      "metadata": {
        "colab": {
          "base_uri": "https://localhost:8080/"
        },
        "id": "u5hisKpsOw1L",
        "outputId": "d83e1320-f0b7-4de1-fedd-11f9755a9204"
      },
      "source": [
        "y_predict = model6.predict(x_test)\n",
        "y_pred_6 = np.ones(len(y_predict))\n",
        "for i in range(len(y_pred_5)):\n",
        "    y_pred_6[i] = np.argmax(y_predict[i])\n",
        "print(classification_report(y_test_, y_pred_6, target_names=labels))"
      ],
      "execution_count": 96,
      "outputs": [
        {
          "output_type": "stream",
          "name": "stdout",
          "text": [
            "              precision    recall  f1-score   support\n",
            "\n",
            "      Center       0.30      0.38      0.33        24\n",
            "    Edge-Loc       0.41      0.34      0.37       104\n",
            "   Edge-Ring       0.74      0.52      0.61        27\n",
            "         Loc       0.48      0.44      0.46        71\n",
            "   Near-full       1.00      1.00      1.00        13\n",
            "     Scratch       0.30      0.22      0.25        37\n",
            "        none       0.97      0.98      0.98      5003\n",
            "\n",
            "    accuracy                           0.95      5279\n",
            "   macro avg       0.60      0.55      0.57      5279\n",
            "weighted avg       0.95      0.95      0.95      5279\n",
            "\n"
          ]
        }
      ]
    },
    {
      "cell_type": "code",
      "metadata": {
        "colab": {
          "base_uri": "https://localhost:8080/",
          "height": 612
        },
        "id": "ynDuyuk2M4By",
        "outputId": "ca716677-7c2b-4c17-a36d-065be0411596"
      },
      "source": [
        "np.set_printoptions(precision=2)\n",
        "\n",
        "# Plot non-normalized confusion matrix]\n",
        "plot_confusion_matrix2(y_test_, y_pred_6, classes=labels, title='Confusion matrix, without normalization')\n",
        "\n",
        "# Plot normalized confusion matrix]\n",
        "plot_confusion_matrix2(y_test_, y_pred_6, classes=labels, normalize=True, title='Normalized confusion matrix')\n",
        "\n",
        "plt.show()"
      ],
      "execution_count": 97,
      "outputs": [
        {
          "output_type": "stream",
          "name": "stdout",
          "text": [
            "Confusion matrix, without normalization\n",
            "Normalized confusion matrix\n"
          ]
        },
        {
          "output_type": "display_data",
          "data": {
            "image/png": "[encoded data removed]",
            "text/plain": [
              "<Figure size 432x288 with 2 Axes>"
            ]
          },
          "metadata": {
            "needs_background": "light"
          }
        },
        {
          "output_type": "display_data",
          "data": {
            "image/png": "[encoded data removed]",
            "text/plain": [
              "<Figure size 432x288 with 2 Axes>"
            ]
          },
          "metadata": {
            "needs_background": "light"
          }
        }
      ]
    },
    {
      "cell_type": "code",
      "metadata": {
        "id": "NiypOvTlIl0I"
      },
      "source": [
        ""
      ],
      "execution_count": null,
      "outputs": []
    },
    {
      "cell_type": "markdown",
      "metadata": {
        "id": "pBZE9QvMv0Vs"
      },
      "source": [
        "# **Denoising AE**"
      ]
    },
    {
      "cell_type": "code",
      "metadata": {
        "colab": {
          "base_uri": "https://localhost:8080/"
        },
        "id": "3_zLLSvoFSFX",
        "outputId": "47df9a47-ef58-4b92-e539-1e549cb67823"
      },
      "source": [
        "# denoising autoencoder\n",
        "noise = np.random.normal(loc=0.5, scale=0.5, size=x_train.shape)\n",
        "x_train_noise = x_train + noise\n",
        "noise = np.random.normal(loc=0.5, scale=0.5, size=x_test.shape)\n",
        "x_test_noise = x_test + noise\n",
        "\n",
        "encoder = Model(input_tensor, latent_vector)\n",
        "decoder_input = Input((16, 16, 64))\n",
        "decode = Conv2DTranspose(64, (3,3), padding='same', activation='relu')(decoder_input)\n",
        "decode = UpSampling2D()(decode)\n",
        "decoder = Model(decoder_input, output_tensor(decode))\n",
        "\n",
        "noise = Model(input_tensor, decoder(encoder(input_tensor)))\n",
        "noise.summary()\n",
        "noise.compile(loss='mse', optimizer='adam', metrics=['AUC'])\n",
        "noise.fit(x_train_noise,x_train, validation_data=(x_test_noise, x_test), epochs=10, batch_size=64, callbacks=callback_list)"
      ],
      "execution_count": null,
      "outputs": [
        {
          "name": "stdout",
          "output_type": "stream",
          "text": [
            "Model: \"model_3\"\n",
            "_________________________________________________________________\n",
            "Layer (type)                 Output Shape              Param #   \n",
            "=================================================================\n",
            "input_1 (InputLayer)         [(None, 32, 32, 3)]       0         \n",
            "_________________________________________________________________\n",
            "model_1 (Functional)         (None, 16, 16, 64)        1792      \n",
            "_________________________________________________________________\n",
            "model_2 (Functional)         (None, 32, 32, 3)         38659     \n",
            "=================================================================\n",
            "Total params: 40,451\n",
            "Trainable params: 40,451\n",
            "Non-trainable params: 0\n",
            "_________________________________________________________________\n",
            "Epoch 1/10\n",
            "89/89 [==============================] - 4s 35ms/step - loss: 0.0818 - auc: 0.9319 - val_loss: 0.0527 - val_auc: 0.9781\n",
            "Epoch 2/10\n",
            "89/89 [==============================] - 3s 31ms/step - loss: 0.0474 - auc: 0.9824 - val_loss: 0.0438 - val_auc: 0.9848\n",
            "Epoch 3/10\n",
            "89/89 [==============================] - 3s 31ms/step - loss: 0.0414 - auc: 0.9864 - val_loss: 0.0393 - val_auc: 0.9875\n"
          ]
        },
        {
          "data": {
            "text/plain": [
              "<tensorflow.python.keras.callbacks.History at 0x7fa436d7cf90>"
            ]
          },
          "execution_count": 21,
          "metadata": {
            "tags": []
          },
          "output_type": "execute_result"
        }
      ]
    },
    {
      "cell_type": "code",
      "metadata": {
        "colab": {
          "base_uri": "https://localhost:8080/"
        },
        "id": "3L9qFoAIVDpH",
        "outputId": "2197c007-6d14-4b3d-a008-3cfe7d79f451"
      },
      "source": [
        "np.where(y_test=='Scratch')"
      ],
      "execution_count": null,
      "outputs": [
        {
          "data": {
            "text/plain": [
              "(array([ 291,  299,  516,  656,  836, 1657, 1843, 2286, 2341, 2353, 2376]),\n",
              " array([0, 0, 0, 0, 0, 0, 0, 0, 0, 0, 0]))"
            ]
          },
          "execution_count": 16,
          "metadata": {
            "tags": []
          },
          "output_type": "execute_result"
        }
      ]
    },
    {
      "cell_type": "code",
      "metadata": {
        "colab": {
          "base_uri": "https://localhost:8080/",
          "height": 283
        },
        "id": "lYEZILS0JEZ3",
        "outputId": "bfa0de1d-618d-4708-9367-7a09eb605239"
      },
      "source": [
        "plt.imshow(np.argmax(x_test[291], axis=2))"
      ],
      "execution_count": null,
      "outputs": [
        {
          "data": {
            "text/plain": [
              "<matplotlib.image.AxesImage at 0x7fa435e68d10>"
            ]
          },
          "execution_count": 17,
          "metadata": {
            "tags": []
          },
          "output_type": "execute_result"
        },
        {
          "data": {
            "image/png": "[encoded data removed]",
            "text/plain": [
              "<Figure size 432x288 with 1 Axes>"
            ]
          },
          "metadata": {
            "needs_background": "light",
            "tags": []
          },
          "output_type": "display_data"
        }
      ]
    },
    {
      "cell_type": "code",
      "metadata": {
        "colab": {
          "base_uri": "https://localhost:8080/",
          "height": 283
        },
        "id": "f5ZDwRz3IE5M",
        "outputId": "fc187731-972b-4def-ef77-8c797e1f0e0c"
      },
      "source": [
        "plt.imshow(np.argmax(x_test_noise[291], axis=2)) "
      ],
      "execution_count": null,
      "outputs": [
        {
          "data": {
            "text/plain": [
              "<matplotlib.image.AxesImage at 0x7fa435a5b850>"
            ]
          },
          "execution_count": 22,
          "metadata": {
            "tags": []
          },
          "output_type": "execute_result"
        },
        {
          "data": {
            "image/png": "[encoded data removed]",
            "text/plain": [
              "<Figure size 432x288 with 1 Axes>"
            ]
          },
          "metadata": {
            "needs_background": "light",
            "tags": []
          },
          "output_type": "display_data"
        }
      ]
    },
    {
      "cell_type": "code",
      "metadata": {
        "colab": {
          "base_uri": "https://localhost:8080/",
          "height": 283
        },
        "id": "AhFqyrrFrskf",
        "outputId": "cc386191-3e01-4702-8738-001ace4ae921"
      },
      "source": [
        "x_noise = noise.predict(x_test_noise) \n",
        "plt.imshow(np.argmax(x_noise[291], axis=2))"
      ],
      "execution_count": null,
      "outputs": [
        {
          "data": {
            "text/plain": [
              "<matplotlib.image.AxesImage at 0x7fa4368b0cd0>"
            ]
          },
          "execution_count": 23,
          "metadata": {
            "tags": []
          },
          "output_type": "execute_result"
        },
        {
          "data": {
            "image/png": "[encoded data removed]",
            "text/plain": [
              "<Figure size 432x288 with 1 Axes>"
            ]
          },
          "metadata": {
            "needs_background": "light",
            "tags": []
          },
          "output_type": "display_data"
        }
      ]
    },
    {
      "cell_type": "code",
      "metadata": {
        "id": "7xBlejNLv4je"
      },
      "source": [
        ""
      ],
      "execution_count": null,
      "outputs": []
    },
    {
      "cell_type": "markdown",
      "metadata": {
        "id": "58E3wKUUv5Er"
      },
      "source": [
        "# **Variational AE**"
      ]
    },
    {
      "cell_type": "code",
      "metadata": {
        "id": "CDvaF2RErske"
      },
      "source": [
        "# variational autoencoder\n",
        "batch_size = 100\n",
        "original_dim = 128*128\n",
        "latent_dim = 3\n",
        "epochs = 50\n",
        "epsilon_std = 1.0\n",
        "\n",
        "\n",
        "x = Input(shape=(original_dim,))\n",
        "h = Dense(128)(x)\n",
        "#h = BatchNormalization()(h)\n",
        "h = Activation('relu')(h)\n",
        "h = Dense(64)(h)\n",
        "#h = BatchNormalization()(h)\n",
        "h = Activation('relu')(h)\n",
        "h = Dense(32)(h)\n",
        "#h = BatchNormalization()(h)\n",
        "h = Activation('relu')(h)\n",
        "z_mean = Dense(latent_dim)(h)\n",
        "z_log_var = Dense(latent_dim)(h)\n",
        "def sampling(args):\n",
        "    z_mean, z_log_var = args\n",
        "    epsilon = K.random_normal(shape=(K.shape(z_mean)[0], latent_dim), mean=0., stddev=epsilon_std)\n",
        "    return z_mean + K.exp(z_log_var / 2) * epsilon\n",
        "\n",
        "z = Lambda(sampling, output_shape=(latent_dim,))([z_mean, z_log_var])\n",
        "\n",
        "decoder_h = Dense(32, activation='relu')\n",
        "decoder_h2 = Dense(64, activation='relu')\n",
        "decoder_h3 = Dense(128, activation='relu')\n",
        "decoder_mean = Dense(original_dim, activation='sigmoid')\n",
        "h_decoded = decoder_h(z)\n",
        "h_decoded = decoder_h2(h_decoded)\n",
        "h_decoded = decoder_h3(h_decoded)\n",
        "x_decoded_mean = decoder_mean(h_decoded)\n",
        "\n",
        "loss_log = []\n",
        "\n",
        "class CustomVariationalLayer(Layer):\n",
        "    def __init__(self, **kwargs):\n",
        "        self.is_placeholder = True\n",
        "        super(CustomVariationalLayer, self).__init__(**kwargs)\n",
        "\n",
        "    def vae_loss(self, x, x_decoded_mean):\n",
        "        xent_loss = original_dim * metrics.binary_crossentropy(x, x_decoded_mean)\n",
        "        kl_loss = - 0.5 * K.sum(1 + z_log_var - K.square(z_mean) - K.exp(z_log_var), axis=-1)\n",
        "        return K.mean(xent_loss + kl_loss)\n",
        "\n",
        "    def call(self, inputs):\n",
        "        x = inputs[0]\n",
        "        x_decoded_mean = inputs[1]\n",
        "        loss = self.vae_loss(x, x_decoded_mean)\n",
        "        self.add_loss(loss, inputs=inputs)\n",
        "        # We won't actually use the output.\n",
        "        return x\n",
        "\n",
        "y = CustomVariationalLayer()([x, x_decoded_mean])\n",
        "vae = Model(x, y)\n",
        "vae.compile(optimizer='rmsprop', loss=None)\n",
        "\n",
        "x_train = load_wafers('clean2_train')\n",
        "x_train = (x_train + 1) / 2\n",
        "#x_train = x_train.reshape(x_train.shape[0], 128, 128)\n",
        "x_train = x_train.reshape((len(x_train), np.prod(x_train.shape[1:])))"
      ],
      "execution_count": null,
      "outputs": []
    },
    {
      "cell_type": "code",
      "metadata": {
        "id": "YDno_JQ0rskf"
      },
      "source": [
        "vae.fit(x_train,\n",
        "        shuffle=True,\n",
        "        epochs=100,\n",
        "        batch_size=batch_size)"
      ],
      "execution_count": null,
      "outputs": []
    },
    {
      "cell_type": "code",
      "metadata": {
        "id": "N5yURLFPJDXS"
      },
      "source": [
        ""
      ],
      "execution_count": null,
      "outputs": []
    }
  ]
}