{
 "cells": [
  {
   "cell_type": "code",
   "execution_count": 6,
   "metadata": {},
   "outputs": [],
   "source": [
    "def solution(n, lost, reserve):\n",
    "    \n",
    "    lost_unique = list(set(lost) - set(reserve)) # 여벌 없는 잃어버린 애들\n",
    "    reserve_unique = list(set(reserve) - set(lost)) # 여벌 있는 잃어버린 애들 제외한 여별 있는 애들\n",
    "    \n",
    "    # 잃어버린 애들이 각자 자기가 가져온 여벌 입음 / 여벌없는 잃어버린 애들이 빌릴 애들이 없음\n",
    "    if lost_unique == [] or reserve_unique == [] :\n",
    "        return n - len(lost_unique) \n",
    "\n",
    "    for i in lost_unique:\n",
    "        if (i - 1) not in reserve_unique and (i + 1) not in reserve_unique:  \n",
    "               n -= 1 # 빌릴 사람 없음\n",
    "        elif (i + 1) in reserve_unique and (i - 1) not in reserve_unique:   # i-1인경우 i=1일때 0\n",
    "            reserve_unique.remove(i + 1)  # i+1한테 빌린거니까 해결\n",
    "    return n"
   ]
  }
 ],
 "metadata": {
  "kernelspec": {
   "display_name": "Python 3",
   "language": "python",
   "name": "python3"
  },
  "language_info": {
   "codemirror_mode": {
    "name": "ipython",
    "version": 3
   },
   "file_extension": ".py",
   "mimetype": "text/x-python",
   "name": "python",
   "nbconvert_exporter": "python",
   "pygments_lexer": "ipython3",
   "version": "3.8.5"
  }
 },
 "nbformat": 4,
 "nbformat_minor": 4
}
