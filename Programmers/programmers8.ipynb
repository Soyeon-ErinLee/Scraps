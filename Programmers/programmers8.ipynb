{
 "cells": [
  {
   "cell_type": "code",
   "execution_count": 3,
   "metadata": {},
   "outputs": [],
   "source": [
    "loc = {'1': (0,0), '2':(0,1), '3':(0,2),\n",
    "          '4':(1,0), '5':(1,1), '6':(1,2),\n",
    "          '7':(2,0), '8':(2,1), '9':(2,2),\n",
    "          '*':(3,0), '0':(3,1), '#':(3,2)}\n",
    "def get_distance(hand, number):\n",
    "    number = str(number)\n",
    "    x_hand, y_hand = loc[hand]\n",
    "    x_number, y_number = loc[number]\n",
    "    return abs(x_hand - x_number) + abs(y_hand - y_number)\n",
    "\n",
    "def solution(numbers, hand):\n",
    "    answer = ''\n",
    "    hand = 'R' if hand == 'right' else 'L'\n",
    "    left, right = '*', '#'\n",
    "    for number in numbers:\n",
    "        if number in [1, 4, 7]:\n",
    "            answer += 'L'\n",
    "            left = str(number)\n",
    "            continue\n",
    "        if number in [3, 6, 9]:\n",
    "            answer += 'R'\n",
    "            right = str(number)\n",
    "            continue\n",
    "        if number in [2, 5, 8, 0]:\n",
    "            dis1 = get_distance(left, number)\n",
    "            dis2 = get_distance(right, number)\n",
    "            if dis1 > dis2:\n",
    "                answer += 'R'\n",
    "                right = str(number)\n",
    "            if dis1 < dis2:\n",
    "                answer += 'L'\n",
    "                left = str(number)\n",
    "            if dis1 == dis2:\n",
    "                answer += hand\n",
    "                if hand == 'R':\n",
    "                    right = str(number)\n",
    "                if hand == 'L':\n",
    "                    left = str(number)\n",
    "    return answer"
   ]
  }
 ],
 "metadata": {
  "kernelspec": {
   "display_name": "Python 3",
   "language": "python",
   "name": "python3"
  },
  "language_info": {
   "codemirror_mode": {
    "name": "ipython",
    "version": 3
   },
   "file_extension": ".py",
   "mimetype": "text/x-python",
   "name": "python",
   "nbconvert_exporter": "python",
   "pygments_lexer": "ipython3",
   "version": "3.8.5"
  }
 },
 "nbformat": 4,
 "nbformat_minor": 4
}
