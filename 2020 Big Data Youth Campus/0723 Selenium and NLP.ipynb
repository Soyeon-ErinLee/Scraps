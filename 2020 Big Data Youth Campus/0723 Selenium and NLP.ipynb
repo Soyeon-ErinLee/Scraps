{
 "cells": [
  {
   "cell_type": "code",
   "execution_count": 225,
   "metadata": {},
   "outputs": [],
   "source": [
    "from selenium import webdriver"
   ]
  },
  {
   "cell_type": "code",
   "execution_count": 226,
   "metadata": {},
   "outputs": [],
   "source": [
    "driver = webdriver.Chrome('C:\\\\Users\\\\user\\\\Desktop\\\\취준\\\\빅데이터 청년 인재\\\\chromedriver.exe')"
   ]
  },
  {
   "cell_type": "code",
   "execution_count": 227,
   "metadata": {},
   "outputs": [],
   "source": [
    "driver.get('https://www.naver.com')"
   ]
  },
  {
   "cell_type": "code",
   "execution_count": 228,
   "metadata": {},
   "outputs": [],
   "source": [
    "cookiedict = {\n",
    "    'nid_sec':'Al6rfnFr2123DcyRLylIA4OtPSEWiYdzhVkQhEUOTb9XbD6Z6Wmcz/4Bl8rku54m',\n",
    "    'nid_buk':'6SEVKVFG67CFQ',\n",
    "    'NID_SES':'AAABiJmF/xicyixlaAtOidH/mdrw3uCEdxrfLOldz+h+/HdyMAdh72BrRVwJgF3kXRIyoBlH734XBwt5dlzX7um+eVY70vdxKxOG9ndzHflJgCuEtGTx4A/CAk23qCQznhcOYiDde9VJifctlud+UYMCeS7f/jXtozcs0ykzmt7abJ1zn68EgcN2rLUVpgkRcve7tefmvnCu41RDaPe9knWdwzC7kGKCB+c05osf6CXFpouQl1ZPOHYrywIE2ltNZFQbfY0Utg7Q6YocyQZCqx0VhV8jSEyI0UcFoXGkdudE79iocubjrF921wvKympHx8g3CDnlTQ9a++bbk3DS5693Hpg2thoGQVple0z+IsVffRQ98buySXdY9z2zga6DpFUnpCxksRr6AgZQ5PO437a72NMJ56BX0fqUgX2Og/9DPj1TZsXbmuCts8CK8prJOHgxSyI/rW3GzR8FnAUPL+U1QUlYUzoQheK7QIoKljRA5sPrlAV4m63sYUhvSt2IiPqbQs7nxSx3aA/MON+bypdfep8=',    \n",
    "    'NID_AUT':'l+7yfQbcPTLCn5ca0/Cz89d0izRZL2tiUr69+0JaQH3BH2ogJBSQz7Jg51gWtn5b',\n",
    "    'nid_inf':'-1525915809',\n",
    "    'page_uid':'UxPl6wprvmsss7mUZmdssssstxZ-379268',\n",
    "    #'NMUSER':'udblKqEwaqbsKx2maxbrpBiGW4w0pxtZaqu9axEqaAtqaxvsFxuZKAnmaqns3xndFAKwFoUsHoKma9vsxonOaxRpa9vs6xRpaqRVaqns1rejL9Us6xRVaqnD16lvpB2RFLl5WLl5MBp0bSloWrdnaAvmKARqp6FTW43CbNvR16lvpB2RFLl5WLl5MBp0bSloWrdnaAvmKAn=',\n",
    "    'BMR':'s=1594955161016&r=https%3A%2F%2Fm.blog.naver.com%2Flatry%2F221875032122&r2=https%3A%2F%2Fwww.google.com%2F',\n",
    "    'nid_slevel':'-1',\n",
    "    '_ga_4BKHBFKFK0':'GS1.1.1586186528.2.1.1586187710.4',\n",
    "    '_ga':'GA1.1.681104808.1571202743',\n",
    "    'nx_ssl':'2',\n",
    "    'NNB':'6SEVKVFG67CFQ',\n",
    "    'ASID':'dda7dfdf0000015cc3fa640f0000084e',\n",
    "    'NID_JKL':'KFovCDy4T7Z3w6zTsTNRD15eC4sJSTTYzHA8GIzK0qc=',\n",
    "    'IMAGE_BANNER_MAIL':'2019-12-16%2018%3A11%3A13',\n",
    "    'npic':'c68RK4gr6yhDO3a5+28ze1WpXIGFBTXsbdQPjd6ZdYA7KkQyt9Kvh1tIsvc7pajiCA==',\n",
    "    'NRTK':'ag#20s_gr#1_ma#-2_si#1_en#-1_sp#-1',\n",
    "    'nid_enctp':'1'\n",
    "}"
   ]
  },
  {
   "cell_type": "code",
   "execution_count": 180,
   "metadata": {},
   "outputs": [
    {
     "data": {
      "text/plain": [
       "<bound method WebDriver.delete_all_cookies of <selenium.webdriver.chrome.webdriver.WebDriver (session=\"60ab366ec6af582ca0225be18966eaec\")>>"
      ]
     },
     "execution_count": 180,
     "metadata": {},
     "output_type": "execute_result"
    }
   ],
   "source": [
    "driver.delete_all_cookies"
   ]
  },
  {
   "cell_type": "code",
   "execution_count": 229,
   "metadata": {},
   "outputs": [],
   "source": [
    "for k, v in cookiedict.items():\n",
    "    driver.add_cookie({'name':k, 'value':v, 'domain':'.naver.com'}) # 쿠키 설정하는 방법이 조금 달라서 이 함수 이용"
   ]
  },
  {
   "cell_type": "code",
   "execution_count": 185,
   "metadata": {
    "collapsed": true,
    "jupyter": {
     "outputs_hidden": true
    }
   },
   "outputs": [
    {
     "data": {
      "text/plain": [
       "[{'domain': 'mail.naver.com',\n",
       "  'httpOnly': False,\n",
       "  'name': 'NMUSER',\n",
       "  'path': '/',\n",
       "  'secure': False,\n",
       "  'value': 'udblKqEwaqbsKx2maxbrpBiGW4w0pxtZaqu9axEdFqu9KxMsFxuZKAnmaqns3xndFAKwaAMsHoKma9vsxonOaxRpa9vs6xRpaqRVaqns1rejL9Us6xRVaqnD16lvpB2RFLl5WLl5MBp0bSloWrdnaAvmKARqp6FTW43CbNvR16lvpB2RFLl5WLl5MBp0bSloWrdnaAvmKAn='},\n",
       " {'domain': '.naver.com',\n",
       "  'httpOnly': False,\n",
       "  'name': 'NID_JKL',\n",
       "  'path': '/',\n",
       "  'secure': True,\n",
       "  'value': 'i3O3yDKxMQbWhLbEWaTOuwuodo07akY9VioGosITLGc='},\n",
       " {'domain': '.naver.com',\n",
       "  'httpOnly': True,\n",
       "  'name': 'NID_AUT',\n",
       "  'path': '/',\n",
       "  'secure': False,\n",
       "  'value': 'W1kPv+k4oLFGEM8Wr280BnO1e1uQ54UXILSzN2M9pegsJoUql0C9ktWdkyHtdrCg'},\n",
       " {'domain': '.mail.naver.com',\n",
       "  'httpOnly': False,\n",
       "  'name': 'NMUSER',\n",
       "  'path': '/',\n",
       "  'secure': True,\n",
       "  'value': 'udblKqEwaqbsKx2maxbrpBiGW4w0pxtZaqu9axEdFqglFxtsFxuZKAnmaqns3xndFAKwaAMsHoKma9vsxonOaxRpa9vs6xRpaqRVaqns1rejL9Us6xRVaqnD16lvpB2RFLl5WLl5MBp0bSloWrdnaAvmKARqp6FTW43CbNvR16lvpB2RFLl5WLl5MBp0bSloWrdnaAvmKAn='},\n",
       " {'domain': '.naver.com',\n",
       "  'httpOnly': False,\n",
       "  'name': 'IMAGE_BANNER_MAIL',\n",
       "  'path': '/',\n",
       "  'secure': True,\n",
       "  'value': '2019-12-16%2018%3A11%3A13'},\n",
       " {'domain': '.naver.com',\n",
       "  'expiry': 2524640400,\n",
       "  'httpOnly': False,\n",
       "  'name': 'NNB',\n",
       "  'path': '/',\n",
       "  'sameSite': 'None',\n",
       "  'secure': True,\n",
       "  'value': '6SEVKVFG67CFQ'},\n",
       " {'domain': '.naver.com',\n",
       "  'httpOnly': False,\n",
       "  'name': '_ga',\n",
       "  'path': '/',\n",
       "  'secure': True,\n",
       "  'value': 'GA1.1.681104808.1571202743'},\n",
       " {'domain': '.naver.com',\n",
       "  'httpOnly': False,\n",
       "  'name': '_ga_4BKHBFKFK0',\n",
       "  'path': '/',\n",
       "  'secure': True,\n",
       "  'value': 'GS1.1.1586186528.2.1.1586187710.4'},\n",
       " {'domain': '.naver.com',\n",
       "  'httpOnly': False,\n",
       "  'name': 'NID_SES',\n",
       "  'path': '/',\n",
       "  'secure': False,\n",
       "  'value': 'AAABhLBAKyE/NzN4jP///m1toO5zKcstnXJmZUDJuHx7yvWgd0YDoSAelhdDk9RL4MWBxo7W43LZKFJp6Z0NNreaV0yCGELMfpmLOPX6igO5TWYH3h0aXw/U5DYlkVbN7EkknxEIA7e2sN3xm2kuNyUUsgjkXVlTN/2j+LHx1Eqq0w41PmJuGVHhD18Pq834rYnPAuces0qS4C+7y1ZOTBd36AUTZtLZ3v+6Alfw1MLN32OQ/B0etSZxHRSiHOMED+8efq+/4vQyarO3w0sfRt52Mutr2FAf8hbzCu5eMZu2RA861Hhxx9hV+r2SCcyrooQq1R5ZrUWO8vS0K/oHJ1icWwSSfyTl+kSXLlmZvRwutBh9CDhTSyrKgMXRc5y5DA/3XfatZV2t9TOwQsXZ9a1X3nNd4LbdOrXHZixPuW56jJIPWtl6n5xde+Tm07CYAP2h5WlOVdn2GM08Re+FnVjlqsbFIhB5+3E//BzL/Hzw4/d5D74PBx08hzVc7Va2AoPuJH71bgVQRdj7vVYpFYx6lGQ='},\n",
       " {'domain': '.naver.com',\n",
       "  'httpOnly': False,\n",
       "  'name': 'NRTK',\n",
       "  'path': '/',\n",
       "  'secure': True,\n",
       "  'value': 'ag#20s_gr#1_ma#-2_si#1_en#-1_sp#-1'},\n",
       " {'domain': '.naver.com',\n",
       "  'httpOnly': False,\n",
       "  'name': 'nid_buk',\n",
       "  'path': '/',\n",
       "  'secure': True,\n",
       "  'value': '6SEVKVFG67CFQ'},\n",
       " {'domain': '.naver.com',\n",
       "  'httpOnly': False,\n",
       "  'name': 'ASID',\n",
       "  'path': '/',\n",
       "  'secure': True,\n",
       "  'value': 'dda7dfdf0000015cc3fa640f0000084e'},\n",
       " {'domain': '.naver.com',\n",
       "  'httpOnly': False,\n",
       "  'name': 'BMR',\n",
       "  'path': '/',\n",
       "  'secure': True,\n",
       "  'value': 's=1594955161016&r=https%3A%2F%2Fm.blog.naver.com%2Flatry%2F221875032122&r2=https%3A%2F%2Fwww.google.com%2F'},\n",
       " {'domain': '.naver.com',\n",
       "  'httpOnly': False,\n",
       "  'name': 'nid_enctp',\n",
       "  'path': '/',\n",
       "  'secure': True,\n",
       "  'value': '1'},\n",
       " {'domain': '.naver.com',\n",
       "  'httpOnly': False,\n",
       "  'name': 'NMUSER',\n",
       "  'path': '/',\n",
       "  'secure': True,\n",
       "  'value': 'udblKqEwaqbsKx2maxbrpBiGW4w0pxtZaqu9axEqaAtqaxvsFxuZKAnmaqns3xndFAKwFoUsHoKma9vsxonOaxRpa9vs6xRpaqRVaqns1rejL9Us6xRVaqnD16lvpB2RFLl5WLl5MBp0bSloWrdnaAvmKARqp6FTW43CbNvR16lvpB2RFLl5WLl5MBp0bSloWrdnaAvmKAn='},\n",
       " {'domain': '.naver.com',\n",
       "  'httpOnly': False,\n",
       "  'name': 'npic',\n",
       "  'path': '/',\n",
       "  'secure': True,\n",
       "  'value': 'c68RK4gr6yhDO3a5+28ze1WpXIGFBTXsbdQPjd6ZdYA7KkQyt9Kvh1tIsvc7pajiCA=='},\n",
       " {'domain': '.naver.com',\n",
       "  'httpOnly': False,\n",
       "  'name': 'nid_slevel',\n",
       "  'path': '/',\n",
       "  'secure': True,\n",
       "  'value': '-1'},\n",
       " {'domain': '.naver.com',\n",
       "  'httpOnly': False,\n",
       "  'name': 'page_uid',\n",
       "  'path': '/',\n",
       "  'secure': True,\n",
       "  'value': 'UxPl6wprvmsss7mUZmdssssstxZ-379268'},\n",
       " {'domain': '.naver.com',\n",
       "  'httpOnly': False,\n",
       "  'name': 'nx_ssl',\n",
       "  'path': '/',\n",
       "  'secure': True,\n",
       "  'value': '2'},\n",
       " {'domain': '.naver.com',\n",
       "  'httpOnly': False,\n",
       "  'name': 'nid_inf',\n",
       "  'path': '/',\n",
       "  'secure': False,\n",
       "  'value': '-1519187504'},\n",
       " {'domain': '.naver.com',\n",
       "  'httpOnly': False,\n",
       "  'name': 'nid_sec',\n",
       "  'path': '/',\n",
       "  'secure': True,\n",
       "  'value': 'Al6rfnFr2123DcyRLylIA4OtPSEWiYdzhVkQhEUOTb9XbD6Z6Wmcz/4Bl8rku54m'}]"
      ]
     },
     "execution_count": 185,
     "metadata": {},
     "output_type": "execute_result"
    }
   ],
   "source": [
    "driver.get_cookies() # 들어가있음"
   ]
  },
  {
   "cell_type": "code",
   "execution_count": 230,
   "metadata": {},
   "outputs": [],
   "source": [
    "# 메일로 가기. 'NMUSER'의 domain은 mail.naver.com 각 서비스마다 로그인 방식이 다른 듯.\n",
    "driver.add_cookie({'name': 'NMUSER',\n",
    "                   'value':'udblKqEwaqbsKx2maxbrpBiGW4w0pxtZaqu9axEdFqglFxtsFxuZKAnmaqns3xndFAKwaAMsHoKma9vsxonOaxRpa9vs6xRpaqRVaqns1rejL9Us6xRVaqnD16lvpB2RFLl5WLl5MBp0bSloWrdnaAvmKARqp6FTW43CbNvR16lvpB2RFLl5WLl5MBp0bSloWrdnaAvmKAn=',\n",
    "                   'domain':'mail.naver.com'})"
   ]
  },
  {
   "cell_type": "code",
   "execution_count": 231,
   "metadata": {},
   "outputs": [],
   "source": [
    "driver.get('https://www.naver.com') # 로그인 됨!"
   ]
  },
  {
   "cell_type": "code",
   "execution_count": 232,
   "metadata": {},
   "outputs": [],
   "source": [
    "driver.get('https://mail.naver.com')"
   ]
  },
  {
   "cell_type": "code",
   "execution_count": 224,
   "metadata": {},
   "outputs": [],
   "source": [
    "# driver.close()"
   ]
  },
  {
   "cell_type": "code",
   "execution_count": null,
   "metadata": {},
   "outputs": [],
   "source": [
    "# selenium에 내제된 dom을 활용하기"
   ]
  },
  {
   "cell_type": "code",
   "execution_count": 233,
   "metadata": {},
   "outputs": [
    {
     "data": {
      "text/plain": [
       "<selenium.webdriver.remote.webelement.WebElement (session=\"772d4a19c5eac432f4ef0bf0a8a29fd4\", element=\"93aa2a70-881e-4382-9d1f-71df918f96d3\")>"
      ]
     },
     "execution_count": 233,
     "metadata": {},
     "output_type": "execute_result"
    }
   ],
   "source": [
    "menu = driver.find_elements_by_css_selector('div.list_menu')[-1]\n",
    "menu.find_element_by_css_selector('a[href]') # 스팸메일함"
   ]
  },
  {
   "cell_type": "code",
   "execution_count": 234,
   "metadata": {},
   "outputs": [],
   "source": [
    "menu.find_element_by_css_selector('a[href]').click()"
   ]
  },
  {
   "cell_type": "code",
   "execution_count": 192,
   "metadata": {
    "collapsed": true,
    "jupyter": {
     "outputs_hidden": true
    }
   },
   "outputs": [
    {
     "name": "stdout",
     "output_type": "stream",
     "text": [
      "삼성증권\n",
      "사용자설정\n",
      "(광고)[삼성증권]보험(NEUTRAL) : 2Q preview - 실적 개선세 지속\n",
      "삼성증권\n",
      "사용자설정\n",
      "(광고)[삼성증권]리츠 : 싱가포르 ESR리츠, 사바나리츠 인수합병\n",
      "삼성증권\n",
      "사용자설정\n",
      "(광고)[삼성증권]헬스케어(OVERWEIGHT) : 코로나19 백신, 성공의 기운이 느껴진다.\n",
      "zzixx\n",
      "사용자설정\n",
      "(광고) 이소연님~ 폴꾸 해봤꾸? 폴라로이드&정사각4X4 사진인화 30% Sale!\n",
      "LinkedIn\n",
      "사용자설정\n",
      "Lee, people are looking at your LinkedIn profile\n",
      "삼성증권\n",
      "사용자설정\n",
      "(광고)[삼성증권]대체투자(OVERWEIGHT) - Weekly : 아마존웹서비스, 서울에 네번째 데이터센터 추가\n",
      "알라딘[뉴스레터]\n",
      "사용자설정\n",
      "(광고) 7월 특별선물! 써니/유리보틀, 빨대+파우치 세트\n",
      "알라딘[서재]\n",
      "사용자설정\n",
      "(광고) 사는 게 다 그렇지 뭐\n",
      "zzixx\n",
      "사용자설정\n",
      "(광고) [30% SALE] 사진인화 폴꾸용 2종, 7월 20일 오전 10시 START!\n",
      "삼성증권\n",
      "사용자설정\n",
      "(광고)[삼성증권]통신서비스(OVERWEIGHT) : 턴어라운드에 바짝 다가서다\n",
      "Petit Palace\n",
      "사용자설정\n",
      "Icon Valparaíso: a very mediterranean stay from 139€\n",
      "삼성증권\n",
      "사용자설정\n",
      "(광고)[삼성증권]헬스케어(OVERWEIGHT) : Moderna, 코로나19 백신 임상 1상 전체 데이터 공개\n",
      "탈잉 VOD\n",
      "사용자설정\n",
      "(광고) Solfa 컨텐츠 강의 마감 연장 안내\n",
      "삼성증권\n",
      "사용자설정\n",
      "(광고)[삼성증권]건설기계(Neutral) : 단기에는 중국 수혜주를 찾기 힘든 한국의 건설장비 섹터\n",
      "삼성증권\n",
      "사용자설정\n",
      "(광고)[삼성증권]Tech(OVERWEIGHT) : 중국 스마트폰 6월 실적: 5G의 명암\n",
      "Airbnb\n",
      "사용자설정\n",
      "부담 없이 가볍게 떠나는 국내 여행\n",
      "탈잉 - taling\n",
      "사용자설정\n",
      "(광고) 알아두면 유용한 PPT 찰떡 폰트\n",
      "LinkedIn\n",
      "사용자설정\n",
      "Lee, people are looking at your LinkedIn profile\n",
      "삼성증권\n",
      "사용자설정\n",
      "(광고)[삼성증권]부동산/건설(OVERWEIGHT) : 7/10 대책: 높아진 진입장벽\n",
      "탈잉 VOD\n",
      "사용자설정\n",
      "(광고) Solfa 유튜브 강의가 7/14 최종 마감됩니다.\n",
      "알라딘[뉴스레터]\n",
      "사용자설정\n",
      "(광고) 어린이 인기 시리즈 100 총집합! 어린왕자 세탁바구니\n",
      "알라딘[서재]\n",
      "사용자설정\n",
      "(광고) 다시, 읽고 싶어요\n",
      "삼성증권\n",
      "사용자설정\n",
      "(광고)[삼성증권]미디어(OVERWEIGHT) : 광고 - 고군분투\n",
      "Petit Palace\n",
      "사용자설정\n",
      "The Madrid sky from as little as 65€\n",
      "zzixx\n",
      "사용자설정\n",
      "(광고) 이소연님, 알뜰 홈테리어 사진액자&대형 파인프린트 SALE로 완성하세요! ~30%\n",
      "삼성증권\n",
      "사용자설정\n",
      "(광고)[삼성증권]조선/유틸리티 : Virtual Conference Takeaways: Industrial\n",
      "Airbnb\n",
      "사용자설정\n",
      "Great escapes—jet lag not included 🚗\n",
      "삼성증권\n",
      "사용자설정\n",
      "(광고)[삼성증권]자동차(NEUTRAL) : 2Q20 Preview: 상대평가, 절대평가 모두 좋은 종목\n",
      "zzixx\n",
      "사용자설정\n",
      "(광고) 7월 9일(목) 오전10시 START, 사진액자 & 대형파인프린트 30% 할인\n",
      "위메프\n",
      "사용자설정\n",
      "[특가대표! 위메프] 고객님의 위메프 ID가 휴면 상태로 전환될 예정입니다.\n"
     ]
    }
   ],
   "source": [
    "for _ in driver.find_elements_by_xpath('//ol/li//div[@class=\"mTitle\"]'):\n",
    "    print(_.text)"
   ]
  },
  {
   "cell_type": "code",
   "execution_count": null,
   "metadata": {},
   "outputs": [],
   "source": []
  },
  {
   "cell_type": "code",
   "execution_count": null,
   "metadata": {},
   "outputs": [],
   "source": []
  },
  {
   "cell_type": "code",
   "execution_count": 111,
   "metadata": {},
   "outputs": [],
   "source": [
    "driver.get('http://example.webscraping.com/places/default/search')"
   ]
  },
  {
   "cell_type": "code",
   "execution_count": 115,
   "metadata": {},
   "outputs": [],
   "source": [
    "driver.find_element_by_xpath('//input[@id=\"search_term\"]').clear()\n",
    "driver.find_element_by_xpath('//input[@id=\"search_term\"]').send_keys('korea')\n",
    "driver.find_element_by_xpath('//input[@id=\"search\"]').click()"
   ]
  },
  {
   "cell_type": "code",
   "execution_count": 117,
   "metadata": {},
   "outputs": [
    {
     "data": {
      "text/plain": [
       "'North Korea\\nSouth Korea'"
      ]
     },
     "execution_count": 117,
     "metadata": {},
     "output_type": "execute_result"
    }
   ],
   "source": [
    "driver.find_element_by_xpath('//div[@id=\"results\"]').text"
   ]
  },
  {
   "cell_type": "code",
   "execution_count": 120,
   "metadata": {},
   "outputs": [
    {
     "name": "stdout",
     "output_type": "stream",
     "text": [
      "North Korea\n",
      "South Korea\n"
     ]
    }
   ],
   "source": [
    "for _ in driver.find_elements_by_xpath('//div[@id=\"results\"]//td/div'):\n",
    "    print(_.text)"
   ]
  },
  {
   "cell_type": "code",
   "execution_count": 123,
   "metadata": {},
   "outputs": [
    {
     "name": "stdout",
     "output_type": "stream",
     "text": [
      "http://example.webscraping.com/places/default/view/North-Korea-165\n",
      "http://example.webscraping.com/places/static/images/flags/kp.png\n",
      "North Korea\n",
      "http://example.webscraping.com/places/default/view/South-Korea-211\n",
      "http://example.webscraping.com/places/static/images/flags/kr.png\n",
      "South Korea\n"
     ]
    }
   ],
   "source": [
    "for _ in driver.find_elements_by_xpath('//div[@id=\"results\"]//td/div'):\n",
    "    print(_.find_element_by_css_selector('a').get_attribute('href'))\n",
    "    print(_.find_element_by_css_selector('img').get_attribute('src'))\n",
    "    print(_.find_element_by_css_selector('a').text.strip())\n",
    "    #어제와 같은 결과"
   ]
  },
  {
   "cell_type": "code",
   "execution_count": null,
   "metadata": {},
   "outputs": [],
   "source": []
  },
  {
   "cell_type": "code",
   "execution_count": null,
   "metadata": {},
   "outputs": [],
   "source": [
    "# 어제와 같은 예시, 쿠키 불러오는게 얼마나 쉬워지는 지 봐라!"
   ]
  },
  {
   "cell_type": "code",
   "execution_count": 235,
   "metadata": {},
   "outputs": [],
   "source": [
    "driver.get('https://pubmed.ncbi.nlm.nih.gov/')"
   ]
  },
  {
   "cell_type": "code",
   "execution_count": 236,
   "metadata": {},
   "outputs": [],
   "source": [
    "driver.find_element_by_id('id_term').clear()\n",
    "driver.find_element_by_id('id_term').send_keys('COVID-19')\n",
    "driver.find_element_by_class_name('search-btn').click()"
   ]
  },
  {
   "cell_type": "code",
   "execution_count": 237,
   "metadata": {},
   "outputs": [
    {
     "data": {
      "text/plain": [
       "<bound method WebElement.click of <selenium.webdriver.remote.webelement.WebElement (session=\"772d4a19c5eac432f4ef0bf0a8a29fd4\", element=\"91b2d51d-16a4-47ed-8199-6da382f8e83a\")>>"
      ]
     },
     "execution_count": 237,
     "metadata": {},
     "output_type": "execute_result"
    }
   ],
   "source": [
    "driver.find_element_by_css_selector('.results-amount + button').click # show more 버튼"
   ]
  },
  {
   "cell_type": "code",
   "execution_count": 238,
   "metadata": {},
   "outputs": [],
   "source": [
    "from time import sleep\n",
    "for _ in range(4):\n",
    "    sleep(1) # 1초마다\n",
    "    driver.find_element_by_css_selector('.results-amount + button').click() # 5페이지까지 감"
   ]
  },
  {
   "cell_type": "code",
   "execution_count": 133,
   "metadata": {
    "collapsed": true,
    "jupyter": {
     "outputs_hidden": true
    }
   },
   "outputs": [
    {
     "name": "stdout",
     "output_type": "stream",
     "text": [
      "The neuroinvasive potential of SARS-CoV2 may play a role in the respiratory failure of COVID-19 patients.\n",
      "[Strategies for vaccine development of COVID-19].\n",
      "COVID-19 (Novel Coronavirus 2019) - recent trends.\n",
      "COVID-19 epidemic: Disease characteristics in children.\n",
      "Understanding of COVID-19 based on current evidence.\n",
      "Unique epidemiological and clinical features of the emerging 2019 novel coronavirus pneumonia (COVID-19) implicate special control measures.\n",
      "Perspectives on monoclonal antibody therapy as potential therapeutic intervention for Coronavirus disease-19 (COVID-19).\n",
      "What dentists need to know about COVID-19.\n",
      "Outcomes in Patients with COVID-19 Infection Taking ACEI/ARB.\n",
      "Current Status of Epidemiology, Diagnosis, Therapeutics, and Vaccines for Novel Coronavirus Disease 2019 (COVID-19).\n",
      "Review of the Clinical Characteristics of Coronavirus Disease 2019 (COVID-19).\n",
      "COVID-19: a review.\n",
      "[Analysis of the pregnancy outcomes in pregnant women with COVID-19 in Hubei Province].\n",
      "Coronavirus disease 2019 (COVID-19): current status and future perspectives.\n",
      "Nervous system involvement after infection with COVID-19 and other coronaviruses.\n",
      "Pulmonary Pathology of Early-Phase 2019 Novel Coronavirus (COVID-19) Pneumonia in Two Patients With Lung Cancer.\n",
      "The reproductive number of COVID-19 is higher compared to SARS coronavirus.\n",
      "COVID-19: Learning from Lessons To Guide Treatment and Prevention Interventions.\n",
      "COVID-19: The outbreak caused by a new coronavirus.\n",
      "The epidemiology, diagnosis and treatment of COVID-19.\n",
      "COVID-19 and Cancer: a Comprehensive Review.\n",
      "Report on the Epidemiological Features of Coronavirus Disease 2019 (COVID-19) Outbreak in the Republic of Korea from January 19 to March 2, 2020.\n",
      "World Health Organization declares global emergency: A review of the 2019 novel coronavirus (COVID-19).\n",
      "Updated diagnosis, treatment and prevention of COVID-19 in children: experts' consensus statement (condensed version of the second edition).\n",
      "The Effects of Social Support on Sleep Quality of Medical Staff Treating Patients with Coronavirus Disease 2019 (COVID-19) in January and February 2020 in China.\n",
      "A Review of Coronavirus Disease-2019 (COVID-19).\n",
      "The Incubation Period of Coronavirus Disease 2019 (COVID-19) From Publicly Reported Confirmed Cases: Estimation and Application.\n",
      "Clinical characteristics and intrauterine vertical transmission potential of COVID-19 infection in nine pregnant women: a retrospective review of medical records.\n",
      "The COVID-19 epidemic.\n",
      "Prognostic Value of Cardiovascular Biomarkers in COVID-19: A Review.\n",
      "Gross examination report of a COVID-19 death autopsy.\n",
      "COVID-19 transmission through asymptomatic carriers is a challenge to containment.\n",
      "Pathophysiology of COVID-19: Why Children Fare Better than Adults?\n",
      "Recurrence of positive SARS-CoV-2 RNA in COVID-19: A case report.\n",
      "Coronavirus disease 2019 (COVID-19): A literature review.\n",
      "Epidemiology of COVID-19.\n",
      "Potential pharmacological agents for COVID-19.\n",
      "Liver diseases in COVID-19: Etiology, treatment and prognosis.\n",
      "Scientific research progress of COVID-19/SARS-CoV-2 in the first five months.\n",
      "What we know so far: COVID-19 current clinical knowledge and research.\n",
      "[COVID-19 complicated with DIC: 2 cases report and literatures review].\n",
      "Clinical manifestation, diagnosis, prevention and control of SARS-CoV-2 (COVID-19) during the outbreak period.\n",
      "Clinical features and obstetric and neonatal outcomes of pregnant patients with COVID-19 in Wuhan, China: a retrospective, single-centre, descriptive study.\n",
      "Severe acute respiratory syndrome coronavirus 2 (SARS-CoV-2) and coronavirus disease-2019 (COVID-19): The epidemic and the challenges.\n",
      "Probable Pangolin Origin of SARS-CoV-2 Associated with the COVID-19 Outbreak.\n",
      "Venous thromboembolism in COVID-19 patients.\n",
      "Clinical characteristics of 19 neonates born to mothers with COVID-19.\n",
      "COVID-19: Epidemiology, Evolution, and Cross-Disciplinary Perspectives.\n",
      "The presence of SARS-CoV-2 RNA in the feces of COVID-19 patients.\n",
      "[Characteristics, causes, diagnosis and treatment of coagulation dysfunction in patients with COVID-19].\n"
     ]
    }
   ],
   "source": [
    "# 5페이지 내 title 다 찾아줌\n",
    "for _ in driver.find_elements_by_css_selector('a.docsum-title'):\n",
    "    print(_.text)"
   ]
  },
  {
   "cell_type": "code",
   "execution_count": null,
   "metadata": {},
   "outputs": [],
   "source": []
  },
  {
   "cell_type": "code",
   "execution_count": null,
   "metadata": {},
   "outputs": [],
   "source": [
    "# 이제 네이버 메일에서 로그아웃 시키기 (버튼 누르기)"
   ]
  },
  {
   "cell_type": "code",
   "execution_count": 239,
   "metadata": {},
   "outputs": [],
   "source": [
    "driver.get('https://mail.naver.com')"
   ]
  },
  {
   "cell_type": "code",
   "execution_count": 240,
   "metadata": {},
   "outputs": [],
   "source": [
    "btn = driver.find_element_by_id('gnb_logout_button')"
   ]
  },
  {
   "cell_type": "code",
   "execution_count": 241,
   "metadata": {},
   "outputs": [
    {
     "data": {
      "text/plain": [
       "(False, True)"
      ]
     },
     "execution_count": 241,
     "metadata": {},
     "output_type": "execute_result"
    }
   ],
   "source": [
    "btn.is_displayed(), btn.is_enabled() # 아직은 안보인다"
   ]
  },
  {
   "cell_type": "code",
   "execution_count": 242,
   "metadata": {},
   "outputs": [],
   "source": [
    "driver.find_element_by_id('gnb_my_namebox').click() # 내 정보를 클릭해야"
   ]
  },
  {
   "cell_type": "code",
   "execution_count": 243,
   "metadata": {},
   "outputs": [
    {
     "data": {
      "text/plain": [
       "(True, True)"
      ]
     },
     "execution_count": 243,
     "metadata": {},
     "output_type": "execute_result"
    }
   ],
   "source": [
    "btn.is_displayed(), btn.is_enabled() # 보인다"
   ]
  },
  {
   "cell_type": "code",
   "execution_count": 244,
   "metadata": {},
   "outputs": [],
   "source": [
    "# 이건 여기에 들어있는 error\n",
    "from selenium.common.exceptions import ElementNotVisibleException\n",
    "from selenium.common.exceptions import ElementNotInteractableException\n",
    "from selenium.common.exceptions import TimeoutException"
   ]
  },
  {
   "cell_type": "code",
   "execution_count": null,
   "metadata": {},
   "outputs": [],
   "source": [
    "# btn.click() # 로그아웃"
   ]
  },
  {
   "cell_type": "code",
   "execution_count": 142,
   "metadata": {},
   "outputs": [],
   "source": [
    "# 만약 팝업창 등때문에 바로 클릭하지 못하는 메뉴가 있다면?"
   ]
  },
  {
   "cell_type": "code",
   "execution_count": 219,
   "metadata": {},
   "outputs": [],
   "source": [
    "from selenium.webdriver.support.ui import WebDriverWait"
   ]
  },
  {
   "cell_type": "code",
   "execution_count": 246,
   "metadata": {},
   "outputs": [],
   "source": [
    "# sleep과 비슷한 역할, 팝업창이 5초 뒤에 사라진다면 5초 wait하고 클릭.\n",
    "wait = WebDriverWait(driver, 5, 0.5, 'ElementNotVisible Exception') \n",
    "# or wait~\n",
    "# 최대 5초동안 0.5초 간격으로 기다리면서 Element~ 에 대한 error는 무시해라"
   ]
  },
  {
   "cell_type": "code",
   "execution_count": 198,
   "metadata": {},
   "outputs": [
    {
     "name": "stdout",
     "output_type": "stream",
     "text": [
      "False True\n"
     ]
    }
   ],
   "source": [
    "# 5초동안 기다려라!\n",
    "try:\n",
    "    sleep(5)\n",
    "    print(btn.is_displayed(), btn.is_enabled())\n",
    "except (ElementNotVisibleException,\n",
    "        ElementNotInteractableException) as e:\n",
    "    print(e)"
   ]
  },
  {
   "cell_type": "code",
   "execution_count": 247,
   "metadata": {},
   "outputs": [
    {
     "name": "stdout",
     "output_type": "stream",
     "text": [
      "True True\n"
     ]
    }
   ],
   "source": [
    "# 무조건 5초 기다리지말고 이게 활성화 될 때까지 기다려라\n",
    "try:\n",
    "    wait.until(lambda d:d.find_element_by_id('gnb_logout_button').is_displayed())\n",
    "    print(btn.is_displayed(), btn.is_enabled())\n",
    "except (ElementNotVisibleException,\n",
    "        ElementNotInteractableException,\n",
    "        TimeoutException) as e:\n",
    "    print(e)"
   ]
  },
  {
   "cell_type": "code",
   "execution_count": null,
   "metadata": {},
   "outputs": [],
   "source": [
    "ElementNotVisibleException => 진짜로 눈에 안보일 때(있으나, 가려진 경우)\n",
    "ElementNotInteractableException => 코드에는 있으나 화면에 없을 때"
   ]
  },
  {
   "cell_type": "code",
   "execution_count": 250,
   "metadata": {},
   "outputs": [
    {
     "name": "stdout",
     "output_type": "stream",
     "text": [
      "창안뜸\n",
      "True True\n"
     ]
    }
   ],
   "source": [
    "# 만약 기다렸는데도 Timeout이 된다면? 직접 행동하도록 코드 짜주기\n",
    "try:\n",
    "    wait.until(lambda d:d.find_element_by_id('gnb_logout_button').is_displayed())\n",
    "    print(btn.is_displayed(), btn.is_enabled())\n",
    "except (TimeoutException) as e:\n",
    "    print('창안뜸')\n",
    "    driver.find_element_by_id('gnb_my_namebox').click() \n",
    "    print(btn.is_displayed(), btn.is_enabled())\n",
    "finally:\n",
    "    btn.click()"
   ]
  },
  {
   "cell_type": "code",
   "execution_count": 251,
   "metadata": {},
   "outputs": [
    {
     "data": {
      "text/plain": [
       "['CDwindow-13D5F1CDFA6528BD50F575570CC2B91E']"
      ]
     },
     "execution_count": 251,
     "metadata": {},
     "output_type": "execute_result"
    }
   ],
   "source": [
    "# 만약 여러개의 창을 열고 있었다면 아래 여러개 뜰 것임\n",
    "driver.window_handles"
   ]
  },
  {
   "cell_type": "code",
   "execution_count": 252,
   "metadata": {},
   "outputs": [
    {
     "name": "stderr",
     "output_type": "stream",
     "text": [
      "C:\\Users\\user\\Anaconda3\\lib\\site-packages\\ipykernel_launcher.py:2: DeprecationWarning: use driver.switch_to.window instead\n",
      "  \n"
     ]
    }
   ],
   "source": [
    "# 그 중 가고싶은 창 입력 \n",
    "driver.switch_to_window(driver.window_handles[0])"
   ]
  },
  {
   "cell_type": "code",
   "execution_count": 281,
   "metadata": {},
   "outputs": [],
   "source": [
    "driver.close()"
   ]
  },
  {
   "cell_type": "markdown",
   "metadata": {},
   "source": [
    "## NLP"
   ]
  },
  {
   "cell_type": "code",
   "execution_count": 255,
   "metadata": {},
   "outputs": [],
   "source": [
    "from konlpy.tag import Kkma"
   ]
  },
  {
   "cell_type": "code",
   "execution_count": 256,
   "metadata": {},
   "outputs": [],
   "source": [
    "from nltk.tag import pos_tag"
   ]
  },
  {
   "cell_type": "code",
   "execution_count": 261,
   "metadata": {},
   "outputs": [
    {
     "data": {
      "text/plain": [
       "[('you', 'PRP'), ('need', 'VBP'), ('python.', 'NNS')]"
      ]
     },
     "execution_count": 261,
     "metadata": {},
     "output_type": "execute_result"
    }
   ],
   "source": [
    "pos_tag('you need python.'.split(' '))"
   ]
  },
  {
   "cell_type": "code",
   "execution_count": 262,
   "metadata": {},
   "outputs": [
    {
     "name": "stdout",
     "output_type": "stream",
     "text": [
      "showing info https://raw.githubusercontent.com/nltk/nltk_data/gh-pages/index.xml\n"
     ]
    },
    {
     "data": {
      "text/plain": [
       "True"
      ]
     },
     "execution_count": 262,
     "metadata": {},
     "output_type": "execute_result"
    }
   ],
   "source": [
    "nltk.download() # 필요한거 다운로드 받기"
   ]
  },
  {
   "cell_type": "code",
   "execution_count": null,
   "metadata": {},
   "outputs": [],
   "source": [
    "우리말은 굴절어 -> 접미(어미)활용이 다양 -> 어절의 생김새, 형태가 다양\n",
    "음소 - 음절 - 어절 - 구 - 절 - 문장 - 문단 - 문서(문헌)\n",
    "자소 - 1글자 - 띄어쓰기 - 구/절 - 문장\n",
    "      (시작) (형태소/품사) (구문)\n",
    "token, vocabularay, term -> 어휘\n",
    "\n",
    "자동완성 : 파 -> 파이썬\n",
    "오탈자 : 마이썬 -> 파이썬"
   ]
  },
  {
   "cell_type": "code",
   "execution_count": null,
   "metadata": {},
   "outputs": [],
   "source": [
    "Trigem(조합형) - 완성형 - 확장완성형 - 유니코드(UTF-8)\n",
    "5bits*3(초/중/종성) - MS - 가-힣"
   ]
  },
  {
   "cell_type": "code",
   "execution_count": null,
   "metadata": {},
   "outputs": [],
   "source": [
    "색인(Indexing) : 문서의 구성성분 -> Vectorize\n",
    "\n",
    "NLP -> 통계 0> ?:많은 코퍼스(Written Text/corpus) 수집 -> 분석\n",
    "언어모델(Language Model) - 글의 표현 확률"
   ]
  },
  {
   "cell_type": "code",
   "execution_count": 264,
   "metadata": {},
   "outputs": [
    {
     "data": {
      "text/plain": [
       "['austen-emma.txt',\n",
       " 'austen-persuasion.txt',\n",
       " 'austen-sense.txt',\n",
       " 'bible-kjv.txt',\n",
       " 'blake-poems.txt',\n",
       " 'bryant-stories.txt',\n",
       " 'burgess-busterbrown.txt',\n",
       " 'carroll-alice.txt',\n",
       " 'chesterton-ball.txt',\n",
       " 'chesterton-brown.txt',\n",
       " 'chesterton-thursday.txt',\n",
       " 'edgeworth-parents.txt',\n",
       " 'melville-moby_dick.txt',\n",
       " 'milton-paradise.txt',\n",
       " 'shakespeare-caesar.txt',\n",
       " 'shakespeare-hamlet.txt',\n",
       " 'shakespeare-macbeth.txt',\n",
       " 'whitman-leaves.txt']"
      ]
     },
     "execution_count": 264,
     "metadata": {},
     "output_type": "execute_result"
    }
   ],
   "source": [
    "from nltk.corpus import gutenberg\n",
    "# 다양한 사람의 언어(말뭉치)가 들어가있음\n",
    "gutenberg.fileids()"
   ]
  },
  {
   "cell_type": "code",
   "execution_count": 265,
   "metadata": {},
   "outputs": [],
   "source": [
    "corpus = gutenberg.open(gutenberg.fileids()[0]).read()"
   ]
  },
  {
   "cell_type": "code",
   "execution_count": 267,
   "metadata": {},
   "outputs": [
    {
     "data": {
      "text/plain": [
       "(16823, 158167)"
      ]
     },
     "execution_count": 267,
     "metadata": {},
     "output_type": "execute_result"
    }
   ],
   "source": [
    "len(corpus.splitlines()), len(corpus.split()) # 줄, 띄어쓰기 구분, 16천개의 줄, 15만개의 '어절'"
   ]
  },
  {
   "cell_type": "code",
   "execution_count": 268,
   "metadata": {},
   "outputs": [],
   "source": [
    "# Tokenizing -> 비정형데이터를 Token 단위로 나누는 방법\n",
    "# 1. Sentence Tokenizing\n",
    "# 2. Word(어절) Tokenizing\n",
    "from nltk.tokenize import sent_tokenize\n",
    "from nltk.tokenize import word_tokenize\n",
    "from nltk.tokenize import TweetTokenizer\n",
    "from nltk.tokenize import regexp_tokenize"
   ]
  },
  {
   "cell_type": "code",
   "execution_count": 269,
   "metadata": {},
   "outputs": [
    {
     "data": {
      "text/plain": [
       "7493"
      ]
     },
     "execution_count": 269,
     "metadata": {},
     "output_type": "execute_result"
    }
   ],
   "source": [
    "len(sent_tokenize(corpus)) # 위와 차이가 난다! sentence 단위로 tokenize"
   ]
  },
  {
   "cell_type": "code",
   "execution_count": 270,
   "metadata": {},
   "outputs": [
    {
     "data": {
      "text/plain": [
       "191785"
      ]
     },
     "execution_count": 270,
     "metadata": {},
     "output_type": "execute_result"
    }
   ],
   "source": [
    "len(word_tokenize(corpus)) # 위 띄어쓰기로 한 것 보다 많다"
   ]
  },
  {
   "cell_type": "code",
   "execution_count": 271,
   "metadata": {},
   "outputs": [
    {
     "data": {
      "text/plain": [
       "(193228, 161983)"
      ]
     },
     "execution_count": 271,
     "metadata": {},
     "output_type": "execute_result"
    }
   ],
   "source": [
    "len(TweetTokenizer().tokenize(corpus)), \\ # Tweet = 구어체 :) 이나 :( 이런거까지 생각함\n",
    "len(regexp_tokenize(corpus, r'\\b(\\w+)\\b'))  # '어절'이란 하나의 패턴을 만들어 줌"
   ]
  },
  {
   "cell_type": "code",
   "execution_count": null,
   "metadata": {},
   "outputs": [],
   "source": [
    "# 어떤 걸 사용했냐에 따라 추출된 token 갯수가 다름"
   ]
  },
  {
   "cell_type": "code",
   "execution_count": 272,
   "metadata": {},
   "outputs": [
    {
     "data": {
      "text/plain": [
       "(5, 7)"
      ]
     },
     "execution_count": 272,
     "metadata": {},
     "output_type": "execute_result"
    }
   ],
   "source": [
    "data = '''\n",
    "술 한잔 마셨습니다... 영화가 잘 안되도 좋습니다. 하지만 엄복동 하나만\n",
    "기억해 주세요. 진심을 다해 전합니다. 영화가 별로일 수 있습니다.\n",
    "밤낮으로 고민하고 연기했습니다... 최선을 다했고 열심히 했습니다.\n",
    "저의 진심이 느껴지길 바랍니다. 고맙습니다....\n",
    "'''\n",
    "len(data.splitlines()), len(sent_tokenize(data))"
   ]
  },
  {
   "cell_type": "code",
   "execution_count": 273,
   "metadata": {},
   "outputs": [
    {
     "data": {
      "text/plain": [
       "['\\n술 한잔 마셨습니다... 영화가 잘 안되도 좋습니다.',\n",
       " '하지만 엄복동 하나만\\n기억해 주세요.',\n",
       " '진심을 다해 전합니다.',\n",
       " '영화가 별로일 수 있습니다.',\n",
       " '밤낮으로 고민하고 연기했습니다... 최선을 다했고 열심히 했습니다.',\n",
       " '저의 진심이 느껴지길 바랍니다.',\n",
       " '고맙습니다....']"
      ]
     },
     "execution_count": 273,
     "metadata": {},
     "output_type": "execute_result"
    }
   ],
   "source": [
    "sent_tokenize(data) # ... 부분을 문장의 일부라 인식하여 안짜름"
   ]
  },
  {
   "cell_type": "code",
   "execution_count": 299,
   "metadata": {},
   "outputs": [
    {
     "data": {
      "text/plain": [
       "(5, 9)"
      ]
     },
     "execution_count": 299,
     "metadata": {},
     "output_type": "execute_result"
    }
   ],
   "source": [
    "data = '''\n",
    "술 한잔 마셨습니다...? 영화가 잘 안되도 좋습니다. 하지만 엄복동 하나만\n",
    "기억해 주세요. 진심을 다해 전합니다. 영화가 별로일 수 있습니다.\n",
    "밤낮으로 고민하고 연기했습니다...! 최선을 다했고 열심히 했습니다.\n",
    "저의 진심이 느껴지길 바랍니다. 고맙습니다....\n",
    "'''\n",
    "len(data.splitlines()), len(sent_tokenize(data))"
   ]
  },
  {
   "cell_type": "code",
   "execution_count": 277,
   "metadata": {},
   "outputs": [
    {
     "data": {
      "text/plain": [
       "['\\n술 한잔 마셨습니다...?영화가 잘 안되도 좋습니다.',\n",
       " '하지만 엄복동 하나만\\n기억해 주세요.',\n",
       " '진심을 다해 전합니다.',\n",
       " '영화가 별로일 수 있습니다.',\n",
       " '밤낮으로 고민하고 연기했습니다...!',\n",
       " '최선을 다했고 열심히 했습니다.',\n",
       " '저의 진심이 느껴지길 바랍니다.',\n",
       " '고맙습니다....']"
      ]
     },
     "execution_count": 277,
     "metadata": {},
     "output_type": "execute_result"
    }
   ],
   "source": [
    "# 띄어쓰기 + 문장부호를 기반으로 문장 분리 ., !, ? -> 분리, \n",
    "# 문장 중간에 나오먄(띄어쓰기x) 분리 x\n",
    "# 보통 문어체표현만 가능함. 구어체면 좀 힘들어짐. 띄어쓰기, 문장부호 등 형식이 지켜지지 않음\n",
    "sent_tokenize(data)"
   ]
  },
  {
   "cell_type": "code",
   "execution_count": 279,
   "metadata": {},
   "outputs": [],
   "source": [
    "# 그럼 문장부호는 뭔데?\n",
    "from string import punctuation"
   ]
  },
  {
   "cell_type": "code",
   "execution_count": 280,
   "metadata": {},
   "outputs": [
    {
     "data": {
      "text/plain": [
       "'!\"#$%&\\'()*+,-./:;<=>?@[\\\\]^_`{|}~'"
      ]
     },
     "execution_count": 280,
     "metadata": {},
     "output_type": "execute_result"
    }
   ],
   "source": [
    "punctuation # 이런 것!"
   ]
  },
  {
   "cell_type": "code",
   "execution_count": 282,
   "metadata": {
    "collapsed": true,
    "jupyter": {
     "outputs_hidden": true
    }
   },
   "outputs": [
    {
     "data": {
      "text/plain": [
       "['술',\n",
       " '한잔',\n",
       " '마셨습니다',\n",
       " '...',\n",
       " '?',\n",
       " '영화가',\n",
       " '잘',\n",
       " '안되도',\n",
       " '좋습니다',\n",
       " '.',\n",
       " '하지만',\n",
       " '엄복동',\n",
       " '하나만',\n",
       " '기억해',\n",
       " '주세요',\n",
       " '.',\n",
       " '진심을',\n",
       " '다해',\n",
       " '전합니다',\n",
       " '.',\n",
       " '영화가',\n",
       " '별로일',\n",
       " '수',\n",
       " '있습니다',\n",
       " '.',\n",
       " '밤낮으로',\n",
       " '고민하고',\n",
       " '연기했습니다',\n",
       " '...',\n",
       " '!',\n",
       " '최선을',\n",
       " '다했고',\n",
       " '열심히',\n",
       " '했습니다',\n",
       " '.',\n",
       " '저의',\n",
       " '진심이',\n",
       " '느껴지길',\n",
       " '바랍니다',\n",
       " '.',\n",
       " '고맙습니다',\n",
       " '...',\n",
       " '.']"
      ]
     },
     "execution_count": 282,
     "metadata": {},
     "output_type": "execute_result"
    }
   ],
   "source": [
    "word_tokenize(data) # 기본적으로 띄어쓰기 기반 + punctuation으로 나눔. ...은 줄임말로 인식한 듯"
   ]
  },
  {
   "cell_type": "code",
   "execution_count": 287,
   "metadata": {
    "collapsed": true,
    "jupyter": {
     "outputs_hidden": true
    }
   },
   "outputs": [
    {
     "data": {
      "text/plain": [
       "['술',\n",
       " '한잔',\n",
       " '마셨습니다',\n",
       " '...',\n",
       " '?',\n",
       " '영화가',\n",
       " '잘',\n",
       " '안되도',\n",
       " '좋습니다.',\n",
       " '하지만',\n",
       " '엄복동',\n",
       " '하나만',\n",
       " '기억해',\n",
       " '주세요.',\n",
       " '진심을',\n",
       " '다해',\n",
       " '전합니다.',\n",
       " '영화가',\n",
       " '별로일',\n",
       " '수',\n",
       " '있습니다.',\n",
       " '밤낮으로',\n",
       " '고민하고',\n",
       " '연기했습니다',\n",
       " '...',\n",
       " '!',\n",
       " '최선을',\n",
       " '다했고',\n",
       " '열심히',\n",
       " '했습니다.',\n",
       " '저의',\n",
       " '진심이',\n",
       " '느껴지길',\n",
       " '바랍니다.',\n",
       " '고맙습니다',\n",
       " '...',\n",
       " '.']"
      ]
     },
     "execution_count": 287,
     "metadata": {},
     "output_type": "execute_result"
    }
   ],
   "source": [
    "word_tokenize(data, preserve_line=True) # 문장의 구둣점을 마지막 어절과 함께 취급"
   ]
  },
  {
   "cell_type": "code",
   "execution_count": 283,
   "metadata": {
    "collapsed": true,
    "jupyter": {
     "outputs_hidden": true
    }
   },
   "outputs": [
    {
     "data": {
      "text/plain": [
       "['술',\n",
       " '한잔',\n",
       " '마셨습니다',\n",
       " '...',\n",
       " '?',\n",
       " '영화가',\n",
       " '잘',\n",
       " '안되도',\n",
       " '좋습니다',\n",
       " '.',\n",
       " '하지만',\n",
       " '엄복동',\n",
       " '하나만',\n",
       " '기억해',\n",
       " '주세요',\n",
       " '.',\n",
       " '진심을',\n",
       " '다해',\n",
       " '전합니다',\n",
       " '.',\n",
       " '영화가',\n",
       " '별로일',\n",
       " '수',\n",
       " '있습니다',\n",
       " '.',\n",
       " '밤낮으로',\n",
       " '고민하고',\n",
       " '연기했습니다',\n",
       " '...',\n",
       " '!',\n",
       " '최선을',\n",
       " '다했고',\n",
       " '열심히',\n",
       " '했습니다',\n",
       " '.',\n",
       " '저의',\n",
       " '진심이',\n",
       " '느껴지길',\n",
       " '바랍니다',\n",
       " '.',\n",
       " '고맙습니다',\n",
       " '...']"
      ]
     },
     "execution_count": 283,
     "metadata": {},
     "output_type": "execute_result"
    }
   ],
   "source": [
    "TweetTokenizer().tokenize(data) # Tweet으로 하면 "
   ]
  },
  {
   "cell_type": "code",
   "execution_count": 284,
   "metadata": {},
   "outputs": [
    {
     "data": {
      "text/plain": [
       "(43, 42)"
      ]
     },
     "execution_count": 284,
     "metadata": {},
     "output_type": "execute_result"
    }
   ],
   "source": [
    "len(word_tokenize(data)), len(TweetTokenizer().tokenize(data)) # 마지막 ... 때문"
   ]
  },
  {
   "cell_type": "code",
   "execution_count": 291,
   "metadata": {
    "collapsed": true,
    "jupyter": {
     "outputs_hidden": true
    }
   },
   "outputs": [
    {
     "data": {
      "text/plain": [
       "['술',\n",
       " '한잔',\n",
       " '마셨습니다',\n",
       " '영화가',\n",
       " '잘',\n",
       " '안되도',\n",
       " '좋습니다',\n",
       " '하지만',\n",
       " '엄복동',\n",
       " '하나만',\n",
       " '기억해',\n",
       " '주세요',\n",
       " '진심을',\n",
       " '다해',\n",
       " '전합니다',\n",
       " '영화가',\n",
       " '별로일',\n",
       " '수',\n",
       " '있습니다',\n",
       " '밤낮으로',\n",
       " '고민하고',\n",
       " '연기했습니다',\n",
       " '최선을',\n",
       " '다했고',\n",
       " '열심히',\n",
       " '했습니다',\n",
       " '저의',\n",
       " '진심이',\n",
       " '느껴지길',\n",
       " '바랍니다',\n",
       " '고맙습니다']"
      ]
     },
     "execution_count": 291,
     "metadata": {},
     "output_type": "execute_result"
    }
   ],
   "source": [
    "regexp_tokenize(data, r'\\b(\\w+)\\b') # 딱 설정해 놓은 포멧의 '어절'들만 가져옴. 문장부호 다 날림"
   ]
  },
  {
   "cell_type": "code",
   "execution_count": 292,
   "metadata": {
    "collapsed": true,
    "jupyter": {
     "outputs_hidden": true
    }
   },
   "outputs": [
    {
     "data": {
      "text/plain": [
       "['술',\n",
       " '한잔',\n",
       " '마셨습니다',\n",
       " '영화가',\n",
       " '잘',\n",
       " '안되도',\n",
       " '좋습니다',\n",
       " '하지만',\n",
       " '엄복동',\n",
       " '하나만',\n",
       " '기억해',\n",
       " '주세요',\n",
       " '진심을',\n",
       " '다해',\n",
       " '전합니다',\n",
       " '영화가',\n",
       " '별로일',\n",
       " '수',\n",
       " '있습니다',\n",
       " '밤낮으로',\n",
       " '고민하고',\n",
       " '연기했습니다',\n",
       " '최선을',\n",
       " '다했고',\n",
       " '열심히',\n",
       " '했습니다',\n",
       " '저의',\n",
       " '진심이',\n",
       " '느껴지길',\n",
       " '바랍니다',\n",
       " '고맙습니다']"
      ]
     },
     "execution_count": 292,
     "metadata": {},
     "output_type": "execute_result"
    }
   ],
   "source": [
    "regexp_tokenize(data, r'\\s?([가-힣0-9<>^]+)\\s?') # 위와 같은 결과"
   ]
  },
  {
   "cell_type": "code",
   "execution_count": 293,
   "metadata": {},
   "outputs": [],
   "source": [
    "from nltk import Text"
   ]
  },
  {
   "cell_type": "code",
   "execution_count": 294,
   "metadata": {},
   "outputs": [],
   "source": [
    "emma = Text(word_tokenize(corpus), name='Emma') # Text = 주로 빈도수 분석을 위해 쓰임."
   ]
  },
  {
   "cell_type": "code",
   "execution_count": 303,
   "metadata": {},
   "outputs": [
    {
     "data": {
      "image/png": "[encoded data removed]",
      "text/plain": [
       "<Figure size 432x288 with 1 Axes>"
      ]
     },
     "metadata": {
      "needs_background": "light"
     },
     "output_type": "display_data"
    },
    {
     "data": {
      "text/plain": [
       "<function matplotlib.pyplot.show(*args, **kw)>"
      ]
     },
     "execution_count": 303,
     "metadata": {},
     "output_type": "execute_result"
    }
   ],
   "source": [
    "import matplotlib.pyplot as plt # 이렇게\n",
    "emma.plot(10)\n",
    "plt.show"
   ]
  },
  {
   "cell_type": "code",
   "execution_count": 295,
   "metadata": {},
   "outputs": [
    {
     "data": {
      "text/plain": [
       "(191785, 8406)"
      ]
     },
     "execution_count": 295,
     "metadata": {},
     "output_type": "execute_result"
    }
   ],
   "source": [
    "len(emma), len(set(emma)) # 8406개의 unique 한 word가 약 평균 20번 나온 것"
   ]
  },
  {
   "cell_type": "code",
   "execution_count": null,
   "metadata": {},
   "outputs": [],
   "source": [
    "emma.vocab() # 빈도분포를 알려줌"
   ]
  },
  {
   "cell_type": "code",
   "execution_count": 300,
   "metadata": {},
   "outputs": [
    {
     "data": {
      "text/plain": [
       "[(',', 12016),\n",
       " ('.', 6355),\n",
       " ('to', 5125),\n",
       " ('the', 4844),\n",
       " ('and', 4653),\n",
       " ('of', 4272),\n",
       " ('I', 3177),\n",
       " ('--', 3100),\n",
       " ('a', 3001),\n",
       " (\"''\", 2452)]"
      ]
     },
     "execution_count": 300,
     "metadata": {},
     "output_type": "execute_result"
    }
   ],
   "source": [
    "emma.vocab().most_common(10) # 제일 흔한 10개"
   ]
  },
  {
   "cell_type": "code",
   "execution_count": 301,
   "metadata": {},
   "outputs": [
    {
     "data": {
      "text/plain": [
       "48995"
      ]
     },
     "execution_count": 301,
     "metadata": {},
     "output_type": "execute_result"
    }
   ],
   "source": [
    "sum([_[1] for _ in emma.vocab().most_common(10)]) # 이 10개가 총 19만개중 5만 개 정도 차지"
   ]
  },
  {
   "cell_type": "code",
   "execution_count": null,
   "metadata": {},
   "outputs": [],
   "source": []
  }
 ],
 "metadata": {
  "kernelspec": {
   "display_name": "Python 3",
   "language": "python",
   "name": "python3"
  },
  "language_info": {
   "codemirror_mode": {
    "name": "ipython",
    "version": 3
   },
   "file_extension": ".py",
   "mimetype": "text/x-python",
   "name": "python",
   "nbconvert_exporter": "python",
   "pygments_lexer": "ipython3",
   "version": "3.8.5"
  }
 },
 "nbformat": 4,
 "nbformat_minor": 4
}
