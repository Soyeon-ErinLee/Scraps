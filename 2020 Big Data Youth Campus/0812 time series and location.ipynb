{
 "cells": [
  {
   "cell_type": "code",
   "execution_count": 1,
   "metadata": {},
   "outputs": [],
   "source": [
    "import time\n",
    "import calendar\n",
    "import datetime"
   ]
  },
  {
   "cell_type": "code",
   "execution_count": 2,
   "metadata": {},
   "outputs": [
    {
     "data": {
      "text/plain": [
       "1597193065.67867"
      ]
     },
     "execution_count": 2,
     "metadata": {},
     "output_type": "execute_result"
    }
   ],
   "source": [
    "time.time()"
   ]
  },
  {
   "cell_type": "code",
   "execution_count": 4,
   "metadata": {},
   "outputs": [
    {
     "name": "stdout",
     "output_type": "stream",
     "text": [
      "                                  2020\n",
      "\n",
      "      January                   February                   March\n",
      "Mo Tu We Th Fr Sa Su      Mo Tu We Th Fr Sa Su      Mo Tu We Th Fr Sa Su\n",
      "       1  2  3  4  5                      1  2                         1\n",
      " 6  7  8  9 10 11 12       3  4  5  6  7  8  9       2  3  4  5  6  7  8\n",
      "13 14 15 16 17 18 19      10 11 12 13 14 15 16       9 10 11 12 13 14 15\n",
      "20 21 22 23 24 25 26      17 18 19 20 21 22 23      16 17 18 19 20 21 22\n",
      "27 28 29 30 31            24 25 26 27 28 29         23 24 25 26 27 28 29\n",
      "                                                    30 31\n",
      "\n",
      "       April                      May                       June\n",
      "Mo Tu We Th Fr Sa Su      Mo Tu We Th Fr Sa Su      Mo Tu We Th Fr Sa Su\n",
      "       1  2  3  4  5                   1  2  3       1  2  3  4  5  6  7\n",
      " 6  7  8  9 10 11 12       4  5  6  7  8  9 10       8  9 10 11 12 13 14\n",
      "13 14 15 16 17 18 19      11 12 13 14 15 16 17      15 16 17 18 19 20 21\n",
      "20 21 22 23 24 25 26      18 19 20 21 22 23 24      22 23 24 25 26 27 28\n",
      "27 28 29 30               25 26 27 28 29 30 31      29 30\n",
      "\n",
      "        July                     August                  September\n",
      "Mo Tu We Th Fr Sa Su      Mo Tu We Th Fr Sa Su      Mo Tu We Th Fr Sa Su\n",
      "       1  2  3  4  5                      1  2          1  2  3  4  5  6\n",
      " 6  7  8  9 10 11 12       3  4  5  6  7  8  9       7  8  9 10 11 12 13\n",
      "13 14 15 16 17 18 19      10 11 12 13 14 15 16      14 15 16 17 18 19 20\n",
      "20 21 22 23 24 25 26      17 18 19 20 21 22 23      21 22 23 24 25 26 27\n",
      "27 28 29 30 31            24 25 26 27 28 29 30      28 29 30\n",
      "                          31\n",
      "\n",
      "      October                   November                  December\n",
      "Mo Tu We Th Fr Sa Su      Mo Tu We Th Fr Sa Su      Mo Tu We Th Fr Sa Su\n",
      "          1  2  3  4                         1          1  2  3  4  5  6\n",
      " 5  6  7  8  9 10 11       2  3  4  5  6  7  8       7  8  9 10 11 12 13\n",
      "12 13 14 15 16 17 18       9 10 11 12 13 14 15      14 15 16 17 18 19 20\n",
      "19 20 21 22 23 24 25      16 17 18 19 20 21 22      21 22 23 24 25 26 27\n",
      "26 27 28 29 30 31         23 24 25 26 27 28 29      28 29 30 31\n",
      "                          30\n",
      "\n"
     ]
    }
   ],
   "source": [
    "print(calendar.calendar(2020))"
   ]
  },
  {
   "cell_type": "code",
   "execution_count": 9,
   "metadata": {},
   "outputs": [],
   "source": [
    "import sys as s"
   ]
  },
  {
   "cell_type": "code",
   "execution_count": 10,
   "metadata": {},
   "outputs": [
    {
     "data": {
      "text/plain": [
       "True"
      ]
     },
     "execution_count": 10,
     "metadata": {},
     "output_type": "execute_result"
    }
   ],
   "source": [
    "datetime.sys is s # datetime에 내제되어 있는 기능"
   ]
  },
  {
   "cell_type": "code",
   "execution_count": 11,
   "metadata": {},
   "outputs": [
    {
     "data": {
      "text/plain": [
       "1"
      ]
     },
     "execution_count": 11,
     "metadata": {},
     "output_type": "execute_result"
    }
   ],
   "source": [
    "datetime.MINYEAR"
   ]
  },
  {
   "cell_type": "code",
   "execution_count": 12,
   "metadata": {},
   "outputs": [
    {
     "data": {
      "text/plain": [
       "9999"
      ]
     },
     "execution_count": 12,
     "metadata": {},
     "output_type": "execute_result"
    }
   ],
   "source": [
    "datetime.MAXYEAR"
   ]
  },
  {
   "cell_type": "code",
   "execution_count": 14,
   "metadata": {},
   "outputs": [],
   "source": [
    "dt = datetime.date(2020,8,12)"
   ]
  },
  {
   "cell_type": "code",
   "execution_count": 15,
   "metadata": {},
   "outputs": [
    {
     "data": {
      "text/plain": [
       "datetime.time(23, 42)"
      ]
     },
     "execution_count": 15,
     "metadata": {},
     "output_type": "execute_result"
    }
   ],
   "source": [
    "datetime.time(23,42)"
   ]
  },
  {
   "cell_type": "code",
   "execution_count": 17,
   "metadata": {},
   "outputs": [],
   "source": [
    "a = datetime.datetime(year=2020, month=4, day =4)"
   ]
  },
  {
   "cell_type": "code",
   "execution_count": 18,
   "metadata": {},
   "outputs": [],
   "source": [
    "b = datetime.datetime(year=2020, month=7, day =4)"
   ]
  },
  {
   "cell_type": "code",
   "execution_count": 19,
   "metadata": {},
   "outputs": [
    {
     "data": {
      "text/plain": [
       "datetime.timedelta(days=91)"
      ]
     },
     "execution_count": 19,
     "metadata": {},
     "output_type": "execute_result"
    }
   ],
   "source": [
    "b-a # 시간의 연산"
   ]
  },
  {
   "cell_type": "code",
   "execution_count": 20,
   "metadata": {},
   "outputs": [
    {
     "data": {
      "text/plain": [
       "datetime.datetime(2020, 5, 24, 0, 0)"
      ]
     },
     "execution_count": 20,
     "metadata": {},
     "output_type": "execute_result"
    }
   ],
   "source": [
    "a + datetime.timedelta(50) # 50일 더해줌"
   ]
  },
  {
   "cell_type": "code",
   "execution_count": 21,
   "metadata": {},
   "outputs": [
    {
     "data": {
      "text/plain": [
       "datetime.datetime(2020, 8, 12, 10, 7, 30, 525361)"
      ]
     },
     "execution_count": 21,
     "metadata": {},
     "output_type": "execute_result"
    }
   ],
   "source": [
    "a.now() # 내 시스템 기반 시간"
   ]
  },
  {
   "cell_type": "code",
   "execution_count": 22,
   "metadata": {},
   "outputs": [
    {
     "data": {
      "text/plain": [
       "datetime.datetime(2020, 8, 12, 1, 7, 40, 714018)"
      ]
     },
     "execution_count": 22,
     "metadata": {},
     "output_type": "execute_result"
    }
   ],
   "source": [
    "a.utcnow() # 표준 시간"
   ]
  },
  {
   "cell_type": "code",
   "execution_count": 23,
   "metadata": {},
   "outputs": [
    {
     "data": {
      "text/plain": [
       "'2020년 04-04'"
      ]
     },
     "execution_count": 23,
     "metadata": {},
     "output_type": "execute_result"
    }
   ],
   "source": [
    "a.strftime('%Y년 %m-%d')"
   ]
  },
  {
   "cell_type": "code",
   "execution_count": 33,
   "metadata": {},
   "outputs": [
    {
     "data": {
      "text/plain": [
       "datetime.datetime(2020, 4, 3, 0, 0)"
      ]
     },
     "execution_count": 33,
     "metadata": {},
     "output_type": "execute_result"
    }
   ],
   "source": [
    "a.strptime('2020/3/4','%Y/%d/%m') # 이걸 datetime format형태로 parsing해줘라"
   ]
  },
  {
   "cell_type": "code",
   "execution_count": 24,
   "metadata": {},
   "outputs": [
    {
     "data": {
      "text/plain": [
       "1585926000.0"
      ]
     },
     "execution_count": 24,
     "metadata": {},
     "output_type": "execute_result"
    }
   ],
   "source": [
    "a.timestamp()"
   ]
  },
  {
   "cell_type": "code",
   "execution_count": 29,
   "metadata": {},
   "outputs": [],
   "source": [
    "x = datetime.datetime(1971,1,1,1,1,1)"
   ]
  },
  {
   "cell_type": "code",
   "execution_count": 30,
   "metadata": {},
   "outputs": [
    {
     "data": {
      "text/plain": [
       "31507261.0"
      ]
     },
     "execution_count": 30,
     "metadata": {},
     "output_type": "execute_result"
    }
   ],
   "source": [
    "x.timestamp()"
   ]
  },
  {
   "cell_type": "code",
   "execution_count": 34,
   "metadata": {},
   "outputs": [],
   "source": [
    "import dateutil"
   ]
  },
  {
   "cell_type": "code",
   "execution_count": 35,
   "metadata": {},
   "outputs": [
    {
     "data": {
      "text/plain": [
       "datetime.datetime(2022, 3, 4, 0, 0)"
      ]
     },
     "execution_count": 35,
     "metadata": {},
     "output_type": "execute_result"
    }
   ],
   "source": [
    "dateutil.parser.parse('2022/03/04')"
   ]
  },
  {
   "cell_type": "code",
   "execution_count": 38,
   "metadata": {},
   "outputs": [
    {
     "data": {
      "text/plain": [
       "(datetime.datetime(2047, 1, 1, 8, 21), ('Today is ', ' ', ' ', 'at '))"
      ]
     },
     "execution_count": 38,
     "metadata": {},
     "output_type": "execute_result"
    }
   ],
   "source": [
    "dateutil.parser.parse(\"Today is January 1, 2047 at 8:21:00AM\", fuzzy_with_tokens=True)"
   ]
  },
  {
   "cell_type": "code",
   "execution_count": 37,
   "metadata": {},
   "outputs": [],
   "source": [
    "import pandas as pd"
   ]
  },
  {
   "cell_type": "code",
   "execution_count": 43,
   "metadata": {},
   "outputs": [],
   "source": [
    "data = pd.read_csv('u.data',sep='\\t', header=None, names=['user id','item id','rating','timestamp'])"
   ]
  },
  {
   "cell_type": "code",
   "execution_count": 44,
   "metadata": {},
   "outputs": [
    {
     "data": {
      "text/html": [
       "<div>\n",
       "<style scoped>\n",
       "    .dataframe tbody tr th:only-of-type {\n",
       "        vertical-align: middle;\n",
       "    }\n",
       "\n",
       "    .dataframe tbody tr th {\n",
       "        vertical-align: top;\n",
       "    }\n",
       "\n",
       "    .dataframe thead th {\n",
       "        text-align: right;\n",
       "    }\n",
       "</style>\n",
       "<table border=\"1\" class=\"dataframe\">\n",
       "  <thead>\n",
       "    <tr style=\"text-align: right;\">\n",
       "      <th></th>\n",
       "      <th>user id</th>\n",
       "      <th>item id</th>\n",
       "      <th>rating</th>\n",
       "      <th>timestamp</th>\n",
       "    </tr>\n",
       "  </thead>\n",
       "  <tbody>\n",
       "    <tr>\n",
       "      <th>0</th>\n",
       "      <td>196</td>\n",
       "      <td>242</td>\n",
       "      <td>3</td>\n",
       "      <td>881250949</td>\n",
       "    </tr>\n",
       "    <tr>\n",
       "      <th>1</th>\n",
       "      <td>186</td>\n",
       "      <td>302</td>\n",
       "      <td>3</td>\n",
       "      <td>891717742</td>\n",
       "    </tr>\n",
       "    <tr>\n",
       "      <th>2</th>\n",
       "      <td>22</td>\n",
       "      <td>377</td>\n",
       "      <td>1</td>\n",
       "      <td>878887116</td>\n",
       "    </tr>\n",
       "    <tr>\n",
       "      <th>3</th>\n",
       "      <td>244</td>\n",
       "      <td>51</td>\n",
       "      <td>2</td>\n",
       "      <td>880606923</td>\n",
       "    </tr>\n",
       "    <tr>\n",
       "      <th>4</th>\n",
       "      <td>166</td>\n",
       "      <td>346</td>\n",
       "      <td>1</td>\n",
       "      <td>886397596</td>\n",
       "    </tr>\n",
       "    <tr>\n",
       "      <th>...</th>\n",
       "      <td>...</td>\n",
       "      <td>...</td>\n",
       "      <td>...</td>\n",
       "      <td>...</td>\n",
       "    </tr>\n",
       "    <tr>\n",
       "      <th>99995</th>\n",
       "      <td>880</td>\n",
       "      <td>476</td>\n",
       "      <td>3</td>\n",
       "      <td>880175444</td>\n",
       "    </tr>\n",
       "    <tr>\n",
       "      <th>99996</th>\n",
       "      <td>716</td>\n",
       "      <td>204</td>\n",
       "      <td>5</td>\n",
       "      <td>879795543</td>\n",
       "    </tr>\n",
       "    <tr>\n",
       "      <th>99997</th>\n",
       "      <td>276</td>\n",
       "      <td>1090</td>\n",
       "      <td>1</td>\n",
       "      <td>874795795</td>\n",
       "    </tr>\n",
       "    <tr>\n",
       "      <th>99998</th>\n",
       "      <td>13</td>\n",
       "      <td>225</td>\n",
       "      <td>2</td>\n",
       "      <td>882399156</td>\n",
       "    </tr>\n",
       "    <tr>\n",
       "      <th>99999</th>\n",
       "      <td>12</td>\n",
       "      <td>203</td>\n",
       "      <td>3</td>\n",
       "      <td>879959583</td>\n",
       "    </tr>\n",
       "  </tbody>\n",
       "</table>\n",
       "<p>100000 rows × 4 columns</p>\n",
       "</div>"
      ],
      "text/plain": [
       "       user id  item id  rating  timestamp\n",
       "0          196      242       3  881250949\n",
       "1          186      302       3  891717742\n",
       "2           22      377       1  878887116\n",
       "3          244       51       2  880606923\n",
       "4          166      346       1  886397596\n",
       "...        ...      ...     ...        ...\n",
       "99995      880      476       3  880175444\n",
       "99996      716      204       5  879795543\n",
       "99997      276     1090       1  874795795\n",
       "99998       13      225       2  882399156\n",
       "99999       12      203       3  879959583\n",
       "\n",
       "[100000 rows x 4 columns]"
      ]
     },
     "execution_count": 44,
     "metadata": {},
     "output_type": "execute_result"
    }
   ],
   "source": [
    "data # need to change timestamp"
   ]
  },
  {
   "cell_type": "code",
   "execution_count": 45,
   "metadata": {},
   "outputs": [
    {
     "name": "stdout",
     "output_type": "stream",
     "text": [
      "<class 'pandas.core.frame.DataFrame'>\n",
      "RangeIndex: 100000 entries, 0 to 99999\n",
      "Data columns (total 4 columns):\n",
      " #   Column     Non-Null Count   Dtype\n",
      "---  ------     --------------   -----\n",
      " 0   user id    100000 non-null  int64\n",
      " 1   item id    100000 non-null  int64\n",
      " 2   rating     100000 non-null  int64\n",
      " 3   timestamp  100000 non-null  int64\n",
      "dtypes: int64(4)\n",
      "memory usage: 3.1 MB\n"
     ]
    }
   ],
   "source": [
    "data.info() # timestamp = int64"
   ]
  },
  {
   "cell_type": "code",
   "execution_count": 46,
   "metadata": {},
   "outputs": [],
   "source": [
    "import tensorflow as tf"
   ]
  },
  {
   "cell_type": "code",
   "execution_count": 47,
   "metadata": {},
   "outputs": [],
   "source": [
    "import numpy as np"
   ]
  },
  {
   "cell_type": "code",
   "execution_count": 48,
   "metadata": {},
   "outputs": [],
   "source": [
    "a = tf.constant([1,2], dtype=tf.float32)"
   ]
  },
  {
   "cell_type": "code",
   "execution_count": 50,
   "metadata": {},
   "outputs": [
    {
     "data": {
      "text/plain": [
       "0       1997-12-04 15:55:49\n",
       "1       1998-04-04 19:22:22\n",
       "2       1997-11-07 07:18:36\n",
       "3       1997-11-27 05:02:03\n",
       "4       1998-02-02 05:33:16\n",
       "                ...        \n",
       "99995   1997-11-22 05:10:44\n",
       "99996   1997-11-17 19:39:03\n",
       "99997   1997-09-20 22:49:55\n",
       "99998   1997-12-17 22:52:36\n",
       "99999   1997-11-19 17:13:03\n",
       "Name: timestamp, Length: 100000, dtype: datetime64[ns]"
      ]
     },
     "execution_count": 50,
     "metadata": {},
     "output_type": "execute_result"
    }
   ],
   "source": [
    "pd.to_datetime(data.timestamp, unit='s') # timestamp to datetime"
   ]
  },
  {
   "cell_type": "code",
   "execution_count": 54,
   "metadata": {},
   "outputs": [
    {
     "data": {
      "text/plain": [
       "pandas._libs.tslibs.timestamps.Timestamp"
      ]
     },
     "execution_count": 54,
     "metadata": {},
     "output_type": "execute_result"
    }
   ],
   "source": [
    "time = pd.to_datetime(data.timestamp, unit='s')\n",
    "type(time[1]) # 하지만 왜 still timestamp?"
   ]
  },
  {
   "cell_type": "code",
   "execution_count": 55,
   "metadata": {},
   "outputs": [
    {
     "data": {
      "text/plain": [
       "True"
      ]
     },
     "execution_count": 55,
     "metadata": {},
     "output_type": "execute_result"
    }
   ],
   "source": [
    "issubclass(pd.Timestamp, datetime.datetime) # 왜냐면 Timestamp가 애초에 datetime 상속받은 애기 때문"
   ]
  },
  {
   "cell_type": "code",
   "execution_count": 56,
   "metadata": {},
   "outputs": [],
   "source": [
    "data.timestamp = time"
   ]
  },
  {
   "cell_type": "code",
   "execution_count": 57,
   "metadata": {},
   "outputs": [
    {
     "name": "stdout",
     "output_type": "stream",
     "text": [
      "<class 'pandas.core.frame.DataFrame'>\n",
      "RangeIndex: 100000 entries, 0 to 99999\n",
      "Data columns (total 4 columns):\n",
      " #   Column     Non-Null Count   Dtype         \n",
      "---  ------     --------------   -----         \n",
      " 0   user id    100000 non-null  int64         \n",
      " 1   item id    100000 non-null  int64         \n",
      " 2   rating     100000 non-null  int64         \n",
      " 3   timestamp  100000 non-null  datetime64[ns]\n",
      "dtypes: datetime64[ns](1), int64(3)\n",
      "memory usage: 3.1 MB\n"
     ]
    }
   ],
   "source": [
    "data.info() # 이제 datetime64 "
   ]
  },
  {
   "cell_type": "code",
   "execution_count": 58,
   "metadata": {},
   "outputs": [],
   "source": [
    "timeseries = data.set_index('timestamp').sort_index()"
   ]
  },
  {
   "cell_type": "code",
   "execution_count": 60,
   "metadata": {},
   "outputs": [
    {
     "data": {
      "text/html": [
       "<div>\n",
       "<style scoped>\n",
       "    .dataframe tbody tr th:only-of-type {\n",
       "        vertical-align: middle;\n",
       "    }\n",
       "\n",
       "    .dataframe tbody tr th {\n",
       "        vertical-align: top;\n",
       "    }\n",
       "\n",
       "    .dataframe thead th {\n",
       "        text-align: right;\n",
       "    }\n",
       "</style>\n",
       "<table border=\"1\" class=\"dataframe\">\n",
       "  <thead>\n",
       "    <tr style=\"text-align: right;\">\n",
       "      <th></th>\n",
       "      <th>user id</th>\n",
       "      <th>item id</th>\n",
       "      <th>rating</th>\n",
       "    </tr>\n",
       "    <tr>\n",
       "      <th>timestamp</th>\n",
       "      <th></th>\n",
       "      <th></th>\n",
       "      <th></th>\n",
       "    </tr>\n",
       "  </thead>\n",
       "  <tbody>\n",
       "    <tr>\n",
       "      <th>1997-09-20 03:05:10</th>\n",
       "      <td>259</td>\n",
       "      <td>255</td>\n",
       "      <td>4</td>\n",
       "    </tr>\n",
       "    <tr>\n",
       "      <th>1997-09-20 03:05:27</th>\n",
       "      <td>259</td>\n",
       "      <td>286</td>\n",
       "      <td>4</td>\n",
       "    </tr>\n",
       "    <tr>\n",
       "      <th>1997-09-20 03:05:54</th>\n",
       "      <td>259</td>\n",
       "      <td>298</td>\n",
       "      <td>4</td>\n",
       "    </tr>\n",
       "    <tr>\n",
       "      <th>1997-09-20 03:06:21</th>\n",
       "      <td>259</td>\n",
       "      <td>185</td>\n",
       "      <td>4</td>\n",
       "    </tr>\n",
       "    <tr>\n",
       "      <th>1997-09-20 03:07:23</th>\n",
       "      <td>259</td>\n",
       "      <td>173</td>\n",
       "      <td>4</td>\n",
       "    </tr>\n",
       "    <tr>\n",
       "      <th>...</th>\n",
       "      <td>...</td>\n",
       "      <td>...</td>\n",
       "      <td>...</td>\n",
       "    </tr>\n",
       "    <tr>\n",
       "      <th>1997-09-30 23:49:32</th>\n",
       "      <td>543</td>\n",
       "      <td>226</td>\n",
       "      <td>4</td>\n",
       "    </tr>\n",
       "    <tr>\n",
       "      <th>1997-09-30 23:52:23</th>\n",
       "      <td>543</td>\n",
       "      <td>403</td>\n",
       "      <td>4</td>\n",
       "    </tr>\n",
       "    <tr>\n",
       "      <th>1997-09-30 23:52:23</th>\n",
       "      <td>543</td>\n",
       "      <td>855</td>\n",
       "      <td>4</td>\n",
       "    </tr>\n",
       "    <tr>\n",
       "      <th>1997-09-30 23:52:23</th>\n",
       "      <td>543</td>\n",
       "      <td>28</td>\n",
       "      <td>4</td>\n",
       "    </tr>\n",
       "    <tr>\n",
       "      <th>1997-09-30 23:54:47</th>\n",
       "      <td>543</td>\n",
       "      <td>62</td>\n",
       "      <td>3</td>\n",
       "    </tr>\n",
       "  </tbody>\n",
       "</table>\n",
       "<p>6704 rows × 3 columns</p>\n",
       "</div>"
      ],
      "text/plain": [
       "                     user id  item id  rating\n",
       "timestamp                                    \n",
       "1997-09-20 03:05:10      259      255       4\n",
       "1997-09-20 03:05:27      259      286       4\n",
       "1997-09-20 03:05:54      259      298       4\n",
       "1997-09-20 03:06:21      259      185       4\n",
       "1997-09-20 03:07:23      259      173       4\n",
       "...                      ...      ...     ...\n",
       "1997-09-30 23:49:32      543      226       4\n",
       "1997-09-30 23:52:23      543      403       4\n",
       "1997-09-30 23:52:23      543      855       4\n",
       "1997-09-30 23:52:23      543       28       4\n",
       "1997-09-30 23:54:47      543       62       3\n",
       "\n",
       "[6704 rows x 3 columns]"
      ]
     },
     "execution_count": 60,
     "metadata": {},
     "output_type": "execute_result"
    }
   ],
   "source": [
    "timeseries['1997-09']"
   ]
  },
  {
   "cell_type": "code",
   "execution_count": 61,
   "metadata": {},
   "outputs": [
    {
     "data": {
      "text/html": [
       "<div>\n",
       "<style scoped>\n",
       "    .dataframe tbody tr th:only-of-type {\n",
       "        vertical-align: middle;\n",
       "    }\n",
       "\n",
       "    .dataframe tbody tr th {\n",
       "        vertical-align: top;\n",
       "    }\n",
       "\n",
       "    .dataframe thead th {\n",
       "        text-align: right;\n",
       "    }\n",
       "</style>\n",
       "<table border=\"1\" class=\"dataframe\">\n",
       "  <thead>\n",
       "    <tr style=\"text-align: right;\">\n",
       "      <th></th>\n",
       "      <th>user id</th>\n",
       "      <th>item id</th>\n",
       "      <th>rating</th>\n",
       "    </tr>\n",
       "    <tr>\n",
       "      <th>timestamp</th>\n",
       "      <th></th>\n",
       "      <th></th>\n",
       "      <th></th>\n",
       "    </tr>\n",
       "  </thead>\n",
       "  <tbody>\n",
       "    <tr>\n",
       "      <th>1997-09-20 03:05:10</th>\n",
       "      <td>259</td>\n",
       "      <td>255</td>\n",
       "      <td>4</td>\n",
       "    </tr>\n",
       "    <tr>\n",
       "      <th>1997-09-20 03:05:27</th>\n",
       "      <td>259</td>\n",
       "      <td>286</td>\n",
       "      <td>4</td>\n",
       "    </tr>\n",
       "    <tr>\n",
       "      <th>1997-09-20 03:05:54</th>\n",
       "      <td>259</td>\n",
       "      <td>298</td>\n",
       "      <td>4</td>\n",
       "    </tr>\n",
       "    <tr>\n",
       "      <th>1997-09-20 03:06:21</th>\n",
       "      <td>259</td>\n",
       "      <td>185</td>\n",
       "      <td>4</td>\n",
       "    </tr>\n",
       "    <tr>\n",
       "      <th>1997-09-20 03:07:23</th>\n",
       "      <td>259</td>\n",
       "      <td>173</td>\n",
       "      <td>4</td>\n",
       "    </tr>\n",
       "    <tr>\n",
       "      <th>...</th>\n",
       "      <td>...</td>\n",
       "      <td>...</td>\n",
       "      <td>...</td>\n",
       "    </tr>\n",
       "    <tr>\n",
       "      <th>1997-09-21 21:16:39</th>\n",
       "      <td>506</td>\n",
       "      <td>90</td>\n",
       "      <td>2</td>\n",
       "    </tr>\n",
       "    <tr>\n",
       "      <th>1997-09-21 21:17:31</th>\n",
       "      <td>506</td>\n",
       "      <td>489</td>\n",
       "      <td>4</td>\n",
       "    </tr>\n",
       "    <tr>\n",
       "      <th>1997-09-21 21:17:31</th>\n",
       "      <td>506</td>\n",
       "      <td>54</td>\n",
       "      <td>4</td>\n",
       "    </tr>\n",
       "    <tr>\n",
       "      <th>1997-09-21 21:17:31</th>\n",
       "      <td>506</td>\n",
       "      <td>693</td>\n",
       "      <td>4</td>\n",
       "    </tr>\n",
       "    <tr>\n",
       "      <th>1997-09-21 21:34:59</th>\n",
       "      <td>291</td>\n",
       "      <td>85</td>\n",
       "      <td>2</td>\n",
       "    </tr>\n",
       "  </tbody>\n",
       "</table>\n",
       "<p>1740 rows × 3 columns</p>\n",
       "</div>"
      ],
      "text/plain": [
       "                     user id  item id  rating\n",
       "timestamp                                    \n",
       "1997-09-20 03:05:10      259      255       4\n",
       "1997-09-20 03:05:27      259      286       4\n",
       "1997-09-20 03:05:54      259      298       4\n",
       "1997-09-20 03:06:21      259      185       4\n",
       "1997-09-20 03:07:23      259      173       4\n",
       "...                      ...      ...     ...\n",
       "1997-09-21 21:16:39      506       90       2\n",
       "1997-09-21 21:17:31      506      489       4\n",
       "1997-09-21 21:17:31      506       54       4\n",
       "1997-09-21 21:17:31      506      693       4\n",
       "1997-09-21 21:34:59      291       85       2\n",
       "\n",
       "[1740 rows x 3 columns]"
      ]
     },
     "execution_count": 61,
     "metadata": {},
     "output_type": "execute_result"
    }
   ],
   "source": [
    "timeseries['1997-09-20T03':'1997-09-21'] # slicing"
   ]
  },
  {
   "cell_type": "code",
   "execution_count": 62,
   "metadata": {},
   "outputs": [
    {
     "data": {
      "text/plain": [
       "<matplotlib.axes._subplots.AxesSubplot at 0x1e3787250a0>"
      ]
     },
     "execution_count": 62,
     "metadata": {},
     "output_type": "execute_result"
    },
    {
     "data": {
      "image/png": "[encoded data removed]",
      "text/plain": [
       "<Figure size 432x288 with 1 Axes>"
      ]
     },
     "metadata": {
      "needs_background": "light"
     },
     "output_type": "display_data"
    }
   ],
   "source": [
    "timeseries['1997-09-20T03':'1997-09-21'].plot.line()"
   ]
  },
  {
   "cell_type": "code",
   "execution_count": 63,
   "metadata": {},
   "outputs": [
    {
     "data": {
      "text/plain": [
       "timestamp\n",
       "1997-09-30    3.540125\n",
       "1997-10-31    3.591421\n",
       "1997-11-30    3.559842\n",
       "1997-12-31    3.580388\n",
       "1998-01-31    3.397730\n",
       "1998-02-28    3.455009\n",
       "1998-03-31    3.548831\n",
       "1998-04-30    3.574848\n",
       "Freq: M, Name: rating, dtype: float64"
      ]
     },
     "execution_count": 63,
     "metadata": {},
     "output_type": "execute_result"
    }
   ],
   "source": [
    "timeseries['rating'].resample('1M').mean() # 1M = 월별 1Y = 년별"
   ]
  },
  {
   "cell_type": "code",
   "execution_count": 66,
   "metadata": {},
   "outputs": [],
   "source": [
    "x = timeseries['rating'].resample('1W')"
   ]
  },
  {
   "cell_type": "code",
   "execution_count": 67,
   "metadata": {},
   "outputs": [
    {
     "data": {
      "text/html": [
       "<div>\n",
       "<style scoped>\n",
       "    .dataframe tbody tr th:only-of-type {\n",
       "        vertical-align: middle;\n",
       "    }\n",
       "\n",
       "    .dataframe tbody tr th {\n",
       "        vertical-align: top;\n",
       "    }\n",
       "\n",
       "    .dataframe thead th {\n",
       "        text-align: right;\n",
       "    }\n",
       "</style>\n",
       "<table border=\"1\" class=\"dataframe\">\n",
       "  <thead>\n",
       "    <tr style=\"text-align: right;\">\n",
       "      <th></th>\n",
       "      <th>open</th>\n",
       "      <th>high</th>\n",
       "      <th>low</th>\n",
       "      <th>close</th>\n",
       "    </tr>\n",
       "    <tr>\n",
       "      <th>timestamp</th>\n",
       "      <th></th>\n",
       "      <th></th>\n",
       "      <th></th>\n",
       "      <th></th>\n",
       "    </tr>\n",
       "  </thead>\n",
       "  <tbody>\n",
       "    <tr>\n",
       "      <th>1997-09-21</th>\n",
       "      <td>4</td>\n",
       "      <td>5</td>\n",
       "      <td>1</td>\n",
       "      <td>2</td>\n",
       "    </tr>\n",
       "    <tr>\n",
       "      <th>1997-09-28</th>\n",
       "      <td>3</td>\n",
       "      <td>5</td>\n",
       "      <td>1</td>\n",
       "      <td>2</td>\n",
       "    </tr>\n",
       "    <tr>\n",
       "      <th>1997-10-05</th>\n",
       "      <td>3</td>\n",
       "      <td>5</td>\n",
       "      <td>1</td>\n",
       "      <td>4</td>\n",
       "    </tr>\n",
       "    <tr>\n",
       "      <th>1997-10-12</th>\n",
       "      <td>2</td>\n",
       "      <td>5</td>\n",
       "      <td>1</td>\n",
       "      <td>4</td>\n",
       "    </tr>\n",
       "    <tr>\n",
       "      <th>1997-10-19</th>\n",
       "      <td>5</td>\n",
       "      <td>5</td>\n",
       "      <td>1</td>\n",
       "      <td>5</td>\n",
       "    </tr>\n",
       "    <tr>\n",
       "      <th>1997-10-26</th>\n",
       "      <td>4</td>\n",
       "      <td>5</td>\n",
       "      <td>1</td>\n",
       "      <td>4</td>\n",
       "    </tr>\n",
       "    <tr>\n",
       "      <th>1997-11-02</th>\n",
       "      <td>4</td>\n",
       "      <td>5</td>\n",
       "      <td>1</td>\n",
       "      <td>3</td>\n",
       "    </tr>\n",
       "    <tr>\n",
       "      <th>1997-11-09</th>\n",
       "      <td>3</td>\n",
       "      <td>5</td>\n",
       "      <td>1</td>\n",
       "      <td>5</td>\n",
       "    </tr>\n",
       "    <tr>\n",
       "      <th>1997-11-16</th>\n",
       "      <td>4</td>\n",
       "      <td>5</td>\n",
       "      <td>1</td>\n",
       "      <td>4</td>\n",
       "    </tr>\n",
       "    <tr>\n",
       "      <th>1997-11-23</th>\n",
       "      <td>3</td>\n",
       "      <td>5</td>\n",
       "      <td>1</td>\n",
       "      <td>3</td>\n",
       "    </tr>\n",
       "    <tr>\n",
       "      <th>1997-11-30</th>\n",
       "      <td>3</td>\n",
       "      <td>5</td>\n",
       "      <td>1</td>\n",
       "      <td>4</td>\n",
       "    </tr>\n",
       "    <tr>\n",
       "      <th>1997-12-07</th>\n",
       "      <td>4</td>\n",
       "      <td>5</td>\n",
       "      <td>1</td>\n",
       "      <td>4</td>\n",
       "    </tr>\n",
       "    <tr>\n",
       "      <th>1997-12-14</th>\n",
       "      <td>4</td>\n",
       "      <td>5</td>\n",
       "      <td>1</td>\n",
       "      <td>2</td>\n",
       "    </tr>\n",
       "    <tr>\n",
       "      <th>1997-12-21</th>\n",
       "      <td>5</td>\n",
       "      <td>5</td>\n",
       "      <td>1</td>\n",
       "      <td>4</td>\n",
       "    </tr>\n",
       "    <tr>\n",
       "      <th>1997-12-28</th>\n",
       "      <td>3</td>\n",
       "      <td>5</td>\n",
       "      <td>1</td>\n",
       "      <td>4</td>\n",
       "    </tr>\n",
       "    <tr>\n",
       "      <th>1998-01-04</th>\n",
       "      <td>3</td>\n",
       "      <td>5</td>\n",
       "      <td>1</td>\n",
       "      <td>1</td>\n",
       "    </tr>\n",
       "    <tr>\n",
       "      <th>1998-01-11</th>\n",
       "      <td>2</td>\n",
       "      <td>5</td>\n",
       "      <td>1</td>\n",
       "      <td>1</td>\n",
       "    </tr>\n",
       "    <tr>\n",
       "      <th>1998-01-18</th>\n",
       "      <td>5</td>\n",
       "      <td>5</td>\n",
       "      <td>1</td>\n",
       "      <td>1</td>\n",
       "    </tr>\n",
       "    <tr>\n",
       "      <th>1998-01-25</th>\n",
       "      <td>5</td>\n",
       "      <td>5</td>\n",
       "      <td>1</td>\n",
       "      <td>4</td>\n",
       "    </tr>\n",
       "    <tr>\n",
       "      <th>1998-02-01</th>\n",
       "      <td>5</td>\n",
       "      <td>5</td>\n",
       "      <td>1</td>\n",
       "      <td>3</td>\n",
       "    </tr>\n",
       "    <tr>\n",
       "      <th>1998-02-08</th>\n",
       "      <td>5</td>\n",
       "      <td>5</td>\n",
       "      <td>1</td>\n",
       "      <td>5</td>\n",
       "    </tr>\n",
       "    <tr>\n",
       "      <th>1998-02-15</th>\n",
       "      <td>4</td>\n",
       "      <td>5</td>\n",
       "      <td>1</td>\n",
       "      <td>2</td>\n",
       "    </tr>\n",
       "    <tr>\n",
       "      <th>1998-02-22</th>\n",
       "      <td>2</td>\n",
       "      <td>5</td>\n",
       "      <td>1</td>\n",
       "      <td>5</td>\n",
       "    </tr>\n",
       "    <tr>\n",
       "      <th>1998-03-01</th>\n",
       "      <td>2</td>\n",
       "      <td>5</td>\n",
       "      <td>1</td>\n",
       "      <td>3</td>\n",
       "    </tr>\n",
       "    <tr>\n",
       "      <th>1998-03-08</th>\n",
       "      <td>1</td>\n",
       "      <td>5</td>\n",
       "      <td>1</td>\n",
       "      <td>4</td>\n",
       "    </tr>\n",
       "    <tr>\n",
       "      <th>1998-03-15</th>\n",
       "      <td>2</td>\n",
       "      <td>5</td>\n",
       "      <td>1</td>\n",
       "      <td>3</td>\n",
       "    </tr>\n",
       "    <tr>\n",
       "      <th>1998-03-22</th>\n",
       "      <td>4</td>\n",
       "      <td>5</td>\n",
       "      <td>1</td>\n",
       "      <td>4</td>\n",
       "    </tr>\n",
       "    <tr>\n",
       "      <th>1998-03-29</th>\n",
       "      <td>3</td>\n",
       "      <td>5</td>\n",
       "      <td>1</td>\n",
       "      <td>3</td>\n",
       "    </tr>\n",
       "    <tr>\n",
       "      <th>1998-04-05</th>\n",
       "      <td>5</td>\n",
       "      <td>5</td>\n",
       "      <td>1</td>\n",
       "      <td>2</td>\n",
       "    </tr>\n",
       "    <tr>\n",
       "      <th>1998-04-12</th>\n",
       "      <td>3</td>\n",
       "      <td>5</td>\n",
       "      <td>1</td>\n",
       "      <td>5</td>\n",
       "    </tr>\n",
       "    <tr>\n",
       "      <th>1998-04-19</th>\n",
       "      <td>5</td>\n",
       "      <td>5</td>\n",
       "      <td>1</td>\n",
       "      <td>4</td>\n",
       "    </tr>\n",
       "    <tr>\n",
       "      <th>1998-04-26</th>\n",
       "      <td>4</td>\n",
       "      <td>5</td>\n",
       "      <td>1</td>\n",
       "      <td>4</td>\n",
       "    </tr>\n",
       "  </tbody>\n",
       "</table>\n",
       "</div>"
      ],
      "text/plain": [
       "            open  high  low  close\n",
       "timestamp                         \n",
       "1997-09-21     4     5    1      2\n",
       "1997-09-28     3     5    1      2\n",
       "1997-10-05     3     5    1      4\n",
       "1997-10-12     2     5    1      4\n",
       "1997-10-19     5     5    1      5\n",
       "1997-10-26     4     5    1      4\n",
       "1997-11-02     4     5    1      3\n",
       "1997-11-09     3     5    1      5\n",
       "1997-11-16     4     5    1      4\n",
       "1997-11-23     3     5    1      3\n",
       "1997-11-30     3     5    1      4\n",
       "1997-12-07     4     5    1      4\n",
       "1997-12-14     4     5    1      2\n",
       "1997-12-21     5     5    1      4\n",
       "1997-12-28     3     5    1      4\n",
       "1998-01-04     3     5    1      1\n",
       "1998-01-11     2     5    1      1\n",
       "1998-01-18     5     5    1      1\n",
       "1998-01-25     5     5    1      4\n",
       "1998-02-01     5     5    1      3\n",
       "1998-02-08     5     5    1      5\n",
       "1998-02-15     4     5    1      2\n",
       "1998-02-22     2     5    1      5\n",
       "1998-03-01     2     5    1      3\n",
       "1998-03-08     1     5    1      4\n",
       "1998-03-15     2     5    1      3\n",
       "1998-03-22     4     5    1      4\n",
       "1998-03-29     3     5    1      3\n",
       "1998-04-05     5     5    1      2\n",
       "1998-04-12     3     5    1      5\n",
       "1998-04-19     5     5    1      4\n",
       "1998-04-26     4     5    1      4"
      ]
     },
     "execution_count": 67,
     "metadata": {},
     "output_type": "execute_result"
    }
   ],
   "source": [
    "x.ohlc() # 시작, 최고, 최저, 끝"
   ]
  },
  {
   "cell_type": "code",
   "execution_count": null,
   "metadata": {},
   "outputs": [],
   "source": [
    " # 시계열 예측 분석에 가장 인기한 패키지: prophet"
   ]
  },
  {
   "cell_type": "code",
   "execution_count": 70,
   "metadata": {},
   "outputs": [],
   "source": [
    "import folium"
   ]
  },
  {
   "cell_type": "code",
   "execution_count": 81,
   "metadata": {},
   "outputs": [],
   "source": [
    "m = folium.Map([37.5665,126.9780], zoom_start=13) # 서울 위치, min_zoom으로도 제한 가능, tiles ='Stamen Terrain' -> 지도 모양"
   ]
  },
  {
   "cell_type": "code",
   "execution_count": 82,
   "metadata": {},
   "outputs": [
    {
     "data": {
      "text/html": [
       "<div style=\"width:100%;\"><div style=\"position:relative;width:100%;height:0;padding-bottom:60%;\"><span style=\"color:#565656\">Make this Notebook Trusted to load map: File -> Trust Notebook</span><iframe src=\"about:blank\" style=\"position:absolute;width:100%;height:100%;left:0;top:0;border:none !important;\" data-html=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 onload=\"this.contentDocument.open();this.contentDocument.write(atob(this.getAttribute('data-html')));this.contentDocument.close();\" allowfullscreen webkitallowfullscreen mozallowfullscreen></iframe></div></div>"
      ],
      "text/plain": [
       "<folium.folium.Map at 0x1e3790b11f0>"
      ]
     },
     "execution_count": 82,
     "metadata": {},
     "output_type": "execute_result"
    }
   ],
   "source": [
    "m"
   ]
  },
  {
   "cell_type": "code",
   "execution_count": 85,
   "metadata": {},
   "outputs": [
    {
     "data": {
      "text/plain": [
       "<folium.map.Marker at 0x1e3790b1dc0>"
      ]
     },
     "execution_count": 85,
     "metadata": {},
     "output_type": "execute_result"
    }
   ],
   "source": [
    "folium.Marker([37.5665,126.9780], popup = '이곳', tooltip = '저곳').add_to(m) # add_to 해줘야 함 popup: 클릭했을 때/ tooltip: 마우스 갖다 댔을 때"
   ]
  },
  {
   "cell_type": "code",
   "execution_count": 86,
   "metadata": {},
   "outputs": [
    {
     "data": {
      "text/html": [
       "<div style=\"width:100%;\"><div style=\"position:relative;width:100%;height:0;padding-bottom:60%;\"><span style=\"color:#565656\">Make this Notebook Trusted to load map: File -> Trust Notebook</span><iframe src=\"about:blank\" style=\"position:absolute;width:100%;height:100%;left:0;top:0;border:none !important;\" data-html=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 onload=\"this.contentDocument.open();this.contentDocument.write(atob(this.getAttribute('data-html')));this.contentDocument.close();\" allowfullscreen webkitallowfullscreen mozallowfullscreen></iframe></div></div>"
      ],
      "text/plain": [
       "<folium.folium.Map at 0x1e3790b11f0>"
      ]
     },
     "execution_count": 86,
     "metadata": {},
     "output_type": "execute_result"
    }
   ],
   "source": [
    "m # 여기선 오류나지만"
   ]
  },
  {
   "cell_type": "code",
   "execution_count": 87,
   "metadata": {},
   "outputs": [],
   "source": [
    "m.save('temp.html') # 저장해서 보면 잘 작동함. 버그."
   ]
  },
  {
   "cell_type": "code",
   "execution_count": null,
   "metadata": {},
   "outputs": [],
   "source": [
    "# popup , tooltip 안에 html을 넣을 수 있어서 잘만 하면 저런 거 안에 사진 등 넣을 수 있다."
   ]
  },
  {
   "cell_type": "code",
   "execution_count": 91,
   "metadata": {},
   "outputs": [
    {
     "data": {
      "text/plain": [
       "<folium.vector_layers.Circle at 0x1e379063910>"
      ]
     },
     "execution_count": 91,
     "metadata": {},
     "output_type": "execute_result"
    }
   ],
   "source": [
    "folium.Circle([37.5665,126.9780], 50, color='red', fill = 'pink').add_to(m) # 절대적 크기"
   ]
  },
  {
   "cell_type": "code",
   "execution_count": 92,
   "metadata": {},
   "outputs": [
    {
     "data": {
      "text/plain": [
       "<folium.vector_layers.CircleMarker at 0x1e379063f10>"
      ]
     },
     "execution_count": 92,
     "metadata": {},
     "output_type": "execute_result"
    }
   ],
   "source": [
    "folium.CircleMarker([37.5665,126.9780], 50, color='green').add_to(m) # 상대적 크기"
   ]
  },
  {
   "cell_type": "code",
   "execution_count": 93,
   "metadata": {},
   "outputs": [
    {
     "data": {
      "text/html": [
       "<div style=\"width:100%;\"><div style=\"position:relative;width:100%;height:0;padding-bottom:60%;\"><span style=\"color:#565656\">Make this Notebook Trusted to load map: File -> Trust Notebook</span><iframe src=\"about:blank\" style=\"position:absolute;width:100%;height:100%;left:0;top:0;border:none !important;\" data-html=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 onload=\"this.contentDocument.open();this.contentDocument.write(atob(this.getAttribute('data-html')));this.contentDocument.close();\" allowfullscreen webkitallowfullscreen mozallowfullscreen></iframe></div></div>"
      ],
      "text/plain": [
       "<folium.folium.Map at 0x1e3790b11f0>"
      ]
     },
     "execution_count": 93,
     "metadata": {},
     "output_type": "execute_result"
    }
   ],
   "source": [
    "m # 차이점을 볼 수 있다"
   ]
  },
  {
   "cell_type": "code",
   "execution_count": null,
   "metadata": {},
   "outputs": [],
   "source": [
    "plugins.ScrollZoomToggler().add_to(m)"
   ]
  },
  {
   "cell_type": "code",
   "execution_count": null,
   "metadata": {},
   "outputs": [],
   "source": []
  },
  {
   "cell_type": "code",
   "execution_count": 96,
   "metadata": {},
   "outputs": [],
   "source": [
    "from folium.plugins import MousePosition\n",
    "m = folium.Map()\n",
    "MousePosition().add_to(m)\n",
    "m"
   ]
  },
  {
   "cell_type": "code",
   "execution_count": 97,
   "metadata": {},
   "outputs": [],
   "source": [
    "############ 이제 folium_plugins.ipynb 파일 참조 ###################################"
   ]
  },
  {
   "cell_type": "code",
   "execution_count": 98,
   "metadata": {},
   "outputs": [
    {
     "name": "stdout",
     "output_type": "stream",
     "text": [
      "Pretty printing has been turned OFF\n"
     ]
    }
   ],
   "source": [
    "pprint import pprint"
   ]
  },
  {
   "cell_type": "code",
   "execution_count": 107,
   "metadata": {},
   "outputs": [],
   "source": [
    "import json\n",
    "import pandas as pd"
   ]
  },
  {
   "cell_type": "code",
   "execution_count": 138,
   "metadata": {},
   "outputs": [],
   "source": [
    "seoul_geo_json = open('Geo Data/asset/seoul_municipalities_geo_simple.json',encoding='utf-8')\n",
    "seoul_geo_json = json.load(seoul_geo_json)"
   ]
  },
  {
   "cell_type": "code",
   "execution_count": 139,
   "metadata": {},
   "outputs": [
    {
     "data": {
      "text/plain": [
       "'FeatureCollection'"
      ]
     },
     "execution_count": 139,
     "metadata": {},
     "output_type": "execute_result"
    }
   ],
   "source": [
    "seoul_geo_json['type']"
   ]
  },
  {
   "cell_type": "code",
   "execution_count": 140,
   "metadata": {},
   "outputs": [],
   "source": [
    "seoul = seoul_geo_json"
   ]
  },
  {
   "cell_type": "code",
   "execution_count": 141,
   "metadata": {},
   "outputs": [
    {
     "name": "stdout",
     "output_type": "stream",
     "text": [
      "17\n"
     ]
    }
   ],
   "source": [
    "for i,j in enumerate(range(25)):\n",
    "    if '성북' in seoul['features'][j]['properties']['name']:\n",
    "        print(i)"
   ]
  },
  {
   "cell_type": "code",
   "execution_count": 142,
   "metadata": {
    "collapsed": true,
    "jupyter": {
     "outputs_hidden": true
    }
   },
   "outputs": [
    {
     "data": {
      "text/plain": [
       "[[[126.977175406416, 37.62859715400388], [126.9794090069433, 37.63071544568365], [126.98360012419735, 37.631915771386076], [126.98672705513869, 37.63377641288196], [126.9877052521691, 37.63265610340949], [126.9933714170822, 37.62922019292486], [126.99529660787617, 37.62923863577322], [126.99614706382866, 37.62719717129899], [126.99867431516041, 37.626297613391166], [127.00210238658002, 37.622984514557714], [127.00997935126598, 37.62111906051553], [127.00960949401902, 37.61822603840364], [127.01060611893628, 37.615741236385354], [127.0128154749523, 37.613652243470256], [127.01685658093551, 37.61280115359516], [127.02136282940177, 37.610961475137174], [127.02433990415497, 37.60847763545628], [127.02851994524015, 37.60987827182396], [127.03229982090541, 37.609536104167034], [127.03251659844592, 37.60634705009134], [127.03892400992301, 37.609715611023816], [127.0419720518426, 37.612838591864076], [127.0460676006384, 37.615885647801704], [127.04887981022048, 37.61973841113549], [127.05209373568619, 37.62164065487782], [127.05631594723272, 37.61738373018764], [127.06412260483201, 37.6115839902766], [127.06726783142085, 37.61136014256744], [127.07011594002495, 37.6127769191002], [127.07351243825278, 37.61283660342313], [127.07382707099227, 37.60401928986419], [127.07257736686556, 37.60654335765868], [127.07069716820665, 37.60653037341939], [127.07084342033339, 37.60407877132597], [127.06753185518703, 37.602724214598744], [127.06424828533608, 37.60234356864383], [127.0612685122857, 37.59823077263369], [127.059485363799, 37.598743571420485], [127.05413734593897, 37.5971595374718], [127.05238061017225, 37.598312271275574], [127.04975439355248, 37.59349421284317], [127.0461318196879, 37.593514180513594], [127.042705222094, 37.59239437593391], [127.04116895171082, 37.58847599306138], [127.0384945038446, 37.587129138658426], [127.03121630347839, 37.57957997701485], [127.02527254528003, 37.57524616245249], [127.02395698453867, 37.576068086896726], [127.02039107536422, 37.575771872553595], [127.01849412471284, 37.57904760334465], [127.01678966486051, 37.57943162455397], [127.01094467951529, 37.57765758282494], [127.00914513999258, 37.57928387879304], [127.00896672237498, 37.582512606964876], [127.00803641804285, 37.5841154647404], [127.00453322588274, 37.58626325611708], [127.00304474231643, 37.58959898679736], [126.99774058571116, 37.58944568945197], [126.99647930158565, 37.58845217708608], [126.99348293358314, 37.588565457216156], [126.98858114244759, 37.58971272682123], [126.98596926877026, 37.59105697466976], [126.98411250331745, 37.59305007059415], [126.98366752610544, 37.596350797276386], [126.98700989661556, 37.59664611897289], [126.98984276495587, 37.59842301677683], [126.9880021251863, 37.60434406739665], [126.98906118629816, 37.60778324866486], [126.98879865992384, 37.6118927319756], [126.9849070918475, 37.61390303132951], [126.98297129719916, 37.61996223346171], [126.98130955822086, 37.621781567952816], [126.98162508963613, 37.626412913357804], [126.97877284074367, 37.62605559220399], [126.977175406416, 37.62859715400388]]]"
      ]
     },
     "execution_count": 142,
     "metadata": {},
     "output_type": "execute_result"
    }
   ],
   "source": [
    "seoul['features'][17]['geometry']['coordinates']"
   ]
  },
  {
   "cell_type": "code",
   "execution_count": 143,
   "metadata": {},
   "outputs": [],
   "source": [
    "seong = seoul['features'][17]['geometry']['coordinates']"
   ]
  },
  {
   "cell_type": "code",
   "execution_count": 144,
   "metadata": {},
   "outputs": [],
   "source": [
    "temp = []\n",
    "for i in seong[0]:\n",
    "    temp.append([i[1],i[0]])"
   ]
  },
  {
   "cell_type": "code",
   "execution_count": 145,
   "metadata": {},
   "outputs": [],
   "source": [
    "location = [[i[1],i[0]] for i in seong[0]]"
   ]
  },
  {
   "cell_type": "code",
   "execution_count": 146,
   "metadata": {},
   "outputs": [],
   "source": [
    "import folium"
   ]
  },
  {
   "cell_type": "code",
   "execution_count": 147,
   "metadata": {},
   "outputs": [],
   "source": [
    "m = folium.Map([37.5665,126.9780], zoom_start=13)"
   ]
  },
  {
   "cell_type": "code",
   "execution_count": 148,
   "metadata": {},
   "outputs": [
    {
     "data": {
      "text/plain": [
       "<folium.features.GeoJson object at 0x000001E379A92EE0>"
      ]
     },
     "execution_count": 148,
     "metadata": {},
     "output_type": "execute_result"
    }
   ],
   "source": [
    "folium.GeoJson(seoul).add_to(m)"
   ]
  },
  {
   "cell_type": "code",
   "execution_count": 150,
   "metadata": {},
   "outputs": [
    {
     "data": {
      "text/html": [
       "<div style=\"width:100%;\"><div style=\"position:relative;width:100%;height:0;padding-bottom:60%;\"><span style=\"color:#565656\">Make this Notebook Trusted to load map: File -> Trust Notebook</span><iframe src=\"about:blank\" style=\"position:absolute;width:100%;height:100%;left:0;top:0;border:none !important;\" data-html=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 onload=\"this.contentDocument.open();this.contentDocument.write(atob(this.getAttribute('data-html')));this.contentDocument.close();\" allowfullscreen webkitallowfullscreen mozallowfullscreen></iframe></div></div>"
      ],
      "text/plain": [
       "<folium.folium.Map object at 0x000001E379A92910>"
      ]
     },
     "execution_count": 150,
     "metadata": {},
     "output_type": "execute_result"
    }
   ],
   "source": [
    "m"
   ]
  },
  {
   "cell_type": "code",
   "execution_count": 1,
   "metadata": {},
   "outputs": [],
   "source": [
    "# for more, go to folium"
   ]
  },
  {
   "cell_type": "code",
   "execution_count": 2,
   "metadata": {},
   "outputs": [],
   "source": [
    "import numpy as np"
   ]
  },
  {
   "cell_type": "code",
   "execution_count": null,
   "metadata": {},
   "outputs": [],
   "source": [
    "np"
   ]
  }
 ],
 "metadata": {
  "kernelspec": {
   "display_name": "Python 3",
   "language": "python",
   "name": "python3"
  },
  "language_info": {
   "codemirror_mode": {
    "name": "ipython",
    "version": 3
   },
   "file_extension": ".py",
   "mimetype": "text/x-python",
   "name": "python",
   "nbconvert_exporter": "python",
   "pygments_lexer": "ipython3",
   "version": "3.8.3"
  }
 },
 "nbformat": 4,
 "nbformat_minor": 4
}
