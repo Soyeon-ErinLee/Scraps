{
 "cells": [
  {
   "cell_type": "code",
   "execution_count": 1,
   "metadata": {},
   "outputs": [],
   "source": [
    "from konlpy.tag import Kkma\n",
    "from nltk.tag import pos_tag\n",
    "from nltk.corpus import gutenberg\n",
    "from nltk.tokenize import sent_tokenize\n",
    "from nltk.tokenize import word_tokenize\n",
    "from nltk.tokenize import TweetTokenizer\n",
    "from nltk.tokenize import regexp_tokenize\n",
    "from nltk import Text\n",
    "corpus = gutenberg.open(gutenberg.fileids()[0]).read()\n",
    "emma = Text(word_tokenize(corpus), name='Emma')"
   ]
  },
  {
   "cell_type": "code",
   "execution_count": 3,
   "metadata": {},
   "outputs": [
    {
     "data": {
      "text/plain": [
       "119726"
      ]
     },
     "execution_count": 3,
     "metadata": {},
     "output_type": "execute_result"
    }
   ],
   "source": [
    "sum([_[1] for _ in emma.vocab().most_common(100)])"
   ]
  },
  {
   "cell_type": "code",
   "execution_count": 4,
   "metadata": {},
   "outputs": [
    {
     "data": {
      "text/plain": [
       "(855, 0.004458117162447532, 855)"
      ]
     },
     "execution_count": 4,
     "metadata": {},
     "output_type": "execute_result"
    }
   ],
   "source": [
    "# Emma 의 갯수\n",
    "emma.count('Emma'), emma.vocab().freq('Emma'),\\\n",
    "emma.vocab().get('Emma')"
   ]
  },
  {
   "cell_type": "code",
   "execution_count": 5,
   "metadata": {},
   "outputs": [
    {
     "name": "stdout",
     "output_type": "stream",
     "text": [
      "she it he i weston\n"
     ]
    }
   ],
   "source": [
    "# Emma 근처에 자주 보이는 단어 \n",
    "emma.similar('Emma',5) \\"
   ]
  },
  {
   "cell_type": "code",
   "execution_count": 6,
   "metadata": {},
   "outputs": [
    {
     "data": {
      "text/plain": [
       "1774"
      ]
     },
     "execution_count": 6,
     "metadata": {},
     "output_type": "execute_result"
    }
   ],
   "source": [
    "emma.count('she')"
   ]
  },
  {
   "cell_type": "code",
   "execution_count": 12,
   "metadata": {},
   "outputs": [
    {
     "data": {
      "text/plain": [
       "['Mr. Knightley',\n",
       " 'Mrs. Weston',\n",
       " 'Frank Churchill',\n",
       " 'Mr. Elton',\n",
       " 'Miss Woodhouse',\n",
       " 'Miss Bates',\n",
       " 'Mrs. Elton',\n",
       " 'Miss Fairfax',\n",
       " 'Mr. Weston',\n",
       " 'Jane Fairfax',\n",
       " 'every thing',\n",
       " 'Mr. Woodhouse',\n",
       " 'every body',\n",
       " 'young man',\n",
       " 'great deal',\n",
       " 'dare say',\n",
       " 'Maple Grove',\n",
       " 'Mrs. Goddard',\n",
       " 'John Knightley',\n",
       " 'Miss Smith']"
      ]
     },
     "execution_count": 12,
     "metadata": {},
     "output_type": "execute_result"
    }
   ],
   "source": [
    "# 자주 나오는 패턴\n",
    "emma.collocation_list()"
   ]
  },
  {
   "cell_type": "code",
   "execution_count": 11,
   "metadata": {},
   "outputs": [
    {
     "data": {
      "image/png": "[encoded data removed]",
      "text/plain": [
       "<Figure size 432x288 with 1 Axes>"
      ]
     },
     "metadata": {
      "needs_background": "light"
     },
     "output_type": "display_data"
    },
    {
     "data": {
      "text/plain": [
       "<function matplotlib.pyplot.show(*args, **kw)>"
      ]
     },
     "execution_count": 11,
     "metadata": {},
     "output_type": "execute_result"
    }
   ],
   "source": [
    "# Emma는 소설 주인공이므로 처음부터 끝까지 아주 자주 나옴\n",
    "import matplotlib.pyplot as plt # 이렇게\n",
    "emma.dispersion_plot(['Emma', 'Jane']) # Jane과 비교\n",
    "plt.show"
   ]
  },
  {
   "cell_type": "code",
   "execution_count": 14,
   "metadata": {},
   "outputs": [],
   "source": [
    "# 이제 한국어 \n",
    "from konlpy.corpus import kolaw, kobill"
   ]
  },
  {
   "cell_type": "code",
   "execution_count": 21,
   "metadata": {},
   "outputs": [
    {
     "data": {
      "text/plain": [
       "['1809890.txt',\n",
       " '1809891.txt',\n",
       " '1809892.txt',\n",
       " '1809893.txt',\n",
       " '1809894.txt',\n",
       " '1809895.txt',\n",
       " '1809896.txt',\n",
       " '1809897.txt',\n",
       " '1809898.txt',\n",
       " '1809899.txt']"
      ]
     },
     "execution_count": 21,
     "metadata": {},
     "output_type": "execute_result"
    }
   ],
   "source": [
    "# 얘네도 말뭉치 모음집\n",
    "kobill.fileids()"
   ]
  },
  {
   "cell_type": "code",
   "execution_count": 16,
   "metadata": {},
   "outputs": [],
   "source": [
    "kolaw = Text(word_tokenize(kolaw.open(kolaw.fileids()[0]).read()))"
   ]
  },
  {
   "cell_type": "code",
   "execution_count": 18,
   "metadata": {},
   "outputs": [
    {
     "data": {
      "text/plain": [
       "[('.', 357),\n",
       " (',', 101),\n",
       " ('수', 87),\n",
       " ('①', 75),\n",
       " ('또는', 70),\n",
       " ('의하여', 66),\n",
       " ('법률이', 57),\n",
       " ('있다', 57),\n",
       " ('한다', 56),\n",
       " ('정하는', 50)]"
      ]
     },
     "execution_count": 18,
     "metadata": {},
     "output_type": "execute_result"
    }
   ],
   "source": [
    "kolaw.vocab().most_common(10)"
   ]
  },
  {
   "cell_type": "code",
   "execution_count": 26,
   "metadata": {},
   "outputs": [
    {
     "data": {
      "text/plain": [
       "(4640, 2023, 1312)"
      ]
     },
     "execution_count": 26,
     "metadata": {},
     "output_type": "execute_result"
    }
   ],
   "source": [
    "len(kolaw), len(set(kolaw)), \\\n",
    "sum([_[1] for _ in kolaw.vocab().most_common(20)])"
   ]
  },
  {
   "cell_type": "code",
   "execution_count": 27,
   "metadata": {},
   "outputs": [
    {
     "data": {
      "text/plain": [
       "0.2827586206896552"
      ]
     },
     "execution_count": 27,
     "metadata": {},
     "output_type": "execute_result"
    }
   ],
   "source": [
    "# unique 한 단어는 약 2000개,\n",
    "# 상위 20개의 단어들이 전체 4640 개 단어 중 1312개! \n",
    "1312/4640 # 이만큼 차지"
   ]
  },
  {
   "cell_type": "code",
   "execution_count": 28,
   "metadata": {
    "collapsed": true,
    "jupyter": {
     "outputs_hidden": true
    }
   },
   "outputs": [
    {
     "data": {
      "text/plain": [
       "[(',', 12016),\n",
       " ('.', 6355),\n",
       " ('to', 5125),\n",
       " ('the', 4844),\n",
       " ('and', 4653),\n",
       " ('of', 4272),\n",
       " ('I', 3177),\n",
       " ('--', 3100),\n",
       " ('a', 3001),\n",
       " (\"''\", 2452),\n",
       " ('was', 2383),\n",
       " ('her', 2360),\n",
       " (';', 2353),\n",
       " ('not', 2242),\n",
       " ('in', 2103),\n",
       " ('it', 2103),\n",
       " ('be', 1965),\n",
       " ('she', 1774),\n",
       " ('``', 1735),\n",
       " ('that', 1729),\n",
       " ('you', 1664),\n",
       " ('had', 1605),\n",
       " ('as', 1387),\n",
       " ('he', 1365),\n",
       " ('for', 1320),\n",
       " ('have', 1301),\n",
       " ('is', 1221),\n",
       " ('with', 1185),\n",
       " ('very', 1151),\n",
       " ('but', 1148),\n",
       " ('Mr.', 1091),\n",
       " ('his', 1084),\n",
       " ('!', 1063),\n",
       " ('at', 996),\n",
       " ('so', 918),\n",
       " (\"'s\", 866),\n",
       " ('Emma', 855),\n",
       " ('all', 831),\n",
       " ('could', 824),\n",
       " ('would', 813),\n",
       " ('been', 755),\n",
       " ('him', 748),\n",
       " ('on', 674),\n",
       " ('Mrs.', 668),\n",
       " ('any', 651),\n",
       " ('?', 621),\n",
       " ('my', 619),\n",
       " ('no', 616),\n",
       " ('Miss', 592),\n",
       " ('were', 590)]"
      ]
     },
     "execution_count": 28,
     "metadata": {},
     "output_type": "execute_result"
    }
   ],
   "source": [
    "# remember that in English, 아주 흔한 단어들이 대부분을 차지\n",
    "# 예를 들어 'she'를 가지고 어느 맥락에서 나왔는 지 등 분석을 할 수 없다.\n",
    "emma.vocab().most_common(50)"
   ]
  },
  {
   "cell_type": "code",
   "execution_count": 29,
   "metadata": {},
   "outputs": [
    {
     "data": {
      "text/plain": [
       "[('.', 357),\n",
       " (',', 101),\n",
       " ('수', 87),\n",
       " ('①', 75),\n",
       " ('또는', 70),\n",
       " ('의하여', 66),\n",
       " ('법률이', 57),\n",
       " ('있다', 57),\n",
       " ('한다', 56),\n",
       " ('정하는', 50)]"
      ]
     },
     "execution_count": 29,
     "metadata": {},
     "output_type": "execute_result"
    }
   ],
   "source": [
    "kolaw.vocab().most_common(10)"
   ]
  },
  {
   "cell_type": "markdown",
   "metadata": {},
   "source": [
    "## 형태소 분석기\n",
    "- 좀더 정확한 분석"
   ]
  },
  {
   "cell_type": "code",
   "execution_count": 38,
   "metadata": {},
   "outputs": [],
   "source": [
    "# 형태소 분석기\n",
    "from konlpy.tag import Kkma # 꼬꼬마는 좀 느리다"
   ]
  },
  {
   "cell_type": "code",
   "execution_count": 39,
   "metadata": {},
   "outputs": [],
   "source": [
    "ma = Kkma().morphs"
   ]
  },
  {
   "cell_type": "code",
   "execution_count": 40,
   "metadata": {},
   "outputs": [],
   "source": [
    "from konlpy.corpus import kolaw, kobill # 다시 불러주기\n",
    "corpus = kolaw.open(kolaw.fileids()[0]).read()\n",
    "law = Text(ma(corpus)) # 형태소 분석기 하고 Text로 wrap해주기"
   ]
  },
  {
   "cell_type": "code",
   "execution_count": 41,
   "metadata": {},
   "outputs": [
    {
     "data": {
      "text/plain": [
       "[('의', 532),\n",
       " ('하', 457),\n",
       " ('.', 359),\n",
       " ('에', 328),\n",
       " ('는', 281),\n",
       " ('ㄴ다', 243),\n",
       " ('ㄴ', 234),\n",
       " ('을', 232),\n",
       " ('은', 195),\n",
       " ('이', 192),\n",
       " ('저', 155),\n",
       " ('여', 149),\n",
       " ('·', 145),\n",
       " ('ㄹ', 141),\n",
       " ('조', 136),\n",
       " ('를', 135),\n",
       " ('법률', 121),\n",
       " ('되', 113),\n",
       " (',', 101),\n",
       " ('있', 99)]"
      ]
     },
     "execution_count": 41,
     "metadata": {},
     "output_type": "execute_result"
    }
   ],
   "source": [
    "law.vocab().most_common(20) # 형태소별!"
   ]
  },
  {
   "cell_type": "code",
   "execution_count": 42,
   "metadata": {},
   "outputs": [
    {
     "data": {
      "text/plain": [
       "(10053, 1247, 6141)"
      ]
     },
     "execution_count": 42,
     "metadata": {},
     "output_type": "execute_result"
    }
   ],
   "source": [
    "len(law), len(set(law)), \\\n",
    "sum([_[1] for _ in law.vocab().most_common(50)]) \n",
    "# 형태소가 떨어지니 unique한 단어의 개수가 훨씬 줄었다 2000->1000"
   ]
  },
  {
   "cell_type": "code",
   "execution_count": 43,
   "metadata": {},
   "outputs": [
    {
     "name": "stdout",
     "output_type": "stream",
     "text": [
      "저 국가 법관 법원 대통령 대한민국 정부 조국 국회 공무원 재판 타인 판결 근로 여자 국회의원 법률안 법령 농지 운동\n"
     ]
    },
    {
     "data": {
      "text/plain": [
       "(69, None)"
      ]
     },
     "execution_count": 43,
     "metadata": {},
     "output_type": "execute_result"
    }
   ],
   "source": [
    "law.count('국민'), law.similar('국민')"
   ]
  },
  {
   "cell_type": "code",
   "execution_count": 48,
   "metadata": {},
   "outputs": [
    {
     "data": {
      "text/plain": [
       "55"
      ]
     },
     "execution_count": 48,
     "metadata": {},
     "output_type": "execute_result"
    }
   ],
   "source": [
    "law.count('국회')"
   ]
  },
  {
   "cell_type": "code",
   "execution_count": 47,
   "metadata": {},
   "outputs": [
    {
     "data": {
      "image/png": "[encoded data removed]",
      "text/plain": [
       "<Figure size 432x288 with 1 Axes>"
      ]
     },
     "metadata": {
      "needs_background": "light"
     },
     "output_type": "display_data"
    }
   ],
   "source": [
    "law.dispersion_plot(['국민', '국회', '의원', '법률'])\n",
    "plt.show() # 국민과 법률은 앞에서부터 많이 나온다"
   ]
  },
  {
   "cell_type": "code",
   "execution_count": 50,
   "metadata": {},
   "outputs": [
    {
     "data": {
      "text/plain": [
       "(0.006863622799164429, 1247)"
      ]
     },
     "execution_count": 50,
     "metadata": {},
     "output_type": "execute_result"
    }
   ],
   "source": [
    "law.vocab().freq('국민'), law.vocab().B() # 국민 빈도, unique 한 갯수"
   ]
  },
  {
   "cell_type": "code",
   "execution_count": 52,
   "metadata": {},
   "outputs": [
    {
     "data": {
      "image/png": "[encoded data removed]",
      "text/plain": [
       "<Figure size 432x288 with 1 Axes>"
      ]
     },
     "metadata": {
      "needs_background": "light"
     },
     "output_type": "display_data"
    },
    {
     "data": {
      "text/plain": [
       "<matplotlib.axes._subplots.AxesSubplot at 0x21d26baa3c8>"
      ]
     },
     "execution_count": 52,
     "metadata": {},
     "output_type": "execute_result"
    }
   ],
   "source": [
    "law.vocab().plot() # 글자 별 빈도, 보기 힘듦. 하지만 처음 몇 단어만 많이 나오고 쫙 떨어지는 형태 주목."
   ]
  },
  {
   "cell_type": "code",
   "execution_count": 53,
   "metadata": {},
   "outputs": [
    {
     "data": {
      "image/png": "[encoded data removed]",
      "text/plain": [
       "<Figure size 432x288 with 1 Axes>"
      ]
     },
     "metadata": {
      "needs_background": "light"
     },
     "output_type": "display_data"
    },
    {
     "data": {
      "text/plain": [
       "<matplotlib.axes._subplots.AxesSubplot at 0x21d27aae160>"
      ]
     },
     "execution_count": 53,
     "metadata": {},
     "output_type": "execute_result"
    }
   ],
   "source": [
    "law.vocab().plot(50) # 상위 50개만 보면 이런 식."
   ]
  },
  {
   "cell_type": "code",
   "execution_count": 273,
   "metadata": {},
   "outputs": [],
   "source": [
    "# 이번엔 kobill\n",
    "corpus = '\\n'.join([kobill.open(_).read()\n",
    "                    for _ in kobill.fileids()])"
   ]
  },
  {
   "cell_type": "code",
   "execution_count": 274,
   "metadata": {},
   "outputs": [],
   "source": [
    "bill = Text(ma(corpus))"
   ]
  },
  {
   "cell_type": "code",
   "execution_count": 275,
   "metadata": {},
   "outputs": [
    {
     "data": {
      "text/plain": [
       "(21695, 1489)"
      ]
     },
     "execution_count": 275,
     "metadata": {},
     "output_type": "execute_result"
    }
   ],
   "source": [
    "bill.vocab().N(), bill.vocab().B() # 전체 수, unique 수 비슷하다"
   ]
  },
  {
   "cell_type": "code",
   "execution_count": 276,
   "metadata": {},
   "outputs": [
    {
     "data": {
      "text/plain": [
       "[('--', 1121),\n",
       " ('하', 786),\n",
       " ('의', 737),\n",
       " ('.', 668),\n",
       " ('에', 450),\n",
       " ('ㄴ', 449),\n",
       " ('는', 350),\n",
       " ('을', 325),\n",
       " ('이', 324),\n",
       " (')', 298),\n",
       " ('(', 294),\n",
       " ('-', 278),\n",
       " ('저', 223),\n",
       " ('ㄴ다', 200),\n",
       " ('를', 189),\n",
       " (',', 186),\n",
       " ('아', 183),\n",
       " ('조', 180),\n",
       " ('1', 175),\n",
       " ('은', 162),\n",
       " ('육아', 160),\n",
       " ('제', 154),\n",
       " ('경우', 140),\n",
       " ('2', 132),\n",
       " ('과', 130),\n",
       " ('휴직', 128),\n",
       " ('되', 124),\n",
       " ('고', 123),\n",
       " ('따르', 122),\n",
       " ('항', 120)]"
      ]
     },
     "execution_count": 276,
     "metadata": {},
     "output_type": "execute_result"
    }
   ],
   "source": [
    "bill.vocab().most_common(30) # 육아 & 휴직!"
   ]
  },
  {
   "cell_type": "code",
   "execution_count": 277,
   "metadata": {},
   "outputs": [
    {
     "data": {
      "text/plain": [
       "(160, 128)"
      ]
     },
     "execution_count": 277,
     "metadata": {},
     "output_type": "execute_result"
    }
   ],
   "source": [
    "bill.count('육아'), bill.count('휴직')"
   ]
  },
  {
   "cell_type": "code",
   "execution_count": 278,
   "metadata": {},
   "outputs": [
    {
     "name": "stderr",
     "output_type": "stream",
     "text": [
      "C:\\Users\\user\\Anaconda3\\lib\\site-packages\\matplotlib\\backends\\backend_agg.py:211: RuntimeWarning: Glyph 55092 missing from current font.\n",
      "  font.set_text(s, 0.0, flags=flags)\n",
      "C:\\Users\\user\\Anaconda3\\lib\\site-packages\\matplotlib\\backends\\backend_agg.py:211: RuntimeWarning: Glyph 51649 missing from current font.\n",
      "  font.set_text(s, 0.0, flags=flags)\n",
      "C:\\Users\\user\\Anaconda3\\lib\\site-packages\\matplotlib\\backends\\backend_agg.py:211: RuntimeWarning: Glyph 50977 missing from current font.\n",
      "  font.set_text(s, 0.0, flags=flags)\n",
      "C:\\Users\\user\\Anaconda3\\lib\\site-packages\\matplotlib\\backends\\backend_agg.py:211: RuntimeWarning: Glyph 50500 missing from current font.\n",
      "  font.set_text(s, 0.0, flags=flags)\n",
      "C:\\Users\\user\\Anaconda3\\lib\\site-packages\\matplotlib\\backends\\backend_agg.py:180: RuntimeWarning: Glyph 55092 missing from current font.\n",
      "  font.set_text(s, 0, flags=flags)\n",
      "C:\\Users\\user\\Anaconda3\\lib\\site-packages\\matplotlib\\backends\\backend_agg.py:180: RuntimeWarning: Glyph 51649 missing from current font.\n",
      "  font.set_text(s, 0, flags=flags)\n",
      "C:\\Users\\user\\Anaconda3\\lib\\site-packages\\matplotlib\\backends\\backend_agg.py:180: RuntimeWarning: Glyph 50977 missing from current font.\n",
      "  font.set_text(s, 0, flags=flags)\n",
      "C:\\Users\\user\\Anaconda3\\lib\\site-packages\\matplotlib\\backends\\backend_agg.py:180: RuntimeWarning: Glyph 50500 missing from current font.\n",
      "  font.set_text(s, 0, flags=flags)\n"
     ]
    },
    {
     "data": {
      "image/png": "[encoded data removed]",
      "text/plain": [
       "<Figure size 432x288 with 1 Axes>"
      ]
     },
     "metadata": {
      "needs_background": "light"
     },
     "output_type": "display_data"
    }
   ],
   "source": [
    "bill.dispersion_plot(['육아', '휴직'])"
   ]
  },
  {
   "cell_type": "code",
   "execution_count": 279,
   "metadata": {},
   "outputs": [
    {
     "name": "stdout",
     "output_type": "stream",
     "text": [
      "조 아 호 여 자녀 까지 차이 논의 하여 종류 결과 기회 심사 활성화 조치 정지\n"
     ]
    }
   ],
   "source": [
    "bill.similar('육아')"
   ]
  },
  {
   "cell_type": "code",
   "execution_count": 280,
   "metadata": {
    "collapsed": true,
    "jupyter": {
     "outputs_hidden": true
    }
   },
   "outputs": [
    {
     "name": "stderr",
     "output_type": "stream",
     "text": [
      "C:\\Users\\user\\Anaconda3\\lib\\site-packages\\matplotlib\\backends\\backend_agg.py:211: RuntimeWarning: Glyph 54616 missing from current font.\n",
      "  font.set_text(s, 0.0, flags=flags)\n",
      "C:\\Users\\user\\Anaconda3\\lib\\site-packages\\matplotlib\\backends\\backend_agg.py:211: RuntimeWarning: Glyph 51032 missing from current font.\n",
      "  font.set_text(s, 0.0, flags=flags)\n",
      "C:\\Users\\user\\Anaconda3\\lib\\site-packages\\matplotlib\\backends\\backend_agg.py:211: RuntimeWarning: Glyph 50640 missing from current font.\n",
      "  font.set_text(s, 0.0, flags=flags)\n",
      "C:\\Users\\user\\Anaconda3\\lib\\site-packages\\matplotlib\\backends\\backend_agg.py:211: RuntimeWarning: Glyph 12596 missing from current font.\n",
      "  font.set_text(s, 0.0, flags=flags)\n",
      "C:\\Users\\user\\Anaconda3\\lib\\site-packages\\matplotlib\\backends\\backend_agg.py:211: RuntimeWarning: Glyph 45716 missing from current font.\n",
      "  font.set_text(s, 0.0, flags=flags)\n",
      "C:\\Users\\user\\Anaconda3\\lib\\site-packages\\matplotlib\\backends\\backend_agg.py:211: RuntimeWarning: Glyph 51012 missing from current font.\n",
      "  font.set_text(s, 0.0, flags=flags)\n",
      "C:\\Users\\user\\Anaconda3\\lib\\site-packages\\matplotlib\\backends\\backend_agg.py:211: RuntimeWarning: Glyph 51060 missing from current font.\n",
      "  font.set_text(s, 0.0, flags=flags)\n",
      "C:\\Users\\user\\Anaconda3\\lib\\site-packages\\matplotlib\\backends\\backend_agg.py:211: RuntimeWarning: Glyph 51200 missing from current font.\n",
      "  font.set_text(s, 0.0, flags=flags)\n",
      "C:\\Users\\user\\Anaconda3\\lib\\site-packages\\matplotlib\\backends\\backend_agg.py:211: RuntimeWarning: Glyph 45796 missing from current font.\n",
      "  font.set_text(s, 0.0, flags=flags)\n",
      "C:\\Users\\user\\Anaconda3\\lib\\site-packages\\matplotlib\\backends\\backend_agg.py:211: RuntimeWarning: Glyph 47484 missing from current font.\n",
      "  font.set_text(s, 0.0, flags=flags)\n",
      "C:\\Users\\user\\Anaconda3\\lib\\site-packages\\matplotlib\\backends\\backend_agg.py:211: RuntimeWarning: Glyph 51312 missing from current font.\n",
      "  font.set_text(s, 0.0, flags=flags)\n",
      "C:\\Users\\user\\Anaconda3\\lib\\site-packages\\matplotlib\\backends\\backend_agg.py:211: RuntimeWarning: Glyph 51008 missing from current font.\n",
      "  font.set_text(s, 0.0, flags=flags)\n",
      "C:\\Users\\user\\Anaconda3\\lib\\site-packages\\matplotlib\\backends\\backend_agg.py:211: RuntimeWarning: Glyph 51228 missing from current font.\n",
      "  font.set_text(s, 0.0, flags=flags)\n",
      "C:\\Users\\user\\Anaconda3\\lib\\site-packages\\matplotlib\\backends\\backend_agg.py:211: RuntimeWarning: Glyph 44221 missing from current font.\n",
      "  font.set_text(s, 0.0, flags=flags)\n",
      "C:\\Users\\user\\Anaconda3\\lib\\site-packages\\matplotlib\\backends\\backend_agg.py:211: RuntimeWarning: Glyph 50864 missing from current font.\n",
      "  font.set_text(s, 0.0, flags=flags)\n",
      "C:\\Users\\user\\Anaconda3\\lib\\site-packages\\matplotlib\\backends\\backend_agg.py:211: RuntimeWarning: Glyph 44284 missing from current font.\n",
      "  font.set_text(s, 0.0, flags=flags)\n",
      "C:\\Users\\user\\Anaconda3\\lib\\site-packages\\matplotlib\\backends\\backend_agg.py:211: RuntimeWarning: Glyph 46104 missing from current font.\n",
      "  font.set_text(s, 0.0, flags=flags)\n",
      "C:\\Users\\user\\Anaconda3\\lib\\site-packages\\matplotlib\\backends\\backend_agg.py:211: RuntimeWarning: Glyph 44256 missing from current font.\n",
      "  font.set_text(s, 0.0, flags=flags)\n",
      "C:\\Users\\user\\Anaconda3\\lib\\site-packages\\matplotlib\\backends\\backend_agg.py:211: RuntimeWarning: Glyph 46384 missing from current font.\n",
      "  font.set_text(s, 0.0, flags=flags)\n",
      "C:\\Users\\user\\Anaconda3\\lib\\site-packages\\matplotlib\\backends\\backend_agg.py:211: RuntimeWarning: Glyph 47476 missing from current font.\n",
      "  font.set_text(s, 0.0, flags=flags)\n",
      "C:\\Users\\user\\Anaconda3\\lib\\site-packages\\matplotlib\\backends\\backend_agg.py:211: RuntimeWarning: Glyph 54637 missing from current font.\n",
      "  font.set_text(s, 0.0, flags=flags)\n",
      "C:\\Users\\user\\Anaconda3\\lib\\site-packages\\matplotlib\\backends\\backend_agg.py:211: RuntimeWarning: Glyph 12601 missing from current font.\n",
      "  font.set_text(s, 0.0, flags=flags)\n",
      "C:\\Users\\user\\Anaconda3\\lib\\site-packages\\matplotlib\\backends\\backend_agg.py:211: RuntimeWarning: Glyph 50668 missing from current font.\n",
      "  font.set_text(s, 0.0, flags=flags)\n",
      "C:\\Users\\user\\Anaconda3\\lib\\site-packages\\matplotlib\\backends\\backend_agg.py:211: RuntimeWarning: Glyph 44032 missing from current font.\n",
      "  font.set_text(s, 0.0, flags=flags)\n",
      "C:\\Users\\user\\Anaconda3\\lib\\site-packages\\matplotlib\\backends\\backend_agg.py:211: RuntimeWarning: Glyph 46321 missing from current font.\n",
      "  font.set_text(s, 0.0, flags=flags)\n",
      "C:\\Users\\user\\Anaconda3\\lib\\site-packages\\matplotlib\\backends\\backend_agg.py:211: RuntimeWarning: Glyph 54840 missing from current font.\n",
      "  font.set_text(s, 0.0, flags=flags)\n",
      "C:\\Users\\user\\Anaconda3\\lib\\site-packages\\matplotlib\\backends\\backend_agg.py:211: RuntimeWarning: Glyph 48143 missing from current font.\n",
      "  font.set_text(s, 0.0, flags=flags)\n",
      "C:\\Users\\user\\Anaconda3\\lib\\site-packages\\matplotlib\\backends\\backend_agg.py:211: RuntimeWarning: Glyph 51004 missing from current font.\n",
      "  font.set_text(s, 0.0, flags=flags)\n",
      "C:\\Users\\user\\Anaconda3\\lib\\site-packages\\matplotlib\\backends\\backend_agg.py:211: RuntimeWarning: Glyph 47196 missing from current font.\n",
      "  font.set_text(s, 0.0, flags=flags)\n",
      "C:\\Users\\user\\Anaconda3\\lib\\site-packages\\matplotlib\\backends\\backend_agg.py:211: RuntimeWarning: Glyph 12 missing from current font.\n",
      "  font.set_text(s, 0.0, flags=flags)\n",
      "C:\\Users\\user\\Anaconda3\\lib\\site-packages\\matplotlib\\backends\\backend_agg.py:211: RuntimeWarning: Glyph 51080 missing from current font.\n",
      "  font.set_text(s, 0.0, flags=flags)\n",
      "C:\\Users\\user\\Anaconda3\\lib\\site-packages\\matplotlib\\backends\\backend_agg.py:211: RuntimeWarning: Glyph 45380 missing from current font.\n",
      "  font.set_text(s, 0.0, flags=flags)\n",
      "C:\\Users\\user\\Anaconda3\\lib\\site-packages\\matplotlib\\backends\\backend_agg.py:211: RuntimeWarning: Glyph 48156 missing from current font.\n",
      "  font.set_text(s, 0.0, flags=flags)\n",
      "C:\\Users\\user\\Anaconda3\\lib\\site-packages\\matplotlib\\backends\\backend_agg.py:211: RuntimeWarning: Glyph 49373 missing from current font.\n",
      "  font.set_text(s, 0.0, flags=flags)\n",
      "C:\\Users\\user\\Anaconda3\\lib\\site-packages\\matplotlib\\backends\\backend_agg.py:211: RuntimeWarning: Glyph 48708 missing from current font.\n",
      "  font.set_text(s, 0.0, flags=flags)\n",
      "C:\\Users\\user\\Anaconda3\\lib\\site-packages\\matplotlib\\backends\\backend_agg.py:211: RuntimeWarning: Glyph 50857 missing from current font.\n",
      "  font.set_text(s, 0.0, flags=flags)\n",
      "C:\\Users\\user\\Anaconda3\\lib\\site-packages\\matplotlib\\backends\\backend_agg.py:176: RuntimeWarning: Glyph 54616 missing from current font.\n",
      "  font.load_char(ord(s), flags=flags)\n",
      "C:\\Users\\user\\Anaconda3\\lib\\site-packages\\matplotlib\\backends\\backend_agg.py:176: RuntimeWarning: Glyph 51032 missing from current font.\n",
      "  font.load_char(ord(s), flags=flags)\n",
      "C:\\Users\\user\\Anaconda3\\lib\\site-packages\\matplotlib\\backends\\backend_agg.py:176: RuntimeWarning: Glyph 50640 missing from current font.\n",
      "  font.load_char(ord(s), flags=flags)\n",
      "C:\\Users\\user\\Anaconda3\\lib\\site-packages\\matplotlib\\backends\\backend_agg.py:176: RuntimeWarning: Glyph 12596 missing from current font.\n",
      "  font.load_char(ord(s), flags=flags)\n",
      "C:\\Users\\user\\Anaconda3\\lib\\site-packages\\matplotlib\\backends\\backend_agg.py:176: RuntimeWarning: Glyph 45716 missing from current font.\n",
      "  font.load_char(ord(s), flags=flags)\n",
      "C:\\Users\\user\\Anaconda3\\lib\\site-packages\\matplotlib\\backends\\backend_agg.py:176: RuntimeWarning: Glyph 51012 missing from current font.\n",
      "  font.load_char(ord(s), flags=flags)\n",
      "C:\\Users\\user\\Anaconda3\\lib\\site-packages\\matplotlib\\backends\\backend_agg.py:176: RuntimeWarning: Glyph 51060 missing from current font.\n",
      "  font.load_char(ord(s), flags=flags)\n",
      "C:\\Users\\user\\Anaconda3\\lib\\site-packages\\matplotlib\\backends\\backend_agg.py:176: RuntimeWarning: Glyph 51200 missing from current font.\n",
      "  font.load_char(ord(s), flags=flags)\n",
      "C:\\Users\\user\\Anaconda3\\lib\\site-packages\\matplotlib\\backends\\backend_agg.py:180: RuntimeWarning: Glyph 12596 missing from current font.\n",
      "  font.set_text(s, 0, flags=flags)\n",
      "C:\\Users\\user\\Anaconda3\\lib\\site-packages\\matplotlib\\backends\\backend_agg.py:180: RuntimeWarning: Glyph 45796 missing from current font.\n",
      "  font.set_text(s, 0, flags=flags)\n",
      "C:\\Users\\user\\Anaconda3\\lib\\site-packages\\matplotlib\\backends\\backend_agg.py:176: RuntimeWarning: Glyph 47484 missing from current font.\n",
      "  font.load_char(ord(s), flags=flags)\n",
      "C:\\Users\\user\\Anaconda3\\lib\\site-packages\\matplotlib\\backends\\backend_agg.py:176: RuntimeWarning: Glyph 50500 missing from current font.\n",
      "  font.load_char(ord(s), flags=flags)\n",
      "C:\\Users\\user\\Anaconda3\\lib\\site-packages\\matplotlib\\backends\\backend_agg.py:176: RuntimeWarning: Glyph 51312 missing from current font.\n",
      "  font.load_char(ord(s), flags=flags)\n",
      "C:\\Users\\user\\Anaconda3\\lib\\site-packages\\matplotlib\\backends\\backend_agg.py:176: RuntimeWarning: Glyph 51008 missing from current font.\n",
      "  font.load_char(ord(s), flags=flags)\n",
      "C:\\Users\\user\\Anaconda3\\lib\\site-packages\\matplotlib\\backends\\backend_agg.py:176: RuntimeWarning: Glyph 51228 missing from current font.\n",
      "  font.load_char(ord(s), flags=flags)\n",
      "C:\\Users\\user\\Anaconda3\\lib\\site-packages\\matplotlib\\backends\\backend_agg.py:180: RuntimeWarning: Glyph 44221 missing from current font.\n",
      "  font.set_text(s, 0, flags=flags)\n",
      "C:\\Users\\user\\Anaconda3\\lib\\site-packages\\matplotlib\\backends\\backend_agg.py:180: RuntimeWarning: Glyph 50864 missing from current font.\n",
      "  font.set_text(s, 0, flags=flags)\n",
      "C:\\Users\\user\\Anaconda3\\lib\\site-packages\\matplotlib\\backends\\backend_agg.py:176: RuntimeWarning: Glyph 44284 missing from current font.\n",
      "  font.load_char(ord(s), flags=flags)\n",
      "C:\\Users\\user\\Anaconda3\\lib\\site-packages\\matplotlib\\backends\\backend_agg.py:176: RuntimeWarning: Glyph 46104 missing from current font.\n",
      "  font.load_char(ord(s), flags=flags)\n",
      "C:\\Users\\user\\Anaconda3\\lib\\site-packages\\matplotlib\\backends\\backend_agg.py:176: RuntimeWarning: Glyph 44256 missing from current font.\n",
      "  font.load_char(ord(s), flags=flags)\n",
      "C:\\Users\\user\\Anaconda3\\lib\\site-packages\\matplotlib\\backends\\backend_agg.py:180: RuntimeWarning: Glyph 46384 missing from current font.\n",
      "  font.set_text(s, 0, flags=flags)\n",
      "C:\\Users\\user\\Anaconda3\\lib\\site-packages\\matplotlib\\backends\\backend_agg.py:180: RuntimeWarning: Glyph 47476 missing from current font.\n",
      "  font.set_text(s, 0, flags=flags)\n",
      "C:\\Users\\user\\Anaconda3\\lib\\site-packages\\matplotlib\\backends\\backend_agg.py:176: RuntimeWarning: Glyph 54637 missing from current font.\n",
      "  font.load_char(ord(s), flags=flags)\n",
      "C:\\Users\\user\\Anaconda3\\lib\\site-packages\\matplotlib\\backends\\backend_agg.py:176: RuntimeWarning: Glyph 12601 missing from current font.\n",
      "  font.load_char(ord(s), flags=flags)\n",
      "C:\\Users\\user\\Anaconda3\\lib\\site-packages\\matplotlib\\backends\\backend_agg.py:176: RuntimeWarning: Glyph 50668 missing from current font.\n",
      "  font.load_char(ord(s), flags=flags)\n",
      "C:\\Users\\user\\Anaconda3\\lib\\site-packages\\matplotlib\\backends\\backend_agg.py:176: RuntimeWarning: Glyph 44032 missing from current font.\n",
      "  font.load_char(ord(s), flags=flags)\n",
      "C:\\Users\\user\\Anaconda3\\lib\\site-packages\\matplotlib\\backends\\backend_agg.py:176: RuntimeWarning: Glyph 46321 missing from current font.\n",
      "  font.load_char(ord(s), flags=flags)\n",
      "C:\\Users\\user\\Anaconda3\\lib\\site-packages\\matplotlib\\backends\\backend_agg.py:176: RuntimeWarning: Glyph 54840 missing from current font.\n",
      "  font.load_char(ord(s), flags=flags)\n",
      "C:\\Users\\user\\Anaconda3\\lib\\site-packages\\matplotlib\\backends\\backend_agg.py:176: RuntimeWarning: Glyph 48143 missing from current font.\n",
      "  font.load_char(ord(s), flags=flags)\n",
      "C:\\Users\\user\\Anaconda3\\lib\\site-packages\\matplotlib\\backends\\backend_agg.py:180: RuntimeWarning: Glyph 51060 missing from current font.\n",
      "  font.set_text(s, 0, flags=flags)\n",
      "C:\\Users\\user\\Anaconda3\\lib\\site-packages\\matplotlib\\backends\\backend_agg.py:180: RuntimeWarning: Glyph 54616 missing from current font.\n",
      "  font.set_text(s, 0, flags=flags)\n",
      "C:\\Users\\user\\Anaconda3\\lib\\site-packages\\matplotlib\\backends\\backend_agg.py:180: RuntimeWarning: Glyph 51004 missing from current font.\n",
      "  font.set_text(s, 0, flags=flags)\n",
      "C:\\Users\\user\\Anaconda3\\lib\\site-packages\\matplotlib\\backends\\backend_agg.py:180: RuntimeWarning: Glyph 47196 missing from current font.\n",
      "  font.set_text(s, 0, flags=flags)\n",
      "C:\\Users\\user\\Anaconda3\\lib\\site-packages\\matplotlib\\backends\\backend_agg.py:180: RuntimeWarning: Glyph 12 missing from current font.\n",
      "  font.set_text(s, 0, flags=flags)\n",
      "C:\\Users\\user\\Anaconda3\\lib\\site-packages\\matplotlib\\backends\\backend_agg.py:176: RuntimeWarning: Glyph 51080 missing from current font.\n",
      "  font.load_char(ord(s), flags=flags)\n",
      "C:\\Users\\user\\Anaconda3\\lib\\site-packages\\matplotlib\\backends\\backend_agg.py:176: RuntimeWarning: Glyph 47196 missing from current font.\n",
      "  font.load_char(ord(s), flags=flags)\n",
      "C:\\Users\\user\\Anaconda3\\lib\\site-packages\\matplotlib\\backends\\backend_agg.py:176: RuntimeWarning: Glyph 45796 missing from current font.\n",
      "  font.load_char(ord(s), flags=flags)\n",
      "C:\\Users\\user\\Anaconda3\\lib\\site-packages\\matplotlib\\backends\\backend_agg.py:176: RuntimeWarning: Glyph 45380 missing from current font.\n",
      "  font.load_char(ord(s), flags=flags)\n",
      "C:\\Users\\user\\Anaconda3\\lib\\site-packages\\matplotlib\\backends\\backend_agg.py:180: RuntimeWarning: Glyph 48156 missing from current font.\n",
      "  font.set_text(s, 0, flags=flags)\n",
      "C:\\Users\\user\\Anaconda3\\lib\\site-packages\\matplotlib\\backends\\backend_agg.py:180: RuntimeWarning: Glyph 49373 missing from current font.\n",
      "  font.set_text(s, 0, flags=flags)\n",
      "C:\\Users\\user\\Anaconda3\\lib\\site-packages\\matplotlib\\backends\\backend_agg.py:180: RuntimeWarning: Glyph 48708 missing from current font.\n",
      "  font.set_text(s, 0, flags=flags)\n",
      "C:\\Users\\user\\Anaconda3\\lib\\site-packages\\matplotlib\\backends\\backend_agg.py:180: RuntimeWarning: Glyph 50857 missing from current font.\n",
      "  font.set_text(s, 0, flags=flags)\n"
     ]
    },
    {
     "data": {
      "image/png": "[encoded data removed]",
      "text/plain": [
       "<Figure size 432x288 with 1 Axes>"
      ]
     },
     "metadata": {
      "needs_background": "light"
     },
     "output_type": "display_data"
    },
    {
     "data": {
      "text/plain": [
       "<matplotlib.axes._subplots.AxesSubplot at 0x21d2b150278>"
      ]
     },
     "execution_count": 280,
     "metadata": {},
     "output_type": "execute_result"
    }
   ],
   "source": [
    "bill.vocab().plot(50) # 앞 law의 그림과 모양이 비슷함.\n",
    "# 지프의 법칙 -> 순위와 빈도수가 반비례, 두번째 빈도수는 첫번째의 반일 것."
   ]
  },
  {
   "cell_type": "code",
   "execution_count": 281,
   "metadata": {},
   "outputs": [],
   "source": [
    "sortlaw = law.vocab().most_common(law.vocab().B())"
   ]
  },
  {
   "cell_type": "code",
   "execution_count": 282,
   "metadata": {
    "collapsed": true,
    "jupyter": {
     "outputs_hidden": true
    }
   },
   "outputs": [
    {
     "data": {
      "text/plain": [
       "[('의', 532),\n",
       " ('하', 457),\n",
       " ('.', 359),\n",
       " ('에', 328),\n",
       " ('는', 281),\n",
       " ('ㄴ다', 243),\n",
       " ('ㄴ', 234),\n",
       " ('을', 232),\n",
       " ('은', 195),\n",
       " ('이', 192),\n",
       " ('저', 155),\n",
       " ('여', 149),\n",
       " ('·', 145),\n",
       " ('ㄹ', 141),\n",
       " ('조', 136),\n",
       " ('를', 135),\n",
       " ('법률', 121),\n",
       " ('되', 113),\n",
       " (',', 101),\n",
       " ('있', 99),\n",
       " ('다', 88),\n",
       " ('정하', 88),\n",
       " ('수', 88),\n",
       " ('대통령', 84),\n",
       " ('의하', 83),\n",
       " ('과', 82),\n",
       " ('①', 78),\n",
       " ('②', 78),\n",
       " ('국가', 73),\n",
       " ('헌법', 69),\n",
       " ('국민', 69),\n",
       " ('또는', 69),\n",
       " ('로', 62),\n",
       " ('으로', 57),\n",
       " ('지', 57),\n",
       " ('국회', 55),\n",
       " ('때', 55),\n",
       " ('아니하', 53),\n",
       " ('관하', 53),\n",
       " ('그', 46),\n",
       " ('며', 45),\n",
       " ('가', 45),\n",
       " ('③', 45),\n",
       " ('와', 42),\n",
       " ('회의', 42),\n",
       " ('받', 41),\n",
       " ('고', 39),\n",
       " ('모든', 37),\n",
       " ('바', 37),\n",
       " ('위하', 33),\n",
       " ('가지', 32),\n",
       " ('필요', 31),\n",
       " ('여야', 31),\n",
       " ('위원', 31),\n",
       " ('없', 30),\n",
       " ('국무', 30),\n",
       " ('1', 28),\n",
       " ('기타', 26),\n",
       " ('선거', 26),\n",
       " ('및', 25),\n",
       " ('3', 24),\n",
       " ('보장', 24),\n",
       " ('에서', 24),\n",
       " ('정부', 23),\n",
       " ('사항', 23),\n",
       " ('의원', 23),\n",
       " ('항', 22),\n",
       " ('자유', 21),\n",
       " ('권리', 21),\n",
       " ('국', 21),\n",
       " ('어야', 21),\n",
       " ('의무', 20),\n",
       " ('제', 20),\n",
       " ('④', 20),\n",
       " ('거나', 20),\n",
       " ('대하', 19),\n",
       " ('일', 19),\n",
       " ('2', 19),\n",
       " ('직무', 19),\n",
       " ('임명', 19),\n",
       " ('경제', 18),\n",
       " ('조직', 18),\n",
       " ('이상', 18),\n",
       " ('국회의원', 18),\n",
       " ('임기', 18),\n",
       " ('얻', 18),\n",
       " ('공무원', 17),\n",
       " ('경우', 17),\n",
       " ('법원', 17),\n",
       " ('의결', 16),\n",
       " ('기', 16),\n",
       " ('단체', 16),\n",
       " ('범위', 16),\n",
       " ('안', 15),\n",
       " ('장', 15),\n",
       " ('보호', 15),\n",
       " ('재판', 15),\n",
       " ('행정', 15),\n",
       " ('4', 14),\n",
       " ('정책', 14),\n",
       " ('이르', 14),\n",
       " ('정당', 14),\n",
       " ('재판소', 14),\n",
       " ('재적', 14),\n",
       " ('어', 13),\n",
       " ('부터', 13),\n",
       " ('질', 13),\n",
       " ('노력', 13),\n",
       " ('요구', 13),\n",
       " ('국무총리', 13),\n",
       " ('관리', 13),\n",
       " ('년', 12),\n",
       " ('심판', 12),\n",
       " ('고는', 12),\n",
       " ('처분', 12),\n",
       " ('나', 12),\n",
       " ('집회', 12),\n",
       " ('시행', 12),\n",
       " ('출석', 12),\n",
       " ('찬성', 12),\n",
       " ('자문', 12),\n",
       " ('두', 12),\n",
       " ('대한민국', 11),\n",
       " ('안전', 11),\n",
       " ('공포', 11),\n",
       " ('조약', 11),\n",
       " ('법관', 11),\n",
       " ('다만', 11),\n",
       " ('⑤', 11),\n",
       " ('아니', 11),\n",
       " ('탄핵', 11),\n",
       " ('권한', 11),\n",
       " ('에게', 10),\n",
       " ('5', 10),\n",
       " ('6', 10),\n",
       " ('이나', 10),\n",
       " ('자', 10),\n",
       " ('기관', 10),\n",
       " ('중', 10),\n",
       " ('군사', 10),\n",
       " ('교육', 10),\n",
       " ('과반수', 10),\n",
       " ('까지', 10),\n",
       " ('중요', 10),\n",
       " ('통일', 9),\n",
       " ('어서', 9),\n",
       " ('개정', 9),\n",
       " ('효력', 9),\n",
       " ('체포', 9),\n",
       " ('절차', 9),\n",
       " ('당하', 9),\n",
       " ('근로', 9),\n",
       " ('인', 9),\n",
       " ('동의', 9),\n",
       " ('각부', 9),\n",
       " ('명령', 9),\n",
       " ('대법원', 9),\n",
       " ('대법원장', 9),\n",
       " ('지방', 9),\n",
       " ('자치', 9),\n",
       " ('기본', 8),\n",
       " ('질서', 8),\n",
       " ('생활', 8),\n",
       " ('제정', 8),\n",
       " ('투표', 8),\n",
       " ('도', 8),\n",
       " ('인정', 8),\n",
       " ('구속', 8),\n",
       " ('없이', 8),\n",
       " ('구성', 8),\n",
       " ('행위', 8),\n",
       " ('공공', 8),\n",
       " ('확정', 8),\n",
       " ('상', 8),\n",
       " ('분', 8),\n",
       " ('제출', 8),\n",
       " ('면', 8),\n",
       " ('재판관', 8),\n",
       " ('계엄', 8),\n",
       " ('사무', 8),\n",
       " ('따르', 7),\n",
       " ('것', 7),\n",
       " ('수립', 7),\n",
       " ('유지', 7),\n",
       " ('아', 7),\n",
       " ('이유', 7),\n",
       " ('제한', 7),\n",
       " ('공개', 7),\n",
       " ('한하', 7),\n",
       " ('선출', 7),\n",
       " ('법률안', 7),\n",
       " ('국정', 7),\n",
       " ('감사', 7),\n",
       " ('위원회', 7),\n",
       " ('대법관', 7),\n",
       " ('최초', 7),\n",
       " ('민주', 6),\n",
       " ('게', 6),\n",
       " ('ㅁ', 6),\n",
       " ('승인', 6),\n",
       " ('으며', 6),\n",
       " ('법', 6),\n",
       " ('누구', 6),\n",
       " ('든지', 6),\n",
       " ('등', 6),\n",
       " ('사상', 6),\n",
       " ('청구', 6),\n",
       " ('형사', 6),\n",
       " ('피고인', 6),\n",
       " ('지체', 6),\n",
       " ('⑥', 6),\n",
       " ('인하', 6),\n",
       " ('침해', 6),\n",
       " ('한', 6),\n",
       " ('특별', 6),\n",
       " ('개발', 6),\n",
       " ('회기', 6),\n",
       " ('전', 6),\n",
       " ('의장', 6),\n",
       " ('규정', 6),\n",
       " ('보', 6),\n",
       " ('이내', 6),\n",
       " ('후', 6),\n",
       " ('회계', 6),\n",
       " ('총리', 6),\n",
       " ('처리', 6),\n",
       " ('규칙', 6),\n",
       " ('자격', 6),\n",
       " ('결정', 6),\n",
       " ('중임', 6),\n",
       " ('응하', 6),\n",
       " ('제청', 6),\n",
       " ('당시', 6),\n",
       " ('로써', 5),\n",
       " ('사회적', 5),\n",
       " ('책임', 5),\n",
       " ('평화', 5),\n",
       " ('정치적', 5),\n",
       " ('운영', 5),\n",
       " ('해산', 5),\n",
       " ('발전', 5),\n",
       " ('10', 5),\n",
       " ('으로서', 5),\n",
       " ('제도', 5),\n",
       " ('이에', 5),\n",
       " ('진술', 5),\n",
       " ('붙이', 5),\n",
       " ('심사', 5),\n",
       " ('이익', 5),\n",
       " ('언론', 5),\n",
       " ('출판', 5),\n",
       " ('내용', 5),\n",
       " ('정', 5),\n",
       " ('군인', 5),\n",
       " ('중대', 5),\n",
       " ('제외', 5),\n",
       " ('30', 5),\n",
       " ('재정', 5),\n",
       " ('속하', 5),\n",
       " ('기간', 5),\n",
       " ('재의', 5),\n",
       " ('예산안', 5),\n",
       " ('심의', 5),\n",
       " ('연도', 5),\n",
       " ('개시', 5),\n",
       " ('예산', 5),\n",
       " ('설치', 5),\n",
       " ('소추', 5),\n",
       " ('관', 5),\n",
       " ('계획', 5),\n",
       " ('개정안', 5),\n",
       " ('감사원', 5),\n",
       " ('균형', 5),\n",
       " ('이용', 5),\n",
       " ('육성', 5),\n",
       " ('평화적', 4),\n",
       " ('민주적', 4),\n",
       " ('정치', 4),\n",
       " ('사회', 4),\n",
       " ('영역', 4),\n",
       " ('기회', 4),\n",
       " ('균등', 4),\n",
       " ('향상', 4),\n",
       " ('으로써', 4),\n",
       " ('7', 4),\n",
       " ('8', 4),\n",
       " ('수행', 4),\n",
       " ('체결', 4),\n",
       " ('같', 4),\n",
       " ('목적', 4),\n",
       " ('9', 4),\n",
       " ('평등', 4),\n",
       " ('형', 4),\n",
       " ('검사', 4),\n",
       " ('영장', 4),\n",
       " ('죄', 4),\n",
       " ('변호인', 4),\n",
       " ('방법', 4),\n",
       " ('범죄', 4),\n",
       " ('재산권', 4),\n",
       " ('15', 4),\n",
       " ('비밀', 4),\n",
       " ('타인', 4),\n",
       " ('복리', 4),\n",
       " ('도록', 4),\n",
       " ('보상', 4),\n",
       " ('선거권', 4),\n",
       " ('선포', 4),\n",
       " ('판결', 4),\n",
       " ('집행', 4),\n",
       " ('근로자', 4),\n",
       " ('조건', 4),\n",
       " ('40', 4),\n",
       " ('행하', 4),\n",
       " ('못하', 4),\n",
       " ('다음', 4),\n",
       " ('지출', 4),\n",
       " ('각', 4),\n",
       " ('부담', 4),\n",
       " ('발의', 4),\n",
       " ('저촉', 4),\n",
       " ('내부', 4),\n",
       " ('규율', 4),\n",
       " ('후임자', 4),\n",
       " ('위', 4),\n",
       " ('발하', 4),\n",
       " ('상의', 4),\n",
       " ('긴급', 4),\n",
       " ('관계', 4),\n",
       " ('원로', 4),\n",
       " ('선고', 4),\n",
       " ('간', 4),\n",
       " ('선임', 4),\n",
       " ('농지', 4),\n",
       " ('우리', 3),\n",
       " ('운동', 3),\n",
       " ('임시', 3),\n",
       " ('조국', 3),\n",
       " ('민족', 3),\n",
       " ('하여', 3),\n",
       " ('문화', 3),\n",
       " ('능력', 3),\n",
       " ('최고', 3),\n",
       " ('월', 3),\n",
       " ('12', 3),\n",
       " ('차', 3),\n",
       " ('국제', 3),\n",
       " ('국토', 3),\n",
       " ('중립성', 3),\n",
       " ('지위', 3),\n",
       " ('신분', 3),\n",
       " ('활동', 3),\n",
       " ('위배', 3),\n",
       " ('제소', 3),\n",
       " ('인간', 3),\n",
       " ('개인', 3),\n",
       " ('11', 3),\n",
       " ('종교', 3),\n",
       " ('영전', 3),\n",
       " ('신체', 3),\n",
       " ('압수', 3),\n",
       " ('수색', 3),\n",
       " ('처벌', 3),\n",
       " ('불리', 3),\n",
       " ('현행', 3),\n",
       " ('범인', 3),\n",
       " ('증거', 3),\n",
       " ('⑦', 3),\n",
       " ('주거', 3),\n",
       " ('양심', 3),\n",
       " ('20', 3),\n",
       " ('결사', 3),\n",
       " ('배상', 3),\n",
       " ('행사', 3),\n",
       " ('문서', 3),\n",
       " ('청원', 3),\n",
       " ('군무원', 3),\n",
       " ('군', 3),\n",
       " ('구금', 3),\n",
       " ('자가', 3),\n",
       " ('증진', 3),\n",
       " ('행동권', 3),\n",
       " ('실시', 3),\n",
       " ('사유', 3),\n",
       " ('보전', 3),\n",
       " ('통하', 3),\n",
       " ('계약', 3),\n",
       " ('만료', 3),\n",
       " ('로서', 3),\n",
       " ('편성', 3),\n",
       " ('경비', 3),\n",
       " ('계속', 3),\n",
       " ('변경', 3),\n",
       " ('60', 3),\n",
       " ('상호', 3),\n",
       " ('강화', 3),\n",
       " ('선전', 3),\n",
       " ('외국', 3),\n",
       " ('의견', 3),\n",
       " ('해임', 3),\n",
       " ('건의', 3),\n",
       " ('중앙', 3),\n",
       " ('절', 3),\n",
       " ('위임', 3),\n",
       " ('대통령령', 3),\n",
       " ('안녕', 3),\n",
       " ('조치', 3),\n",
       " ('해제', 3),\n",
       " ('사면', 3),\n",
       " ('감형', 3),\n",
       " ('복권', 3),\n",
       " ('대외', 3),\n",
       " ('결산', 3),\n",
       " ('조정', 3),\n",
       " ('총장', 3),\n",
       " ('지명', 3),\n",
       " ('원장', 3),\n",
       " ('각급', 3),\n",
       " ('연임', 3),\n",
       " ('금고', 3),\n",
       " ('형의', 3),\n",
       " ('파', 3),\n",
       " ('여부', 3),\n",
       " ('법령', 3),\n",
       " ('자원', 3),\n",
       " ('농', 3),\n",
       " ('제안', 3),\n",
       " ('일로', 3),\n",
       " ('불의', 2),\n",
       " ('19', 2),\n",
       " ('계승', 2),\n",
       " ('사명', 2),\n",
       " ('입각', 2),\n",
       " ('정의', 2),\n",
       " ('자율', 2),\n",
       " ('조화', 2),\n",
       " ('들', 2),\n",
       " ('행복', 2),\n",
       " ('거치', 2),\n",
       " ('주권', 2),\n",
       " ('영토', 2),\n",
       " ('지향', 2),\n",
       " ('적', 2),\n",
       " ('방위', 2),\n",
       " ('준수', 2),\n",
       " ('국내', 2),\n",
       " ('의사', 2),\n",
       " ('창달', 2),\n",
       " ('존엄', 2),\n",
       " ('앞', 2),\n",
       " ('경제적', 2),\n",
       " ('차별', 2),\n",
       " ('어떠하', 2),\n",
       " ('훈장', 2),\n",
       " ('적법', 2),\n",
       " ('고문', 2),\n",
       " ('자기', 2),\n",
       " ('신청', 2),\n",
       " ('발부', 2),\n",
       " ('제시', 2),\n",
       " ('범하', 2),\n",
       " ('염려', 2),\n",
       " ('즉시', 2),\n",
       " ('조력', 2),\n",
       " ('자의', 2),\n",
       " ('가족', 2),\n",
       " ('자백', 2),\n",
       " ('부당', 2),\n",
       " ('유죄', 2),\n",
       " ('13', 2),\n",
       " ('입법', 2),\n",
       " ('불', 2),\n",
       " ('처우', 2),\n",
       " ('14', 2),\n",
       " ('이전', 2),\n",
       " ('16', 2),\n",
       " ('17', 2),\n",
       " ('통신', 2),\n",
       " ('시설', 2),\n",
       " ('기준', 2),\n",
       " ('명예', 2),\n",
       " ('피해자', 2),\n",
       " ('피해', 2),\n",
       " ('과학', 2),\n",
       " ('25', 2),\n",
       " ('초병', 2),\n",
       " ('초소', 2),\n",
       " ('유독', 2),\n",
       " ('음식물', 2),\n",
       " ('공급', 2),\n",
       " ('포로', 2),\n",
       " ('비상계엄', 2),\n",
       " ('무죄', 2),\n",
       " ('었', 2),\n",
       " ('더', 2),\n",
       " ('29', 2),\n",
       " ('불법', 2),\n",
       " ('손해', 2),\n",
       " ('면제', 2),\n",
       " ('관련', 2),\n",
       " ('외', 2),\n",
       " ('구조', 2),\n",
       " ('평생', 2),\n",
       " ('학교', 2),\n",
       " ('포함', 2),\n",
       " ('적인', 2),\n",
       " ('고용', 2),\n",
       " ('적정', 2),\n",
       " ('임금', 2),\n",
       " ('원칙', 2),\n",
       " ('여자', 2),\n",
       " ('군경', 2),\n",
       " ('단결권', 2),\n",
       " ('교섭권', 2),\n",
       " ('복지', 2),\n",
       " ('쾌적', 2),\n",
       " ('환경', 2),\n",
       " ('국방', 2),\n",
       " ('이행', 2),\n",
       " ('보통', 2),\n",
       " ('직접', 2),\n",
       " ('직', 2),\n",
       " ('겸하', 2),\n",
       " ('발언', 2),\n",
       " ('남용', 2),\n",
       " ('기업체', 2),\n",
       " ('취득', 2),\n",
       " ('매년', 2),\n",
       " ('임시회', 2),\n",
       " ('100', 2),\n",
       " ('인과', 2),\n",
       " ('하다', 2),\n",
       " ('그러하', 2),\n",
       " ('이송', 2),\n",
       " ('이의', 2),\n",
       " ('내', 2),\n",
       " ('또한', 2),\n",
       " ('날', 2),\n",
       " ('발생', 2),\n",
       " ('90', 2),\n",
       " ('새', 2),\n",
       " ('준하', 2),\n",
       " ('예비비', 2),\n",
       " ('비준', 2),\n",
       " ('동의권', 2),\n",
       " ('포고', 2),\n",
       " ('국군', 2),\n",
       " ('파견', 2),\n",
       " ('조사', 2),\n",
       " ('상황', 2),\n",
       " ('답변', 2),\n",
       " ('징계', 2),\n",
       " ('려면', 2),\n",
       " ('감사원장', 2),\n",
       " ('독립', 2),\n",
       " ('당선', 2),\n",
       " ('후보자', 2),\n",
       " ('70', 2),\n",
       " ('궐', 2),\n",
       " ('상실', 2),\n",
       " ('선서', 2),\n",
       " ('\"', 2),\n",
       " ('보위', 2),\n",
       " ('외교', 2),\n",
       " ('외환', 2),\n",
       " ('비상', 2),\n",
       " ('명하', 2),\n",
       " ('일반', 2),\n",
       " ('수여', 2),\n",
       " ('보좌', 2),\n",
       " ('현역', 2),\n",
       " ('면하', 2),\n",
       " ('이하', 2),\n",
       " ('국유', 2),\n",
       " ('재산', 2),\n",
       " ('간의', 2),\n",
       " ('참모', 2),\n",
       " ('직전', 2),\n",
       " ('세입', 2),\n",
       " ('세출', 2),\n",
       " ('관의', 2),\n",
       " ('장의', 2),\n",
       " ('위반', 2),\n",
       " ('전제', 2),\n",
       " ('심리', 2),\n",
       " ('관할', 2),\n",
       " ('위헌', 2),\n",
       " ('소원', 2),\n",
       " ('인의', 2),\n",
       " ('관중', 2),\n",
       " ('인은', 2),\n",
       " ('가입', 2),\n",
       " ('관여', 2),\n",
       " ('급', 2),\n",
       " ('지시', 2),\n",
       " ('의회', 2),\n",
       " ('기업', 2),\n",
       " ('안정', 2),\n",
       " ('규제', 2),\n",
       " ('달성', 2),\n",
       " ('농업', 2),\n",
       " ('경영', 2),\n",
       " ('지역', 2),\n",
       " ('중소기업', 2),\n",
       " ('어민', 2),\n",
       " ('공고', 2),\n",
       " ('부칙', 2),\n",
       " ('전일', 2),\n",
       " ('유구', 1),\n",
       " ('역사', 1),\n",
       " ('전통', 1),\n",
       " ('빛나', 1),\n",
       " ('건립', 1),\n",
       " ('법통', 1),\n",
       " ('항거', 1),\n",
       " ('이념', 1),\n",
       " ('개혁', 1),\n",
       " ('인도', 1),\n",
       " ('동포애', 1),\n",
       " ('단결', 1),\n",
       " ('공고히', 1),\n",
       " ('폐습', 1),\n",
       " ('타파', 1),\n",
       " ('바탕', 1),\n",
       " ('더욱', 1),\n",
       " ('확고히', 1),\n",
       " ('각인', 1),\n",
       " ('히', 1),\n",
       " ('도로', 1),\n",
       " ('발휘', 1),\n",
       " ('완수', 1),\n",
       " ('기하', 1),\n",
       " ('밖', 1),\n",
       " ('항구적', 1),\n",
       " ('세계', 1),\n",
       " ('인류', 1),\n",
       " ('공영', 1),\n",
       " ('이바지', 1),\n",
       " ('자손', 1),\n",
       " ('영원히', 1),\n",
       " ('확보', 1),\n",
       " ('다짐', 1),\n",
       " ('면서', 1),\n",
       " ('1948', 1),\n",
       " ('걸치', 1),\n",
       " ('이제', 1),\n",
       " ('총', 1),\n",
       " ('강', 1),\n",
       " ('공화국', 1),\n",
       " ('권력', 1),\n",
       " ('나오', 1),\n",
       " ('요건', 1),\n",
       " ('재외', 1),\n",
       " ('한반도', 1),\n",
       " ('부속', 1),\n",
       " ('서로', 1),\n",
       " ('추진', 1),\n",
       " ('침략', 1),\n",
       " ('전쟁', 1),\n",
       " ('부인', 1),\n",
       " ('군은', 1),\n",
       " ('신성', 1),\n",
       " ('일반적', 1),\n",
       " ('법규', 1),\n",
       " ('법과', 1),\n",
       " ('외국인', 1),\n",
       " ('국제법', 1),\n",
       " ('전체', 1),\n",
       " ('봉사자', 1),\n",
       " ('설립', 1),\n",
       " ('복수', 1),\n",
       " ('정당제', 1),\n",
       " ('형성', 1),\n",
       " ('참여', 1),\n",
       " ('는데', 1),\n",
       " ('자금', 1),\n",
       " ('보조', 1),\n",
       " ('전통문화', 1),\n",
       " ('가치', 1),\n",
       " ('추구', 1),\n",
       " ('불가침', 1),\n",
       " ('기본적', 1),\n",
       " ('인권', 1),\n",
       " ('확인', 1),\n",
       " ('성별', 1),\n",
       " ('문화적', 1),\n",
       " ('특수', 1),\n",
       " ('계급', 1),\n",
       " ('형태', 1),\n",
       " ('창설', 1),\n",
       " ('만', 1),\n",
       " ('특권', 1),\n",
       " ('심문', 1),\n",
       " ('보안', 1),\n",
       " ('강제', 1),\n",
       " ('노역', 1),\n",
       " ('강요', 1),\n",
       " ('장기', 1),\n",
       " ('해당', 1),\n",
       " ('도피', 1),\n",
       " ('인멸', 1),\n",
       " ('사후', 1),\n",
       " ('스스로', 1),\n",
       " ('구하', 1),\n",
       " ('있음', 1),\n",
       " ('고지', 1),\n",
       " ('일시', 1),\n",
       " ('장소', 1),\n",
       " ('통지', 1),\n",
       " ('적부', 1),\n",
       " ('폭행', 1),\n",
       " ('협박', 1),\n",
       " ('장기화', 1),\n",
       " ('기망', 1),\n",
       " ('라고', 1),\n",
       " ('정식', 1),\n",
       " ('유일', 1),\n",
       " ('삼', 1),\n",
       " ('행위시', 1),\n",
       " ('소', 1),\n",
       " ('추', 1),\n",
       " ('동일', 1),\n",
       " ('거듭', 1),\n",
       " ('소급', 1),\n",
       " ('참정권', 1),\n",
       " ('박탈', 1),\n",
       " ('친족', 1),\n",
       " ('거주', 1),\n",
       " ('직업', 1),\n",
       " ('선택', 1),\n",
       " ('사생활', 1),\n",
       " ('18', 1),\n",
       " ('국교', 1),\n",
       " ('분리', 1),\n",
       " ('21', 1),\n",
       " ('허', 1),\n",
       " ('검열', 1),\n",
       " ('허가', 1),\n",
       " ('방송', 1),\n",
       " ('신문', 1),\n",
       " ('기능', 1),\n",
       " ('공중', 1),\n",
       " ('도덕', 1),\n",
       " ('윤리', 1),\n",
       " ('여서', 1),\n",
       " ('알', 1),\n",
       " ('니', 1),\n",
       " ('대', 1),\n",
       " ('22', 1),\n",
       " ('학문', 1),\n",
       " ('예술', 1),\n",
       " ('저작자', 1),\n",
       " ('발명가', 1),\n",
       " ('기술자', 1),\n",
       " ('예술가', 1),\n",
       " ('23', 1),\n",
       " ('한계', 1),\n",
       " ('적합', 1),\n",
       " ('수용', 1),\n",
       " ('사용', 1),\n",
       " ('지급', 1),\n",
       " ('24', 1),\n",
       " ('공무', 1),\n",
       " ('담임', 1),\n",
       " ('권', 1),\n",
       " ('26', 1),\n",
       " ('27', 1),\n",
       " ('기밀', 1),\n",
       " ('군용물', 1),\n",
       " ('신속', 1),\n",
       " ('상당', 1),\n",
       " ('까', 1),\n",
       " ('추정', 1),\n",
       " ('당해', 1),\n",
       " ('사건', 1),\n",
       " ('28', 1),\n",
       " ('피의자', 1),\n",
       " ('불기소', 1),\n",
       " ('자신', 1),\n",
       " ('경찰', 1),\n",
       " ('전투', 1),\n",
       " ('훈련', 1),\n",
       " ('생명', 1),\n",
       " ('31', 1),\n",
       " ('자녀', 1),\n",
       " ('적어도', 1),\n",
       " ('초등', 1),\n",
       " ('무상', 1),\n",
       " ('자주성', 1),\n",
       " ('전문', 1),\n",
       " ('성', 1),\n",
       " ('대학', 1),\n",
       " ('자율성', 1),\n",
       " ('진흥', 1),\n",
       " ('교원', 1),\n",
       " ('32', 1),\n",
       " ('최저', 1),\n",
       " ('임금제', 1),\n",
       " ('주의', 1),\n",
       " ('존엄성', 1),\n",
       " ('연소자', 1),\n",
       " ('유공자', 1),\n",
       " ('상이', 1),\n",
       " ('전몰', 1),\n",
       " ('유가족', 1),\n",
       " ('우선적', 1),\n",
       " ('부여받', 1),\n",
       " ('33', 1),\n",
       " ('자주적', 1),\n",
       " ('주요', 1),\n",
       " ('산업체', 1),\n",
       " ('종사', 1),\n",
       " ('34', 1),\n",
       " ('답', 1),\n",
       " ('권익', 1),\n",
       " ('노인과', 1),\n",
       " ('청소년', 1),\n",
       " ('복', 1),\n",
       " ('장애자', 1),\n",
       " ('질병', 1),\n",
       " ('노령', 1),\n",
       " ('재해', 1),\n",
       " ('예방', 1),\n",
       " ('위험', 1),\n",
       " ('35', 1),\n",
       " ('건강', 1),\n",
       " ('환경권', 1),\n",
       " ('주택', 1),\n",
       " ('36', 1),\n",
       " ('혼인', 1),\n",
       " ('양성', 1),\n",
       " ('기초', 1),\n",
       " ('성립', 1),\n",
       " ('모성', 1),\n",
       " ('보건', 1),\n",
       " ('37', 1),\n",
       " ('열거', 1),\n",
       " ('경시', 1),\n",
       " ('본질적', 1),\n",
       " ('38', 1),\n",
       " ('납세', 1),\n",
       " ('39', 1),\n",
       " ('병역', 1),\n",
       " ('입법권', 1),\n",
       " ('41', 1),\n",
       " ('200', 1),\n",
       " ('선거구', 1),\n",
       " ('비례', 1),\n",
       " ('대표제', 1),\n",
       " ('42', 1),\n",
       " ('43', 1),\n",
       " ('44', 1),\n",
       " ('으면', 1),\n",
       " ('석방', 1),\n",
       " ('45', 1),\n",
       " ('행', 1),\n",
       " ('표결', 1),\n",
       " ('지지', 1),\n",
       " ('46', 1),\n",
       " ('청렴', 1),\n",
       " ('우선', 1),\n",
       " ('재', 1),\n",
       " ('산상', 1),\n",
       " ('직위', 1),\n",
       " ('알선', 1),\n",
       " ('47', 1),\n",
       " ('회', 1),\n",
       " ('정기', 1),\n",
       " ('초과', 1),\n",
       " ('명시', 1),\n",
       " ('48', 1),\n",
       " ('부의장', 1),\n",
       " ('49', 1),\n",
       " ('가부', 1),\n",
       " ('동수', 1),\n",
       " ('부결', 1),\n",
       " ('50', 1),\n",
       " ('공표', 1),\n",
       " ('51', 1),\n",
       " ('의안', 1),\n",
       " ('폐기', 1),\n",
       " ('52', 1),\n",
       " ('53', 1),\n",
       " ('서', 1),\n",
       " ('환부', 1),\n",
       " ('폐회', 1),\n",
       " ('일부', 1),\n",
       " ('또', 1),\n",
       " ('수정', 1),\n",
       " ('반', 1),\n",
       " ('수의', 1),\n",
       " ('전과', 1),\n",
       " ('경과', 1),\n",
       " ('54', 1),\n",
       " ('마다', 1),\n",
       " ('롭', 1),\n",
       " ('안이', 1),\n",
       " ('전년도', 1),\n",
       " ('이미', 1),\n",
       " ('사업', 1),\n",
       " ('55', 1),\n",
       " ('넘', 1),\n",
       " ('연한', 1),\n",
       " ('비로서', 1),\n",
       " ('총액', 1),\n",
       " ('차기', 1),\n",
       " ('56', 1),\n",
       " ('가하', 1),\n",
       " ('추가', 1),\n",
       " ('경정', 1),\n",
       " ('57', 1),\n",
       " ('항의', 1),\n",
       " ('금액', 1),\n",
       " ('증가', 1),\n",
       " ('비목', 1),\n",
       " ('58', 1),\n",
       " ('국채', 1),\n",
       " ('모집', 1),\n",
       " ('예산외', 1),\n",
       " ('려', 1),\n",
       " ('미리', 1),\n",
       " ('59', 1),\n",
       " ('조세', 1),\n",
       " ('종목', 1),\n",
       " ('세율', 1),\n",
       " ('원조', 1),\n",
       " ('우호', 1),\n",
       " ('통상', 1),\n",
       " ('항해', 1),\n",
       " ('제약', 1),\n",
       " ('재정적', 1),\n",
       " ('지우', 1),\n",
       " ('군대', 1),\n",
       " ('주류', 1),\n",
       " ('61', 1),\n",
       " ('특정', 1),\n",
       " ('사안', 1),\n",
       " ('서류', 1),\n",
       " ('증인', 1),\n",
       " ('증언', 1),\n",
       " ('62', 1),\n",
       " ('질문', 1),\n",
       " ('응답', 1),\n",
       " ('하여금', 1),\n",
       " ('63', 1),\n",
       " ('64', 1),\n",
       " ('제명', 1),\n",
       " ('65', 1),\n",
       " ('결', 1),\n",
       " ('정지', 1),\n",
       " ('공직', 1),\n",
       " ('파면', 1),\n",
       " ('그치', 1),\n",
       " ('그러', 1),\n",
       " ('민', 1),\n",
       " ('66', 1),\n",
       " ('원수', 1),\n",
       " ('대표', 1),\n",
       " ('계속성', 1),\n",
       " ('수호', 1),\n",
       " ('책무', 1),\n",
       " ('성실', 1),\n",
       " ('행정권', 1),\n",
       " ('수반', 1),\n",
       " ('67', 1),\n",
       " ('득표자', 1),\n",
       " ('과반', 1),\n",
       " ('수가', 1),\n",
       " ('다수', 1),\n",
       " ('표', 1),\n",
       " ('자로', 1),\n",
       " ('득표수', 1),\n",
       " ('총수', 1),\n",
       " ('피', 1),\n",
       " ('선거일', 1),\n",
       " ('현재', 1),\n",
       " ('세', 1),\n",
       " ('달하', 1),\n",
       " ('68', 1),\n",
       " ('내지', 1),\n",
       " ('당선자', 1),\n",
       " ('사망', 1),\n",
       " ('69', 1),\n",
       " ('취임', 1),\n",
       " ('즈음', 1),\n",
       " ('직책', 1),\n",
       " ('성실히', 1),\n",
       " ('엄숙히', 1),\n",
       " ('ㅂ니다', 1),\n",
       " ('71', 1),\n",
       " ('사고', 1),\n",
       " ('정한', 1),\n",
       " ('순서', 1),\n",
       " ('대행', 1),\n",
       " ('72', 1),\n",
       " ('73', 1),\n",
       " ('사절', 1),\n",
       " ('신임', 1),\n",
       " ('접수', 1),\n",
       " ('74', 1),\n",
       " ...]"
      ]
     },
     "execution_count": 282,
     "metadata": {},
     "output_type": "execute_result"
    }
   ],
   "source": [
    "sortlaw # 순위대로"
   ]
  },
  {
   "cell_type": "code",
   "execution_count": 283,
   "metadata": {},
   "outputs": [],
   "source": [
    "maxv = law.vocab()[law.vocab().max()] # 빈도 첫 번째인 애의 빈도 수\n",
    "freq = [_[1]/maxv for _ in sortlaw]  # 첫 번째는 1일 것임"
   ]
  },
  {
   "cell_type": "code",
   "execution_count": 284,
   "metadata": {},
   "outputs": [],
   "source": [
    "index = range(1, len(freq)+1)\n",
    "order = [1/_ for _ in index] # 역순"
   ]
  },
  {
   "cell_type": "code",
   "execution_count": 285,
   "metadata": {},
   "outputs": [
    {
     "data": {
      "text/plain": [
       "<function matplotlib.pyplot.show(*args, **kw)>"
      ]
     },
     "execution_count": 285,
     "metadata": {},
     "output_type": "execute_result"
    },
    {
     "data": {
      "image/png": "[encoded data removed]",
      "text/plain": [
       "<Figure size 432x288 with 1 Axes>"
      ]
     },
     "metadata": {
      "needs_background": "light"
     },
     "output_type": "display_data"
    }
   ],
   "source": [
    "plt.plot(index, freq, 'r') # 실제 frequency\n",
    "plt.plot(index, order, 'b-') # 역순\n",
    "plt.show # 비슷함!"
   ]
  },
  {
   "cell_type": "code",
   "execution_count": 286,
   "metadata": {},
   "outputs": [
    {
     "data": {
      "text/plain": [
       "[<matplotlib.lines.Line2D at 0x21d2a27dd30>]"
      ]
     },
     "execution_count": 286,
     "metadata": {},
     "output_type": "execute_result"
    },
    {
     "data": {
      "image/png": "[encoded data removed]",
      "text/plain": [
       "<Figure size 432x288 with 1 Axes>"
      ]
     },
     "metadata": {
      "needs_background": "light"
     },
     "output_type": "display_data"
    }
   ],
   "source": [
    "from math import log\n",
    "plt.plot([log(_) for _ in index], [log(_) for _ in freq], 'r') # 실제 frequency\n",
    "plt.plot([log(_) for _ in index], [log(_) for _ in order], 'b-')"
   ]
  },
  {
   "cell_type": "code",
   "execution_count": 287,
   "metadata": {},
   "outputs": [
    {
     "name": "stdout",
     "output_type": "stream",
     "text": [
      "0\n",
      "['의', '하', '.', '에', '는', 'ㄴ다', 'ㄴ', '을', '은', '이', '저', '여', '·', 'ㄹ', '조', '를', '법률', '되', ',', '있', '다', '정하', '수', '대통령', '의하', '과', '①', '②', '국가', '헌법', '국민', '또는', '로', '으로', '지', '국회', '때', '아니하', '관하', '그', '며', '가', '③', '와', '회의', '받', '고', '모든', '바', '위하', '가지', '필요', '여야', '위원', '없', '국무', '1', '기타', '선거', '및', '3', '보장', '에서', '정부', '사항', '의원', '항', '자유', '권리', '국', '어야', '의무', '제', '④', '거나', '대하', '일', '2', '직무', '임명', '경제', '조직', '이상', '국회의원', '임기', '얻', '공무원', '경우', '법원', '의결', '기', '단체', '범위', '안', '장', '보호', '재판', '행정', '4', '정책']\n",
      "\n",
      "100\n",
      "['이르', '정당', '재판소', '재적', '어', '부터', '질', '노력', '요구', '국무총리', '관리', '년', '심판', '고는', '처분', '나', '집회', '시행', '출석', '찬성', '자문', '두', '대한민국', '안전', '공포', '조약', '법관', '다만', '⑤', '아니', '탄핵', '권한', '에게', '5', '6', '이나', '자', '기관', '중', '군사', '교육', '과반수', '까지', '중요', '통일', '어서', '개정', '효력', '체포', '절차', '당하', '근로', '인', '동의', '각부', '명령', '대법원', '대법원장', '지방', '자치', '기본', '질서', '생활', '제정', '투표', '도', '인정', '구속', '없이', '구성', '행위', '공공', '확정', '상', '분', '제출', '면', '재판관', '계엄', '사무', '따르', '것', '수립', '유지', '아', '이유', '제한', '공개', '한하', '선출', '법률안', '국정', '감사', '위원회', '대법관', '최초', '민주', '게', 'ㅁ', '승인']\n",
      "\n",
      "200\n",
      "['으며', '법', '누구', '든지', '등', '사상', '청구', '형사', '피고인', '지체', '⑥', '인하', '침해', '한', '특별', '개발', '회기', '전', '의장', '규정', '보', '이내', '후', '회계', '총리', '처리', '규칙', '자격', '결정', '중임', '응하', '제청', '당시', '로써', '사회적', '책임', '평화', '정치적', '운영', '해산', '발전', '10', '으로서', '제도', '이에', '진술', '붙이', '심사', '이익', '언론', '출판', '내용', '정', '군인', '중대', '제외', '30', '재정', '속하', '기간', '재의', '예산안', '심의', '연도', '개시', '예산', '설치', '소추', '관', '계획', '개정안', '감사원', '균형', '이용', '육성', '평화적', '민주적', '정치', '사회', '영역', '기회', '균등', '향상', '으로써', '7', '8', '수행', '체결', '같', '목적', '9', '평등', '형', '검사', '영장', '죄', '변호인', '방법', '범죄', '재산권']\n",
      "\n",
      "300\n",
      "['15', '비밀', '타인', '복리', '도록', '보상', '선거권', '선포', '판결', '집행', '근로자', '조건', '40', '행하', '못하', '다음', '지출', '각', '부담', '발의', '저촉', '내부', '규율', '후임자', '위', '발하', '상의', '긴급', '관계', '원로', '선고', '간', '선임', '농지', '우리', '운동', '임시', '조국', '민족', '하여', '문화', '능력', '최고', '월', '12', '차', '국제', '국토', '중립성', '지위', '신분', '활동', '위배', '제소', '인간', '개인', '11', '종교', '영전', '신체', '압수', '수색', '처벌', '불리', '현행', '범인', '증거', '⑦', '주거', '양심', '20', '결사', '배상', '행사', '문서', '청원', '군무원', '군', '구금', '자가', '증진', '행동권', '실시', '사유', '보전', '통하', '계약', '만료', '로서', '편성', '경비', '계속', '변경', '60', '상호', '강화', '선전', '외국', '의견', '해임']\n",
      "\n",
      "400\n",
      "['건의', '중앙', '절', '위임', '대통령령', '안녕', '조치', '해제', '사면', '감형', '복권', '대외', '결산', '조정', '총장', '지명', '원장', '각급', '연임', '금고', '형의', '파', '여부', '법령', '자원', '농', '제안', '일로', '불의', '19', '계승', '사명', '입각', '정의', '자율', '조화', '들', '행복', '거치', '주권', '영토', '지향', '적', '방위', '준수', '국내', '의사', '창달', '존엄', '앞', '경제적', '차별', '어떠하', '훈장', '적법', '고문', '자기', '신청', '발부', '제시', '범하', '염려', '즉시', '조력', '자의', '가족', '자백', '부당', '유죄', '13', '입법', '불', '처우', '14', '이전', '16', '17', '통신', '시설', '기준', '명예', '피해자', '피해', '과학', '25', '초병', '초소', '유독', '음식물', '공급', '포로', '비상계엄', '무죄', '었', '더', '29', '불법', '손해', '면제', '관련']\n",
      "\n",
      "500\n",
      "['외', '구조', '평생', '학교', '포함', '적인', '고용', '적정', '임금', '원칙', '여자', '군경', '단결권', '교섭권', '복지', '쾌적', '환경', '국방', '이행', '보통', '직접', '직', '겸하', '발언', '남용', '기업체', '취득', '매년', '임시회', '100', '인과', '하다', '그러하', '이송', '이의', '내', '또한', '날', '발생', '90', '새', '준하', '예비비', '비준', '동의권', '포고', '국군', '파견', '조사', '상황', '답변', '징계', '려면', '감사원장', '독립', '당선', '후보자', '70', '궐', '상실', '선서', '\"', '보위', '외교', '외환', '비상', '명하', '일반', '수여', '보좌', '현역', '면하', '이하', '국유', '재산', '간의', '참모', '직전', '세입', '세출', '관의', '장의', '위반', '전제', '심리', '관할', '위헌', '소원', '인의', '관중', '인은', '가입', '관여', '급', '지시', '의회', '기업', '안정', '규제', '달성']\n",
      "\n",
      "600\n",
      "['농업', '경영', '지역', '중소기업', '어민', '공고', '부칙', '전일', '유구', '역사', '전통', '빛나', '건립', '법통', '항거', '이념', '개혁', '인도', '동포애', '단결', '공고히', '폐습', '타파', '바탕', '더욱', '확고히', '각인', '히', '도로', '발휘', '완수', '기하', '밖', '항구적', '세계', '인류', '공영', '이바지', '자손', '영원히', '확보', '다짐', '면서', '1948', '걸치', '이제', '총', '강', '공화국', '권력', '나오', '요건', '재외', '한반도', '부속', '서로', '추진', '침략', '전쟁', '부인', '군은', '신성', '일반적', '법규', '법과', '외국인', '국제법', '전체', '봉사자', '설립', '복수', '정당제', '형성', '참여', '는데', '자금', '보조', '전통문화', '가치', '추구', '불가침', '기본적', '인권', '확인', '성별', '문화적', '특수', '계급', '형태', '창설', '만', '특권', '심문', '보안', '강제', '노역', '강요', '장기', '해당', '도피']\n",
      "\n",
      "700\n",
      "['인멸', '사후', '스스로', '구하', '있음', '고지', '일시', '장소', '통지', '적부', '폭행', '협박', '장기화', '기망', '라고', '정식', '유일', '삼', '행위시', '소', '추', '동일', '거듭', '소급', '참정권', '박탈', '친족', '거주', '직업', '선택', '사생활', '18', '국교', '분리', '21', '허', '검열', '허가', '방송', '신문', '기능', '공중', '도덕', '윤리', '여서', '알', '니', '대', '22', '학문', '예술', '저작자', '발명가', '기술자', '예술가', '23', '한계', '적합', '수용', '사용', '지급', '24', '공무', '담임', '권', '26', '27', '기밀', '군용물', '신속', '상당', '까', '추정', '당해', '사건', '28', '피의자', '불기소', '자신', '경찰', '전투', '훈련', '생명', '31', '자녀', '적어도', '초등', '무상', '자주성', '전문', '성', '대학', '자율성', '진흥', '교원', '32', '최저', '임금제', '주의', '존엄성']\n",
      "\n",
      "800\n",
      "['연소자', '유공자', '상이', '전몰', '유가족', '우선적', '부여받', '33', '자주적', '주요', '산업체', '종사', '34', '답', '권익', '노인과', '청소년', '복', '장애자', '질병', '노령', '재해', '예방', '위험', '35', '건강', '환경권', '주택', '36', '혼인', '양성', '기초', '성립', '모성', '보건', '37', '열거', '경시', '본질적', '38', '납세', '39', '병역', '입법권', '41', '200', '선거구', '비례', '대표제', '42', '43', '44', '으면', '석방', '45', '행', '표결', '지지', '46', '청렴', '우선', '재', '산상', '직위', '알선', '47', '회', '정기', '초과', '명시', '48', '부의장', '49', '가부', '동수', '부결', '50', '공표', '51', '의안', '폐기', '52', '53', '서', '환부', '폐회', '일부', '또', '수정', '반', '수의', '전과', '경과', '54', '마다', '롭', '안이', '전년도', '이미', '사업']\n",
      "\n",
      "900\n",
      "['55', '넘', '연한', '비로서', '총액', '차기', '56', '가하', '추가', '경정', '57', '항의', '금액', '증가', '비목', '58', '국채', '모집', '예산외', '려', '미리', '59', '조세', '종목', '세율', '원조', '우호', '통상', '항해', '제약', '재정적', '지우', '군대', '주류', '61', '특정', '사안', '서류', '증인', '증언', '62', '질문', '응답', '하여금', '63', '64', '제명', '65', '결', '정지', '공직', '파면', '그치', '그러', '민', '66', '원수', '대표', '계속성', '수호', '책무', '성실', '행정권', '수반', '67', '득표자', '과반', '수가', '다수', '표', '자로', '득표수', '총수', '피', '선거일', '현재', '세', '달하', '68', '내지', '당선자', '사망', '69', '취임', '즈음', '직책', '성실히', '엄숙히', 'ㅂ니다', '71', '사고', '정한', '순서', '대행', '72', '73', '사절', '신임', '접수', '74']\n",
      "\n",
      "1000\n",
      "['통수', '군의', '75', '구체적', '76', '내우', '천재', '지변', '위기', '기다리', '여유', '최소한', '안위', '교전', '상태', '불가능', '그때', '폐지', '당연히', '회복', '77', '전시', '사변', '비상사태', '병력', '통고', '78', '임면', '79', '사', '80', '81', '서한', '표시', '82', '국법', '부서', '83', '공사', '84', '내란', '재직', '85', '전직', '예우', '행정부', '86', '명', '통할', '87', '구성원', '88', '부의', '장이', '89', '조약안', '획정', '정부안', '배정', '평가', '분석', '회부', '검찰', '합동', '국립대', '대사', '영기', '업체', '관리자', '91', '앞서', '주재', '92', '93', '94', '95', '소관', '직권', '총리령', '부령', '96', '97', '감찰', '소속하', '98', '99', '차년', '결과', '대상', '101', '사법권', '원인', '102', '부', '103', '104', '105', '정년', '106', '관은']\n",
      "\n",
      "1100\n",
      "['정직', '감봉', '관이', '심신', '장해', '퇴직', '107', '최종적', '전심', '사법', '준용', '108', '소송', '109', '방해', '선량', '풍속', '해하', '110', '상고심', '하의', '간첩죄', '단심', '사형', '111', '관장', '쟁의', '112', '113', '인용', '114', '공정', '위원장', '호선', '원의', '115', '선거인', '명부', '작성', '당', '116', '관리하', '시키', '117', '주민', '종류', '118', '119', '창의', '존중', '성장', '소득', '분배', '시장', '지배', '경제력', '방지', '주체', '민주화', '120', '광물', '지하', '수산', '수력', '자연력', '일정', '채취', '특허', '121', '경자', '유전', '소작', '금지', '생산성', '제고', '합리', '불가피', '사정', '임대차', '위탁', '122', '모두', '생산', '기반', '효율적', '과하', '123', '어업', '어촌', '종합', '지원', '농수산물', '수급', '유통', '개선', '가격', '도모', '자조', '124', '건전']\n",
      "\n"
     ]
    }
   ],
   "source": [
    "# 중요한 단어는 중간부분에 있음! 너무 많이 나오는 단어는 보통 '불용어'\n",
    "for _ in range(int(law.vocab().B()/100)):\n",
    "    i = _*100\n",
    "    print(i)\n",
    "    print([_[0] for _ in sortlaw[i:i+100]])\n",
    "    print()\n",
    "    # 살펴보면 중요한, 의미있는 단어들은 중간부에 나옴."
   ]
  },
  {
   "cell_type": "code",
   "execution_count": 288,
   "metadata": {
    "collapsed": true,
    "jupyter": {
     "outputs_hidden": true
    }
   },
   "outputs": [
    {
     "ename": "SyntaxError",
     "evalue": "invalid syntax (<ipython-input-288-63f912e13c22>, line 2)",
     "output_type": "error",
     "traceback": [
      "\u001b[1;36m  File \u001b[1;32m\"<ipython-input-288-63f912e13c22>\"\u001b[1;36m, line \u001b[1;32m2\u001b[0m\n\u001b[1;33m    TF(Term Freq.) = 고빈도 단어에 가중치를 높이 주자\u001b[0m\n\u001b[1;37m               ^\u001b[0m\n\u001b[1;31mSyntaxError\u001b[0m\u001b[1;31m:\u001b[0m invalid syntax\n"
     ]
    }
   ],
   "source": [
    "TF - IDF\n",
    "TF(Term Freq.) = 고빈도 단어에 가중치를 높이 주자\n",
    "IDF (Inverse Doc. Freq.) = 저빈도 단어에 가중치를 높이 주자\n",
    "TF * IDF => Weighting\n",
    " => d1 = (t1=.-, t2=.-, ...)"
   ]
  },
  {
   "cell_type": "code",
   "execution_count": 289,
   "metadata": {},
   "outputs": [],
   "source": [
    "# Heap's Law\n",
    "# 문서의 길이가 늘어날 때 unique term 개수 예상\n",
    "corpus = ''\n",
    "# K = # 10 - 100\n",
    "# beta = #0.4 - 0.6\n",
    "dl = list()\n",
    "ut = list()\n",
    "for _ in kobill.fileids():\n",
    "    corpus += kobill.open(_).read() # 합치기\n",
    "    text = Text(ma(corpus))\n",
    "    dl.append(text.vocab().N()) # document word\n",
    "    ut.append(text.vocab().B()) # unique"
   ]
  },
  {
   "cell_type": "code",
   "execution_count": 90,
   "metadata": {},
   "outputs": [
    {
     "data": {
      "image/png": "[encoded data removed]",
      "text/plain": [
       "<Figure size 432x288 with 1 Axes>"
      ]
     },
     "metadata": {
      "needs_background": "light"
     },
     "output_type": "display_data"
    }
   ],
   "source": [
    "# 그림그려서 K 와 beta 값 찾기\n",
    "K = 10\n",
    "beta = 0.5\n",
    "plt.plot(dl, ut, 'r-') # unique term\n",
    "plt.plot(dl, [K*_**beta for _ in dl], 'b-') # unique term 예상 개수\n",
    "plt.show()"
   ]
  },
  {
   "cell_type": "code",
   "execution_count": null,
   "metadata": {},
   "outputs": [],
   "source": [
    "NLP의 목적 -> 사람들의 언어패턴을 연구하고자 함\n",
    "Statistical Language Model\n",
    "어떤 문단이 있을 때\n",
    "s = '대한민국의 주권은 국민으로부터 나온다.'\n",
    "term 1 = 대한민국의, 100 (freq)\n",
    "t2 = 주권은, 10\n",
    "t3 = 국민으로부터, 200\n",
    "t4 = 나온다, 500\n",
    "t5 = ., 1000\n",
    "N(sentence 수) = 1000\n",
    "P(t5) = freq(t5)/N = 1.0\n",
    "P(t1) = 100/1000 = 0.1\n",
    "그럼 P(s) = P(t1, t2, t3, t4, t5) = 결합확률(JointProb)\n",
    "        = P(t3,t4,t5|t1,t2)P(t2|t1)P(t1) = ...\n",
    "        = P(t5|t1,t2,t3,t4)P(t1,t2,t3,t4)\n",
    "                           P(t4|t1,t2,t3)P(t3|t1,t2)P(t2|t1)P(t1)\n",
    "if s' = '대한민국의 주권은 국민에게* 나온다',\n",
    "    then t6 = '국민에게' and\n",
    "         P(s') = P(t1,t2,t3,t6,t5) = 0 이 되어버림.\n",
    "따라서 우린 1st Markov Assumption(Chain)을 한다\n",
    "P(S)는 앞에 나온 모든 것들의 영향을 받는 게 아닌 바로 직전만 영향을 받음\n",
    "      즉 P(S) = P(t5|(t1,t2,t3),t4)P(t4|(t1,t2),t3)P(t3|(t1),t2)P(t2|t1)P(t1)\n",
    "              = P(t5|t4)P(t4|t3)P(t3|t2)P(t2|t1)P(t1)\n",
    "이렇게 확률을 쪼개는 걸 N-gram, 위에처럼 두개로 쪼개는 걸 Bi-gram 이라고 함\n",
    "P(t5|t4) = P(t4,t5)/P(t4)\n",
    "         = freq(t4,t5)(/N)/freq(t4)(/N)\n",
    "         = freq(t4,t5)/freq(t4) \n",
    "\n",
    "실제로,\n",
    "P(?|t4) = sum(freq(?,t4)/freq(t4))\n",
    "        = (t4,t1),(t4,t2),(t4,t3),(t4,t5),(t4,t6)\n",
    "        = freq 이용"
   ]
  },
  {
   "cell_type": "code",
   "execution_count": 91,
   "metadata": {},
   "outputs": [],
   "source": [
    "# 어절 단위 N-gram 만들기"
   ]
  },
  {
   "cell_type": "code",
   "execution_count": 290,
   "metadata": {},
   "outputs": [],
   "source": [
    "def ngram_eojeol(s, N=2, opt = False): # N = 몇개로 나눌 건지\n",
    "    token = s.split()\n",
    "    ngram = list()\n",
    "    for i in range(len(token)-(N-1)):\n",
    "        ngram.append(''.join(token[i:i+N])\n",
    "                    if opt else tuple(token[i:i+N]))\n",
    "    return ngram"
   ]
  },
  {
   "cell_type": "code",
   "execution_count": 97,
   "metadata": {},
   "outputs": [
    {
     "data": {
      "text/plain": [
       "[('대한민국의', '주권은'), ('주권은', '국민에게'), ('국민에게', '나온다')]"
      ]
     },
     "execution_count": 97,
     "metadata": {},
     "output_type": "execute_result"
    }
   ],
   "source": [
    "ngram_eojeol('대한민국의 주권은 국민에게 나온다')"
   ]
  },
  {
   "cell_type": "code",
   "execution_count": 101,
   "metadata": {},
   "outputs": [],
   "source": [
    "# 음절단위\n",
    "def ngram_umjeol(s, N=2, opt = False):\n",
    "    ngram = list()\n",
    "    for i in range(len(s)-(N-1)):\n",
    "        ngram.append(''.join(s[i:i+N])\n",
    "                    if opt else tuple(s[i:i+N]))\n",
    "    return ngram"
   ]
  },
  {
   "cell_type": "code",
   "execution_count": 102,
   "metadata": {},
   "outputs": [
    {
     "data": {
      "text/plain": [
       "[('대', '한', '민'),\n",
       " ('한', '민', '국'),\n",
       " ('민', '국', '의'),\n",
       " ('국', '의', ' '),\n",
       " ('의', ' ', '주'),\n",
       " (' ', '주', '권'),\n",
       " ('주', '권', '은'),\n",
       " ('권', '은', ' '),\n",
       " ('은', ' ', '국'),\n",
       " (' ', '국', '민'),\n",
       " ('국', '민', '에'),\n",
       " ('민', '에', '게'),\n",
       " ('에', '게', ' '),\n",
       " ('게', ' ', '나'),\n",
       " (' ', '나', '온'),\n",
       " ('나', '온', '다')]"
      ]
     },
     "execution_count": 102,
     "metadata": {},
     "output_type": "execute_result"
    }
   ],
   "source": [
    "ngram_umjeol('대한민국의 주권은 국민에게 나온다', 3)"
   ]
  },
  {
   "cell_type": "code",
   "execution_count": null,
   "metadata": {},
   "outputs": [],
   "source": [
    "P('대한') = freq('대', '한') / freq('대')\n",
    "            Bigram            Unigram"
   ]
  },
  {
   "cell_type": "code",
   "execution_count": 106,
   "metadata": {},
   "outputs": [],
   "source": [
    "from collections import defaultdict\n",
    "from konlpy.corpus import kolaw\n",
    "NGRAM = defaultdict(lambda:0)\n",
    "corpus = kolaw.open(kolaw.fileids()[0]).read()\n",
    "for _ in ngram_umjeol(corpus, 1):\n",
    "    NGRAM[_] += 1"
   ]
  },
  {
   "cell_type": "code",
   "execution_count": 109,
   "metadata": {},
   "outputs": [
    {
     "data": {
      "text/plain": [
       "18884"
      ]
     },
     "execution_count": 109,
     "metadata": {},
     "output_type": "execute_result"
    }
   ],
   "source": [
    "sum(NGRAM.values())"
   ]
  },
  {
   "cell_type": "code",
   "execution_count": 110,
   "metadata": {},
   "outputs": [
    {
     "data": {
      "text/plain": [
       "0.008472781190425757"
      ]
     },
     "execution_count": 110,
     "metadata": {},
     "output_type": "execute_result"
    }
   ],
   "source": [
    "N = sum(NGRAM.values())\n",
    "NGRAM[('대',)]/N"
   ]
  },
  {
   "cell_type": "code",
   "execution_count": 156,
   "metadata": {},
   "outputs": [],
   "source": [
    "# bigram 이랑도 같이\n",
    "from collections import defaultdict\n",
    "from konlpy.corpus import kolaw\n",
    "UNIGRAM = defaultdict(lambda:0)\n",
    "BIGRAM = defaultdict(lambda:0)\n",
    "corpus = kolaw.open(kolaw.fileids()[0]).read()\n",
    "for _ in ngram_umjeol(corpus, 1, True):\n",
    "    UNIGRAM[_] += 1\n",
    "for _ in ngram_umjeol(corpus, 2, True):\n",
    "    BIGRAM[_] += 1"
   ]
  },
  {
   "cell_type": "code",
   "execution_count": 157,
   "metadata": {},
   "outputs": [
    {
     "data": {
      "text/plain": [
       "0.008472781190425757"
      ]
     },
     "execution_count": 157,
     "metadata": {},
     "output_type": "execute_result"
    }
   ],
   "source": [
    "N = sum(NGRAM.values())\n",
    "NGRAM[('대',)]/N"
   ]
  },
  {
   "cell_type": "code",
   "execution_count": 158,
   "metadata": {},
   "outputs": [
    {
     "name": "stdout",
     "output_type": "stream",
     "text": [
      "대한 27 0.16875\n",
      "대하 9 0.05625\n",
      "대학 2 0.0125\n",
      "대표 2 0.0125\n",
      "대통 87 0.54375\n",
      "대의 1 0.00625\n",
      "대행 1 0.00625\n",
      "대외 3 0.01875\n",
      "대사 1 0.00625\n",
      "대상 1 0.00625\n",
      "대법 25 0.15625\n",
      "대차 1 0.00625\n"
     ]
    }
   ],
   "source": [
    "for _ in filter(lambda k:k[0] == '대', BIGRAM.keys()):\n",
    "    print(_, BIGRAM[_], BIGRAM[_]/UNIGRAM['대'])"
   ]
  },
  {
   "cell_type": "code",
   "execution_count": 159,
   "metadata": {},
   "outputs": [],
   "source": [
    "find_key = lambda k, gram:filter(\n",
    "    lambda tokens:''.join(tokens[:len(k)])== k, gram.keys())"
   ]
  },
  {
   "cell_type": "code",
   "execution_count": 160,
   "metadata": {},
   "outputs": [
    {
     "data": {
      "text/plain": [
       "['대']"
      ]
     },
     "execution_count": 160,
     "metadata": {},
     "output_type": "execute_result"
    }
   ],
   "source": [
    "list(find_key('대', UNIGRAM))"
   ]
  },
  {
   "cell_type": "code",
   "execution_count": 161,
   "metadata": {},
   "outputs": [
    {
     "data": {
      "text/plain": [
       "['대한']"
      ]
     },
     "execution_count": 161,
     "metadata": {},
     "output_type": "execute_result"
    }
   ],
   "source": [
    "list(find_key('대한', BIGRAM))"
   ]
  },
  {
   "cell_type": "code",
   "execution_count": 162,
   "metadata": {},
   "outputs": [],
   "source": [
    "# lambda 이용, 이건 헷갈리니 그냥 무시하고 밑에 tri-gram 부분 보자\n",
    "find_key = lambda k, gram:filter(\n",
    "    lambda tokens:''.join(tokens[:len(k)]) == k, gram.keys())\n",
    "find_value = lambda k, gram:\\\n",
    "    gram[k] if k in gram.keys() else 0\n",
    "find_prob = lambda k, given, gram:\\\n",
    "    [(_, find_value(_, gram)/given) for _ in find_key(k, gram)]\n",
    "find_max = lambda gram:\\\n",
    "    sorted(gram, key = lambda g:g[1], reverse = True)[0]"
   ]
  },
  {
   "cell_type": "code",
   "execution_count": 163,
   "metadata": {},
   "outputs": [
    {
     "data": {
      "text/plain": [
       "[('대한', 0.16875),\n",
       " ('대하', 0.05625),\n",
       " ('대학', 0.0125),\n",
       " ('대표', 0.0125),\n",
       " ('대통', 0.54375),\n",
       " ('대의', 0.00625),\n",
       " ('대행', 0.00625),\n",
       " ('대외', 0.01875),\n",
       " ('대사', 0.00625),\n",
       " ('대상', 0.00625),\n",
       " ('대법', 0.15625),\n",
       " ('대차', 0.00625)]"
      ]
     },
     "execution_count": 163,
     "metadata": {},
     "output_type": "execute_result"
    }
   ],
   "source": [
    "find_prob('대', find_value(list(find_key('대', UNIGRAM))[0], UNIGRAM), BIGRAM)"
   ]
  },
  {
   "cell_type": "code",
   "execution_count": 164,
   "metadata": {},
   "outputs": [
    {
     "data": {
      "text/plain": [
       "160"
      ]
     },
     "execution_count": 164,
     "metadata": {},
     "output_type": "execute_result"
    }
   ],
   "source": [
    "find_value(list(find_key('대', UNIGRAM))[0], UNIGRAM)"
   ]
  },
  {
   "cell_type": "code",
   "execution_count": 165,
   "metadata": {},
   "outputs": [
    {
     "name": "stdout",
     "output_type": "stream",
     "text": [
      "대 통 0.54375\n",
      "통 령 0.7699115044247787\n",
      "령 은 0.2761904761904762\n",
      "은   1.0\n",
      "  국 0.05892135899263483\n",
      "국 회 0.27384615384615385\n",
      "회 의 0.4431137724550898\n",
      "의   0.6396946564885496\n",
      "  국 0.05892135899263483\n",
      "국 회 0.27384615384615385\n"
     ]
    }
   ],
   "source": [
    "# 10번 돌렸을 때\n",
    "key = '대'\n",
    "for _ in range(10):\n",
    "    nextkey = find_max(find_prob(key,\n",
    "                                find_value(list(find_key(key, UNIGRAM))[0], UNIGRAM), BIGRAM))\n",
    "    print(key, ''.join(nextkey[0][len(key):]), nextkey[1])\n",
    "    key = ''.join(nextkey[0][len(key):])"
   ]
  },
  {
   "cell_type": "code",
   "execution_count": null,
   "metadata": {},
   "outputs": [],
   "source": [
    "# Tri-gram\n",
    "P(?|t1, t2) = P(?, t1,t2)/P(t1,t2)\n",
    "            freq(?, t1,t2)/freq(t1,t2)\n",
    "            TRIGRAM        BIGRAM"
   ]
  },
  {
   "cell_type": "code",
   "execution_count": 291,
   "metadata": {},
   "outputs": [],
   "source": [
    "from collections import defaultdict\n",
    "from konlpy.corpus import kolaw\n",
    "GRAM1 = defaultdict(lambda:0)\n",
    "GRAM2 = defaultdict(lambda:0)\n",
    "GRAM3 = defaultdict(lambda:0)\n",
    "\n",
    "corpus = kolaw.open(kolaw.fileids()[0]).read()\n",
    "for _ in ngram_umjeol(corpus, 1, True):\n",
    "    GRAM1[_] += 1\n",
    "for _ in ngram_umjeol(corpus, 2, True):\n",
    "    GRAM2[_] += 1\n",
    "for _ in ngram_umjeol(corpus, 3, True):\n",
    "    GRAM3[_] += 1"
   ]
  },
  {
   "cell_type": "code",
   "execution_count": 172,
   "metadata": {},
   "outputs": [],
   "source": [
    "# 어떤 그램이든 key(Prior)를 찾아온다\n",
    "def find_key(key, base):\n",
    "    return list(filter(lambda keys:keys[:len(key)] == key,\n",
    "                  base.keys()))"
   ]
  },
  {
   "cell_type": "code",
   "execution_count": 173,
   "metadata": {},
   "outputs": [
    {
     "data": {
      "text/plain": [
       "['대한민', '대한국', '대한 ']"
      ]
     },
     "execution_count": 173,
     "metadata": {},
     "output_type": "execute_result"
    }
   ],
   "source": [
    "find_key('대한', GRAM3) # 대한 으로 시작하는 것들"
   ]
  },
  {
   "cell_type": "code",
   "execution_count": 174,
   "metadata": {},
   "outputs": [
    {
     "data": {
      "text/plain": [
       "['국민은', '국민생', '국민투', '국민에', '국민으', '국민이', '국민을', '국민전', '국민의', '국민 ', '국민경']"
      ]
     },
     "execution_count": 174,
     "metadata": {},
     "output_type": "execute_result"
    }
   ],
   "source": [
    "find_key('국민', GRAM3)"
   ]
  },
  {
   "cell_type": "code",
   "execution_count": 182,
   "metadata": {},
   "outputs": [],
   "source": [
    "# 확률적으로 '국민' 뒤에 뭐가 들어올까?\n",
    "def find_prob(key, freq, base):\n",
    "    return [(_, base[_], base[_]/freq if freq > 0 else 0) for _ in find_key(key, base)]"
   ]
  },
  {
   "cell_type": "code",
   "execution_count": 178,
   "metadata": {},
   "outputs": [
    {
     "data": {
      "text/plain": [
       "[('국민은', 36, 0.5217391304347826),\n",
       " ('국민생', 1, 0.014492753623188406),\n",
       " ('국민투', 7, 0.10144927536231885),\n",
       " ('국민에', 3, 0.043478260869565216),\n",
       " ('국민으', 1, 0.014492753623188406),\n",
       " ('국민이', 2, 0.028985507246376812),\n",
       " ('국민을', 2, 0.028985507246376812),\n",
       " ('국민전', 1, 0.014492753623188406),\n",
       " ('국민의', 8, 0.11594202898550725),\n",
       " ('국민 ', 2, 0.028985507246376812),\n",
       " ('국민경', 6, 0.08695652173913043)]"
      ]
     },
     "execution_count": 178,
     "metadata": {},
     "output_type": "execute_result"
    }
   ],
   "source": [
    "find_prob('국민', GRAM2['국민'], GRAM3)"
   ]
  },
  {
   "cell_type": "code",
   "execution_count": 188,
   "metadata": {},
   "outputs": [],
   "source": [
    "# 가장 높은 확률 값 max를 찾고 싶다\n",
    "def find_max(key, freq, base):\n",
    "    return sorted(find_prob(key, freq, base), \n",
    "                  key = lambda _:_[-1], reverse = True)[0] # 제일 높은 애, 내림차순\n",
    "\n",
    "# 출력\n",
    "def ngram_print(key, n, base1, base2):   # n = 몇차 돌릴건지 base2 = 분자\n",
    "    for _ in range(n):\n",
    "        nextkey = find_max(key, base1[key], base2)\n",
    "        print(key)\n",
    "        print(nextkey)\n",
    "\n",
    "        key = nextkey[0][-len(key):]"
   ]
  },
  {
   "cell_type": "code",
   "execution_count": 190,
   "metadata": {},
   "outputs": [
    {
     "name": "stdout",
     "output_type": "stream",
     "text": [
      "국민\n",
      "('국민은', 36, 0.5217391304347826)\n",
      "민은\n",
      "('민은 ', 36, 1.0)\n",
      "은 \n",
      "('은 법', 47, 0.23618090452261306)\n",
      " 법\n",
      "(' 법률', 123, 0.831081081081081)\n",
      "법률\n",
      "('법률이', 60, 0.46875)\n",
      "률이\n",
      "('률이 ', 59, 0.9833333333333333)\n",
      "이 \n",
      "('이 정', 59, 0.3277777777777778)\n",
      " 정\n",
      "(' 정하', 54, 0.3724137931034483)\n",
      "정하\n",
      "('정하는', 50, 0.8928571428571429)\n",
      "하는\n",
      "('하는 ', 70, 0.9859154929577465)\n",
      "는 \n",
      "('는 바', 37, 0.10364145658263306)\n",
      " 바\n",
      "(' 바에', 37, 0.9736842105263158)\n",
      "바에\n",
      "('바에 ', 37, 1.0)\n",
      "에 \n",
      "('에 의', 86, 0.303886925795053)\n",
      " 의\n",
      "(' 의하', 72, 0.5538461538461539)\n",
      "의하\n",
      "('의하여', 66, 0.9166666666666666)\n",
      "하여\n",
      "('하여 ', 145, 0.7837837837837838)\n",
      "여 \n",
      "('여 국', 23, 0.1564625850340136)\n",
      " 국\n",
      "(' 국회', 78, 0.31451612903225806)\n",
      "국회\n",
      "('국회의', 45, 0.5056179775280899)\n"
     ]
    }
   ],
   "source": [
    "ngram_print('국민', 20, GRAM2, GRAM3) # 음절단위 분석, 확률적으로 문장 만들기"
   ]
  },
  {
   "cell_type": "code",
   "execution_count": null,
   "metadata": {},
   "outputs": [],
   "source": [
    "# -> 만들어진 문장: 국민은 법률이 정하는 바에 의하여 국회의 ~.. '.'이 나올때까지 돌려서\n",
    "# 문장 완성해봐라"
   ]
  },
  {
   "cell_type": "code",
   "execution_count": null,
   "metadata": {},
   "outputs": [],
   "source": []
  },
  {
   "cell_type": "markdown",
   "metadata": {},
   "source": [
    "## BPE\n",
    "- 핵심 단어 찾기"
   ]
  },
  {
   "cell_type": "code",
   "execution_count": null,
   "metadata": {},
   "outputs": [],
   "source": [
    "국 민 을 10\n",
    "국 민 의 1\n",
    "국 민 에 게 2\n",
    "\n",
    "(국, 민) 13, (민, 을) 10, (민, 의), ...\n",
    "\n",
    "국민 을 10\n",
    "국민 의 1\n",
    "국민 에 게 2\n",
    "국민 => Embedding"
   ]
  },
  {
   "cell_type": "code",
   "execution_count": 292,
   "metadata": {},
   "outputs": [],
   "source": [
    "# BPE\n",
    "def convert_data(data): # {'문자열': 빈도}\n",
    "    newdata = dict()\n",
    "    for k, v in data.items():\n",
    "        newdata[' '.join(list(k) + ['</w>'])] = v # 덮어쓰기\n",
    "    return newdata\n",
    "\n",
    "def find_pair(data): # 문자열 -> 쌍으로 변환\n",
    "    pair = defaultdict(lambda:0)\n",
    "    for k,v in data.items(): # l o w </w> : 5\n",
    "        tokens = k.split() # [l, o, w, </w>]\n",
    "        for i in range(len(tokens)-1): # (l,o):5, (o, w):5\n",
    "            pair[tuple(tokens[i:i+2])] += v\n",
    "    return pair\n",
    "\n",
    "import re\n",
    "def merge_pair(data, key): # max pattern -> 합치기\n",
    "    newdata = dict()\n",
    "    for k, v in data.items():\n",
    "        newkey = re.sub(' '.join(key), ''.join(key), k) # 'e s'\n",
    "        newdata[newkey] = v\n",
    "    return newdata"
   ]
  },
  {
   "cell_type": "code",
   "execution_count": 293,
   "metadata": {},
   "outputs": [],
   "source": [
    "data = convert_data({'low':5, 'lower':2, 'newest':6, 'widest':3})\n",
    "pair = find_pair(data)"
   ]
  },
  {
   "cell_type": "code",
   "execution_count": 294,
   "metadata": {},
   "outputs": [
    {
     "data": {
      "text/plain": [
       "('e', 's')"
      ]
     },
     "execution_count": 294,
     "metadata": {},
     "output_type": "execute_result"
    }
   ],
   "source": [
    "# pair 중 max 찾기\n",
    "key = max(pair, key=pair.get)\n",
    "key"
   ]
  },
  {
   "cell_type": "code",
   "execution_count": 295,
   "metadata": {},
   "outputs": [
    {
     "data": {
      "text/plain": [
       "{'l o w </w>': 5,\n",
       " 'l o w e r </w>': 2,\n",
       " 'n e w es t </w>': 6,\n",
       " 'w i d es t </w>': 3}"
      ]
     },
     "execution_count": 295,
     "metadata": {},
     "output_type": "execute_result"
    }
   ],
   "source": [
    "merge_pair(data,key)"
   ]
  },
  {
   "cell_type": "code",
   "execution_count": 296,
   "metadata": {},
   "outputs": [
    {
     "data": {
      "text/plain": [
       "['low', 'est</w>']"
      ]
     },
     "execution_count": 296,
     "metadata": {},
     "output_type": "execute_result"
    }
   ],
   "source": [
    "data = convert_data({'low':5, 'lower':2, 'newest':6, 'widest':3})\n",
    "\n",
    "for _ in range(5):\n",
    "    pair = find_pair(data)\n",
    "    key = max(pair, key=pair.get)\n",
    "    data = merge_pair(data, key)\n",
    "    \n",
    "list (set([token for _ in data.keys() \n",
    "            for token in _.split() \n",
    "            if len(token) > 1 and token != '</w>']))"
   ]
  },
  {
   "cell_type": "code",
   "execution_count": 297,
   "metadata": {},
   "outputs": [],
   "source": [
    "# 에시\n",
    "data = defaultdict(lambda:0)\n",
    "for _ in corpus.split():\n",
    "    if _.startswith('국민'):\n",
    "        data[_] += 1"
   ]
  },
  {
   "cell_type": "code",
   "execution_count": 298,
   "metadata": {},
   "outputs": [
    {
     "data": {
      "text/plain": [
       "defaultdict(<function __main__.<lambda>()>,\n",
       "            {'국민생활의': 1,\n",
       "             '국민투표에': 3,\n",
       "             '국민에게': 2,\n",
       "             '국민으로부터': 1,\n",
       "             '국민이': 2,\n",
       "             '국민전체에': 1,\n",
       "             '국민에': 1,\n",
       "             '국민의': 7,\n",
       "             '국민은': 35,\n",
       "             '국민을': 1,\n",
       "             '국민': 2,\n",
       "             '국민경제의': 3,\n",
       "             '국민경제자문회의를': 1,\n",
       "             '국민투표의': 1,\n",
       "             '국민투표사무에': 1,\n",
       "             '국민경제상': 1})"
      ]
     },
     "execution_count": 298,
     "metadata": {},
     "output_type": "execute_result"
    }
   ],
   "source": [
    "data"
   ]
  },
  {
   "cell_type": "code",
   "execution_count": 299,
   "metadata": {},
   "outputs": [
    {
     "data": {
      "text/plain": [
       "['의</w>', '국민의</w>', '국민은</w>', '국민']"
      ]
     },
     "execution_count": 299,
     "metadata": {},
     "output_type": "execute_result"
    }
   ],
   "source": [
    "cdata = convert_data(data)\n",
    "\n",
    "for _ in range(5):\n",
    "    pair = find_pair(cdata)\n",
    "    key = max(pair, key = pair.get)\n",
    "    cdata = merge_pair(cdata, key)\n",
    "    \n",
    "list (set([token for _ in cdata.keys() \n",
    "            for token in _.split() \n",
    "            if len(token) > 1 and token != '</w>']))"
   ]
  },
  {
   "cell_type": "code",
   "execution_count": null,
   "metadata": {},
   "outputs": [],
   "source": [
    "# '의'와 '국민'이 엄청 많다"
   ]
  },
  {
   "cell_type": "code",
   "execution_count": 308,
   "metadata": {},
   "outputs": [],
   "source": [
    "# another example\n",
    "notspell = re.compile('[^A-Za-z0-9가-힣ㄱ-ㅎㅏ-ㅣ \\n\\t]')\n",
    "whitespace = re.compile('\\s+')"
   ]
  },
  {
   "cell_type": "code",
   "execution_count": 312,
   "metadata": {},
   "outputs": [
    {
     "name": "stdout",
     "output_type": "stream",
     "text": [
      "['육아휴직', '아휴직', '휴직', '비용', '이하', '무원', '급여', '발생']\n",
      "['육아휴직', '아휴직', '휴직', '비용', '이하', '무원', '급여', '발생']\n",
      "['육아휴직', '육아', '휴직', '공무원', '이하', '무원', '급여', '발생']\n",
      "['육아휴직', '경우', '고용', '아휴직', '휴직', '이하', '급여', '발생']\n",
      "['하여', '학위', '간호', '수업연', '학사', '간호과']\n",
      "['경우', '손해', '제3', '업자', '사업자', '원사업자']\n",
      "['하여', '경우', '행정', '예고', '입법']\n",
      "['국군', 'UAE', '파견', '201', '부대', '훈련']\n",
      "['연장', '국군', '파견', '201', '부대', '국군부대', '해역']\n",
      "['하여', '결혼', '결혼중개업', '제1', '중개', '조의', '제10', '결혼중개']\n"
     ]
    }
   ],
   "source": [
    "for _ in kobill.fileids():\n",
    "    corpus = kobill.open(_).read()\n",
    "    corpus = notspell.sub(' ', corpus)\n",
    "    corpus = whitespace.sub(' ', corpus)\n",
    "    data = defaultdict(lambda:0)\n",
    "    for _ in corpus.split():\n",
    "        data[_] += 1\n",
    "        \n",
    "    data = convert_data(data)\n",
    "        \n",
    "    for _ in range(20):\n",
    "        pair = find_pair(data)\n",
    "        key = max(pair, key=pair.get)\n",
    "        data = merge_pair(data, key)\n",
    "\n",
    "    print(list(set([token for _ in data.keys() \n",
    "                for token in _.split() \n",
    "                if len(token) > 1 and not re.search(r'</w>', token)])))"
   ]
  },
  {
   "cell_type": "code",
   "execution_count": 310,
   "metadata": {
    "collapsed": true,
    "jupyter": {
     "outputs_hidden": true
    }
   },
   "outputs": [
    {
     "data": {
      "text/plain": [
       "'국가공무원법 일부개정법률안\\n\\n(정의화의원 대표발의 )\\n\\n 의 안\\n 번 호\\n\\n9891\\n\\n발의연월일 : 2010.  11.  12.  \\n\\n발  의  자 : 정의화․이명수․김을동 \\n\\n이사철․여상규․안규백\\n\\n황영철․박영아․김정훈\\n\\n김학송 의원(10인)\\n\\n제안이유 및 주요내용\\n\\n  초등학교 저학년의 경우에도 부모의 따뜻한 사랑과 보살핌이 필요\\n\\n한 나이이나, 현재 공무원이 자녀를 양육하기 위하여 육아휴직을 할 \\n\\n수 있는 자녀의 나이는 만 6세 이하로 되어 있어 초등학교 저학년인 \\n\\n자녀를 돌보기 위해서는 해당 부모님은 일자리를 그만 두어야 하고 \\n\\n이는 곧 출산의욕을 저하시키는 문제로 이어질 수 있을 것임.\\n\\n  따라서 육아휴직이 가능한 자녀의 연령을 만 8세 이하로 개정하려\\n\\n는 것임(안 제71조제2항제4호).\\n\\n- 1 -\\n\\n\\x0c법률  제        호\\n\\n국가공무원법 일부개정법률안\\n\\n국가공무원법 일부를 다음과 같이 개정한다.\\n\\n제71조제2항제4호 중 “만 6세 이하의 초등학교 취학 전 자녀를”을 “만 \\n\\n8세 이하(취학 중인 경우에는 초등학교 2학년 이하를 말한다)의 자녀를”\\n\\n로 한다.\\n\\n부      칙\\n\\n이 법은 공포한 날부터 시행한다.\\n\\n- 3 -\\n\\n\\x0c신 ·구조문대비표\\n\\n현      행\\n\\n개   정   안\\n\\n제71조(휴직) ① (생  략)\\n\\n제71조(휴직) ① (현행과 같음)\\n\\n  ② 임용권자는 공무원이 다음 \\n  ② -------------------------\\n\\n각 호의 어느 하나에 해당하는 \\n\\n----------------------------\\n\\n사유로 휴직을 원하면 휴직을 \\n\\n----------------------------\\n\\n명할 수 있다. 다만, 제4호의 \\n\\n-------------.---------------\\n\\n경우에는 대통령령으로 정하는 \\n\\n----------------------------\\n\\n특별한 사정이 없으면 휴직을 \\n\\n----------------------------\\n\\n명하여야 한다.\\n\\n--------------.\\n\\n  1. ∼ 3. (생  략)\\n\\n  1. ∼ 3. (현행과 같음)\\n\\n  4. 만 6세 이하의 초등학교 취\\n\\n  4. 만 8세 이하(취학 중인 경우\\n\\n학 전 자녀를 양육하기 위하\\n\\n에는 초등학교 2학년 이하를 \\n\\n여 필요하거나 여자공무원이 \\n\\n말한다)의 자녀를-----------\\n\\n임신 또는 출산하게 된 때\\n\\n---------------------------\\n\\n---------------------------\\n\\n  5 .⋅6. (생  략)\\n\\n  ③⋅④ (생  략)\\n\\n  5.⋅6. (현행과 같음)\\n\\n  ③⋅④ (현행과 같음)\\n\\n- 5 -\\n\\n\\x0c국가공무원법 일부개정법률안 등 비용추계서 미첨부사유서\\n\\n1.  재정수반요인\\n\\n개정안에서 ｢국가공무원법｣  제71조제2항제4호 중 국가공무원의 육아\\n\\n휴직 가능 자녀의 연령을 만6세 이하에서 만8세 이하로 하고, ｢지방공\\n\\n무원법｣ 제63조제2항제4호 중 지방공무원의 육아휴직 가능 자녀의 연\\n\\n령을 만6세 이하에서 만8세 이하로 하고, ｢교육공무원법｣ 제44조제1항\\n\\n제7조 중 교육공무원의 육아휴직 가능 자녀의 연령을 만6세 이하에서 \\n\\n만8세 이하로 하고, ｢남녀고용평등과 일․가정 양립지원에 관한 법률｣ \\n\\n제19조제1항 중 근로자 육아휴직 가능 자녀연령을 만6세 이하에서 만\\n\\n8세 이하로 조정함에 따라 추가 재정소요가 예상됨.\\n\\n2.  미첨부  근거  규정\\n｢의안의 비용추계에 관한 규칙｣ 제3조제1항 단서 중 제1호(예상되는 비용이 연평균  10억원 미만\\n이거나  한시적인  경비로서  총  30억원  미만인  경우)에  해당함.\\n\\n3.  미첨부  사유\\n\\n개정안에서 국가․지방․교육공무원 및 근로자가 육아휴직을 신청할 \\n\\n수 있는 자녀의 연령을 만6세 이하에서 만8세 이하로 상향조정함에 \\n\\n따라 추가 재정소요가 예상된다. 동 법률 개정안이 2011년에 시행된다\\n\\n- 7 -\\n\\n\\x0c- 8 -\\n\\n고 가정한 경우, 2010년 현재 자녀의 연령이 7세이고 육아휴직을 신청\\n\\n하지 않은 국가․지방․교육공무원 및 근로자가 대상이 된다.\\n\\n대상연령의 확대됨에 따라 육아휴직신청자의 수가 어느 정도 늘어날 \\n\\n것으로 예상된다. 이 경우 발생하는 비용은 현행법에 따르면 월50만원\\n\\n이나 현재 관련법령 개정이 추진되고 있으며, 이에 따라 2011년에는 \\n\\n육아휴직자가 지급받는 월급여액에 비례하여 육아휴직급여가 지급되\\n\\n기 때문에 법령개정을 가정하고 추계한다. 이러한 경우 육아휴직급여\\n\\n액은 육아휴직자가 지급받는 월급여의 40%에 해당한다. 육아휴직자가 \\n\\n발생한 경우 발생하는 비용은 대체인력 고용인건비와 육아휴직자가 \\n\\n받는 월급여액의 40%이다. 이와 대비하여 육아휴직자에게 지급하던 \\n\\n임금은 더 이상 발생하지 않는다. 따라서 실제 발생하는 순비용은 육\\n\\n아휴직자에게 지급하던 월 급여액과 연령 확대에 따라 발생하는 비용\\n\\n인 육아휴직자가 받던 월급여액의 40%와 대체인력 고용인건비의 차\\n\\n액인데 이 값이 0보다 크면 추가 재정소요는 발생하지 않는다고 볼 \\n\\n수 있다.\\n\\n추가비용 발생여부를 정확하게 알아보기 위하여 비용에 대한 수리모\\n\\n델을 만들고 이에 따라 비용발생 여부를 알아보기로 하자. 모델에 사\\n\\n용되는 변수를 다음과 같이 정의한다.\\n\\n발생비용 : N×p×X + N×육아휴직급여액 - N×P\\n\\nN\\n\\n: 육아휴직대상자의 수\\n\\n\\x0cP\\n\\np\\n\\nX\\n\\n: 육아휴직대상자의 월급여액\\n\\n: 육아휴직자가 발생한 경우 대체 고용할 확률\\n\\n: 대체 고용한 인력에게 지급하는 월급여액\\n\\n위의 수식에서 육아휴직급여액은 육아휴직자 월급여액의 40%까지 지\\n\\n급할 예정이므로 육아휴직급여액은 P×40%이다. 육아휴직자가 발생한 \\n\\n경우 대체 고용할 확률 p는 고용노동부의 육아휴직 관련 자료를 이용\\n\\n한다. 고용노동부에 따르면 2011년의 경우 육아휴직급여 대상자는 \\n\\n40,923명이며, 육아휴직에 따른 대체인력 고용 예상인원은 2,836명이\\n\\n다. 2007년부터 2011년까지의 현황을 정리하면 다음의 [표]와 같다.\\n\\n[표]  육아휴직급여  수급자의  수  및  대체인력  고용  현황:  2007~2011년\\n\\n(단위:  명,  % )\\n\\n2007\\n\\n2008\\n\\n2009\\n\\n2010\\n\\n2011\\n\\n평균\\n\\n육아휴직급여  수급자(A)\\n\\n21,185\\n\\n29,145\\n\\n35,400\\n\\n41,291\\n\\n43,899\\n\\n34,184\\n\\n대체인력  채용(B)\\n\\n796\\n\\n1,658\\n\\n1,957\\n\\n2,396\\n\\n2,836\\n\\n1,929\\n\\n비  율(B/A)\\n\\n3.8\\n\\n5.7\\n\\n5.5\\n\\n5.8\\n\\n6.5\\n\\n5.6\\n\\n자료: 고용노동부  자료를  바탕으로  국회예산정책처  작성\\n\\n위의 [표]의 자료에 따라 육아휴직자가 발생한 경우 대체 고용할 확률 \\n\\np의 값은 5.6%라고 가정한다. 그리고 비용이 발생한다고 가정하여 위\\n\\n의 수식을 다시 작성하면 다음의 수식과 같다.\\n\\n- 9 -\\n\\n\\x0c- 10 -\\n\\nN×p×X + N×육아휴직급여액 - N×P > 0\\n\\nN×5.6%×X + N×P×40% - N×P > 0\\n\\n0.056×X > 0.6P\\n\\nX > 10.7×P\\n\\n(1)\\n\\n(2)\\n\\n(3)\\n\\n(5)\\n\\n위의 수식에 육아휴직자가 받는 월 급여액을 대입하여 대체고용인력\\n\\n자에게 지급하는 월 급여액을 추정하여 보자. 육아휴직자가 월 200만\\n\\n원을 받는다고 가정하면, 대체고용인력자에게 육아휴직자가 받는 월 \\n\\n급여액의 10.7배에 달하는 월 21,428,571원 이상을 지급해야 추가 비용\\n\\n이 발생한다. 대체고용인력자에게 육아휴직자보다 더 많은 월급여액을 \\n\\n주지는 않을 것이고 그리고 10여배 이상 월급을 주지도 않을 것이기 \\n\\n때문에 추가 비용이 발생한다고 보기 힘들다. 위의 수식에서 대체인력 \\n\\n고용확률 p를 20%로 가정하더라도(이 경우 X > 3×P) 200만원 받는 \\n\\n육아휴직자 대체인력에게 월 600만원 이상을 지급해야 추가 비용이 \\n\\n발생한다.\\n\\n행정안전부의 통계자료(행정안전부 통계연감)에서는 지방공무원의 육\\n\\n아휴직 현황자료를 보여주고 있다. 여기서 육아휴직자가 발생한 경우 \\n\\n대체인력을 주로 임용대기자 또는 일용직을 활용하는 것으로 보인다. \\n\\n따라서 공무원의 경우에도 [표]에서 보여주는 일반기업체의 대체인력 \\n\\n고용확률과 차이는 크지 않을 것으로 보인다.\\n\\n이상의 논의를 바탕으로 육아휴직기간을 만6에서 만8세로 연장하더라\\n\\n\\x0c도 법률 개정에 따른 추가 비용은 발생하지 않을 것으로 예상된다.\\n\\n4.  작성자\\n\\n국회예산정책처 법안비용추계1팀\\n\\n팀      장   정 문 종\\n\\n예산분석관   김 태 완\\n\\n(02-788-4649, tanzania@assembly.go.kr)\\n\\n- 11 -\\n\\n\\x0c'"
      ]
     },
     "execution_count": 310,
     "metadata": {},
     "output_type": "execute_result"
    }
   ],
   "source": [
    "kobill.open(kobill.fileids()[1]).read() # 육아 휴직!"
   ]
  },
  {
   "cell_type": "code",
   "execution_count": 311,
   "metadata": {
    "collapsed": true,
    "jupyter": {
     "outputs_hidden": true
    }
   },
   "outputs": [
    {
     "data": {
      "text/plain": [
       "'결혼중개업의 관리에 관한 법률 일부개정법률안\\n\\n(한선교의원 대표발의 )\\n\\n 의 안\\n 번 호\\n\\n9899\\n\\n발의연월일 : 2010.  11.  15.\\n\\n발  의  자 : 한선교․손범규․이인기 \\n\\n유성엽․이애주․이한성 \\n\\n안홍준․김태원․안형환 \\n\\n정갑윤 의원(10인)\\n\\n제안이유\\n\\n  최근 국제결혼의 상당수가 국제결혼중개업체를 통해 이루어지고 있\\n\\n으나, 일부 국제결혼중개업자가 이윤만을 추구하기 위하여 사실과 다\\n\\n른 정보나 거짓 정보를 제공하여 속성으로 성사된 국제결혼이 상대국\\n\\n과의 외교적 마찰이나 결혼생활의 조기 파탄을 야기하는 등 많은 문\\n\\n제가 발생하고 있음.\\n\\n  이에 따라 건전한 국제결혼문화를 정착하고 결혼중개업에 의한 피해\\n\\n사례를 최소화하기 위해 국제결혼중개업의 등록기준을 강화하고 국제\\n\\n결혼중개업자의 인권침해적․불법적인 결혼중개행위에 대한 처벌규정을 \\n\\n보다 강화하고자 함.\\n\\n  또한 국제결혼중개업자가 이용자와 상대방에게 제공하는 신상정보에 \\n\\n- 1 -\\n\\n\\x0c- 2 -\\n\\n결혼생활 유지에 중대한 지장을 초래하는 정신질환 병력과 최근 10년간 \\n\\n금고 이상의 범죄경력을 포함하고, 신상정보(상대방 언어 번역본 포함)의 \\n\\n내용을 보존토록 하는 등 현행법의 운영상 나타나는 일부 미비점을 \\n\\n개선․보완함으로써 국제결혼중개업체의 건전한 영업을 유도하여 국제\\n\\n결혼 가정이 행복하게 생활하고 안정적으로 사회에 정착할 수 있도록 \\n\\n하려는 것임. \\n\\n주요내용\\n\\n  가. 국제결혼중개업 등록시 의무교육, 보증보험 가입 이외에 자본금 \\n\\n1억원 이상의 요건을 충족하도록 함(안 제4조제1항).\\n\\n  나. 이용자와 상대방에게 제공하여야 하는 신상정보에 정신질환의 \\n\\n병력 여부와 최근 10년 간의 금고 이상의 형의 범죄경력 등을 추\\n\\n가하고자 함(안 제10조의2제1항제2호 및 제4호).\\n\\n  다. 국제결혼중개업자에게 이용자와 상대방에게 제공한 신상정보(상\\n\\n대방 언어 번역본 포함)의 내용 및 이를 입증하는 서류의 보존을 \\n\\n의무화하고, 보존하지 아니한 경우 3년 이하의 징역 또는 2천만원 \\n\\n이하의 벌금에 처하도록 함(안 제10조의4 및 안 제26조제2항제5\\n\\n호 신설). \\n\\n  라. 결혼중개업자가 이용자나 상대방에게 신상정보를 제공하지 아니\\n\\n\\x0c하거나 고의로 거짓된 정보를 제공할 경우 행정처분 외 형사처벌\\n\\n토록 규정 신설함(안 제26조제2항제4호 신설).\\n\\n  마. 결혼중개업의 건전화를 위해 ‘3년이하 징역 또는 2천만원 이하 \\n\\n벌금’을 ‘5년 이하 징역 또는 5천만원 이하 벌금’으로, ‘2년이하 \\n\\n징역 또는 1천만원 이하 벌금’을 ‘3년이하 징역 또는 2천원만원 \\n\\n이하 벌금’으로 벌칙을 각각 강화함(안 제26조).\\n\\n- 3 -\\n\\n\\x0c법률  제        호\\n\\n결혼중개업의 관리에 관한 법률 일부개정법률안\\n\\n법률 제10301호 결혼중개업의 관리에 관한 법률 일부개정법률 일부를 \\n\\n다음과 같이 개정한다.\\n\\n제4조제1항 전단 중 “교육을 받고”를 “교육 및 제24조의2에 따른 자본금 \\n\\n요건과”로, “한다”를 “하고, 시장ㆍ군수ㆍ구청장은 이를 관할 출입국관리\\n\\n사무소장에게 통보하여야 한다”로 한다.\\n\\n제4조의2를 다음과 같이 신설한다.\\n\\n제4조의2(국제결혼중개업체의 공시) ① 시장ㆍ군수ㆍ구청장은 다음 각 \\n\\n호의 사항을 공시하여야 한다.\\n\\n  1. 현재 등록된 국제결혼중개업체 현황\\n\\n  2. 제18조에 따라 영업정지 및 등록취소 등의 조치를 받은 경우 그 \\n\\n조치에 관한 사항\\n\\n  ② 제1항에 따른 공시의 시기 및 방법 등에 필요한 사항은 여성가족부\\n\\n령으로 정한다.\\n\\n제5조 제목 외의 부분을 제1항으로 하고 , 같은 조 제1항에 단서를 \\n\\n다음과 같이 신설하며 , 같은 조에 제2항을 다음과 같이 신설한다.\\n\\n- 5 -\\n\\n\\x0c- 6 -\\n\\n  다만, 제18조에 따른 등록취소 사유에 해당하게 된 경우에는 그러하\\n\\n지 아니한다.\\n\\n  ② 시장․군수․구청장은 제1항에 따라 신고를 받은 경우, 국제결혼\\n\\n중개업의 경우에는 신고사항을 관할 출입국관리사무소장에게 통보하\\n\\n여야 한다.\\n\\n제10조제3항을 삭제한다.\\n\\n제10조의2제1항제2호 중 “(후천성면역결핍증 및 성병 등의 감염 여부를 \\n\\n포함한다)”를 “(후천성면역결핍증, 성병 등의 감염여부 및 결혼생활 유지에 \\n\\n중대한 지장을 초래하는 정신질환 등을 포함한다)”로 하고, 같은 항 \\n\\n제4호를 다음과 같이 한다.\\n\\n  4. 성매매․성폭력ㆍ가정폭력ㆍ아동학대 등 관련 범죄 및 최근 10년 \\n\\n이내의 금고 이상의 형에 해당하는 범죄경력\\n\\n제10조의4를 다음과 같이 신설한다.\\n\\n제10조의4(기록보존) ① 결혼중개업자는 다음 각 호의 사항에 관한 기\\n\\n록을 여성가족부령으로 정하는 바에 따라 작성보존하여야 한다.\\n\\n  1. 제10조제1항에 따라 작성된 결혼중개계약서\\n\\n  2. 제10조의2에 따라 작성된 국제결혼 개인신상정보 확인서(상대방 \\n\\n언어 번역본 포함) 및 관련 증빙서류\\n\\n  3. 그 밖의 혼인 관련 서류\\n\\n  ② 결혼중개업자는 이용자나 상대방이 제1항에 따른 기록의 열람ㆍ\\n\\n사본교부 등 그 내용확인을 요구한 때에는 이에 응하여야 한다.\\n\\n\\x0c제11조제2항 전단 중 “여성가족부장관에게”를 “여성가족부장관 및 법\\n\\n무부장관에게”로 한다.\\n\\n제12조제4항을 제5항으로 하고, 같은 조에 제4항을 다음과 같이 신설한\\n\\n다.\\n\\n  ④ 결혼중개업자가 아니면 결혼중개에 관한 광고를 하여서는 아니 \\n\\n된다.\\n\\n제18조제1항 각 호 외의 부분 단서 중 “또는 제18호”를 “․제20호 또\\n\\n는 제21호”로 하고, 같은 항 제10호부터 제17호까지를 각각 제12호부터 \\n\\n제19호까지로 하며, 같은 항 제18호를 제21호로 하고, 같은 항에 제10호, \\n\\n제11호, 제20호 및 제22호를 각각 다음과 같이 신설한다. \\n\\n  10. 제10조의2제1항을 위반하여 신상정보가 거짓임을 알면서도 이를 \\n\\n제공하여 중개한 경우\\n\\n  11. 제10조의2제1항을 위반하여 과장된 개인신상정보를 제공하거나 \\n\\n중요사항을 누락한 경우\\n\\n  20. 제24조의2에 따른 등록기준에 못미치게 된 경우\\n\\n  22. 중개 결혼가정이 빈번한 혼인파탄 등 합리적인 사유로 관할 출\\n\\n입국관리사무소장의 요청이 있는 경우\\n\\n제24조의2를 다음과 같이 신설한다.\\n\\n제24조의2(자본금) 제4조에 따라 국제결혼중개업을 등록하려는 자는 1\\n\\n억원 이상의 자본금(법인이 아닌 경우에는 자산평가액을 말한다)을 \\n\\n보유하여야 한다.\\n\\n- 7 -\\n\\n\\x0c- 8 -\\n\\n제26조제1항 각 호 외의 부분 중 “3년”을 “5년”으로, “2천만원”을 “5천\\n\\n만원”으로 하고, 같은 조 제2항 각 호 외의 부분 중 “2년”을 “3년”으로, \\n\\n“1천만원”을 “2천만원”으로 하며, 같은 항 제4호 및 제5호를 각각 제6\\n\\n호 및 제7호로 하고, 같은 항에 제4호 및 제5호를 각각 다음과 같이 \\n\\n신설하며, 같은 항 제6호를 제9호로 하고, 같은 항에 제8호를 다음과 \\n\\n같이 신설한다.\\n\\n  4. 제10조의2를 위반하여 이용자나 상대방에게 신상정보를 제공하지 \\n\\n아니하거나 고의로 거짓된 정보를 제공한 자\\n\\n  5. 제10조의4를 위반하여 신상정보(상대방 언어 번역본 포함)와 그 \\n\\n밖의 결혼 관련 서류를 보존하지 아니한 자\\n\\n  8. 제12조제4항을 위반하여 결혼중개업의 신고 또는 등록을 하지 아니\\n\\n하고 결혼중개에 관한 광고를 한 자\\n\\n부      칙\\n\\n \\n\\n①(시행일) 이 법은 공포 후 6개월이 경과한 날부터 시행한다.\\n\\n②(국제결혼중개업자의 등록에 관한 경과조치) 이 법 시행 당시 종전\\n\\n의 규정에 따라 등록된 국제결혼중개업자는 이 법에 따라 등록된 것\\n\\n으로 본다. 다만, 이 법 시행일부터 1년 이내에 제24조의2에 따른 자\\n\\n\\x0c본금에 관한 요건을 갖추어야 한다. \\n\\n- 9 -\\n\\n\\x0c신ㆍ구조문대비표\\n\\n현        행\\n\\n개   정   안\\n\\n제4조(국제결혼중개업의 등록) ① \\n제4조(국제결혼중개업의 등록) ① \\n\\n국제결혼중개업을 하고자 하는 \\n\\n------------------------\\n\\n자는 제24조에 따른 교육을 받\\n\\n--------------- 교육 및 제\\n\\n고 보증보험금, 중개사무소 등 \\n\\n24조의2에 따른 자본금 요건과 \\n\\n대통령령으로 정하는 기준을 갖\\n\\n------------------------\\n\\n추어 중개사무소를 두고자 하는 \\n\\n------------------------\\n\\n지역을 관할하는 시장ㆍ군수ㆍ\\n\\n------------------------\\n\\n구청장에게 등록하여야 한다. \\n\\n-------------------- 하고, \\n\\n등록한 사항 중 여성가족부령으\\n\\n시장ㆍ군수ㆍ구청장은 이를 관\\n\\n로 정하는 중요사항을 변경하고\\n\\n할 출입국관리사무소장에게 통\\n\\n자 할 때에도 또한 같다.\\n\\n보하여야 한다.-------------\\n\\n------------------------\\n\\n------------------------\\n\\n--------------------.\\n\\n  ②ㆍ③ (생  략)\\n\\n  ②ㆍ③ (현행과 같음)\\n\\n  <신  설>\\n\\n제4조의2(국제결혼중개업체의 공\\n\\n시) ① 시장ㆍ군수ㆍ구청장은 \\n\\n다음 각 호의 사항을 공시하여\\n\\n야 한다.\\n\\n  1. 현재 등록된 국제결혼중개업체 \\n\\n현황\\n\\n  2. 제18조에 따라 영업정지 및 \\n\\n등록취소 등의 조치를 받은 \\n\\n경우 그 조치에 관한 사항\\n\\n- 11 -\\n\\n\\x0c- 12 -\\n\\n  ② 제1항에 따른 공시의 시기 \\n\\n및 방법 등에 필요한 사항은 여\\n\\n성가족부령으로 정한다.\\n\\n제5조(휴업ㆍ폐업 및 재개의 신\\n\\n제5조(휴업ㆍ폐업 및 재개의 신\\n\\n고) 결혼중개업자가 휴업 또는 \\n\\n고) ① 결혼중개업자가 휴업 또\\n\\n폐업하거나 휴업 후 영업을 재\\n\\n는 폐업하거나 휴업 후 영업을 \\n\\n개하고자 할 때에는 여성가족부\\n\\n재개하고자 할 때에는 여성가족\\n\\n령으로 정하는 바에 따라 시장\\n\\n부령으로 정하는 바에 따라 시\\n\\nㆍ군수ㆍ구청장에게 이를 신고\\n\\n장ㆍ군수ㆍ구청장에게 이를 신\\n\\n하여야 한다. 폐업을 신고한 경\\n\\n고하여야 한다. 폐업을 신고한 \\n\\n우 제3조제1항에 따른 신고 또\\n\\n경우 제3조제1항에 따른 신고 \\n\\n는 제4조제1항에 따른 등록은 \\n\\n또는 제4조제1항에 따른 등록은 \\n\\n그 효력을 잃는다. <단서 신\\n\\n그 효력을 잃는다. 다만, 제18조\\n\\n설>\\n\\n에 따른 등록취소 사유에 해당\\n\\n하게 된 경우에는 그러하지 아\\n\\n니한다.\\n\\n  <신  설>\\n\\n  ② 시장․군수․구청장은 제1\\n\\n항에 따라 신고를 받은 경우, 국\\n\\n제결혼중개업의 경우에는 신고\\n\\n사항을 관할 출입국관리사무소\\n\\n장에게 통보하여야 한다.\\n\\n제10조(결혼중개계약서의  작성 \\n제10조(결혼중개계약서의  작성 \\n\\n등) ①ㆍ② (생  략)\\n\\n등) ①ㆍ② (현행과 같음)\\n\\n  ③ 결혼중개업자는 제1항에 따\\n\\n   <삭  제>\\n\\n라 작성된 계약서를 여성가족부\\n\\n\\x0c령으로 정하는 기간 동안 보존\\n\\n하여야 한다.\\n\\n ④ (생  략)\\n\\n④ (현행과 같음)\\n\\n제10조의2(신상정보 제공) ① 국\\n\\n제10조의2(신상정보 제공) ① ---\\n\\n제결혼중개업자는 제10조제1항\\n\\n------------------------\\n\\n에 따라 계약을 체결한 이용자\\n\\n------------------------\\n\\n와 결혼중개의 상대방(이하 “상\\n\\n------------------------\\n\\n대방”이라 한다)으로부터 다음 \\n\\n------------------------\\n\\n각 호의 신상정보를 받아 각각 \\n\\n------------------------\\n\\n상대방과 이용자에게 서면으로 \\n\\n------------------------\\n\\n제공하여야 한다.\\n\\n-------------.\\n\\n  1. (생  략)\\n\\n  1. (현행과 같음)\\n\\n  2. 건강상태(후천성면역결핍증 \\n  2. ----(후천성면역결핍증, 성병 \\n\\n및 성병 등의 감염 여부를 포\\n\\n등의 감염여부 및 결혼생활 \\n\\n함한다)\\n\\n유지에 중대한 지장을 초래하\\n\\n는 정신질환 등을 포함한다)\\n\\n  3. (생  략)\\n\\n  3. (현행과 같음)\\n\\n  4. 성폭력ㆍ가정폭력ㆍ아동학대 \\n  4. 성매매․성폭력ㆍ가정폭력ㆍ\\n\\n등 관련 범죄경력\\n\\n아동학대 등 관련 범죄 및 최\\n\\n근 10년 이내의 금고 이상의 \\n\\n형에 해당하는 범죄경력\\n\\n  5. (생  략)\\n\\n  5. (현행과 같음)\\n\\n  ②ㆍ③ (생  략)\\n\\n  ②ㆍ③ (현행과 같음)\\n\\n  <신  설>\\n\\n제10조의4(기록보존) ① 결혼중개\\n\\n업자는 다음 각 호의 사항에 관\\n\\n- 13 -\\n\\n\\x0c- 14 -\\n\\n한 기록을 여성가족부령으로 정\\n\\n하는 바에 따라 작성보존 하여\\n\\n야 한다.\\n\\n  1. 제10조제1항에 따라 작성된 \\n\\n결혼중개계약서\\n\\n  2. 제10조의2에 따라 작성된 국\\n\\n제결혼 개인신상정보 확인서\\n\\n(상대방 언어 번역본 포함) 및 \\n\\n관련 증빙서류\\n\\n  3. 그 밖의 혼인 관련 서류\\n\\n  ② 결혼중개업자는 이용자나 상\\n\\n대방이 제1항에 따른 기록의 열\\n\\n람ㆍ사본교부 등 그 내용확인을 \\n\\n요구한 때에는 이에 응하여야 \\n\\n한다.\\n\\n제11조(외국 현지법령 준수 등) \\n제11조(외국 현지법령 준수 등) \\n\\n① (생  략)\\n\\n① (현행과 같음)\\n\\n  ② 외교통상부장관은 국제결혼\\n\\n  ② ----------------------\\n\\n중개업자가 외국 현지 형사법령 \\n\\n------------------------\\n\\n또는 행정법령을 위반한 경우 \\n\\n------------------------\\n\\n관련 내용을 여성가족부장관에\\n\\n--------- 여성가족부장관 및 \\n\\n게 통보하여야 하고, 여성가족\\n\\n법무부장관에게 -----------\\n\\n부장관은 이를 시ㆍ도지사에게 \\n\\n------------------------\\n\\n통보하여야 한다. 이 경우 통보\\n\\n------------------------\\n\\n절차에 관하여 필요한 사항은 \\n\\n------------------------\\n\\n대통령령으로 정한다.\\n\\n----------------------.\\n\\n\\x0c제12조(허위ㆍ과장된 표시ㆍ광고\\n\\n제12조(허위ㆍ과장된 표시ㆍ광고\\n\\n의 금지 등) ① ∼ ③ (생  략)\\n\\n의 금지 등) ① ∼ ③ (현행과 \\n\\n같음)\\n\\n  <신  설>\\n\\n  ④ 결혼중개업자가 아니면 결혼\\n\\n중개에 관한 광고를 하여서는 \\n\\n아니 된다.\\n\\n  ④ (생  략)\\n\\n  ⑤ (현행 제4항과 같음)\\n\\n제18조(영업정지 등) ① 시장ㆍ군\\n\\n제18조(영업정지 등) ① -------\\n\\n수ㆍ구청장은  결혼중개업자가 \\n\\n------------------------\\n\\n다음 각 호의 어느 하나에 해당\\n\\n------------------------\\n\\n하는 경우 등록을 취소하거나  \\n\\n------------------------\\n\\n1년 이내의 기간을 정하여 영업\\n\\n------------------------\\n\\n의 정지를 명할 수 있다. 다만, \\n\\n--------------------. ---\\n\\n국제결혼중개업자가 제1호ㆍ제\\n\\n------------------------\\n\\n2호 또는 제18호에 해당할 경우 \\n\\n--- ㆍ제20호 또는 제21호----\\n\\n등록을 취소하여야 한다.\\n\\n------------------------\\n\\n-------.\\n\\n  1. ∼ 9. (생  략)\\n\\n  1. ∼ 9. (현행과 같음)\\n\\n  <신  설>\\n\\n  10. 제10조의2제1항을 위반하여 \\n\\n신상정보가 거짓임을 알면서\\n\\n도 이를 제공하여 중개한 경\\n\\n우\\n\\n  <신  설>\\n\\n  11. 제10조의2제1항을 위반하여 \\n\\n과장된 개인신상정보를 제공\\n\\n하거나 중요사항을 누락한 경\\n\\n- 15 -\\n\\n\\x0c- 16 -\\n\\n우\\n\\n  10. ～ 17. (생  략)\\n\\n  12. ～ 19. (현행 제10호에서 제\\n\\n17호까지와 같음)\\n\\n  <신  설>\\n\\n  20. 제24조의2에 따른 등록기준\\n\\n 18. (생  략)\\n\\n  <신  설>\\n\\n  ② (생  략)\\n\\n  <신  설>\\n\\n에 못미치게 된 경우 \\n\\n  21. (현행 제18호와 같음)\\n\\n  22. 중개 결혼가정의 빈번한 혼인\\n\\n파탄 등 합리적인 사유로 관할 \\n\\n출입국관리사무소장의 요청이 \\n\\n있는 경우\\n\\n  ② (현행과 같음)\\n\\n제24조의2(자본금) 제4조에 따라 \\n\\n국제결혼중개업을  등록하려는 \\n\\n자는 1억원 이상의 자본금(법인\\n\\n이 아닌 경우에는 자산평가액을 \\n\\n말한다)을 보유하여야 한다.\\n\\n제26조(벌칙) ① 다음 각 호의 어\\n\\n제26조(벌칙) ① -------------\\n\\n느 하나에 해당하는 자는 3년 \\n\\n---------------------5년 \\n\\n이하의 징역 또는 2천만원 이하\\n\\n-------------- 5천만원 ---\\n\\n의 벌금에 처한다.\\n\\n--------------.\\n\\n  1. ∼ 3. (생  략)\\n\\n  1. ∼ 3. (현행과 같음)\\n\\n  ② 다음 각 호의 어느 하나에 \\n  ② ----------------------\\n\\n해당하는 자는 2년 이하의 징역 \\n\\n---------- 3년 ----------\\n\\n또는 1천만원 이하의 벌금에 처\\n\\n--- 2천만원 --------------\\n\\n한다.\\n\\n---.\\n\\n\\x0c  1. ∼ 3. (생  략)\\n\\n  1. ∼ 3. (현행과 같음)\\n\\n  <신  설>\\n\\n  4. 제10조의2를 위반하여 이용\\n\\n자나 상대방에게 신상정보를 \\n\\n제공하지 아니하거나 고의로 \\n\\n거짓된 정보를 제공한 자\\n\\n  <신  설>\\n\\n  5. 제10조의4를 위반하여 신상\\n\\n정보(상대방 언어 번역본 포함)\\n\\n와 그 밖의 결혼 관련 서류를 \\n\\n보존하지 아니한 자\\n\\n  4.․5. (생 략)\\n\\n  6.․7. (현행 제4호 및 제5호와 \\n\\n같음) \\n\\n  <신  설>\\n\\n  8. 제12조제4항을 위반하여 결혼\\n\\n중개업의 신고 또는 등록을 \\n\\n하지 아니하고 결혼중개에 관\\n\\n한 광고를 한 자\\n\\n  6. (생 략)\\n\\n  9. (현행 제6호와 같음) \\n\\n- 17 -\\n\\n\\x0c'"
      ]
     },
     "execution_count": 311,
     "metadata": {},
     "output_type": "execute_result"
    }
   ],
   "source": [
    "kobill.open(kobill.fileids()[-1]).read() # 결혼 중개! 잘 골라냈음을 볼 수 있다."
   ]
  },
  {
   "cell_type": "code",
   "execution_count": null,
   "metadata": {},
   "outputs": [],
   "source": []
  },
  {
   "cell_type": "markdown",
   "metadata": {},
   "source": [
    "## 정리"
   ]
  },
  {
   "cell_type": "code",
   "execution_count": null,
   "metadata": {},
   "outputs": [],
   "source": [
    "빅데이터 - 비정형데이터 - 텍스트 - 어떻게?\n",
    "자연어처리! NLP\n",
    "이유? 1. 온갖 잡다한 종류의 텍스트 포함\n",
    "      2. for feature selection!\n",
    "[Preprocessing]\n",
    "1. split, splitlines -> 문서 - 문단(문장의 나열) - 단어(어절)의 조합 - 형태소 조합\n",
    "2. tokenize! -> sent_tokenize, word_tokenize, regex_tokenize, Tweettokenize\n",
    "                -> 구두점, .?!, '', \"\",  ,  ... 등등 여러 기준 \n",
    "3. but 형태학적 접근 필요(형태소 분석). \n",
    "  - 우리말은 국민의, 국민에게, ... 형태소 분리가 필요! with Konlpy\n",
    "    cf - 통사론적: 품사 정보 이용\n",
    "        - 구문론적: ParseTree, 문법 이용. 주어-목적어-보어-술어 등 구성\n",
    "4. LM(Language Model) 분석: 언어의 패턴(생성 확률 구하기)\n",
    "    한계 Out of Vocabulary - 없는 단어가 엄청 많다\n",
    "    Ngram - 빈도만으로 확률을 구하므로 본분에 없는 단어나 패턴 못 구함\n",
    "5. Stem(어근/어간) 공통된 말 찾기\n",
    "    WPM - BPE => 몇번 돌리면 핵심 단어 찾을 수 있다\n",
    "6. Zipf's Law\n",
    "    고빈도 단어(빈도의 대부분의 차지) - 오히려 너무 높으면 별로 안중요하다. 너무 흔함\n",
    "7. Normalization\n",
    "    대소문자, 약어, 신조어, 사전에 없는 단어, 명사 추정, '불용어'(stopwords) - 너무 흔한 단어 제거\n",
    "8. RE"
   ]
  },
  {
   "cell_type": "code",
   "execution_count": 322,
   "metadata": {},
   "outputs": [],
   "source": [
    "from konlpy.tag import Kkma, Komoran, Hannanum, Okt"
   ]
  },
  {
   "cell_type": "code",
   "execution_count": 314,
   "metadata": {},
   "outputs": [],
   "source": [
    "sentence = '''\n",
    "육성재는 3일 자신의 인스타그램에 “어제 저의 생일을 축하해주신 모든 멜로디 여러분 너무너무 감사드린다”고 말했다. 그러면서 그는 “어떻게 이야기를 꺼내야 할지 고민하다가 조금이라도 먼저 직접 얘기하는 게 맞을 것 같아서 글을 올린다”며 “많이 놀라시겠지만 5월 11일부로 군입대를 결정하게 됐다”고 밝혔다.\n",
    "'''"
   ]
  },
  {
   "cell_type": "code",
   "execution_count": 315,
   "metadata": {},
   "outputs": [
    {
     "name": "stdout",
     "output_type": "stream",
     "text": [
      "['NNP', 'JX', 'SN', 'NNB', 'NNG', 'JKG', 'NNP', 'JKB', 'SS', 'NNP', 'NP', 'JKG', 'NNG', 'JKO', 'NNG', 'NNP', 'JX', 'MM', 'NNP', 'NNP', 'MAG', 'NNG', 'VV', 'EC', 'SS', 'JKQ', 'NNG', 'XSV', 'EP', 'EF', 'SF', 'MAJ', 'NP', 'JX', 'SS', 'VA', 'EC', 'NNG', 'JKO', 'VV', 'EC', 'VV', 'EC', 'NNG', 'XSV', 'EC', 'NNG', 'VCP', 'EC', 'MAG', 'MAG', 'NNG', 'XSV', 'ETM', 'NNG', 'VV', 'ETM', 'NNB', 'VA', 'EC', 'NNG', 'JKO', 'NNP', 'SS', 'VCP', 'EC', 'SS', 'MAG', 'VV', 'EP', 'EP', 'EC', 'NNP', 'NNB', 'JKB', 'NNG', 'NNG', 'JKO', 'NNG', 'XSV', 'EC', 'VV', 'EP', 'EC', 'SS', 'JKQ', 'VV', 'EP', 'EF', 'SF']\n"
     ]
    }
   ],
   "source": [
    "print([_[1] for _ in Komoran().pos(sentence)])"
   ]
  },
  {
   "cell_type": "code",
   "execution_count": 316,
   "metadata": {},
   "outputs": [
    {
     "name": "stdout",
     "output_type": "stream",
     "text": [
      "['NNG', 'NNG', 'JX', 'NR', 'NNM', 'NNG', 'JKG', 'NNG', 'NNG', 'NNM', 'JKM', 'SS', 'NNG', 'NNG', 'NNG', 'JKO', 'NNG', 'XSV', 'ECS', 'NNG', 'NNP', 'NNG', 'NP', 'MAG', 'NNG', 'VV', 'ECS', 'SS', 'NNG', 'VV', 'EPT', 'EFN', 'SF', 'VV', 'ECE', 'NP', 'JX', 'SS', 'VA', 'ECD', 'NNG', 'JKO', 'VV', 'ECD', 'VV', 'ECD', 'NNG', 'XSV', 'ECD', 'NNG', 'VCP', 'ECD', 'MAG', 'NNG', 'NNG', 'XSV', 'ETD', 'NNB', 'JKS', 'VV', 'ETD', 'NNB', 'VA', 'ECD', 'NNG', 'JKO', 'VV', 'ECS', 'SS', 'JC', 'SS', 'MAG', 'VV', 'EPH', 'EPT', 'ECE', 'NR', 'NNM', 'NR', 'NNG', 'JKM', 'NNG', 'NNG', 'JKO', 'NNG', 'XSV', 'ECD', 'VV', 'EPT', 'ECS', 'SS', 'NNG', 'VV', 'EPT', 'EFN', 'SF']\n"
     ]
    }
   ],
   "source": [
    "print([_[1] for _ in Kkma().pos(sentence)])"
   ]
  },
  {
   "cell_type": "code",
   "execution_count": 323,
   "metadata": {},
   "outputs": [
    {
     "name": "stdout",
     "output_type": "stream",
     "text": [
      "['Foreign', 'Noun', 'Josa', 'Number', 'Noun', 'Josa', 'Noun', 'Josa', 'Foreign', 'Noun', 'Noun', 'Josa', 'Noun', 'Josa', 'Noun', 'Verb', 'Noun', 'Noun', 'Noun', 'Adverb', 'Adverb', 'Noun', 'Verb', 'Foreign', 'Noun', 'Noun', 'Verb', 'Punctuation', 'Adjective', 'Noun', 'Josa', 'Foreign', 'Adjective', 'Noun', 'Josa', 'Verb', 'Verb', 'Noun', 'Verb', 'Noun', 'Josa', 'Noun', 'Noun', 'Noun', 'Verb', 'Noun', 'Verb', 'Noun', 'Adjective', 'Noun', 'Josa', 'Noun', 'Foreign', 'Noun', 'Foreign', 'Adverb', 'Verb', 'Number', 'Number', 'Foreign', 'Noun', 'Josa', 'Noun', 'Verb', 'Verb', 'Foreign', 'Noun', 'Verb', 'Punctuation', 'Foreign']\n"
     ]
    }
   ],
   "source": [
    "print([_[1] for _ in Okt().pos(sentence)])"
   ]
  },
  {
   "cell_type": "code",
   "execution_count": 317,
   "metadata": {},
   "outputs": [
    {
     "name": "stdout",
     "output_type": "stream",
     "text": [
      "['N', 'J', 'N', 'N', 'J', 'N', 'J', 'N', 'N', 'J', 'N', 'J', 'N', 'X', 'E', 'P', 'E', 'M', 'N', 'N', 'M', 'N', 'N', 'X', 'E', 'S', 'P', 'E', 'N', 'J', 'N', 'N', 'J', 'P', 'E', 'P', 'E', 'N', 'X', 'E', 'N', 'J', 'E', 'J', 'M', 'M', 'N', 'X', 'E', 'N', 'J', 'P', 'E', 'N', 'P', 'E', 'N', 'J', 'N', 'N', 'J', 'P', 'E', 'N', 'N', 'J', 'N', 'J', 'N', 'X', 'E', 'N', 'P', 'E', 'S']\n"
     ]
    }
   ],
   "source": [
    "print([_[1] for _ in Hannanum().pos(sentence)]) # 다 다름"
   ]
  },
  {
   "cell_type": "code",
   "execution_count": 319,
   "metadata": {},
   "outputs": [
    {
     "data": {
      "text/plain": [
       "{'E': '어미',\n",
       " 'EC': '연결 어미',\n",
       " 'EF': '종결 어미',\n",
       " 'EP': '선어말어미',\n",
       " 'ET': '전성 어미',\n",
       " 'F': '외국어',\n",
       " 'I': '독립언',\n",
       " 'II': '감탄사',\n",
       " 'J': '관계언',\n",
       " 'JC': '격조사',\n",
       " 'JP': '서술격 조사',\n",
       " 'JX': '보조사',\n",
       " 'M': '수식언',\n",
       " 'MA': '부사',\n",
       " 'MM': '관형사',\n",
       " 'N': '체언',\n",
       " 'NB': '의존명사',\n",
       " 'NC': '보통명사',\n",
       " 'NN': '수사',\n",
       " 'NP': '대명사',\n",
       " 'NQ': '고유명사',\n",
       " 'P': '용언',\n",
       " 'PA': '형용사',\n",
       " 'PV': '동사',\n",
       " 'PX': '보조 용언',\n",
       " 'S': '기호',\n",
       " 'X': '접사',\n",
       " 'XP': '접두사',\n",
       " 'XS': '접미사'}"
      ]
     },
     "execution_count": 319,
     "metadata": {},
     "output_type": "execute_result"
    }
   ],
   "source": [
    "Hannanum().tagset # 어미로 나누는 갯수가 적은 편"
   ]
  },
  {
   "cell_type": "code",
   "execution_count": null,
   "metadata": {},
   "outputs": [],
   "source": []
  }
 ],
 "metadata": {
  "kernelspec": {
   "display_name": "Python 3",
   "language": "python",
   "name": "python3"
  },
  "language_info": {
   "codemirror_mode": {
    "name": "ipython",
    "version": 3
   },
   "file_extension": ".py",
   "mimetype": "text/x-python",
   "name": "python",
   "nbconvert_exporter": "python",
   "pygments_lexer": "ipython3",
   "version": "3.8.5"
  }
 },
 "nbformat": 4,
 "nbformat_minor": 4
}
