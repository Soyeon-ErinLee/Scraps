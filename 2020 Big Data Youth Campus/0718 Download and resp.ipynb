{
 "cells": [
  {
   "cell_type": "code",
   "execution_count": 2,
   "metadata": {},
   "outputs": [
    {
     "name": "stdout",
     "output_type": "stream",
     "text": [
      "Collecting builtwith\n",
      "  Downloading builtwith-1.3.4.tar.gz (34 kB)\n",
      "Requirement already satisfied: six in /Users/yoonk/opt/anaconda3/lib/python3.7/site-packages (from builtwith) (1.14.0)\n",
      "Building wheels for collected packages: builtwith\n",
      "  Building wheel for builtwith (setup.py) ... \u001b[?25ldone\n",
      "\u001b[?25h  Created wheel for builtwith: filename=builtwith-1.3.4-py3-none-any.whl size=36096 sha256=54f0fe4836b75850fb21725fff94d2a61fc495ee4c1c088f17bd9666794e9608\n",
      "  Stored in directory: /Users/yoonk/Library/Caches/pip/wheels/72/37/d7/ee9677e57e69fec72898a783876aac646c041fa097e3a87631\n",
      "Successfully built builtwith\n",
      "Installing collected packages: builtwith\n",
      "Successfully installed builtwith-1.3.4\n"
     ]
    }
   ],
   "source": [
    "!pip install builtwith"
   ]
  },
  {
   "cell_type": "code",
   "execution_count": 3,
   "metadata": {},
   "outputs": [],
   "source": [
    "import builtwith"
   ]
  },
  {
   "cell_type": "code",
   "execution_count": 4,
   "metadata": {},
   "outputs": [
    {
     "data": {
      "text/plain": [
       "{'web-servers': ['Nginx'],\n",
       " 'javascript-frameworks': ['Modernizr', 'jQuery'],\n",
       " 'web-frameworks': ['Twitter Bootstrap']}"
      ]
     },
     "execution_count": 4,
     "metadata": {},
     "output_type": "execute_result"
    }
   ],
   "source": [
    "builtwith.parse('http://www.google.com')\n",
    "builtwith.parse('http://www.facebook.com')\n",
    "builtwith.parse('http://www.wordpress.com')\n",
    "builtwith.parse('http://example.webscrapping.com')"
   ]
  },
  {
   "cell_type": "code",
   "execution_count": 5,
   "metadata": {},
   "outputs": [
    {
     "name": "stdout",
     "output_type": "stream",
     "text": [
      "Collecting python-whois\n",
      "  Downloading python-whois-0.7.3.tar.gz (91 kB)\n",
      "\u001b[K     |████████████████████████████████| 91 kB 248 kB/s eta 0:00:011\n",
      "\u001b[?25hRequirement already satisfied: future in /Users/yoonk/opt/anaconda3/lib/python3.7/site-packages (from python-whois) (0.18.2)\n",
      "Building wheels for collected packages: python-whois\n",
      "  Building wheel for python-whois (setup.py) ... \u001b[?25ldone\n",
      "\u001b[?25h  Created wheel for python-whois: filename=python_whois-0.7.3-py3-none-any.whl size=87701 sha256=06c56eaea87ffce78d65f31b66140f6aa226c926eb717f7b557d4d925a7575ca\n",
      "  Stored in directory: /Users/yoonk/Library/Caches/pip/wheels/11/05/f7/895ce5a73665f77c8274a7d55e34fb3e6b4abbb9a7637e215b\n",
      "Successfully built python-whois\n",
      "Installing collected packages: python-whois\n",
      "Successfully installed python-whois-0.7.3\n"
     ]
    }
   ],
   "source": [
    "!pip install python-whois"
   ]
  },
  {
   "cell_type": "code",
   "execution_count": 6,
   "metadata": {},
   "outputs": [
    {
     "name": "stdout",
     "output_type": "stream",
     "text": [
      "{\n",
      "  \"domain_name\": [\n",
      "    \"NAMER.COM\",\n",
      "    \"namer.com\"\n",
      "  ],\n",
      "  \"registrar\": \"MarkMonitor, Inc.\",\n",
      "  \"whois_server\": \"whois.markmonitor.com\",\n",
      "  \"referral_url\": null,\n",
      "  \"updated_date\": [\n",
      "    \"2018-12-14 10:16:49\",\n",
      "    \"2018-12-14 02:16:49\"\n",
      "  ],\n",
      "  \"creation_date\": [\n",
      "    \"1998-01-16 05:00:00\",\n",
      "    \"1998-01-15 21:00:00\"\n",
      "  ],\n",
      "  \"expiration_date\": [\n",
      "    \"2021-01-15 05:00:00\",\n",
      "    \"2021-01-14 00:00:00\"\n",
      "  ],\n",
      "  \"name_servers\": [\n",
      "    \"NS1.NETBCP.COM\",\n",
      "    \"NS2.NETBCP.NET\",\n",
      "    \"PDNS1.ULTRADNS.NET\",\n",
      "    \"PDNS2.ULTRADNS.NET\",\n",
      "    \"PDNS3.ULTRADNS.ORG\",\n",
      "    \"PDNS4.ULTRADNS.ORG\",\n",
      "    \"PDNS5.ULTRADNS.INFO\",\n",
      "    \"PDNS6.ULTRADNS.CO.UK\",\n",
      "    \"pdns2.ultradns.net\",\n",
      "    \"ns1.netbcp.com\",\n",
      "    \"pdns4.ultradns.org\",\n",
      "    \"pdns6.ultradns.co.uk\",\n",
      "    \"pdns1.ultradns.net\",\n",
      "    \"pdns3.ultradns.org\",\n",
      "    \"ns2.netbcp.net\",\n",
      "    \"pdns5.ultradns.info\"\n",
      "  ],\n",
      "  \"status\": [\n",
      "    \"clientDeleteProhibited https://icann.org/epp#clientDeleteProhibited\",\n",
      "    \"clientTransferProhibited https://icann.org/epp#clientTransferProhibited\",\n",
      "    \"clientUpdateProhibited https://icann.org/epp#clientUpdateProhibited\",\n",
      "    \"clientUpdateProhibited (https://www.icann.org/epp#clientUpdateProhibited)\",\n",
      "    \"clientTransferProhibited (https://www.icann.org/epp#clientTransferProhibited)\",\n",
      "    \"clientDeleteProhibited (https://www.icann.org/epp#clientDeleteProhibited)\"\n",
      "  ],\n",
      "  \"emails\": [\n",
      "    \"abusecomplaints@markmonitor.com\",\n",
      "    \"domain.admin@nbcuni.com\",\n",
      "    \"whoisrequest@markmonitor.com\"\n",
      "  ],\n",
      "  \"dnssec\": \"unsigned\",\n",
      "  \"name\": \"Domain Administrator\",\n",
      "  \"org\": \"NBCUniversal Media, LLC\",\n",
      "  \"address\": \"904 Sylvan Avenue,\",\n",
      "  \"city\": \"Englewood Cliffs\",\n",
      "  \"state\": \"nj\",\n",
      "  \"zipcode\": \"07632\",\n",
      "  \"country\": \"US\"\n",
      "}\n",
      "{\n",
      "  \"domain_name\": \"APPSPOT.COM\",\n",
      "  \"registrar\": \"MarkMonitor Inc.\",\n",
      "  \"whois_server\": \"whois.markmonitor.com\",\n",
      "  \"referral_url\": null,\n",
      "  \"updated_date\": \"2020-02-07 10:36:06\",\n",
      "  \"creation_date\": \"2005-03-10 02:27:55\",\n",
      "  \"expiration_date\": \"2021-03-10 01:27:55\",\n",
      "  \"name_servers\": [\n",
      "    \"NS1.GOOGLE.COM\",\n",
      "    \"NS2.GOOGLE.COM\",\n",
      "    \"NS3.GOOGLE.COM\",\n",
      "    \"NS4.GOOGLE.COM\"\n",
      "  ],\n",
      "  \"status\": [\n",
      "    \"clientDeleteProhibited https://icann.org/epp#clientDeleteProhibited\",\n",
      "    \"clientTransferProhibited https://icann.org/epp#clientTransferProhibited\",\n",
      "    \"clientUpdateProhibited https://icann.org/epp#clientUpdateProhibited\",\n",
      "    \"serverDeleteProhibited https://icann.org/epp#serverDeleteProhibited\",\n",
      "    \"serverTransferProhibited https://icann.org/epp#serverTransferProhibited\",\n",
      "    \"serverUpdateProhibited https://icann.org/epp#serverUpdateProhibited\"\n",
      "  ],\n",
      "  \"emails\": \"abusecomplaints@markmonitor.com\",\n",
      "  \"dnssec\": \"unsigned\",\n",
      "  \"name\": null,\n",
      "  \"org\": null,\n",
      "  \"address\": null,\n",
      "  \"city\": null,\n",
      "  \"state\": null,\n",
      "  \"zipcode\": null,\n",
      "  \"country\": null\n",
      "}\n"
     ]
    }
   ],
   "source": [
    "import whois\n",
    "print(whois.whois(\"namer.com\"))\n",
    "print(whois.whois(\"appspot.com\"))"
   ]
  },
  {
   "cell_type": "code",
   "execution_count": 7,
   "metadata": {},
   "outputs": [],
   "source": [
    "import urllib\n",
    "from urllib import request\n",
    "from urllib.request import urlopen"
   ]
  },
  {
   "cell_type": "code",
   "execution_count": 8,
   "metadata": {},
   "outputs": [],
   "source": [
    "resp = urlopen(\"http://python.org\")\n",
    "html = resp.read()"
   ]
  },
  {
   "cell_type": "code",
   "execution_count": 10,
   "metadata": {},
   "outputs": [
    {
     "name": "stdout",
     "output_type": "stream",
     "text": [
      "error:  403 Forbidden Content-Type: text/html; charset=UTF-8\n",
      "Date: Thu, 16 Jul 2020 02:14:58 GMT\n",
      "Server: gws\n",
      "Cache-Control: private\n",
      "X-XSS-Protection: 0\n",
      "X-Frame-Options: SAMEORIGIN\n",
      "Accept-Ranges: none\n",
      "Vary: Accept-Encoding\n",
      "Connection: close\n",
      "Transfer-Encoding: chunked\n",
      "\n",
      "\n"
     ]
    }
   ],
   "source": [
    "from urllib.error import HTTPError\n",
    "\n",
    "try:\n",
    "    resp = urlopen(\"http://www.google.com/search?q=korean\")\n",
    "except HTTPError as e:\n",
    "    print(\"error: \",e.code,e.reason, e.headers)\n",
    "    \n",
    "    # error : 4xx caused by client\n",
    "    # error : 5xx server failed"
   ]
  },
  {
   "cell_type": "code",
   "execution_count": 13,
   "metadata": {},
   "outputs": [
    {
     "name": "stdout",
     "output_type": "stream",
     "text": [
      "Error:  403 Forbidden\n"
     ]
    }
   ],
   "source": [
    "def download(url, num_retries = 2):\n",
    "    try:\n",
    "        html = urlopen(url).read().decode(\"utf-8\")\n",
    "    except HTTPError as e:\n",
    "        html = None\n",
    "        print(\"Error: \",e.code, e.reason)\n",
    "        if 500<=e.code<600 and num_retries>0:\n",
    "            return download(url, num_retries-1)\n",
    "    return html\n",
    "\n"
   ]
  },
  {
   "cell_type": "markdown",
   "metadata": {},
   "source": [
    "# download(\"http://httpstat.us/500\")\n",
    "download(\"http://www.google.com/search?q=korean\")\n",
    "\n",
    "resp = urlopen(\"https://search.naver.com/search.naver?sm=top_hty&fbm=1\")"
   ]
  },
  {
   "cell_type": "code",
   "execution_count": null,
   "metadata": {},
   "outputs": [],
   "source": []
  },
  {
   "cell_type": "code",
   "execution_count": 15,
   "metadata": {
    "collapsed": true,
    "jupyter": {
     "outputs_hidden": true
    }
   },
   "outputs": [
    {
     "ename": "UnicodeDecodeError",
     "evalue": "'utf-8' codec can't decode byte 0xd7 in position 13824: invalid continuation byte",
     "output_type": "error",
     "traceback": [
      "\u001b[0;31m---------------------------------------------------------------------------\u001b[0m",
      "\u001b[0;31mUnicodeDecodeError\u001b[0m                        Traceback (most recent call last)",
      "\u001b[0;32m<ipython-input-15-ff19ff1e61fa>\u001b[0m in \u001b[0;36m<module>\u001b[0;34m\u001b[0m\n\u001b[1;32m     12\u001b[0m             \u001b[0;32mreturn\u001b[0m \u001b[0mdownload\u001b[0m\u001b[0;34m(\u001b[0m\u001b[0murl\u001b[0m\u001b[0;34m,\u001b[0m\u001b[0mnum_retires\u001b[0m\u001b[0;34m-\u001b[0m\u001b[0;36m1\u001b[0m\u001b[0;34m)\u001b[0m\u001b[0;34m\u001b[0m\u001b[0;34m\u001b[0m\u001b[0m\n\u001b[1;32m     13\u001b[0m     \u001b[0;32mreturn\u001b[0m \u001b[0mhtml\u001b[0m\u001b[0;34m\u001b[0m\u001b[0;34m\u001b[0m\u001b[0m\n\u001b[0;32m---> 14\u001b[0;31m \u001b[0mdownload\u001b[0m\u001b[0;34m(\u001b[0m\u001b[0;34m\"http://www.google.com/search?q=korean\"\u001b[0m\u001b[0;34m)\u001b[0m\u001b[0;34m\u001b[0m\u001b[0;34m\u001b[0m\u001b[0m\n\u001b[0m\u001b[1;32m     15\u001b[0m \u001b[0;34m\u001b[0m\u001b[0m\n",
      "\u001b[0;32m<ipython-input-15-ff19ff1e61fa>\u001b[0m in \u001b[0;36mdownload\u001b[0;34m(url, agent, num_retries)\u001b[0m\n\u001b[1;32m      5\u001b[0m \u001b[0;34m\u001b[0m\u001b[0m\n\u001b[1;32m      6\u001b[0m     \u001b[0;32mtry\u001b[0m\u001b[0;34m:\u001b[0m\u001b[0;34m\u001b[0m\u001b[0;34m\u001b[0m\u001b[0m\n\u001b[0;32m----> 7\u001b[0;31m         \u001b[0mhtml\u001b[0m\u001b[0;34m=\u001b[0m\u001b[0murlopen\u001b[0m\u001b[0;34m(\u001b[0m\u001b[0mreq\u001b[0m\u001b[0;34m)\u001b[0m\u001b[0;34m.\u001b[0m\u001b[0mread\u001b[0m\u001b[0;34m(\u001b[0m\u001b[0;34m)\u001b[0m\u001b[0;34m.\u001b[0m\u001b[0mdecode\u001b[0m\u001b[0;34m(\u001b[0m\u001b[0;34m\"utf8\"\u001b[0m\u001b[0;34m)\u001b[0m\u001b[0;34m\u001b[0m\u001b[0;34m\u001b[0m\u001b[0m\n\u001b[0m\u001b[1;32m      8\u001b[0m     \u001b[0;32mexcept\u001b[0m \u001b[0mHTTPError\u001b[0m \u001b[0;32mas\u001b[0m \u001b[0me\u001b[0m\u001b[0;34m:\u001b[0m\u001b[0;34m\u001b[0m\u001b[0;34m\u001b[0m\u001b[0m\n\u001b[1;32m      9\u001b[0m         \u001b[0mhtml\u001b[0m \u001b[0;34m=\u001b[0m \u001b[0;32mNone\u001b[0m\u001b[0;34m\u001b[0m\u001b[0;34m\u001b[0m\u001b[0m\n",
      "\u001b[0;31mUnicodeDecodeError\u001b[0m: 'utf-8' codec can't decode byte 0xd7 in position 13824: invalid continuation byte"
     ]
    }
   ],
   "source": [
    "# from urllib.request import Request\n",
    "# def download(url, agent = \"python \",num_retries = 2):\n",
    "#     headers = {'User-agent':agent}\n",
    "#     req = Request(url, headers = headers)\n",
    "    \n",
    "#     try:\n",
    "#         html=urlopen(req).read().decode(\"utf8\")\n",
    "#     except HTTPError as e:\n",
    "#         html = None\n",
    "#         print(\"error: \",e.code, e.reason)\n",
    "#         if 500<=e.code<600 and num_retries>0:\n",
    "#             return download(url,num_retires-1)\n",
    "#     return html\n",
    "# download(\"http://www.google.com/search?q=korean\")\n",
    "        "
   ]
  },
  {
   "cell_type": "code",
   "execution_count": 23,
   "metadata": {},
   "outputs": [
    {
     "name": "stdout",
     "output_type": "stream",
     "text": [
      "b'https://search.naver.com/search.naver?sm=tab_hty.top&where=nexearch&query=%ED%8C%8C%EC%9D%B4%EC%8D%AC&oquery=%ED%8C%8C%EC%9D%B4%EC%84%A0&tqi=Uw%2BINlprvmsssRwRUthssssssQ4-124920'\n"
     ]
    }
   ],
   "source": [
    "url = \"https://search.naver.com/search.naver?sm=tab_hty.top&where=nexearch&query=%ED%8C%8C%EC%9D%B4%EC%8D%AC&oquery=%ED%8C%8C%EC%9D%B4%EC%84%A0&tqi=Uw%2BINlprvmsssRwRUthssssssQ4-124920\"\n",
    "encoded_url = url.encode('utf8')\n",
    "print(encoded_url)"
   ]
  },
  {
   "cell_type": "code",
   "execution_count": null,
   "metadata": {},
   "outputs": [],
   "source": []
  },
  {
   "cell_type": "code",
   "execution_count": 20,
   "metadata": {},
   "outputs": [
    {
     "ename": "SyntaxError",
     "evalue": "EOL while scanning string literal (<ipython-input-20-4e6fffded71e>, line 1)",
     "output_type": "error",
     "traceback": [
      "\u001b[0;36m  File \u001b[0;32m\"<ipython-input-20-4e6fffded71e>\"\u001b[0;36m, line \u001b[0;32m1\u001b[0m\n\u001b[0;31m    resp = urlopen(\"https://search.naver.com/search.naver?sm=tab_hty.top&where=nexearch&query=파이썬')\u001b[0m\n\u001b[0m                                                                                                   ^\u001b[0m\n\u001b[0;31mSyntaxError\u001b[0m\u001b[0;31m:\u001b[0m EOL while scanning string literal\n"
     ]
    }
   ],
   "source": [
    "resp = urlopen(\"https://search.naver.com/search.naver?sm=tab_hty.top&where=nexearch&query=파이썬')\n",
    "print(resp.geturl())\n",
    "               "
   ]
  },
  {
   "cell_type": "code",
   "execution_count": null,
   "metadata": {},
   "outputs": [],
   "source": []
  },
  {
   "cell_type": "markdown",
   "metadata": {},
   "source": [
    "#### URLPARSE : url은 components로 쪼개준다"
   ]
  },
  {
   "cell_type": "code",
   "execution_count": 3,
   "metadata": {},
   "outputs": [],
   "source": [
    "from urllib.parse import urlparse,urljoin, urlencode, quote, quote_plus"
   ]
  },
  {
   "cell_type": "code",
   "execution_count": 4,
   "metadata": {},
   "outputs": [
    {
     "data": {
      "text/plain": [
       "'%ED%8C%8C%EC%9D%B4%EC%8D%AC'"
      ]
     },
     "execution_count": 4,
     "metadata": {},
     "output_type": "execute_result"
    }
   ],
   "source": [
    "quote('파이썬') # 한글과 같이 ASCII가 아닌 문자를 바꾸어준다"
   ]
  },
  {
   "cell_type": "code",
   "execution_count": 5,
   "metadata": {},
   "outputs": [
    {
     "data": {
      "text/plain": [
       "'%ED%8C%8C%20%EC%9D%B4%20%EC%8D%AC'"
      ]
     },
     "execution_count": 5,
     "metadata": {},
     "output_type": "execute_result"
    }
   ],
   "source": [
    "quote(\"파 이 썬\") # 띄어쓰기는 20으로 바꾸어준다"
   ]
  },
  {
   "cell_type": "code",
   "execution_count": 15,
   "metadata": {},
   "outputs": [],
   "source": [
    "str0 = \"https://www.google.com/search?source=hp&ei=v_MQX77CAdPX-Qbws4bIAQ&q=%ED%8C%8C%EC%9D%B4%EC%8D%AC&oq=%ED%8C%8C%EC%9D%B4%EC%8D%AC&gs_lcp=CgZwc3ktYWIQAzIFCAAQsQMyBQgAELEDMgUIABCxAzICCAAyBQgAELEDMgIIADICCAAyAggAMgIIADICCAA6BAgAEAo6BggAEAoQKjoICAAQsQMQgwE6BAgAEANQ2CFY0C9g-zBoB3AAeAKAAYwBiAHKCZIBBDEuMTCYAQCgAQGqAQdnd3Mtd2l6sAEA&sclient=psy-ab&ved=0ahUKEwj-nZbahtPqAhXTa94KHfCZARkQ4dUDCAc&uact=5\"\n",
    "str1 = \"https://www.google.com/search?ei=xfMQX6_UMMPX-QbHmrUY&q=%ED%8C%8C+%EC%9D%B4+%EC%8D%AC&oq=%ED%8C%8C+%EC%9D%B4+%EC%8D%AC&gs_lcp=CgZwc3ktYWIQAzICCCYyAggmOgQIABBHUNSqBFi_sARgjLQEaABwAXgAgAGqAYgBvAKSAQMwLjKYAQCgAQGqAQdnd3Mtd2l6&sclient=psy-ab&ved=0ahUKEwjvyrPdhtPqAhXDa94KHUdNDQMQ4dUDCAw&uact=5\"\n"
   ]
  },
  {
   "cell_type": "code",
   "execution_count": null,
   "metadata": {},
   "outputs": [],
   "source": []
  },
  {
   "cell_type": "code",
   "execution_count": 6,
   "metadata": {},
   "outputs": [],
   "source": [
    "from urllib.parse import unquote, unquote_plus\n",
    "# 웹사이트마다 인코딩 방식이 다르다 / quote 와 unquote를 통해 확인하기"
   ]
  },
  {
   "cell_type": "code",
   "execution_count": 10,
   "metadata": {},
   "outputs": [
    {
     "data": {
      "text/plain": [
       "'파 이 썬'"
      ]
     },
     "execution_count": 10,
     "metadata": {},
     "output_type": "execute_result"
    }
   ],
   "source": [
    "unquote(\"%ED%8C%8C%EC%9D%B4%EC%8D%AC\")\n",
    "unquote(\"%ED%8C%8C+%EC%9D%B4+%EC%8D%AC\") \n",
    "unquote(\"%ED%8C%8C%20%EC%9D%B4%20%EC%8D%AC\")"
   ]
  },
  {
   "cell_type": "code",
   "execution_count": 12,
   "metadata": {},
   "outputs": [],
   "source": [
    "from urllib.request import urlopen"
   ]
  },
  {
   "cell_type": "code",
   "execution_count": 13,
   "metadata": {},
   "outputs": [],
   "source": [
    "url = \"https://search.naver.com/search.naver?sm=top_hty&fbm=1&ie=utf8&query=%ED%8C%8C%EC%9D%B4%EC%8D%AC\"\n",
    "resp = urlopen(url)\n",
    "resp.read().decode(\"utf8\")"
   ]
  },
  {
   "cell_type": "code",
   "execution_count": null,
   "metadata": {},
   "outputs": [],
   "source": []
  },
  {
   "cell_type": "code",
   "execution_count": 16,
   "metadata": {},
   "outputs": [
    {
     "data": {
      "text/plain": [
       "'https://www.google.com/search?source=hp&ei=v_MQX77CAdPX-Qbws4bIAQ&q=%ED%8C%8C%EC%9D%B4%EC%8D%AC&oq=%ED%8C%8C%EC%9D%B4%EC%8D%AC&gs_lcp=CgZwc3ktYWIQAzIFCAAQsQMyBQgAELEDMgUIABCxAzICCAAyBQgAELEDMgIIADICCAAyAggAMgIIADICCAA6BAgAEAo6BggAEAoQKjoICAAQsQMQgwE6BAgAEANQ2CFY0C9g-zBoB3AAeAKAAYwBiAHKCZIBBDEuMTCYAQCgAQGqAQdnd3Mtd2l6sAEA&sclient=psy-ab&ved=0ahUKEwj-nZbahtPqAhXTa94KHfCZARkQ4dUDCAc&uact=5'"
      ]
     },
     "execution_count": 16,
     "metadata": {},
     "output_type": "execute_result"
    }
   ],
   "source": [
    "url = str0\n",
    "str0 "
   ]
  },
  {
   "cell_type": "code",
   "execution_count": 22,
   "metadata": {},
   "outputs": [
    {
     "name": "stdout",
     "output_type": "stream",
     "text": [
      "%ED%8C%8C%EC%9D%B4%EC%8D%AC\n",
      "{'q': '파이썬', 'oq': '', 'ags': '', 'sourceid': 'chrome', 'ie': 'UTF-8'}\n",
      "q=%ED%8C%8C%EC%9D%B4%EC%8D%AC&oq=&ags=&sourceid=chrome&ie=UTF-8\n"
     ]
    }
   ],
   "source": [
    "url = \"https://www.google.com/search?source=hp\"\n",
    "params = {\n",
    "    'q' : \"\",\n",
    "    'oq' : \"\",\n",
    "    'ags' : \"\",\n",
    "    'sourceid' : 'chrome',\n",
    "    'ie' : 'UTF-8'\n",
    "}\n",
    "\n",
    "params['q'] = '파이썬'\n",
    "print(quote(\"파이썬\"))\n",
    "print(params)\n",
    "print(urlencode(params))"
   ]
  },
  {
   "cell_type": "code",
   "execution_count": 24,
   "metadata": {},
   "outputs": [],
   "source": [
    "resp = urlopen(url + '?' + urlencode(params))"
   ]
  },
  {
   "cell_type": "code",
   "execution_count": 37,
   "metadata": {},
   "outputs": [],
   "source": [
    "from urllib.request import urlopen, Request"
   ]
  },
  {
   "cell_type": "code",
   "execution_count": 38,
   "metadata": {},
   "outputs": [],
   "source": [
    "req = Request(url + '?' + urlencode(params),\n",
    "             headers = {\"User-agent\":\"Mozilla/5.0 (Macintosh; Intel Mac OS X 10_15_5) AppleWebKit/537.36 (KHTML, like Gecko) Chrome/83.0.4103.116 Safari/537.36\"})"
   ]
  },
  {
   "cell_type": "code",
   "execution_count": 39,
   "metadata": {},
   "outputs": [
    {
     "data": {
      "text/plain": [
       "'http://httpbin.org/get?key=value?q=%ED%8C%8C%EC%9D%B4%EC%8D%AC&oq=&ags=&sourceid=chrome&ie=UTF-8'"
      ]
     },
     "execution_count": 39,
     "metadata": {},
     "output_type": "execute_result"
    }
   ],
   "source": [
    "req.get_full_url()"
   ]
  },
  {
   "cell_type": "code",
   "execution_count": 40,
   "metadata": {},
   "outputs": [
    {
     "data": {
      "text/plain": [
       "{'User-agent': 'Mozilla/5.0 (Macintosh; Intel Mac OS X 10_15_5) AppleWebKit/537.36 (KHTML, like Gecko) Chrome/83.0.4103.116 Safari/537.36'}"
      ]
     },
     "execution_count": 40,
     "metadata": {},
     "output_type": "execute_result"
    }
   ],
   "source": [
    "req.headers"
   ]
  },
  {
   "cell_type": "code",
   "execution_count": 41,
   "metadata": {},
   "outputs": [],
   "source": [
    "resp = urlopen(req)"
   ]
  },
  {
   "cell_type": "code",
   "execution_count": 42,
   "metadata": {},
   "outputs": [
    {
     "data": {
      "text/plain": [
       "'{\\n  \"args\": {\\n    \"ags\": \"\", \\n    \"ie\": \"UTF-8\", \\n    \"key\": \"value?q=\\\\ud30c\\\\uc774\\\\uc36c\", \\n    \"oq\": \"\", \\n    \"sourceid\": \"chrome\"\\n  }, \\n  \"headers\": {\\n    \"Accept-Encoding\": \"identity\", \\n    \"Host\": \"httpbin.org\", \\n    \"User-Agent\": \"Mozilla/5.0 (Macintosh; Intel Mac OS X 10_15_5) AppleWebKit/537.36 (KHTML, like Gecko) Chrome/83.0.4103.116 Safari/537.36\", \\n    \"X-Amzn-Trace-Id\": \"Root=1-5f10fe6b-c0d0146b6ba28419c7daae31\"\\n  }, \\n  \"origin\": \"1.231.153.99\", \\n  \"url\": \"http://httpbin.org/get?key=value%3Fq=\\\\ud30c\\\\uc774\\\\uc36c&oq=&ags=&sourceid=chrome&ie=UTF-8\"\\n}\\n'"
      ]
     },
     "execution_count": 42,
     "metadata": {},
     "output_type": "execute_result"
    }
   ],
   "source": [
    "resp.read().decode('utf8')"
   ]
  },
  {
   "cell_type": "code",
   "execution_count": 43,
   "metadata": {},
   "outputs": [],
   "source": [
    "from urllib.error import HTTPError\n",
    "try:\n",
    "    resp = urlopen(url +\"?\" + urlencode(params))\n",
    "except HTTPError as e:\n",
    "    print(e.code)\n",
    "    print(e.reason)\n",
    "    print(e.headers)"
   ]
  },
  {
   "cell_type": "markdown",
   "metadata": {},
   "source": [
    "##### http://httpbin.org \n",
    "어떤 에러인지 응답해줌"
   ]
  },
  {
   "cell_type": "code",
   "execution_count": 33,
   "metadata": {},
   "outputs": [
    {
     "name": "stdout",
     "output_type": "stream",
     "text": [
      "Date: Fri, 17 Jul 2020 01:10:37 GMT\n",
      "Content-Type: application/json\n",
      "Content-Length: 305\n",
      "Connection: close\n",
      "Server: gunicorn/19.9.0\n",
      "Access-Control-Allow-Origin: *\n",
      "Access-Control-Allow-Credentials: true\n",
      "\n",
      "\n",
      "{\n",
      "  \"args\": {\n",
      "    \"key\": \"value\"\n",
      "  }, \n",
      "  \"headers\": {\n",
      "    \"Accept-Encoding\": \"identity\", \n",
      "    \"Host\": \"httpbin.org\", \n",
      "    \"User-Agent\": \"Python-urllib/3.7\", \n",
      "    \"X-Amzn-Trace-Id\": \"Root=1-5f10fa8d-93e5ec004115699009dafd70\"\n",
      "  }, \n",
      "  \"origin\": \"1.231.153.99\", \n",
      "  \"url\": \"http://httpbin.org/get?key=value\"\n",
      "}\n",
      "\n"
     ]
    }
   ],
   "source": [
    "url = \"http://httpbin.org/get?key=value\"\n",
    "resp = urlopen(url)\n",
    "print(resp.headers)\n",
    "print(resp.read().decode(\"UTF-8\"))\n",
    "# url-agent : \"Python-urllib/3.7\" - 구글에서 막은 이유는 파이썬 urllib을 통해서 많이 접근하기 때문이다"
   ]
  },
  {
   "cell_type": "markdown",
   "metadata": {},
   "source": [
    "#####  HTTP Error 405: METHOD NOT ALLOWED\n",
    "    post 방식과 get 방식의 불일치 --> Request 방식을 사용해야함: method 파라미터에 입력해서 사용"
   ]
  },
  {
   "cell_type": "code",
   "execution_count": 44,
   "metadata": {},
   "outputs": [
    {
     "ename": "HTTPError",
     "evalue": "HTTP Error 405: METHOD NOT ALLOWED",
     "output_type": "error",
     "traceback": [
      "\u001b[0;31m---------------------------------------------------------------------------\u001b[0m",
      "\u001b[0;31mHTTPError\u001b[0m                                 Traceback (most recent call last)",
      "\u001b[0;32m<ipython-input-44-c737da2cad25>\u001b[0m in \u001b[0;36m<module>\u001b[0;34m\u001b[0m\n\u001b[1;32m      1\u001b[0m \u001b[0murl\u001b[0m \u001b[0;34m=\u001b[0m \u001b[0;34m\"http://httpbin.org/post\"\u001b[0m\u001b[0;34m\u001b[0m\u001b[0;34m\u001b[0m\u001b[0m\n\u001b[0;32m----> 2\u001b[0;31m \u001b[0mresp\u001b[0m \u001b[0;34m=\u001b[0m \u001b[0murlopen\u001b[0m\u001b[0;34m(\u001b[0m\u001b[0murl\u001b[0m\u001b[0;34m)\u001b[0m\u001b[0;34m\u001b[0m\u001b[0;34m\u001b[0m\u001b[0m\n\u001b[0m\u001b[1;32m      3\u001b[0m \u001b[0mprint\u001b[0m\u001b[0;34m(\u001b[0m\u001b[0mresp\u001b[0m\u001b[0;34m.\u001b[0m\u001b[0mheaders\u001b[0m\u001b[0;34m)\u001b[0m\u001b[0;34m\u001b[0m\u001b[0;34m\u001b[0m\u001b[0m\n\u001b[1;32m      4\u001b[0m \u001b[0mprint\u001b[0m\u001b[0;34m(\u001b[0m\u001b[0mresp\u001b[0m\u001b[0;34m.\u001b[0m\u001b[0mread\u001b[0m\u001b[0;34m(\u001b[0m\u001b[0;34m)\u001b[0m\u001b[0;34m.\u001b[0m\u001b[0mdecode\u001b[0m\u001b[0;34m(\u001b[0m\u001b[0;34m\"UTF-8\"\u001b[0m\u001b[0;34m)\u001b[0m\u001b[0;34m)\u001b[0m\u001b[0;34m\u001b[0m\u001b[0;34m\u001b[0m\u001b[0m\n\u001b[1;32m      5\u001b[0m \u001b[0;31m# url-agent : \"Python-urllib/3.7\" - 구글에서 막은 이유는 파이썬 urllib을 통해서 많이 접근하기 때문이다\u001b[0m\u001b[0;34m\u001b[0m\u001b[0;34m\u001b[0m\u001b[0;34m\u001b[0m\u001b[0m\n",
      "\u001b[0;32m~/opt/anaconda3/lib/python3.7/urllib/request.py\u001b[0m in \u001b[0;36murlopen\u001b[0;34m(url, data, timeout, cafile, capath, cadefault, context)\u001b[0m\n\u001b[1;32m    220\u001b[0m     \u001b[0;32melse\u001b[0m\u001b[0;34m:\u001b[0m\u001b[0;34m\u001b[0m\u001b[0;34m\u001b[0m\u001b[0m\n\u001b[1;32m    221\u001b[0m         \u001b[0mopener\u001b[0m \u001b[0;34m=\u001b[0m \u001b[0m_opener\u001b[0m\u001b[0;34m\u001b[0m\u001b[0;34m\u001b[0m\u001b[0m\n\u001b[0;32m--> 222\u001b[0;31m     \u001b[0;32mreturn\u001b[0m \u001b[0mopener\u001b[0m\u001b[0;34m.\u001b[0m\u001b[0mopen\u001b[0m\u001b[0;34m(\u001b[0m\u001b[0murl\u001b[0m\u001b[0;34m,\u001b[0m \u001b[0mdata\u001b[0m\u001b[0;34m,\u001b[0m \u001b[0mtimeout\u001b[0m\u001b[0;34m)\u001b[0m\u001b[0;34m\u001b[0m\u001b[0;34m\u001b[0m\u001b[0m\n\u001b[0m\u001b[1;32m    223\u001b[0m \u001b[0;34m\u001b[0m\u001b[0m\n\u001b[1;32m    224\u001b[0m \u001b[0;32mdef\u001b[0m \u001b[0minstall_opener\u001b[0m\u001b[0;34m(\u001b[0m\u001b[0mopener\u001b[0m\u001b[0;34m)\u001b[0m\u001b[0;34m:\u001b[0m\u001b[0;34m\u001b[0m\u001b[0;34m\u001b[0m\u001b[0m\n",
      "\u001b[0;32m~/opt/anaconda3/lib/python3.7/urllib/request.py\u001b[0m in \u001b[0;36mopen\u001b[0;34m(self, fullurl, data, timeout)\u001b[0m\n\u001b[1;32m    529\u001b[0m         \u001b[0;32mfor\u001b[0m \u001b[0mprocessor\u001b[0m \u001b[0;32min\u001b[0m \u001b[0mself\u001b[0m\u001b[0;34m.\u001b[0m\u001b[0mprocess_response\u001b[0m\u001b[0;34m.\u001b[0m\u001b[0mget\u001b[0m\u001b[0;34m(\u001b[0m\u001b[0mprotocol\u001b[0m\u001b[0;34m,\u001b[0m \u001b[0;34m[\u001b[0m\u001b[0;34m]\u001b[0m\u001b[0;34m)\u001b[0m\u001b[0;34m:\u001b[0m\u001b[0;34m\u001b[0m\u001b[0;34m\u001b[0m\u001b[0m\n\u001b[1;32m    530\u001b[0m             \u001b[0mmeth\u001b[0m \u001b[0;34m=\u001b[0m \u001b[0mgetattr\u001b[0m\u001b[0;34m(\u001b[0m\u001b[0mprocessor\u001b[0m\u001b[0;34m,\u001b[0m \u001b[0mmeth_name\u001b[0m\u001b[0;34m)\u001b[0m\u001b[0;34m\u001b[0m\u001b[0;34m\u001b[0m\u001b[0m\n\u001b[0;32m--> 531\u001b[0;31m             \u001b[0mresponse\u001b[0m \u001b[0;34m=\u001b[0m \u001b[0mmeth\u001b[0m\u001b[0;34m(\u001b[0m\u001b[0mreq\u001b[0m\u001b[0;34m,\u001b[0m \u001b[0mresponse\u001b[0m\u001b[0;34m)\u001b[0m\u001b[0;34m\u001b[0m\u001b[0;34m\u001b[0m\u001b[0m\n\u001b[0m\u001b[1;32m    532\u001b[0m \u001b[0;34m\u001b[0m\u001b[0m\n\u001b[1;32m    533\u001b[0m         \u001b[0;32mreturn\u001b[0m \u001b[0mresponse\u001b[0m\u001b[0;34m\u001b[0m\u001b[0;34m\u001b[0m\u001b[0m\n",
      "\u001b[0;32m~/opt/anaconda3/lib/python3.7/urllib/request.py\u001b[0m in \u001b[0;36mhttp_response\u001b[0;34m(self, request, response)\u001b[0m\n\u001b[1;32m    639\u001b[0m         \u001b[0;32mif\u001b[0m \u001b[0;32mnot\u001b[0m \u001b[0;34m(\u001b[0m\u001b[0;36m200\u001b[0m \u001b[0;34m<=\u001b[0m \u001b[0mcode\u001b[0m \u001b[0;34m<\u001b[0m \u001b[0;36m300\u001b[0m\u001b[0;34m)\u001b[0m\u001b[0;34m:\u001b[0m\u001b[0;34m\u001b[0m\u001b[0;34m\u001b[0m\u001b[0m\n\u001b[1;32m    640\u001b[0m             response = self.parent.error(\n\u001b[0;32m--> 641\u001b[0;31m                 'http', request, response, code, msg, hdrs)\n\u001b[0m\u001b[1;32m    642\u001b[0m \u001b[0;34m\u001b[0m\u001b[0m\n\u001b[1;32m    643\u001b[0m         \u001b[0;32mreturn\u001b[0m \u001b[0mresponse\u001b[0m\u001b[0;34m\u001b[0m\u001b[0;34m\u001b[0m\u001b[0m\n",
      "\u001b[0;32m~/opt/anaconda3/lib/python3.7/urllib/request.py\u001b[0m in \u001b[0;36merror\u001b[0;34m(self, proto, *args)\u001b[0m\n\u001b[1;32m    567\u001b[0m         \u001b[0;32mif\u001b[0m \u001b[0mhttp_err\u001b[0m\u001b[0;34m:\u001b[0m\u001b[0;34m\u001b[0m\u001b[0;34m\u001b[0m\u001b[0m\n\u001b[1;32m    568\u001b[0m             \u001b[0margs\u001b[0m \u001b[0;34m=\u001b[0m \u001b[0;34m(\u001b[0m\u001b[0mdict\u001b[0m\u001b[0;34m,\u001b[0m \u001b[0;34m'default'\u001b[0m\u001b[0;34m,\u001b[0m \u001b[0;34m'http_error_default'\u001b[0m\u001b[0;34m)\u001b[0m \u001b[0;34m+\u001b[0m \u001b[0morig_args\u001b[0m\u001b[0;34m\u001b[0m\u001b[0;34m\u001b[0m\u001b[0m\n\u001b[0;32m--> 569\u001b[0;31m             \u001b[0;32mreturn\u001b[0m \u001b[0mself\u001b[0m\u001b[0;34m.\u001b[0m\u001b[0m_call_chain\u001b[0m\u001b[0;34m(\u001b[0m\u001b[0;34m*\u001b[0m\u001b[0margs\u001b[0m\u001b[0;34m)\u001b[0m\u001b[0;34m\u001b[0m\u001b[0;34m\u001b[0m\u001b[0m\n\u001b[0m\u001b[1;32m    570\u001b[0m \u001b[0;34m\u001b[0m\u001b[0m\n\u001b[1;32m    571\u001b[0m \u001b[0;31m# XXX probably also want an abstract factory that knows when it makes\u001b[0m\u001b[0;34m\u001b[0m\u001b[0;34m\u001b[0m\u001b[0;34m\u001b[0m\u001b[0m\n",
      "\u001b[0;32m~/opt/anaconda3/lib/python3.7/urllib/request.py\u001b[0m in \u001b[0;36m_call_chain\u001b[0;34m(self, chain, kind, meth_name, *args)\u001b[0m\n\u001b[1;32m    501\u001b[0m         \u001b[0;32mfor\u001b[0m \u001b[0mhandler\u001b[0m \u001b[0;32min\u001b[0m \u001b[0mhandlers\u001b[0m\u001b[0;34m:\u001b[0m\u001b[0;34m\u001b[0m\u001b[0;34m\u001b[0m\u001b[0m\n\u001b[1;32m    502\u001b[0m             \u001b[0mfunc\u001b[0m \u001b[0;34m=\u001b[0m \u001b[0mgetattr\u001b[0m\u001b[0;34m(\u001b[0m\u001b[0mhandler\u001b[0m\u001b[0;34m,\u001b[0m \u001b[0mmeth_name\u001b[0m\u001b[0;34m)\u001b[0m\u001b[0;34m\u001b[0m\u001b[0;34m\u001b[0m\u001b[0m\n\u001b[0;32m--> 503\u001b[0;31m             \u001b[0mresult\u001b[0m \u001b[0;34m=\u001b[0m \u001b[0mfunc\u001b[0m\u001b[0;34m(\u001b[0m\u001b[0;34m*\u001b[0m\u001b[0margs\u001b[0m\u001b[0;34m)\u001b[0m\u001b[0;34m\u001b[0m\u001b[0;34m\u001b[0m\u001b[0m\n\u001b[0m\u001b[1;32m    504\u001b[0m             \u001b[0;32mif\u001b[0m \u001b[0mresult\u001b[0m \u001b[0;32mis\u001b[0m \u001b[0;32mnot\u001b[0m \u001b[0;32mNone\u001b[0m\u001b[0;34m:\u001b[0m\u001b[0;34m\u001b[0m\u001b[0;34m\u001b[0m\u001b[0m\n\u001b[1;32m    505\u001b[0m                 \u001b[0;32mreturn\u001b[0m \u001b[0mresult\u001b[0m\u001b[0;34m\u001b[0m\u001b[0;34m\u001b[0m\u001b[0m\n",
      "\u001b[0;32m~/opt/anaconda3/lib/python3.7/urllib/request.py\u001b[0m in \u001b[0;36mhttp_error_default\u001b[0;34m(self, req, fp, code, msg, hdrs)\u001b[0m\n\u001b[1;32m    647\u001b[0m \u001b[0;32mclass\u001b[0m \u001b[0mHTTPDefaultErrorHandler\u001b[0m\u001b[0;34m(\u001b[0m\u001b[0mBaseHandler\u001b[0m\u001b[0;34m)\u001b[0m\u001b[0;34m:\u001b[0m\u001b[0;34m\u001b[0m\u001b[0;34m\u001b[0m\u001b[0m\n\u001b[1;32m    648\u001b[0m     \u001b[0;32mdef\u001b[0m \u001b[0mhttp_error_default\u001b[0m\u001b[0;34m(\u001b[0m\u001b[0mself\u001b[0m\u001b[0;34m,\u001b[0m \u001b[0mreq\u001b[0m\u001b[0;34m,\u001b[0m \u001b[0mfp\u001b[0m\u001b[0;34m,\u001b[0m \u001b[0mcode\u001b[0m\u001b[0;34m,\u001b[0m \u001b[0mmsg\u001b[0m\u001b[0;34m,\u001b[0m \u001b[0mhdrs\u001b[0m\u001b[0;34m)\u001b[0m\u001b[0;34m:\u001b[0m\u001b[0;34m\u001b[0m\u001b[0;34m\u001b[0m\u001b[0m\n\u001b[0;32m--> 649\u001b[0;31m         \u001b[0;32mraise\u001b[0m \u001b[0mHTTPError\u001b[0m\u001b[0;34m(\u001b[0m\u001b[0mreq\u001b[0m\u001b[0;34m.\u001b[0m\u001b[0mfull_url\u001b[0m\u001b[0;34m,\u001b[0m \u001b[0mcode\u001b[0m\u001b[0;34m,\u001b[0m \u001b[0mmsg\u001b[0m\u001b[0;34m,\u001b[0m \u001b[0mhdrs\u001b[0m\u001b[0;34m,\u001b[0m \u001b[0mfp\u001b[0m\u001b[0;34m)\u001b[0m\u001b[0;34m\u001b[0m\u001b[0;34m\u001b[0m\u001b[0m\n\u001b[0m\u001b[1;32m    650\u001b[0m \u001b[0;34m\u001b[0m\u001b[0m\n\u001b[1;32m    651\u001b[0m \u001b[0;32mclass\u001b[0m \u001b[0mHTTPRedirectHandler\u001b[0m\u001b[0;34m(\u001b[0m\u001b[0mBaseHandler\u001b[0m\u001b[0;34m)\u001b[0m\u001b[0;34m:\u001b[0m\u001b[0;34m\u001b[0m\u001b[0;34m\u001b[0m\u001b[0m\n",
      "\u001b[0;31mHTTPError\u001b[0m: HTTP Error 405: METHOD NOT ALLOWED"
     ]
    }
   ],
   "source": [
    "url = \"http://httpbin.org/post\" # post 방식에 get 방식으로 접근하면 method 에러가 생긴다\n",
    "resp = urlopen(url)\n",
    "print(resp.headers)\n",
    "print(resp.read().decode(\"UTF-8\"))\n",
    "# url-agent : \"Python-urllib/3.7\" - 구글에서 막은 이유는 파이썬 urllib을 통해서 많이 접근하기 때문이다"
   ]
  },
  {
   "cell_type": "code",
   "execution_count": 57,
   "metadata": {},
   "outputs": [
    {
     "name": "stdout",
     "output_type": "stream",
     "text": [
      "Date: Fri, 17 Jul 2020 01:43:03 GMT\n",
      "Content-Type: application/json\n",
      "Content-Length: 495\n",
      "Connection: close\n",
      "Server: gunicorn/19.9.0\n",
      "Access-Control-Allow-Origin: *\n",
      "Access-Control-Allow-Credentials: true\n",
      "\n",
      "\n",
      "{\n",
      "  \"args\": {\n",
      "    \"k\": \"v\"\n",
      "  }, \n",
      "  \"data\": \"\", \n",
      "  \"files\": {}, \n",
      "  \"form\": {\n",
      "    \"key\": \"value\", \n",
      "    \"name\": \"\\ud55c\\uae00\"\n",
      "  }, \n",
      "  \"headers\": {\n",
      "    \"Accept-Encoding\": \"identity\", \n",
      "    \"Content-Length\": \"33\", \n",
      "    \"Content-Type\": \"application/x-www-form-urlencoded\", \n",
      "    \"Host\": \"httpbin.org\", \n",
      "    \"User-Agent\": \"Python-urllib/3.7\", \n",
      "    \"X-Amzn-Trace-Id\": \"Root=1-5f110227-51d2e4479251be9c54017f7f\"\n",
      "  }, \n",
      "  \"json\": null, \n",
      "  \"origin\": \"1.231.153.99\", \n",
      "  \"url\": \"http://httpbin.org/post?k=v\"\n",
      "}\n",
      "\n"
     ]
    }
   ],
   "source": [
    "# 매우 번거로움\n",
    "url = \"http://httpbin.org/post?k=v\" \n",
    "params = {\n",
    "    'key':'value',\n",
    "    'name':'한글'\n",
    "}\n",
    "resp = urlopen(Request(url= url,data = urlencode(params).encode('utf-8'), method = \"POST\")) # urlopen get 방식 대신에 Request에서 post qkdtlrdmf tkdydgksek\n",
    "print(resp.headers)\n",
    "print(resp.read().decode(\"utf8\"))"
   ]
  },
  {
   "cell_type": "markdown",
   "metadata": {},
   "source": [
    "##### urllib 정리\n",
    "    urlopen / request 통해 response를 받아옴 / error의 종류 400대(내 코드 잘못) 500대(웹사이트 잘못)\n",
    "    url = 'target url'\n",
    "    r = urllib.request.Request(url, headers = {headers})\n",
    "    p = urllib.request.urlopen(r)\n",
    "    \n",
    "###### HTTPS 메소드에 따라 post와 get으로 나뉨\n",
    "    byte로의 엔코딩 : encode(\"utf8\")\n",
    "    \n",
    "###### urlparse() : url을 6개의 조각으로 파편화\n",
    "    서비스 도메인 이름은 바뀌지 않고 path, params 부분만 바뀌기 때문에 편리\n"
   ]
  },
  {
   "cell_type": "code",
   "execution_count": 58,
   "metadata": {},
   "outputs": [
    {
     "data": {
      "text/plain": [
       "ParseResult(scheme='http', netloc='httpbin.org', path='/post', params='', query='k=v', fragment='')"
      ]
     },
     "execution_count": 58,
     "metadata": {},
     "output_type": "execute_result"
    }
   ],
   "source": [
    "urlparse(url)\n",
    "# netloc : 상대방의 도메인\n",
    "# param : ?이후의 값들\n",
    "# fragment : #으로 외부 페이지와 열결"
   ]
  },
  {
   "cell_type": "code",
   "execution_count": 63,
   "metadata": {},
   "outputs": [
    {
     "data": {
      "text/plain": [
       "'httpbin.org/post'"
      ]
     },
     "execution_count": 63,
     "metadata": {},
     "output_type": "execute_result"
    }
   ],
   "source": [
    "urlparse(url)[1] + urlparse(url)[2]"
   ]
  },
  {
   "cell_type": "code",
   "execution_count": 65,
   "metadata": {},
   "outputs": [
    {
     "data": {
      "text/plain": [
       "ParseResult(scheme='http', netloc='domain.com', path='/service/asdf/asdf/asdf/asdf/', params='', query='k=v', fragment='')"
      ]
     },
     "execution_count": 65,
     "metadata": {},
     "output_type": "execute_result"
    }
   ],
   "source": [
    "urlparse(\"http://domain.com/service/asdf/asdf/asdf/asdf/?k=v\")"
   ]
  },
  {
   "cell_type": "code",
   "execution_count": 66,
   "metadata": {},
   "outputs": [
    {
     "data": {
      "text/plain": [
       "ParseResult(scheme='https', netloc='www.coupang.com', path='/vp/products/1423285510', params='', query='itemId=2462300855&vendorItemId=70455779257&isAddedCart=', fragment='')"
      ]
     },
     "execution_count": 66,
     "metadata": {},
     "output_type": "execute_result"
    }
   ],
   "source": [
    "url = \"https://www.coupang.com/vp/products/1423285510?itemId=2462300855&vendorItemId=70455779257&isAddedCart=\"\n",
    "urlparse(url) # 해당하는 도메인 내에서만 움직이도록 판별해주는 역할을 한다 --> 크롤링을 할 때 netloc 호스트가 바뀌었는지를 확인해준다"
   ]
  },
  {
   "cell_type": "code",
   "execution_count": 67,
   "metadata": {},
   "outputs": [
    {
     "data": {
      "text/plain": [
       "'https://www.coupang.com/get?asdfasdf'"
      ]
     },
     "execution_count": 67,
     "metadata": {},
     "output_type": "execute_result"
    }
   ],
   "source": [
    "urljoin(url,'/get?asdfasdf') # 간편하게 새로운 주소로 만들어준다"
   ]
  },
  {
   "cell_type": "markdown",
   "metadata": {},
   "source": [
    "#### Requests package"
   ]
  },
  {
   "cell_type": "code",
   "execution_count": 68,
   "metadata": {},
   "outputs": [],
   "source": [
    "import requests\n",
    "# session, cookies, cae, auth, certs, https를 사용한 웹사이트에서 secure 통신 인증서 받기"
   ]
  },
  {
   "cell_type": "code",
   "execution_count": 69,
   "metadata": {},
   "outputs": [],
   "source": []
  },
  {
   "cell_type": "code",
   "execution_count": 88,
   "metadata": {},
   "outputs": [],
   "source": [
    "resp = requests.get('https://httpbin.org/')"
   ]
  },
  {
   "cell_type": "code",
   "execution_count": 89,
   "metadata": {},
   "outputs": [
    {
     "data": {
      "text/plain": [
       "{'Date': 'Fri, 17 Jul 2020 02:08:21 GMT', 'Content-Type': 'text/html; charset=utf-8', 'Content-Length': '9593', 'Connection': 'keep-alive', 'Server': 'gunicorn/19.9.0', 'Access-Control-Allow-Origin': '*', 'Access-Control-Allow-Credentials': 'true'}"
      ]
     },
     "execution_count": 89,
     "metadata": {},
     "output_type": "execute_result"
    }
   ],
   "source": [
    "resp.headers"
   ]
  },
  {
   "cell_type": "code",
   "execution_count": 90,
   "metadata": {
    "collapsed": true,
    "jupyter": {
     "outputs_hidden": true
    }
   },
   "outputs": [
    {
     "data": {
      "text/plain": [
       "b'<!DOCTYPE html>\\n<html lang=\"en\">\\n\\n<head>\\n    <meta charset=\"UTF-8\">\\n    <title>httpbin.org</title>\\n    <link href=\"https://fonts.googleapis.com/css?family=Open+Sans:400,700|Source+Code+Pro:300,600|Titillium+Web:400,600,700\"\\n        rel=\"stylesheet\">\\n    <link rel=\"stylesheet\" type=\"text/css\" href=\"/flasgger_static/swagger-ui.css\">\\n    <link rel=\"icon\" type=\"image/png\" href=\"/static/favicon.ico\" sizes=\"64x64 32x32 16x16\" />\\n    <style>\\n        html {\\n            box-sizing: border-box;\\n            overflow: -moz-scrollbars-vertical;\\n            overflow-y: scroll;\\n        }\\n\\n        *,\\n        *:before,\\n        *:after {\\n            box-sizing: inherit;\\n        }\\n\\n        body {\\n            margin: 0;\\n            background: #fafafa;\\n        }\\n    </style>\\n</head>\\n\\n<body>\\n    <a href=\"https://github.com/requests/httpbin\" class=\"github-corner\" aria-label=\"View source on Github\">\\n        <svg width=\"80\" height=\"80\" viewBox=\"0 0 250 250\" style=\"fill:#151513; color:#fff; position: absolute; top: 0; border: 0; right: 0;\"\\n            aria-hidden=\"true\">\\n            <path d=\"M0,0 L115,115 L130,115 L142,142 L250,250 L250,0 Z\"></path>\\n            <path d=\"M128.3,109.0 C113.8,99.7 119.0,89.6 119.0,89.6 C122.0,82.7 120.5,78.6 120.5,78.6 C119.2,72.0 123.4,76.3 123.4,76.3 C127.3,80.9 125.5,87.3 125.5,87.3 C122.9,97.6 130.6,101.9 134.4,103.2\"\\n                fill=\"currentColor\" style=\"transform-origin: 130px 106px;\" class=\"octo-arm\"></path>\\n            <path d=\"M115.0,115.0 C114.9,115.1 118.7,116.5 119.8,115.4 L133.7,101.6 C136.9,99.2 139.9,98.4 142.2,98.6 C133.8,88.0 127.5,74.4 143.8,58.0 C148.5,53.4 154.0,51.2 159.7,51.0 C160.3,49.4 163.2,43.6 171.4,40.1 C171.4,40.1 176.1,42.5 178.8,56.2 C183.1,58.6 187.2,61.8 190.9,65.4 C194.5,69.0 197.7,73.2 200.1,77.6 C213.8,80.2 216.3,84.9 216.3,84.9 C212.7,93.1 206.9,96.0 205.4,96.6 C205.1,102.4 203.0,107.8 198.3,112.5 C181.9,128.9 168.3,122.5 157.7,114.1 C157.9,116.9 156.7,120.9 152.7,124.9 L141.0,136.5 C139.8,137.7 141.6,141.9 141.8,141.8 Z\"\\n                fill=\"currentColor\" class=\"octo-body\"></path>\\n        </svg>\\n    </a>\\n    <svg xmlns=\"http://www.w3.org/2000/svg\" xmlns:xlink=\"http://www.w3.org/1999/xlink\" style=\"position:absolute;width:0;height:0\">\\n        <defs>\\n            <symbol viewBox=\"0 0 20 20\" id=\"unlocked\">\\n                <path d=\"M15.8 8H14V5.6C14 2.703 12.665 1 10 1 7.334 1 6 2.703 6 5.6V6h2v-.801C8 3.754 8.797 3 10 3c1.203 0 2 .754 2 2.199V8H4c-.553 0-1 .646-1 1.199V17c0 .549.428 1.139.951 1.307l1.197.387C5.672 18.861 6.55 19 7.1 19h5.8c.549 0 1.428-.139 1.951-.307l1.196-.387c.524-.167.953-.757.953-1.306V9.199C17 8.646 16.352 8 15.8 8z\"></path>\\n            </symbol>\\n\\n            <symbol viewBox=\"0 0 20 20\" id=\"locked\">\\n                <path d=\"M15.8 8H14V5.6C14 2.703 12.665 1 10 1 7.334 1 6 2.703 6 5.6V8H4c-.553 0-1 .646-1 1.199V17c0 .549.428 1.139.951 1.307l1.197.387C5.672 18.861 6.55 19 7.1 19h5.8c.549 0 1.428-.139 1.951-.307l1.196-.387c.524-.167.953-.757.953-1.306V9.199C17 8.646 16.352 8 15.8 8zM12 8H8V5.199C8 3.754 8.797 3 10 3c1.203 0 2 .754 2 2.199V8z\"\\n                />\\n            </symbol>\\n\\n            <symbol viewBox=\"0 0 20 20\" id=\"close\">\\n                <path d=\"M14.348 14.849c-.469.469-1.229.469-1.697 0L10 11.819l-2.651 3.029c-.469.469-1.229.469-1.697 0-.469-.469-.469-1.229 0-1.697l2.758-3.15-2.759-3.152c-.469-.469-.469-1.228 0-1.697.469-.469 1.228-.469 1.697 0L10 8.183l2.651-3.031c.469-.469 1.228-.469 1.697 0 .469.469.469 1.229 0 1.697l-2.758 3.152 2.758 3.15c.469.469.469 1.229 0 1.698z\"\\n                />\\n            </symbol>\\n\\n            <symbol viewBox=\"0 0 20 20\" id=\"large-arrow\">\\n                <path d=\"M13.25 10L6.109 2.58c-.268-.27-.268-.707 0-.979.268-.27.701-.27.969 0l7.83 7.908c.268.271.268.709 0 .979l-7.83 7.908c-.268.271-.701.27-.969 0-.268-.269-.268-.707 0-.979L13.25 10z\"\\n                />\\n            </symbol>\\n\\n            <symbol viewBox=\"0 0 20 20\" id=\"large-arrow-down\">\\n                <path d=\"M17.418 6.109c.272-.268.709-.268.979 0s.271.701 0 .969l-7.908 7.83c-.27.268-.707.268-.979 0l-7.908-7.83c-.27-.268-.27-.701 0-.969.271-.268.709-.268.979 0L10 13.25l7.418-7.141z\"\\n                />\\n            </symbol>\\n\\n\\n            <symbol viewBox=\"0 0 24 24\" id=\"jump-to\">\\n                <path d=\"M19 7v4H5.83l3.58-3.59L8 6l-6 6 6 6 1.41-1.41L5.83 13H21V7z\" />\\n            </symbol>\\n\\n            <symbol viewBox=\"0 0 24 24\" id=\"expand\">\\n                <path d=\"M10 18h4v-2h-4v2zM3 6v2h18V6H3zm3 7h12v-2H6v2z\" />\\n            </symbol>\\n\\n        </defs>\\n    </svg>\\n\\n\\n    <div id=\"swagger-ui\">\\n        <div data-reactroot=\"\" class=\"swagger-ui\">\\n            <div>\\n                <div class=\"information-container wrapper\">\\n                    <section class=\"block col-12\">\\n                        <div class=\"info\">\\n                            <hgroup class=\"main\">\\n                                <h2 class=\"title\">httpbin.org\\n                                    <small>\\n                                        <pre class=\"version\">0.9.2</pre>\\n                                    </small>\\n                                </h2>\\n                                <pre class=\"base-url\">[ Base URL: httpbin.org/ ]</pre>\\n                            </hgroup>\\n                            <div class=\"description\">\\n                                <div class=\"markdown\">\\n                                    <p>A simple HTTP Request &amp; Response Service.\\n                                        <br>\\n                                        <br>\\n                                        <b>Run locally: </b>\\n                                        <code>$ docker run -p 80:80 kennethreitz/httpbin</code>\\n                                    </p>\\n                                </div>\\n                            </div>\\n                            <div>\\n                                <div>\\n                                    <a href=\"https://kennethreitz.org\" target=\"_blank\">the developer - Website</a>\\n                                </div>\\n                                <a href=\"mailto:me@kennethreitz.org\">Send email to the developer</a>\\n                            </div>\\n                        </div>\\n                        <!-- ADDS THE LOADER SPINNER -->\\n                        <div class=\"loading-container\">\\n                            <div class=\"loading\"></div>\\n                        </div>\\n\\n                    </section>\\n                </div>\\n            </div>\\n        </div>\\n    </div>\\n\\n\\n    <div class=\\'swagger-ui\\'>\\n        <div class=\"wrapper\">\\n            <section class=\"clear\">\\n                <span style=\"float: right;\">\\n                    [Powered by\\n                    <a target=\"_blank\" href=\"https://github.com/rochacbruno/flasgger\">Flasgger</a>]\\n                    <br>\\n                </span>\\n            </section>\\n        </div>\\n    </div>\\n\\n\\n\\n    <script src=\"/flasgger_static/swagger-ui-bundle.js\"> </script>\\n    <script src=\"/flasgger_static/swagger-ui-standalone-preset.js\"> </script>\\n    <script src=\\'/flasgger_static/lib/jquery.min.js\\' type=\\'text/javascript\\'></script>\\n    <script>\\n\\n        window.onload = function () {\\n            \\n\\n            fetch(\"/spec.json\")\\n                .then(function (response) {\\n                    response.json()\\n                        .then(function (json) {\\n                            var current_protocol = window.location.protocol.slice(0, -1);\\n                            if (json.schemes[0] != current_protocol) {\\n                                // Switches scheme to the current in use\\n                                var other_protocol = json.schemes[0];\\n                                json.schemes[0] = current_protocol;\\n                                json.schemes[1] = other_protocol;\\n\\n                            }\\n                            json.host = window.location.host;  // sets the current host\\n\\n                            const ui = SwaggerUIBundle({\\n                                spec: json,\\n                                validatorUrl: null,\\n                                dom_id: \\'#swagger-ui\\',\\n                                deepLinking: true,\\n                                jsonEditor: true,\\n                                docExpansion: \"none\",\\n                                apisSorter: \"alpha\",\\n                                //operationsSorter: \"alpha\",\\n                                presets: [\\n                                    SwaggerUIBundle.presets.apis,\\n                                    // yay ES6 modules \\xe2\\x86\\x98\\n                                    Array.isArray(SwaggerUIStandalonePreset) ? SwaggerUIStandalonePreset : SwaggerUIStandalonePreset.default\\n                                ],\\n                                plugins: [\\n                                    SwaggerUIBundle.plugins.DownloadUrl\\n                                ],\\n            \\n            // layout: \"StandaloneLayout\"  // uncomment to enable the green top header\\n        })\\n\\n        window.ui = ui\\n\\n        // uncomment to rename the top brand if layout is enabled\\n        // $(\".topbar-wrapper .link span\").replaceWith(\"<span>httpbin</span>\");\\n        })\\n    })\\n}\\n    </script>  <div class=\\'swagger-ui\\'>\\n    <div class=\"wrapper\">\\n        <section class=\"block col-12 block-desktop col-12-desktop\">\\n            <div>\\n\\n                <h2>Other Utilities</h2>\\n\\n                <ul>\\n                    <li>\\n                        <a href=\"/forms/post\">HTML form</a> that posts to /post /forms/post</li>\\n                </ul>\\n\\n                <br />\\n                <br />\\n            </div>\\n        </section>\\n    </div>\\n</div>\\n</body>\\n\\n</html>'"
      ]
     },
     "execution_count": 90,
     "metadata": {},
     "output_type": "execute_result"
    }
   ],
   "source": [
    "resp.content"
   ]
  },
  {
   "cell_type": "code",
   "execution_count": 92,
   "metadata": {
    "collapsed": true,
    "jupyter": {
     "outputs_hidden": true
    }
   },
   "outputs": [
    {
     "data": {
      "text/plain": [
       "'<!DOCTYPE html>\\n<html lang=\"en\">\\n\\n<head>\\n    <meta charset=\"UTF-8\">\\n    <title>httpbin.org</title>\\n    <link href=\"https://fonts.googleapis.com/css?family=Open+Sans:400,700|Source+Code+Pro:300,600|Titillium+Web:400,600,700\"\\n        rel=\"stylesheet\">\\n    <link rel=\"stylesheet\" type=\"text/css\" href=\"/flasgger_static/swagger-ui.css\">\\n    <link rel=\"icon\" type=\"image/png\" href=\"/static/favicon.ico\" sizes=\"64x64 32x32 16x16\" />\\n    <style>\\n        html {\\n            box-sizing: border-box;\\n            overflow: -moz-scrollbars-vertical;\\n            overflow-y: scroll;\\n        }\\n\\n        *,\\n        *:before,\\n        *:after {\\n            box-sizing: inherit;\\n        }\\n\\n        body {\\n            margin: 0;\\n            background: #fafafa;\\n        }\\n    </style>\\n</head>\\n\\n<body>\\n    <a href=\"https://github.com/requests/httpbin\" class=\"github-corner\" aria-label=\"View source on Github\">\\n        <svg width=\"80\" height=\"80\" viewBox=\"0 0 250 250\" style=\"fill:#151513; color:#fff; position: absolute; top: 0; border: 0; right: 0;\"\\n            aria-hidden=\"true\">\\n            <path d=\"M0,0 L115,115 L130,115 L142,142 L250,250 L250,0 Z\"></path>\\n            <path d=\"M128.3,109.0 C113.8,99.7 119.0,89.6 119.0,89.6 C122.0,82.7 120.5,78.6 120.5,78.6 C119.2,72.0 123.4,76.3 123.4,76.3 C127.3,80.9 125.5,87.3 125.5,87.3 C122.9,97.6 130.6,101.9 134.4,103.2\"\\n                fill=\"currentColor\" style=\"transform-origin: 130px 106px;\" class=\"octo-arm\"></path>\\n            <path d=\"M115.0,115.0 C114.9,115.1 118.7,116.5 119.8,115.4 L133.7,101.6 C136.9,99.2 139.9,98.4 142.2,98.6 C133.8,88.0 127.5,74.4 143.8,58.0 C148.5,53.4 154.0,51.2 159.7,51.0 C160.3,49.4 163.2,43.6 171.4,40.1 C171.4,40.1 176.1,42.5 178.8,56.2 C183.1,58.6 187.2,61.8 190.9,65.4 C194.5,69.0 197.7,73.2 200.1,77.6 C213.8,80.2 216.3,84.9 216.3,84.9 C212.7,93.1 206.9,96.0 205.4,96.6 C205.1,102.4 203.0,107.8 198.3,112.5 C181.9,128.9 168.3,122.5 157.7,114.1 C157.9,116.9 156.7,120.9 152.7,124.9 L141.0,136.5 C139.8,137.7 141.6,141.9 141.8,141.8 Z\"\\n                fill=\"currentColor\" class=\"octo-body\"></path>\\n        </svg>\\n    </a>\\n    <svg xmlns=\"http://www.w3.org/2000/svg\" xmlns:xlink=\"http://www.w3.org/1999/xlink\" style=\"position:absolute;width:0;height:0\">\\n        <defs>\\n            <symbol viewBox=\"0 0 20 20\" id=\"unlocked\">\\n                <path d=\"M15.8 8H14V5.6C14 2.703 12.665 1 10 1 7.334 1 6 2.703 6 5.6V6h2v-.801C8 3.754 8.797 3 10 3c1.203 0 2 .754 2 2.199V8H4c-.553 0-1 .646-1 1.199V17c0 .549.428 1.139.951 1.307l1.197.387C5.672 18.861 6.55 19 7.1 19h5.8c.549 0 1.428-.139 1.951-.307l1.196-.387c.524-.167.953-.757.953-1.306V9.199C17 8.646 16.352 8 15.8 8z\"></path>\\n            </symbol>\\n\\n            <symbol viewBox=\"0 0 20 20\" id=\"locked\">\\n                <path d=\"M15.8 8H14V5.6C14 2.703 12.665 1 10 1 7.334 1 6 2.703 6 5.6V8H4c-.553 0-1 .646-1 1.199V17c0 .549.428 1.139.951 1.307l1.197.387C5.672 18.861 6.55 19 7.1 19h5.8c.549 0 1.428-.139 1.951-.307l1.196-.387c.524-.167.953-.757.953-1.306V9.199C17 8.646 16.352 8 15.8 8zM12 8H8V5.199C8 3.754 8.797 3 10 3c1.203 0 2 .754 2 2.199V8z\"\\n                />\\n            </symbol>\\n\\n            <symbol viewBox=\"0 0 20 20\" id=\"close\">\\n                <path d=\"M14.348 14.849c-.469.469-1.229.469-1.697 0L10 11.819l-2.651 3.029c-.469.469-1.229.469-1.697 0-.469-.469-.469-1.229 0-1.697l2.758-3.15-2.759-3.152c-.469-.469-.469-1.228 0-1.697.469-.469 1.228-.469 1.697 0L10 8.183l2.651-3.031c.469-.469 1.228-.469 1.697 0 .469.469.469 1.229 0 1.697l-2.758 3.152 2.758 3.15c.469.469.469 1.229 0 1.698z\"\\n                />\\n            </symbol>\\n\\n            <symbol viewBox=\"0 0 20 20\" id=\"large-arrow\">\\n                <path d=\"M13.25 10L6.109 2.58c-.268-.27-.268-.707 0-.979.268-.27.701-.27.969 0l7.83 7.908c.268.271.268.709 0 .979l-7.83 7.908c-.268.271-.701.27-.969 0-.268-.269-.268-.707 0-.979L13.25 10z\"\\n                />\\n            </symbol>\\n\\n            <symbol viewBox=\"0 0 20 20\" id=\"large-arrow-down\">\\n                <path d=\"M17.418 6.109c.272-.268.709-.268.979 0s.271.701 0 .969l-7.908 7.83c-.27.268-.707.268-.979 0l-7.908-7.83c-.27-.268-.27-.701 0-.969.271-.268.709-.268.979 0L10 13.25l7.418-7.141z\"\\n                />\\n            </symbol>\\n\\n\\n            <symbol viewBox=\"0 0 24 24\" id=\"jump-to\">\\n                <path d=\"M19 7v4H5.83l3.58-3.59L8 6l-6 6 6 6 1.41-1.41L5.83 13H21V7z\" />\\n            </symbol>\\n\\n            <symbol viewBox=\"0 0 24 24\" id=\"expand\">\\n                <path d=\"M10 18h4v-2h-4v2zM3 6v2h18V6H3zm3 7h12v-2H6v2z\" />\\n            </symbol>\\n\\n        </defs>\\n    </svg>\\n\\n\\n    <div id=\"swagger-ui\">\\n        <div data-reactroot=\"\" class=\"swagger-ui\">\\n            <div>\\n                <div class=\"information-container wrapper\">\\n                    <section class=\"block col-12\">\\n                        <div class=\"info\">\\n                            <hgroup class=\"main\">\\n                                <h2 class=\"title\">httpbin.org\\n                                    <small>\\n                                        <pre class=\"version\">0.9.2</pre>\\n                                    </small>\\n                                </h2>\\n                                <pre class=\"base-url\">[ Base URL: httpbin.org/ ]</pre>\\n                            </hgroup>\\n                            <div class=\"description\">\\n                                <div class=\"markdown\">\\n                                    <p>A simple HTTP Request &amp; Response Service.\\n                                        <br>\\n                                        <br>\\n                                        <b>Run locally: </b>\\n                                        <code>$ docker run -p 80:80 kennethreitz/httpbin</code>\\n                                    </p>\\n                                </div>\\n                            </div>\\n                            <div>\\n                                <div>\\n                                    <a href=\"https://kennethreitz.org\" target=\"_blank\">the developer - Website</a>\\n                                </div>\\n                                <a href=\"mailto:me@kennethreitz.org\">Send email to the developer</a>\\n                            </div>\\n                        </div>\\n                        <!-- ADDS THE LOADER SPINNER -->\\n                        <div class=\"loading-container\">\\n                            <div class=\"loading\"></div>\\n                        </div>\\n\\n                    </section>\\n                </div>\\n            </div>\\n        </div>\\n    </div>\\n\\n\\n    <div class=\\'swagger-ui\\'>\\n        <div class=\"wrapper\">\\n            <section class=\"clear\">\\n                <span style=\"float: right;\">\\n                    [Powered by\\n                    <a target=\"_blank\" href=\"https://github.com/rochacbruno/flasgger\">Flasgger</a>]\\n                    <br>\\n                </span>\\n            </section>\\n        </div>\\n    </div>\\n\\n\\n\\n    <script src=\"/flasgger_static/swagger-ui-bundle.js\"> </script>\\n    <script src=\"/flasgger_static/swagger-ui-standalone-preset.js\"> </script>\\n    <script src=\\'/flasgger_static/lib/jquery.min.js\\' type=\\'text/javascript\\'></script>\\n    <script>\\n\\n        window.onload = function () {\\n            \\n\\n            fetch(\"/spec.json\")\\n                .then(function (response) {\\n                    response.json()\\n                        .then(function (json) {\\n                            var current_protocol = window.location.protocol.slice(0, -1);\\n                            if (json.schemes[0] != current_protocol) {\\n                                // Switches scheme to the current in use\\n                                var other_protocol = json.schemes[0];\\n                                json.schemes[0] = current_protocol;\\n                                json.schemes[1] = other_protocol;\\n\\n                            }\\n                            json.host = window.location.host;  // sets the current host\\n\\n                            const ui = SwaggerUIBundle({\\n                                spec: json,\\n                                validatorUrl: null,\\n                                dom_id: \\'#swagger-ui\\',\\n                                deepLinking: true,\\n                                jsonEditor: true,\\n                                docExpansion: \"none\",\\n                                apisSorter: \"alpha\",\\n                                //operationsSorter: \"alpha\",\\n                                presets: [\\n                                    SwaggerUIBundle.presets.apis,\\n                                    // yay ES6 modules ↘\\n                                    Array.isArray(SwaggerUIStandalonePreset) ? SwaggerUIStandalonePreset : SwaggerUIStandalonePreset.default\\n                                ],\\n                                plugins: [\\n                                    SwaggerUIBundle.plugins.DownloadUrl\\n                                ],\\n            \\n            // layout: \"StandaloneLayout\"  // uncomment to enable the green top header\\n        })\\n\\n        window.ui = ui\\n\\n        // uncomment to rename the top brand if layout is enabled\\n        // $(\".topbar-wrapper .link span\").replaceWith(\"<span>httpbin</span>\");\\n        })\\n    })\\n}\\n    </script>  <div class=\\'swagger-ui\\'>\\n    <div class=\"wrapper\">\\n        <section class=\"block col-12 block-desktop col-12-desktop\">\\n            <div>\\n\\n                <h2>Other Utilities</h2>\\n\\n                <ul>\\n                    <li>\\n                        <a href=\"/forms/post\">HTML form</a> that posts to /post /forms/post</li>\\n                </ul>\\n\\n                <br />\\n                <br />\\n            </div>\\n        </section>\\n    </div>\\n</div>\\n</body>\\n\\n</html>'"
      ]
     },
     "execution_count": 92,
     "metadata": {},
     "output_type": "execute_result"
    }
   ],
   "source": [
    "resp.text"
   ]
  },
  {
   "cell_type": "raw",
   "metadata": {},
   "source": [
    "resp.encoding = \"euc-kr\""
   ]
  },
  {
   "cell_type": "code",
   "execution_count": 93,
   "metadata": {},
   "outputs": [
    {
     "data": {
      "text/plain": [
       "{'User-Agent': 'python-requests/2.23.0', 'Accept-Encoding': 'gzip, deflate', 'Accept': '*/*', 'Connection': 'keep-alive'}"
      ]
     },
     "execution_count": 93,
     "metadata": {},
     "output_type": "execute_result"
    }
   ],
   "source": [
    "resp.request.headers"
   ]
  },
  {
   "cell_type": "code",
   "execution_count": 94,
   "metadata": {},
   "outputs": [
    {
     "data": {
      "text/plain": [
       "<Response [200]>"
      ]
     },
     "execution_count": 94,
     "metadata": {},
     "output_type": "execute_result"
    }
   ],
   "source": [
    "requests.get(\"http://www.google.com/search?q=파이썬\")\n",
    "resp.text"
   ]
  },
  {
   "cell_type": "code",
   "execution_count": 96,
   "metadata": {},
   "outputs": [],
   "source": [
    "resp = requests.get(\"http://www.google.com/search?q=파이썬&oe=utf-8\") # oe : output encoding\n",
    "resp.text"
   ]
  },
  {
   "cell_type": "code",
   "execution_count": 103,
   "metadata": {},
   "outputs": [
    {
     "name": "stdout",
     "output_type": "stream",
     "text": [
      "\n",
      "200\n",
      "{'Date': 'Fri, 17 Jul 2020 02:20:34 GMT', 'Content-Type': 'text/html; charset=utf-8', 'Content-Length': '0', 'Connection': 'keep-alive', 'Server': 'gunicorn/19.9.0', 'Access-Control-Allow-Origin': '*', 'Access-Control-Allow-Credentials': 'true'}\n",
      "{'User-Agent': 'python-requests/2.23.0', 'Accept-Encoding': 'gzip, deflate', 'Accept': '*/*', 'Connection': 'keep-alive'}\n"
     ]
    }
   ],
   "source": [
    "resp = requests.get(\"http://httpbin.org/status/200\")\n",
    "print(resp.text)\n",
    "print(resp.status_code)\n",
    "print(resp.headers)\n",
    "print(resp.request.headers)"
   ]
  },
  {
   "cell_type": "code",
   "execution_count": 110,
   "metadata": {},
   "outputs": [
    {
     "name": "stdout",
     "output_type": "stream",
     "text": [
      "INTERNAL SERVER ERROR\n"
     ]
    }
   ],
   "source": [
    "resp = requests.get('http://httpbin.org/status/500')\n",
    "if (resp.status_code != 200):\n",
    "    print(resp.reason)\n",
    "    "
   ]
  },
  {
   "cell_type": "code",
   "execution_count": 115,
   "metadata": {},
   "outputs": [
    {
     "data": {
      "text/plain": [
       "'jpeg'"
      ]
     },
     "execution_count": 115,
     "metadata": {},
     "output_type": "execute_result"
    }
   ],
   "source": [
    "resp = requests.get('http://httpbin.org/image/jpeg')\n",
    "resp.headers.get(\"Content-Type\").split('/')[0] == 'image'\n",
    "resp.headers.get('Content-Type').split('/')[1]"
   ]
  },
  {
   "cell_type": "code",
   "execution_count": 116,
   "metadata": {},
   "outputs": [],
   "source": [
    "file = 'test' + resp.headers.get('Content-Type').split('/')[1]"
   ]
  },
  {
   "cell_type": "code",
   "execution_count": 117,
   "metadata": {},
   "outputs": [],
   "source": [
    "# header를 보고 어떤 content type인지 확인 가능\n",
    "with open(file, 'wb') as f:\n",
    "    f.write(resp.content)"
   ]
  },
  {
   "cell_type": "code",
   "execution_count": 118,
   "metadata": {},
   "outputs": [],
   "source": [
    "from urllib.robotparser import RobotFileParser"
   ]
  },
  {
   "cell_type": "code",
   "execution_count": 119,
   "metadata": {},
   "outputs": [
    {
     "data": {
      "text/plain": [
       "False"
      ]
     },
     "execution_count": 119,
     "metadata": {},
     "output_type": "execute_result"
    }
   ],
   "source": [
    "robot = RobotFileParser()\n",
    "robot.set_url('http://httpbin.org/robots.txt')\n",
    "robot.read()\n",
    "robot.can_fetch('*','/deny')"
   ]
  },
  {
   "cell_type": "code",
   "execution_count": 122,
   "metadata": {},
   "outputs": [],
   "source": [
    "from requests.compat import urlparse, urljoin"
   ]
  },
  {
   "cell_type": "code",
   "execution_count": 201,
   "metadata": {},
   "outputs": [],
   "source": [
    "def canfetch(url, agent='*', path='/'):\n",
    "    robot = RobotFileParser(urljoin(url, '/robots.txt'))\n",
    "    robot.read()\n",
    "    return robot.can_fetch(agent, urlparse(url)[2])\n",
    "    \n",
    "def download(url, params={}, headers={}, method='GET', limit=3):\n",
    "    if canfetch(url) == False:\n",
    "        print('[Error] ' + url)\n",
    "#     else:\n",
    "    try:\n",
    "        resp = requests.request(method, url,\n",
    "               params=params if method=='GET' else {},\n",
    "               data=params if method=='POST' else {},\n",
    "               headers=headers)\n",
    "        resp.raise_for_status()\n",
    "    except HTTPError as e:\n",
    "        if limit > 0 and e.response.status_code >= 500:\n",
    "            print(limit)\n",
    "            time.sleep(1) # => random\n",
    "            resp = download(url, params, headers, method, limit-1)\n",
    "        else:\n",
    "            print('[{}] '.format(e.response.status_code) + url)\n",
    "            print(e.response.status_code)\n",
    "            print(e.response.reason)\n",
    "            print(e.response.headers)\n",
    "    return resp"
   ]
  },
  {
   "cell_type": "code",
   "execution_count": 202,
   "metadata": {},
   "outputs": [
    {
     "data": {
      "text/plain": [
       "<Response [200]>"
      ]
     },
     "execution_count": 202,
     "metadata": {},
     "output_type": "execute_result"
    }
   ],
   "source": [
    "download('http://httpbin.org/post',{'k':'v'}, method = \"POST\") "
   ]
  },
  {
   "cell_type": "code",
   "execution_count": 203,
   "metadata": {},
   "outputs": [
    {
     "name": "stdout",
     "output_type": "stream",
     "text": [
      "[405] http://httpbin.org/post\n",
      "405\n",
      "METHOD NOT ALLOWED\n",
      "{'Date': 'Fri, 17 Jul 2020 05:04:10 GMT', 'Content-Type': 'text/html', 'Content-Length': '178', 'Connection': 'keep-alive', 'Server': 'gunicorn/19.9.0', 'Allow': 'POST, OPTIONS', 'Access-Control-Allow-Origin': '*', 'Access-Control-Allow-Credentials': 'true'}\n"
     ]
    },
    {
     "data": {
      "text/plain": [
       "<Response [405]>"
      ]
     },
     "execution_count": 203,
     "metadata": {},
     "output_type": "execute_result"
    }
   ],
   "source": [
    "download('http://httpbin.org/post',{'k':'v'}, method = \"GET\") # POST 에 GET을 사용했을 때 에러메시지 확인하기"
   ]
  },
  {
   "cell_type": "code",
   "execution_count": 228,
   "metadata": {},
   "outputs": [],
   "source": [
    "import requests\n",
    "from requests.compat import urlparse, urljoin\n",
    "from requests.exceptions import HTTPError\n",
    "import time\n",
    "from time import sleep\n",
    "from random import choice, sample, randint\n",
    "from urllib.error import HTTPError\n"
   ]
  },
  {
   "cell_type": "code",
   "execution_count": 229,
   "metadata": {},
   "outputs": [],
   "source": [
    "def canfetch(url, agent='*', path='/'):\n",
    "    robot = RobotFileParser(urljoin(url, '/robots.txt'))\n",
    "    robot.read()\n",
    "    return robot.can_fetch(agent, urlparse(url)[2])\n",
    "    \n",
    "def download(url, params={}, headers={}, method='GET', limit=3):\n",
    "    if canfetch(url) == False:\n",
    "        print('[Error] ' + url)\n",
    "#     else:\n",
    "    try:\n",
    "        resp = requests.request(method, url,\n",
    "               params=params if method=='GET' else {},\n",
    "               data=params if method=='POST' else {},\n",
    "               headers=headers)\n",
    "        resp.raise_for_status()\n",
    "    except HTTPError as e:\n",
    "        if limit > 0 and e.response.status_code >= 500:\n",
    "            print(limit)\n",
    "            time.sleep(1) # => random\n",
    "            resp = download(url, params, headers, method, limit-1)\n",
    "        else:\n",
    "            print('[{}] '.format(e.response.status_code) + url)\n",
    "            print(e.response.status_code)\n",
    "            print(e.response.reason)\n",
    "            print(e.response.headers)\n",
    "    return resp"
   ]
  },
  {
   "cell_type": "code",
   "execution_count": 206,
   "metadata": {},
   "outputs": [],
   "source": [
    "url = \"https://www.google.com/search\"\n",
    "params = {\n",
    "    'q':'',\n",
    "    'oq':'',\n",
    "    'aqs': 'Chrome/83.0.4103.116 Safari/537.36',\n",
    "    'sourceid':'chrome',\n",
    "    'ie':\"UTF_8\"\n",
    "}"
   ]
  },
  {
   "cell_type": "code",
   "execution_count": 207,
   "metadata": {},
   "outputs": [],
   "source": [
    "params['q'] = params['oq'] = \"파 이 썬\""
   ]
  },
  {
   "cell_type": "code",
   "execution_count": null,
   "metadata": {},
   "outputs": [],
   "source": []
  },
  {
   "cell_type": "code",
   "execution_count": 232,
   "metadata": {},
   "outputs": [
    {
     "name": "stdout",
     "output_type": "stream",
     "text": [
      "[Error] https://www.google.com/search\n"
     ]
    }
   ],
   "source": [
    "url = 'https://www.google.com/search'\n",
    "params = {\n",
    "    'q':'',\n",
    "    'oq':'',\n",
    "    'aqs':'chrome..69i57j69i59j69i65l3j69i61j69i60j69i61.1205j0j7',\n",
    "    'sourceid':'chrome',\n",
    "    'ie':'UTF-8'\n",
    "}\n",
    "params['q'] = params['oq'] = '파 이 썬'\n",
    "headers = {\n",
    "    \"user-agent\":'Mozilla/5.0 (Macintosh; Intel Mac OS X 10_15_5) AppleWebKit/537.36 (KHTML, like Gecko) Chrome/83.0.4103.116 Safari/537.36'\n",
    "}\n",
    "resp = download(url, params, headers, 'GET')"
   ]
  },
  {
   "cell_type": "code",
   "execution_count": 233,
   "metadata": {},
   "outputs": [
    {
     "data": {
      "text/plain": [
       "{'user-agent': 'Mozilla/5.0 (Macintosh; Intel Mac OS X 10_15_5) AppleWebKit/537.36 (KHTML, like Gecko) Chrome/83.0.4103.116 Safari/537.36', 'Accept-Encoding': 'gzip, deflate', 'Accept': '*/*', 'Connection': 'keep-alive'}"
      ]
     },
     "execution_count": 233,
     "metadata": {},
     "output_type": "execute_result"
    }
   ],
   "source": [
    "resp.request.headers"
   ]
  },
  {
   "cell_type": "code",
   "execution_count": 235,
   "metadata": {},
   "outputs": [
    {
     "name": "stdout",
     "output_type": "stream",
     "text": [
      "[Error] https://search.naver.com/search.naver\n"
     ]
    }
   ],
   "source": [
    "url = 'https://search.naver.com/search.naver'\n",
    "params = {\n",
    "    'sm':'top_hty',\n",
    "    'fbm':0,\n",
    "    'ie':'utf8',\n",
    "    'query':''\n",
    "}\n",
    "params['query'] = '파 이 썬'\n",
    "resp = download(url, params, headers, 'GET')\n",
    "# resp.text"
   ]
  },
  {
   "cell_type": "code",
   "execution_count": 236,
   "metadata": {},
   "outputs": [
    {
     "data": {
      "text/plain": [
       "<http.client.HTTPResponse at 0x7ffdea415890>"
      ]
     },
     "execution_count": 236,
     "metadata": {},
     "output_type": "execute_result"
    }
   ],
   "source": [
    "urlopen(url)"
   ]
  },
  {
   "cell_type": "markdown",
   "metadata": {},
   "source": [
    "#### 정부기관 크롤링"
   ]
  },
  {
   "cell_type": "code",
   "execution_count": null,
   "metadata": {},
   "outputs": [],
   "source": [
    "url = \"http://www.moel.go.kr/searchapi/search_json.jsp\"\n",
    "\n",
    "# 크롬 개발자 도구에서 search.do 파일의 Form data 부분 복붙한 내용\n",
    "params = {\n",
    "    \"prefixQuery\": \"|LOCAL1|LOCAL2|LOCAL3|LOCAL4|LOCAL5|LOCAL6\",\n",
    "    \"requery\": '', \n",
    "    'sort': 'RANK',\n",
    "    \n",
    "    \"sortOrder\": \"DESC\",\n",
    "    'requery':'', \n",
    "    'sort': 'RANK',\n",
    "    'sortOrder': 'DESC',\n",
    "    'sfield':'', \n",
    "    'startCount': 0,\n",
    "    'listCount': 3\n",
    "}\n",
    "params['query'] = \"최저임금\"\n",
    "\n",
    "resp = download(url,params,headers,\"POST\")\n",
    "# 틀 / 구조에 해당하는 내용만 반환하므로 java script로 동작하는 내용을 따로 확인해야함 \n",
    "# type jsp에 해당하는 것들\n",
    "# resp.text"
   ]
  },
  {
   "cell_type": "code",
   "execution_count": 240,
   "metadata": {},
   "outputs": [],
   "source": [
    "result = resp.json()"
   ]
  },
  {
   "cell_type": "code",
   "execution_count": 262,
   "metadata": {},
   "outputs": [
    {
     "name": "stdout",
     "output_type": "stream",
     "text": [
      "최저임금 최저 임금\n"
     ]
    }
   ],
   "source": [
    "for _ in result['SearchQueryResult'][\"Collection\"]:\n",
    "    print(_['MorphemeAnalysis']['Field']['CONTENTS'])"
   ]
  },
  {
   "cell_type": "markdown",
   "metadata": {},
   "source": [
    "#### 유튜브 크롤링"
   ]
  },
  {
   "cell_type": "code",
   "execution_count": null,
   "metadata": {},
   "outputs": [],
   "source": []
  }
 ],
 "metadata": {
  "kernelspec": {
   "display_name": "Python 3",
   "language": "python",
   "name": "python3"
  },
  "language_info": {
   "codemirror_mode": {
    "name": "ipython",
    "version": 3
   },
   "file_extension": ".py",
   "mimetype": "text/x-python",
   "name": "python",
   "nbconvert_exporter": "python",
   "pygments_lexer": "ipython3",
   "version": "3.8.5"
  }
 },
 "nbformat": 4,
 "nbformat_minor": 4
}
