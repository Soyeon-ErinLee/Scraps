{
 "cells": [
  {
   "cell_type": "code",
   "execution_count": 1,
   "metadata": {},
   "outputs": [],
   "source": [
    "# declarative base"
   ]
  },
  {
   "cell_type": "code",
   "execution_count": 2,
   "metadata": {},
   "outputs": [],
   "source": [
    "from sqlalchemy import create_engine\n",
    "engine=create_engine(\"sqlite:///ex2.db\", echo=True)"
   ]
  },
  {
   "cell_type": "code",
   "execution_count": 3,
   "metadata": {},
   "outputs": [],
   "source": [
    "from sqlalchemy.ext.declarative import declarative_base # Meta Data를 대체\n",
    "base=declarative_base()"
   ]
  },
  {
   "cell_type": "code",
   "execution_count": 4,
   "metadata": {},
   "outputs": [],
   "source": [
    "# Metadata Class에 등록된(생성한) table 객체 초기화할 때 (혹시 잘못 typing했을 때)\n",
    "# base.metadata.clear()"
   ]
  },
  {
   "cell_type": "code",
   "execution_count": 5,
   "metadata": {},
   "outputs": [],
   "source": [
    "from sqlalchemy import Table, Column, Integer, String, ForeignKey\n",
    "class User(base): # base 상속 받기\n",
    "    __tablename__=\"User\"\n",
    "    \n",
    "    uid=Column('uid', Integer, primary_key=True)\n",
    "    name=Column('name',String, nullable=False)\n",
    "    fullname=Column(String)\n",
    "    password=Column(\"pass\",String, nullable=False)\n",
    "    \n",
    "    def __repr__(self): # class print 했을 때 출력되는 애들\n",
    "        return 'UID={0}, NAME={1}, PASS={2}'.format(\n",
    "            self.uid, self.name, self.password)"
   ]
  },
  {
   "cell_type": "code",
   "execution_count": 6,
   "metadata": {},
   "outputs": [
    {
     "name": "stdout",
     "output_type": "stream",
     "text": [
      "2020-07-15 12:00:34,765 INFO sqlalchemy.engine.base.Engine SELECT CAST('test plain returns' AS VARCHAR(60)) AS anon_1\n",
      "2020-07-15 12:00:34,769 INFO sqlalchemy.engine.base.Engine ()\n",
      "2020-07-15 12:00:34,772 INFO sqlalchemy.engine.base.Engine SELECT CAST('test unicode returns' AS VARCHAR(60)) AS anon_1\n",
      "2020-07-15 12:00:34,773 INFO sqlalchemy.engine.base.Engine ()\n",
      "2020-07-15 12:00:34,776 INFO sqlalchemy.engine.base.Engine PRAGMA table_info(\"User\")\n",
      "2020-07-15 12:00:34,778 INFO sqlalchemy.engine.base.Engine ()\n",
      "2020-07-15 12:00:34,780 INFO sqlalchemy.engine.base.Engine \n",
      "CREATE TABLE \"User\" (\n",
      "\tuid INTEGER NOT NULL, \n",
      "\tname VARCHAR NOT NULL, \n",
      "\tfullname VARCHAR, \n",
      "\tpass VARCHAR NOT NULL, \n",
      "\tPRIMARY KEY (uid)\n",
      ")\n",
      "\n",
      "\n",
      "2020-07-15 12:00:34,782 INFO sqlalchemy.engine.base.Engine ()\n",
      "2020-07-15 12:00:34,787 INFO sqlalchemy.engine.base.Engine COMMIT\n"
     ]
    }
   ],
   "source": [
    "# Create Table # in memory Table 객체 -> 실제 database Table로 생성\n",
    "base.metadata.create_all(engine) # local에 file 생김 "
   ]
  },
  {
   "cell_type": "code",
   "execution_count": 7,
   "metadata": {},
   "outputs": [],
   "source": [
    "user1=User(name='test',password='testtest')"
   ]
  },
  {
   "cell_type": "code",
   "execution_count": 8,
   "metadata": {},
   "outputs": [
    {
     "data": {
      "text/plain": [
       "UID=None, NAME=test, PASS=testtest"
      ]
     },
     "execution_count": 8,
     "metadata": {},
     "output_type": "execute_result"
    }
   ],
   "source": [
    "user1 # table instance created, 아직 primary key UID=0"
   ]
  },
  {
   "cell_type": "code",
   "execution_count": 9,
   "metadata": {},
   "outputs": [],
   "source": [
    "from sqlalchemy.orm import sessionmaker"
   ]
  },
  {
   "cell_type": "code",
   "execution_count": 10,
   "metadata": {},
   "outputs": [],
   "source": [
    "Session = sessionmaker(bind=engine)\n",
    "session = Session()"
   ]
  },
  {
   "cell_type": "code",
   "execution_count": 11,
   "metadata": {},
   "outputs": [],
   "source": [
    "session.add(user1) # add to Session, persisted to the database when 'commit'"
   ]
  },
  {
   "cell_type": "code",
   "execution_count": 12,
   "metadata": {},
   "outputs": [
    {
     "name": "stdout",
     "output_type": "stream",
     "text": [
      "2020-07-15 12:00:41,006 INFO sqlalchemy.engine.base.Engine BEGIN (implicit)\n",
      "2020-07-15 12:00:41,009 INFO sqlalchemy.engine.base.Engine INSERT INTO \"User\" (name, fullname, pass) VALUES (?, ?, ?)\n",
      "2020-07-15 12:00:41,011 INFO sqlalchemy.engine.base.Engine ('test', None, 'testtest')\n",
      "2020-07-15 12:00:41,014 INFO sqlalchemy.engine.base.Engine COMMIT\n"
     ]
    }
   ],
   "source": [
    "session.commit() # added to DB"
   ]
  },
  {
   "cell_type": "code",
   "execution_count": 13,
   "metadata": {},
   "outputs": [
    {
     "name": "stdout",
     "output_type": "stream",
     "text": [
      "2020-07-15 12:00:42,478 INFO sqlalchemy.engine.base.Engine BEGIN (implicit)\n",
      "2020-07-15 12:00:42,480 INFO sqlalchemy.engine.base.Engine SELECT \"User\".pass AS \"User_pass\", \"User\".uid AS \"User_uid\", \"User\".name AS \"User_name\", \"User\".fullname AS \"User_fullname\" \n",
      "FROM \"User\" \n",
      "WHERE \"User\".uid = ?\n",
      "2020-07-15 12:00:42,483 INFO sqlalchemy.engine.base.Engine (1,)\n"
     ]
    },
    {
     "data": {
      "text/plain": [
       "1"
      ]
     },
     "execution_count": 13,
     "metadata": {},
     "output_type": "execute_result"
    }
   ],
   "source": [
    "user1.uid # uid 값이 할당 됨"
   ]
  },
  {
   "cell_type": "code",
   "execution_count": 14,
   "metadata": {},
   "outputs": [],
   "source": [
    "user1.name = \"개똥이\" # user1 name 설정"
   ]
  },
  {
   "cell_type": "code",
   "execution_count": 15,
   "metadata": {},
   "outputs": [
    {
     "data": {
      "text/plain": [
       "(IdentitySet([UID=1, NAME=개똥이, PASS=testtest]),\n",
       " <bound method Session.is_modified of <sqlalchemy.orm.session.Session object at 0x000001651F0872B0>>)"
      ]
     },
     "execution_count": 15,
     "metadata": {},
     "output_type": "execute_result"
    }
   ],
   "source": [
    "# Update\n",
    "session.dirty, session.is_modified # if modified, returns True."
   ]
  },
  {
   "cell_type": "code",
   "execution_count": 16,
   "metadata": {},
   "outputs": [
    {
     "name": "stdout",
     "output_type": "stream",
     "text": [
      "2020-07-15 12:00:59,122 INFO sqlalchemy.engine.base.Engine UPDATE \"User\" SET name=? WHERE \"User\".uid = ?\n",
      "2020-07-15 12:00:59,124 INFO sqlalchemy.engine.base.Engine ('개똥이', 1)\n",
      "2020-07-15 12:00:59,127 INFO sqlalchemy.engine.base.Engine COMMIT\n"
     ]
    }
   ],
   "source": [
    "session.commit() # log 찍어보면 UPDATE \"User\" SET name"
   ]
  },
  {
   "cell_type": "code",
   "execution_count": 17,
   "metadata": {},
   "outputs": [
    {
     "name": "stdout",
     "output_type": "stream",
     "text": [
      "2020-07-15 12:01:00,015 INFO sqlalchemy.engine.base.Engine BEGIN (implicit)\n",
      "2020-07-15 12:01:00,017 INFO sqlalchemy.engine.base.Engine SELECT \"User\".pass AS \"User_pass\", \"User\".uid AS \"User_uid\", \"User\".name AS \"User_name\", \"User\".fullname AS \"User_fullname\" \n",
      "FROM \"User\" \n",
      "WHERE \"User\".uid = ?\n",
      "2020-07-15 12:01:00,018 INFO sqlalchemy.engine.base.Engine (1,)\n"
     ]
    },
    {
     "data": {
      "text/plain": [
       "UID=1, NAME=개똥이, PASS=testtest"
      ]
     },
     "execution_count": 17,
     "metadata": {},
     "output_type": "execute_result"
    }
   ],
   "source": [
    "user1 # NAME=개똥이 변경 반영됨"
   ]
  },
  {
   "cell_type": "code",
   "execution_count": 18,
   "metadata": {},
   "outputs": [],
   "source": [
    "# 한꺼번에 많이 add\n",
    "session.add_all([User(name='test2',password='asdf'),\n",
    "                User(name='test3',password='12345')])"
   ]
  },
  {
   "cell_type": "code",
   "execution_count": 19,
   "metadata": {},
   "outputs": [
    {
     "name": "stdout",
     "output_type": "stream",
     "text": [
      "2020-07-15 12:01:03,680 INFO sqlalchemy.engine.base.Engine INSERT INTO \"User\" (name, fullname, pass) VALUES (?, ?, ?)\n",
      "2020-07-15 12:01:03,681 INFO sqlalchemy.engine.base.Engine ('test2', None, 'asdf')\n",
      "2020-07-15 12:01:03,685 INFO sqlalchemy.engine.base.Engine INSERT INTO \"User\" (name, fullname, pass) VALUES (?, ?, ?)\n",
      "2020-07-15 12:01:03,687 INFO sqlalchemy.engine.base.Engine ('test3', None, '12345')\n",
      "2020-07-15 12:01:03,689 INFO sqlalchemy.engine.base.Engine SELECT \"User\".pass AS \"User_pass\", \"User\".uid AS \"User_uid\", \"User\".name AS \"User_name\", \"User\".fullname AS \"User_fullname\" \n",
      "FROM \"User\"\n",
      "2020-07-15 12:01:03,691 INFO sqlalchemy.engine.base.Engine ()\n",
      "UID=1, NAME=개똥이, PASS=testtest\n",
      "UID=2, NAME=test2, PASS=asdf\n",
      "UID=3, NAME=test3, PASS=12345\n"
     ]
    }
   ],
   "source": [
    "cur=session.query(User)\n",
    "for row in cur:\n",
    "    print(row)\n",
    "# [_ for _ in cur] 해도 같은 결과"
   ]
  },
  {
   "cell_type": "code",
   "execution_count": 20,
   "metadata": {},
   "outputs": [
    {
     "name": "stdout",
     "output_type": "stream",
     "text": [
      "2020-07-15 12:01:05,883 INFO sqlalchemy.engine.base.Engine SELECT \"User\".pass AS \"User_pass\", \"User\".uid AS \"User_uid\", \"User\".name AS \"User_name\", \"User\".fullname AS \"User_fullname\" \n",
      "FROM \"User\" \n",
      "WHERE \"User\".name = ?\n",
      "2020-07-15 12:01:05,884 INFO sqlalchemy.engine.base.Engine ('test2',)\n"
     ]
    },
    {
     "data": {
      "text/plain": [
       "[UID=2, NAME=test2, PASS=asdf]"
      ]
     },
     "execution_count": 20,
     "metadata": {},
     "output_type": "execute_result"
    }
   ],
   "source": [
    "[_ for _ in cur.filter(User.name=='test2')]"
   ]
  },
  {
   "cell_type": "code",
   "execution_count": 21,
   "metadata": {},
   "outputs": [
    {
     "name": "stdout",
     "output_type": "stream",
     "text": [
      "2020-07-15 12:01:10,125 INFO sqlalchemy.engine.base.Engine SELECT \"User\".pass AS \"User_pass\", \"User\".uid AS \"User_uid\", \"User\".name AS \"User_name\", \"User\".fullname AS \"User_fullname\" \n",
      "FROM \"User\" \n",
      "WHERE \"User\".name LIKE ?\n",
      "2020-07-15 12:01:10,127 INFO sqlalchemy.engine.base.Engine ('test%',)\n"
     ]
    },
    {
     "data": {
      "text/plain": [
       "[UID=2, NAME=test2, PASS=asdf, UID=3, NAME=test3, PASS=12345]"
      ]
     },
     "execution_count": 21,
     "metadata": {},
     "output_type": "execute_result"
    }
   ],
   "source": [
    "[_ for _ in cur.filter(User.name.like('test%'))]"
   ]
  },
  {
   "cell_type": "code",
   "execution_count": 22,
   "metadata": {},
   "outputs": [],
   "source": [
    "base.metadata.clear()"
   ]
  },
  {
   "cell_type": "code",
   "execution_count": 23,
   "metadata": {},
   "outputs": [],
   "source": [
    "class Artist(base):\n",
    "    __tablename__='ARTIST'\n",
    "    \n",
    "    pk = Column('ID', Integer, primary_key=True)\n",
    "    name = Column('NAME', String)\n",
    "    \n",
    "    def __repr__(self):\n",
    "        return 'PK:{0}, NAME:{1}'.format(self.pk, self.name)\n",
    "    \n",
    "class Genre(base):\n",
    "    __tablename__='GENRE'\n",
    "    \n",
    "    pk = Column('ID', Integer, primary_key=True)\n",
    "    name = Column('NAME', String)\n",
    "    \n",
    "    def __repr__(self):\n",
    "        return 'PK:{0}, NAME:{1}'.format(self.pk, self.name)\n",
    "    \n",
    "class Album(base):\n",
    "    __tablename__='ALBUM'\n",
    "    \n",
    "    pk = Column('ID', Integer, primary_key=True)\n",
    "    name = Column('NAME', String)\n",
    "    fk = Column('FK', Integer, ForeignKey('ARTIST.ID'))\n",
    "    \n",
    "    def __repr__(self):\n",
    "        return 'PK:{0}, NAME:{1}, FK:{2}'.format(self.pk, self.name, self.fk)\n",
    "    \n",
    "class Track(base):\n",
    "    __tablename__='Track'\n",
    "    \n",
    "    pk = Column('ID', Integer, primary_key=True)\n",
    "    name = Column('NAME', String)\n",
    "    fk1 = Column('FK1', Integer, ForeignKey('ALBUM.ID'))\n",
    "    fk2 = Column('FK2', Integer, ForeignKey('GENRE.ID'))\n",
    "    \n",
    "    def __repr__(self):\n",
    "        return 'PK:{0}, NAME:{1}, FK1:{2}, FK2:{3}'.format(self.pk, self.name, self.fk1, self.fk2)"
   ]
  },
  {
   "cell_type": "code",
   "execution_count": 24,
   "metadata": {},
   "outputs": [
    {
     "name": "stdout",
     "output_type": "stream",
     "text": [
      "2020-07-15 12:01:17,894 INFO sqlalchemy.engine.base.Engine COMMIT\n"
     ]
    }
   ],
   "source": [
    "session.commit()"
   ]
  },
  {
   "cell_type": "code",
   "execution_count": 25,
   "metadata": {},
   "outputs": [
    {
     "name": "stdout",
     "output_type": "stream",
     "text": [
      "2020-07-15 12:01:18,526 INFO sqlalchemy.engine.base.Engine PRAGMA table_info(\"ARTIST\")\n",
      "2020-07-15 12:01:18,529 INFO sqlalchemy.engine.base.Engine ()\n",
      "2020-07-15 12:01:18,531 INFO sqlalchemy.engine.base.Engine PRAGMA table_info(\"GENRE\")\n",
      "2020-07-15 12:01:18,533 INFO sqlalchemy.engine.base.Engine ()\n",
      "2020-07-15 12:01:18,534 INFO sqlalchemy.engine.base.Engine PRAGMA table_info(\"ALBUM\")\n",
      "2020-07-15 12:01:18,535 INFO sqlalchemy.engine.base.Engine ()\n",
      "2020-07-15 12:01:18,536 INFO sqlalchemy.engine.base.Engine PRAGMA table_info(\"Track\")\n",
      "2020-07-15 12:01:18,537 INFO sqlalchemy.engine.base.Engine ()\n",
      "2020-07-15 12:01:18,539 INFO sqlalchemy.engine.base.Engine \n",
      "CREATE TABLE \"ARTIST\" (\n",
      "\t\"ID\" INTEGER NOT NULL, \n",
      "\t\"NAME\" VARCHAR, \n",
      "\tPRIMARY KEY (\"ID\")\n",
      ")\n",
      "\n",
      "\n",
      "2020-07-15 12:01:18,540 INFO sqlalchemy.engine.base.Engine ()\n",
      "2020-07-15 12:01:18,544 INFO sqlalchemy.engine.base.Engine COMMIT\n",
      "2020-07-15 12:01:18,546 INFO sqlalchemy.engine.base.Engine \n",
      "CREATE TABLE \"GENRE\" (\n",
      "\t\"ID\" INTEGER NOT NULL, \n",
      "\t\"NAME\" VARCHAR, \n",
      "\tPRIMARY KEY (\"ID\")\n",
      ")\n",
      "\n",
      "\n",
      "2020-07-15 12:01:18,547 INFO sqlalchemy.engine.base.Engine ()\n",
      "2020-07-15 12:01:18,551 INFO sqlalchemy.engine.base.Engine COMMIT\n",
      "2020-07-15 12:01:18,553 INFO sqlalchemy.engine.base.Engine \n",
      "CREATE TABLE \"ALBUM\" (\n",
      "\t\"ID\" INTEGER NOT NULL, \n",
      "\t\"NAME\" VARCHAR, \n",
      "\t\"FK\" INTEGER, \n",
      "\tPRIMARY KEY (\"ID\"), \n",
      "\tFOREIGN KEY(\"FK\") REFERENCES \"ARTIST\" (\"ID\")\n",
      ")\n",
      "\n",
      "\n",
      "2020-07-15 12:01:18,555 INFO sqlalchemy.engine.base.Engine ()\n",
      "2020-07-15 12:01:18,560 INFO sqlalchemy.engine.base.Engine COMMIT\n",
      "2020-07-15 12:01:18,562 INFO sqlalchemy.engine.base.Engine \n",
      "CREATE TABLE \"Track\" (\n",
      "\t\"ID\" INTEGER NOT NULL, \n",
      "\t\"NAME\" VARCHAR, \n",
      "\t\"FK1\" INTEGER, \n",
      "\t\"FK2\" INTEGER, \n",
      "\tPRIMARY KEY (\"ID\"), \n",
      "\tFOREIGN KEY(\"FK1\") REFERENCES \"ALBUM\" (\"ID\"), \n",
      "\tFOREIGN KEY(\"FK2\") REFERENCES \"GENRE\" (\"ID\")\n",
      ")\n",
      "\n",
      "\n",
      "2020-07-15 12:01:18,563 INFO sqlalchemy.engine.base.Engine ()\n",
      "2020-07-15 12:01:18,567 INFO sqlalchemy.engine.base.Engine COMMIT\n"
     ]
    }
   ],
   "source": [
    "base.metadata.create_all(engine)"
   ]
  },
  {
   "cell_type": "code",
   "execution_count": 26,
   "metadata": {},
   "outputs": [
    {
     "name": "stdout",
     "output_type": "stream",
     "text": [
      "2020-07-15 12:01:24,045 INFO sqlalchemy.engine.base.Engine BEGIN (implicit)\n",
      "2020-07-15 12:01:24,047 INFO sqlalchemy.engine.base.Engine INSERT INTO \"ARTIST\" (\"NAME\") VALUES (?)\n",
      "2020-07-15 12:01:24,048 INFO sqlalchemy.engine.base.Engine ('Led Zepplin',)\n",
      "2020-07-15 12:01:24,052 INFO sqlalchemy.engine.base.Engine INSERT INTO \"ARTIST\" (\"NAME\") VALUES (?)\n",
      "2020-07-15 12:01:24,053 INFO sqlalchemy.engine.base.Engine ('AC/DC',)\n",
      "2020-07-15 12:01:24,055 INFO sqlalchemy.engine.base.Engine COMMIT\n",
      "2020-07-15 12:01:24,067 INFO sqlalchemy.engine.base.Engine BEGIN (implicit)\n",
      "2020-07-15 12:01:24,069 INFO sqlalchemy.engine.base.Engine SELECT \"ARTIST\".\"ID\" AS \"ARTIST_ID\", \"ARTIST\".\"NAME\" AS \"ARTIST_NAME\" \n",
      "FROM \"ARTIST\" \n",
      "WHERE \"ARTIST\".\"ID\" = ?\n",
      "2020-07-15 12:01:24,070 INFO sqlalchemy.engine.base.Engine (1,)\n",
      "2020-07-15 12:01:24,072 INFO sqlalchemy.engine.base.Engine SELECT \"ARTIST\".\"ID\" AS \"ARTIST_ID\", \"ARTIST\".\"NAME\" AS \"ARTIST_NAME\" \n",
      "FROM \"ARTIST\" \n",
      "WHERE \"ARTIST\".\"ID\" = ?\n",
      "2020-07-15 12:01:24,074 INFO sqlalchemy.engine.base.Engine (2,)\n",
      "2020-07-15 12:01:24,077 INFO sqlalchemy.engine.base.Engine INSERT INTO \"ALBUM\" (\"NAME\", \"FK\") VALUES (?, ?)\n",
      "2020-07-15 12:01:24,079 INFO sqlalchemy.engine.base.Engine ('IV', 1)\n",
      "2020-07-15 12:01:24,081 INFO sqlalchemy.engine.base.Engine INSERT INTO \"ALBUM\" (\"NAME\", \"FK\") VALUES (?, ?)\n",
      "2020-07-15 12:01:24,083 INFO sqlalchemy.engine.base.Engine ('Who Made Who', 2)\n",
      "2020-07-15 12:01:24,085 INFO sqlalchemy.engine.base.Engine COMMIT\n",
      "2020-07-15 12:01:24,101 INFO sqlalchemy.engine.base.Engine BEGIN (implicit)\n",
      "2020-07-15 12:01:24,103 INFO sqlalchemy.engine.base.Engine INSERT INTO \"GENRE\" (\"NAME\") VALUES (?)\n",
      "2020-07-15 12:01:24,105 INFO sqlalchemy.engine.base.Engine ('Rock',)\n",
      "2020-07-15 12:01:24,108 INFO sqlalchemy.engine.base.Engine INSERT INTO \"GENRE\" (\"NAME\") VALUES (?)\n",
      "2020-07-15 12:01:24,109 INFO sqlalchemy.engine.base.Engine ('Metal',)\n",
      "2020-07-15 12:01:24,111 INFO sqlalchemy.engine.base.Engine COMMIT\n"
     ]
    }
   ],
   "source": [
    "# Insert\n",
    "artist1=Artist(name=\"Led Zepplin\")\n",
    "artist2=Artist(name=\"AC/DC\")\n",
    "\n",
    "session.add_all([artist1, artist2])\n",
    "session.commit()\n",
    "\n",
    "album=[Album(name=\"IV\", fk=artist1.pk),\n",
    "      Album(name=\"Who Made Who\", fk=artist2.pk)]\n",
    "\n",
    "session.add_all(album)\n",
    "session.commit()\n",
    "\n",
    "session.add_all([Genre(name=\"Rock\"), Genre(name=\"Metal\")])\n",
    "session.commit()"
   ]
  },
  {
   "cell_type": "code",
   "execution_count": 27,
   "metadata": {},
   "outputs": [
    {
     "name": "stdout",
     "output_type": "stream",
     "text": [
      "2020-07-15 12:01:28,078 INFO sqlalchemy.engine.base.Engine BEGIN (implicit)\n",
      "2020-07-15 12:01:28,079 INFO sqlalchemy.engine.base.Engine SELECT \"ARTIST\".\"ID\" AS \"ARTIST_ID\", \"ARTIST\".\"NAME\" AS \"ARTIST_NAME\" \n",
      "FROM \"ARTIST\" \n",
      "WHERE \"ARTIST\".\"ID\" = ?\n",
      "2020-07-15 12:01:28,080 INFO sqlalchemy.engine.base.Engine (1,)\n",
      "2020-07-15 12:01:28,083 INFO sqlalchemy.engine.base.Engine SELECT \"ALBUM\".\"ID\" AS \"ALBUM_ID\", \"ALBUM\".\"NAME\" AS \"ALBUM_NAME\", \"ALBUM\".\"FK\" AS \"ALBUM_FK\" \n",
      "FROM \"ALBUM\" \n",
      "WHERE \"ALBUM\".\"FK\" = ?\n",
      "2020-07-15 12:01:28,084 INFO sqlalchemy.engine.base.Engine (1,)\n",
      "2020-07-15 12:01:28,087 INFO sqlalchemy.engine.base.Engine SELECT \"ARTIST\".\"ID\" AS \"ARTIST_ID\", \"ARTIST\".\"NAME\" AS \"ARTIST_NAME\" \n",
      "FROM \"ARTIST\" \n",
      "WHERE \"ARTIST\".\"ID\" = ?\n",
      "2020-07-15 12:01:28,088 INFO sqlalchemy.engine.base.Engine (2,)\n",
      "2020-07-15 12:01:28,090 INFO sqlalchemy.engine.base.Engine SELECT \"ALBUM\".\"ID\" AS \"ALBUM_ID\", \"ALBUM\".\"NAME\" AS \"ALBUM_NAME\", \"ALBUM\".\"FK\" AS \"ALBUM_FK\" \n",
      "FROM \"ALBUM\" \n",
      "WHERE \"ALBUM\".\"FK\" = ?\n",
      "2020-07-15 12:01:28,092 INFO sqlalchemy.engine.base.Engine (2,)\n",
      "2020-07-15 12:01:28,095 INFO sqlalchemy.engine.base.Engine SELECT \"GENRE\".\"ID\" AS \"GENRE_ID\", \"GENRE\".\"NAME\" AS \"GENRE_NAME\" \n",
      "FROM \"GENRE\" \n",
      "WHERE \"GENRE\".\"NAME\" = ? AND \"GENRE\".\"ID\" = ?\n",
      "2020-07-15 12:01:28,095 INFO sqlalchemy.engine.base.Engine ('Rock', 1)\n",
      "2020-07-15 12:01:28,098 INFO sqlalchemy.engine.base.Engine SELECT \"GENRE\".\"ID\" AS \"GENRE_ID\", \"GENRE\".\"NAME\" AS \"GENRE_NAME\" \n",
      "FROM \"GENRE\" \n",
      "WHERE \"GENRE\".\"NAME\" = ? AND \"GENRE\".\"ID\" = ?\n",
      "2020-07-15 12:01:28,100 INFO sqlalchemy.engine.base.Engine ('Metal', 2)\n"
     ]
    }
   ],
   "source": [
    "album1=session.query(Album).filter(Album.fk==artist1.pk).one()\n",
    "album2=session.query(Album).filter(Album.fk==artist2.pk).one()\n",
    "\n",
    "genre1=session.query(Genre).filter(Genre.name==\"Rock\").filter(Genre.pk==1).one()\n",
    "genre2=session.query(Genre).filter(Genre.name==\"Metal\").filter(Genre.pk==2).one()"
   ]
  },
  {
   "cell_type": "code",
   "execution_count": 28,
   "metadata": {},
   "outputs": [
    {
     "name": "stdout",
     "output_type": "stream",
     "text": [
      "2020-07-15 12:01:30,980 INFO sqlalchemy.engine.base.Engine INSERT INTO \"Track\" (\"NAME\", \"FK1\", \"FK2\") VALUES (?, ?, ?)\n",
      "2020-07-15 12:01:30,982 INFO sqlalchemy.engine.base.Engine ('track1', 1, 1)\n",
      "2020-07-15 12:01:30,986 INFO sqlalchemy.engine.base.Engine INSERT INTO \"Track\" (\"NAME\", \"FK1\", \"FK2\") VALUES (?, ?, ?)\n",
      "2020-07-15 12:01:30,988 INFO sqlalchemy.engine.base.Engine ('track2', 2, 2)\n",
      "2020-07-15 12:01:30,990 INFO sqlalchemy.engine.base.Engine INSERT INTO \"Track\" (\"NAME\", \"FK1\", \"FK2\") VALUES (?, ?, ?)\n",
      "2020-07-15 12:01:30,992 INFO sqlalchemy.engine.base.Engine ('track3', 1, 1)\n",
      "2020-07-15 12:01:30,993 INFO sqlalchemy.engine.base.Engine INSERT INTO \"Track\" (\"NAME\", \"FK1\", \"FK2\") VALUES (?, ?, ?)\n",
      "2020-07-15 12:01:30,994 INFO sqlalchemy.engine.base.Engine ('track4', 2, 2)\n",
      "2020-07-15 12:01:30,996 INFO sqlalchemy.engine.base.Engine COMMIT\n"
     ]
    }
   ],
   "source": [
    "session.add_all([\n",
    "    Track(name='track1', fk1=album1.pk, fk2=genre1.pk),\n",
    "    Track(name='track2', fk1=album2.pk, fk2=genre2.pk),\n",
    "    Track(name='track3', fk1=album1.pk, fk2=genre1.pk),\n",
    "    Track(name='track4', fk1=album2.pk, fk2=genre2.pk)\n",
    "])\n",
    "session.commit()"
   ]
  },
  {
   "cell_type": "code",
   "execution_count": 29,
   "metadata": {},
   "outputs": [
    {
     "name": "stdout",
     "output_type": "stream",
     "text": [
      "2020-07-15 12:01:33,183 INFO sqlalchemy.engine.base.Engine BEGIN (implicit)\n",
      "2020-07-15 12:01:33,185 INFO sqlalchemy.engine.base.Engine SELECT \"Track\".\"NAME\" AS \"Track_NAME\", \"ALBUM\".\"NAME\" AS \"ALBUM_NAME\", \"GENRE\".\"NAME\" AS \"GENRE_NAME\", \"ARTIST\".\"NAME\" AS \"ARTIST_NAME\" \n",
      "FROM \"Track\" JOIN \"ALBUM\" ON \"ALBUM\".\"ID\" = \"Track\".\"FK1\" JOIN \"GENRE\" ON \"GENRE\".\"ID\" = \"Track\".\"FK2\" JOIN \"ARTIST\" ON \"ARTIST\".\"ID\" = \"ALBUM\".\"FK\"\n",
      "2020-07-15 12:01:33,186 INFO sqlalchemy.engine.base.Engine ()\n",
      "('track1', 'IV', 'Rock', 'Led Zepplin')\n",
      "('track2', 'Who Made Who', 'Metal', 'AC/DC')\n",
      "('track3', 'IV', 'Rock', 'Led Zepplin')\n",
      "('track4', 'Who Made Who', 'Metal', 'AC/DC')\n"
     ]
    }
   ],
   "source": [
    "# Join\n",
    "result = session.query(Track.name, Album.name, Genre.name, Artist.name) \\\n",
    "            .select_from(Track) \\\n",
    "            .join(Album)\\\n",
    "            .join(Genre)\\\n",
    "            .join(Artist).all()\n",
    "\n",
    "for row in result:\n",
    "    print(row)"
   ]
  },
  {
   "cell_type": "code",
   "execution_count": 30,
   "metadata": {},
   "outputs": [
    {
     "data": {
      "text/plain": [
       "[{'Track': 'track1', 'Album': 'IV', 'Genre': 'Rock', 'Artist': 'Led Zepplin'},\n",
       " {'Track': 'track2',\n",
       "  'Album': 'Who Made Who',\n",
       "  'Genre': 'Metal',\n",
       "  'Artist': 'AC/DC'},\n",
       " {'Track': 'track3', 'Album': 'IV', 'Genre': 'Rock', 'Artist': 'Led Zepplin'},\n",
       " {'Track': 'track4',\n",
       "  'Album': 'Who Made Who',\n",
       "  'Genre': 'Metal',\n",
       "  'Artist': 'AC/DC'}]"
      ]
     },
     "execution_count": 30,
     "metadata": {},
     "output_type": "execute_result"
    }
   ],
   "source": [
    "songList = [dict(Track=row[0], Album=row[1], Genre=row[2], Artist=row[3]) for row in result]\n",
    "songList"
   ]
  },
  {
   "cell_type": "code",
   "execution_count": 94,
   "metadata": {},
   "outputs": [],
   "source": [
    "# Relationship \n",
    "# pk-fk 연동인 두 class에게 서로 1:1, 1:N등으로 참조, 역참조할 수 있도록 해줌\n",
    "# relationship btw two mapped classes\n",
    "# table 다시 등록해야함"
   ]
  },
  {
   "cell_type": "code",
   "execution_count": 39,
   "metadata": {},
   "outputs": [],
   "source": [
    "base.metadata.clear()"
   ]
  },
  {
   "cell_type": "code",
   "execution_count": 40,
   "metadata": {},
   "outputs": [],
   "source": [
    "from sqlalchemy.orm import relationship\n",
    "\n",
    "class Artist(base):\n",
    "    __tablename__='Artist'\n",
    "    \n",
    "    pk = Column('ID', Integer, primary_key=True)\n",
    "    name = Column('NAME', String)\n",
    "    \n",
    "    albumlist = relationship(\"Artist\", back_populates=\"artist\")\n",
    "    \n",
    "    def __repr__(self):\n",
    "        return 'PK:{0}, NAME:{1}'.format(self.pk, self.name)\n",
    "    \n",
    "class Genre(base):\n",
    "    __tablename__='Genre'\n",
    "    \n",
    "    pk = Column('ID', Integer, primary_key=True)\n",
    "    name = Column('NAME', String)\n",
    "    \n",
    "    tracklist = relationship(\"Track\", back_populates=\"album\")\n",
    "    \n",
    "    def __repr__(self):\n",
    "        return 'PK:{0}, NAME:{1}'.format(self.pk, self.name)\n",
    "    \n",
    "class Album(base):\n",
    "    __tablename__='Album'\n",
    "    \n",
    "    pk = Column('ID', Integer, primary_key=True)\n",
    "    name = Column('NAME', String)\n",
    "    fk = Column('FK', Integer, ForeignKey('ARTIST.ID'))\n",
    "    \n",
    "    artist = relationship(\"Artist\", back_populates=\"albumlist\", uselist=False)\n",
    "    tracklist = relationship(\"Track\", back_populates=\"album\")\n",
    "    \n",
    "    def __repr__(self):\n",
    "        return 'PK:{0}, NAME:{1}, FK:{2}'.format(self.pk, self.name, self.fk)\n",
    "    \n",
    "class Track(base):\n",
    "    __tablename__='Track'\n",
    "    \n",
    "    pk = Column('ID', Integer, primary_key=True)\n",
    "    name = Column('NAME', String)\n",
    "    fk1 = Column('FK1', Integer, ForeignKey('ALBUM.ID'))\n",
    "    fk2 = Column('FK2', Integer, ForeignKey('GENRE.ID'))\n",
    "    \n",
    "    album = relationship(\"Album\", back_populates='tracklist', uselist=False)\n",
    "    genre = relationship(\"Genre\", back_populates='tracklist', uselist=False)\n",
    "    \n",
    "    def __repr__(self):\n",
    "        return 'PK:{0}, NAME:{1}, FK1:{2}, FK2:{3}'.format(self.pk, self.name, self.fk1, self.fk2)"
   ]
  },
  {
   "cell_type": "code",
   "execution_count": 41,
   "metadata": {},
   "outputs": [],
   "source": [
    "session.commit()"
   ]
  },
  {
   "cell_type": "code",
   "execution_count": 42,
   "metadata": {
    "collapsed": true,
    "jupyter": {
     "outputs_hidden": true
    }
   },
   "outputs": [
    {
     "ename": "InvalidRequestError",
     "evalue": "One or more mappers failed to initialize - can't proceed with initialization of other mappers. Triggering mapper: 'mapped class Artist->ARTIST'. Original exception was: relationship 'albumlist' expects a class or a mapper argument (received: <class 'sqlalchemy.sql.schema.Table'>)",
     "output_type": "error",
     "traceback": [
      "\u001b[1;31m---------------------------------------------------------------------------\u001b[0m",
      "\u001b[1;31mInvalidRequestError\u001b[0m                       Traceback (most recent call last)",
      "\u001b[1;32m<ipython-input-42-46c9ee26bc6d>\u001b[0m in \u001b[0;36m<module>\u001b[1;34m\u001b[0m\n\u001b[1;32m----> 1\u001b[1;33m \u001b[0mtrack1\u001b[0m \u001b[1;33m=\u001b[0m \u001b[0mTrack\u001b[0m\u001b[1;33m(\u001b[0m\u001b[0mname\u001b[0m\u001b[1;33m=\u001b[0m\u001b[1;34m'track1'\u001b[0m\u001b[1;33m)\u001b[0m\u001b[1;33m\u001b[0m\u001b[1;33m\u001b[0m\u001b[0m\n\u001b[0m\u001b[0;32m      2\u001b[0m \u001b[0mtrack2\u001b[0m \u001b[1;33m=\u001b[0m \u001b[0mTrack\u001b[0m\u001b[1;33m(\u001b[0m\u001b[0mname\u001b[0m\u001b[1;33m=\u001b[0m\u001b[1;34m'track2'\u001b[0m\u001b[1;33m)\u001b[0m\u001b[1;33m\u001b[0m\u001b[1;33m\u001b[0m\u001b[0m\n\u001b[0;32m      3\u001b[0m \u001b[0mtrack3\u001b[0m \u001b[1;33m=\u001b[0m \u001b[0mTrack\u001b[0m\u001b[1;33m(\u001b[0m\u001b[0mname\u001b[0m\u001b[1;33m=\u001b[0m\u001b[1;34m'track3'\u001b[0m\u001b[1;33m)\u001b[0m\u001b[1;33m\u001b[0m\u001b[1;33m\u001b[0m\u001b[0m\n\u001b[0;32m      4\u001b[0m \u001b[0mtrack4\u001b[0m \u001b[1;33m=\u001b[0m \u001b[0mTrack\u001b[0m\u001b[1;33m(\u001b[0m\u001b[0mname\u001b[0m\u001b[1;33m=\u001b[0m\u001b[1;34m'track4'\u001b[0m\u001b[1;33m)\u001b[0m\u001b[1;33m\u001b[0m\u001b[1;33m\u001b[0m\u001b[0m\n\u001b[0;32m      5\u001b[0m \u001b[1;33m\u001b[0m\u001b[0m\n",
      "\u001b[1;32m<string>\u001b[0m in \u001b[0;36m__init__\u001b[1;34m(self, **kwargs)\u001b[0m\n",
      "\u001b[1;32m~\\Anaconda3\\lib\\site-packages\\sqlalchemy\\orm\\instrumentation.py\u001b[0m in \u001b[0;36m_new_state_if_none\u001b[1;34m(self, instance)\u001b[0m\n\u001b[0;32m    374\u001b[0m             )._new_state_if_none(instance)\n\u001b[0;32m    375\u001b[0m         \u001b[1;32melse\u001b[0m\u001b[1;33m:\u001b[0m\u001b[1;33m\u001b[0m\u001b[1;33m\u001b[0m\u001b[0m\n\u001b[1;32m--> 376\u001b[1;33m             \u001b[0mstate\u001b[0m \u001b[1;33m=\u001b[0m \u001b[0mself\u001b[0m\u001b[1;33m.\u001b[0m\u001b[0m_state_constructor\u001b[0m\u001b[1;33m(\u001b[0m\u001b[0minstance\u001b[0m\u001b[1;33m,\u001b[0m \u001b[0mself\u001b[0m\u001b[1;33m)\u001b[0m\u001b[1;33m\u001b[0m\u001b[1;33m\u001b[0m\u001b[0m\n\u001b[0m\u001b[0;32m    377\u001b[0m             \u001b[0mself\u001b[0m\u001b[1;33m.\u001b[0m\u001b[0m_state_setter\u001b[0m\u001b[1;33m(\u001b[0m\u001b[0minstance\u001b[0m\u001b[1;33m,\u001b[0m \u001b[0mstate\u001b[0m\u001b[1;33m)\u001b[0m\u001b[1;33m\u001b[0m\u001b[1;33m\u001b[0m\u001b[0m\n\u001b[0;32m    378\u001b[0m             \u001b[1;32mreturn\u001b[0m \u001b[0mstate\u001b[0m\u001b[1;33m\u001b[0m\u001b[1;33m\u001b[0m\u001b[0m\n",
      "\u001b[1;32m~\\Anaconda3\\lib\\site-packages\\sqlalchemy\\util\\langhelpers.py\u001b[0m in \u001b[0;36m__get__\u001b[1;34m(self, obj, cls)\u001b[0m\n\u001b[0;32m    853\u001b[0m         \u001b[1;32mif\u001b[0m \u001b[0mobj\u001b[0m \u001b[1;32mis\u001b[0m \u001b[1;32mNone\u001b[0m\u001b[1;33m:\u001b[0m\u001b[1;33m\u001b[0m\u001b[1;33m\u001b[0m\u001b[0m\n\u001b[0;32m    854\u001b[0m             \u001b[1;32mreturn\u001b[0m \u001b[0mself\u001b[0m\u001b[1;33m\u001b[0m\u001b[1;33m\u001b[0m\u001b[0m\n\u001b[1;32m--> 855\u001b[1;33m         \u001b[0mobj\u001b[0m\u001b[1;33m.\u001b[0m\u001b[0m__dict__\u001b[0m\u001b[1;33m[\u001b[0m\u001b[0mself\u001b[0m\u001b[1;33m.\u001b[0m\u001b[0m__name__\u001b[0m\u001b[1;33m]\u001b[0m \u001b[1;33m=\u001b[0m \u001b[0mresult\u001b[0m \u001b[1;33m=\u001b[0m \u001b[0mself\u001b[0m\u001b[1;33m.\u001b[0m\u001b[0mfget\u001b[0m\u001b[1;33m(\u001b[0m\u001b[0mobj\u001b[0m\u001b[1;33m)\u001b[0m\u001b[1;33m\u001b[0m\u001b[1;33m\u001b[0m\u001b[0m\n\u001b[0m\u001b[0;32m    856\u001b[0m         \u001b[1;32mreturn\u001b[0m \u001b[0mresult\u001b[0m\u001b[1;33m\u001b[0m\u001b[1;33m\u001b[0m\u001b[0m\n\u001b[0;32m    857\u001b[0m \u001b[1;33m\u001b[0m\u001b[0m\n",
      "\u001b[1;32m~\\Anaconda3\\lib\\site-packages\\sqlalchemy\\orm\\instrumentation.py\u001b[0m in \u001b[0;36m_state_constructor\u001b[1;34m(self)\u001b[0m\n\u001b[0;32m    200\u001b[0m     \u001b[1;33m@\u001b[0m\u001b[0mutil\u001b[0m\u001b[1;33m.\u001b[0m\u001b[0mmemoized_property\u001b[0m\u001b[1;33m\u001b[0m\u001b[1;33m\u001b[0m\u001b[0m\n\u001b[0;32m    201\u001b[0m     \u001b[1;32mdef\u001b[0m \u001b[0m_state_constructor\u001b[0m\u001b[1;33m(\u001b[0m\u001b[0mself\u001b[0m\u001b[1;33m)\u001b[0m\u001b[1;33m:\u001b[0m\u001b[1;33m\u001b[0m\u001b[1;33m\u001b[0m\u001b[0m\n\u001b[1;32m--> 202\u001b[1;33m         \u001b[0mself\u001b[0m\u001b[1;33m.\u001b[0m\u001b[0mdispatch\u001b[0m\u001b[1;33m.\u001b[0m\u001b[0mfirst_init\u001b[0m\u001b[1;33m(\u001b[0m\u001b[0mself\u001b[0m\u001b[1;33m,\u001b[0m \u001b[0mself\u001b[0m\u001b[1;33m.\u001b[0m\u001b[0mclass_\u001b[0m\u001b[1;33m)\u001b[0m\u001b[1;33m\u001b[0m\u001b[1;33m\u001b[0m\u001b[0m\n\u001b[0m\u001b[0;32m    203\u001b[0m         \u001b[1;32mreturn\u001b[0m \u001b[0mstate\u001b[0m\u001b[1;33m.\u001b[0m\u001b[0mInstanceState\u001b[0m\u001b[1;33m\u001b[0m\u001b[1;33m\u001b[0m\u001b[0m\n\u001b[0;32m    204\u001b[0m \u001b[1;33m\u001b[0m\u001b[0m\n",
      "\u001b[1;32m~\\Anaconda3\\lib\\site-packages\\sqlalchemy\\event\\attr.py\u001b[0m in \u001b[0;36m__call__\u001b[1;34m(self, *args, **kw)\u001b[0m\n\u001b[0;32m    295\u001b[0m             \u001b[0mfn\u001b[0m\u001b[1;33m(\u001b[0m\u001b[1;33m*\u001b[0m\u001b[0margs\u001b[0m\u001b[1;33m,\u001b[0m \u001b[1;33m**\u001b[0m\u001b[0mkw\u001b[0m\u001b[1;33m)\u001b[0m\u001b[1;33m\u001b[0m\u001b[1;33m\u001b[0m\u001b[0m\n\u001b[0;32m    296\u001b[0m         \u001b[1;32mfor\u001b[0m \u001b[0mfn\u001b[0m \u001b[1;32min\u001b[0m \u001b[0mself\u001b[0m\u001b[1;33m.\u001b[0m\u001b[0mlisteners\u001b[0m\u001b[1;33m:\u001b[0m\u001b[1;33m\u001b[0m\u001b[1;33m\u001b[0m\u001b[0m\n\u001b[1;32m--> 297\u001b[1;33m             \u001b[0mfn\u001b[0m\u001b[1;33m(\u001b[0m\u001b[1;33m*\u001b[0m\u001b[0margs\u001b[0m\u001b[1;33m,\u001b[0m \u001b[1;33m**\u001b[0m\u001b[0mkw\u001b[0m\u001b[1;33m)\u001b[0m\u001b[1;33m\u001b[0m\u001b[1;33m\u001b[0m\u001b[0m\n\u001b[0m\u001b[0;32m    298\u001b[0m \u001b[1;33m\u001b[0m\u001b[0m\n\u001b[0;32m    299\u001b[0m     \u001b[1;32mdef\u001b[0m \u001b[0m__len__\u001b[0m\u001b[1;33m(\u001b[0m\u001b[0mself\u001b[0m\u001b[1;33m)\u001b[0m\u001b[1;33m:\u001b[0m\u001b[1;33m\u001b[0m\u001b[1;33m\u001b[0m\u001b[0m\n",
      "\u001b[1;32m~\\Anaconda3\\lib\\site-packages\\sqlalchemy\\orm\\mapper.py\u001b[0m in \u001b[0;36m_event_on_first_init\u001b[1;34m(manager, cls)\u001b[0m\n\u001b[0;32m   3339\u001b[0m     \u001b[1;32mif\u001b[0m \u001b[0minstrumenting_mapper\u001b[0m\u001b[1;33m:\u001b[0m\u001b[1;33m\u001b[0m\u001b[1;33m\u001b[0m\u001b[0m\n\u001b[0;32m   3340\u001b[0m         \u001b[1;32mif\u001b[0m \u001b[0mMapper\u001b[0m\u001b[1;33m.\u001b[0m\u001b[0m_new_mappers\u001b[0m\u001b[1;33m:\u001b[0m\u001b[1;33m\u001b[0m\u001b[1;33m\u001b[0m\u001b[0m\n\u001b[1;32m-> 3341\u001b[1;33m             \u001b[0mconfigure_mappers\u001b[0m\u001b[1;33m(\u001b[0m\u001b[1;33m)\u001b[0m\u001b[1;33m\u001b[0m\u001b[1;33m\u001b[0m\u001b[0m\n\u001b[0m\u001b[0;32m   3342\u001b[0m \u001b[1;33m\u001b[0m\u001b[0m\n\u001b[0;32m   3343\u001b[0m \u001b[1;33m\u001b[0m\u001b[0m\n",
      "\u001b[1;32m~\\Anaconda3\\lib\\site-packages\\sqlalchemy\\orm\\mapper.py\u001b[0m in \u001b[0;36mconfigure_mappers\u001b[1;34m()\u001b[0m\n\u001b[0;32m   3223\u001b[0m                     )\n\u001b[0;32m   3224\u001b[0m                     \u001b[0me\u001b[0m\u001b[1;33m.\u001b[0m\u001b[0m_configure_failed\u001b[0m \u001b[1;33m=\u001b[0m \u001b[0mmapper\u001b[0m\u001b[1;33m.\u001b[0m\u001b[0m_configure_failed\u001b[0m\u001b[1;33m\u001b[0m\u001b[1;33m\u001b[0m\u001b[0m\n\u001b[1;32m-> 3225\u001b[1;33m                     \u001b[1;32mraise\u001b[0m \u001b[0me\u001b[0m\u001b[1;33m\u001b[0m\u001b[1;33m\u001b[0m\u001b[0m\n\u001b[0m\u001b[0;32m   3226\u001b[0m \u001b[1;33m\u001b[0m\u001b[0m\n\u001b[0;32m   3227\u001b[0m                 \u001b[1;32mif\u001b[0m \u001b[1;32mnot\u001b[0m \u001b[0mmapper\u001b[0m\u001b[1;33m.\u001b[0m\u001b[0mconfigured\u001b[0m\u001b[1;33m:\u001b[0m\u001b[1;33m\u001b[0m\u001b[1;33m\u001b[0m\u001b[0m\n",
      "\u001b[1;31mInvalidRequestError\u001b[0m: One or more mappers failed to initialize - can't proceed with initialization of other mappers. Triggering mapper: 'mapped class Artist->ARTIST'. Original exception was: relationship 'albumlist' expects a class or a mapper argument (received: <class 'sqlalchemy.sql.schema.Table'>)"
     ]
    }
   ],
   "source": [
    "track1 = Track(name='track1')\n",
    "track2 = Track(name='track2')\n",
    "track3 = Track(name='track3')\n",
    "track4 = Track(name='track4')\n",
    "\n",
    "track1.album= track2.album = Album(name=\"IV\")\n",
    "track3.album= track4.album = Album(name=\"Who Made Who\")\n",
    "\n",
    "track1.genre = track3.genre = Genre(name=\"Rock\")\n",
    "track2.genre = track4.genre = Genre(name=\"Metal\")\n",
    "                                    \n",
    "track1.album.artist = track2.album.artist = Artist(name=\"Led Zepplin\")\n",
    "track3.album.artist = track4.album.artist = Artist(name=\"AC/DC\")"
   ]
  },
  {
   "cell_type": "code",
   "execution_count": null,
   "metadata": {},
   "outputs": [],
   "source": []
  }
 ],
 "metadata": {
  "kernelspec": {
   "display_name": "Python 3",
   "language": "python",
   "name": "python3"
  },
  "language_info": {
   "codemirror_mode": {
    "name": "ipython",
    "version": 3
   },
   "file_extension": ".py",
   "mimetype": "text/x-python",
   "name": "python",
   "nbconvert_exporter": "python",
   "pygments_lexer": "ipython3",
   "version": "3.7.3"
  }
 },
 "nbformat": 4,
 "nbformat_minor": 4
}
