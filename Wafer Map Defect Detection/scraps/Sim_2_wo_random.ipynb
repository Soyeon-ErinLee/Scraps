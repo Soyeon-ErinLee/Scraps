{
  "nbformat": 4,
  "nbformat_minor": 0,
  "metadata": {
    "accelerator": "GPU",
    "colab": {
      "name": "Sim_2_wo  random.ipynb",
      "provenance": [],
      "collapsed_sections": [
        "zQuODoZeZ1BG"
      ]
    },
    "kernelspec": {
      "display_name": "Python 3",
      "language": "python",
      "name": "python3"
    },
    "language_info": {
      "codemirror_mode": {
        "name": "ipython",
        "version": 3
      },
      "file_extension": ".py",
      "mimetype": "text/x-python",
      "name": "python",
      "nbconvert_exporter": "python",
      "pygments_lexer": "ipython3",
      "version": "3.8.8"
    }
  },
  "cells": [
    {
      "cell_type": "code",
      "metadata": {
        "colab": {
          "base_uri": "https://localhost:8080/"
        },
        "id": "q7EmlnM3rxvd",
        "outputId": "07ddc5dd-f77d-4cac-9cbc-f9874b57ba6b"
      },
      "source": [
        " from google.colab import drive\n",
        "drive.mount('/content/drive')"
      ],
      "execution_count": 1,
      "outputs": [
        {
          "output_type": "stream",
          "name": "stdout",
          "text": [
            "Mounted at /content/drive\n"
          ]
        }
      ]
    },
    {
      "cell_type": "code",
      "metadata": {
        "id": "Tr_WVJQ5iUV5"
      },
      "source": [
        "# os.chdir(\"/content/drive/Shareddrives/Labs/2020_1_이소연/code\")\n",
        "# df=pd.read_pickle(\"LSWMD.pkl\")\n",
        "# df = df.drop(['waferIndex'], axis = 1)\n",
        "# def find_dim(x):\n",
        "#     dim0=np.size(x,axis=0)\n",
        "#     dim1=np.size(x,axis=1)\n",
        "#     return dim0,dim1\n",
        "# df['waferMapDim']=df.waferMap.apply(find_dim)\n",
        "# # Mapping\n",
        "# df['failureNum'] = df.failureType\n",
        "# df['trainTestNum'] = df.trianTestLabel\n",
        "# mapping_type = {'Center':0,'Donut':1,'Edge-Loc':2,'Edge-Ring':3,'Loc':4,'Random':5,'Scratch':6,'Near-full':7,'none':8}\n",
        "# mapping_traintest = {'Training':0,'Test':1}\n",
        "# df=df.replace({'failureNum':mapping_type, 'trainTestNum':mapping_traintest})\n",
        "# # label, pattern\n",
        "# tol_wafers = df.shape[0]\n",
        "# df_withlabel = df[(df['failureNum']>=0) & (df['failureNum']<=8)]\n",
        "# df_withlabel =df_withlabel.reset_index()\n",
        "# df_withpattern = df[(df['failureNum']>=0) & (df['failureNum']<=7)]\n",
        "# df_withpattern = df_withpattern.reset_index() \n",
        "# df_nonpattern = df[(df['failureNum']==8)]\n",
        "# sub_df = df_withlabel.loc[(df_withlabel['waferMapDim'] == (33, 29)) | (df_withlabel['waferMapDim'] == (41, 33))].reset_index(drop=True)\n",
        "# sub_df['waferMap']=sub_df.waferMap.apply(lambda x: cv2.resize(x, dsize=(32,32), interpolation = cv2.INTER_NEAREST))\n",
        "# sub_df.to_pickle(\"main2.pkl\")"
      ],
      "execution_count": null,
      "outputs": []
    },
    {
      "cell_type": "code",
      "metadata": {
        "id": "Tu11ZWycrskS"
      },
      "source": [
        "import numpy as np\n",
        "import pandas as pd\n",
        "import matplotlib.pyplot as plt\n",
        "%matplotlib inline \n",
        "import tensorflow as tf\n",
        "import os\n",
        "from os import chdir as cd\n",
        "import warnings\n",
        "import cv2\n",
        "import random\n",
        "from matplotlib import gridspec   \n",
        "from matplotlib import cm\n",
        "from scipy import interpolate\n",
        "from scipy import stats\n",
        "from sklearn.svm import LinearSVC\n",
        "from sklearn.multiclass import OneVsOneClassifier\n",
        "from sklearn.model_selection import train_test_split\n",
        "from sklearn.preprocessing import OneHotEncoder, LabelEncoder\n",
        "import itertools\n",
        "from sklearn.metrics import confusion_matrix, f1_score, classification_report\n",
        "from tqdm import tqdm\n",
        "from tensorflow.keras.layers import Dense, Input\n",
        "import functools\n",
        "from functools import partial\n",
        "from tensorflow.keras.initializers import glorot_uniform\n",
        "from tensorflow.keras.metrics import top_k_categorical_accuracy as tCA\n",
        "from tensorflow.keras.metrics import Recall\n",
        "from tensorflow.keras.regularizers import l1,l2,l1_l2\n",
        "from tensorflow.keras.layers import Conv2D, MaxPool2D, Conv2DTranspose, UpSampling2D, BatchNormalization, MaxPooling2D, Flatten, GlobalAveragePooling2D, Activation, AveragePooling2D , ZeroPadding2D, SeparableConv2D, Dropout, add, Add\n",
        "from tensorflow.keras.models import Model, load_model , Sequential\n",
        "from tensorflow.keras.utils import plot_model, to_categorical\n",
        "from tensorflow.keras.callbacks import EarlyStopping , LearningRateScheduler, ModelCheckpoint, CSVLogger, Callback, ReduceLROnPlateau\n",
        "from tensorflow.keras.metrics import CategoricalCrossentropy\n",
        "warnings.filterwarnings(\"ignore\")"
      ],
      "execution_count": 2,
      "outputs": []
    },
    {
      "cell_type": "code",
      "metadata": {
        "id": "Vtfyxmyafgwo"
      },
      "source": [
        "cd(\"/content/drive/Shareddrives/Labs/2020_1_이소연/code\")\n",
        "from lrn import LRN\n",
        "from f1score import macro_f1score"
      ],
      "execution_count": 3,
      "outputs": []
    },
    {
      "cell_type": "code",
      "metadata": {
        "id": "LvtDfWgo4LzI"
      },
      "source": [
        "sub_df = pd.read_pickle(\"main2.pkl\")"
      ],
      "execution_count": 4,
      "outputs": []
    },
    {
      "cell_type": "code",
      "metadata": {
        "colab": {
          "base_uri": "https://localhost:8080/",
          "height": 202
        },
        "id": "__mMYfEFHUVb",
        "outputId": "f5f4418c-36b8-42bd-bcf7-a81057427e58"
      },
      "source": [
        "sub_df.head()"
      ],
      "execution_count": 5,
      "outputs": [
        {
          "output_type": "execute_result",
          "data": {
            "text/html": [
              "<div>\n",
              "<style scoped>\n",
              "    .dataframe tbody tr th:only-of-type {\n",
              "        vertical-align: middle;\n",
              "    }\n",
              "\n",
              "    .dataframe tbody tr th {\n",
              "        vertical-align: top;\n",
              "    }\n",
              "\n",
              "    .dataframe thead th {\n",
              "        text-align: right;\n",
              "    }\n",
              "</style>\n",
              "<table border=\"1\" class=\"dataframe\">\n",
              "  <thead>\n",
              "    <tr style=\"text-align: right;\">\n",
              "      <th></th>\n",
              "      <th>index</th>\n",
              "      <th>waferMap</th>\n",
              "      <th>dieSize</th>\n",
              "      <th>lotName</th>\n",
              "      <th>trianTestLabel</th>\n",
              "      <th>failureType</th>\n",
              "      <th>waferMapDim</th>\n",
              "      <th>failureNum</th>\n",
              "      <th>trainTestNum</th>\n",
              "    </tr>\n",
              "  </thead>\n",
              "  <tbody>\n",
              "    <tr>\n",
              "      <th>0</th>\n",
              "      <td>9637</td>\n",
              "      <td>[[0, 0, 0, 0, 0, 0, 0, 0, 0, 0, 0, 0, 0, 0, 2,...</td>\n",
              "      <td>741.0</td>\n",
              "      <td>lot1847</td>\n",
              "      <td>[[Training]]</td>\n",
              "      <td>[[Edge-Loc]]</td>\n",
              "      <td>(33, 29)</td>\n",
              "      <td>2</td>\n",
              "      <td>0</td>\n",
              "    </tr>\n",
              "    <tr>\n",
              "      <th>1</th>\n",
              "      <td>13741</td>\n",
              "      <td>[[0, 0, 0, 0, 0, 0, 0, 0, 0, 0, 0, 0, 0, 0, 1,...</td>\n",
              "      <td>741.0</td>\n",
              "      <td>lot2137</td>\n",
              "      <td>[[Training]]</td>\n",
              "      <td>[[Scratch]]</td>\n",
              "      <td>(33, 29)</td>\n",
              "      <td>6</td>\n",
              "      <td>0</td>\n",
              "    </tr>\n",
              "    <tr>\n",
              "      <th>2</th>\n",
              "      <td>13765</td>\n",
              "      <td>[[0, 0, 0, 0, 0, 0, 0, 0, 0, 0, 0, 0, 0, 0, 1,...</td>\n",
              "      <td>741.0</td>\n",
              "      <td>lot2138</td>\n",
              "      <td>[[Training]]</td>\n",
              "      <td>[[Scratch]]</td>\n",
              "      <td>(33, 29)</td>\n",
              "      <td>6</td>\n",
              "      <td>0</td>\n",
              "    </tr>\n",
              "    <tr>\n",
              "      <th>3</th>\n",
              "      <td>14503</td>\n",
              "      <td>[[0, 0, 0, 0, 0, 0, 0, 0, 0, 0, 0, 0, 0, 0, 2,...</td>\n",
              "      <td>741.0</td>\n",
              "      <td>lot2172</td>\n",
              "      <td>[[Training]]</td>\n",
              "      <td>[[Edge-Loc]]</td>\n",
              "      <td>(33, 29)</td>\n",
              "      <td>2</td>\n",
              "      <td>0</td>\n",
              "    </tr>\n",
              "    <tr>\n",
              "      <th>4</th>\n",
              "      <td>14528</td>\n",
              "      <td>[[0, 0, 0, 0, 0, 0, 0, 0, 0, 0, 0, 0, 0, 0, 2,...</td>\n",
              "      <td>741.0</td>\n",
              "      <td>lot2173</td>\n",
              "      <td>[[Training]]</td>\n",
              "      <td>[[Edge-Loc]]</td>\n",
              "      <td>(33, 29)</td>\n",
              "      <td>2</td>\n",
              "      <td>0</td>\n",
              "    </tr>\n",
              "  </tbody>\n",
              "</table>\n",
              "</div>"
            ],
            "text/plain": [
              "   index  ... trainTestNum\n",
              "0   9637  ...            0\n",
              "1  13741  ...            0\n",
              "2  13765  ...            0\n",
              "3  14503  ...            0\n",
              "4  14528  ...            0\n",
              "\n",
              "[5 rows x 9 columns]"
            ]
          },
          "metadata": {},
          "execution_count": 5
        }
      ]
    },
    {
      "cell_type": "code",
      "metadata": {
        "colab": {
          "base_uri": "https://localhost:8080/"
        },
        "id": "ANG19eXEJa3E",
        "outputId": "932f6d0a-04b2-49f2-ba60-34c0f0acf762"
      },
      "source": [
        "sub_df.shape"
      ],
      "execution_count": 6,
      "outputs": [
        {
          "output_type": "execute_result",
          "data": {
            "text/plain": [
              "(13216, 9)"
            ]
          },
          "metadata": {},
          "execution_count": 6
        }
      ]
    },
    {
      "cell_type": "code",
      "metadata": {
        "colab": {
          "base_uri": "https://localhost:8080/"
        },
        "id": "JIqhGrCTHM4d",
        "outputId": "3078d29f-4cb1-41ab-df6f-48c440d085f9"
      },
      "source": [
        "sub_df = sub_df.loc[(sub_df['failureType'] != 'Donut') & (sub_df['failureType'] != 'Random')]\n",
        "sub_df.shape"
      ],
      "execution_count": 7,
      "outputs": [
        {
          "output_type": "execute_result",
          "data": {
            "text/plain": [
              "(13197, 9)"
            ]
          },
          "metadata": {},
          "execution_count": 7
        }
      ]
    },
    {
      "cell_type": "code",
      "metadata": {
        "colab": {
          "base_uri": "https://localhost:8080/"
        },
        "id": "8hNO4pUirskb",
        "outputId": "d6004623-6603-4d7d-f2a4-9504c050045b"
      },
      "source": [
        "# Plotting\n",
        "sw = np.ones((1, 32, 32))\n",
        "label = list()\n",
        "\n",
        "for i in tqdm(range(len(sub_df))):\n",
        "    if len(sub_df.iloc[i,:]['failureType']) == 0:\n",
        "        continue\n",
        "    sw = np.concatenate((sw, sub_df.iloc[i,:]['waferMap'].reshape(1, 32, 32)))\n",
        "    label.append(sub_df.iloc[i,:]['failureType'][0][0])\n",
        "x = sw[1:]\n",
        "y = np.array(label).reshape((-1,1))"
      ],
      "execution_count": null,
      "outputs": [
        {
          "output_type": "stream",
          "name": "stderr",
          "text": [
            " 78%|███████▊  | 10281/13197 [01:41<00:49, 58.74it/s]"
          ]
        }
      ]
    },
    {
      "cell_type": "code",
      "metadata": {
        "colab": {
          "base_uri": "https://localhost:8080/"
        },
        "id": "ifKCsp7Vrskc",
        "outputId": "011c03cc-a7cd-4255-f795-5ede8c5c78d6"
      },
      "source": [
        "labels = ['Center','Edge-Loc','Edge-Ring','Loc','Near-full','Scratch','none']\n",
        "for f in labels :\n",
        "    print('{} : {}'.format(f, len(y[y==f])))"
      ],
      "execution_count": null,
      "outputs": [
        {
          "output_type": "stream",
          "name": "stdout",
          "text": [
            "Center : 61\n",
            "Edge-Loc : 260\n",
            "Edge-Ring : 68\n",
            "Loc : 177\n",
            "Near-full : 32\n",
            "Scratch : 91\n",
            "none : 12508\n"
          ]
        }
      ]
    },
    {
      "cell_type": "code",
      "metadata": {
        "id": "ZNYxPN38rske"
      },
      "source": [
        "# Stratified train/test\n",
        "x_train, x_test2, y_train, y_test = train_test_split(x, y, test_size=0.4, random_state=123, stratify=y)"
      ],
      "execution_count": null,
      "outputs": []
    },
    {
      "cell_type": "code",
      "metadata": {
        "colab": {
          "base_uri": "https://localhost:8080/"
        },
        "id": "NNeQvMjnBe9t",
        "outputId": "b6041c1f-cbd0-4afe-a415-922faa2812a2"
      },
      "source": [
        "for f in labels :\n",
        "    print('{} : {}'.format(f, len(y_test[y_test==f])))"
      ],
      "execution_count": null,
      "outputs": [
        {
          "output_type": "stream",
          "name": "stdout",
          "text": [
            "Center : 24\n",
            "Edge-Loc : 104\n",
            "Edge-Ring : 27\n",
            "Loc : 71\n",
            "Near-full : 13\n",
            "Scratch : 37\n",
            "none : 5003\n"
          ]
        }
      ]
    },
    {
      "cell_type": "code",
      "metadata": {
        "colab": {
          "base_uri": "https://localhost:8080/"
        },
        "id": "eMGLehWmD6kg",
        "outputId": "c94b04ae-b7f6-4796-f6ae-7c4f059dddc2"
      },
      "source": [
        "print('{},{}'.format(x_train.shape, y_train.shape))"
      ],
      "execution_count": null,
      "outputs": [
        {
          "output_type": "stream",
          "name": "stdout",
          "text": [
            "(7918, 32, 32),(7918, 1)\n"
          ]
        }
      ]
    },
    {
      "cell_type": "markdown",
      "metadata": {
        "id": "XV4CLW_JJ0bM"
      },
      "source": [
        "# **Bernoulli Bootstrap with p=0.05**"
      ]
    },
    {
      "cell_type": "code",
      "metadata": {
        "colab": {
          "base_uri": "https://localhost:8080/",
          "height": 283
        },
        "id": "MSVfOPcmncaP",
        "outputId": "ca0a472b-93ea-4918-b821-0679dda67700"
      },
      "source": [
        "plt.imshow(x[0])\n",
        "print('Failure type : {} '.format(y[0]))"
      ],
      "execution_count": null,
      "outputs": [
        {
          "output_type": "stream",
          "name": "stdout",
          "text": [
            "Failure type : ['Edge-Loc'] \n"
          ]
        },
        {
          "output_type": "display_data",
          "data": {
            "image/png": "[encoded data removed]",
            "text/plain": [
              "<Figure size 432x288 with 1 Axes>"
            ]
          },
          "metadata": {
            "needs_background": "light"
          }
        }
      ]
    },
    {
      "cell_type": "code",
      "metadata": {
        "colab": {
          "base_uri": "https://localhost:8080/",
          "height": 283
        },
        "id": "N59xwVwpnCDH",
        "outputId": "fb0f538d-6049-42c9-ce62-7369b67f5729"
      },
      "source": [
        "plt.imshow(np.argmax(x_new[0],axis=2))\n",
        "print('Failure type : {} '.format(y[0]))"
      ],
      "execution_count": null,
      "outputs": [
        {
          "output_type": "stream",
          "name": "stdout",
          "text": [
            "Failure type : ['Edge-Loc'] \n"
          ]
        },
        {
          "output_type": "display_data",
          "data": {
            "image/png": "[encoded data removed]",
            "text/plain": [
              "<Figure size 432x288 with 1 Axes>"
            ]
          },
          "metadata": {
            "needs_background": "light"
          }
        }
      ]
    },
    {
      "cell_type": "code",
      "metadata": {
        "id": "N6p1UzUzOXWF"
      },
      "source": [
        "def aply(ary):\n",
        "  lst = [z+np.random.binomial(1,p=0.05) if z != 0 else z for z in ary]\n",
        "  lst = [1 if z == 3 else z for z in lst]\n",
        "  return lst"
      ],
      "execution_count": null,
      "outputs": []
    },
    {
      "cell_type": "code",
      "metadata": {
        "id": "N9634OsSsqIa"
      },
      "source": [
        "# Generate data\n",
        "def gen_data(wafer, label):\n",
        "    gen_x = []\n",
        "    for i in tqdm(range((7000//len(wafer)) + 1)):\n",
        "      for lst in wafer:\n",
        "        gen_x.append(np.array(list(map(aply, lst))))\n",
        "    # gen_x = np.concatenate((wafer, temp))   \n",
        "    gen_y = np.full((len(gen_x), 1), label)\n",
        "    \n",
        "    return gen_x, gen_y"
      ],
      "execution_count": null,
      "outputs": []
    },
    {
      "cell_type": "code",
      "metadata": {
        "id": "hfFIUKDPunY-"
      },
      "source": [
        "x_train_org = x_train.copy()\n",
        "y_train_org = y_train.copy()"
      ],
      "execution_count": null,
      "outputs": []
    },
    {
      "cell_type": "code",
      "metadata": {
        "colab": {
          "base_uri": "https://localhost:8080/"
        },
        "id": "hkrNLQhGsqIb",
        "outputId": "bc6c8f08-4795-4bf0-d30b-b683aaf5c034"
      },
      "source": [
        "for f in labels :  \n",
        "    if f == 'none' : \n",
        "        continue    \n",
        "    g_x, g_y = gen_data(x_train[np.where(y_train==f)[0]], f)\n",
        "    x_train = np.concatenate((x_train, g_x))\n",
        "    y_train = np.concatenate((y_train, g_y))"
      ],
      "execution_count": null,
      "outputs": [
        {
          "output_type": "stream",
          "name": "stderr",
          "text": [
            "100%|██████████| 109/109 [00:16<00:00,  6.57it/s]\n",
            "100%|██████████| 26/26 [00:15<00:00,  1.64it/s]\n",
            "100%|██████████| 98/98 [00:15<00:00,  6.15it/s]\n",
            "100%|██████████| 38/38 [00:15<00:00,  2.43it/s]\n",
            "100%|██████████| 211/211 [00:16<00:00, 13.15it/s]\n",
            "100%|██████████| 75/75 [00:16<00:00,  4.61it/s]\n"
          ]
        }
      ]
    },
    {
      "cell_type": "code",
      "metadata": {
        "colab": {
          "base_uri": "https://localhost:8080/"
        },
        "id": "cmNdCn1-_axY",
        "outputId": "11759e8a-0e08-42e7-fea3-03f29c34cd11"
      },
      "source": [
        "print('After Generate new x shape : {}, new y shape : {}'.format(x_train.shape, y_train.shape))"
      ],
      "execution_count": null,
      "outputs": [
        {
          "output_type": "stream",
          "name": "stdout",
          "text": [
            "After Generate new x shape : (32112, 32, 32), new y shape : (32112, 1)\n"
          ]
        }
      ]
    },
    {
      "cell_type": "code",
      "metadata": {
        "colab": {
          "base_uri": "https://localhost:8080/"
        },
        "id": "N4KkWP_h_axY",
        "outputId": "4ee6ec4e-e361-4f82-8f48-dc526c9dc272"
      },
      "source": [
        "for f in labels :\n",
        "    print('{} : {}'.format(f, len(y_train[y_train==f]))) "
      ],
      "execution_count": null,
      "outputs": [
        {
          "output_type": "stream",
          "name": "stdout",
          "text": [
            "Center : 4070\n",
            "Edge-Loc : 4212\n",
            "Edge-Ring : 4059\n",
            "Loc : 4134\n",
            "Near-full : 4028\n",
            "Scratch : 4104\n",
            "none : 7505\n"
          ]
        }
      ]
    },
    {
      "cell_type": "code",
      "metadata": {
        "id": "tFKIG9ugAKKY"
      },
      "source": [
        "def shuffle_two(a, b):\n",
        "    assert len(a) == len(b)\n",
        "    p = np.random.permutation(len(a))\n",
        "    return a[p], b[p]"
      ],
      "execution_count": null,
      "outputs": []
    },
    {
      "cell_type": "code",
      "metadata": {
        "tags": [],
        "id": "vCr2KPxyAKKZ"
      },
      "source": [
        "x_train, y_train = shuffle_two(x_train, y_train)"
      ],
      "execution_count": null,
      "outputs": []
    },
    {
      "cell_type": "code",
      "metadata": {
        "colab": {
          "base_uri": "https://localhost:8080/",
          "height": 283
        },
        "id": "81Al9DygAbll",
        "outputId": "856012ac-3747-4ef2-f377-f998f19660a4"
      },
      "source": [
        "plt.imshow(x_train[442])\n",
        "print('Failure type : {} '.format(y_train[442]))"
      ],
      "execution_count": null,
      "outputs": [
        {
          "output_type": "stream",
          "name": "stdout",
          "text": [
            "Failure type : ['Edge-Ring'] \n"
          ]
        },
        {
          "output_type": "display_data",
          "data": {
            "image/png": "[encoded data removed]",
            "text/plain": [
              "<Figure size 432x288 with 1 Axes>"
            ]
          },
          "metadata": {
            "needs_background": "light"
          }
        }
      ]
    },
    {
      "cell_type": "code",
      "metadata": {
        "colab": {
          "base_uri": "https://localhost:8080/"
        },
        "id": "JBXnpuejrskd",
        "outputId": "c3efb58f-070a-4af3-c741-6d80f12843bd"
      },
      "source": [
        "# For CNN models\n",
        "x_train = np.zeros((len(x_new), 32, 32, 3))\n",
        "for w in tqdm(range(len(x_new))):\n",
        "    for i in range(32):\n",
        "        for j in range(32):\n",
        "            x_new[w, i, j, int(x[w, i, j])] = 1\n",
        "\n",
        "x_test = np.zeros((len(x_test2), 32, 32, 3))\n",
        "for w in tqdm(range(len(x_test2))):\n",
        "    for i in range(32):\n",
        "        for j in range(32):\n",
        "            x_test2[w, i, j, int(x[w, i, j])] = 1\n",
        "\n",
        "x_train.shape, x_test.shape"
      ],
      "execution_count": null,
      "outputs": [
        {
          "output_type": "stream",
          "name": "stderr",
          "text": [
            "100%|██████████| 13197/13197 [00:10<00:00, 1214.73it/s]\n"
          ]
        },
        {
          "output_type": "execute_result",
          "data": {
            "text/plain": [
              "(13197, 32, 32, 3)"
            ]
          },
          "metadata": {},
          "execution_count": 63
        }
      ]
    },
    {
      "cell_type": "code",
      "metadata": {
        "id": "Dd9NnIL9IBlG"
      },
      "source": [
        ""
      ],
      "execution_count": null,
      "outputs": []
    },
    {
      "cell_type": "markdown",
      "metadata": {
        "id": "zQuODoZeZ1BG"
      },
      "source": [
        "# **Convolutional Autoencoder**"
      ]
    },
    {
      "cell_type": "code",
      "metadata": {
        "id": "coIkyKMmgdyB"
      },
      "source": [
        "def encoder(input_img):\n",
        "    #encoder\n",
        "    #input = 32 x 32 x 3 (wide and thin)\n",
        "    conv1 = Conv2D(32, (3, 3), activation='relu', padding='same')(input_img)\n",
        "    pool1 = MaxPooling2D(padding='same')(conv1)\n",
        "    conv2 = Conv2D(64, (3, 3), activation='relu', padding='same')(pool1)\n",
        "    conv2 = BatchNormalization()(conv2)\n",
        "    pool2 = MaxPooling2D(padding='same')(conv2) # 8 x 8 x 64\n",
        "    return pool2\n",
        "\n",
        "def decoder(conv4):\n",
        "    #decoder\n",
        "    conv5 = Conv2D(64, (3, 3), activation='relu', padding='same')(conv4) # 8 x 8 x 64\n",
        "    up1 = UpSampling2D()(conv5) # 16 x 16 x 64\n",
        "    conv6 = Conv2D(32, (3, 3), activation='relu', padding='same')(up1)\n",
        "    conv6 = BatchNormalization()(conv6)\n",
        "    up2 = UpSampling2D()(conv6)\n",
        "    decoded = Conv2D(3, (3, 3), activation='sigmoid', padding='same')(up2) # 32 x 32 x 1\n",
        "    return decoded"
      ],
      "execution_count": null,
      "outputs": []
    },
    {
      "cell_type": "code",
      "metadata": {
        "id": "9UvWhykHW7UP"
      },
      "source": [
        "input_shape = Input(shape=(32, 32, 3))"
      ],
      "execution_count": null,
      "outputs": []
    },
    {
      "cell_type": "code",
      "metadata": {
        "colab": {
          "base_uri": "https://localhost:8080/"
        },
        "id": "kbj3Vaupik_L",
        "outputId": "c62bdb80-4c75-4601-e8f3-5cd52cf7fa92"
      },
      "source": [
        "AEncoder = Model(input_shape, decoder(encoder(input_shape)))\n",
        "AEncoder.summary()\n",
        "AEncoder.compile(loss='mse', optimizer='adam')\n",
        "AEncoder.fit(x_train, x_train, epochs=10, batch_size=64, verbose=2)"
      ],
      "execution_count": null,
      "outputs": [
        {
          "output_type": "stream",
          "name": "stdout",
          "text": [
            "Model: \"model_2\"\n",
            "_________________________________________________________________\n",
            "Layer (type)                 Output Shape              Param #   \n",
            "=================================================================\n",
            "input_3 (InputLayer)         [(None, 32, 32, 3)]       0         \n",
            "_________________________________________________________________\n",
            "conv2d_27 (Conv2D)           (None, 32, 32, 32)        896       \n",
            "_________________________________________________________________\n",
            "max_pooling2d_11 (MaxPooling (None, 16, 16, 32)        0         \n",
            "_________________________________________________________________\n",
            "conv2d_28 (Conv2D)           (None, 16, 16, 64)        18496     \n",
            "_________________________________________________________________\n",
            "batch_normalization_10 (Batc (None, 16, 16, 64)        256       \n",
            "_________________________________________________________________\n",
            "max_pooling2d_12 (MaxPooling (None, 8, 8, 64)          0         \n",
            "_________________________________________________________________\n",
            "conv2d_29 (Conv2D)           (None, 8, 8, 64)          36928     \n",
            "_________________________________________________________________\n",
            "up_sampling2d_2 (UpSampling2 (None, 16, 16, 64)        0         \n",
            "_________________________________________________________________\n",
            "conv2d_30 (Conv2D)           (None, 16, 16, 32)        18464     \n",
            "_________________________________________________________________\n",
            "batch_normalization_11 (Batc (None, 16, 16, 32)        128       \n",
            "_________________________________________________________________\n",
            "up_sampling2d_3 (UpSampling2 (None, 32, 32, 32)        0         \n",
            "_________________________________________________________________\n",
            "conv2d_31 (Conv2D)           (None, 32, 32, 3)         867       \n",
            "=================================================================\n",
            "Total params: 76,035\n",
            "Trainable params: 75,843\n",
            "Non-trainable params: 192\n",
            "_________________________________________________________________\n",
            "Epoch 1/10\n",
            "77/77 - 2s - loss: 0.0937\n",
            "Epoch 2/10\n",
            "77/77 - 1s - loss: 0.0548\n",
            "Epoch 3/10\n",
            "77/77 - 1s - loss: 0.0484\n",
            "Epoch 4/10\n",
            "77/77 - 1s - loss: 0.0432\n",
            "Epoch 5/10\n",
            "77/77 - 1s - loss: 0.0367\n",
            "Epoch 6/10\n",
            "77/77 - 1s - loss: 0.0307\n",
            "Epoch 7/10\n",
            "77/77 - 1s - loss: 0.0271\n",
            "Epoch 8/10\n",
            "77/77 - 1s - loss: 0.0241\n",
            "Epoch 9/10\n",
            "77/77 - 1s - loss: 0.0216\n",
            "Epoch 10/10\n",
            "77/77 - 1s - loss: 0.0197\n"
          ]
        },
        {
          "output_type": "execute_result",
          "data": {
            "text/plain": [
              "<keras.callbacks.History at 0x7efe0382ef10>"
            ]
          },
          "metadata": {},
          "execution_count": 73
        }
      ]
    },
    {
      "cell_type": "code",
      "metadata": {
        "colab": {
          "base_uri": "https://localhost:8080/"
        },
        "id": "79HukY1PmBPL",
        "outputId": "0a0186c4-0b52-477a-b353-57d132ec337a"
      },
      "source": [
        "np.where(y_test=='Edge-Loc')"
      ],
      "execution_count": null,
      "outputs": [
        {
          "output_type": "execute_result",
          "data": {
            "text/plain": [
              "(array([ 210,  275,  399,  535,  748,  752,  851,  883,  887,  997, 1007,\n",
              "        1068, 1084, 1111, 1190, 1272, 1353, 1364, 1460, 1585, 1622, 1643,\n",
              "        1775, 1794, 1845, 1855, 1936, 2043, 2081, 2089, 2100, 2120, 2219,\n",
              "        2225, 2305, 2533, 2619, 2636, 2680, 2805, 2817, 2820, 2862, 2872,\n",
              "        2913, 2929, 2977, 3064, 3077, 3104, 3111, 3153]),\n",
              " array([0, 0, 0, 0, 0, 0, 0, 0, 0, 0, 0, 0, 0, 0, 0, 0, 0, 0, 0, 0, 0, 0,\n",
              "        0, 0, 0, 0, 0, 0, 0, 0, 0, 0, 0, 0, 0, 0, 0, 0, 0, 0, 0, 0, 0, 0,\n",
              "        0, 0, 0, 0, 0, 0, 0, 0]))"
            ]
          },
          "metadata": {},
          "execution_count": 74
        }
      ]
    },
    {
      "cell_type": "code",
      "metadata": {
        "colab": {
          "base_uri": "https://localhost:8080/",
          "height": 284
        },
        "id": "IDjuof5DZOn6",
        "outputId": "03a7fda1-3668-4b26-a6fb-41ee11cf04bd"
      },
      "source": [
        "plt.imshow(np.argmax(x_test[228], axis=2))"
      ],
      "execution_count": null,
      "outputs": [
        {
          "output_type": "execute_result",
          "data": {
            "text/plain": [
              "<matplotlib.image.AxesImage at 0x7efdfaf2c590>"
            ]
          },
          "metadata": {},
          "execution_count": 75
        },
        {
          "output_type": "display_data",
          "data": {
            "image/png": "[encoded data removed]",
            "text/plain": [
              "<Figure size 432x288 with 1 Axes>"
            ]
          },
          "metadata": {
            "needs_background": "light"
          }
        }
      ]
    },
    {
      "cell_type": "code",
      "metadata": {
        "colab": {
          "base_uri": "https://localhost:8080/",
          "height": 284
        },
        "id": "F4Nz58qtj-k9",
        "outputId": "0d8274ae-95e3-4fdf-ff57-823c32731ba6"
      },
      "source": [
        "gen_x = np.argmax(AEncoder.predict(x_test), axis=3)\n",
        "plt.imshow(gen_x[228])"
      ],
      "execution_count": null,
      "outputs": [
        {
          "output_type": "execute_result",
          "data": {
            "text/plain": [
              "<matplotlib.image.AxesImage at 0x7efe6133f590>"
            ]
          },
          "metadata": {},
          "execution_count": 76
        },
        {
          "output_type": "display_data",
          "data": {
            "image/png": "[encoded data removed]",
            "text/plain": [
              "<Figure size 432x288 with 1 Axes>"
            ]
          },
          "metadata": {
            "needs_background": "light"
          }
        }
      ]
    },
    {
      "cell_type": "code",
      "metadata": {
        "colab": {
          "base_uri": "https://localhost:8080/"
        },
        "id": "oaxu1HSE8bUL",
        "outputId": "d7a0a638-f8db-4b0f-f9b7-9e2ec6a6135d"
      },
      "source": [
        "x_train[0].shape"
      ],
      "execution_count": null,
      "outputs": [
        {
          "output_type": "execute_result",
          "data": {
            "text/plain": [
              "(32, 32, 3)"
            ]
          },
          "metadata": {},
          "execution_count": 77
        }
      ]
    },
    {
      "cell_type": "code",
      "metadata": {
        "colab": {
          "base_uri": "https://localhost:8080/"
        },
        "id": "4Q4Yt22_9wqM",
        "outputId": "952e3b9f-6ff1-43d2-b634-df02b33d1b0e"
      },
      "source": [
        "np.where(y_train=='Edge-Loc')"
      ],
      "execution_count": null,
      "outputs": [
        {
          "output_type": "execute_result",
          "data": {
            "text/plain": [
              "(array([   5,   18,   29,   56,  107,  143,  264,  328,  766,  768,  778,\n",
              "         856,  908,  983, 1027, 1032, 1065, 1087, 1089, 1225, 1242, 1391,\n",
              "        1505, 1554, 1592, 1661, 1852, 1856, 1876, 1967, 2017, 2131, 2133,\n",
              "        2264, 2360, 2440, 2541, 2645, 2780, 2883, 2927, 2954, 2955, 2972,\n",
              "        3117, 3183, 3314, 3324, 3474, 3479, 3525, 3536, 3556, 3566, 3591,\n",
              "        3627, 3697, 3836, 3845, 3854, 4029, 4034, 4094, 4176, 4246, 4266,\n",
              "        4311, 4326, 4334, 4343, 4349, 4371, 4474, 4490, 4589, 4601, 4769,\n",
              "        4800]),\n",
              " array([0, 0, 0, 0, 0, 0, 0, 0, 0, 0, 0, 0, 0, 0, 0, 0, 0, 0, 0, 0, 0, 0,\n",
              "        0, 0, 0, 0, 0, 0, 0, 0, 0, 0, 0, 0, 0, 0, 0, 0, 0, 0, 0, 0, 0, 0,\n",
              "        0, 0, 0, 0, 0, 0, 0, 0, 0, 0, 0, 0, 0, 0, 0, 0, 0, 0, 0, 0, 0, 0,\n",
              "        0, 0, 0, 0, 0, 0, 0, 0, 0, 0, 0, 0]))"
            ]
          },
          "metadata": {},
          "execution_count": 78
        }
      ]
    },
    {
      "cell_type": "code",
      "metadata": {
        "colab": {
          "base_uri": "https://localhost:8080/",
          "height": 284
        },
        "id": "WZ_laKW19nS9",
        "outputId": "6b06f7a9-4470-44de-8b06-2d420e4f0a93"
      },
      "source": [
        "plt.imshow(np.argmax(x_train[7], axis=2))"
      ],
      "execution_count": null,
      "outputs": [
        {
          "output_type": "execute_result",
          "data": {
            "text/plain": [
              "<matplotlib.image.AxesImage at 0x7efe0603cad0>"
            ]
          },
          "metadata": {},
          "execution_count": 79
        },
        {
          "output_type": "display_data",
          "data": {
            "image/png": "[encoded data removed]",
            "text/plain": [
              "<Figure size 432x288 with 1 Axes>"
            ]
          },
          "metadata": {
            "needs_background": "light"
          }
        }
      ]
    },
    {
      "cell_type": "code",
      "metadata": {
        "colab": {
          "base_uri": "https://localhost:8080/",
          "height": 284
        },
        "id": "az6sIdFR8VUz",
        "outputId": "2e980719-9222-41af-d515-7778cd475ed0"
      },
      "source": [
        "gen_x = np.argmax(AEncoder.predict(x_train + np.random.normal(loc=0, scale=0.1, size = (4873, 32, 32, 3))), axis=3)\n",
        "plt.imshow(gen_x[7])"
      ],
      "execution_count": null,
      "outputs": [
        {
          "output_type": "execute_result",
          "data": {
            "text/plain": [
              "<matplotlib.image.AxesImage at 0x7efead633f90>"
            ]
          },
          "metadata": {},
          "execution_count": 25
        },
        {
          "output_type": "display_data",
          "data": {
            "image/png": "[encoded data removed]",
            "text/plain": [
              "<Figure size 432x288 with 1 Axes>"
            ]
          },
          "metadata": {
            "needs_background": "light"
          }
        }
      ]
    },
    {
      "cell_type": "code",
      "metadata": {
        "id": "0dpCKfwHtQ2w"
      },
      "source": [
        "# Generate data\n",
        "def gen_data(wafer, label):\n",
        "    gen_x = np.zeros((1, 32, 32, 3))\n",
        "    \n",
        "    for i in tqdm(range((4000//len(wafer)) + 1)):\n",
        "        noised_encoded_x = wafer + np.random.normal(loc=0, scale=0.1, size = (len(wafer), 32, 32, 3))  \n",
        "        noised_gen_x = AEncoder.predict(noised_encoded_x)\n",
        "        gen_x = np.concatenate((gen_x, noised_gen_x), axis=0)\n",
        "\n",
        "    gen_y = np.full((len(gen_x), 1), label)\n",
        "    \n",
        "    return gen_x[1:], gen_y[1:]"
      ],
      "execution_count": null,
      "outputs": []
    },
    {
      "cell_type": "code",
      "metadata": {
        "id": "uqnVi_MaDRIv",
        "colab": {
          "base_uri": "https://localhost:8080/"
        },
        "outputId": "2a538e58-b77a-4610-e50c-bc12b86409b5"
      },
      "source": [
        "x_train_org = x_train.copy()\n",
        "y_train_org = y_train.copy()\n",
        "for f in labels :  \n",
        "    if f == 'none' : \n",
        "        continue    \n",
        "    gen_x, gen_y = gen_data(x_train[np.where(y_train==f)[0]], f)\n",
        "    x_train = np.concatenate((x_train, gen_x), axis=0)\n",
        "    y_train = np.concatenate((y_train, gen_y))"
      ],
      "execution_count": null,
      "outputs": [
        {
          "output_type": "stream",
          "name": "stderr",
          "text": [
            "100%|██████████| 334/334 [00:22<00:00, 15.04it/s]\n",
            "100%|██████████| 52/52 [00:04<00:00, 11.85it/s]\n",
            "100%|██████████| 122/122 [00:08<00:00, 13.93it/s]\n",
            "100%|██████████| 63/63 [00:04<00:00, 13.25it/s]\n",
            "100%|██████████| 236/236 [00:16<00:00, 14.48it/s]\n",
            "100%|██████████| 143/143 [00:10<00:00, 13.69it/s]\n"
          ]
        }
      ]
    },
    {
      "cell_type": "code",
      "metadata": {
        "colab": {
          "base_uri": "https://localhost:8080/"
        },
        "id": "rIumeWXntC54",
        "outputId": "8c668d63-4202-471d-f964-5639eda586b3"
      },
      "source": [
        "np.where(y_train=='Edge-Ring')"
      ],
      "execution_count": null,
      "outputs": [
        {
          "output_type": "execute_result",
          "data": {
            "text/plain": [
              "(array([   24,   182,   278, ..., 16960, 16961, 16962]),\n",
              " array([0, 0, 0, ..., 0, 0, 0]))"
            ]
          },
          "metadata": {},
          "execution_count": 29
        }
      ]
    },
    {
      "cell_type": "code",
      "metadata": {
        "colab": {
          "base_uri": "https://localhost:8080/",
          "height": 284
        },
        "id": "m1Gy5wGrtC55",
        "outputId": "058c5933-2a1c-4285-d8ea-c01ba0529288"
      },
      "source": [
        "plt.imshow(np.argmax(x_train[16962], axis=2))"
      ],
      "execution_count": null,
      "outputs": [
        {
          "output_type": "execute_result",
          "data": {
            "text/plain": [
              "<matplotlib.image.AxesImage at 0x7efead8cf050>"
            ]
          },
          "metadata": {},
          "execution_count": 30
        },
        {
          "output_type": "display_data",
          "data": {
            "image/png": "[encoded data removed]",
            "text/plain": [
              "<Figure size 432x288 with 1 Axes>"
            ]
          },
          "metadata": {
            "needs_background": "light"
          }
        }
      ]
    },
    {
      "cell_type": "code",
      "metadata": {
        "colab": {
          "base_uri": "https://localhost:8080/"
        },
        "id": "Rni7-pynDRMg",
        "outputId": "384614f7-b641-48e2-9d26-643cb6ca9f2c"
      },
      "source": [
        "print('After Generate new x shape : {}, new y shape : {}'.format(x_train.shape, y_train.shape))"
      ],
      "execution_count": null,
      "outputs": [
        {
          "output_type": "stream",
          "name": "stdout",
          "text": [
            "After Generate new x shape : (29004, 32, 32, 3), new y shape : (29004, 1)\n"
          ]
        }
      ]
    },
    {
      "cell_type": "code",
      "metadata": {
        "colab": {
          "base_uri": "https://localhost:8080/"
        },
        "id": "ps4cryjhDROG",
        "outputId": "f0ff64f0-07b0-4935-8c7a-828f5de8bde6"
      },
      "source": [
        "for f in labels :\n",
        "    print('{} : {}'.format(f, len(y_train[y_train==f]))) "
      ],
      "execution_count": null,
      "outputs": [
        {
          "output_type": "stream",
          "name": "stdout",
          "text": [
            "Center : 4020\n",
            "Edge-Loc : 4134\n",
            "Edge-Ring : 4059\n",
            "Loc : 4096\n",
            "Near-full : 4029\n",
            "Scratch : 4032\n",
            "none : 4634\n"
          ]
        }
      ]
    },
    {
      "cell_type": "code",
      "metadata": {
        "id": "_euE-5uXtC55"
      },
      "source": [
        "def shuffle_two(a, b):\n",
        "    assert len(a) == len(b)\n",
        "    p = np.random.permutation(len(a))\n",
        "    return a[p], b[p]"
      ],
      "execution_count": null,
      "outputs": []
    },
    {
      "cell_type": "code",
      "metadata": {
        "tags": [],
        "id": "Y8rnLfgZtC56"
      },
      "source": [
        "x_train, y_train = shuffle_two(x_train, y_train)"
      ],
      "execution_count": null,
      "outputs": []
    },
    {
      "cell_type": "code",
      "metadata": {
        "id": "2ZvLlu4qtC56"
      },
      "source": [
        "x_test, y_test = shuffle_two(x_test, y_test)"
      ],
      "execution_count": null,
      "outputs": []
    },
    {
      "cell_type": "code",
      "metadata": {
        "colab": {
          "base_uri": "https://localhost:8080/"
        },
        "id": "BVbzK4dMtC56",
        "outputId": "49d3dafb-ab01-4b94-f4b4-05ba999cccdb"
      },
      "source": [
        "np.where(y_train=='Edge-Ring')"
      ],
      "execution_count": null,
      "outputs": [
        {
          "output_type": "execute_result",
          "data": {
            "text/plain": [
              "(array([    7,    14,    16, ..., 32998, 33011, 33013]),\n",
              " array([0, 0, 0, ..., 0, 0, 0]))"
            ]
          },
          "metadata": {},
          "execution_count": 36
        }
      ]
    },
    {
      "cell_type": "code",
      "metadata": {
        "colab": {
          "base_uri": "https://localhost:8080/",
          "height": 284
        },
        "id": "BVCjFbRXtC56",
        "outputId": "f66647af-35e8-412a-cd82-9756b2936e75"
      },
      "source": [
        "plt.imshow(np.argmax(x_train[7], axis=2))"
      ],
      "execution_count": null,
      "outputs": [
        {
          "output_type": "execute_result",
          "data": {
            "text/plain": [
              "<matplotlib.image.AxesImage at 0x7efead9adcd0>"
            ]
          },
          "metadata": {},
          "execution_count": 38
        },
        {
          "output_type": "display_data",
          "data": {
            "image/png": "[encoded data removed]",
            "text/plain": [
              "<Figure size 432x288 with 1 Axes>"
            ]
          },
          "metadata": {
            "needs_background": "light"
          }
        }
      ]
    },
    {
      "cell_type": "markdown",
      "metadata": {
        "id": "wPf8gMFCDhOU"
      },
      "source": [
        "# **Apply CNN**"
      ]
    },
    {
      "cell_type": "code",
      "metadata": {
        "colab": {
          "base_uri": "https://localhost:8080/"
        },
        "id": "Wyj-hqCIQh9Y",
        "outputId": "7e1cdef8-cbc4-45b1-8dbd-7e34211ca63b"
      },
      "source": [
        "y_OH = OneHotEncoder()\n",
        "y_train_ohe = y_OH.fit_transform(y_train)\n",
        "print(y_OH.get_feature_names())\n",
        "y_train_ohe = y_train_ohe.toarray()\n",
        "print(y_train_ohe[291])"
      ],
      "execution_count": null,
      "outputs": [
        {
          "output_type": "stream",
          "name": "stdout",
          "text": [
            "['x0_Center' 'x0_Edge-Loc' 'x0_Edge-Ring' 'x0_Loc' 'x0_Near-full'\n",
            " 'x0_Scratch' 'x0_none']\n",
            "[0. 0. 0. 0. 0. 0. 1.]\n"
          ]
        }
      ]
    },
    {
      "cell_type": "code",
      "metadata": {
        "colab": {
          "base_uri": "https://localhost:8080/"
        },
        "id": "SSTwQa8kFb9P",
        "outputId": "1f2b5548-2ef5-4a8f-9500-3043eb7f07e6"
      },
      "source": [
        "y_OH2 = OneHotEncoder()\n",
        "y_test_ohe = y_OH2.fit_transform(y_test)\n",
        "print(y_OH2.get_feature_names())\n",
        "y_test_ohe = y_test_ohe.toarray()\n",
        "print(y_test_ohe[133])"
      ],
      "execution_count": null,
      "outputs": [
        {
          "output_type": "stream",
          "name": "stdout",
          "text": [
            "['x0_Center' 'x0_Edge-Loc' 'x0_Edge-Ring' 'x0_Loc' 'x0_Near-full'\n",
            " 'x0_Scratch' 'x0_none']\n",
            "[0. 0. 0. 0. 0. 0. 1.]\n"
          ]
        }
      ]
    },
    {
      "cell_type": "code",
      "metadata": {
        "colab": {
          "base_uri": "https://localhost:8080/"
        },
        "id": "OBse9eM41qPT",
        "outputId": "91a7b11a-529a-4e9e-8925-fdadd9d1bc4a"
      },
      "source": [
        "print(x_train.shape, y_train_ohe.shape)"
      ],
      "execution_count": null,
      "outputs": [
        {
          "output_type": "stream",
          "name": "stdout",
          "text": [
            "(29004, 32, 32, 3) (29004, 7)\n"
          ]
        }
      ]
    },
    {
      "cell_type": "code",
      "metadata": {
        "id": "cXTy0HHr8rbk"
      },
      "source": [
        "data_name = 'wm811k'\n",
        "number = '2'\n",
        "batch_sizes = 64\n",
        "weight_decay = 1e-4\n",
        "epochs = 50\n",
        "model = \"AlexNet\"\n",
        "dir = os.path.join(os.getcwd(),data_name)\n",
        "os.makedirs(os.path.join(dir,'model_output',number,model), exist_ok=True)\n",
        "os.makedirs(os.path.join(dir,'train_valid_output',number), exist_ok=True)"
      ],
      "execution_count": null,
      "outputs": []
    },
    {
      "cell_type": "code",
      "metadata": {
        "id": "vsoPTiehYt1X"
      },
      "source": [
        "def lr_schedule(epoch):\n",
        "    lr = 3e-4\n",
        "    if epoch < 10:\n",
        "        lr = lr\n",
        "    elif epoch < 20 :\n",
        "        lr = lr * 0.1\n",
        "    else:\n",
        "        lr = lr * 0.01\n",
        "    print('Learning rate: ', lr)\n",
        "    return lr"
      ],
      "execution_count": null,
      "outputs": []
    },
    {
      "cell_type": "code",
      "metadata": {
        "id": "ELLd_xL6PKIq"
      },
      "source": [
        "import itertools\n",
        "from sklearn.metrics import confusion_matrix\n",
        "\n",
        "def plot_confusion_matrix(cm, normalize=False, title='Confusion matrix', cmap=plt.cm.Blues):\n",
        "    \"\"\"\n",
        "    This function prints and plots the confusion matrix.\n",
        "    Normalization can be applied by setting `normalize=True`.\n",
        "    \"\"\"\n",
        "    if normalize:\n",
        "        cm = cm.astype('float') / cm.sum(axis=1)[:, np.newaxis]\n",
        "        print(\"Normalized confusion matrix\")\n",
        "    else:\n",
        "        print('Confusion matrix, without normalization')\n",
        "\n",
        "    #print(cm)\n",
        "\n",
        "    plt.imshow(cm, interpolation='nearest', cmap=cmap)\n",
        "    plt.title(title)\n",
        "    plt.colorbar()\n",
        "\n",
        "    fmt = '.2f' if normalize else 'd'\n",
        "    thresh = cm.max() / 2.\n",
        "    for i, j in itertools.product(range(cm.shape[0]), range(cm.shape[1])):\n",
        "        plt.text(j, i, format(cm[i, j], fmt),\n",
        "                 horizontalalignment=\"center\",\n",
        "                 color=\"white\" if cm[i, j] > thresh else \"black\")\n",
        "\n",
        "    plt.tight_layout()\n",
        "    plt.ylabel('True label')\n",
        "    plt.xlabel('Predicted label') "
      ],
      "execution_count": null,
      "outputs": []
    },
    {
      "cell_type": "code",
      "metadata": {
        "id": "Ic6h4jVycJJv"
      },
      "source": [
        "def plot_confusion_matrix2(y_true, y_pred, classes,\n",
        "                          normalize=False,\n",
        "                          title=None,\n",
        "                          cmap=plt.cm.Blues):\n",
        "    \"\"\"\n",
        "    This function prints and plots the confusion matrix.\n",
        "    Normalization can be applied by setting `normalize=True`.\n",
        "    \"\"\"\n",
        "    if not title:\n",
        "        if normalize:\n",
        "            title = 'Normalized confusion matrix'\n",
        "        else:\n",
        "            title = 'Confusion matrix, without normalization'\n",
        "\n",
        "    # Compute confusion matrix\n",
        "    cm = confusion_matrix(y_true, y_pred)\n",
        "    # Only use the labels that appear in the data\n",
        "    #classes = classes[unique_labels(y_true, y_pred)]\n",
        "    if normalize:\n",
        "        cm = cm.astype('float') / cm.sum(axis=1)[:, np.newaxis]\n",
        "        print(\"Normalized confusion matrix\")\n",
        "    else:\n",
        "        print('Confusion matrix, without normalization')\n",
        "\n",
        "    # print(cm)\n",
        "\n",
        "    fig, ax = plt.subplots()\n",
        "    im = ax.imshow(cm, interpolation='nearest', cmap=cmap)\n",
        "    ax.figure.colorbar(im, ax=ax)\n",
        "    # We want to show all ticks...\n",
        "    ax.set(xticks=np.arange(cm.shape[1]),\n",
        "           yticks=np.arange(cm.shape[0]),\n",
        "           # ... and label them with the respective list entries\n",
        "           xticklabels=classes, yticklabels=classes,\n",
        "           title=title,\n",
        "           ylabel='True label',\n",
        "           xlabel='Predicted label')\n",
        "\n",
        "    # Rotate the tick labels and set their alignment.\n",
        "    plt.setp(ax.get_xticklabels(), rotation=45, ha=\"right\",\n",
        "             rotation_mode=\"anchor\")\n",
        "\n",
        "    # Loop over data dimensions and create text annotations.\n",
        "    fmt = '.2f' if normalize else 'd'\n",
        "    thresh = cm.max() / 2.\n",
        "    for i in range(cm.shape[0]):\n",
        "        for j in range(cm.shape[1]):\n",
        "            ax.text(j, i, format(cm[i, j], fmt),\n",
        "                    ha=\"center\", va=\"center\",\n",
        "                    color=\"white\" if cm[i, j] > thresh else \"black\")\n",
        "    fig.tight_layout()\n",
        "    return ax"
      ],
      "execution_count": null,
      "outputs": []
    },
    {
      "cell_type": "markdown",
      "metadata": {
        "id": "EZBFW51bDo2h"
      },
      "source": [
        "# **AlexNet**"
      ]
    },
    {
      "cell_type": "code",
      "metadata": {
        "id": "kMXszN2s7nCI"
      },
      "source": [
        "# 참고 : https://github.com/eweill/keras-deepcv/blob/master/models/classification/alexnet.py\n",
        "\n",
        "def Alexnet(img_shape=(224, 224, 3), n_classes=10, l2_reg=0., weights=None):\n",
        "\n",
        "\t# Initialize model\n",
        "\talexnet = Sequential()\n",
        "\n",
        "\t# Layer 1\n",
        "\talexnet.add(Conv2D(96, (11, 11), input_shape=img_shape,\n",
        "\t\tpadding='same', kernel_regularizer=l2(l2_reg)))\n",
        "\talexnet.add(BatchNormalization())\n",
        "\talexnet.add(Activation('relu'))\n",
        "\talexnet.add(MaxPooling2D(pool_size=(2, 2)))\n",
        "\n",
        "\t# Layer 2\n",
        "\talexnet.add(Conv2D(256, (5, 5), padding='same'))\n",
        "\talexnet.add(BatchNormalization())\n",
        "\talexnet.add(Activation('relu'))\n",
        "\talexnet.add(MaxPooling2D(pool_size=(2, 2)))\n",
        "\n",
        "\t# Layer 3\n",
        "\talexnet.add(ZeroPadding2D((1, 1)))\n",
        "\talexnet.add(Conv2D(512, (3, 3), padding='same'))\n",
        "\talexnet.add(BatchNormalization())\n",
        "\talexnet.add(Activation('relu'))\n",
        "\talexnet.add(MaxPooling2D(pool_size=(2, 2)))\n",
        "\n",
        "\t# Layer 4\n",
        "\talexnet.add(ZeroPadding2D((1, 1)))\n",
        "\talexnet.add(Conv2D(1024, (3, 3), padding='same'))\n",
        "\talexnet.add(BatchNormalization())\n",
        "\talexnet.add(Activation('relu'))\n",
        "\n",
        "\t# Layer 5\n",
        "\talexnet.add(ZeroPadding2D((1, 1)))\n",
        "\talexnet.add(Conv2D(1024, (3, 3), padding='same'))\n",
        "\talexnet.add(BatchNormalization())\n",
        "\talexnet.add(Activation('relu'))\n",
        "\talexnet.add(MaxPooling2D(pool_size=(2, 2)))\n",
        "\n",
        "\t# Layer 6\n",
        "\talexnet.add(Flatten())\n",
        "\talexnet.add(Dense(3072))\n",
        "\talexnet.add(BatchNormalization())\n",
        "\talexnet.add(Activation('relu'))\n",
        "\talexnet.add(Dropout(0.5))\n",
        "\n",
        "\t# Layer 7\n",
        "\talexnet.add(Dense(4096))\n",
        "\talexnet.add(BatchNormalization())\n",
        "\talexnet.add(Activation('relu'))\n",
        "\talexnet.add(Dropout(0.5))\n",
        "\n",
        "\t# Layer 8\n",
        "\talexnet.add(Dense(n_classes))\n",
        "\talexnet.add(BatchNormalization())\n",
        "\talexnet.add(Activation('softmax'))\n",
        "\n",
        "\tif weights is not None:\n",
        "\t\talexnet.load_weights(weights)\n",
        "\n",
        "\treturn alexnet"
      ],
      "execution_count": null,
      "outputs": []
    },
    {
      "cell_type": "code",
      "metadata": {
        "id": "sH2dUUNw9gVP"
      },
      "source": [
        "top5_acc = partial(tCA, k=5)\n",
        "top5_acc.__name__ = 'top5_acc'"
      ],
      "execution_count": null,
      "outputs": []
    },
    {
      "cell_type": "code",
      "metadata": {
        "colab": {
          "base_uri": "https://localhost:8080/"
        },
        "collapsed": true,
        "id": "JAQyKZIw7nE0",
        "jupyter": {
          "outputs_hidden": true
        },
        "tags": [],
        "outputId": "25a8e7c7-54a8-4ed9-feb9-a03a7a1070ee"
      },
      "source": [
        "model1 = Alexnet(img_shape=(32, 32, 3), n_classes=7)\n",
        "model1.summary()\n",
        "plot_model(model1, show_shapes=True)\n",
        "\n",
        "filepath =  os.path.join(dir,'model_output',number,model1.name,'{epoch:03d}.h5')\n",
        "callbacks_list = [ModelCheckpoint(filepath, monitor='val_loss', verbose=1, save_weights_only=False, save_best_only=True, mode='min'),\n",
        "                  ModelCheckpoint(filepath, monitor='val_accuracy', verbose=1, save_weights_only=False, save_best_only=True, mode='max'),\n",
        "                  EarlyStopping(monitor='val_auc', patience=3),\n",
        "                  LearningRateScheduler(lr_schedule,verbose=1)]\n",
        "model1.compile(optimizer = 'rmsprop', loss = 'categorical_crossentropy', metrics=[['AUC', 'Precision','Recall']])\n",
        "auto = model1.fit(x_train, y_train_ohe, validation_data=(x_test, y_test_ohe), epochs=50, batch_size=64, callbacks=callbacks_list, shuffle=True)"
      ],
      "execution_count": null,
      "outputs": [
        {
          "output_type": "stream",
          "name": "stdout",
          "text": [
            "Model: \"sequential_4\"\n",
            "_________________________________________________________________\n",
            "Layer (type)                 Output Shape              Param #   \n",
            "=================================================================\n",
            "conv2d_42 (Conv2D)           (None, 32, 32, 96)        34944     \n",
            "_________________________________________________________________\n",
            "batch_normalization_28 (Batc (None, 32, 32, 96)        384       \n",
            "_________________________________________________________________\n",
            "activation_40 (Activation)   (None, 32, 32, 96)        0         \n",
            "_________________________________________________________________\n",
            "max_pooling2d_21 (MaxPooling (None, 16, 16, 96)        0         \n",
            "_________________________________________________________________\n",
            "conv2d_43 (Conv2D)           (None, 16, 16, 256)       614656    \n",
            "_________________________________________________________________\n",
            "batch_normalization_29 (Batc (None, 16, 16, 256)       1024      \n",
            "_________________________________________________________________\n",
            "activation_41 (Activation)   (None, 16, 16, 256)       0         \n",
            "_________________________________________________________________\n",
            "max_pooling2d_22 (MaxPooling (None, 8, 8, 256)         0         \n",
            "_________________________________________________________________\n",
            "zero_padding2d_21 (ZeroPaddi (None, 10, 10, 256)       0         \n",
            "_________________________________________________________________\n",
            "conv2d_44 (Conv2D)           (None, 10, 10, 512)       1180160   \n",
            "_________________________________________________________________\n",
            "batch_normalization_30 (Batc (None, 10, 10, 512)       2048      \n",
            "_________________________________________________________________\n",
            "activation_42 (Activation)   (None, 10, 10, 512)       0         \n",
            "_________________________________________________________________\n",
            "max_pooling2d_23 (MaxPooling (None, 5, 5, 512)         0         \n",
            "_________________________________________________________________\n",
            "zero_padding2d_22 (ZeroPaddi (None, 7, 7, 512)         0         \n",
            "_________________________________________________________________\n",
            "conv2d_45 (Conv2D)           (None, 7, 7, 1024)        4719616   \n",
            "_________________________________________________________________\n",
            "batch_normalization_31 (Batc (None, 7, 7, 1024)        4096      \n",
            "_________________________________________________________________\n",
            "activation_43 (Activation)   (None, 7, 7, 1024)        0         \n",
            "_________________________________________________________________\n",
            "zero_padding2d_23 (ZeroPaddi (None, 9, 9, 1024)        0         \n",
            "_________________________________________________________________\n",
            "conv2d_46 (Conv2D)           (None, 9, 9, 1024)        9438208   \n",
            "_________________________________________________________________\n",
            "batch_normalization_32 (Batc (None, 9, 9, 1024)        4096      \n",
            "_________________________________________________________________\n",
            "activation_44 (Activation)   (None, 9, 9, 1024)        0         \n",
            "_________________________________________________________________\n",
            "max_pooling2d_24 (MaxPooling (None, 4, 4, 1024)        0         \n",
            "_________________________________________________________________\n",
            "flatten_5 (Flatten)          (None, 16384)             0         \n",
            "_________________________________________________________________\n",
            "dense_15 (Dense)             (None, 3072)              50334720  \n",
            "_________________________________________________________________\n",
            "batch_normalization_33 (Batc (None, 3072)              12288     \n",
            "_________________________________________________________________\n",
            "activation_45 (Activation)   (None, 3072)              0         \n",
            "_________________________________________________________________\n",
            "dropout_9 (Dropout)          (None, 3072)              0         \n",
            "_________________________________________________________________\n",
            "dense_16 (Dense)             (None, 4096)              12587008  \n",
            "_________________________________________________________________\n",
            "batch_normalization_34 (Batc (None, 4096)              16384     \n",
            "_________________________________________________________________\n",
            "activation_46 (Activation)   (None, 4096)              0         \n",
            "_________________________________________________________________\n",
            "dropout_10 (Dropout)         (None, 4096)              0         \n",
            "_________________________________________________________________\n",
            "dense_17 (Dense)             (None, 7)                 28679     \n",
            "_________________________________________________________________\n",
            "batch_normalization_35 (Batc (None, 7)                 28        \n",
            "_________________________________________________________________\n",
            "activation_47 (Activation)   (None, 7)                 0         \n",
            "=================================================================\n",
            "Total params: 78,978,339\n",
            "Trainable params: 78,958,165\n",
            "Non-trainable params: 20,174\n",
            "_________________________________________________________________\n",
            "Epoch 1/50\n",
            "Learning rate:  0.0003\n",
            "\n",
            "Epoch 00001: LearningRateScheduler setting learning rate to 0.0003.\n",
            "454/454 [==============================] - 106s 226ms/step - loss: 0.3564 - auc: 0.9985 - precision: 0.9938 - recall: 0.9405 - val_loss: 0.7569 - val_auc: 0.9893 - val_precision: 0.9870 - val_recall: 0.5128\n",
            "\n",
            "Epoch 00001: val_loss improved from inf to 0.75695, saving model to /content/drive/Shareddrives/Labs/2020_1_이소연/code/wm811k/model_output/2/sequential_4/001.h5\n",
            "WARNING:tensorflow:Can save best model only with val_accuracy available, skipping.\n",
            "Epoch 2/50\n",
            "Learning rate:  0.0003\n",
            "\n",
            "Epoch 00002: LearningRateScheduler setting learning rate to 0.0003.\n",
            "454/454 [==============================] - 102s 225ms/step - loss: 0.2256 - auc: 0.9999 - precision: 0.9983 - recall: 0.9934 - val_loss: 0.3265 - val_auc: 0.9871 - val_precision: 0.9613 - val_recall: 0.9569\n",
            "\n",
            "Epoch 00002: val_loss improved from 0.75695 to 0.32654, saving model to /content/drive/Shareddrives/Labs/2020_1_이소연/code/wm811k/model_output/2/sequential_4/002.h5\n",
            "WARNING:tensorflow:Can save best model only with val_accuracy available, skipping.\n",
            "Epoch 3/50\n",
            "Learning rate:  0.0003\n",
            "\n",
            "Epoch 00003: LearningRateScheduler setting learning rate to 0.0003.\n",
            "454/454 [==============================] - 102s 225ms/step - loss: 0.1632 - auc: 1.0000 - precision: 0.9995 - recall: 0.9978 - val_loss: 0.4220 - val_auc: 0.9912 - val_precision: 0.9795 - val_recall: 0.9288\n",
            "\n",
            "Epoch 00003: val_loss did not improve from 0.32654\n",
            "WARNING:tensorflow:Can save best model only with val_accuracy available, skipping.\n",
            "Epoch 4/50\n",
            "Learning rate:  0.0003\n",
            "\n",
            "Epoch 00004: LearningRateScheduler setting learning rate to 0.0003.\n",
            "454/454 [==============================] - 102s 225ms/step - loss: 0.1181 - auc: 1.0000 - precision: 0.9998 - recall: 0.9996 - val_loss: 0.2351 - val_auc: 0.9929 - val_precision: 0.9682 - val_recall: 0.9652\n",
            "\n",
            "Epoch 00004: val_loss improved from 0.32654 to 0.23510, saving model to /content/drive/Shareddrives/Labs/2020_1_이소연/code/wm811k/model_output/2/sequential_4/004.h5\n",
            "WARNING:tensorflow:Can save best model only with val_accuracy available, skipping.\n",
            "Epoch 5/50\n",
            "Learning rate:  0.0003\n",
            "\n",
            "Epoch 00005: LearningRateScheduler setting learning rate to 0.0003.\n",
            "454/454 [==============================] - 102s 225ms/step - loss: 0.0861 - auc: 1.0000 - precision: 0.9998 - recall: 0.9997 - val_loss: 0.2363 - val_auc: 0.9928 - val_precision: 0.9745 - val_recall: 0.9667\n",
            "\n",
            "Epoch 00005: val_loss did not improve from 0.23510\n",
            "WARNING:tensorflow:Can save best model only with val_accuracy available, skipping.\n"
          ]
        }
      ]
    },
    {
      "cell_type": "code",
      "metadata": {
        "id": "qtOJeC2pN0jg"
      },
      "source": [
        "y_predict = model1.predict(x_test)\n",
        "y_pred_ = np.ones(len(y_predict))\n",
        "y_test_ = np.ones(len(y_test))\n",
        "for i in range(len(y_pred_)):\n",
        "    y_pred_[i] = np.argmax(y_predict[i])\n",
        "    y_test_[i] = np.argmax(y_test_ohe[i])"
      ],
      "execution_count": null,
      "outputs": []
    },
    {
      "cell_type": "code",
      "metadata": {
        "colab": {
          "base_uri": "https://localhost:8080/"
        },
        "id": "aIOj2xEON0jg",
        "outputId": "5132ad11-bd3a-488e-d715-8a487730b9d8"
      },
      "source": [
        "print(classification_report(y_test_, y_pred_, target_names=labels))"
      ],
      "execution_count": null,
      "outputs": [
        {
          "output_type": "stream",
          "name": "stdout",
          "text": [
            "              precision    recall  f1-score   support\n",
            "\n",
            "      Center       1.00      0.25      0.40         8\n",
            "    Edge-Loc       0.88      0.27      0.41        52\n",
            "   Edge-Ring       0.94      0.73      0.82        22\n",
            "         Loc       0.59      0.23      0.33        43\n",
            "   Near-full       1.00      1.00      1.00        11\n",
            "     Scratch       1.00      0.37      0.54        19\n",
            "        none       0.97      1.00      0.99      3090\n",
            "\n",
            "    accuracy                           0.97      3245\n",
            "   macro avg       0.91      0.55      0.64      3245\n",
            "weighted avg       0.97      0.97      0.96      3245\n",
            "\n"
          ]
        }
      ]
    },
    {
      "cell_type": "code",
      "metadata": {
        "colab": {
          "base_uri": "https://localhost:8080/"
        },
        "id": "ZPtr9FnT3oU1",
        "outputId": "ea59e69d-0b24-4b9c-d4fb-0a5e6d1997dc"
      },
      "source": [
        "for f in labels :\n",
        "    print('{} : {}'.format(f, len(y_test[y_test==f])))"
      ],
      "execution_count": null,
      "outputs": [
        {
          "output_type": "stream",
          "name": "stdout",
          "text": [
            "Center : 8\n",
            "Edge-Loc : 52\n",
            "Edge-Ring : 22\n",
            "Loc : 43\n",
            "Near-full : 11\n",
            "Scratch : 19\n",
            "none : 3090\n"
          ]
        }
      ]
    },
    {
      "cell_type": "code",
      "metadata": {
        "colab": {
          "base_uri": "https://localhost:8080/",
          "height": 613
        },
        "id": "tSZUnYCNwTb_",
        "outputId": "d0cbee4b-ba0e-4b4a-a863-1c2238811d83"
      },
      "source": [
        "np.set_printoptions(precision=2)\n",
        "\n",
        "# Plot non-normalized confusion matrix\n",
        "plot_confusion_matrix2(y_test_, y_pred_, classes=labels, title='Confusion matrix, without normalization')\n",
        "\n",
        "# Plot normalized confusion matrix\n",
        "plot_confusion_matrix2(y_test_, y_pred_, classes=labels, normalize=True, title='Normalized confusion matrix')\n",
        "\n",
        "plt.show()"
      ],
      "execution_count": null,
      "outputs": [
        {
          "output_type": "stream",
          "name": "stdout",
          "text": [
            "Confusion matrix, without normalization\n",
            "Normalized confusion matrix\n"
          ]
        },
        {
          "output_type": "display_data",
          "data": {
            "image/png": "[encoded data removed]",
            "text/plain": [
              "<Figure size 432x288 with 2 Axes>"
            ]
          },
          "metadata": {
            "needs_background": "light"
          }
        },
        {
          "output_type": "display_data",
          "data": {
            "image/png": "[encoded data removed]",
            "text/plain": [
              "<Figure size 432x288 with 2 Axes>"
            ]
          },
          "metadata": {
            "needs_background": "light"
          }
        }
      ]
    },
    {
      "cell_type": "code",
      "metadata": {
        "id": "ybLygBSp7nNE"
      },
      "source": [
        "def simple_vgg16():\n",
        "    input_shape = (32, 32, 3)\n",
        "    input_tensor = Input(input_shape)\n",
        "    \n",
        "    #initializer: glorot_normal, glorot_uniform, he_normal, he_uniform\n",
        "\n",
        "    conv_1 = Conv2D(32, (3,3), kernel_initializer='glorot_uniform', kernel_regularizer=l2(0.001), activation='relu',padding='same')(input_tensor)\n",
        "    conv_2 = Conv2D(64, (3,3), kernel_initializer='glorot_uniform', kernel_regularizer=l2(0.001), activation='relu',padding='same')(conv_1)\n",
        "    pool_1 = MaxPool2D((2,2), name = 'max_pool1')(conv_2)\n",
        "\n",
        "    conv_3 = Conv2D(128, (3,3), kernel_initializer='glorot_uniform',activation='relu', kernel_regularizer=l2(0.001), padding='same')(pool_1)\n",
        "    conv_4 = Conv2D(256, (3,3), kernel_initializer='glorot_uniform',activation='relu', kernel_regularizer=l2(0.001), padding='same')(conv_3)\n",
        "    pool_2 = MaxPool2D((2,2), name = 'max_pool2')(conv_4)\n",
        "\n",
        "    flat = Flatten()(pool_2)\n",
        "\n",
        "    dense_1 = Dense(512, activation='relu')(flat)\n",
        "    drop_1 = Dropout(0.4)(dense_1)\n",
        "    dense_2 = Dense(256, activation='relu')(drop_1)\n",
        "    output_tensor = Dense(8, activation='softmax')(dense_2)\n",
        "\n",
        "    model = Model(input_tensor, output_tensor)\n",
        " \n",
        "    return model"
      ],
      "execution_count": null,
      "outputs": []
    },
    {
      "cell_type": "code",
      "metadata": {
        "colab": {
          "base_uri": "https://localhost:8080/"
        },
        "id": "u16sHIokYuZ2",
        "outputId": "3e729117-d7a5-441b-af7b-b836c6e558c8"
      },
      "source": [
        "model2 = simple_vgg16()\n",
        "model2.compile(optimizer = 'rmsprop', loss = 'categorical_crossentropy', metrics=[['AUC', 'Precision','Recall']])\n",
        "filepath =  os.path.join(dir,'model_output',number,model2.name,'{epoch:03d}.h5')\n",
        "callbacks_list = [ModelCheckpoint(filepath, monitor='val_loss', verbose=1, save_weights_only=False, save_best_only=True, mode='min'),\n",
        "                  ModelCheckpoint(filepath, monitor='val_accuracy', verbose=1, save_weights_only=False, save_best_only=True, mode='max'),\n",
        "                  EarlyStopping(monitor='val_auc', patience=3),\n",
        "                  LearningRateScheduler(lr_schedule,verbose=1)]\n",
        "auto = model2.fit(x_train, y_train_ohe, validation_data=(x_test, y_test_ohe), epochs=50, batch_size=64, callbacks=callbacks_list, shuffle=True)"
      ],
      "execution_count": null,
      "outputs": [
        {
          "output_type": "stream",
          "name": "stdout",
          "text": [
            "Epoch 1/50\n",
            "Learning rate:  0.0003\n",
            "\n",
            "Epoch 00001: LearningRateScheduler setting learning rate to 0.0003.\n",
            "516/516 [==============================] - 22s 38ms/step - loss: 0.5165 - auc: 0.9926 - precision: 0.9546 - recall: 0.8483 - val_loss: 0.4349 - val_auc: 0.9882 - val_precision: 0.9686 - val_recall: 0.9683\n",
            "\n",
            "Epoch 00001: val_loss improved from inf to 0.43493, saving model to /content/drive/Shareddrives/Labs/2020_1_이소연/code/wm811k/model_output/1/model_1/001.h5\n",
            "WARNING:tensorflow:Can save best model only with val_accuracy available, skipping.\n",
            "Epoch 2/50\n",
            "Learning rate:  0.0003\n",
            "\n",
            "Epoch 00002: LearningRateScheduler setting learning rate to 0.0003.\n",
            "516/516 [==============================] - 19s 36ms/step - loss: 0.1292 - auc: 0.9994 - precision: 0.9944 - recall: 0.9939 - val_loss: 0.2651 - val_auc: 0.9911 - val_precision: 0.9735 - val_recall: 0.9732\n",
            "\n",
            "Epoch 00002: val_loss improved from 0.43493 to 0.26505, saving model to /content/drive/Shareddrives/Labs/2020_1_이소연/code/wm811k/model_output/1/model_1/002.h5\n",
            "WARNING:tensorflow:Can save best model only with val_accuracy available, skipping.\n",
            "Epoch 3/50\n",
            "Learning rate:  0.0003\n",
            "\n",
            "Epoch 00003: LearningRateScheduler setting learning rate to 0.0003.\n",
            "516/516 [==============================] - 19s 36ms/step - loss: 0.0653 - auc: 0.9996 - precision: 0.9965 - recall: 0.9960 - val_loss: 0.2484 - val_auc: 0.9912 - val_precision: 0.9741 - val_recall: 0.9729\n",
            "\n",
            "Epoch 00003: val_loss improved from 0.26505 to 0.24837, saving model to /content/drive/Shareddrives/Labs/2020_1_이소연/code/wm811k/model_output/1/model_1/003.h5\n",
            "WARNING:tensorflow:Can save best model only with val_accuracy available, skipping.\n",
            "Epoch 4/50\n",
            "Learning rate:  0.0003\n",
            "\n",
            "Epoch 00004: LearningRateScheduler setting learning rate to 0.0003.\n",
            "516/516 [==============================] - 19s 36ms/step - loss: 0.0455 - auc: 0.9997 - precision: 0.9963 - recall: 0.9962 - val_loss: 0.2885 - val_auc: 0.9892 - val_precision: 0.9735 - val_recall: 0.9735\n",
            "\n",
            "Epoch 00004: val_loss did not improve from 0.24837\n",
            "WARNING:tensorflow:Can save best model only with val_accuracy available, skipping.\n"
          ]
        }
      ]
    },
    {
      "cell_type": "code",
      "metadata": {
        "colab": {
          "base_uri": "https://localhost:8080/"
        },
        "id": "FX-PBzR0iHjY",
        "outputId": "33fea622-00e3-403d-e8bf-e6d1f2c6897a"
      },
      "source": [
        "y_predict = model2.predict(x_test)\n",
        "y_pred_2 = np.ones(len(y_predict))\n",
        "for i in range(len(y_pred_)):\n",
        "    y_pred_2[i] = np.argmax(y_predict[i])\n",
        "print(classification_report(y_test_, y_pred_2, target_names=labels))"
      ],
      "execution_count": null,
      "outputs": [
        {
          "output_type": "stream",
          "name": "stdout",
          "text": [
            "              precision    recall  f1-score   support\n",
            "\n",
            "      Center       0.60      0.38      0.46         8\n",
            "    Edge-Loc       0.78      0.54      0.64        52\n",
            "   Edge-Ring       0.94      0.68      0.79        22\n",
            "         Loc       0.82      0.33      0.47        43\n",
            "   Near-full       0.92      1.00      0.96        11\n",
            "      Random       0.67      0.40      0.50         5\n",
            "     Scratch       0.50      0.11      0.17        19\n",
            "        none       0.98      1.00      0.99      3090\n",
            "\n",
            "    accuracy                           0.97      3250\n",
            "   macro avg       0.78      0.55      0.62      3250\n",
            "weighted avg       0.97      0.97      0.97      3250\n",
            "\n"
          ]
        }
      ]
    },
    {
      "cell_type": "code",
      "metadata": {
        "colab": {
          "base_uri": "https://localhost:8080/",
          "height": 613
        },
        "id": "YfkRnCmKhBU8",
        "outputId": "30495f57-0ae3-49f3-9e29-d6e2ad9e2e45"
      },
      "source": [
        "np.set_printoptions(precision=2)\n",
        "\n",
        "# Plot non-normalized confusion matrix\n",
        "plot_confusion_matrix2(y_test_2, y_pred_2, classes=labels, title='Confusion matrix, without normalization')\n",
        "\n",
        "# Plot normalized confusion matrix\n",
        "plot_confusion_matrix2(y_test_2, y_pred_2, classes=labels, normalize=True, title='Normalized confusion matrix')\n",
        "\n",
        "plt.show()"
      ],
      "execution_count": null,
      "outputs": [
        {
          "output_type": "stream",
          "name": "stdout",
          "text": [
            "Confusion matrix, without normalization\n",
            "Normalized confusion matrix\n"
          ]
        },
        {
          "output_type": "display_data",
          "data": {
            "image/png": "[encoded data removed]",
            "text/plain": [
              "<Figure size 432x288 with 2 Axes>"
            ]
          },
          "metadata": {
            "needs_background": "light"
          }
        },
        {
          "output_type": "display_data",
          "data": {
            "image/png": "[encoded data removed]",
            "text/plain": [
              "<Figure size 432x288 with 2 Axes>"
            ]
          },
          "metadata": {
            "needs_background": "light"
          }
        }
      ]
    },
    {
      "cell_type": "code",
      "metadata": {
        "id": "6LZl9EA4DRRL"
      },
      "source": [
        "def vgg16_model(img_shape=(224, 224, 3), n_classes=1000, l2_reg=0.,\n",
        "\tweights=None):\n",
        "\n",
        "\t# Initialize model\n",
        "\tvgg16 = Sequential()\n",
        "\n",
        "\t# Layer 1 & 2\n",
        "\tvgg16.add(Conv2D(64, (3, 3), padding='same',\n",
        "\t\tinput_shape=img_shape, kernel_regularizer=l2(l2_reg)))\n",
        "\tvgg16.add(Activation('relu'))\n",
        "\tvgg16.add(ZeroPadding2D((1, 1)))\n",
        "\tvgg16.add(Conv2D(64, (3, 3), padding='same'))\n",
        "\tvgg16.add(Activation('relu'))\n",
        "\tvgg16.add(MaxPooling2D(pool_size=(2, 2)))\n",
        "\n",
        "\t# Layer 3 & 4\n",
        "\tvgg16.add(ZeroPadding2D((1, 1)))\n",
        "\tvgg16.add(Conv2D(128, (3, 3), padding='same'))\n",
        "\tvgg16.add(Activation('relu'))\n",
        "\tvgg16.add(ZeroPadding2D((1, 1)))\n",
        "\tvgg16.add(Conv2D(128, (3, 3), padding='same'))\n",
        "\tvgg16.add(Activation('relu'))\n",
        "\tvgg16.add(MaxPooling2D(pool_size=(2, 2)))\n",
        "\n",
        "\t# Layer 5, 6, & 7\n",
        "\tvgg16.add(ZeroPadding2D((1, 1)))\n",
        "\tvgg16.add(Conv2D(256, (3, 3), padding='same'))\n",
        "\tvgg16.add(Activation('relu'))\n",
        "\tvgg16.add(ZeroPadding2D((1, 1)))\n",
        "\tvgg16.add(Conv2D(256, (3, 3), padding='same'))\n",
        "\tvgg16.add(Activation('relu'))\n",
        "\tvgg16.add(ZeroPadding2D((1, 1)))\n",
        "\tvgg16.add(Conv2D(256, (3, 3), padding='same'))\n",
        "\tvgg16.add(Activation('relu'))\n",
        "\tvgg16.add(MaxPooling2D(pool_size=(2, 2)))\n",
        "\n",
        "\t# Layers 8, 9, & 10\n",
        "\tvgg16.add(ZeroPadding2D((1, 1)))\n",
        "\tvgg16.add(Conv2D(512, (3, 3), padding='same'))\n",
        "\tvgg16.add(Activation('relu'))\n",
        "\tvgg16.add(ZeroPadding2D((1, 1)))\n",
        "\tvgg16.add(Conv2D(512, (3, 3), padding='same'))\n",
        "\tvgg16.add(Activation('relu'))\n",
        "\tvgg16.add(ZeroPadding2D((1, 1)))\n",
        "\tvgg16.add(Conv2D(512, (3, 3), padding='same'))\n",
        "\tvgg16.add(Activation('relu'))\n",
        "\tvgg16.add(MaxPooling2D(pool_size=(2, 2)))\n",
        "\n",
        "\t# Layers 11, 12, & 13\n",
        "\tvgg16.add(ZeroPadding2D((1, 1)))\n",
        "\tvgg16.add(Conv2D(512, (3, 3), padding='same'))\n",
        "\tvgg16.add(Activation('relu'))\n",
        "\tvgg16.add(ZeroPadding2D((1, 1)))\n",
        "\tvgg16.add(Conv2D(512, (3, 3), padding='same'))\n",
        "\tvgg16.add(Activation('relu'))\n",
        "\tvgg16.add(ZeroPadding2D((1, 1)))\n",
        "\tvgg16.add(Conv2D(512, (3, 3), padding='same'))\n",
        "\tvgg16.add(Activation('relu'))\n",
        "\tvgg16.add(MaxPooling2D(pool_size=(2, 2)))\n",
        "\n",
        "\t# Layers 14, 15, & 16\n",
        "\tvgg16.add(Flatten())\n",
        "\tvgg16.add(Dense(4096))\n",
        "\tvgg16.add(Activation('relu'))\n",
        "\tvgg16.add(Dropout(0.5))\n",
        "\tvgg16.add(Dense(4096))\n",
        "\tvgg16.add(Activation('relu'))\n",
        "\tvgg16.add(Dropout(0.5))\n",
        "\tvgg16.add(Dense(n_classes))\n",
        "\tvgg16.add(Activation('softmax'))\n",
        "\n",
        "\tif weights is not None:\n",
        "\t\tvgg16.load_weights(weights)\n",
        "\n",
        "\treturn vgg16\n",
        "\n",
        "def vgg19_model(img_shape=(224, 224, 3), n_classes=1000, l2_reg=0.,\n",
        "\tweights=None):\n",
        "\n",
        "\t# Initialize model\n",
        "\tvgg19 = Sequential()\n",
        "\n",
        "\t# Layer 1 & 2\n",
        "\tvgg19.add(Conv2D(64, (3, 3), padding='same',\n",
        "\t\tinput_shape=img_shape, kernel_regularizer=l2(l2_reg)))\n",
        "\tvgg19.add(Activation('relu'))\n",
        "\tvgg19.add(ZeroPadding2D((1, 1)))\n",
        "\tvgg19.add(Conv2D(64, (3, 3), padding='same'))\n",
        "\tvgg19.add(Activation('relu'))\n",
        "\tvgg19.add(MaxPooling2D(pool_size=(2, 2)))\n",
        "\n",
        "\t# Layer 3 & 4\n",
        "\tvgg19.add(ZeroPadding2D((1, 1)))\n",
        "\tvgg19.add(Conv2D(128, (3, 3), padding='same'))\n",
        "\tvgg19.add(Activation('relu'))\n",
        "\tvgg19.add(ZeroPadding2D((1, 1)))\n",
        "\tvgg19.add(Conv2D(128, (3, 3), padding='same'))\n",
        "\tvgg19.add(Activation('relu'))\n",
        "\tvgg19.add(MaxPooling2D(pool_size=(2, 2)))\n",
        "\n",
        "\t# Layer 5, 6, 7, & 8\n",
        "\tvgg19.add(ZeroPadding2D((1, 1)))\n",
        "\tvgg19.add(Conv2D(256, (3, 3), padding='same'))\n",
        "\tvgg19.add(Activation('relu'))\n",
        "\tvgg19.add(ZeroPadding2D((1, 1)))\n",
        "\tvgg19.add(Conv2D(256, (3, 3), padding='same'))\n",
        "\tvgg19.add(Activation('relu'))\n",
        "\tvgg19.add(ZeroPadding2D((1, 1)))\n",
        "\tvgg19.add(Conv2D(256, (3, 3), padding='same'))\n",
        "\tvgg19.add(Activation('relu'))\n",
        "\tvgg19.add(ZeroPadding2D((1, 1)))\n",
        "\tvgg19.add(Conv2D(256, (3, 3), padding='same'))\n",
        "\tvgg19.add(Activation('relu'))\n",
        "\tvgg19.add(MaxPooling2D(pool_size=(2, 2)))\n",
        "\n",
        "\t# Layers 9, 10, 11, & 12\n",
        "\tvgg19.add(ZeroPadding2D((1, 1)))\n",
        "\tvgg19.add(Conv2D(512, (3, 3), padding='same'))\n",
        "\tvgg19.add(Activation('relu'))\n",
        "\tvgg19.add(ZeroPadding2D((1, 1)))\n",
        "\tvgg19.add(Conv2D(512, (3, 3), padding='same'))\n",
        "\tvgg19.add(Activation('relu'))\n",
        "\tvgg19.add(ZeroPadding2D((1, 1)))\n",
        "\tvgg19.add(Conv2D(512, (3, 3), padding='same'))\n",
        "\tvgg19.add(Activation('relu'))\n",
        "\tvgg19.add(ZeroPadding2D((1, 1)))\n",
        "\tvgg19.add(Conv2D(512, (3, 3), padding='same'))\n",
        "\tvgg19.add(Activation('relu'))\n",
        "\tvgg19.add(MaxPooling2D(pool_size=(2, 2)))\n",
        "\n",
        "\t# Layers 13, 14, 15, & 16\n",
        "\tvgg19.add(ZeroPadding2D((1, 1)))\n",
        "\tvgg19.add(Conv2D(512, (3, 3), padding='same'))\n",
        "\tvgg19.add(Activation('relu'))\n",
        "\tvgg19.add(ZeroPadding2D((1, 1)))\n",
        "\tvgg19.add(Conv2D(512, (3, 3), padding='same'))\n",
        "\tvgg19.add(Activation('relu'))\n",
        "\tvgg19.add(ZeroPadding2D((1, 1)))\n",
        "\tvgg19.add(Conv2D(512, (3, 3), padding='same'))\n",
        "\tvgg19.add(Activation('relu'))\n",
        "\tvgg19.add(ZeroPadding2D((1, 1)))\n",
        "\tvgg19.add(Conv2D(512, (3, 3), padding='same'))\n",
        "\tvgg19.add(Activation('relu'))\n",
        "\tvgg19.add(MaxPooling2D(pool_size=(2, 2)))\n",
        "\n",
        "\t# Layers 17, 18, & 19\n",
        "\tvgg19.add(Flatten())\n",
        "\tvgg19.add(Dense(4096))\n",
        "\tvgg19.add(Activation('relu'))\n",
        "\tvgg19.add(Dropout(0.5))\n",
        "\tvgg19.add(Dense(4096))\n",
        "\tvgg19.add(Activation('relu'))\n",
        "\tvgg19.add(Dropout(0.5))\n",
        "\tvgg19.add(Dense(n_classes))\n",
        "\tvgg19.add(Activation('softmax'))\n",
        "\n",
        "\tif weights is not None:\n",
        "\t\tvgg19.load_weights(weights)\n",
        "\n",
        "\treturn vgg19"
      ],
      "execution_count": null,
      "outputs": []
    },
    {
      "cell_type": "code",
      "metadata": {
        "colab": {
          "base_uri": "https://localhost:8080/"
        },
        "id": "ZGqF6c-3qHnj",
        "outputId": "ed726282-cdb3-407f-a919-354faf0b8796"
      },
      "source": [
        "model3 = vgg16_model(img_shape=(32, 32, 3), n_classes=8)\n",
        "model3.summary()\n",
        "plot_model(model3, show_shapes=True)\n",
        "\n",
        "filepath =  os.path.join(dir,'model_output',number,model3.name,'{epoch:03d}.h5')\n",
        "callbacks_list = [ModelCheckpoint(filepath, monitor='val_loss', verbose=1, save_weights_only=False, save_best_only=True, mode='min'),\n",
        "                  ModelCheckpoint(filepath, monitor='val_accuracy', verbose=1, save_weights_only=False, save_best_only=True, mode='max'),\n",
        "                  EarlyStopping(monitor='val_auc', patience=3),\n",
        "                  LearningRateScheduler(lr_schedule,verbose=1)] \n",
        "model3.compile(optimizer = 'rmsprop', loss = 'categorical_crossentropy', metrics=['AUC', 'Precision','Recall'])\n",
        "auto = model3.fit(x_train, y_train_ohe, validation_data=(x_test, y_test_ohe), epochs=50, batch_size=64, callbacks=callbacks_list, shuffle=True)"
      ],
      "execution_count": null,
      "outputs": [
        {
          "output_type": "stream",
          "name": "stdout",
          "text": [
            "Model: \"sequential_1\"\n",
            "_________________________________________________________________\n",
            "Layer (type)                 Output Shape              Param #   \n",
            "=================================================================\n",
            "conv2d_14 (Conv2D)           (None, 32, 32, 64)        1792      \n",
            "_________________________________________________________________\n",
            "activation_8 (Activation)    (None, 32, 32, 64)        0         \n",
            "_________________________________________________________________\n",
            "zero_padding2d_3 (ZeroPaddin (None, 34, 34, 64)        0         \n",
            "_________________________________________________________________\n",
            "conv2d_15 (Conv2D)           (None, 34, 34, 64)        36928     \n",
            "_________________________________________________________________\n",
            "activation_9 (Activation)    (None, 34, 34, 64)        0         \n",
            "_________________________________________________________________\n",
            "max_pooling2d_6 (MaxPooling2 (None, 17, 17, 64)        0         \n",
            "_________________________________________________________________\n",
            "zero_padding2d_4 (ZeroPaddin (None, 19, 19, 64)        0         \n",
            "_________________________________________________________________\n",
            "conv2d_16 (Conv2D)           (None, 19, 19, 128)       73856     \n",
            "_________________________________________________________________\n",
            "activation_10 (Activation)   (None, 19, 19, 128)       0         \n",
            "_________________________________________________________________\n",
            "zero_padding2d_5 (ZeroPaddin (None, 21, 21, 128)       0         \n",
            "_________________________________________________________________\n",
            "conv2d_17 (Conv2D)           (None, 21, 21, 128)       147584    \n",
            "_________________________________________________________________\n",
            "activation_11 (Activation)   (None, 21, 21, 128)       0         \n",
            "_________________________________________________________________\n",
            "max_pooling2d_7 (MaxPooling2 (None, 10, 10, 128)       0         \n",
            "_________________________________________________________________\n",
            "zero_padding2d_6 (ZeroPaddin (None, 12, 12, 128)       0         \n",
            "_________________________________________________________________\n",
            "conv2d_18 (Conv2D)           (None, 12, 12, 256)       295168    \n",
            "_________________________________________________________________\n",
            "activation_12 (Activation)   (None, 12, 12, 256)       0         \n",
            "_________________________________________________________________\n",
            "zero_padding2d_7 (ZeroPaddin (None, 14, 14, 256)       0         \n",
            "_________________________________________________________________\n",
            "conv2d_19 (Conv2D)           (None, 14, 14, 256)       590080    \n",
            "_________________________________________________________________\n",
            "activation_13 (Activation)   (None, 14, 14, 256)       0         \n",
            "_________________________________________________________________\n",
            "zero_padding2d_8 (ZeroPaddin (None, 16, 16, 256)       0         \n",
            "_________________________________________________________________\n",
            "conv2d_20 (Conv2D)           (None, 16, 16, 256)       590080    \n",
            "_________________________________________________________________\n",
            "activation_14 (Activation)   (None, 16, 16, 256)       0         \n",
            "_________________________________________________________________\n",
            "max_pooling2d_8 (MaxPooling2 (None, 8, 8, 256)         0         \n",
            "_________________________________________________________________\n",
            "zero_padding2d_9 (ZeroPaddin (None, 10, 10, 256)       0         \n",
            "_________________________________________________________________\n",
            "conv2d_21 (Conv2D)           (None, 10, 10, 512)       1180160   \n",
            "_________________________________________________________________\n",
            "activation_15 (Activation)   (None, 10, 10, 512)       0         \n",
            "_________________________________________________________________\n",
            "zero_padding2d_10 (ZeroPaddi (None, 12, 12, 512)       0         \n",
            "_________________________________________________________________\n",
            "conv2d_22 (Conv2D)           (None, 12, 12, 512)       2359808   \n",
            "_________________________________________________________________\n",
            "activation_16 (Activation)   (None, 12, 12, 512)       0         \n",
            "_________________________________________________________________\n",
            "zero_padding2d_11 (ZeroPaddi (None, 14, 14, 512)       0         \n",
            "_________________________________________________________________\n",
            "conv2d_23 (Conv2D)           (None, 14, 14, 512)       2359808   \n",
            "_________________________________________________________________\n",
            "activation_17 (Activation)   (None, 14, 14, 512)       0         \n",
            "_________________________________________________________________\n",
            "max_pooling2d_9 (MaxPooling2 (None, 7, 7, 512)         0         \n",
            "_________________________________________________________________\n",
            "zero_padding2d_12 (ZeroPaddi (None, 9, 9, 512)         0         \n",
            "_________________________________________________________________\n",
            "conv2d_24 (Conv2D)           (None, 9, 9, 512)         2359808   \n",
            "_________________________________________________________________\n",
            "activation_18 (Activation)   (None, 9, 9, 512)         0         \n",
            "_________________________________________________________________\n",
            "zero_padding2d_13 (ZeroPaddi (None, 11, 11, 512)       0         \n",
            "_________________________________________________________________\n",
            "conv2d_25 (Conv2D)           (None, 11, 11, 512)       2359808   \n",
            "_________________________________________________________________\n",
            "activation_19 (Activation)   (None, 11, 11, 512)       0         \n",
            "_________________________________________________________________\n",
            "zero_padding2d_14 (ZeroPaddi (None, 13, 13, 512)       0         \n",
            "_________________________________________________________________\n",
            "conv2d_26 (Conv2D)           (None, 13, 13, 512)       2359808   \n",
            "_________________________________________________________________\n",
            "activation_20 (Activation)   (None, 13, 13, 512)       0         \n",
            "_________________________________________________________________\n",
            "max_pooling2d_10 (MaxPooling (None, 6, 6, 512)         0         \n",
            "_________________________________________________________________\n",
            "flatten_2 (Flatten)          (None, 18432)             0         \n",
            "_________________________________________________________________\n",
            "dense_6 (Dense)              (None, 4096)              75501568  \n",
            "_________________________________________________________________\n",
            "activation_21 (Activation)   (None, 4096)              0         \n",
            "_________________________________________________________________\n",
            "dropout_3 (Dropout)          (None, 4096)              0         \n",
            "_________________________________________________________________\n",
            "dense_7 (Dense)              (None, 4096)              16781312  \n",
            "_________________________________________________________________\n",
            "activation_22 (Activation)   (None, 4096)              0         \n",
            "_________________________________________________________________\n",
            "dropout_4 (Dropout)          (None, 4096)              0         \n",
            "_________________________________________________________________\n",
            "dense_8 (Dense)              (None, 8)                 32776     \n",
            "_________________________________________________________________\n",
            "activation_23 (Activation)   (None, 8)                 0         \n",
            "=================================================================\n",
            "Total params: 107,030,344\n",
            "Trainable params: 107,030,344\n",
            "Non-trainable params: 0\n",
            "_________________________________________________________________\n",
            "Epoch 1/50\n",
            "Learning rate:  0.0003\n",
            "\n",
            "Epoch 00001: LearningRateScheduler setting learning rate to 0.0003.\n",
            "516/516 [==============================] - 177s 326ms/step - loss: 1.6873 - auc: 0.7762 - precision: 0.7537 - recall: 0.1788 - val_loss: 0.1827 - val_auc: 0.9929 - val_precision: 0.9653 - val_recall: 0.9588\n",
            "\n",
            "Epoch 00001: val_loss improved from inf to 0.18271, saving model to /content/drive/Shareddrives/Labs/2020_1_이소연/code/wm811k/model_output/1/sequential_1/001.h5\n",
            "WARNING:tensorflow:Can save best model only with val_accuracy available, skipping.\n",
            "Epoch 2/50\n",
            "Learning rate:  0.0003\n",
            "\n",
            "Epoch 00002: LearningRateScheduler setting learning rate to 0.0003.\n",
            "516/516 [==============================] - 160s 310ms/step - loss: 0.5231 - auc: 0.9798 - precision: 0.8818 - recall: 0.7514 - val_loss: 0.1657 - val_auc: 0.9915 - val_precision: 0.9698 - val_recall: 0.9686\n",
            "\n",
            "Epoch 00002: val_loss improved from 0.18271 to 0.16572, saving model to /content/drive/Shareddrives/Labs/2020_1_이소연/code/wm811k/model_output/1/sequential_1/002.h5\n",
            "WARNING:tensorflow:Can save best model only with val_accuracy available, skipping.\n",
            "Epoch 3/50\n",
            "Learning rate:  0.0003\n",
            "\n",
            "Epoch 00003: LearningRateScheduler setting learning rate to 0.0003.\n",
            "516/516 [==============================] - 160s 310ms/step - loss: 0.1686 - auc: 0.9953 - precision: 0.9656 - recall: 0.9543 - val_loss: 0.2078 - val_auc: 0.9900 - val_precision: 0.9732 - val_recall: 0.9711\n",
            "\n",
            "Epoch 00003: val_loss did not improve from 0.16572\n",
            "WARNING:tensorflow:Can save best model only with val_accuracy available, skipping.\n",
            "Epoch 4/50\n",
            "Learning rate:  0.0003\n",
            "\n",
            "Epoch 00004: LearningRateScheduler setting learning rate to 0.0003.\n",
            "516/516 [==============================] - 160s 310ms/step - loss: 0.1497 - auc: 0.9953 - precision: 0.9792 - recall: 0.9705 - val_loss: 0.2369 - val_auc: 0.9895 - val_precision: 0.9754 - val_recall: 0.9742\n",
            "\n",
            "Epoch 00004: val_loss did not improve from 0.16572\n",
            "WARNING:tensorflow:Can save best model only with val_accuracy available, skipping.\n",
            "Epoch 5/50\n",
            "Learning rate:  0.0003\n",
            "\n",
            "Epoch 00005: LearningRateScheduler setting learning rate to 0.0003.\n",
            "516/516 [==============================] - 160s 310ms/step - loss: 0.1119 - auc: 0.9969 - precision: 0.9838 - recall: 0.9763 - val_loss: 0.2390 - val_auc: 0.9916 - val_precision: 0.9750 - val_recall: 0.9738\n",
            "\n",
            "Epoch 00005: val_loss did not improve from 0.16572\n",
            "WARNING:tensorflow:Can save best model only with val_accuracy available, skipping.\n",
            "Epoch 6/50\n",
            "Learning rate:  0.0003\n",
            "\n",
            "Epoch 00006: LearningRateScheduler setting learning rate to 0.0003.\n",
            "516/516 [==============================] - 160s 309ms/step - loss: 0.0827 - auc: 0.9974 - precision: 0.9885 - recall: 0.9857 - val_loss: 0.2032 - val_auc: 0.9908 - val_precision: 0.9722 - val_recall: 0.9698\n",
            "\n",
            "Epoch 00006: val_loss did not improve from 0.16572\n",
            "WARNING:tensorflow:Can save best model only with val_accuracy available, skipping.\n",
            "Epoch 7/50\n",
            "Learning rate:  0.0003\n",
            "\n",
            "Epoch 00007: LearningRateScheduler setting learning rate to 0.0003.\n",
            "516/516 [==============================] - 160s 309ms/step - loss: 0.1269 - auc: 0.9971 - precision: 0.9878 - recall: 0.9816 - val_loss: 0.2337 - val_auc: 0.9927 - val_precision: 0.9765 - val_recall: 0.9705\n",
            "\n",
            "Epoch 00007: val_loss did not improve from 0.16572\n",
            "WARNING:tensorflow:Can save best model only with val_accuracy available, skipping.\n"
          ]
        }
      ]
    },
    {
      "cell_type": "code",
      "metadata": {
        "id": "auoKkBFeiqVt"
      },
      "source": [
        "loss=auto.history['loss']\n",
        "val_loss=auto.history['val_loss']\n",
        "auc=auto.history['auc']\n",
        "val_auc=auto.history['val_auc']\n",
        "precision=auto.history['precision']\n",
        "val_precision=auto.history['val_precision']\n",
        "recall=auto.history['recall']\n",
        "val_recall=auto.history['val_recall']\n",
        "epochs=range(1,len(loss)+1)\n",
        "\n",
        "data = np.array([epochs,loss,val_loss,auc,val_auc,precision,val_precision,recall, val_recall]).T"
      ],
      "execution_count": null,
      "outputs": []
    },
    {
      "cell_type": "code",
      "metadata": {
        "id": "LKOBpZVLifVr",
        "colab": {
          "base_uri": "https://localhost:8080/"
        },
        "outputId": "c62c3fe0-c764-48bd-fb02-7b9d87df6301"
      },
      "source": [
        "y_predict = model3.predict(x_test)\n",
        "y_pred_3 = np.ones(len(y_predict))\n",
        "for i in range(len(y_pred_3)):\n",
        "    y_pred_3[i] = np.argmax(y_predict[i])\n",
        "print(classification_report(y_test_, y_pred_3, target_names=labels))"
      ],
      "execution_count": null,
      "outputs": [
        {
          "output_type": "stream",
          "name": "stdout",
          "text": [
            "              precision    recall  f1-score   support\n",
            "\n",
            "      Center       0.64      0.88      0.74         8\n",
            "    Edge-Loc       0.69      0.48      0.57        52\n",
            "   Edge-Ring       0.70      0.86      0.78        22\n",
            "         Loc       0.79      0.51      0.62        43\n",
            "   Near-full       1.00      1.00      1.00        11\n",
            "      Random       1.00      0.20      0.33         5\n",
            "     Scratch       1.00      0.16      0.27        19\n",
            "        none       0.98      1.00      0.99      3090\n",
            "\n",
            "    accuracy                           0.97      3250\n",
            "   macro avg       0.85      0.64      0.66      3250\n",
            "weighted avg       0.97      0.97      0.97      3250\n",
            "\n"
          ]
        }
      ]
    },
    {
      "cell_type": "code",
      "metadata": {
        "colab": {
          "base_uri": "https://localhost:8080/",
          "height": 613
        },
        "id": "xESTPnsOUy9s",
        "outputId": "92735c5e-137b-4232-980c-918e0e54dd07"
      },
      "source": [
        "np.set_printoptions(precision=2)\n",
        "\n",
        "# Plot non-normalized confusion matrix\n",
        "plot_confusion_matrix2(y_test_, y_pred_3, classes=labels, title='Confusion matrix, without normalization')\n",
        "\n",
        "# Plot normalized confusion matrix\n",
        "plot_confusion_matrix2(y_test_, y_pred_3, classes=labels, normalize=True, title='Normalized confusion matrix')\n",
        "\n",
        "plt.show()"
      ],
      "execution_count": null,
      "outputs": [
        {
          "output_type": "stream",
          "name": "stdout",
          "text": [
            "Confusion matrix, without normalization\n",
            "Normalized confusion matrix\n"
          ]
        },
        {
          "output_type": "display_data",
          "data": {
            "image/png": "[encoded data removed]",
            "text/plain": [
              "<Figure size 432x288 with 2 Axes>"
            ]
          },
          "metadata": {
            "needs_background": "light"
          }
        },
        {
          "output_type": "display_data",
          "data": {
            "image/png": "[encoded data removed]",
            "text/plain": [
              "<Figure size 432x288 with 2 Axes>"
            ]
          },
          "metadata": {
            "needs_background": "light"
          }
        }
      ]
    },
    {
      "cell_type": "code",
      "metadata": {
        "id": "jwETRyV6cOkB"
      },
      "source": [
        "# 망한 모델"
      ],
      "execution_count": null,
      "outputs": []
    },
    {
      "cell_type": "code",
      "metadata": {
        "colab": {
          "base_uri": "https://localhost:8080/"
        },
        "id": "qtNh_tFVU34W",
        "outputId": "b73c040d-75c4-4475-857e-c250966db2a7"
      },
      "source": [
        "model4 = vgg19_model(img_shape=(32, 32, 3), n_classes=7)\n",
        "model4.summary()\n",
        "plot_model(model4, show_shapes=True)\n",
        "\n",
        "filepath =  os.path.join(dir,'model_output',number,model4.name,'{epoch:03d}.h5')\n",
        "callbacks_list = [ModelCheckpoint(filepath, monitor='val_loss', verbose=1, save_weights_only=False, save_best_only=True, mode='min'),\n",
        "                  ModelCheckpoint(filepath, monitor='val_accuracy', verbose=1, save_weights_only=False, save_best_only=True, mode='max'),\n",
        "                  EarlyStopping(monitor='val_auc', patience=3),\n",
        "                  LearningRateScheduler(lr_schedule,verbose=1)] \n",
        "model4.compile(optimizer = 'rmsprop', loss = 'categorical_crossentropy', metrics=['AUC', 'Precision','Recall'])\n",
        "auto = model4.fit(x_train, y_, validation_data=(x_test, y_2), epochs=50, batch_size=64, callbacks=callbacks_list, shuffle=True)"
      ],
      "execution_count": null,
      "outputs": [
        {
          "name": "stdout",
          "output_type": "stream",
          "text": [
            "Model: \"sequential_6\"\n",
            "_________________________________________________________________\n",
            "Layer (type)                 Output Shape              Param #   \n",
            "=================================================================\n",
            "conv2d_70 (Conv2D)           (None, 32, 32, 64)        1792      \n",
            "_________________________________________________________________\n",
            "activation_320 (Activation)  (None, 32, 32, 64)        0         \n",
            "_________________________________________________________________\n",
            "zero_padding2d_53 (ZeroPaddi (None, 34, 34, 64)        0         \n",
            "_________________________________________________________________\n",
            "conv2d_71 (Conv2D)           (None, 34, 34, 64)        36928     \n",
            "_________________________________________________________________\n",
            "activation_321 (Activation)  (None, 34, 34, 64)        0         \n",
            "_________________________________________________________________\n",
            "max_pooling2d_34 (MaxPooling (None, 17, 17, 64)        0         \n",
            "_________________________________________________________________\n",
            "zero_padding2d_54 (ZeroPaddi (None, 19, 19, 64)        0         \n",
            "_________________________________________________________________\n",
            "conv2d_72 (Conv2D)           (None, 19, 19, 128)       73856     \n",
            "_________________________________________________________________\n",
            "activation_322 (Activation)  (None, 19, 19, 128)       0         \n",
            "_________________________________________________________________\n",
            "zero_padding2d_55 (ZeroPaddi (None, 21, 21, 128)       0         \n",
            "_________________________________________________________________\n",
            "conv2d_73 (Conv2D)           (None, 21, 21, 128)       147584    \n",
            "_________________________________________________________________\n",
            "activation_323 (Activation)  (None, 21, 21, 128)       0         \n",
            "_________________________________________________________________\n",
            "max_pooling2d_35 (MaxPooling (None, 10, 10, 128)       0         \n",
            "_________________________________________________________________\n",
            "zero_padding2d_56 (ZeroPaddi (None, 12, 12, 128)       0         \n",
            "_________________________________________________________________\n",
            "conv2d_74 (Conv2D)           (None, 12, 12, 256)       295168    \n",
            "_________________________________________________________________\n",
            "activation_324 (Activation)  (None, 12, 12, 256)       0         \n",
            "_________________________________________________________________\n",
            "zero_padding2d_57 (ZeroPaddi (None, 14, 14, 256)       0         \n",
            "_________________________________________________________________\n",
            "conv2d_75 (Conv2D)           (None, 14, 14, 256)       590080    \n",
            "_________________________________________________________________\n",
            "activation_325 (Activation)  (None, 14, 14, 256)       0         \n",
            "_________________________________________________________________\n",
            "zero_padding2d_58 (ZeroPaddi (None, 16, 16, 256)       0         \n",
            "_________________________________________________________________\n",
            "conv2d_76 (Conv2D)           (None, 16, 16, 256)       590080    \n",
            "_________________________________________________________________\n",
            "activation_326 (Activation)  (None, 16, 16, 256)       0         \n",
            "_________________________________________________________________\n",
            "zero_padding2d_59 (ZeroPaddi (None, 18, 18, 256)       0         \n",
            "_________________________________________________________________\n",
            "conv2d_77 (Conv2D)           (None, 18, 18, 256)       590080    \n",
            "_________________________________________________________________\n",
            "activation_327 (Activation)  (None, 18, 18, 256)       0         \n",
            "_________________________________________________________________\n",
            "max_pooling2d_36 (MaxPooling (None, 9, 9, 256)         0         \n",
            "_________________________________________________________________\n",
            "zero_padding2d_60 (ZeroPaddi (None, 11, 11, 256)       0         \n",
            "_________________________________________________________________\n",
            "conv2d_78 (Conv2D)           (None, 11, 11, 512)       1180160   \n",
            "_________________________________________________________________\n",
            "activation_328 (Activation)  (None, 11, 11, 512)       0         \n",
            "_________________________________________________________________\n",
            "zero_padding2d_61 (ZeroPaddi (None, 13, 13, 512)       0         \n",
            "_________________________________________________________________\n",
            "conv2d_79 (Conv2D)           (None, 13, 13, 512)       2359808   \n",
            "_________________________________________________________________\n",
            "activation_329 (Activation)  (None, 13, 13, 512)       0         \n",
            "_________________________________________________________________\n",
            "zero_padding2d_62 (ZeroPaddi (None, 15, 15, 512)       0         \n",
            "_________________________________________________________________\n",
            "conv2d_80 (Conv2D)           (None, 15, 15, 512)       2359808   \n",
            "_________________________________________________________________\n",
            "activation_330 (Activation)  (None, 15, 15, 512)       0         \n",
            "_________________________________________________________________\n",
            "zero_padding2d_63 (ZeroPaddi (None, 17, 17, 512)       0         \n",
            "_________________________________________________________________\n",
            "conv2d_81 (Conv2D)           (None, 17, 17, 512)       2359808   \n",
            "_________________________________________________________________\n",
            "activation_331 (Activation)  (None, 17, 17, 512)       0         \n",
            "_________________________________________________________________\n",
            "max_pooling2d_37 (MaxPooling (None, 8, 8, 512)         0         \n",
            "_________________________________________________________________\n",
            "zero_padding2d_64 (ZeroPaddi (None, 10, 10, 512)       0         \n",
            "_________________________________________________________________\n",
            "conv2d_82 (Conv2D)           (None, 10, 10, 512)       2359808   \n",
            "_________________________________________________________________\n",
            "activation_332 (Activation)  (None, 10, 10, 512)       0         \n",
            "_________________________________________________________________\n",
            "zero_padding2d_65 (ZeroPaddi (None, 12, 12, 512)       0         \n",
            "_________________________________________________________________\n",
            "conv2d_83 (Conv2D)           (None, 12, 12, 512)       2359808   \n",
            "_________________________________________________________________\n",
            "activation_333 (Activation)  (None, 12, 12, 512)       0         \n",
            "_________________________________________________________________\n",
            "zero_padding2d_66 (ZeroPaddi (None, 14, 14, 512)       0         \n",
            "_________________________________________________________________\n",
            "conv2d_84 (Conv2D)           (None, 14, 14, 512)       2359808   \n",
            "_________________________________________________________________\n",
            "activation_334 (Activation)  (None, 14, 14, 512)       0         \n",
            "_________________________________________________________________\n",
            "zero_padding2d_67 (ZeroPaddi (None, 16, 16, 512)       0         \n",
            "_________________________________________________________________\n",
            "conv2d_85 (Conv2D)           (None, 16, 16, 512)       2359808   \n",
            "_________________________________________________________________\n",
            "activation_335 (Activation)  (None, 16, 16, 512)       0         \n",
            "_________________________________________________________________\n",
            "max_pooling2d_38 (MaxPooling (None, 8, 8, 512)         0         \n",
            "_________________________________________________________________\n",
            "flatten_13 (Flatten)         (None, 32768)             0         \n",
            "_________________________________________________________________\n",
            "dense_24 (Dense)             (None, 4096)              134221824 \n",
            "_________________________________________________________________\n",
            "activation_336 (Activation)  (None, 4096)              0         \n",
            "_________________________________________________________________\n",
            "dropout_14 (Dropout)         (None, 4096)              0         \n",
            "_________________________________________________________________\n",
            "dense_25 (Dense)             (None, 4096)              16781312  \n",
            "_________________________________________________________________\n",
            "activation_337 (Activation)  (None, 4096)              0         \n",
            "_________________________________________________________________\n",
            "dropout_15 (Dropout)         (None, 4096)              0         \n",
            "_________________________________________________________________\n",
            "dense_26 (Dense)             (None, 7)                 28679     \n",
            "_________________________________________________________________\n",
            "activation_338 (Activation)  (None, 7)                 0         \n",
            "=================================================================\n",
            "Total params: 171,056,199\n",
            "Trainable params: 171,056,199\n",
            "Non-trainable params: 0\n",
            "_________________________________________________________________\n",
            "Epoch 1/50\n",
            "Learning rate:  0.0003\n",
            "\n",
            "Epoch 00001: LearningRateScheduler reducing learning rate to 0.0003.\n",
            "267/267 [==============================] - 76s 245ms/step - loss: 2.0050 - auc: 0.5768 - precision: 0.3059 - recall: 0.0046 - val_loss: 1.4747 - val_auc: 0.9746 - val_precision: 0.0000e+00 - val_recall: 0.0000e+00\n",
            "\n",
            "Epoch 00001: val_loss improved from inf to 1.47465, saving model to /content/drive/Shareddrives/Labs/2020_1_이소연/code/wm811k/model_output/1/sequential_6/001.h5\n",
            "WARNING:tensorflow:Can save best model only with val_accuracy available, skipping.\n",
            "Epoch 2/50\n",
            "Learning rate:  0.0003\n",
            "\n",
            "Epoch 00002: LearningRateScheduler reducing learning rate to 0.0003.\n",
            "267/267 [==============================] - 66s 249ms/step - loss: 1.9654 - auc: 0.6311 - precision: 0.7222 - recall: 0.0412 - val_loss: 1.2960 - val_auc: 0.9747 - val_precision: 0.0000e+00 - val_recall: 0.0000e+00\n",
            "\n",
            "Epoch 00002: val_loss improved from 1.47465 to 1.29596, saving model to /content/drive/Shareddrives/Labs/2020_1_이소연/code/wm811k/model_output/1/sequential_6/002.h5\n",
            "WARNING:tensorflow:Can save best model only with val_accuracy available, skipping.\n",
            "Epoch 3/50\n",
            "Learning rate:  0.0003\n",
            "\n",
            "Epoch 00003: LearningRateScheduler reducing learning rate to 0.0003.\n",
            "267/267 [==============================] - 68s 256ms/step - loss: 1.5095 - auc: 0.7874 - precision: 0.7161 - recall: 0.1730 - val_loss: 0.6823 - val_auc: 0.9844 - val_precision: 0.9649 - val_recall: 0.9575\n",
            "\n",
            "Epoch 00003: val_loss improved from 1.29596 to 0.68233, saving model to /content/drive/Shareddrives/Labs/2020_1_이소연/code/wm811k/model_output/1/sequential_6/003.h5\n",
            "WARNING:tensorflow:Can save best model only with val_accuracy available, skipping.\n",
            "Epoch 4/50\n",
            "Learning rate:  0.0003\n",
            "\n",
            "Epoch 00004: LearningRateScheduler reducing learning rate to 0.0003.\n",
            "267/267 [==============================] - 69s 258ms/step - loss: 0.7294 - auc: 0.9544 - precision: 0.8402 - recall: 0.6557 - val_loss: 0.1775 - val_auc: 0.9872 - val_precision: 0.9688 - val_recall: 0.9652\n",
            "\n",
            "Epoch 00004: val_loss improved from 0.68233 to 0.17751, saving model to /content/drive/Shareddrives/Labs/2020_1_이소연/code/wm811k/model_output/1/sequential_6/004.h5\n",
            "WARNING:tensorflow:Can save best model only with val_accuracy available, skipping.\n"
          ]
        }
      ]
    },
    {
      "cell_type": "code",
      "metadata": {
        "id": "qmns87y7fcaU"
      },
      "source": [
        "y_test_pred = model4.predict_classes(x_test)"
      ],
      "execution_count": null,
      "outputs": []
    },
    {
      "cell_type": "code",
      "metadata": {
        "id": "2CKKXylEfcaj"
      },
      "source": [
        "le = LabelEncoder()\n",
        "y_test_ = le.fit_transform(y_test)"
      ],
      "execution_count": null,
      "outputs": []
    },
    {
      "cell_type": "code",
      "metadata": {
        "colab": {
          "base_uri": "https://localhost:8080/"
        },
        "id": "-LLBoSMdfcak",
        "outputId": "81602a67-54d9-4ab6-e58c-c1b0916c7055"
      },
      "source": [
        "print(len(y_test_pred),len(y_test_))"
      ],
      "execution_count": null,
      "outputs": [
        {
          "name": "stdout",
          "output_type": "stream",
          "text": [
            "3245 3245\n"
          ]
        }
      ]
    },
    {
      "cell_type": "code",
      "metadata": {
        "colab": {
          "base_uri": "https://localhost:8080/"
        },
        "id": "UkcqsRAyfcam",
        "outputId": "f0cc985d-9deb-44ca-8032-f254f544c3b1"
      },
      "source": [
        "print(classification_report(y_test_, y_test_pred, target_names=labels))"
      ],
      "execution_count": null,
      "outputs": [
        {
          "name": "stdout",
          "output_type": "stream",
          "text": [
            "              precision    recall  f1-score   support\n",
            "\n",
            "      Center       0.00      0.00      0.00         7\n",
            "    Edge-Loc       0.80      0.40      0.53        50\n",
            "   Edge-Ring       0.75      0.52      0.62        23\n",
            "         Loc       0.67      0.10      0.17        41\n",
            "   Near-full       0.88      1.00      0.93         7\n",
            "     Scratch       0.00      0.00      0.00        23\n",
            "        none       0.97      1.00      0.99      3094\n",
            "\n",
            "    accuracy                           0.97      3245\n",
            "   macro avg       0.58      0.43      0.46      3245\n",
            "weighted avg       0.96      0.97      0.96      3245\n",
            "\n"
          ]
        }
      ]
    },
    {
      "cell_type": "code",
      "metadata": {
        "colab": {
          "base_uri": "https://localhost:8080/",
          "height": 612
        },
        "id": "C5U52i4Sfcan",
        "outputId": "12cf89c0-5516-49d1-b3f8-8c8987d3a952"
      },
      "source": [
        "np.set_printoptions(precision=2)\n",
        "\n",
        "# Plot non-normalized confusion matrix]\n",
        "plot_confusion_matrix2(y_test_, y_test_pred, classes=labels, title='Confusion matrix, without normalization')\n",
        "\n",
        "# Plot normalized confusion matrix]\n",
        "plot_confusion_matrix2(y_test_, y_test_pred, classes=labels, normalize=True, title='Normalized confusion matrix')\n",
        "\n",
        "plt.show()"
      ],
      "execution_count": null,
      "outputs": [
        {
          "name": "stdout",
          "output_type": "stream",
          "text": [
            "Confusion matrix, without normalization\n",
            "Normalized confusion matrix\n"
          ]
        },
        {
          "data": {
            "image/png": "[encoded data removed]",
            "text/plain": [
              "<Figure size 432x288 with 2 Axes>"
            ]
          },
          "metadata": {
            "needs_background": "light",
            "tags": []
          },
          "output_type": "display_data"
        },
        {
          "data": {
            "image/png": "[encoded data removed]",
            "text/plain": [
              "<Figure size 432x288 with 2 Axes>"
            ]
          },
          "metadata": {
            "needs_background": "light",
            "tags": []
          },
          "output_type": "display_data"
        }
      ]
    },
    {
      "cell_type": "code",
      "metadata": {
        "id": "wpwHx6UUU3-u"
      },
      "source": [
        ""
      ],
      "execution_count": null,
      "outputs": []
    },
    {
      "cell_type": "code",
      "metadata": {
        "id": "_6qIYeNrkekF"
      },
      "source": [
        ""
      ],
      "execution_count": null,
      "outputs": []
    },
    {
      "cell_type": "code",
      "metadata": {
        "colab": {
          "base_uri": "https://localhost:8080/",
          "height": 808
        },
        "id": "E6KQ_l7MhtPf",
        "outputId": "954da1e5-bfdd-40f8-95cf-d4a5c127af44"
      },
      "source": [
        "plt.plot(epochs[1:],auc[1:],'b',label='Training 1-Auc')\n",
        "plt.plot(epochs[1:],val_auc[1:],'r',label='Validation 1-Auc')\n",
        "plt.title('Training and Validation Top-1 AUC')\n",
        "plt.legend()\n",
        "plt.figure()\n",
        "\n",
        "plt.plot(epochs,precision,'b',label='Training Precision')\n",
        "plt.plot(epochs,val_precision,'r',label='Validation Precision')\n",
        "plt.title('Training and Validation Precision')\n",
        "plt.legend()\n",
        "plt.figure()\n",
        "\n",
        "plt.plot(epochs,loss,'b',label='Training Loss')\n",
        "plt.plot(epochs,val_loss,'r',label='Validation Loss')\n",
        "plt.title('Training and Validation Loss')\n",
        "plt.legend()\n",
        "plt.show()"
      ],
      "execution_count": null,
      "outputs": [
        {
          "data": {
            "image/png": "[encoded data removed]",
            "text/plain": [
              "<Figure size 432x288 with 1 Axes>"
            ]
          },
          "metadata": {
            "needs_background": "light",
            "tags": []
          },
          "output_type": "display_data"
        },
        {
          "data": {
            "image/png": "[encoded data removed]",
            "text/plain": [
              "<Figure size 432x288 with 1 Axes>"
            ]
          },
          "metadata": {
            "needs_background": "light",
            "tags": []
          },
          "output_type": "display_data"
        },
        {
          "data": {
            "image/png": "[encoded data removed]",
            "text/plain": [
              "<Figure size 432x288 with 1 Axes>"
            ]
          },
          "metadata": {
            "needs_background": "light",
            "tags": []
          },
          "output_type": "display_data"
        }
      ]
    },
    {
      "cell_type": "code",
      "metadata": {
        "id": "JFhGzKxYhtSh"
      },
      "source": [
        "def identity_block(X, f, filters, stage, block):\n",
        "    \"\"\"\n",
        "    Implementation of the identity block as defined in Figure 4\n",
        "    \n",
        "    Arguments:\n",
        "    X -- input tensor of shape (m, n_H_prev, n_W_prev, n_C_prev)\n",
        "    f -- integer, specifying the shape of the middle CONV's window for the main path\n",
        "    filters -- python list of integers, defining the number of filters in the CONV layers of the main path\n",
        "    stage -- integer, used to name the layers, depending on their position in the network\n",
        "    block -- string/character, used to name the layers, depending on their position in the network\n",
        "    \n",
        "    Returns:\n",
        "    X -- output of the identity block, tensor of shape (n_H, n_W, n_C)\n",
        "    \"\"\"\n",
        "    \n",
        "    # defining name basis\n",
        "    conv_name_base = 'res' + str(stage) + block + '_branch'\n",
        "    bn_name_base = 'bn' + str(stage) + block + '_branch'\n",
        "    \n",
        "    # Retrieve Filters\n",
        "    F1, F2, F3 = filters\n",
        "    \n",
        "    # Save the input value. You'll need this later to add back to the main path. \n",
        "    X_shortcut = X\n",
        "    \n",
        "    # First component of main path\n",
        "    X = Conv2D(filters = F1, kernel_size = (1, 1), strides = (1,1), padding = 'valid', name = conv_name_base + '2a', kernel_initializer = glorot_uniform(seed=0))(X)\n",
        "    X = BatchNormalization(axis = 3, name = bn_name_base + '2a')(X)\n",
        "    X = Activation('relu')(X)\n",
        "    \n",
        "    ### START CODE HERE ###\n",
        "    \n",
        "    # Second component of main path (≈3 lines)\n",
        "    X = Conv2D(filters = F2, kernel_size = (f,f), strides = (1,1), padding = 'same', name = conv_name_base + '2b', kernel_initializer = glorot_uniform(seed=0))(X)\n",
        "    X = BatchNormalization(axis = 3, name = bn_name_base + '2b')(X)\n",
        "    X = Activation('relu')(X)\n",
        "\n",
        "    # Third component of main path (≈2 lines)\n",
        "    X = Conv2D(filters = F3, kernel_size = (1,1), strides = (1,1), padding = 'valid', name = conv_name_base + '2c', kernel_initializer = glorot_uniform(seed=0))(X)\n",
        "    X = BatchNormalization(axis = 3, name = bn_name_base + '2c')(X)\n",
        "\n",
        "    # Final step: Add shortcut value to main path, and pass it through a RELU activation (≈2 lines)\n",
        "    X = Add()([X, X_shortcut])\n",
        "    X = Activation('relu')(X)\n",
        "    \n",
        "    ### END CODE HERE ###\n",
        "    \n",
        "    return X"
      ],
      "execution_count": null,
      "outputs": []
    },
    {
      "cell_type": "code",
      "metadata": {
        "id": "hZqgbiaVhh3X"
      },
      "source": [
        "def convolutional_block(X, f, filters, stage, block, s = 2):\n",
        "    \"\"\"\n",
        "    Implementation of the convolutional block as defined in Figure 4\n",
        "    \n",
        "    Arguments:\n",
        "    X -- input tensor of shape (m, n_H_prev, n_W_prev, n_C_prev)\n",
        "    f -- integer, specifying the shape of the middle CONV's window for the main path\n",
        "    filters -- python list of integers, defining the number of filters in the CONV layers of the main path\n",
        "    stage -- integer, used to name the layers, depending on their position in the network\n",
        "    block -- string/character, used to name the layers, depending on their position in the network\n",
        "    s -- Integer, specifying the stride to be used\n",
        "    \n",
        "    Returns:\n",
        "    X -- output of the convolutional block, tensor of shape (n_H, n_W, n_C)\n",
        "    \"\"\"\n",
        "    \n",
        "    # defining name basis\n",
        "    conv_name_base = 'res' + str(stage) + block + '_branch'\n",
        "    bn_name_base = 'bn' + str(stage) + block + '_branch'\n",
        "    \n",
        "    # Retrieve Filters\n",
        "    F1, F2, F3 = filters\n",
        "    \n",
        "    # Save the input value\n",
        "    X_shortcut = X\n",
        "\n",
        "\n",
        "    ##### MAIN PATH #####\n",
        "    # First component of main path \n",
        "    X = Conv2D(F1, (1, 1), strides = (s,s), padding = 'valid', name = conv_name_base + '2a', kernel_initializer = glorot_uniform(seed=0))(X)\n",
        "    X = BatchNormalization(axis = 3, name = bn_name_base + '2a')(X)\n",
        "    X = Activation('relu')(X)\n",
        "    \n",
        "    ### START CODE HERE ###\n",
        "\n",
        "    # Second component of main path (≈3 lines)\n",
        "    X = Conv2D(F2, (f, f), strides = (1,1), padding = 'same', name = conv_name_base + '2b', kernel_initializer = glorot_uniform(seed=0))(X)\n",
        "    X = BatchNormalization(axis = 3, name = bn_name_base + '2b')(X)\n",
        "    X = Activation('relu')(X)\n",
        "\n",
        "    # Third component of main path (≈2 lines)\n",
        "    X = Conv2D(F3, (1, 1), strides = (1,1), padding = 'valid', name = conv_name_base + '2c', kernel_initializer = glorot_uniform(seed=0))(X)\n",
        "    X = BatchNormalization(axis = 3, name = bn_name_base + '2c')(X)\n",
        "\n",
        "    ##### SHORTCUT PATH #### (≈2 lines)\n",
        "    X_shortcut = Conv2D(F3, (1, 1), strides = (s,s), padding = 'valid', name = conv_name_base + '1', kernel_initializer = glorot_uniform(seed=0))(X_shortcut)\n",
        "    X_shortcut = BatchNormalization(axis = 3, name = bn_name_base + '1')(X_shortcut)\n",
        "\n",
        "    # Final step: Add shortcut value to main path, and pass it through a RELU activation (≈2 lines)\n",
        "    X = Add()([X, X_shortcut])\n",
        "    X = Activation('relu')(X)\n",
        "    \n",
        "    ### END CODE HERE ###\n",
        "    \n",
        "    return X"
      ],
      "execution_count": null,
      "outputs": []
    },
    {
      "cell_type": "code",
      "metadata": {
        "id": "ZhLhFys5S_2P"
      },
      "source": [
        "\n",
        "def ResNet50(input_shape = (27, 27, 3), classes = 9):\n",
        "    \"\"\"\n",
        "    Implementation of the popular ResNet50 the following architecture:\n",
        "    CONV2D -> BATCHNORM -> RELU -> MAXPOOL -> CONVBLOCK -> IDBLOCK*2 -> CONVBLOCK -> IDBLOCK*3\n",
        "    -> CONVBLOCK -> IDBLOCK*5 -> CONVBLOCK -> IDBLOCK*2 -> AVGPOOL -> TOPLAYER\n",
        "\n",
        "    Arguments:\n",
        "    input_shape -- shape of the images of the dataset\n",
        "    classes -- integer, number of classes\n",
        "\n",
        "    Returns:\n",
        "    model -- a Model() instance in Keras\n",
        "    \"\"\"\n",
        "    \n",
        "    # Define the input as a tensor with shape input_shape\n",
        "    X_input = Input(input_shape)\n",
        "\n",
        "    \n",
        "    # Zero-Padding\n",
        "    X = ZeroPadding2D((1, 1))(X_input)\n",
        "    \n",
        "    # Stage 1\n",
        "    X = Conv2D(64, (3, 3), name = 'conv1', kernel_initializer = glorot_uniform(seed=0))(X)\n",
        "    X = BatchNormalization(axis = 3, name = 'bn_conv1')(X)\n",
        "    X = Activation('relu')(X)\n",
        "    X = MaxPooling2D((2, 2))(X)\n",
        "\n",
        "    # Stage 2\n",
        "    X = convolutional_block(X, f = 3, filters = [32,32,128], stage = 2, block='a', s = 1)\n",
        "    X = identity_block(X, 3, [32,32,128], stage=2, block='b')\n",
        "    X = identity_block(X, 3, [32,32,128], stage=2, block='c')\n",
        "\n",
        "    ### START CODE HERE ###\n",
        "\n",
        "    # Stage 3 (≈4 lines)\n",
        "    X = convolutional_block(X, f = 3, filters = [64,64,256], stage = 3, block='a', s = 2)\n",
        "    X = identity_block(X, 3, [64,64,256], stage=3, block='b')\n",
        "    X = identity_block(X, 3, [64,64,256], stage=3, block='c')\n",
        "    X = identity_block(X, 3, [64,64,256], stage=3, block='d')\n",
        "\n",
        "    # Stage 4 (≈6 lines)\n",
        "    X = convolutional_block(X, f = 3, filters = [128,128,512], stage = 4, block='a', s = 2)\n",
        "    X = identity_block(X, 3, [128,128,512], stage=4, block='b')\n",
        "    X = identity_block(X, 3, [128,128,512], stage=4, block='c')\n",
        "    X = identity_block(X, 3, [128,128,512], stage=4, block='d')\n",
        "    X = identity_block(X, 3, [128,128,512], stage=4, block='e')\n",
        "    X = identity_block(X, 3, [128,128,512], stage=4, block='f')\n",
        "\n",
        "    # Stage 5 (≈3 lines)\n",
        "    X = convolutional_block(X, f = 3, filters = [256, 256, 1024], stage = 5, block='a', s = 2)\n",
        "    X = identity_block(X, 3, [256, 256, 1024], stage=5, block='b')\n",
        "    X = identity_block(X, 3, [256, 256, 1024], stage=5, block='c')\n",
        "\n",
        "    # AVGPOOL (≈1 line). Use \"X = AveragePooling2D(...)(X)\"\n",
        "    X = AveragePooling2D(pool_size=(2,2), name = \"avg_pool\")(X)\n",
        "    \n",
        "    ### END CODE HERE ###\n",
        "\n",
        "    # output layer\n",
        "    X = Flatten()(X)\n",
        "    X = Dense(classes, activation='softmax', name='fc' + str(classes), kernel_initializer = glorot_uniform(seed=0))(X)\n",
        "    \n",
        "    \n",
        "    # Create model\n",
        "    model = Model(inputs = X_input, outputs = X, name='ResNet50')\n",
        "\n",
        "    return model"
      ],
      "execution_count": null,
      "outputs": []
    },
    {
      "cell_type": "code",
      "metadata": {
        "colab": {
          "base_uri": "https://localhost:8080/"
        },
        "id": "TrRyEX3ahh5r",
        "outputId": "fd33dcb1-5c59-4078-e856-f98437000569"
      },
      "source": [
        "# ResNet50\n",
        "model5 = ResNet50(input_shape = (32, 32, 3), classes = 8)\n",
        "model5.summary()\n",
        "plot_model(model5, show_shapes=True)\n",
        "\n",
        "filepath =  os.path.join(dir,'model_output',number,model5.name,'{epoch:03d}.h5')\n",
        "callbacks_list = [ModelCheckpoint(filepath, monitor='val_loss', verbose=1, save_weights_only=False, save_best_only=True, mode='min'),\n",
        "                  ModelCheckpoint(filepath, monitor='val_accuracy', verbose=1, save_weights_only=False, save_best_only=True, mode='max'),\n",
        "                  EarlyStopping(monitor='val_auc', patience=3),\n",
        "                  LearningRateScheduler(lr_schedule,verbose=1)] \n",
        "model5.compile(optimizer = 'rmsprop', loss = 'categorical_crossentropy', metrics=['AUC', 'Precision','Recall'])\n",
        "auto = model5.fit(x_train, y_, validation_data=(x_test, y_2), epochs=30, batch_size=64, callbacks=callbacks_list, shuffle=True)"
      ],
      "execution_count": null,
      "outputs": [
        {
          "name": "stdout",
          "output_type": "stream",
          "text": [
            "Model: \"ResNet50\"\n",
            "__________________________________________________________________________________________________\n",
            "Layer (type)                    Output Shape         Param #     Connected to                     \n",
            "==================================================================================================\n",
            "input_5 (InputLayer)            [(None, 32, 32, 3)]  0                                            \n",
            "__________________________________________________________________________________________________\n",
            "zero_padding2d_16 (ZeroPadding2 (None, 34, 34, 3)    0           input_5[0][0]                    \n",
            "__________________________________________________________________________________________________\n",
            "conv1 (Conv2D)                  (None, 32, 32, 64)   1792        zero_padding2d_16[0][0]          \n",
            "__________________________________________________________________________________________________\n",
            "bn_conv1 (BatchNormalization)   (None, 32, 32, 64)   256         conv1[0][0]                      \n",
            "__________________________________________________________________________________________________\n",
            "activation_73 (Activation)      (None, 32, 32, 64)   0           bn_conv1[0][0]                   \n",
            "__________________________________________________________________________________________________\n",
            "max_pooling2d_12 (MaxPooling2D) (None, 16, 16, 64)   0           activation_73[0][0]              \n",
            "__________________________________________________________________________________________________\n",
            "res2a_branch2a (Conv2D)         (None, 16, 16, 32)   2080        max_pooling2d_12[0][0]           \n",
            "__________________________________________________________________________________________________\n",
            "bn2a_branch2a (BatchNormalizati (None, 16, 16, 32)   128         res2a_branch2a[0][0]             \n",
            "__________________________________________________________________________________________________\n",
            "activation_74 (Activation)      (None, 16, 16, 32)   0           bn2a_branch2a[0][0]              \n",
            "__________________________________________________________________________________________________\n",
            "res2a_branch2b (Conv2D)         (None, 16, 16, 32)   9248        activation_74[0][0]              \n",
            "__________________________________________________________________________________________________\n",
            "bn2a_branch2b (BatchNormalizati (None, 16, 16, 32)   128         res2a_branch2b[0][0]             \n",
            "__________________________________________________________________________________________________\n",
            "activation_75 (Activation)      (None, 16, 16, 32)   0           bn2a_branch2b[0][0]              \n",
            "__________________________________________________________________________________________________\n",
            "res2a_branch2c (Conv2D)         (None, 16, 16, 128)  4224        activation_75[0][0]              \n",
            "__________________________________________________________________________________________________\n",
            "res2a_branch1 (Conv2D)          (None, 16, 16, 128)  8320        max_pooling2d_12[0][0]           \n",
            "__________________________________________________________________________________________________\n",
            "bn2a_branch2c (BatchNormalizati (None, 16, 16, 128)  512         res2a_branch2c[0][0]             \n",
            "__________________________________________________________________________________________________\n",
            "bn2a_branch1 (BatchNormalizatio (None, 16, 16, 128)  512         res2a_branch1[0][0]              \n",
            "__________________________________________________________________________________________________\n",
            "add_16 (Add)                    (None, 16, 16, 128)  0           bn2a_branch2c[0][0]              \n",
            "                                                                 bn2a_branch1[0][0]               \n",
            "__________________________________________________________________________________________________\n",
            "activation_76 (Activation)      (None, 16, 16, 128)  0           add_16[0][0]                     \n",
            "__________________________________________________________________________________________________\n",
            "res2b_branch2a (Conv2D)         (None, 16, 16, 32)   4128        activation_76[0][0]              \n",
            "__________________________________________________________________________________________________\n",
            "bn2b_branch2a (BatchNormalizati (None, 16, 16, 32)   128         res2b_branch2a[0][0]             \n",
            "__________________________________________________________________________________________________\n",
            "activation_77 (Activation)      (None, 16, 16, 32)   0           bn2b_branch2a[0][0]              \n",
            "__________________________________________________________________________________________________\n",
            "res2b_branch2b (Conv2D)         (None, 16, 16, 32)   9248        activation_77[0][0]              \n",
            "__________________________________________________________________________________________________\n",
            "bn2b_branch2b (BatchNormalizati (None, 16, 16, 32)   128         res2b_branch2b[0][0]             \n",
            "__________________________________________________________________________________________________\n",
            "activation_78 (Activation)      (None, 16, 16, 32)   0           bn2b_branch2b[0][0]              \n",
            "__________________________________________________________________________________________________\n",
            "res2b_branch2c (Conv2D)         (None, 16, 16, 128)  4224        activation_78[0][0]              \n",
            "__________________________________________________________________________________________________\n",
            "bn2b_branch2c (BatchNormalizati (None, 16, 16, 128)  512         res2b_branch2c[0][0]             \n",
            "__________________________________________________________________________________________________\n",
            "add_17 (Add)                    (None, 16, 16, 128)  0           bn2b_branch2c[0][0]              \n",
            "                                                                 activation_76[0][0]              \n",
            "__________________________________________________________________________________________________\n",
            "activation_79 (Activation)      (None, 16, 16, 128)  0           add_17[0][0]                     \n",
            "__________________________________________________________________________________________________\n",
            "res2c_branch2a (Conv2D)         (None, 16, 16, 32)   4128        activation_79[0][0]              \n",
            "__________________________________________________________________________________________________\n",
            "bn2c_branch2a (BatchNormalizati (None, 16, 16, 32)   128         res2c_branch2a[0][0]             \n",
            "__________________________________________________________________________________________________\n",
            "activation_80 (Activation)      (None, 16, 16, 32)   0           bn2c_branch2a[0][0]              \n",
            "__________________________________________________________________________________________________\n",
            "res2c_branch2b (Conv2D)         (None, 16, 16, 32)   9248        activation_80[0][0]              \n",
            "__________________________________________________________________________________________________\n",
            "bn2c_branch2b (BatchNormalizati (None, 16, 16, 32)   128         res2c_branch2b[0][0]             \n",
            "__________________________________________________________________________________________________\n",
            "activation_81 (Activation)      (None, 16, 16, 32)   0           bn2c_branch2b[0][0]              \n",
            "__________________________________________________________________________________________________\n",
            "res2c_branch2c (Conv2D)         (None, 16, 16, 128)  4224        activation_81[0][0]              \n",
            "__________________________________________________________________________________________________\n",
            "bn2c_branch2c (BatchNormalizati (None, 16, 16, 128)  512         res2c_branch2c[0][0]             \n",
            "__________________________________________________________________________________________________\n",
            "add_18 (Add)                    (None, 16, 16, 128)  0           bn2c_branch2c[0][0]              \n",
            "                                                                 activation_79[0][0]              \n",
            "__________________________________________________________________________________________________\n",
            "activation_82 (Activation)      (None, 16, 16, 128)  0           add_18[0][0]                     \n",
            "__________________________________________________________________________________________________\n",
            "res3a_branch2a (Conv2D)         (None, 8, 8, 64)     8256        activation_82[0][0]              \n",
            "__________________________________________________________________________________________________\n",
            "bn3a_branch2a (BatchNormalizati (None, 8, 8, 64)     256         res3a_branch2a[0][0]             \n",
            "__________________________________________________________________________________________________\n",
            "activation_83 (Activation)      (None, 8, 8, 64)     0           bn3a_branch2a[0][0]              \n",
            "__________________________________________________________________________________________________\n",
            "res3a_branch2b (Conv2D)         (None, 8, 8, 64)     36928       activation_83[0][0]              \n",
            "__________________________________________________________________________________________________\n",
            "bn3a_branch2b (BatchNormalizati (None, 8, 8, 64)     256         res3a_branch2b[0][0]             \n",
            "__________________________________________________________________________________________________\n",
            "activation_84 (Activation)      (None, 8, 8, 64)     0           bn3a_branch2b[0][0]              \n",
            "__________________________________________________________________________________________________\n",
            "res3a_branch2c (Conv2D)         (None, 8, 8, 256)    16640       activation_84[0][0]              \n",
            "__________________________________________________________________________________________________\n",
            "res3a_branch1 (Conv2D)          (None, 8, 8, 256)    33024       activation_82[0][0]              \n",
            "__________________________________________________________________________________________________\n",
            "bn3a_branch2c (BatchNormalizati (None, 8, 8, 256)    1024        res3a_branch2c[0][0]             \n",
            "__________________________________________________________________________________________________\n",
            "bn3a_branch1 (BatchNormalizatio (None, 8, 8, 256)    1024        res3a_branch1[0][0]              \n",
            "__________________________________________________________________________________________________\n",
            "add_19 (Add)                    (None, 8, 8, 256)    0           bn3a_branch2c[0][0]              \n",
            "                                                                 bn3a_branch1[0][0]               \n",
            "__________________________________________________________________________________________________\n",
            "activation_85 (Activation)      (None, 8, 8, 256)    0           add_19[0][0]                     \n",
            "__________________________________________________________________________________________________\n",
            "res3b_branch2a (Conv2D)         (None, 8, 8, 64)     16448       activation_85[0][0]              \n",
            "__________________________________________________________________________________________________\n",
            "bn3b_branch2a (BatchNormalizati (None, 8, 8, 64)     256         res3b_branch2a[0][0]             \n",
            "__________________________________________________________________________________________________\n",
            "activation_86 (Activation)      (None, 8, 8, 64)     0           bn3b_branch2a[0][0]              \n",
            "__________________________________________________________________________________________________\n",
            "res3b_branch2b (Conv2D)         (None, 8, 8, 64)     36928       activation_86[0][0]              \n",
            "__________________________________________________________________________________________________\n",
            "bn3b_branch2b (BatchNormalizati (None, 8, 8, 64)     256         res3b_branch2b[0][0]             \n",
            "__________________________________________________________________________________________________\n",
            "activation_87 (Activation)      (None, 8, 8, 64)     0           bn3b_branch2b[0][0]              \n",
            "__________________________________________________________________________________________________\n",
            "res3b_branch2c (Conv2D)         (None, 8, 8, 256)    16640       activation_87[0][0]              \n",
            "__________________________________________________________________________________________________\n",
            "bn3b_branch2c (BatchNormalizati (None, 8, 8, 256)    1024        res3b_branch2c[0][0]             \n",
            "__________________________________________________________________________________________________\n",
            "add_20 (Add)                    (None, 8, 8, 256)    0           bn3b_branch2c[0][0]              \n",
            "                                                                 activation_85[0][0]              \n",
            "__________________________________________________________________________________________________\n",
            "activation_88 (Activation)      (None, 8, 8, 256)    0           add_20[0][0]                     \n",
            "__________________________________________________________________________________________________\n",
            "res3c_branch2a (Conv2D)         (None, 8, 8, 64)     16448       activation_88[0][0]              \n",
            "__________________________________________________________________________________________________\n",
            "bn3c_branch2a (BatchNormalizati (None, 8, 8, 64)     256         res3c_branch2a[0][0]             \n",
            "__________________________________________________________________________________________________\n",
            "activation_89 (Activation)      (None, 8, 8, 64)     0           bn3c_branch2a[0][0]              \n",
            "__________________________________________________________________________________________________\n",
            "res3c_branch2b (Conv2D)         (None, 8, 8, 64)     36928       activation_89[0][0]              \n",
            "__________________________________________________________________________________________________\n",
            "bn3c_branch2b (BatchNormalizati (None, 8, 8, 64)     256         res3c_branch2b[0][0]             \n",
            "__________________________________________________________________________________________________\n",
            "activation_90 (Activation)      (None, 8, 8, 64)     0           bn3c_branch2b[0][0]              \n",
            "__________________________________________________________________________________________________\n",
            "res3c_branch2c (Conv2D)         (None, 8, 8, 256)    16640       activation_90[0][0]              \n",
            "__________________________________________________________________________________________________\n",
            "bn3c_branch2c (BatchNormalizati (None, 8, 8, 256)    1024        res3c_branch2c[0][0]             \n",
            "__________________________________________________________________________________________________\n",
            "add_21 (Add)                    (None, 8, 8, 256)    0           bn3c_branch2c[0][0]              \n",
            "                                                                 activation_88[0][0]              \n",
            "__________________________________________________________________________________________________\n",
            "activation_91 (Activation)      (None, 8, 8, 256)    0           add_21[0][0]                     \n",
            "__________________________________________________________________________________________________\n",
            "res3d_branch2a (Conv2D)         (None, 8, 8, 64)     16448       activation_91[0][0]              \n",
            "__________________________________________________________________________________________________\n",
            "bn3d_branch2a (BatchNormalizati (None, 8, 8, 64)     256         res3d_branch2a[0][0]             \n",
            "__________________________________________________________________________________________________\n",
            "activation_92 (Activation)      (None, 8, 8, 64)     0           bn3d_branch2a[0][0]              \n",
            "__________________________________________________________________________________________________\n",
            "res3d_branch2b (Conv2D)         (None, 8, 8, 64)     36928       activation_92[0][0]              \n",
            "__________________________________________________________________________________________________\n",
            "bn3d_branch2b (BatchNormalizati (None, 8, 8, 64)     256         res3d_branch2b[0][0]             \n",
            "__________________________________________________________________________________________________\n",
            "activation_93 (Activation)      (None, 8, 8, 64)     0           bn3d_branch2b[0][0]              \n",
            "__________________________________________________________________________________________________\n",
            "res3d_branch2c (Conv2D)         (None, 8, 8, 256)    16640       activation_93[0][0]              \n",
            "__________________________________________________________________________________________________\n",
            "bn3d_branch2c (BatchNormalizati (None, 8, 8, 256)    1024        res3d_branch2c[0][0]             \n",
            "__________________________________________________________________________________________________\n",
            "add_22 (Add)                    (None, 8, 8, 256)    0           bn3d_branch2c[0][0]              \n",
            "                                                                 activation_91[0][0]              \n",
            "__________________________________________________________________________________________________\n",
            "activation_94 (Activation)      (None, 8, 8, 256)    0           add_22[0][0]                     \n",
            "__________________________________________________________________________________________________\n",
            "res4a_branch2a (Conv2D)         (None, 4, 4, 128)    32896       activation_94[0][0]              \n",
            "__________________________________________________________________________________________________\n",
            "bn4a_branch2a (BatchNormalizati (None, 4, 4, 128)    512         res4a_branch2a[0][0]             \n",
            "__________________________________________________________________________________________________\n",
            "activation_95 (Activation)      (None, 4, 4, 128)    0           bn4a_branch2a[0][0]              \n",
            "__________________________________________________________________________________________________\n",
            "res4a_branch2b (Conv2D)         (None, 4, 4, 128)    147584      activation_95[0][0]              \n",
            "__________________________________________________________________________________________________\n",
            "bn4a_branch2b (BatchNormalizati (None, 4, 4, 128)    512         res4a_branch2b[0][0]             \n",
            "__________________________________________________________________________________________________\n",
            "activation_96 (Activation)      (None, 4, 4, 128)    0           bn4a_branch2b[0][0]              \n",
            "__________________________________________________________________________________________________\n",
            "res4a_branch2c (Conv2D)         (None, 4, 4, 512)    66048       activation_96[0][0]              \n",
            "__________________________________________________________________________________________________\n",
            "res4a_branch1 (Conv2D)          (None, 4, 4, 512)    131584      activation_94[0][0]              \n",
            "__________________________________________________________________________________________________\n",
            "bn4a_branch2c (BatchNormalizati (None, 4, 4, 512)    2048        res4a_branch2c[0][0]             \n",
            "__________________________________________________________________________________________________\n",
            "bn4a_branch1 (BatchNormalizatio (None, 4, 4, 512)    2048        res4a_branch1[0][0]              \n",
            "__________________________________________________________________________________________________\n",
            "add_23 (Add)                    (None, 4, 4, 512)    0           bn4a_branch2c[0][0]              \n",
            "                                                                 bn4a_branch1[0][0]               \n",
            "__________________________________________________________________________________________________\n",
            "activation_97 (Activation)      (None, 4, 4, 512)    0           add_23[0][0]                     \n",
            "__________________________________________________________________________________________________\n",
            "res4b_branch2a (Conv2D)         (None, 4, 4, 128)    65664       activation_97[0][0]              \n",
            "__________________________________________________________________________________________________\n",
            "bn4b_branch2a (BatchNormalizati (None, 4, 4, 128)    512         res4b_branch2a[0][0]             \n",
            "__________________________________________________________________________________________________\n",
            "activation_98 (Activation)      (None, 4, 4, 128)    0           bn4b_branch2a[0][0]              \n",
            "__________________________________________________________________________________________________\n",
            "res4b_branch2b (Conv2D)         (None, 4, 4, 128)    147584      activation_98[0][0]              \n",
            "__________________________________________________________________________________________________\n",
            "bn4b_branch2b (BatchNormalizati (None, 4, 4, 128)    512         res4b_branch2b[0][0]             \n",
            "__________________________________________________________________________________________________\n",
            "activation_99 (Activation)      (None, 4, 4, 128)    0           bn4b_branch2b[0][0]              \n",
            "__________________________________________________________________________________________________\n",
            "res4b_branch2c (Conv2D)         (None, 4, 4, 512)    66048       activation_99[0][0]              \n",
            "__________________________________________________________________________________________________\n",
            "bn4b_branch2c (BatchNormalizati (None, 4, 4, 512)    2048        res4b_branch2c[0][0]             \n",
            "__________________________________________________________________________________________________\n",
            "add_24 (Add)                    (None, 4, 4, 512)    0           bn4b_branch2c[0][0]              \n",
            "                                                                 activation_97[0][0]              \n",
            "__________________________________________________________________________________________________\n",
            "activation_100 (Activation)     (None, 4, 4, 512)    0           add_24[0][0]                     \n",
            "__________________________________________________________________________________________________\n",
            "res4c_branch2a (Conv2D)         (None, 4, 4, 128)    65664       activation_100[0][0]             \n",
            "__________________________________________________________________________________________________\n",
            "bn4c_branch2a (BatchNormalizati (None, 4, 4, 128)    512         res4c_branch2a[0][0]             \n",
            "__________________________________________________________________________________________________\n",
            "activation_101 (Activation)     (None, 4, 4, 128)    0           bn4c_branch2a[0][0]              \n",
            "__________________________________________________________________________________________________\n",
            "res4c_branch2b (Conv2D)         (None, 4, 4, 128)    147584      activation_101[0][0]             \n",
            "__________________________________________________________________________________________________\n",
            "bn4c_branch2b (BatchNormalizati (None, 4, 4, 128)    512         res4c_branch2b[0][0]             \n",
            "__________________________________________________________________________________________________\n",
            "activation_102 (Activation)     (None, 4, 4, 128)    0           bn4c_branch2b[0][0]              \n",
            "__________________________________________________________________________________________________\n",
            "res4c_branch2c (Conv2D)         (None, 4, 4, 512)    66048       activation_102[0][0]             \n",
            "__________________________________________________________________________________________________\n",
            "bn4c_branch2c (BatchNormalizati (None, 4, 4, 512)    2048        res4c_branch2c[0][0]             \n",
            "__________________________________________________________________________________________________\n",
            "add_25 (Add)                    (None, 4, 4, 512)    0           bn4c_branch2c[0][0]              \n",
            "                                                                 activation_100[0][0]             \n",
            "__________________________________________________________________________________________________\n",
            "activation_103 (Activation)     (None, 4, 4, 512)    0           add_25[0][0]                     \n",
            "__________________________________________________________________________________________________\n",
            "res4d_branch2a (Conv2D)         (None, 4, 4, 128)    65664       activation_103[0][0]             \n",
            "__________________________________________________________________________________________________\n",
            "bn4d_branch2a (BatchNormalizati (None, 4, 4, 128)    512         res4d_branch2a[0][0]             \n",
            "__________________________________________________________________________________________________\n",
            "activation_104 (Activation)     (None, 4, 4, 128)    0           bn4d_branch2a[0][0]              \n",
            "__________________________________________________________________________________________________\n",
            "res4d_branch2b (Conv2D)         (None, 4, 4, 128)    147584      activation_104[0][0]             \n",
            "__________________________________________________________________________________________________\n",
            "bn4d_branch2b (BatchNormalizati (None, 4, 4, 128)    512         res4d_branch2b[0][0]             \n",
            "__________________________________________________________________________________________________\n",
            "activation_105 (Activation)     (None, 4, 4, 128)    0           bn4d_branch2b[0][0]              \n",
            "__________________________________________________________________________________________________\n",
            "res4d_branch2c (Conv2D)         (None, 4, 4, 512)    66048       activation_105[0][0]             \n",
            "__________________________________________________________________________________________________\n",
            "bn4d_branch2c (BatchNormalizati (None, 4, 4, 512)    2048        res4d_branch2c[0][0]             \n",
            "__________________________________________________________________________________________________\n",
            "add_26 (Add)                    (None, 4, 4, 512)    0           bn4d_branch2c[0][0]              \n",
            "                                                                 activation_103[0][0]             \n",
            "__________________________________________________________________________________________________\n",
            "activation_106 (Activation)     (None, 4, 4, 512)    0           add_26[0][0]                     \n",
            "__________________________________________________________________________________________________\n",
            "res4e_branch2a (Conv2D)         (None, 4, 4, 128)    65664       activation_106[0][0]             \n",
            "__________________________________________________________________________________________________\n",
            "bn4e_branch2a (BatchNormalizati (None, 4, 4, 128)    512         res4e_branch2a[0][0]             \n",
            "__________________________________________________________________________________________________\n",
            "activation_107 (Activation)     (None, 4, 4, 128)    0           bn4e_branch2a[0][0]              \n",
            "__________________________________________________________________________________________________\n",
            "res4e_branch2b (Conv2D)         (None, 4, 4, 128)    147584      activation_107[0][0]             \n",
            "__________________________________________________________________________________________________\n",
            "bn4e_branch2b (BatchNormalizati (None, 4, 4, 128)    512         res4e_branch2b[0][0]             \n",
            "__________________________________________________________________________________________________\n",
            "activation_108 (Activation)     (None, 4, 4, 128)    0           bn4e_branch2b[0][0]              \n",
            "__________________________________________________________________________________________________\n",
            "res4e_branch2c (Conv2D)         (None, 4, 4, 512)    66048       activation_108[0][0]             \n",
            "__________________________________________________________________________________________________\n",
            "bn4e_branch2c (BatchNormalizati (None, 4, 4, 512)    2048        res4e_branch2c[0][0]             \n",
            "__________________________________________________________________________________________________\n",
            "add_27 (Add)                    (None, 4, 4, 512)    0           bn4e_branch2c[0][0]              \n",
            "                                                                 activation_106[0][0]             \n",
            "__________________________________________________________________________________________________\n",
            "activation_109 (Activation)     (None, 4, 4, 512)    0           add_27[0][0]                     \n",
            "__________________________________________________________________________________________________\n",
            "res4f_branch2a (Conv2D)         (None, 4, 4, 128)    65664       activation_109[0][0]             \n",
            "__________________________________________________________________________________________________\n",
            "bn4f_branch2a (BatchNormalizati (None, 4, 4, 128)    512         res4f_branch2a[0][0]             \n",
            "__________________________________________________________________________________________________\n",
            "activation_110 (Activation)     (None, 4, 4, 128)    0           bn4f_branch2a[0][0]              \n",
            "__________________________________________________________________________________________________\n",
            "res4f_branch2b (Conv2D)         (None, 4, 4, 128)    147584      activation_110[0][0]             \n",
            "__________________________________________________________________________________________________\n",
            "bn4f_branch2b (BatchNormalizati (None, 4, 4, 128)    512         res4f_branch2b[0][0]             \n",
            "__________________________________________________________________________________________________\n",
            "activation_111 (Activation)     (None, 4, 4, 128)    0           bn4f_branch2b[0][0]              \n",
            "__________________________________________________________________________________________________\n",
            "res4f_branch2c (Conv2D)         (None, 4, 4, 512)    66048       activation_111[0][0]             \n",
            "__________________________________________________________________________________________________\n",
            "bn4f_branch2c (BatchNormalizati (None, 4, 4, 512)    2048        res4f_branch2c[0][0]             \n",
            "__________________________________________________________________________________________________\n",
            "add_28 (Add)                    (None, 4, 4, 512)    0           bn4f_branch2c[0][0]              \n",
            "                                                                 activation_109[0][0]             \n",
            "__________________________________________________________________________________________________\n",
            "activation_112 (Activation)     (None, 4, 4, 512)    0           add_28[0][0]                     \n",
            "__________________________________________________________________________________________________\n",
            "res5a_branch2a (Conv2D)         (None, 2, 2, 256)    131328      activation_112[0][0]             \n",
            "__________________________________________________________________________________________________\n",
            "bn5a_branch2a (BatchNormalizati (None, 2, 2, 256)    1024        res5a_branch2a[0][0]             \n",
            "__________________________________________________________________________________________________\n",
            "activation_113 (Activation)     (None, 2, 2, 256)    0           bn5a_branch2a[0][0]              \n",
            "__________________________________________________________________________________________________\n",
            "res5a_branch2b (Conv2D)         (None, 2, 2, 256)    590080      activation_113[0][0]             \n",
            "__________________________________________________________________________________________________\n",
            "bn5a_branch2b (BatchNormalizati (None, 2, 2, 256)    1024        res5a_branch2b[0][0]             \n",
            "__________________________________________________________________________________________________\n",
            "activation_114 (Activation)     (None, 2, 2, 256)    0           bn5a_branch2b[0][0]              \n",
            "__________________________________________________________________________________________________\n",
            "res5a_branch2c (Conv2D)         (None, 2, 2, 1024)   263168      activation_114[0][0]             \n",
            "__________________________________________________________________________________________________\n",
            "res5a_branch1 (Conv2D)          (None, 2, 2, 1024)   525312      activation_112[0][0]             \n",
            "__________________________________________________________________________________________________\n",
            "bn5a_branch2c (BatchNormalizati (None, 2, 2, 1024)   4096        res5a_branch2c[0][0]             \n",
            "__________________________________________________________________________________________________\n",
            "bn5a_branch1 (BatchNormalizatio (None, 2, 2, 1024)   4096        res5a_branch1[0][0]              \n",
            "__________________________________________________________________________________________________\n",
            "add_29 (Add)                    (None, 2, 2, 1024)   0           bn5a_branch2c[0][0]              \n",
            "                                                                 bn5a_branch1[0][0]               \n",
            "__________________________________________________________________________________________________\n",
            "activation_115 (Activation)     (None, 2, 2, 1024)   0           add_29[0][0]                     \n",
            "__________________________________________________________________________________________________\n",
            "res5b_branch2a (Conv2D)         (None, 2, 2, 256)    262400      activation_115[0][0]             \n",
            "__________________________________________________________________________________________________\n",
            "bn5b_branch2a (BatchNormalizati (None, 2, 2, 256)    1024        res5b_branch2a[0][0]             \n",
            "__________________________________________________________________________________________________\n",
            "activation_116 (Activation)     (None, 2, 2, 256)    0           bn5b_branch2a[0][0]              \n",
            "__________________________________________________________________________________________________\n",
            "res5b_branch2b (Conv2D)         (None, 2, 2, 256)    590080      activation_116[0][0]             \n",
            "__________________________________________________________________________________________________\n",
            "bn5b_branch2b (BatchNormalizati (None, 2, 2, 256)    1024        res5b_branch2b[0][0]             \n",
            "__________________________________________________________________________________________________\n",
            "activation_117 (Activation)     (None, 2, 2, 256)    0           bn5b_branch2b[0][0]              \n",
            "__________________________________________________________________________________________________\n",
            "res5b_branch2c (Conv2D)         (None, 2, 2, 1024)   263168      activation_117[0][0]             \n",
            "__________________________________________________________________________________________________\n",
            "bn5b_branch2c (BatchNormalizati (None, 2, 2, 1024)   4096        res5b_branch2c[0][0]             \n",
            "__________________________________________________________________________________________________\n",
            "add_30 (Add)                    (None, 2, 2, 1024)   0           bn5b_branch2c[0][0]              \n",
            "                                                                 activation_115[0][0]             \n",
            "__________________________________________________________________________________________________\n",
            "activation_118 (Activation)     (None, 2, 2, 1024)   0           add_30[0][0]                     \n",
            "__________________________________________________________________________________________________\n",
            "res5c_branch2a (Conv2D)         (None, 2, 2, 256)    262400      activation_118[0][0]             \n",
            "__________________________________________________________________________________________________\n",
            "bn5c_branch2a (BatchNormalizati (None, 2, 2, 256)    1024        res5c_branch2a[0][0]             \n",
            "__________________________________________________________________________________________________\n",
            "activation_119 (Activation)     (None, 2, 2, 256)    0           bn5c_branch2a[0][0]              \n",
            "__________________________________________________________________________________________________\n",
            "res5c_branch2b (Conv2D)         (None, 2, 2, 256)    590080      activation_119[0][0]             \n",
            "__________________________________________________________________________________________________\n",
            "bn5c_branch2b (BatchNormalizati (None, 2, 2, 256)    1024        res5c_branch2b[0][0]             \n",
            "__________________________________________________________________________________________________\n",
            "activation_120 (Activation)     (None, 2, 2, 256)    0           bn5c_branch2b[0][0]              \n",
            "__________________________________________________________________________________________________\n",
            "res5c_branch2c (Conv2D)         (None, 2, 2, 1024)   263168      activation_120[0][0]             \n",
            "__________________________________________________________________________________________________\n",
            "bn5c_branch2c (BatchNormalizati (None, 2, 2, 1024)   4096        res5c_branch2c[0][0]             \n",
            "__________________________________________________________________________________________________\n",
            "add_31 (Add)                    (None, 2, 2, 1024)   0           bn5c_branch2c[0][0]              \n",
            "                                                                 activation_118[0][0]             \n",
            "__________________________________________________________________________________________________\n",
            "activation_121 (Activation)     (None, 2, 2, 1024)   0           add_31[0][0]                     \n",
            "__________________________________________________________________________________________________\n",
            "avg_pool (AveragePooling2D)     (None, 1, 1, 1024)   0           activation_121[0][0]             \n",
            "__________________________________________________________________________________________________\n",
            "flatten_5 (Flatten)             (None, 1024)         0           avg_pool[0][0]                   \n",
            "__________________________________________________________________________________________________\n",
            "fc8 (Dense)                     (None, 8)            8200        flatten_5[0][0]                  \n",
            "==================================================================================================\n",
            "Total params: 5,942,984\n",
            "Trainable params: 5,916,360\n",
            "Non-trainable params: 26,624\n",
            "__________________________________________________________________________________________________\n",
            "Epoch 1/30\n",
            "Learning rate:  0.0003\n",
            "\n",
            "Epoch 00001: LearningRateScheduler reducing learning rate to 0.0003.\n",
            "297/297 [==============================] - 70s 190ms/step - loss: 0.3961 - auc: 0.9860 - precision: 0.9107 - recall: 0.8620 - val_loss: 11.0497 - val_auc: 0.3273 - val_precision: 0.0104 - val_recall: 0.0102\n",
            "\n",
            "Epoch 00001: val_loss improved from inf to 11.04975, saving model to /content/drive/Shareddrives/Labs/2020_1_이소연/code/wm811k/model_output/1/ResNet50/001.h5\n",
            "WARNING:tensorflow:Can save best model only with val_accuracy available, skipping.\n",
            "Epoch 2/30\n",
            "Learning rate:  0.0003\n",
            "\n",
            "Epoch 00002: LearningRateScheduler reducing learning rate to 0.0003.\n",
            "297/297 [==============================] - 66s 223ms/step - loss: 0.1063 - auc: 0.9962 - precision: 0.9765 - recall: 0.9734 - val_loss: 0.6105 - val_auc: 0.9687 - val_precision: 0.8646 - val_recall: 0.8489\n",
            "\n",
            "Epoch 00002: val_loss improved from 11.04975 to 0.61049, saving model to /content/drive/Shareddrives/Labs/2020_1_이소연/code/wm811k/model_output/1/ResNet50/002.h5\n",
            "WARNING:tensorflow:Can save best model only with val_accuracy available, skipping.\n",
            "Epoch 3/30\n",
            "Learning rate:  0.0003\n",
            "\n",
            "Epoch 00003: LearningRateScheduler reducing learning rate to 0.0003.\n",
            "297/297 [==============================] - 57s 192ms/step - loss: 0.0656 - auc: 0.9981 - precision: 0.9848 - recall: 0.9830 - val_loss: 0.3338 - val_auc: 0.9825 - val_precision: 0.9596 - val_recall: 0.9582\n",
            "\n",
            "Epoch 00003: val_loss improved from 0.61049 to 0.33380, saving model to /content/drive/Shareddrives/Labs/2020_1_이소연/code/wm811k/model_output/1/ResNet50/003.h5\n",
            "WARNING:tensorflow:Can save best model only with val_accuracy available, skipping.\n",
            "Epoch 4/30\n",
            "Learning rate:  0.0003\n",
            "\n",
            "Epoch 00004: LearningRateScheduler reducing learning rate to 0.0003.\n",
            "297/297 [==============================] - 56s 189ms/step - loss: 0.0484 - auc: 0.9987 - precision: 0.9875 - recall: 0.9862 - val_loss: 0.4235 - val_auc: 0.9814 - val_precision: 0.8910 - val_recall: 0.8698\n",
            "\n",
            "Epoch 00004: val_loss did not improve from 0.33380\n",
            "WARNING:tensorflow:Can save best model only with val_accuracy available, skipping.\n"
          ]
        }
      ]
    },
    {
      "cell_type": "code",
      "metadata": {
        "id": "1EcVmSJtktCK"
      },
      "source": [
        "y_predict = model5.predict(x_test)"
      ],
      "execution_count": null,
      "outputs": []
    },
    {
      "cell_type": "code",
      "metadata": {
        "id": "ScY-ldtuktCP"
      },
      "source": [
        "y_pred_ = np.ones(len(y_predict))\n",
        "y_test_ = np.ones(len(y_2))\n",
        "for i in range(len(y_pred_)):\n",
        "    y_pred_[i] = np.argmax(y_predict[i])\n",
        "    y_test_[i] = np.argmax(y_2[i])"
      ],
      "execution_count": null,
      "outputs": []
    },
    {
      "cell_type": "code",
      "metadata": {
        "colab": {
          "base_uri": "https://localhost:8080/"
        },
        "id": "eRy-Ko3BktCP",
        "outputId": "fc30a725-8215-4fc2-dfd7-99481005720c"
      },
      "source": [
        "# resmis_index = np.where(pred_decode != resy_test_decode)\n",
        "print(classification_report(y_test_, y_pred_, target_names=labels))"
      ],
      "execution_count": null,
      "outputs": [
        {
          "name": "stdout",
          "output_type": "stream",
          "text": [
            "              precision    recall  f1-score   support\n",
            "\n",
            "      Center       0.67      0.33      0.44        12\n",
            "    Edge-Loc       0.21      0.46      0.29        50\n",
            "   Edge-Ring       1.00      0.30      0.47        23\n",
            "         Loc       0.21      0.41      0.28        46\n",
            "   Near-full       0.90      0.82      0.86        11\n",
            "      Random       0.30      0.60      0.40         5\n",
            "     Scratch       0.03      0.35      0.06        17\n",
            "        none       0.98      0.90      0.94      3086\n",
            "\n",
            "    accuracy                           0.88      3250\n",
            "   macro avg       0.54      0.52      0.47      3250\n",
            "weighted avg       0.95      0.88      0.91      3250\n",
            "\n"
          ]
        }
      ]
    },
    {
      "cell_type": "code",
      "metadata": {
        "colab": {
          "base_uri": "https://localhost:8080/",
          "height": 612
        },
        "id": "XWNlSmJKkSfF",
        "outputId": "51b2ad00-0ec3-4163-ae96-9b29ebfaebc2"
      },
      "source": [
        "np.set_printoptions(precision=2)\n",
        "\n",
        "# Plot non-normalized confusion matrix]\n",
        "plot_confusion_matrix2(y_test_, y_pred_, classes=labels, title='Confusion matrix, without normalization')\n",
        "\n",
        "# Plot normalized confusion matrix]\n",
        "plot_confusion_matrix2(y_test_, y_pred_, classes=labels, normalize=True, title='Normalized confusion matrix')\n",
        "\n",
        "plt.show()"
      ],
      "execution_count": null,
      "outputs": [
        {
          "name": "stdout",
          "output_type": "stream",
          "text": [
            "Confusion matrix, without normalization\n",
            "Normalized confusion matrix\n"
          ]
        },
        {
          "data": {
            "image/png": "[encoded data removed]",
            "text/plain": [
              "<Figure size 432x288 with 2 Axes>"
            ]
          },
          "metadata": {
            "needs_background": "light",
            "tags": []
          },
          "output_type": "display_data"
        },
        {
          "data": {
            "image/png": "[encoded data removed]",
            "text/plain": [
              "<Figure size 432x288 with 2 Axes>"
            ]
          },
          "metadata": {
            "needs_background": "light",
            "tags": []
          },
          "output_type": "display_data"
        }
      ]
    },
    {
      "cell_type": "code",
      "metadata": {
        "id": "QAwcfDClPKMQ"
      },
      "source": [
        ""
      ],
      "execution_count": null,
      "outputs": []
    },
    {
      "cell_type": "code",
      "metadata": {
        "colab": {
          "base_uri": "https://localhost:8080/"
        },
        "id": "3_zLLSvoFSFX",
        "outputId": "47df9a47-ef58-4b92-e539-1e549cb67823"
      },
      "source": [
        "# denoising autoencoder\n",
        "noise = np.random.normal(loc=0.5, scale=0.5, size=x_train.shape)\n",
        "x_train_noise = x_train + noise\n",
        "noise = np.random.normal(loc=0.5, scale=0.5, size=x_test.shape)\n",
        "x_test_noise = x_test + noise\n",
        "\n",
        "encoder = Model(input_tensor, latent_vector)\n",
        "decoder_input = Input((16, 16, 64))\n",
        "decode = Conv2DTranspose(64, (3,3), padding='same', activation='relu')(decoder_input)\n",
        "decode = UpSampling2D()(decode)\n",
        "decoder = Model(decoder_input, output_tensor(decode))\n",
        "\n",
        "noise = Model(input_tensor, decoder(encoder(input_tensor)))\n",
        "noise.summary()\n",
        "noise.compile(loss='mse', optimizer='adam', metrics=['AUC'])\n",
        "noise.fit(x_train_noise,x_train, validation_data=(x_test_noise, x_test), epochs=10, batch_size=64, callbacks=callback_list)"
      ],
      "execution_count": null,
      "outputs": [
        {
          "name": "stdout",
          "output_type": "stream",
          "text": [
            "Model: \"model_3\"\n",
            "_________________________________________________________________\n",
            "Layer (type)                 Output Shape              Param #   \n",
            "=================================================================\n",
            "input_1 (InputLayer)         [(None, 32, 32, 3)]       0         \n",
            "_________________________________________________________________\n",
            "model_1 (Functional)         (None, 16, 16, 64)        1792      \n",
            "_________________________________________________________________\n",
            "model_2 (Functional)         (None, 32, 32, 3)         38659     \n",
            "=================================================================\n",
            "Total params: 40,451\n",
            "Trainable params: 40,451\n",
            "Non-trainable params: 0\n",
            "_________________________________________________________________\n",
            "Epoch 1/10\n",
            "89/89 [==============================] - 4s 35ms/step - loss: 0.0818 - auc: 0.9319 - val_loss: 0.0527 - val_auc: 0.9781\n",
            "Epoch 2/10\n",
            "89/89 [==============================] - 3s 31ms/step - loss: 0.0474 - auc: 0.9824 - val_loss: 0.0438 - val_auc: 0.9848\n",
            "Epoch 3/10\n",
            "89/89 [==============================] - 3s 31ms/step - loss: 0.0414 - auc: 0.9864 - val_loss: 0.0393 - val_auc: 0.9875\n"
          ]
        },
        {
          "data": {
            "text/plain": [
              "<tensorflow.python.keras.callbacks.History at 0x7fa436d7cf90>"
            ]
          },
          "execution_count": 21,
          "metadata": {
            "tags": []
          },
          "output_type": "execute_result"
        }
      ]
    },
    {
      "cell_type": "code",
      "metadata": {
        "colab": {
          "base_uri": "https://localhost:8080/"
        },
        "id": "3L9qFoAIVDpH",
        "outputId": "2197c007-6d14-4b3d-a008-3cfe7d79f451"
      },
      "source": [
        "np.where(y_test=='Scratch')"
      ],
      "execution_count": null,
      "outputs": [
        {
          "data": {
            "text/plain": [
              "(array([ 291,  299,  516,  656,  836, 1657, 1843, 2286, 2341, 2353, 2376]),\n",
              " array([0, 0, 0, 0, 0, 0, 0, 0, 0, 0, 0]))"
            ]
          },
          "execution_count": 16,
          "metadata": {
            "tags": []
          },
          "output_type": "execute_result"
        }
      ]
    },
    {
      "cell_type": "code",
      "metadata": {
        "colab": {
          "base_uri": "https://localhost:8080/",
          "height": 283
        },
        "id": "lYEZILS0JEZ3",
        "outputId": "bfa0de1d-618d-4708-9367-7a09eb605239"
      },
      "source": [
        "plt.imshow(np.argmax(x_test[291], axis=2))"
      ],
      "execution_count": null,
      "outputs": [
        {
          "data": {
            "text/plain": [
              "<matplotlib.image.AxesImage at 0x7fa435e68d10>"
            ]
          },
          "execution_count": 17,
          "metadata": {
            "tags": []
          },
          "output_type": "execute_result"
        },
        {
          "data": {
            "image/png": "[encoded data removed]",
            "text/plain": [
              "<Figure size 432x288 with 1 Axes>"
            ]
          },
          "metadata": {
            "needs_background": "light",
            "tags": []
          },
          "output_type": "display_data"
        }
      ]
    },
    {
      "cell_type": "code",
      "metadata": {
        "colab": {
          "base_uri": "https://localhost:8080/",
          "height": 283
        },
        "id": "f5ZDwRz3IE5M",
        "outputId": "fc187731-972b-4def-ef77-8c797e1f0e0c"
      },
      "source": [
        "plt.imshow(np.argmax(x_test_noise[291], axis=2)) "
      ],
      "execution_count": null,
      "outputs": [
        {
          "data": {
            "text/plain": [
              "<matplotlib.image.AxesImage at 0x7fa435a5b850>"
            ]
          },
          "execution_count": 22,
          "metadata": {
            "tags": []
          },
          "output_type": "execute_result"
        },
        {
          "data": {
            "image/png": "[encoded data removed]",
            "text/plain": [
              "<Figure size 432x288 with 1 Axes>"
            ]
          },
          "metadata": {
            "needs_background": "light",
            "tags": []
          },
          "output_type": "display_data"
        }
      ]
    },
    {
      "cell_type": "code",
      "metadata": {
        "colab": {
          "base_uri": "https://localhost:8080/",
          "height": 283
        },
        "id": "AhFqyrrFrskf",
        "outputId": "cc386191-3e01-4702-8738-001ace4ae921"
      },
      "source": [
        "x_noise = noise.predict(x_test_noise) \n",
        "plt.imshow(np.argmax(x_noise[291], axis=2))"
      ],
      "execution_count": null,
      "outputs": [
        {
          "data": {
            "text/plain": [
              "<matplotlib.image.AxesImage at 0x7fa4368b0cd0>"
            ]
          },
          "execution_count": 23,
          "metadata": {
            "tags": []
          },
          "output_type": "execute_result"
        },
        {
          "data": {
            "image/png": "[encoded data removed]",
            "text/plain": [
              "<Figure size 432x288 with 1 Axes>"
            ]
          },
          "metadata": {
            "needs_background": "light",
            "tags": []
          },
          "output_type": "display_data"
        }
      ]
    },
    {
      "cell_type": "code",
      "metadata": {
        "id": "eWA1w-WEG9nx"
      },
      "source": [
        "# Generate data\n",
        "def gen_data(wafer, label):\n",
        "    encoded_x = encoder.predict(wafer)\n",
        "    \n",
        "    gen_x = np.zeros((1, 26, 26, 3))\n",
        "    \n",
        "    for i in range((2000//len(wafer)) + 1):\n",
        "        noised_encoded_x = encoded_x + np.random.normal(loc=0, scale=0.1, size = (len(encoded_x), 13, 13, 64)) \n",
        "        noised_gen_x = decoder.predict(noised_encoded_x)\n",
        "        gen_x = np.concatenate((gen_x, noised_gen_x), axis=0)\n",
        "    gen_y = np.full((len(gen_x), 1), label)\n",
        "    \n",
        "    return gen_x[1:], gen_y[1:]"
      ],
      "execution_count": null,
      "outputs": []
    },
    {
      "cell_type": "code",
      "metadata": {
        "id": "FjZfWyxhHFXA"
      },
      "source": [
        "for f in faulty_case : \n",
        "    # skip none case\n",
        "    if f == 'none' : \n",
        "        continue\n",
        "    \n",
        "    gen_x, gen_y = gen_data(new_x[np.where(y==f)[0]], f)\n",
        "    new_x = np.concatenate((new_x, gen_x), axis=0)\n",
        "    y = np.concatenate((y, gen_y))"
      ],
      "execution_count": null,
      "outputs": []
    },
    {
      "cell_type": "code",
      "metadata": {
        "id": "Pf7ovyEzHFg9"
      },
      "source": [
        "for f in faulty_case :\n",
        "    print('{} : {}'.format(f, len(y[y==f])))"
      ],
      "execution_count": null,
      "outputs": []
    },
    {
      "cell_type": "code",
      "metadata": {
        "id": "08lzbQaaEFxv"
      },
      "source": [
        "# Simple CNN \n",
        "def create_model():\n",
        "    input_shape = (26, 26, 3)\n",
        "    input_tensor = Input(input_shape)\n",
        "\n",
        "    conv_1 = layers.Conv2D(16, (3,3), activation='relu', padding='same')(input_tensor)\n",
        "    conv_2 = layers.Conv2D(64, (3,3), activation='relu', padding='same')(conv_1)\n",
        "    conv_3 = layers.Conv2D(128, (3,3), activation='relu', padding='same')(conv_2)\n",
        "  \n",
        "    flat = layers.Flatten()(conv_3)\n",
        "\n",
        "    dense_1 = layers.Dense(512, activation='relu')(flat)\n",
        "    dense_2 = layers.Dense(128, activation='relu')(dense_1)\n",
        "    output_tensor = layers.Dense(9, activation='softmax')(dense_2)\n",
        "\n",
        "    model = models.Model(input_tensor, output_tensor)\n",
        "    model.compile(optimizer='Adam',\n",
        "                 loss='categorical_crossentropy',\n",
        "                 metrics=['accuracy'])\n",
        "\n",
        "    return model"
      ],
      "execution_count": null,
      "outputs": []
    },
    {
      "cell_type": "code",
      "metadata": {
        "id": "XuTfmcfQD_6b"
      },
      "source": [
        "model = KerasClassifier(build_fn=create_model, epochs=30, batch_size=1024, verbose=2) \n",
        "# 3-Fold Crossvalidation\n",
        "kfold = KFold(n_splits=3, shuffle=True, random_state=2019) \n",
        "results = cross_val_score(model, x_train, y_train, cv=kfold)\n",
        "# Check 3-fold model's mean accuracy\n",
        "print('Simple CNN Cross validation score : {:.4f}'.format(np.mean(results)))"
      ],
      "execution_count": null,
      "outputs": []
    },
    {
      "cell_type": "code",
      "metadata": {
        "id": "3kKbSASjBSJs"
      },
      "source": [
        "predicted_classes = simple.predict(x_test)\n",
        "predicted_classes = np.argmax(np.round(predicted_classes),axis=1)"
      ],
      "execution_count": null,
      "outputs": []
    },
    {
      "cell_type": "code",
      "metadata": {
        "colab": {
          "base_uri": "https://localhost:8080/"
        },
        "id": "DJELWuZsCk1R",
        "outputId": "5ebb1cb0-af33-45a6-9e9f-a48e89f4a369"
      },
      "source": [
        "predicted_classes.shape"
      ],
      "execution_count": null,
      "outputs": [
        {
          "data": {
            "text/plain": [
              "(2438, 32, 3)"
            ]
          },
          "execution_count": 60,
          "metadata": {
            "tags": []
          },
          "output_type": "execute_result"
        }
      ]
    },
    {
      "cell_type": "code",
      "metadata": {
        "id": "ROSlqCoHrske"
      },
      "source": [
        "def plot_confusion_matrix(cm, normalize=False, title='Confusion matrix', cmap=plt.cm.Blues):\n",
        "\n",
        "    if normalize:\n",
        "        cm = cm.astype('float') / cm.sum(axis=1)[:, np.newaxis]\n",
        "        print(\"Normalized confusion matrix\")\n",
        "    else:\n",
        "        print('Confusion matrix, without normalization')\n",
        "\n",
        "    plt.imshow(cm, interpolation='nearest', cmap=cmap)\n",
        "    plt.title(title)\n",
        "    plt.colorbar()\n",
        "\n",
        "    fmt = '.2f' if normalize else 'd'\n",
        "    thresh = cm.max() / 2.\n",
        "    for i, j in itertools.product(range(cm.shape[0]), range(cm.shape[1])):\n",
        "        plt.text(j, i, format(cm[i, j], fmt),\n",
        "                 horizontalalignment=\"center\",\n",
        "                 color=\"white\" if cm[i, j] > thresh else \"black\")\n",
        "\n",
        "    plt.tight_layout()\n",
        "    plt.ylabel('True label')\n",
        "    plt.xlabel('Predicted label')  "
      ],
      "execution_count": null,
      "outputs": []
    },
    {
      "cell_type": "code",
      "metadata": {
        "id": "xMypFBdp7k7E"
      },
      "source": [
        "# mapping_type = {'Center':0,'Donut':1,'Edge-Loc':2,'Edge-Ring':3,'Loc':4,'Random':5,'Scratch':6,'Near-full':7,'none':8}\n",
        "\n",
        "y_train_pred = simple.predict(x_train)\n",
        "y_test_pred = simple.predict(x_test)\n",
        "\n",
        "cnf_matrix = confusion_matrix(y_test, y_test_pred)\n",
        "np.set_printoptions(precision=2)\n",
        "\n",
        "fig = plt.figure(figsize=(15, 8)) \n",
        "gs = gridspec.GridSpec(1, 2, width_ratios=[1, 1]) \n",
        "\n",
        "plt.subplot(gs[0])\n",
        "plot_confusion_matrix(cnf_matrix, title='Confusion matrix')\n",
        "\n",
        "plt.subplot(gs[1])\n",
        "plot_confusion_matrix(cnf_matrix, normalize=True, title='Normalized confusion matrix')\n",
        "\n",
        "plt.show()"
      ],
      "execution_count": null,
      "outputs": []
    },
    {
      "cell_type": "code",
      "metadata": {
        "id": "CDvaF2RErske"
      },
      "source": [
        "# variational autoencoder\n",
        "batch_size = 100\n",
        "original_dim = 128*128\n",
        "latent_dim = 3\n",
        "epochs = 50\n",
        "epsilon_std = 1.0\n",
        "\n",
        "\n",
        "x = Input(shape=(original_dim,))\n",
        "h = Dense(128)(x)\n",
        "#h = BatchNormalization()(h)\n",
        "h = Activation('relu')(h)\n",
        "h = Dense(64)(h)\n",
        "#h = BatchNormalization()(h)\n",
        "h = Activation('relu')(h)\n",
        "h = Dense(32)(h)\n",
        "#h = BatchNormalization()(h)\n",
        "h = Activation('relu')(h)\n",
        "z_mean = Dense(latent_dim)(h)\n",
        "z_log_var = Dense(latent_dim)(h)\n",
        "def sampling(args):\n",
        "    z_mean, z_log_var = args\n",
        "    epsilon = K.random_normal(shape=(K.shape(z_mean)[0], latent_dim), mean=0., stddev=epsilon_std)\n",
        "    return z_mean + K.exp(z_log_var / 2) * epsilon\n",
        "\n",
        "z = Lambda(sampling, output_shape=(latent_dim,))([z_mean, z_log_var])\n",
        "\n",
        "decoder_h = Dense(32, activation='relu')\n",
        "decoder_h2 = Dense(64, activation='relu')\n",
        "decoder_h3 = Dense(128, activation='relu')\n",
        "decoder_mean = Dense(original_dim, activation='sigmoid')\n",
        "h_decoded = decoder_h(z)\n",
        "h_decoded = decoder_h2(h_decoded)\n",
        "h_decoded = decoder_h3(h_decoded)\n",
        "x_decoded_mean = decoder_mean(h_decoded)\n",
        "\n",
        "loss_log = []\n",
        "\n",
        "class CustomVariationalLayer(Layer):\n",
        "    def __init__(self, **kwargs):\n",
        "        self.is_placeholder = True\n",
        "        super(CustomVariationalLayer, self).__init__(**kwargs)\n",
        "\n",
        "    def vae_loss(self, x, x_decoded_mean):\n",
        "        xent_loss = original_dim * metrics.binary_crossentropy(x, x_decoded_mean)\n",
        "        kl_loss = - 0.5 * K.sum(1 + z_log_var - K.square(z_mean) - K.exp(z_log_var), axis=-1)\n",
        "        return K.mean(xent_loss + kl_loss)\n",
        "\n",
        "    def call(self, inputs):\n",
        "        x = inputs[0]\n",
        "        x_decoded_mean = inputs[1]\n",
        "        loss = self.vae_loss(x, x_decoded_mean)\n",
        "        self.add_loss(loss, inputs=inputs)\n",
        "        # We won't actually use the output.\n",
        "        return x\n",
        "\n",
        "y = CustomVariationalLayer()([x, x_decoded_mean])\n",
        "vae = Model(x, y)\n",
        "vae.compile(optimizer='rmsprop', loss=None)\n",
        "\n",
        "x_train = load_wafers('clean2_train')\n",
        "x_train = (x_train + 1) / 2\n",
        "#x_train = x_train.reshape(x_train.shape[0], 128, 128)\n",
        "x_train = x_train.reshape((len(x_train), np.prod(x_train.shape[1:])))"
      ],
      "execution_count": null,
      "outputs": []
    },
    {
      "cell_type": "code",
      "metadata": {
        "id": "YDno_JQ0rskf"
      },
      "source": [
        "vae.fit(x_train,\n",
        "        shuffle=True,\n",
        "        epochs=100,\n",
        "        batch_size=batch_size)"
      ],
      "execution_count": null,
      "outputs": []
    },
    {
      "cell_type": "code",
      "metadata": {
        "id": "TX2KIkwOHx4G"
      },
      "source": [
        "# VGG-16 (Simplified)\n",
        "ddef VGG16(include_top=True,  pooling=None, classes=9):\n",
        "\n",
        "    input_shape = (27, 27, 3)\n",
        "    input_tensor = Input(input_shape)\n",
        "    \n",
        "    # Block 1\n",
        "    x = layers.Conv2D(64, (3, 3),\n",
        "                      activation='relu',\n",
        "                      padding='same',\n",
        "                      name='block1_conv1')(input_tensor)\n",
        "    x = layers.Conv2D(64, (3, 3),\n",
        "                      activation='relu',\n",
        "                      padding='same',\n",
        "                      name='block1_conv2')(x)\n",
        "    x = layers.MaxPooling2D((2, 2), name='block1_pool')(x)\n",
        "\n",
        "    # Block 2\n",
        "    x = layers.Conv2D(128, (3, 3),\n",
        "                      activation='relu',\n",
        "                      padding='same',\n",
        "                      name='block2_conv1')(x)\n",
        "    x = layers.Conv2D(128, (3, 3),\n",
        "                      activation='relu',\n",
        "                      padding='same',\n",
        "                      name='block2_conv2')(x)\n",
        "    x = layers.MaxPooling2D((2, 2), name='block2_pool')(x)\n",
        "\n",
        "    # Block 3\n",
        "    x = layers.Conv2D(256, (3, 3),\n",
        "                      activation='relu',\n",
        "                      padding='same',\n",
        "                      name='block3_conv1')(x)\n",
        "    x = layers.Conv2D(256, (3, 3),\n",
        "                      activation='relu',\n",
        "                      padding='same',\n",
        "                      name='block3_conv2')(x)\n",
        "    x = layers.Conv2D(256, (3, 3),\n",
        "                      activation='relu',\n",
        "                      padding='same',\n",
        "                      name='block3_conv3')(x)\n",
        "    x = layers.MaxPooling2D((2, 2), name='block3_pool')(x)\n",
        "    \n",
        "    # Block 4\n",
        "    x = layers.Conv2D(512, (3, 3),\n",
        "                      activation='relu',\n",
        "                      padding='same',\n",
        "                      name='block4_conv1')(x)\n",
        "    x = layers.Conv2D(512, (3, 3),\n",
        "                      activation='relu',\n",
        "                      padding='same',\n",
        "                      name='block4_conv2')(x)\n",
        "    x = layers.Conv2D(512, (3, 3),\n",
        "                      activation='relu',\n",
        "                      padding='same',\n",
        "                      name='block4_conv3')(x)\n",
        "    x = layers.MaxPooling2D((2, 2), name='block4_pool')(x)\n",
        "\n",
        "    if include_top:\n",
        "        # Classification block\n",
        "        x = layers.Flatten(name='flatten')(x)\n",
        "        x = layers.Dense(1028, activation='relu', name='fc1')(x)\n",
        "        x = layers.Dense(1028, activation='relu', name='fc2')(x)\n",
        "        x = layers.Dense(classes, activation='softmax', name='predictions')(x)\n",
        "    else:\n",
        "        if pooling == 'avg':\n",
        "            x = layers.GlobalAveragePooling2D()(x)\n",
        "        elif pooling == 'max':\n",
        "            x = layers.GlobalMaxPooling2D()(x)\n",
        "\n",
        "    # Create model.\n",
        "    model = models.Model(input_tensor, x, name='vgg16') \n",
        "\n",
        "    return model"
      ],
      "execution_count": null,
      "outputs": []
    },
    {
      "cell_type": "code",
      "metadata": {
        "id": "sCqP8fsDHx7c"
      },
      "source": [
        "VGG_model = VGG16(include_top=True,  pooling=None, classes=9)\n",
        "W0_model.summary()\n",
        "VGG_model.compile(optimizer= optimizers.Adam(learning_rate=0.001), loss='categorical_crossentropy', metrics=['accuracy'])\n",
        "VGG_Hist = VGG_model.fit(nsx_train, y_train, epochs=50, validation_data=[nx_test, y_test], batch_size=900, shuffle=True)"
      ],
      "execution_count": null,
      "outputs": []
    },
    {
      "cell_type": "code",
      "metadata": {
        "id": "fvs9GszdIhFu"
      },
      "source": [
        "# ResNet50\n",
        "from keras.layers import Input, Add, Dense, Activation, ZeroPadding2D, BatchNormalization, Flatten, Conv2D, AveragePooling2D, MaxPooling2D, GlobalMaxPooling2D\n",
        "from keras.initializers import glorot_uniform\n",
        "\n",
        "def identity_block(X, f, filters, stage, block):\n",
        "    \n",
        "    # defining name basis\n",
        "    conv_name_base = 'res' + str(stage) + block + '_branch'\n",
        "    bn_name_base = 'bn' + str(stage) + block + '_branch'\n",
        "    \n",
        "    # Retrieve Filters\n",
        "    F1, F2, F3 = filters\n",
        "    \n",
        "    # Save the input value. You'll need this later to add back to the main path. \n",
        "    X_shortcut = X\n",
        "    \n",
        "    # First component of main path\n",
        "    X = Conv2D(filters = F1, kernel_size = (1, 1), strides = (1,1), padding = 'valid', name = conv_name_base + '2a', kernel_initializer = glorot_uniform(seed=0))(X)\n",
        "    X = BatchNormalization(axis = 3, name = bn_name_base + '2a')(X)\n",
        "    X = Activation('relu')(X)\n",
        "    \n",
        "    ### START CODE HERE ###\n",
        "    \n",
        "    # Second component of main path (≈3 lines)\n",
        "    X = Conv2D(filters = F2, kernel_size = (f,f), strides = (1,1), padding = 'same', name = conv_name_base + '2b', kernel_initializer = glorot_uniform(seed=0))(X)\n",
        "    X = BatchNormalization(axis = 3, name = bn_name_base + '2b')(X)\n",
        "    X = Activation('relu')(X)\n",
        "\n",
        "    # Third component of main path (≈2 lines)\n",
        "    X = Conv2D(filters = F3, kernel_size = (1,1), strides = (1,1), padding = 'valid', name = conv_name_base + '2c', kernel_initializer = glorot_uniform(seed=0))(X)\n",
        "    X = BatchNormalization(axis = 3, name = bn_name_base + '2c')(X)\n",
        "\n",
        "    # Final step: Add shortcut value to main path, and pass it through a RELU activation (≈2 lines)\n",
        "    X = Add()([X, X_shortcut])\n",
        "    X = Activation('relu')(X)\n",
        "    \n",
        "    return X\n",
        "\n",
        "\n",
        "def convolutional_block(X, f, filters, stage, block, s = 2):\n",
        "   \n",
        "    # defining name basis\n",
        "    conv_name_base = 'res' + str(stage) + block + '_branch'\n",
        "    bn_name_base = 'bn' + str(stage) + block + '_branch'\n",
        "    \n",
        "    # Retrieve Filters\n",
        "    F1, F2, F3 = filters\n",
        "    \n",
        "    # Save the input value\n",
        "    X_shortcut = X\n",
        "\n",
        "\n",
        "    ##### MAIN PATH #####\n",
        "    # First component of main path \n",
        "    X = Conv2D(F1, (1, 1), strides = (s,s), padding = 'valid', name = conv_name_base + '2a', kernel_initializer = glorot_uniform(seed=0))(X)\n",
        "    X = BatchNormalization(axis = 3, name = bn_name_base + '2a')(X)\n",
        "    X = Activation('relu')(X)\n",
        "    \n",
        "    ### START CODE HERE ###\n",
        "\n",
        "    # Second component of main path (≈3 lines)\n",
        "    X = Conv2D(F2, (f, f), strides = (1,1), padding = 'same', name = conv_name_base + '2b', kernel_initializer = glorot_uniform(seed=0))(X)\n",
        "    X = BatchNormalization(axis = 3, name = bn_name_base + '2b')(X)\n",
        "    X = Activation('relu')(X)\n",
        "\n",
        "    # Third component of main path (≈2 lines)\n",
        "    X = Conv2D(F3, (1, 1), strides = (1,1), padding = 'valid', name = conv_name_base + '2c', kernel_initializer = glorot_uniform(seed=0))(X)\n",
        "    X = BatchNormalization(axis = 3, name = bn_name_base + '2c')(X)\n",
        "\n",
        "    ##### SHORTCUT PATH #### (≈2 lines)\n",
        "    X_shortcut = Conv2D(F3, (1, 1), strides = (s,s), padding = 'valid', name = conv_name_base + '1', kernel_initializer = glorot_uniform(seed=0))(X_shortcut)\n",
        "    X_shortcut = BatchNormalization(axis = 3, name = bn_name_base + '1')(X_shortcut)\n",
        "\n",
        "    # Final step: Add shortcut value to main path, and pass it through a RELU activation (≈2 lines)\n",
        "    X = Add()([X, X_shortcut])\n",
        "    X = Activation('relu')(X)\n",
        "    \n",
        "    return X\n",
        "\n",
        "def ResNet50(input_shape = (27, 27, 3), classes = 9):\n",
        "    \n",
        "    # Define the input as a tensor with shape input_shape\n",
        "    X_input = Input(input_shape)\n",
        "\n",
        "    \n",
        "    # Zero-Padding\n",
        "    X = ZeroPadding2D((1, 1))(X_input)\n",
        "    \n",
        "    # Stage 1\n",
        "    X = Conv2D(64, (3, 3), name = 'conv1', kernel_initializer = glorot_uniform(seed=0))(X)\n",
        "    X = BatchNormalization(axis = 3, name = 'bn_conv1')(X)\n",
        "    X = Activation('relu')(X)\n",
        "    X = MaxPooling2D((2, 2))(X)\n",
        "\n",
        "    # Stage 2\n",
        "    X = convolutional_block(X, f = 3, filters = [32,32,128], stage = 2, block='a', s = 1)\n",
        "    X = identity_block(X, 3, [32,32,128], stage=2, block='b')\n",
        "    X = identity_block(X, 3, [32,32,128], stage=2, block='c')\n",
        "\n",
        "    # Stage 3 (≈4 lines)\n",
        "    X = convolutional_block(X, f = 3, filters = [64,64,256], stage = 3, block='a', s = 2)\n",
        "    X = identity_block(X, 3, [64,64,256], stage=3, block='b')\n",
        "    X = identity_block(X, 3, [64,64,256], stage=3, block='c')\n",
        "    X = identity_block(X, 3, [64,64,256], stage=3, block='d')\n",
        "\n",
        "       # Stage 4 (≈6 lines)\n",
        "    X = convolutional_block(X, f = 3, filters = [128,128,512], stage = 4, block='a', s = 2)\n",
        "    X = identity_block(X, 3, [128,128,512], stage=4, block='b')\n",
        "    X = identity_block(X, 3, [128,128,512], stage=4, block='c')\n",
        "    X = identity_block(X, 3, [128,128,512], stage=4, block='d')\n",
        "    X = identity_block(X, 3, [128,128,512], stage=4, block='e')\n",
        "    X = identity_block(X, 3, [128,128,512], stage=4, block='f')\n",
        "\n",
        "    # Stage 5 (≈3 lines)\n",
        "    X = convolutional_block(X, f = 3, filters = [256, 256, 1024], stage = 5, block='a', s = 2)\n",
        "    X = identity_block(X, 3, [256, 256, 1024], stage=5, block='b')\n",
        "    X = identity_block(X, 3, [256, 256, 1024], stage=5, block='c')\n",
        "\n",
        "    # AVGPOOL (≈1 line). Use \"X = AveragePooling2D(...)(X)\"\n",
        "    X = AveragePooling2D(pool_size=(2,2), name = \"avg_pool\")(X)\n",
        "\n",
        "    # output layer\n",
        "    X = Flatten()(X)\n",
        "    X = Dense(classes, activation='softmax', name='fc' + str(classes), kernel_initializer = glorot_uniform(seed=0))(X)\n",
        "    \n",
        "    \n",
        "    # Create model\n",
        "    model = models.Model(inputs = X_input, outputs = X, name='ResNet50')\n",
        "\n",
        "    return model"
      ],
      "execution_count": null,
      "outputs": []
    },
    {
      "cell_type": "code",
      "metadata": {
        "id": "-4awfCsiI8Iw"
      },
      "source": [
        "Rmodel0 = ResNet50(input_shape = (27, 27, 3), classes = 9)\n",
        "Rmodel0.compile(optimizer= optimizers.Adam(learning_rate=0.001), loss='categorical_crossentropy', metrics=['accuracy'])\n",
        "Resnet_hist = Rmodel0.fit(nsx_train, y_train, epochs=30, validation_data=[nx_test, y_test], batch_size = 700, shuffle=True)"
      ],
      "execution_count": null,
      "outputs": []
    },
    {
      "cell_type": "code",
      "metadata": {
        "id": "N5yURLFPJDXS"
      },
      "source": [
        ""
      ],
      "execution_count": null,
      "outputs": []
    }
  ]
}