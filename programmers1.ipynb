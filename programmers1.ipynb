{
 "cells": [
  {
   "cell_type": "code",
   "execution_count": 5,
   "metadata": {},
   "outputs": [
    {
     "data": {
      "text/plain": [
       "[0, 0, 0]"
      ]
     },
     "execution_count": 5,
     "metadata": {},
     "output_type": "execute_result"
    }
   ],
   "source": [
    "def solution(answers):\n",
    "    score = [0,0,0]\n",
    "    A = [1,2,3,4,5]  \n",
    "    b = [2,1,2,3,2,4,2,5] \n",
    "    c = [3,3,1,1,2,2,4,4,5,5] \n",
    "\n",
    "    for i, ans in enumerate(answers):\n",
    "        if ans == A[i%len(A)]:\n",
    "            score[0] += 1\n",
    "        if ans == b[i%len(b)]:\n",
    "            score[1] += 1\n",
    "        if ans == c[i%len(c)]:\n",
    "            score[2] += 1\n",
    "    return [i+1 for i, win in enumerate(score) if win == max(score)]"
   ]
  }
 ],
 "metadata": {
  "kernelspec": {
   "display_name": "Python 3",
   "language": "python",
   "name": "python3"
  },
  "language_info": {
   "codemirror_mode": {
    "name": "ipython",
    "version": 3
   },
   "file_extension": ".py",
   "mimetype": "text/x-python",
   "name": "python",
   "nbconvert_exporter": "python",
   "pygments_lexer": "ipython3",
   "version": "3.8.5"
  }
 },
 "nbformat": 4,
 "nbformat_minor": 4
}
